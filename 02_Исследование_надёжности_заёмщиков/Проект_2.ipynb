{
 "cells": [
  {
   "cell_type": "markdown",
   "id": "386f2ae7",
   "metadata": {
    "deletable": false,
    "editable": false,
    "id": "386f2ae7"
   },
   "source": [
    "# Исследование надежности заемщиков\n"
   ]
  },
  {
   "cell_type": "markdown",
   "id": "b7df02a6",
   "metadata": {},
   "source": [
    "## Цель исследования: \n",
    "Исследовать предоставленные банком данные и ответить на вопросы о зависимости между различныи факторами (количество детей, семейное положение, уровень дохода, цели кредита) и возвратом кредита в срок."
   ]
  },
  {
   "cell_type": "markdown",
   "id": "021016ac",
   "metadata": {},
   "source": [
    "## Описание проекта:\n",
    "Заказчик — кредитный отдел банка. Нужно разобраться, влияет ли семейное положение и количество детей клиента на факт погашения кредита в срок. Результаты исследования будут учтены при построении модели кредитного скоринга — специальной системы, которая оценивает способность потенциального заёмщика вернуть кредит банку."
   ]
  },
  {
   "cell_type": "markdown",
   "id": "80a34f5f",
   "metadata": {},
   "source": [
    "## Описание данных: \n",
    "Таблица с данными от банка содержит в себе статистику о платёжеспособности клиентов. \n",
    "- children — количество детей в семье \n",
    "- days_employed — общий трудовой стаж в днях \n",
    "- dob_years — возраст клиента в годах \n",
    "- education — уровень образования клиента \n",
    "- education_id — идентификатор уровня образования \n",
    "- family_status — семейное положение \n",
    "- family_status_id — идентификатор семейного положения \n",
    "- gender — пол клиента \n",
    "- income_type — тип занятости \n",
    "- debt — имел ли задолженность по возврату кредитов \n",
    "- total_income — ежемесячный доход purpose — цель получения креди"
   ]
  },
  {
   "cell_type": "markdown",
   "id": "3c4f8d57",
   "metadata": {},
   "source": [
    "## План работы:\n",
    "- Ознакомиться с предоставленными данными\n",
    "- Провести предобработку данных (избавиться от пропусков, дубликатов и ошибок в данных)\n",
    "- Провести исследовательский анализ данных (категоризировать данные, построить сводные таблицы)\n",
    "- Сформулировать выводы о проделанной работе"
   ]
  },
  {
   "cell_type": "markdown",
   "id": "ffe86f65",
   "metadata": {
    "deletable": false,
    "editable": false,
    "id": "ffe86f65"
   },
   "source": [
    "Во второй части проекта вы выполните шаги 3 и 4. Их вручную проверит ревьюер.\n",
    "Чтобы вам не пришлось писать код заново для шагов 1 и 2, мы добавили авторские решения в ячейки с кодом. \n",
    "\n"
   ]
  },
  {
   "cell_type": "markdown",
   "id": "26613308",
   "metadata": {
    "deletable": false,
    "editable": false,
    "id": "26613308"
   },
   "source": [
    "## Откройте таблицу и изучите общую информацию о данных"
   ]
  },
  {
   "cell_type": "markdown",
   "id": "3c9f838e",
   "metadata": {
    "deletable": false,
    "editable": false,
    "id": "3c9f838e"
   },
   "source": [
    "**Задание 1. Импортируйте библиотеку pandas. Считайте данные из csv-файла в датафрейм и сохраните в переменную `data`. Путь к файлу:**\n",
    "\n",
    "`/datasets/data.csv`"
   ]
  },
  {
   "cell_type": "code",
   "execution_count": 21,
   "id": "77a68a90",
   "metadata": {
    "deletable": false,
    "id": "77a68a90"
   },
   "outputs": [],
   "source": [
    "import pandas as pd"
   ]
  },
  {
   "cell_type": "code",
   "execution_count": 22,
   "id": "f5127167",
   "metadata": {},
   "outputs": [],
   "source": [
    "try:\n",
    "    data = pd.read_csv('/datasets/data.csv')\n",
    "except:\n",
    "    data = pd.read_csv('https://code.s3.yandex.net/datasets/data.csv')"
   ]
  },
  {
   "cell_type": "markdown",
   "id": "45365635",
   "metadata": {
    "deletable": false,
    "editable": false,
    "id": "45365635"
   },
   "source": [
    "**Задание 2. Выведите первые 20 строчек датафрейма `data` на экран.**"
   ]
  },
  {
   "cell_type": "code",
   "execution_count": 23,
   "id": "b0451a9a",
   "metadata": {
    "deletable": false,
    "id": "b0451a9a",
    "outputId": "1a8f3ef2-d323-4ec2-ddf7-89670b5944c4"
   },
   "outputs": [
    {
     "data": {
      "text/html": [
       "<div>\n",
       "<style scoped>\n",
       "    .dataframe tbody tr th:only-of-type {\n",
       "        vertical-align: middle;\n",
       "    }\n",
       "\n",
       "    .dataframe tbody tr th {\n",
       "        vertical-align: top;\n",
       "    }\n",
       "\n",
       "    .dataframe thead th {\n",
       "        text-align: right;\n",
       "    }\n",
       "</style>\n",
       "<table border=\"1\" class=\"dataframe\">\n",
       "  <thead>\n",
       "    <tr style=\"text-align: right;\">\n",
       "      <th></th>\n",
       "      <th>children</th>\n",
       "      <th>days_employed</th>\n",
       "      <th>dob_years</th>\n",
       "      <th>education</th>\n",
       "      <th>education_id</th>\n",
       "      <th>family_status</th>\n",
       "      <th>family_status_id</th>\n",
       "      <th>gender</th>\n",
       "      <th>income_type</th>\n",
       "      <th>debt</th>\n",
       "      <th>total_income</th>\n",
       "      <th>purpose</th>\n",
       "    </tr>\n",
       "  </thead>\n",
       "  <tbody>\n",
       "    <tr>\n",
       "      <th>0</th>\n",
       "      <td>1</td>\n",
       "      <td>-8437.673028</td>\n",
       "      <td>42</td>\n",
       "      <td>высшее</td>\n",
       "      <td>0</td>\n",
       "      <td>женат / замужем</td>\n",
       "      <td>0</td>\n",
       "      <td>F</td>\n",
       "      <td>сотрудник</td>\n",
       "      <td>0</td>\n",
       "      <td>253875.639453</td>\n",
       "      <td>покупка жилья</td>\n",
       "    </tr>\n",
       "    <tr>\n",
       "      <th>1</th>\n",
       "      <td>1</td>\n",
       "      <td>-4024.803754</td>\n",
       "      <td>36</td>\n",
       "      <td>среднее</td>\n",
       "      <td>1</td>\n",
       "      <td>женат / замужем</td>\n",
       "      <td>0</td>\n",
       "      <td>F</td>\n",
       "      <td>сотрудник</td>\n",
       "      <td>0</td>\n",
       "      <td>112080.014102</td>\n",
       "      <td>приобретение автомобиля</td>\n",
       "    </tr>\n",
       "    <tr>\n",
       "      <th>2</th>\n",
       "      <td>0</td>\n",
       "      <td>-5623.422610</td>\n",
       "      <td>33</td>\n",
       "      <td>Среднее</td>\n",
       "      <td>1</td>\n",
       "      <td>женат / замужем</td>\n",
       "      <td>0</td>\n",
       "      <td>M</td>\n",
       "      <td>сотрудник</td>\n",
       "      <td>0</td>\n",
       "      <td>145885.952297</td>\n",
       "      <td>покупка жилья</td>\n",
       "    </tr>\n",
       "    <tr>\n",
       "      <th>3</th>\n",
       "      <td>3</td>\n",
       "      <td>-4124.747207</td>\n",
       "      <td>32</td>\n",
       "      <td>среднее</td>\n",
       "      <td>1</td>\n",
       "      <td>женат / замужем</td>\n",
       "      <td>0</td>\n",
       "      <td>M</td>\n",
       "      <td>сотрудник</td>\n",
       "      <td>0</td>\n",
       "      <td>267628.550329</td>\n",
       "      <td>дополнительное образование</td>\n",
       "    </tr>\n",
       "    <tr>\n",
       "      <th>4</th>\n",
       "      <td>0</td>\n",
       "      <td>340266.072047</td>\n",
       "      <td>53</td>\n",
       "      <td>среднее</td>\n",
       "      <td>1</td>\n",
       "      <td>гражданский брак</td>\n",
       "      <td>1</td>\n",
       "      <td>F</td>\n",
       "      <td>пенсионер</td>\n",
       "      <td>0</td>\n",
       "      <td>158616.077870</td>\n",
       "      <td>сыграть свадьбу</td>\n",
       "    </tr>\n",
       "    <tr>\n",
       "      <th>5</th>\n",
       "      <td>0</td>\n",
       "      <td>-926.185831</td>\n",
       "      <td>27</td>\n",
       "      <td>высшее</td>\n",
       "      <td>0</td>\n",
       "      <td>гражданский брак</td>\n",
       "      <td>1</td>\n",
       "      <td>M</td>\n",
       "      <td>компаньон</td>\n",
       "      <td>0</td>\n",
       "      <td>255763.565419</td>\n",
       "      <td>покупка жилья</td>\n",
       "    </tr>\n",
       "    <tr>\n",
       "      <th>6</th>\n",
       "      <td>0</td>\n",
       "      <td>-2879.202052</td>\n",
       "      <td>43</td>\n",
       "      <td>высшее</td>\n",
       "      <td>0</td>\n",
       "      <td>женат / замужем</td>\n",
       "      <td>0</td>\n",
       "      <td>F</td>\n",
       "      <td>компаньон</td>\n",
       "      <td>0</td>\n",
       "      <td>240525.971920</td>\n",
       "      <td>операции с жильем</td>\n",
       "    </tr>\n",
       "    <tr>\n",
       "      <th>7</th>\n",
       "      <td>0</td>\n",
       "      <td>-152.779569</td>\n",
       "      <td>50</td>\n",
       "      <td>СРЕДНЕЕ</td>\n",
       "      <td>1</td>\n",
       "      <td>женат / замужем</td>\n",
       "      <td>0</td>\n",
       "      <td>M</td>\n",
       "      <td>сотрудник</td>\n",
       "      <td>0</td>\n",
       "      <td>135823.934197</td>\n",
       "      <td>образование</td>\n",
       "    </tr>\n",
       "    <tr>\n",
       "      <th>8</th>\n",
       "      <td>2</td>\n",
       "      <td>-6929.865299</td>\n",
       "      <td>35</td>\n",
       "      <td>ВЫСШЕЕ</td>\n",
       "      <td>0</td>\n",
       "      <td>гражданский брак</td>\n",
       "      <td>1</td>\n",
       "      <td>F</td>\n",
       "      <td>сотрудник</td>\n",
       "      <td>0</td>\n",
       "      <td>95856.832424</td>\n",
       "      <td>на проведение свадьбы</td>\n",
       "    </tr>\n",
       "    <tr>\n",
       "      <th>9</th>\n",
       "      <td>0</td>\n",
       "      <td>-2188.756445</td>\n",
       "      <td>41</td>\n",
       "      <td>среднее</td>\n",
       "      <td>1</td>\n",
       "      <td>женат / замужем</td>\n",
       "      <td>0</td>\n",
       "      <td>M</td>\n",
       "      <td>сотрудник</td>\n",
       "      <td>0</td>\n",
       "      <td>144425.938277</td>\n",
       "      <td>покупка жилья для семьи</td>\n",
       "    </tr>\n",
       "    <tr>\n",
       "      <th>10</th>\n",
       "      <td>2</td>\n",
       "      <td>-4171.483647</td>\n",
       "      <td>36</td>\n",
       "      <td>высшее</td>\n",
       "      <td>0</td>\n",
       "      <td>женат / замужем</td>\n",
       "      <td>0</td>\n",
       "      <td>M</td>\n",
       "      <td>компаньон</td>\n",
       "      <td>0</td>\n",
       "      <td>113943.491460</td>\n",
       "      <td>покупка недвижимости</td>\n",
       "    </tr>\n",
       "    <tr>\n",
       "      <th>11</th>\n",
       "      <td>0</td>\n",
       "      <td>-792.701887</td>\n",
       "      <td>40</td>\n",
       "      <td>среднее</td>\n",
       "      <td>1</td>\n",
       "      <td>женат / замужем</td>\n",
       "      <td>0</td>\n",
       "      <td>F</td>\n",
       "      <td>сотрудник</td>\n",
       "      <td>0</td>\n",
       "      <td>77069.234271</td>\n",
       "      <td>покупка коммерческой недвижимости</td>\n",
       "    </tr>\n",
       "    <tr>\n",
       "      <th>12</th>\n",
       "      <td>0</td>\n",
       "      <td>NaN</td>\n",
       "      <td>65</td>\n",
       "      <td>среднее</td>\n",
       "      <td>1</td>\n",
       "      <td>гражданский брак</td>\n",
       "      <td>1</td>\n",
       "      <td>M</td>\n",
       "      <td>пенсионер</td>\n",
       "      <td>0</td>\n",
       "      <td>NaN</td>\n",
       "      <td>сыграть свадьбу</td>\n",
       "    </tr>\n",
       "    <tr>\n",
       "      <th>13</th>\n",
       "      <td>0</td>\n",
       "      <td>-1846.641941</td>\n",
       "      <td>54</td>\n",
       "      <td>неоконченное высшее</td>\n",
       "      <td>2</td>\n",
       "      <td>женат / замужем</td>\n",
       "      <td>0</td>\n",
       "      <td>F</td>\n",
       "      <td>сотрудник</td>\n",
       "      <td>0</td>\n",
       "      <td>130458.228857</td>\n",
       "      <td>приобретение автомобиля</td>\n",
       "    </tr>\n",
       "    <tr>\n",
       "      <th>14</th>\n",
       "      <td>0</td>\n",
       "      <td>-1844.956182</td>\n",
       "      <td>56</td>\n",
       "      <td>высшее</td>\n",
       "      <td>0</td>\n",
       "      <td>гражданский брак</td>\n",
       "      <td>1</td>\n",
       "      <td>F</td>\n",
       "      <td>компаньон</td>\n",
       "      <td>1</td>\n",
       "      <td>165127.911772</td>\n",
       "      <td>покупка жилой недвижимости</td>\n",
       "    </tr>\n",
       "    <tr>\n",
       "      <th>15</th>\n",
       "      <td>1</td>\n",
       "      <td>-972.364419</td>\n",
       "      <td>26</td>\n",
       "      <td>среднее</td>\n",
       "      <td>1</td>\n",
       "      <td>женат / замужем</td>\n",
       "      <td>0</td>\n",
       "      <td>F</td>\n",
       "      <td>сотрудник</td>\n",
       "      <td>0</td>\n",
       "      <td>116820.904450</td>\n",
       "      <td>строительство собственной недвижимости</td>\n",
       "    </tr>\n",
       "    <tr>\n",
       "      <th>16</th>\n",
       "      <td>0</td>\n",
       "      <td>-1719.934226</td>\n",
       "      <td>35</td>\n",
       "      <td>среднее</td>\n",
       "      <td>1</td>\n",
       "      <td>женат / замужем</td>\n",
       "      <td>0</td>\n",
       "      <td>F</td>\n",
       "      <td>сотрудник</td>\n",
       "      <td>0</td>\n",
       "      <td>289202.704229</td>\n",
       "      <td>недвижимость</td>\n",
       "    </tr>\n",
       "    <tr>\n",
       "      <th>17</th>\n",
       "      <td>0</td>\n",
       "      <td>-2369.999720</td>\n",
       "      <td>33</td>\n",
       "      <td>высшее</td>\n",
       "      <td>0</td>\n",
       "      <td>гражданский брак</td>\n",
       "      <td>1</td>\n",
       "      <td>M</td>\n",
       "      <td>сотрудник</td>\n",
       "      <td>0</td>\n",
       "      <td>90410.586745</td>\n",
       "      <td>строительство недвижимости</td>\n",
       "    </tr>\n",
       "    <tr>\n",
       "      <th>18</th>\n",
       "      <td>0</td>\n",
       "      <td>400281.136913</td>\n",
       "      <td>53</td>\n",
       "      <td>среднее</td>\n",
       "      <td>1</td>\n",
       "      <td>вдовец / вдова</td>\n",
       "      <td>2</td>\n",
       "      <td>F</td>\n",
       "      <td>пенсионер</td>\n",
       "      <td>0</td>\n",
       "      <td>56823.777243</td>\n",
       "      <td>на покупку подержанного автомобиля</td>\n",
       "    </tr>\n",
       "    <tr>\n",
       "      <th>19</th>\n",
       "      <td>0</td>\n",
       "      <td>-10038.818549</td>\n",
       "      <td>48</td>\n",
       "      <td>СРЕДНЕЕ</td>\n",
       "      <td>1</td>\n",
       "      <td>в разводе</td>\n",
       "      <td>3</td>\n",
       "      <td>F</td>\n",
       "      <td>сотрудник</td>\n",
       "      <td>0</td>\n",
       "      <td>242831.107982</td>\n",
       "      <td>на покупку своего автомобиля</td>\n",
       "    </tr>\n",
       "  </tbody>\n",
       "</table>\n",
       "</div>"
      ],
      "text/plain": [
       "    children  days_employed  dob_years            education  education_id  \\\n",
       "0          1   -8437.673028         42               высшее             0   \n",
       "1          1   -4024.803754         36              среднее             1   \n",
       "2          0   -5623.422610         33              Среднее             1   \n",
       "3          3   -4124.747207         32              среднее             1   \n",
       "4          0  340266.072047         53              среднее             1   \n",
       "5          0    -926.185831         27               высшее             0   \n",
       "6          0   -2879.202052         43               высшее             0   \n",
       "7          0    -152.779569         50              СРЕДНЕЕ             1   \n",
       "8          2   -6929.865299         35               ВЫСШЕЕ             0   \n",
       "9          0   -2188.756445         41              среднее             1   \n",
       "10         2   -4171.483647         36               высшее             0   \n",
       "11         0    -792.701887         40              среднее             1   \n",
       "12         0            NaN         65              среднее             1   \n",
       "13         0   -1846.641941         54  неоконченное высшее             2   \n",
       "14         0   -1844.956182         56               высшее             0   \n",
       "15         1    -972.364419         26              среднее             1   \n",
       "16         0   -1719.934226         35              среднее             1   \n",
       "17         0   -2369.999720         33               высшее             0   \n",
       "18         0  400281.136913         53              среднее             1   \n",
       "19         0  -10038.818549         48              СРЕДНЕЕ             1   \n",
       "\n",
       "       family_status  family_status_id gender income_type  debt  \\\n",
       "0    женат / замужем                 0      F   сотрудник     0   \n",
       "1    женат / замужем                 0      F   сотрудник     0   \n",
       "2    женат / замужем                 0      M   сотрудник     0   \n",
       "3    женат / замужем                 0      M   сотрудник     0   \n",
       "4   гражданский брак                 1      F   пенсионер     0   \n",
       "5   гражданский брак                 1      M   компаньон     0   \n",
       "6    женат / замужем                 0      F   компаньон     0   \n",
       "7    женат / замужем                 0      M   сотрудник     0   \n",
       "8   гражданский брак                 1      F   сотрудник     0   \n",
       "9    женат / замужем                 0      M   сотрудник     0   \n",
       "10   женат / замужем                 0      M   компаньон     0   \n",
       "11   женат / замужем                 0      F   сотрудник     0   \n",
       "12  гражданский брак                 1      M   пенсионер     0   \n",
       "13   женат / замужем                 0      F   сотрудник     0   \n",
       "14  гражданский брак                 1      F   компаньон     1   \n",
       "15   женат / замужем                 0      F   сотрудник     0   \n",
       "16   женат / замужем                 0      F   сотрудник     0   \n",
       "17  гражданский брак                 1      M   сотрудник     0   \n",
       "18    вдовец / вдова                 2      F   пенсионер     0   \n",
       "19         в разводе                 3      F   сотрудник     0   \n",
       "\n",
       "     total_income                                 purpose  \n",
       "0   253875.639453                           покупка жилья  \n",
       "1   112080.014102                 приобретение автомобиля  \n",
       "2   145885.952297                           покупка жилья  \n",
       "3   267628.550329              дополнительное образование  \n",
       "4   158616.077870                         сыграть свадьбу  \n",
       "5   255763.565419                           покупка жилья  \n",
       "6   240525.971920                       операции с жильем  \n",
       "7   135823.934197                             образование  \n",
       "8    95856.832424                   на проведение свадьбы  \n",
       "9   144425.938277                 покупка жилья для семьи  \n",
       "10  113943.491460                    покупка недвижимости  \n",
       "11   77069.234271       покупка коммерческой недвижимости  \n",
       "12            NaN                         сыграть свадьбу  \n",
       "13  130458.228857                 приобретение автомобиля  \n",
       "14  165127.911772              покупка жилой недвижимости  \n",
       "15  116820.904450  строительство собственной недвижимости  \n",
       "16  289202.704229                            недвижимость  \n",
       "17   90410.586745              строительство недвижимости  \n",
       "18   56823.777243      на покупку подержанного автомобиля  \n",
       "19  242831.107982            на покупку своего автомобиля  "
      ]
     },
     "execution_count": 23,
     "metadata": {},
     "output_type": "execute_result"
    }
   ],
   "source": [
    "data.head(20)"
   ]
  },
  {
   "cell_type": "markdown",
   "id": "0ed8f27f",
   "metadata": {
    "deletable": false,
    "editable": false,
    "id": "0ed8f27f"
   },
   "source": [
    "**Задание 3. Выведите основную информацию о датафрейме с помощью метода `info()`.**"
   ]
  },
  {
   "cell_type": "code",
   "execution_count": 24,
   "id": "ab3f863b",
   "metadata": {
    "deletable": false,
    "id": "ab3f863b",
    "outputId": "15376089-8dad-46c9-b520-c05248d43158"
   },
   "outputs": [
    {
     "name": "stdout",
     "output_type": "stream",
     "text": [
      "<class 'pandas.core.frame.DataFrame'>\n",
      "RangeIndex: 21525 entries, 0 to 21524\n",
      "Data columns (total 12 columns):\n",
      " #   Column            Non-Null Count  Dtype  \n",
      "---  ------            --------------  -----  \n",
      " 0   children          21525 non-null  int64  \n",
      " 1   days_employed     19351 non-null  float64\n",
      " 2   dob_years         21525 non-null  int64  \n",
      " 3   education         21525 non-null  object \n",
      " 4   education_id      21525 non-null  int64  \n",
      " 5   family_status     21525 non-null  object \n",
      " 6   family_status_id  21525 non-null  int64  \n",
      " 7   gender            21525 non-null  object \n",
      " 8   income_type       21525 non-null  object \n",
      " 9   debt              21525 non-null  int64  \n",
      " 10  total_income      19351 non-null  float64\n",
      " 11  purpose           21525 non-null  object \n",
      "dtypes: float64(2), int64(5), object(5)\n",
      "memory usage: 2.0+ MB\n"
     ]
    }
   ],
   "source": [
    "data.info()"
   ]
  },
  {
   "cell_type": "markdown",
   "id": "60e3e22d",
   "metadata": {
    "deletable": false,
    "editable": false,
    "id": "60e3e22d"
   },
   "source": [
    "## Предобработка данных"
   ]
  },
  {
   "cell_type": "markdown",
   "id": "03dc170c",
   "metadata": {
    "deletable": false,
    "editable": false,
    "id": "03dc170c"
   },
   "source": [
    "### Удаление пропусков"
   ]
  },
  {
   "cell_type": "markdown",
   "id": "a4f54eef",
   "metadata": {
    "deletable": false,
    "editable": false,
    "id": "a4f54eef"
   },
   "source": [
    "**Задание 4. Выведите количество пропущенных значений для каждого столбца. Используйте комбинацию двух методов.**"
   ]
  },
  {
   "cell_type": "code",
   "execution_count": 25,
   "id": "2dc372b2",
   "metadata": {
    "deletable": false,
    "id": "2dc372b2",
    "outputId": "81f4d817-781c-465c-ed15-91ce4446810d"
   },
   "outputs": [
    {
     "data": {
      "text/plain": [
       "children               0\n",
       "days_employed       2174\n",
       "dob_years              0\n",
       "education              0\n",
       "education_id           0\n",
       "family_status          0\n",
       "family_status_id       0\n",
       "gender                 0\n",
       "income_type            0\n",
       "debt                   0\n",
       "total_income        2174\n",
       "purpose                0\n",
       "dtype: int64"
      ]
     },
     "execution_count": 25,
     "metadata": {},
     "output_type": "execute_result"
    }
   ],
   "source": [
    "data.isna().sum()"
   ]
  },
  {
   "cell_type": "markdown",
   "id": "14f011b1",
   "metadata": {
    "deletable": false,
    "editable": false,
    "id": "14f011b1"
   },
   "source": [
    "**Задание 5. В двух столбцах есть пропущенные значения. Один из них — `days_employed`. Пропуски в этом столбце вы обработаете на следующем этапе. Другой столбец с пропущенными значениями — `total_income` — хранит данные о доходах. На сумму дохода сильнее всего влияет тип занятости, поэтому заполнить пропуски в этом столбце нужно медианным значением по каждому типу из столбца `income_type`. Например, у человека с типом занятости `сотрудник` пропуск в столбце `total_income` должен быть заполнен медианным доходом среди всех записей с тем же типом.**"
   ]
  },
  {
   "cell_type": "code",
   "execution_count": 26,
   "id": "bdabfb6e",
   "metadata": {
    "deletable": false,
    "id": "bdabfb6e"
   },
   "outputs": [],
   "source": [
    "for t in data['income_type'].unique():\n",
    "    data.loc[(data['income_type'] == t) & (data['total_income'].isna()), 'total_income'] = \\\n",
    "    data.loc[(data['income_type'] == t), 'total_income'].median()"
   ]
  },
  {
   "cell_type": "markdown",
   "id": "5be34059",
   "metadata": {
    "deletable": false,
    "editable": false,
    "id": "5be34059"
   },
   "source": [
    "### Обработка аномальных значений"
   ]
  },
  {
   "cell_type": "markdown",
   "id": "a87606cb",
   "metadata": {
    "deletable": false,
    "editable": false,
    "id": "a87606cb"
   },
   "source": [
    "**Задание 6. В данных могут встречаться артефакты (аномалии) — значения, которые не отражают действительность и появились по какой-то ошибке. таким артефактом будет отрицательное количество дней трудового стажа в столбце `days_employed`. Для реальных данных это нормально. Обработайте значения в этом столбце: замените все отрицательные значения положительными с помощью метода `abs()`.**"
   ]
  },
  {
   "cell_type": "code",
   "execution_count": 27,
   "id": "020c46cc",
   "metadata": {
    "deletable": false,
    "id": "020c46cc"
   },
   "outputs": [],
   "source": [
    "data['days_employed'] = data['days_employed'].abs()"
   ]
  },
  {
   "cell_type": "markdown",
   "id": "45538a3a",
   "metadata": {
    "deletable": false,
    "editable": false,
    "id": "45538a3a"
   },
   "source": [
    "**Задание 7. Для каждого типа занятости выведите медианное значение трудового стажа `days_employed` в днях.**"
   ]
  },
  {
   "cell_type": "code",
   "execution_count": 28,
   "id": "cd3e6328",
   "metadata": {
    "deletable": false,
    "id": "cd3e6328",
    "outputId": "801ef80e-522b-4668-f34e-565af7432bcf"
   },
   "outputs": [
    {
     "data": {
      "text/plain": [
       "income_type\n",
       "безработный        366413.652744\n",
       "в декрете            3296.759962\n",
       "госслужащий          2689.368353\n",
       "компаньон            1547.382223\n",
       "пенсионер          365213.306266\n",
       "предприниматель       520.848083\n",
       "сотрудник            1574.202821\n",
       "студент               578.751554\n",
       "Name: days_employed, dtype: float64"
      ]
     },
     "execution_count": 28,
     "metadata": {},
     "output_type": "execute_result"
    }
   ],
   "source": [
    "data.groupby('income_type')['days_employed'].agg('median')"
   ]
  },
  {
   "cell_type": "markdown",
   "id": "90c5f058",
   "metadata": {
    "deletable": false,
    "editable": false,
    "id": "90c5f058"
   },
   "source": [
    "У двух типов (безработные и пенсионеры) получатся аномально большие значения. Исправить такие значения сложно, поэтому оставьте их как есть."
   ]
  },
  {
   "cell_type": "markdown",
   "id": "9652e50d",
   "metadata": {
    "deletable": false,
    "editable": false,
    "id": "9652e50d"
   },
   "source": [
    "**Задание 8. Выведите перечень уникальных значений столбца `children`.**"
   ]
  },
  {
   "cell_type": "code",
   "execution_count": 29,
   "id": "dbb37b8e",
   "metadata": {
    "deletable": false,
    "id": "dbb37b8e",
    "outputId": "6975b15c-7f95-4697-d16d-a0c79b657b03"
   },
   "outputs": [
    {
     "data": {
      "text/plain": [
       "array([ 1,  0,  3,  2, -1,  4, 20,  5])"
      ]
     },
     "execution_count": 29,
     "metadata": {},
     "output_type": "execute_result"
    }
   ],
   "source": [
    "data['children'].unique()"
   ]
  },
  {
   "cell_type": "markdown",
   "id": "2b8b0715",
   "metadata": {
    "deletable": false,
    "editable": false,
    "id": "2b8b0715"
   },
   "source": [
    "**Задание 9. В столбце `children` есть два аномальных значения. Удалите строки, в которых встречаются такие аномальные значения из датафрейма `data`.**"
   ]
  },
  {
   "cell_type": "code",
   "execution_count": 30,
   "id": "20009df8",
   "metadata": {
    "deletable": false,
    "id": "20009df8"
   },
   "outputs": [],
   "source": [
    "data = data[(data['children'] != -1) & (data['children'] != 20)]"
   ]
  },
  {
   "cell_type": "markdown",
   "id": "8c6ac9f1",
   "metadata": {
    "deletable": false,
    "editable": false,
    "id": "8c6ac9f1"
   },
   "source": [
    "**Задание 10. Ещё раз выведите перечень уникальных значений столбца `children`, чтобы убедиться, что артефакты удалены.**"
   ]
  },
  {
   "cell_type": "code",
   "execution_count": 31,
   "id": "07337b81",
   "metadata": {
    "deletable": false,
    "id": "07337b81",
    "outputId": "b2097101-d49d-44d9-901b-32a65c9463d1"
   },
   "outputs": [
    {
     "data": {
      "text/plain": [
       "array([1, 0, 3, 2, 4, 5])"
      ]
     },
     "execution_count": 31,
     "metadata": {},
     "output_type": "execute_result"
    }
   ],
   "source": [
    "data['children'].unique()"
   ]
  },
  {
   "cell_type": "markdown",
   "id": "ee3f52d4",
   "metadata": {
    "deletable": false,
    "editable": false,
    "id": "ee3f52d4"
   },
   "source": [
    "### Удаление пропусков (продолжение)"
   ]
  },
  {
   "cell_type": "markdown",
   "id": "a700b0e4",
   "metadata": {
    "deletable": false,
    "editable": false,
    "id": "a700b0e4"
   },
   "source": [
    "**Задание 11. Заполните пропуски в столбце `days_employed` медианными значениями по каждого типа занятости `income_type`.**"
   ]
  },
  {
   "cell_type": "code",
   "execution_count": 32,
   "id": "61946b83",
   "metadata": {
    "deletable": false,
    "id": "61946b83"
   },
   "outputs": [],
   "source": [
    "for t in data['income_type'].unique():\n",
    "    data.loc[(data['income_type'] == t) & (data['days_employed'].isna()), 'days_employed'] = \\\n",
    "    data.loc[(data['income_type'] == t), 'days_employed'].median()"
   ]
  },
  {
   "cell_type": "markdown",
   "id": "550dcd9b",
   "metadata": {
    "deletable": false,
    "editable": false,
    "id": "550dcd9b"
   },
   "source": [
    "**Задание 12. Убедитесь, что все пропуски заполнены. Проверьте себя и ещё раз выведите количество пропущенных значений для каждого столбца с помощью двух методов.**"
   ]
  },
  {
   "cell_type": "code",
   "execution_count": 33,
   "id": "937c7014",
   "metadata": {
    "deletable": false,
    "id": "937c7014",
    "outputId": "8da1e4e1-358e-4e87-98c9-f261bce0a7b2"
   },
   "outputs": [
    {
     "data": {
      "text/plain": [
       "children            0\n",
       "days_employed       0\n",
       "dob_years           0\n",
       "education           0\n",
       "education_id        0\n",
       "family_status       0\n",
       "family_status_id    0\n",
       "gender              0\n",
       "income_type         0\n",
       "debt                0\n",
       "total_income        0\n",
       "purpose             0\n",
       "dtype: int64"
      ]
     },
     "execution_count": 33,
     "metadata": {},
     "output_type": "execute_result"
    }
   ],
   "source": [
    "data.isna().sum()"
   ]
  },
  {
   "cell_type": "markdown",
   "id": "d522e295",
   "metadata": {
    "deletable": false,
    "editable": false,
    "id": "d522e295"
   },
   "source": [
    "### Изменение типов данных"
   ]
  },
  {
   "cell_type": "markdown",
   "id": "c229c581",
   "metadata": {
    "deletable": false,
    "editable": false,
    "id": "c229c581"
   },
   "source": [
    "**Задание 13. Замените вещественный тип данных в столбце `total_income` на целочисленный с помощью метода `astype()`.**"
   ]
  },
  {
   "cell_type": "code",
   "execution_count": 34,
   "id": "31036462",
   "metadata": {
    "deletable": false,
    "id": "31036462"
   },
   "outputs": [],
   "source": [
    "data['total_income'] = data['total_income'].astype(int)"
   ]
  },
  {
   "cell_type": "markdown",
   "id": "b8e3d1d9",
   "metadata": {
    "deletable": false,
    "editable": false,
    "id": "b8e3d1d9"
   },
   "source": [
    "### Обработка дубликатов"
   ]
  },
  {
   "cell_type": "markdown",
   "id": "9be53c49",
   "metadata": {
    "deletable": false,
    "editable": false,
    "id": "9be53c49"
   },
   "source": [
    "**Задание 14. Обработайте неявные дубликаты в столбце `education`. В этом столбце есть одни и те же значения, но записанные по-разному: с использованием заглавных и строчных букв. Приведите их к нижнему регистру.**"
   ]
  },
  {
   "cell_type": "code",
   "execution_count": 35,
   "id": "d89e73e1",
   "metadata": {
    "deletable": false,
    "id": "d89e73e1"
   },
   "outputs": [],
   "source": [
    "data['education'] = data['education'].str.lower()"
   ]
  },
  {
   "cell_type": "markdown",
   "id": "01d4500e",
   "metadata": {
    "deletable": false,
    "editable": false,
    "id": "01d4500e"
   },
   "source": [
    "**Задание 15. Выведите на экран количество строк-дубликатов в данных. Если такие строки присутствуют, удалите их.**"
   ]
  },
  {
   "cell_type": "code",
   "execution_count": 36,
   "id": "e10efb23",
   "metadata": {
    "deletable": false,
    "id": "e10efb23",
    "outputId": "9684deba-1934-42d1-99e1-cda61740f822"
   },
   "outputs": [
    {
     "data": {
      "text/plain": [
       "71"
      ]
     },
     "execution_count": 36,
     "metadata": {},
     "output_type": "execute_result"
    }
   ],
   "source": [
    "data.duplicated().sum()"
   ]
  },
  {
   "cell_type": "code",
   "execution_count": 37,
   "id": "df853f20",
   "metadata": {
    "deletable": false,
    "id": "df853f20"
   },
   "outputs": [],
   "source": [
    "data = data.drop_duplicates()"
   ]
  },
  {
   "cell_type": "markdown",
   "id": "627be38f",
   "metadata": {
    "deletable": false,
    "editable": false,
    "id": "627be38f"
   },
   "source": [
    "### Категоризация данных"
   ]
  },
  {
   "cell_type": "markdown",
   "id": "4684c3e0",
   "metadata": {
    "deletable": false,
    "editable": false,
    "id": "4684c3e0"
   },
   "source": [
    "**Задание 16. На основании диапазонов, указанных ниже, создайте в датафрейме `data` столбец `total_income_category` с категориями:**\n",
    "\n",
    "- 0–30000 — `'E'`;\n",
    "- 30001–50000 — `'D'`;\n",
    "- 50001–200000 — `'C'`;\n",
    "- 200001–1000000 — `'B'`;\n",
    "- 1000001 и выше — `'A'`.\n",
    "\n",
    "\n",
    "**Например, кредитополучателю с доходом 25000 нужно назначить категорию `'E'`, а клиенту, получающему 235000, — `'B'`. Используйте собственную функцию с именем `categorize_income()` и метод `apply()`.**"
   ]
  },
  {
   "cell_type": "code",
   "execution_count": 38,
   "id": "78965238",
   "metadata": {
    "deletable": false,
    "id": "78965238"
   },
   "outputs": [],
   "source": [
    "def categorize_income(income):\n",
    "    try:\n",
    "        if 0 <= income <= 30000:\n",
    "            return 'E'\n",
    "        elif 30001 <= income <= 50000:\n",
    "            return 'D'\n",
    "        elif 50001 <= income <= 200000:\n",
    "            return 'C'\n",
    "        elif 200001 <= income <= 1000000:\n",
    "            return 'B'\n",
    "        elif income >= 1000001:\n",
    "            return 'A'\n",
    "    except:\n",
    "        pass"
   ]
  },
  {
   "cell_type": "code",
   "execution_count": 39,
   "id": "0980ada1",
   "metadata": {
    "deletable": false,
    "id": "0980ada1"
   },
   "outputs": [],
   "source": [
    "data['total_income_category'] = data['total_income'].apply(categorize_income)"
   ]
  },
  {
   "cell_type": "markdown",
   "id": "9917bba0",
   "metadata": {
    "deletable": false,
    "editable": false,
    "id": "9917bba0"
   },
   "source": [
    "**Задание 17. Выведите на экран перечень уникальных целей взятия кредита из столбца `purpose`.**"
   ]
  },
  {
   "cell_type": "code",
   "execution_count": 40,
   "id": "ee07b65e",
   "metadata": {
    "deletable": false,
    "id": "ee07b65e",
    "outputId": "673c12d9-7d7e-4ae0-9812-c622c89dd244"
   },
   "outputs": [
    {
     "data": {
      "text/plain": [
       "array(['покупка жилья', 'приобретение автомобиля',\n",
       "       'дополнительное образование', 'сыграть свадьбу',\n",
       "       'операции с жильем', 'образование', 'на проведение свадьбы',\n",
       "       'покупка жилья для семьи', 'покупка недвижимости',\n",
       "       'покупка коммерческой недвижимости', 'покупка жилой недвижимости',\n",
       "       'строительство собственной недвижимости', 'недвижимость',\n",
       "       'строительство недвижимости', 'на покупку подержанного автомобиля',\n",
       "       'на покупку своего автомобиля',\n",
       "       'операции с коммерческой недвижимостью',\n",
       "       'строительство жилой недвижимости', 'жилье',\n",
       "       'операции со своей недвижимостью', 'автомобили',\n",
       "       'заняться образованием', 'сделка с подержанным автомобилем',\n",
       "       'получение образования', 'автомобиль', 'свадьба',\n",
       "       'получение дополнительного образования', 'покупка своего жилья',\n",
       "       'операции с недвижимостью', 'получение высшего образования',\n",
       "       'свой автомобиль', 'сделка с автомобилем',\n",
       "       'профильное образование', 'высшее образование',\n",
       "       'покупка жилья для сдачи', 'на покупку автомобиля', 'ремонт жилью',\n",
       "       'заняться высшим образованием'], dtype=object)"
      ]
     },
     "execution_count": 40,
     "metadata": {},
     "output_type": "execute_result"
    }
   ],
   "source": [
    "data['purpose'].unique()"
   ]
  },
  {
   "cell_type": "markdown",
   "id": "52b79d56",
   "metadata": {
    "deletable": false,
    "editable": false,
    "id": "52b79d56"
   },
   "source": [
    "**Задание 18. Создайте функцию, которая на основании данных из столбца `purpose` сформирует новый столбец `purpose_category`, в который войдут следующие категории:**\n",
    "\n",
    "- `'операции с автомобилем'`,\n",
    "- `'операции с недвижимостью'`,\n",
    "- `'проведение свадьбы'`,\n",
    "- `'получение образования'`.\n",
    "\n",
    "**Например, если в столбце `purpose` находится подстрока `'на покупку автомобиля'`, то в столбце `purpose_category` должна появиться строка `'операции с автомобилем'`.**\n",
    "\n",
    "**Используйте собственную функцию с именем `categorize_purpose()` и метод `apply()`. Изучите данные в столбце `purpose` и определите, какие подстроки помогут вам правильно определить категорию.**"
   ]
  },
  {
   "cell_type": "code",
   "execution_count": 41,
   "id": "be41da5d",
   "metadata": {
    "deletable": false,
    "id": "be41da5d"
   },
   "outputs": [],
   "source": [
    "def categorize_purpose(row):\n",
    "    try:\n",
    "        if 'автом' in row:\n",
    "            return 'операции с автомобилем'\n",
    "        elif 'жил' in row or 'недвиж' in row:\n",
    "            return 'операции с недвижимостью'\n",
    "        elif 'свад' in row:\n",
    "            return 'проведение свадьбы'\n",
    "        elif 'образов' in row:\n",
    "            return 'получение образования'\n",
    "    except:\n",
    "        return 'нет категории'"
   ]
  },
  {
   "cell_type": "code",
   "execution_count": 42,
   "id": "94c4a19a",
   "metadata": {
    "deletable": false,
    "id": "94c4a19a"
   },
   "outputs": [],
   "source": [
    "data['purpose_category'] = data['purpose'].apply(categorize_purpose)"
   ]
  },
  {
   "cell_type": "code",
   "execution_count": 43,
   "id": "cf2fa5e4",
   "metadata": {},
   "outputs": [
    {
     "name": "stdout",
     "output_type": "stream",
     "text": [
      "<class 'pandas.core.frame.DataFrame'>\n",
      "Int64Index: 21331 entries, 0 to 21524\n",
      "Data columns (total 14 columns):\n",
      " #   Column                 Non-Null Count  Dtype  \n",
      "---  ------                 --------------  -----  \n",
      " 0   children               21331 non-null  int64  \n",
      " 1   days_employed          21331 non-null  float64\n",
      " 2   dob_years              21331 non-null  int64  \n",
      " 3   education              21331 non-null  object \n",
      " 4   education_id           21331 non-null  int64  \n",
      " 5   family_status          21331 non-null  object \n",
      " 6   family_status_id       21331 non-null  int64  \n",
      " 7   gender                 21331 non-null  object \n",
      " 8   income_type            21331 non-null  object \n",
      " 9   debt                   21331 non-null  int64  \n",
      " 10  total_income           21331 non-null  int64  \n",
      " 11  purpose                21331 non-null  object \n",
      " 12  total_income_category  21331 non-null  object \n",
      " 13  purpose_category       21331 non-null  object \n",
      "dtypes: float64(1), int64(6), object(7)\n",
      "memory usage: 2.4+ MB\n"
     ]
    }
   ],
   "source": [
    "data.info()"
   ]
  },
  {
   "cell_type": "markdown",
   "id": "3d596c34",
   "metadata": {
    "deletable": false,
    "editable": false,
    "id": "3d596c34"
   },
   "source": [
    "### Шаг 3. Исследуйте данные и ответьте на вопросы"
   ]
  },
  {
   "cell_type": "markdown",
   "id": "648db036",
   "metadata": {
    "deletable": false,
    "editable": false,
    "id": "648db036"
   },
   "source": [
    "#### 3.1 Есть ли зависимость между количеством детей и возвратом кредита в срок?"
   ]
  },
  {
   "cell_type": "markdown",
   "id": "a4224e21",
   "metadata": {},
   "source": [
    "Чтобы ответить на поставленный вопрос, необходимо вычислить доли семей (в каждой категории), которые имели задолженности по возврату кредитов.\n",
    "Затем сравнить и сделать выводы на осонве полученных данных."
   ]
  },
  {
   "cell_type": "code",
   "execution_count": 44,
   "id": "6041dede",
   "metadata": {},
   "outputs": [
    {
     "data": {
      "text/plain": [
       "0    14091\n",
       "1     4808\n",
       "2     2052\n",
       "3      330\n",
       "4       41\n",
       "5        9\n",
       "Name: children, dtype: int64"
      ]
     },
     "execution_count": 44,
     "metadata": {},
     "output_type": "execute_result"
    }
   ],
   "source": [
    "#Распределение семей по количеству детей\n",
    "data['children'].value_counts()"
   ]
  },
  {
   "cell_type": "markdown",
   "id": "86da832f",
   "metadata": {
    "deletable": false,
    "id": "7fcff25e"
   },
   "source": [
    "Опираясь на представленную выше информацию, делаем вывод, что в предоставленной таблице недостаточно данных о семьях в которых 3, 4, и 5 детей. Эти выборки считаем нерепрезентативными, в анализе и выводах учитывать не будем\n",
    "Категоризируем данные из столбца 'children', создадим собственную функцию categorized_children()"
   ]
  },
  
  {
   "cell_type": "code",
   "execution_count": 45,
   "id": "4e0c0d81",
   "metadata": {},
   "outputs": [],
   "source": [
    "def categorized_children(row):\n",
    "    if row == 0:\n",
    "        return 'без детей'\n",
    "    if row == 1:\n",
    "        return '1 ребенок'\n",
    "    if row == 2:\n",
    "        return '2 детей'\n",
    "    if row >= 3:\n",
    "        return 'многодетные'\n"
   ]
  },
  {
   "cell_type": "code",
   "execution_count": 46,
   "id": "2bb366a0",
   "metadata": {},
   "outputs": [
    {
     "data": {
      "text/html": [
       "<div>\n",
       "<style scoped>\n",
       "    .dataframe tbody tr th:only-of-type {\n",
       "        vertical-align: middle;\n",
       "    }\n",
       "\n",
       "    .dataframe tbody tr th {\n",
       "        vertical-align: top;\n",
       "    }\n",
       "\n",
       "    .dataframe thead th {\n",
       "        text-align: right;\n",
       "    }\n",
       "</style>\n",
       "<table border=\"1\" class=\"dataframe\">\n",
       "  <thead>\n",
       "    <tr style=\"text-align: right;\">\n",
       "      <th></th>\n",
       "      <th>children</th>\n",
       "      <th>days_employed</th>\n",
       "      <th>dob_years</th>\n",
       "      <th>education</th>\n",
       "      <th>education_id</th>\n",
       "      <th>family_status</th>\n",
       "      <th>family_status_id</th>\n",
       "      <th>gender</th>\n",
       "      <th>income_type</th>\n",
       "      <th>debt</th>\n",
       "      <th>total_income</th>\n",
       "      <th>purpose</th>\n",
       "      <th>total_income_category</th>\n",
       "      <th>purpose_category</th>\n",
       "      <th>children_category</th>\n",
       "    </tr>\n",
       "  </thead>\n",
       "  <tbody>\n",
       "    <tr>\n",
       "      <th>0</th>\n",
       "      <td>1</td>\n",
       "      <td>8437.673028</td>\n",
       "      <td>42</td>\n",
       "      <td>высшее</td>\n",
       "      <td>0</td>\n",
       "      <td>женат / замужем</td>\n",
       "      <td>0</td>\n",
       "      <td>F</td>\n",
       "      <td>сотрудник</td>\n",
       "      <td>0</td>\n",
       "      <td>253875</td>\n",
       "      <td>покупка жилья</td>\n",
       "      <td>B</td>\n",
       "      <td>операции с недвижимостью</td>\n",
       "      <td>1 ребенок</td>\n",
       "    </tr>\n",
       "    <tr>\n",
       "      <th>1</th>\n",
       "      <td>1</td>\n",
       "      <td>4024.803754</td>\n",
       "      <td>36</td>\n",
       "      <td>среднее</td>\n",
       "      <td>1</td>\n",
       "      <td>женат / замужем</td>\n",
       "      <td>0</td>\n",
       "      <td>F</td>\n",
       "      <td>сотрудник</td>\n",
       "      <td>0</td>\n",
       "      <td>112080</td>\n",
       "      <td>приобретение автомобиля</td>\n",
       "      <td>C</td>\n",
       "      <td>операции с автомобилем</td>\n",
       "      <td>1 ребенок</td>\n",
       "    </tr>\n",
       "    <tr>\n",
       "      <th>2</th>\n",
       "      <td>0</td>\n",
       "      <td>5623.422610</td>\n",
       "      <td>33</td>\n",
       "      <td>среднее</td>\n",
       "      <td>1</td>\n",
       "      <td>женат / замужем</td>\n",
       "      <td>0</td>\n",
       "      <td>M</td>\n",
       "      <td>сотрудник</td>\n",
       "      <td>0</td>\n",
       "      <td>145885</td>\n",
       "      <td>покупка жилья</td>\n",
       "      <td>C</td>\n",
       "      <td>операции с недвижимостью</td>\n",
       "      <td>без детей</td>\n",
       "    </tr>\n",
       "    <tr>\n",
       "      <th>3</th>\n",
       "      <td>3</td>\n",
       "      <td>4124.747207</td>\n",
       "      <td>32</td>\n",
       "      <td>среднее</td>\n",
       "      <td>1</td>\n",
       "      <td>женат / замужем</td>\n",
       "      <td>0</td>\n",
       "      <td>M</td>\n",
       "      <td>сотрудник</td>\n",
       "      <td>0</td>\n",
       "      <td>267628</td>\n",
       "      <td>дополнительное образование</td>\n",
       "      <td>B</td>\n",
       "      <td>получение образования</td>\n",
       "      <td>многодетные</td>\n",
       "    </tr>\n",
       "    <tr>\n",
       "      <th>4</th>\n",
       "      <td>0</td>\n",
       "      <td>340266.072047</td>\n",
       "      <td>53</td>\n",
       "      <td>среднее</td>\n",
       "      <td>1</td>\n",
       "      <td>гражданский брак</td>\n",
       "      <td>1</td>\n",
       "      <td>F</td>\n",
       "      <td>пенсионер</td>\n",
       "      <td>0</td>\n",
       "      <td>158616</td>\n",
       "      <td>сыграть свадьбу</td>\n",
       "      <td>C</td>\n",
       "      <td>проведение свадьбы</td>\n",
       "      <td>без детей</td>\n",
       "    </tr>\n",
       "    <tr>\n",
       "      <th>5</th>\n",
       "      <td>0</td>\n",
       "      <td>926.185831</td>\n",
       "      <td>27</td>\n",
       "      <td>высшее</td>\n",
       "      <td>0</td>\n",
       "      <td>гражданский брак</td>\n",
       "      <td>1</td>\n",
       "      <td>M</td>\n",
       "      <td>компаньон</td>\n",
       "      <td>0</td>\n",
       "      <td>255763</td>\n",
       "      <td>покупка жилья</td>\n",
       "      <td>B</td>\n",
       "      <td>операции с недвижимостью</td>\n",
       "      <td>без детей</td>\n",
       "    </tr>\n",
       "    <tr>\n",
       "      <th>6</th>\n",
       "      <td>0</td>\n",
       "      <td>2879.202052</td>\n",
       "      <td>43</td>\n",
       "      <td>высшее</td>\n",
       "      <td>0</td>\n",
       "      <td>женат / замужем</td>\n",
       "      <td>0</td>\n",
       "      <td>F</td>\n",
       "      <td>компаньон</td>\n",
       "      <td>0</td>\n",
       "      <td>240525</td>\n",
       "      <td>операции с жильем</td>\n",
       "      <td>B</td>\n",
       "      <td>операции с недвижимостью</td>\n",
       "      <td>без детей</td>\n",
       "    </tr>\n",
       "    <tr>\n",
       "      <th>7</th>\n",
       "      <td>0</td>\n",
       "      <td>152.779569</td>\n",
       "      <td>50</td>\n",
       "      <td>среднее</td>\n",
       "      <td>1</td>\n",
       "      <td>женат / замужем</td>\n",
       "      <td>0</td>\n",
       "      <td>M</td>\n",
       "      <td>сотрудник</td>\n",
       "      <td>0</td>\n",
       "      <td>135823</td>\n",
       "      <td>образование</td>\n",
       "      <td>C</td>\n",
       "      <td>получение образования</td>\n",
       "      <td>без детей</td>\n",
       "    </tr>\n",
       "    <tr>\n",
       "      <th>8</th>\n",
       "      <td>2</td>\n",
       "      <td>6929.865299</td>\n",
       "      <td>35</td>\n",
       "      <td>высшее</td>\n",
       "      <td>0</td>\n",
       "      <td>гражданский брак</td>\n",
       "      <td>1</td>\n",
       "      <td>F</td>\n",
       "      <td>сотрудник</td>\n",
       "      <td>0</td>\n",
       "      <td>95856</td>\n",
       "      <td>на проведение свадьбы</td>\n",
       "      <td>C</td>\n",
       "      <td>проведение свадьбы</td>\n",
       "      <td>2 детей</td>\n",
       "    </tr>\n",
       "    <tr>\n",
       "      <th>9</th>\n",
       "      <td>0</td>\n",
       "      <td>2188.756445</td>\n",
       "      <td>41</td>\n",
       "      <td>среднее</td>\n",
       "      <td>1</td>\n",
       "      <td>женат / замужем</td>\n",
       "      <td>0</td>\n",
       "      <td>M</td>\n",
       "      <td>сотрудник</td>\n",
       "      <td>0</td>\n",
       "      <td>144425</td>\n",
       "      <td>покупка жилья для семьи</td>\n",
       "      <td>C</td>\n",
       "      <td>операции с недвижимостью</td>\n",
       "      <td>без детей</td>\n",
       "    </tr>\n",
       "  </tbody>\n",
       "</table>\n",
       "</div>"
      ],
      "text/plain": [
       "   children  days_employed  dob_years education  education_id  \\\n",
       "0         1    8437.673028         42    высшее             0   \n",
       "1         1    4024.803754         36   среднее             1   \n",
       "2         0    5623.422610         33   среднее             1   \n",
       "3         3    4124.747207         32   среднее             1   \n",
       "4         0  340266.072047         53   среднее             1   \n",
       "5         0     926.185831         27    высшее             0   \n",
       "6         0    2879.202052         43    высшее             0   \n",
       "7         0     152.779569         50   среднее             1   \n",
       "8         2    6929.865299         35    высшее             0   \n",
       "9         0    2188.756445         41   среднее             1   \n",
       "\n",
       "      family_status  family_status_id gender income_type  debt  total_income  \\\n",
       "0   женат / замужем                 0      F   сотрудник     0        253875   \n",
       "1   женат / замужем                 0      F   сотрудник     0        112080   \n",
       "2   женат / замужем                 0      M   сотрудник     0        145885   \n",
       "3   женат / замужем                 0      M   сотрудник     0        267628   \n",
       "4  гражданский брак                 1      F   пенсионер     0        158616   \n",
       "5  гражданский брак                 1      M   компаньон     0        255763   \n",
       "6   женат / замужем                 0      F   компаньон     0        240525   \n",
       "7   женат / замужем                 0      M   сотрудник     0        135823   \n",
       "8  гражданский брак                 1      F   сотрудник     0         95856   \n",
       "9   женат / замужем                 0      M   сотрудник     0        144425   \n",
       "\n",
       "                      purpose total_income_category          purpose_category  \\\n",
       "0               покупка жилья                     B  операции с недвижимостью   \n",
       "1     приобретение автомобиля                     C    операции с автомобилем   \n",
       "2               покупка жилья                     C  операции с недвижимостью   \n",
       "3  дополнительное образование                     B     получение образования   \n",
       "4             сыграть свадьбу                     C        проведение свадьбы   \n",
       "5               покупка жилья                     B  операции с недвижимостью   \n",
       "6           операции с жильем                     B  операции с недвижимостью   \n",
       "7                 образование                     C     получение образования   \n",
       "8       на проведение свадьбы                     C        проведение свадьбы   \n",
       "9     покупка жилья для семьи                     C  операции с недвижимостью   \n",
       "\n",
       "  children_category  \n",
       "0         1 ребенок  \n",
       "1         1 ребенок  \n",
       "2         без детей  \n",
       "3       многодетные  \n",
       "4         без детей  \n",
       "5         без детей  \n",
       "6         без детей  \n",
       "7         без детей  \n",
       "8           2 детей  \n",
       "9         без детей  "
      ]
     },
     "execution_count": 46,
     "metadata": {},
     "output_type": "execute_result"
    }
   ],
   "source": [
    "#Используем функцию categorized_children()и метод apply() для создания нового столбца data['children_category']:\n",
    "data['children_category'] = data['children'].apply(categorized_children)\n",
    "\n",
    "#Для самопроверки выведем первые 10 строк таблицы data при помощи метода head():\n",
    "data.head(10)\n",
    "\n"
   ]
  },
  {
   "cell_type": "code",
   "execution_count": 47,
   "id": "1b3a0521",
   "metadata": {},
   "outputs": [
    {
     "data": {
      "text/html": [
       "<div>\n",
       "<style scoped>\n",
       "    .dataframe tbody tr th:only-of-type {\n",
       "        vertical-align: middle;\n",
       "    }\n",
       "\n",
       "    .dataframe tbody tr th {\n",
       "        vertical-align: top;\n",
       "    }\n",
       "\n",
       "    .dataframe thead th {\n",
       "        text-align: right;\n",
       "    }\n",
       "</style>\n",
       "<table border=\"1\" class=\"dataframe\">\n",
       "  <thead>\n",
       "    <tr style=\"text-align: right;\">\n",
       "      <th>debt</th>\n",
       "      <th>0</th>\n",
       "      <th>1</th>\n",
       "      <th>ratio_children</th>\n",
       "    </tr>\n",
       "    <tr>\n",
       "      <th>children_category</th>\n",
       "      <th></th>\n",
       "      <th></th>\n",
       "      <th></th>\n",
       "    </tr>\n",
       "  </thead>\n",
       "  <tbody>\n",
       "    <tr>\n",
       "      <th>1 ребенок</th>\n",
       "      <td>4364</td>\n",
       "      <td>444</td>\n",
       "      <td>9.2%</td>\n",
       "    </tr>\n",
       "    <tr>\n",
       "      <th>2 детей</th>\n",
       "      <td>1858</td>\n",
       "      <td>194</td>\n",
       "      <td>9.5%</td>\n",
       "    </tr>\n",
       "    <tr>\n",
       "      <th>без детей</th>\n",
       "      <td>13028</td>\n",
       "      <td>1063</td>\n",
       "      <td>7.5%</td>\n",
       "    </tr>\n",
       "    <tr>\n",
       "      <th>многодетные</th>\n",
       "      <td>349</td>\n",
       "      <td>31</td>\n",
       "      <td>8.2%</td>\n",
       "    </tr>\n",
       "  </tbody>\n",
       "</table>\n",
       "</div>"
      ],
      "text/plain": [
       "debt                   0     1 ratio_children\n",
       "children_category                            \n",
       "1 ребенок           4364   444           9.2%\n",
       "2 детей             1858   194           9.5%\n",
       "без детей          13028  1063           7.5%\n",
       "многодетные          349    31           8.2%"
      ]
     },
     "execution_count": 47,
     "metadata": {},
     "output_type": "execute_result"
    }
   ],
   "source": [
    "#При помощи метода pivot_table() создаем сводную таблицу\n",
    "children_pivot = data.pivot_table(index = ['children_category'], \\\n",
    "                                columns = ['debt'], \\\n",
    "                                values = 'purpose', aggfunc='count')\n",
    "#Расчитываем долю невозвращенных кредитов в каждой из категорий (число должников/общее число семей)\n",
    "children_pivot['ratio_children'] = (children_pivot[1] / (children_pivot[1]+children_pivot[0]))\n",
    "#Преобразуем результат из долей в проценты\n",
    "children_pivot['ratio_children'] = children_pivot['ratio_children'].map('{:.1%}'.format)\n",
    "children_pivot"
   ]
  },
  {
   "cell_type": "markdown",
   "id": "2eb9088e",
   "metadata": {
    "deletable": false,
    "id": "2eb9088e"
   },
   "source": [
    ".**Вывод:** \n",
    "В категории семей \"без детей\" доля задолженностей меньше, чем в остальных категориях.\n",
    "Вероятно это связано с отсутствием расходов на их обеспечение.\n",
    "Однако следующими в данном \"рейтинге\" оказались многодетные семьи. Это может быть связанно с тем, что государство оказывает различную помощь таким семьям, в том числе, государственные льготы, соцподдержка,кредиты на льготных условиях. В виду недостатка данных в итоговый вывод категорию \"многодетные\" не включаем.\n",
    "В семьях с одним и двумя детьми разница незначительна. Такие семьи с большей вероятностью окажутся должниками."
   ]
  },
  {
   "cell_type": "markdown",
   "id": "74c9b3a7",
   "metadata": {
    "deletable": false,
    "editable": false,
    "id": "74c9b3a7"
   },
   "source": [
    "#### 3.2 Есть ли зависимость между семейным положением и возвратом кредита в срок?"
   ]
  },
  {
   "cell_type": "code",
   "execution_count": 48,
   "id": "8098ab3b",
   "metadata": {
    "deletable": false,
    "id": "8098ab3b"
   },
   "outputs": [
    {
     "data": {
      "text/plain": [
       "женат / замужем          12261\n",
       "гражданский брак          4134\n",
       "Не женат / не замужем     2796\n",
       "в разводе                 1189\n",
       "вдовец / вдова             951\n",
       "Name: family_status, dtype: int64"
      ]
     },
     "execution_count": 48,
     "metadata": {},
     "output_type": "execute_result"
    }
   ],
   "source": [
    "# Для начала, ознакомимся с имеющимися данными\n",
    "# Выведем на экран все уникальные значения стобца 'family_status':\n",
    "data['family_status'].value_counts()"
   ]
  },
  {
   "cell_type": "markdown",
   "id": "9db4ece4",
   "metadata": {},
   "source": [
    "Выведем на экран сводную таблицу, содержащую с добросовестных плательщиков и должников \n",
    "по категориям семейного положения.\n",
    "Затем расчитаем отношение должников к общему числу(в процентном соотношении). \n",
    "На основе полученных расчетов сформулируем выводы."
   ]
  },
  {
   "cell_type": "code",
   "execution_count": 49,
   "id": "1a690492",
   "metadata": {},
   "outputs": [
    {
     "data": {
      "text/html": [
       "<div>\n",
       "<style scoped>\n",
       "    .dataframe tbody tr th:only-of-type {\n",
       "        vertical-align: middle;\n",
       "    }\n",
       "\n",
       "    .dataframe tbody tr th {\n",
       "        vertical-align: top;\n",
       "    }\n",
       "\n",
       "    .dataframe thead th {\n",
       "        text-align: right;\n",
       "    }\n",
       "</style>\n",
       "<table border=\"1\" class=\"dataframe\">\n",
       "  <thead>\n",
       "    <tr style=\"text-align: right;\">\n",
       "      <th>debt</th>\n",
       "      <th>0</th>\n",
       "      <th>1</th>\n",
       "      <th>ratio_family</th>\n",
       "    </tr>\n",
       "    <tr>\n",
       "      <th>family_status</th>\n",
       "      <th></th>\n",
       "      <th></th>\n",
       "      <th></th>\n",
       "    </tr>\n",
       "  </thead>\n",
       "  <tbody>\n",
       "    <tr>\n",
       "      <th>Не женат / не замужем</th>\n",
       "      <td>2523</td>\n",
       "      <td>273</td>\n",
       "      <td>9.8%</td>\n",
       "    </tr>\n",
       "    <tr>\n",
       "      <th>в разводе</th>\n",
       "      <td>1105</td>\n",
       "      <td>84</td>\n",
       "      <td>7.1%</td>\n",
       "    </tr>\n",
       "    <tr>\n",
       "      <th>вдовец / вдова</th>\n",
       "      <td>888</td>\n",
       "      <td>63</td>\n",
       "      <td>6.6%</td>\n",
       "    </tr>\n",
       "    <tr>\n",
       "      <th>гражданский брак</th>\n",
       "      <td>3749</td>\n",
       "      <td>385</td>\n",
       "      <td>9.3%</td>\n",
       "    </tr>\n",
       "    <tr>\n",
       "      <th>женат / замужем</th>\n",
       "      <td>11334</td>\n",
       "      <td>927</td>\n",
       "      <td>7.6%</td>\n",
       "    </tr>\n",
       "  </tbody>\n",
       "</table>\n",
       "</div>"
      ],
      "text/plain": [
       "debt                       0    1 ratio_family\n",
       "family_status                                 \n",
       "Не женат / не замужем   2523  273         9.8%\n",
       "в разводе               1105   84         7.1%\n",
       "вдовец / вдова           888   63         6.6%\n",
       "гражданский брак        3749  385         9.3%\n",
       "женат / замужем        11334  927         7.6%"
      ]
     },
     "execution_count": 49,
     "metadata": {},
     "output_type": "execute_result"
    }
   ],
   "source": [
    "#Сводная таблица\n",
    "pivot_family_status = data.pivot_table(index = ['family_status'], \\\n",
    "                                columns = ['debt'], \\\n",
    "                                values = 'purpose', aggfunc='count')\n",
    "#Результат, выраженный десятичной дробью\n",
    "pivot_family_status['ratio_family'] = pivot_family_status[1]/(pivot_family_status[0]+pivot_family_status[1])\n",
    "#Переводим в более удобный для работы формат:одна цифра после запятой, результат в процентах:\n",
    "pivot_family_status['ratio_family'] = pivot_family_status['ratio_family'].map('{:.1%}'.format)\n",
    "pivot_family_status"
   ]
  },
  {
   "cell_type": "markdown",
   "id": "c389ca63",
   "metadata": {
    "deletable": false,
    "id": "c389ca63"
   },
   "source": [
    "**Вывод:** \n",
    "Наибольший процент возникновения задолженности у категорий \"Не женат / не замужем\" и \"гражданский брак\".\n",
    "Более исправно платят кредиты люди из категорий \"вдовец / вдова\", \"в разводе\", \"женат / замужем\"\n"
   ]
  },
  {
   "cell_type": "markdown",
   "id": "9529de68",
   "metadata": {
    "deletable": false,
    "editable": false,
    "id": "9529de68"
   },
   "source": [
    "#### 3.3 Есть ли зависимость между уровнем дохода и возвратом кредита в срок?"
   ]
  },
  {
   "cell_type": "markdown",
   "id": "dcf2eae5",
   "metadata": {},
   "source": [
    "В данном проекте(В задании 16) мы уже категоризировали данные из столбца ['total_income'].\n",
    "Далее будем проводить исследование с уже имеющимися категориями (столбец ['total_income_category]:\n",
    "0–30000 — 'E';\n",
    "30001–50000 — 'D';\n",
    "50001–200000 — 'C';\n",
    "200001–1000000 — 'B';\n",
    "1000001 и выше — 'A'.\n"
   ]
  },
  {
   "cell_type": "code",
   "execution_count": 50,
   "id": "8787f44a",
   "metadata": {
    "deletable": false,
    "id": "8787f44a"
   },
   "outputs": [
    {
     "data": {
      "text/html": [
       "<div>\n",
       "<style scoped>\n",
       "    .dataframe tbody tr th:only-of-type {\n",
       "        vertical-align: middle;\n",
       "    }\n",
       "\n",
       "    .dataframe tbody tr th {\n",
       "        vertical-align: top;\n",
       "    }\n",
       "\n",
       "    .dataframe thead th {\n",
       "        text-align: right;\n",
       "    }\n",
       "</style>\n",
       "<table border=\"1\" class=\"dataframe\">\n",
       "  <thead>\n",
       "    <tr style=\"text-align: right;\">\n",
       "      <th>debt</th>\n",
       "      <th>0</th>\n",
       "      <th>1</th>\n",
       "      <th>ratio_income</th>\n",
       "    </tr>\n",
       "    <tr>\n",
       "      <th>total_income_category</th>\n",
       "      <th></th>\n",
       "      <th></th>\n",
       "      <th></th>\n",
       "    </tr>\n",
       "  </thead>\n",
       "  <tbody>\n",
       "    <tr>\n",
       "      <th>A</th>\n",
       "      <td>23</td>\n",
       "      <td>2</td>\n",
       "      <td>8.0%</td>\n",
       "    </tr>\n",
       "    <tr>\n",
       "      <th>B</th>\n",
       "      <td>4660</td>\n",
       "      <td>354</td>\n",
       "      <td>7.1%</td>\n",
       "    </tr>\n",
       "    <tr>\n",
       "      <th>C</th>\n",
       "      <td>14568</td>\n",
       "      <td>1353</td>\n",
       "      <td>8.5%</td>\n",
       "    </tr>\n",
       "    <tr>\n",
       "      <th>D</th>\n",
       "      <td>328</td>\n",
       "      <td>21</td>\n",
       "      <td>6.0%</td>\n",
       "    </tr>\n",
       "    <tr>\n",
       "      <th>E</th>\n",
       "      <td>20</td>\n",
       "      <td>2</td>\n",
       "      <td>9.1%</td>\n",
       "    </tr>\n",
       "  </tbody>\n",
       "</table>\n",
       "</div>"
      ],
      "text/plain": [
       "debt                       0     1 ratio_income\n",
       "total_income_category                          \n",
       "A                         23     2         8.0%\n",
       "B                       4660   354         7.1%\n",
       "C                      14568  1353         8.5%\n",
       "D                        328    21         6.0%\n",
       "E                         20     2         9.1%"
      ]
     },
     "execution_count": 50,
     "metadata": {},
     "output_type": "execute_result"
    }
   ],
   "source": [
    "#Создаем сводную таблицу\n",
    "pivot_total_income_category = data.pivot_table(index = ['total_income_category'], \\\n",
    "                                columns = ['debt'], \\\n",
    "                                values = 'purpose', aggfunc='count')\n",
    "pivot_total_income_category['ratio_income'] = pivot_total_income_category[1]/(pivot_total_income_category[1]+pivot_total_income_category[0])\n",
    "pivot_total_income_category['ratio_income'] = pivot_total_income_category['ratio_income'].map('{:.1%}'.format)\n",
    "pivot_total_income_category"
   ]
  },
  {
   "cell_type": "markdown",
   "id": "cca25690",
   "metadata": {},
   "source": [
    "Категории А, Е и D не берем в расчет при анализе, т.к. они являются нерепрезентативными из-за недостаточного \n",
    "количества данных."
   ]
  },
  {
   "cell_type": "markdown",
   "id": "6dd14b57",
   "metadata": {
    "deletable": false,
    "id": "6dd14b57"
   },
   "source": [
    "**Вывод:** \n",
    "Сравниваем только группы В и С, т.к. данные выборки являются репрезентативными.\n",
    "На основании полученных расчетов, у категории С (люди со средним доходом) наибольшая вероятность\n",
    "возникновения задолженности, по сравнению с категорией В."
   ]
  },
  {
   "cell_type": "markdown",
   "id": "1dcc9b12",
   "metadata": {
    "deletable": false,
    "editable": false,
    "id": "1dcc9b12"
   },
   "source": [
    "#### 3.4 Как разные цели кредита влияют на его возврат в срок?"
   ]
  },
  {
   "cell_type": "markdown",
   "id": "e5f5e4a5",
   "metadata": {},
   "source": [
    "Ранее, в задании 18, мы уже разбили многообразие целей кредита на 4 категории.\n",
    "Выведем на экран из уникальные значения."
   ]
  },
  {
   "cell_type": "code",
   "execution_count": 51,
   "id": "c602bc8b",
   "metadata": {
    "deletable": false,
    "id": "c602bc8b"
   },
   "outputs": [
    {
     "data": {
      "text/plain": [
       "array(['операции с недвижимостью', 'операции с автомобилем',\n",
       "       'получение образования', 'проведение свадьбы'], dtype=object)"
      ]
     },
     "execution_count": 51,
     "metadata": {},
     "output_type": "execute_result"
    }
   ],
   "source": [
    "data['purpose_category'].unique()"
   ]
  },
  {
   "cell_type": "code",
   "execution_count": 52,
   "id": "528a142d",
   "metadata": {
    "scrolled": true
   },
   "outputs": [
    {
     "data": {
      "text/html": [
       "<div>\n",
       "<style scoped>\n",
       "    .dataframe tbody tr th:only-of-type {\n",
       "        vertical-align: middle;\n",
       "    }\n",
       "\n",
       "    .dataframe tbody tr th {\n",
       "        vertical-align: top;\n",
       "    }\n",
       "\n",
       "    .dataframe thead th {\n",
       "        text-align: right;\n",
       "    }\n",
       "</style>\n",
       "<table border=\"1\" class=\"dataframe\">\n",
       "  <thead>\n",
       "    <tr style=\"text-align: right;\">\n",
       "      <th>debt</th>\n",
       "      <th>0</th>\n",
       "      <th>1</th>\n",
       "      <th>ratio_purpose</th>\n",
       "    </tr>\n",
       "    <tr>\n",
       "      <th>purpose_category</th>\n",
       "      <th></th>\n",
       "      <th></th>\n",
       "      <th></th>\n",
       "    </tr>\n",
       "  </thead>\n",
       "  <tbody>\n",
       "    <tr>\n",
       "      <th>операции с автомобилем</th>\n",
       "      <td>3879</td>\n",
       "      <td>400</td>\n",
       "      <td>9.3%</td>\n",
       "    </tr>\n",
       "    <tr>\n",
       "      <th>операции с недвижимостью</th>\n",
       "      <td>9971</td>\n",
       "      <td>780</td>\n",
       "      <td>7.3%</td>\n",
       "    </tr>\n",
       "    <tr>\n",
       "      <th>получение образования</th>\n",
       "      <td>3619</td>\n",
       "      <td>369</td>\n",
       "      <td>9.3%</td>\n",
       "    </tr>\n",
       "    <tr>\n",
       "      <th>проведение свадьбы</th>\n",
       "      <td>2130</td>\n",
       "      <td>183</td>\n",
       "      <td>7.9%</td>\n",
       "    </tr>\n",
       "  </tbody>\n",
       "</table>\n",
       "</div>"
      ],
      "text/plain": [
       "debt                         0    1 ratio_purpose\n",
       "purpose_category                                 \n",
       "операции с автомобилем    3879  400          9.3%\n",
       "операции с недвижимостью  9971  780          7.3%\n",
       "получение образования     3619  369          9.3%\n",
       "проведение свадьбы        2130  183          7.9%"
      ]
     },
     "execution_count": 52,
     "metadata": {},
     "output_type": "execute_result"
    }
   ],
   "source": [
    "#Составим сводную таблицу:\n",
    "pivot_purpose_category = data.pivot_table (index = ['purpose_category'], \\\n",
    "                                columns = ['debt'], \\\n",
    "                                values = 'purpose', aggfunc='count')\n",
    "pivot_purpose_category['ratio_purpose'] = pivot_purpose_category[1]/(pivot_purpose_category[0]+pivot_purpose_category[1])\n",
    "pivot_purpose_category['ratio_purpose'] = pivot_purpose_category['ratio_purpose'].map('{:.1%}'.format)\n",
    "pivot_purpose_category"
   ]
  },
  {
   "cell_type": "markdown",
   "id": "cf05ed63",
   "metadata": {
    "deletable": false,
    "id": "cf05ed63"
   },
   "source": [
    "**Вывод:** \n",
    "Категории людей,которые берут кредит на обучение и операции с автомобилем, наиболее подвержены риску оказаться должниками перед банком.\n",
    "Сделки с недвижимостью являются наиболее надежными для банка, т.к.клиенты более исправно платят по таким кредитам."
   ]
  },
  {
   "cell_type": "markdown",
   "id": "46c1f10b",
   "metadata": {
    "deletable": false,
    "editable": false,
    "id": "46c1f10b"
   },
   "source": [
    "#### 3.5 Приведите возможные причины появления пропусков в исходных данных."
   ]
  },
  {
   "cell_type": "markdown",
   "id": "3697d2a9",
   "metadata": {
    "deletable": false,
    "id": "3697d2a9"
   },
   "source": [
    "*Ответ:* \n",
    "\n",
    "Причинами появления пропусков в данных могут быть: для случайных пропуской - человеческий фактор; ошибки при вводе данных; технические ошибки при сохранении файла, конвертации в другие форматы; повреждение файла.\n",
    "Бывает, что пропуски появляются не из-за чьей-то ошибки, а тоже несут в себе информацию. Наличие таких пропусков может быть объяснено данными из других столбцов таблицы."
   ]
  },
  {
   "cell_type": "markdown",
   "id": "3137d257",
   "metadata": {
    "deletable": false,
    "editable": false,
    "id": "3137d257"
   },
   "source": [
    "#### 3.6 Объясните, почему заполнить пропуски медианным значением — лучшее решение для количественных переменных."
   ]
  },
  {
   "cell_type": "markdown",
   "id": "cf40012a",
   "metadata": {
    "deletable": false,
    "id": "cf40012a"
   },
   "source": [
    "*Ответ:* \n",
    "Пропуски, заполненные медианными значениями, в некоторых случаях, являются наиболее конструктивным решением для замены отсутствующих данных. Медианные значения наиболее объективно отражают восполнение упущенной информации,т.к.являются типичными для данной выборки. Медиана устойчива к выбросам и аномальным значениям. Такое решение - один из наиболее простых и быстрых методов обработки пропусков(наряду со средним арифметическим. Это важно, когда данные и выводы из них требуются срочно.\n",
    "Медианное значение является типичным для данной выборки,часто используется как альтернатива среднему значению, а также "
   ]
  },
  {
   "cell_type": "markdown",
   "id": "57bc304e",
   "metadata": {
    "deletable": false,
    "editable": false,
    "id": "57bc304e"
   },
   "source": [
    "### Шаг 4: общий вывод."
   ]
  },
  {
   "cell_type": "markdown",
   "id": "1ab75d1c",
   "metadata": {
    "deletable": false,
    "id": "1ab75d1c"
   },
   "source": [
    "1)Как правило, чем меньше детей, тем меньше уровень долговой нагрузки, и тем легче семья справится с выплатой займа. Так, разница между категориями \"без детей\"(7.5%) и с 1-2 детьми(9.2%-9.5%) составляет 1,8-2,0%\\\n",
    "2)В данных прослеживается следующая тенденция: \"Люди, которые сотоят, или состояли ранее в официальном браке имеют меньше рисков стать должниками\" Граждане, побывавшие в браке, в среднем, на 2-3% успешнее холостых справляются с выплатой задолженностей. Брак воспитывает в людях чувство обязательства и ответственности.\n",
    "Так, овдовевшие люди лучше остальных групп справляются с выплатой кредитов (6.6%), далее, по возрастанию следуют разведенные(7.1%), женатые/замужние(7.6%). Хуже всех справляются с выплатой долга состоящие в гражданском браке (9.3%) и не состоящие в браке(9,8%)\\\n",
    "3)Вероятность возникновения задолженности выше в группе С(с уровнем заработка 50001–200000) составляет 8.5%, против 7,1% в группе В (с уровнем заработка 200001–1000000)\n",
    "Следовательно, более платежеспособное население является более надежными клиентами, так как реже допускает возникновение задолженностей.\\\n",
    "4)Граждане наиболее ответственно относятся к возврату займов, по операциям с недвижимостью (7,3%)т.к они берутся на крупные суммы на длительный срок и под залог недвижимости. \n",
    "Вероятность оказаться должником,устраивая свадьбу небольшая, и составляет 7.9%. Часть кредита оплачивается после проведения мероприятия, за счет свадебных подарков.\\\n",
    "Более всего подвержены риску задолженности граждане, взявшие займы на операции с автомобилем и получение образования - 9.3%\\\n",
    "\n",
    "**Подведем итоги:**\n",
    "\n",
    "Банк будет меньше рисковать, если прежде всего отдаст предпочтение в выдаче займов следующим категориям:\n",
    "- Без детей (7.5%),\n",
    "- вдовец/вдова (6.6%),\n",
    "- с уровнем дохода 200001–1000000 - группа В (6.0%),\n",
    "- на операции с недвижимостью (7,3%)."
   ]
  }
 ],
 "metadata": {
  "ExecuteTimeLog": [
   {
    "duration": 519,
    "start_time": "2023-03-26T18:59:51.889Z"
   },
   {
    "duration": 72,
    "start_time": "2023-03-26T18:59:56.773Z"
   },
   {
    "duration": 71,
    "start_time": "2023-03-26T19:00:02.100Z"
   },
   {
    "duration": 73,
    "start_time": "2023-03-27T12:20:27.294Z"
   },
   {
    "duration": 560,
    "start_time": "2023-03-27T12:20:33.294Z"
   },
   {
    "duration": 26,
    "start_time": "2023-03-27T12:20:33.857Z"
   },
   {
    "duration": 18,
    "start_time": "2023-03-27T12:20:33.885Z"
   },
   {
    "duration": 11,
    "start_time": "2023-03-27T12:20:33.905Z"
   },
   {
    "duration": 38,
    "start_time": "2023-03-27T12:20:33.948Z"
   },
   {
    "duration": 4,
    "start_time": "2023-03-27T12:20:33.989Z"
   },
   {
    "duration": 11,
    "start_time": "2023-03-27T12:20:33.994Z"
   },
   {
    "duration": 10,
    "start_time": "2023-03-27T12:20:34.007Z"
   },
   {
    "duration": 31,
    "start_time": "2023-03-27T12:20:34.020Z"
   },
   {
    "duration": 5,
    "start_time": "2023-03-27T12:20:34.057Z"
   },
   {
    "duration": 36,
    "start_time": "2023-03-27T12:20:34.064Z"
   },
   {
    "duration": 11,
    "start_time": "2023-03-27T12:20:34.102Z"
   },
   {
    "duration": 5,
    "start_time": "2023-03-27T12:20:34.115Z"
   },
   {
    "duration": 20,
    "start_time": "2023-03-27T12:20:34.142Z"
   },
   {
    "duration": 24,
    "start_time": "2023-03-27T12:20:34.164Z"
   },
   {
    "duration": 59,
    "start_time": "2023-03-27T12:20:34.190Z"
   },
   {
    "duration": 5,
    "start_time": "2023-03-27T12:20:34.250Z"
   },
   {
    "duration": 13,
    "start_time": "2023-03-27T12:20:34.257Z"
   },
   {
    "duration": 6,
    "start_time": "2023-03-27T12:20:34.272Z"
   },
   {
    "duration": 4,
    "start_time": "2023-03-27T12:20:34.279Z"
   },
   {
    "duration": 14,
    "start_time": "2023-03-27T12:20:34.285Z"
   },
   {
    "duration": 3,
    "start_time": "2023-03-27T12:20:34.301Z"
   },
   {
    "duration": 86,
    "start_time": "2023-03-27T12:20:34.306Z"
   },
   {
    "duration": 0,
    "start_time": "2023-03-27T12:20:34.394Z"
   },
   {
    "duration": 0,
    "start_time": "2023-03-27T12:20:34.395Z"
   },
   {
    "duration": 0,
    "start_time": "2023-03-27T12:20:34.396Z"
   },
   {
    "duration": 62,
    "start_time": "2023-03-27T12:21:35.314Z"
   },
   {
    "duration": 86,
    "start_time": "2023-03-27T12:21:50.714Z"
   },
   {
    "duration": 16,
    "start_time": "2023-03-27T12:21:50.802Z"
   },
   {
    "duration": 43,
    "start_time": "2023-03-27T12:21:50.820Z"
   },
   {
    "duration": 11,
    "start_time": "2023-03-27T12:21:50.864Z"
   },
   {
    "duration": 55,
    "start_time": "2023-03-27T12:21:50.878Z"
   },
   {
    "duration": 17,
    "start_time": "2023-03-27T12:21:50.934Z"
   },
   {
    "duration": 34,
    "start_time": "2023-03-27T12:21:50.957Z"
   },
   {
    "duration": 6,
    "start_time": "2023-03-27T12:21:50.993Z"
   },
   {
    "duration": 7,
    "start_time": "2023-03-27T12:21:51.001Z"
   },
   {
    "duration": 9,
    "start_time": "2023-03-27T12:21:51.010Z"
   },
   {
    "duration": 46,
    "start_time": "2023-03-27T12:21:51.021Z"
   },
   {
    "duration": 12,
    "start_time": "2023-03-27T12:21:51.069Z"
   },
   {
    "duration": 5,
    "start_time": "2023-03-27T12:21:51.083Z"
   },
   {
    "duration": 25,
    "start_time": "2023-03-27T12:21:51.091Z"
   },
   {
    "duration": 45,
    "start_time": "2023-03-27T12:21:51.118Z"
   },
   {
    "duration": 18,
    "start_time": "2023-03-27T12:21:51.166Z"
   },
   {
    "duration": 3,
    "start_time": "2023-03-27T12:21:51.186Z"
   },
   {
    "duration": 228,
    "start_time": "2023-03-27T12:21:51.191Z"
   },
   {
    "duration": 17,
    "start_time": "2023-03-27T12:21:51.421Z"
   },
   {
    "duration": 15,
    "start_time": "2023-03-27T12:21:51.440Z"
   },
   {
    "duration": 15,
    "start_time": "2023-03-27T12:21:51.458Z"
   },
   {
    "duration": 9,
    "start_time": "2023-03-27T12:21:51.475Z"
   },
   {
    "duration": 46,
    "start_time": "2023-03-27T12:21:51.486Z"
   },
   {
    "duration": 0,
    "start_time": "2023-03-27T12:21:51.534Z"
   },
   {
    "duration": 0,
    "start_time": "2023-03-27T12:21:51.535Z"
   },
   {
    "duration": 0,
    "start_time": "2023-03-27T12:21:51.537Z"
   },
   {
    "duration": 694,
    "start_time": "2023-03-27T15:08:27.380Z"
   },
   {
    "duration": 21,
    "start_time": "2023-03-27T15:08:28.076Z"
   },
   {
    "duration": 17,
    "start_time": "2023-03-27T15:08:28.098Z"
   },
   {
    "duration": 8,
    "start_time": "2023-03-27T15:08:28.117Z"
   },
   {
    "duration": 41,
    "start_time": "2023-03-27T15:08:28.127Z"
   },
   {
    "duration": 3,
    "start_time": "2023-03-27T15:08:28.169Z"
   },
   {
    "duration": 15,
    "start_time": "2023-03-27T15:08:28.174Z"
   },
   {
    "duration": 12,
    "start_time": "2023-03-27T15:08:28.190Z"
   },
   {
    "duration": 10,
    "start_time": "2023-03-27T15:08:28.203Z"
   },
   {
    "duration": 4,
    "start_time": "2023-03-27T15:08:28.216Z"
   },
   {
    "duration": 45,
    "start_time": "2023-03-27T15:08:28.221Z"
   },
   {
    "duration": 9,
    "start_time": "2023-03-27T15:08:28.268Z"
   },
   {
    "duration": 3,
    "start_time": "2023-03-27T15:08:28.278Z"
   },
   {
    "duration": 22,
    "start_time": "2023-03-27T15:08:28.282Z"
   },
   {
    "duration": 20,
    "start_time": "2023-03-27T15:08:28.305Z"
   },
   {
    "duration": 23,
    "start_time": "2023-03-27T15:08:28.334Z"
   },
   {
    "duration": 3,
    "start_time": "2023-03-27T15:08:28.358Z"
   },
   {
    "duration": 16,
    "start_time": "2023-03-27T15:08:28.363Z"
   },
   {
    "duration": 12,
    "start_time": "2023-03-27T15:08:28.380Z"
   },
   {
    "duration": 5,
    "start_time": "2023-03-27T15:08:28.393Z"
   },
   {
    "duration": 17,
    "start_time": "2023-03-27T15:08:28.400Z"
   },
   {
    "duration": 11,
    "start_time": "2023-03-27T15:08:28.418Z"
   },
   {
    "duration": 93,
    "start_time": "2023-03-27T15:08:28.431Z"
   },
   {
    "duration": 0,
    "start_time": "2023-03-27T15:08:28.525Z"
   },
   {
    "duration": 0,
    "start_time": "2023-03-27T15:08:28.527Z"
   },
   {
    "duration": 0,
    "start_time": "2023-03-27T15:08:28.528Z"
   },
   {
    "duration": 71,
    "start_time": "2023-03-27T15:08:47.960Z"
   },
   {
    "duration": 20,
    "start_time": "2023-03-27T15:08:48.033Z"
   },
   {
    "duration": 14,
    "start_time": "2023-03-27T15:08:48.055Z"
   },
   {
    "duration": 13,
    "start_time": "2023-03-27T15:08:48.070Z"
   },
   {
    "duration": 62,
    "start_time": "2023-03-27T15:08:48.085Z"
   },
   {
    "duration": 4,
    "start_time": "2023-03-27T15:08:48.149Z"
   },
   {
    "duration": 11,
    "start_time": "2023-03-27T15:08:48.154Z"
   },
   {
    "duration": 4,
    "start_time": "2023-03-27T15:08:48.167Z"
   },
   {
    "duration": 6,
    "start_time": "2023-03-27T15:08:48.173Z"
   },
   {
    "duration": 4,
    "start_time": "2023-03-27T15:08:48.181Z"
   },
   {
    "duration": 74,
    "start_time": "2023-03-27T15:08:48.187Z"
   },
   {
    "duration": 10,
    "start_time": "2023-03-27T15:08:48.263Z"
   },
   {
    "duration": 6,
    "start_time": "2023-03-27T15:08:48.275Z"
   },
   {
    "duration": 12,
    "start_time": "2023-03-27T15:08:48.284Z"
   },
   {
    "duration": 20,
    "start_time": "2023-03-27T15:08:48.297Z"
   },
   {
    "duration": 23,
    "start_time": "2023-03-27T15:08:48.337Z"
   },
   {
    "duration": 3,
    "start_time": "2023-03-27T15:08:48.362Z"
   },
   {
    "duration": 13,
    "start_time": "2023-03-27T15:08:48.367Z"
   },
   {
    "duration": 5,
    "start_time": "2023-03-27T15:08:48.382Z"
   },
   {
    "duration": 8,
    "start_time": "2023-03-27T15:08:48.389Z"
   },
   {
    "duration": 10,
    "start_time": "2023-03-27T15:08:48.399Z"
   },
   {
    "duration": 27,
    "start_time": "2023-03-27T15:08:48.411Z"
   },
   {
    "duration": 13,
    "start_time": "2023-03-27T15:08:48.444Z"
   },
   {
    "duration": 9,
    "start_time": "2023-03-27T15:08:48.459Z"
   },
   {
    "duration": 4,
    "start_time": "2023-03-27T15:08:48.470Z"
   },
   {
    "duration": 5,
    "start_time": "2023-03-27T15:08:48.476Z"
   },
   {
    "duration": 10,
    "start_time": "2023-03-27T16:17:49.287Z"
   },
   {
    "duration": 68,
    "start_time": "2023-03-27T16:18:16.135Z"
   },
   {
    "duration": 13,
    "start_time": "2023-03-27T16:18:16.205Z"
   },
   {
    "duration": 16,
    "start_time": "2023-03-27T16:18:16.220Z"
   },
   {
    "duration": 11,
    "start_time": "2023-03-27T16:18:16.238Z"
   },
   {
    "duration": 38,
    "start_time": "2023-03-27T16:18:16.251Z"
   },
   {
    "duration": 3,
    "start_time": "2023-03-27T16:18:16.291Z"
   },
   {
    "duration": 15,
    "start_time": "2023-03-27T16:18:16.295Z"
   },
   {
    "duration": 23,
    "start_time": "2023-03-27T16:18:16.312Z"
   },
   {
    "duration": 6,
    "start_time": "2023-03-27T16:18:16.337Z"
   },
   {
    "duration": 15,
    "start_time": "2023-03-27T16:18:16.345Z"
   },
   {
    "duration": 36,
    "start_time": "2023-03-27T16:18:16.362Z"
   },
   {
    "duration": 10,
    "start_time": "2023-03-27T16:18:16.400Z"
   },
   {
    "duration": 8,
    "start_time": "2023-03-27T16:18:16.411Z"
   },
   {
    "duration": 10,
    "start_time": "2023-03-27T16:18:16.434Z"
   },
   {
    "duration": 26,
    "start_time": "2023-03-27T16:18:16.445Z"
   },
   {
    "duration": 18,
    "start_time": "2023-03-27T16:18:16.472Z"
   },
   {
    "duration": 3,
    "start_time": "2023-03-27T16:18:16.492Z"
   },
   {
    "duration": 15,
    "start_time": "2023-03-27T16:18:16.497Z"
   },
   {
    "duration": 21,
    "start_time": "2023-03-27T16:18:16.514Z"
   },
   {
    "duration": 3,
    "start_time": "2023-03-27T16:18:16.537Z"
   },
   {
    "duration": 31,
    "start_time": "2023-03-27T16:18:16.542Z"
   },
   {
    "duration": 9,
    "start_time": "2023-03-27T16:18:16.575Z"
   },
   {
    "duration": 6,
    "start_time": "2023-03-27T16:18:16.586Z"
   },
   {
    "duration": 17,
    "start_time": "2023-03-27T16:18:16.594Z"
   },
   {
    "duration": 7,
    "start_time": "2023-03-27T16:18:16.613Z"
   },
   {
    "duration": 14,
    "start_time": "2023-03-27T16:18:16.621Z"
   },
   {
    "duration": 17,
    "start_time": "2023-03-27T16:18:16.636Z"
   },
   {
    "duration": 24,
    "start_time": "2023-03-27T16:18:25.589Z"
   },
   {
    "duration": 16,
    "start_time": "2023-03-27T16:22:43.484Z"
   },
   {
    "duration": 74,
    "start_time": "2023-03-27T16:24:14.362Z"
   },
   {
    "duration": 16,
    "start_time": "2023-03-27T16:24:14.438Z"
   },
   {
    "duration": 22,
    "start_time": "2023-03-27T16:24:14.456Z"
   },
   {
    "duration": 23,
    "start_time": "2023-03-27T16:24:14.480Z"
   },
   {
    "duration": 44,
    "start_time": "2023-03-27T16:24:14.506Z"
   },
   {
    "duration": 4,
    "start_time": "2023-03-27T16:24:14.552Z"
   },
   {
    "duration": 23,
    "start_time": "2023-03-27T16:24:14.558Z"
   },
   {
    "duration": 16,
    "start_time": "2023-03-27T16:24:14.584Z"
   },
   {
    "duration": 19,
    "start_time": "2023-03-27T16:24:14.602Z"
   },
   {
    "duration": 13,
    "start_time": "2023-03-27T16:24:14.623Z"
   },
   {
    "duration": 56,
    "start_time": "2023-03-27T16:24:14.637Z"
   },
   {
    "duration": 15,
    "start_time": "2023-03-27T16:24:14.696Z"
   },
   {
    "duration": 12,
    "start_time": "2023-03-27T16:24:14.713Z"
   },
   {
    "duration": 23,
    "start_time": "2023-03-27T16:24:14.734Z"
   },
   {
    "duration": 32,
    "start_time": "2023-03-27T16:24:14.760Z"
   },
   {
    "duration": 17,
    "start_time": "2023-03-27T16:24:14.793Z"
   },
   {
    "duration": 4,
    "start_time": "2023-03-27T16:24:14.811Z"
   },
   {
    "duration": 23,
    "start_time": "2023-03-27T16:24:14.816Z"
   },
   {
    "duration": 16,
    "start_time": "2023-03-27T16:24:14.840Z"
   },
   {
    "duration": 12,
    "start_time": "2023-03-27T16:24:14.858Z"
   },
   {
    "duration": 13,
    "start_time": "2023-03-27T16:24:14.871Z"
   },
   {
    "duration": 24,
    "start_time": "2023-03-27T16:24:14.885Z"
   },
   {
    "duration": 7,
    "start_time": "2023-03-27T16:24:14.911Z"
   },
   {
    "duration": 14,
    "start_time": "2023-03-27T16:24:14.919Z"
   },
   {
    "duration": 10,
    "start_time": "2023-03-27T16:24:14.935Z"
   },
   {
    "duration": 3,
    "start_time": "2023-03-27T16:24:14.946Z"
   },
   {
    "duration": 7,
    "start_time": "2023-03-27T16:24:14.950Z"
   },
   {
    "duration": 20,
    "start_time": "2023-03-27T16:29:22.024Z"
   },
   {
    "duration": 46,
    "start_time": "2023-03-27T19:31:35.400Z"
   },
   {
    "duration": 630,
    "start_time": "2023-03-27T19:31:45.003Z"
   },
   {
    "duration": 54,
    "start_time": "2023-03-27T19:31:45.635Z"
   },
   {
    "duration": 16,
    "start_time": "2023-03-27T19:31:45.692Z"
   },
   {
    "duration": 9,
    "start_time": "2023-03-27T19:31:45.710Z"
   },
   {
    "duration": 33,
    "start_time": "2023-03-27T19:31:45.721Z"
   },
   {
    "duration": 3,
    "start_time": "2023-03-27T19:31:45.756Z"
   },
   {
    "duration": 17,
    "start_time": "2023-03-27T19:31:45.761Z"
   },
   {
    "duration": 6,
    "start_time": "2023-03-27T19:31:45.780Z"
   },
   {
    "duration": 13,
    "start_time": "2023-03-27T19:31:45.787Z"
   },
   {
    "duration": 6,
    "start_time": "2023-03-27T19:31:45.802Z"
   },
   {
    "duration": 68,
    "start_time": "2023-03-27T19:31:45.810Z"
   },
   {
    "duration": 14,
    "start_time": "2023-03-27T19:31:45.888Z"
   },
   {
    "duration": 4,
    "start_time": "2023-03-27T19:31:45.904Z"
   },
   {
    "duration": 12,
    "start_time": "2023-03-27T19:31:45.910Z"
   },
   {
    "duration": 29,
    "start_time": "2023-03-27T19:31:45.923Z"
   },
   {
    "duration": 34,
    "start_time": "2023-03-27T19:31:45.971Z"
   },
   {
    "duration": 4,
    "start_time": "2023-03-27T19:31:46.008Z"
   },
   {
    "duration": 13,
    "start_time": "2023-03-27T19:31:46.014Z"
   },
   {
    "duration": 8,
    "start_time": "2023-03-27T19:31:46.030Z"
   },
   {
    "duration": 10,
    "start_time": "2023-03-27T19:31:46.040Z"
   },
   {
    "duration": 24,
    "start_time": "2023-03-27T19:31:46.052Z"
   },
   {
    "duration": 10,
    "start_time": "2023-03-27T19:31:46.079Z"
   },
   {
    "duration": 11,
    "start_time": "2023-03-27T19:31:46.095Z"
   },
   {
    "duration": 30,
    "start_time": "2023-03-27T19:31:46.109Z"
   },
   {
    "duration": 47,
    "start_time": "2023-03-27T19:31:46.142Z"
   },
   {
    "duration": 10,
    "start_time": "2023-03-27T19:31:46.197Z"
   },
   {
    "duration": 4,
    "start_time": "2023-03-27T19:31:46.209Z"
   },
   {
    "duration": 5,
    "start_time": "2023-03-27T19:31:46.215Z"
   },
   {
    "duration": 4,
    "start_time": "2023-03-27T19:31:46.222Z"
   },
   {
    "duration": 52,
    "start_time": "2023-03-27T19:33:03.196Z"
   },
   {
    "duration": 55,
    "start_time": "2023-03-27T19:44:36.352Z"
   },
   {
    "duration": 133,
    "start_time": "2023-03-27T19:45:59.503Z"
   },
   {
    "duration": 36,
    "start_time": "2023-03-27T19:45:59.641Z"
   },
   {
    "duration": 39,
    "start_time": "2023-03-27T19:45:59.683Z"
   },
   {
    "duration": 29,
    "start_time": "2023-03-27T19:45:59.733Z"
   },
   {
    "duration": 60,
    "start_time": "2023-03-27T19:45:59.769Z"
   },
   {
    "duration": 8,
    "start_time": "2023-03-27T19:45:59.837Z"
   },
   {
    "duration": 16,
    "start_time": "2023-03-27T19:45:59.852Z"
   },
   {
    "duration": 11,
    "start_time": "2023-03-27T19:45:59.875Z"
   },
   {
    "duration": 10,
    "start_time": "2023-03-27T19:45:59.892Z"
   },
   {
    "duration": 11,
    "start_time": "2023-03-27T19:45:59.909Z"
   },
   {
    "duration": 62,
    "start_time": "2023-03-27T19:45:59.927Z"
   },
   {
    "duration": 18,
    "start_time": "2023-03-27T19:45:59.995Z"
   },
   {
    "duration": 5,
    "start_time": "2023-03-27T19:46:00.024Z"
   },
   {
    "duration": 19,
    "start_time": "2023-03-27T19:46:00.037Z"
   },
   {
    "duration": 28,
    "start_time": "2023-03-27T19:46:00.060Z"
   },
   {
    "duration": 28,
    "start_time": "2023-03-27T19:46:00.090Z"
   },
   {
    "duration": 4,
    "start_time": "2023-03-27T19:46:00.120Z"
   },
   {
    "duration": 38,
    "start_time": "2023-03-27T19:46:00.126Z"
   },
   {
    "duration": 30,
    "start_time": "2023-03-27T19:46:00.171Z"
   },
   {
    "duration": 17,
    "start_time": "2023-03-27T19:46:00.222Z"
   },
   {
    "duration": 61,
    "start_time": "2023-03-27T19:46:00.241Z"
   },
   {
    "duration": 12,
    "start_time": "2023-03-27T19:46:00.304Z"
   },
   {
    "duration": 15,
    "start_time": "2023-03-27T19:46:00.318Z"
   },
   {
    "duration": 72,
    "start_time": "2023-03-27T19:46:00.338Z"
   },
   {
    "duration": 12,
    "start_time": "2023-03-27T19:46:00.412Z"
   },
   {
    "duration": 47,
    "start_time": "2023-03-27T19:46:00.427Z"
   },
   {
    "duration": 44,
    "start_time": "2023-03-27T19:46:00.491Z"
   },
   {
    "duration": 27,
    "start_time": "2023-03-27T19:46:00.547Z"
   },
   {
    "duration": 33,
    "start_time": "2023-03-27T19:46:00.577Z"
   },
   {
    "duration": 38,
    "start_time": "2023-03-27T19:46:00.612Z"
   },
   {
    "duration": 629,
    "start_time": "2023-03-29T19:27:28.269Z"
   },
   {
    "duration": 30,
    "start_time": "2023-03-29T19:27:28.900Z"
   },
   {
    "duration": 30,
    "start_time": "2023-03-29T19:27:28.932Z"
   },
   {
    "duration": 17,
    "start_time": "2023-03-29T19:27:28.964Z"
   },
   {
    "duration": 64,
    "start_time": "2023-03-29T19:27:28.984Z"
   },
   {
    "duration": 5,
    "start_time": "2023-03-29T19:27:29.057Z"
   },
   {
    "duration": 12,
    "start_time": "2023-03-29T19:27:29.064Z"
   },
   {
    "duration": 5,
    "start_time": "2023-03-29T19:27:29.078Z"
   },
   {
    "duration": 11,
    "start_time": "2023-03-29T19:27:29.085Z"
   },
   {
    "duration": 5,
    "start_time": "2023-03-29T19:27:29.098Z"
   },
   {
    "duration": 95,
    "start_time": "2023-03-29T19:27:29.105Z"
   },
   {
    "duration": 13,
    "start_time": "2023-03-29T19:27:29.202Z"
   },
   {
    "duration": 5,
    "start_time": "2023-03-29T19:27:29.216Z"
   },
   {
    "duration": 40,
    "start_time": "2023-03-29T19:27:29.225Z"
   },
   {
    "duration": 32,
    "start_time": "2023-03-29T19:27:29.267Z"
   },
   {
    "duration": 43,
    "start_time": "2023-03-29T19:27:29.301Z"
   },
   {
    "duration": 7,
    "start_time": "2023-03-29T19:27:29.351Z"
   },
   {
    "duration": 13,
    "start_time": "2023-03-29T19:27:29.359Z"
   },
   {
    "duration": 8,
    "start_time": "2023-03-29T19:27:29.373Z"
   },
   {
    "duration": 4,
    "start_time": "2023-03-29T19:27:29.383Z"
   },
   {
    "duration": 15,
    "start_time": "2023-03-29T19:27:29.389Z"
   },
   {
    "duration": 960,
    "start_time": "2023-03-29T19:27:29.406Z"
   },
   {
    "duration": 0,
    "start_time": "2023-03-29T19:27:30.368Z"
   },
   {
    "duration": 1,
    "start_time": "2023-03-29T19:27:30.369Z"
   },
   {
    "duration": 0,
    "start_time": "2023-03-29T19:27:30.371Z"
   },
   {
    "duration": 0,
    "start_time": "2023-03-29T19:27:30.372Z"
   },
   {
    "duration": 0,
    "start_time": "2023-03-29T19:27:30.373Z"
   },
   {
    "duration": 0,
    "start_time": "2023-03-29T19:27:30.374Z"
   },
   {
    "duration": 0,
    "start_time": "2023-03-29T19:27:30.376Z"
   },
   {
    "duration": 0,
    "start_time": "2023-03-29T19:27:30.377Z"
   },
   {
    "duration": 9,
    "start_time": "2023-03-29T19:28:00.357Z"
   },
   {
    "duration": 507,
    "start_time": "2023-03-30T11:35:56.961Z"
   },
   {
    "duration": 24,
    "start_time": "2023-03-30T11:35:57.470Z"
   },
   {
    "duration": 16,
    "start_time": "2023-03-30T11:35:57.495Z"
   },
   {
    "duration": 17,
    "start_time": "2023-03-30T11:35:57.514Z"
   },
   {
    "duration": 36,
    "start_time": "2023-03-30T11:35:57.533Z"
   },
   {
    "duration": 4,
    "start_time": "2023-03-30T11:35:57.571Z"
   },
   {
    "duration": 17,
    "start_time": "2023-03-30T11:35:57.576Z"
   },
   {
    "duration": 29,
    "start_time": "2023-03-30T11:35:57.595Z"
   },
   {
    "duration": 7,
    "start_time": "2023-03-30T11:35:57.626Z"
   },
   {
    "duration": 5,
    "start_time": "2023-03-30T11:35:57.637Z"
   },
   {
    "duration": 38,
    "start_time": "2023-03-30T11:35:57.644Z"
   },
   {
    "duration": 10,
    "start_time": "2023-03-30T11:35:57.683Z"
   },
   {
    "duration": 4,
    "start_time": "2023-03-30T11:35:57.724Z"
   },
   {
    "duration": 13,
    "start_time": "2023-03-30T11:35:57.730Z"
   },
   {
    "duration": 22,
    "start_time": "2023-03-30T11:35:57.744Z"
   },
   {
    "duration": 19,
    "start_time": "2023-03-30T11:35:57.768Z"
   },
   {
    "duration": 35,
    "start_time": "2023-03-30T11:35:57.789Z"
   },
   {
    "duration": 19,
    "start_time": "2023-03-30T11:35:57.827Z"
   },
   {
    "duration": 8,
    "start_time": "2023-03-30T11:35:57.848Z"
   },
   {
    "duration": 4,
    "start_time": "2023-03-30T11:35:57.858Z"
   },
   {
    "duration": 17,
    "start_time": "2023-03-30T11:35:57.864Z"
   },
   {
    "duration": 106,
    "start_time": "2023-03-30T11:35:57.883Z"
   },
   {
    "duration": 0,
    "start_time": "2023-03-30T11:35:57.991Z"
   },
   {
    "duration": 0,
    "start_time": "2023-03-30T11:35:57.992Z"
   },
   {
    "duration": 0,
    "start_time": "2023-03-30T11:35:57.994Z"
   },
   {
    "duration": 0,
    "start_time": "2023-03-30T11:35:57.996Z"
   },
   {
    "duration": 0,
    "start_time": "2023-03-30T11:35:57.997Z"
   },
   {
    "duration": 0,
    "start_time": "2023-03-30T11:35:57.998Z"
   },
   {
    "duration": 0,
    "start_time": "2023-03-30T11:35:57.999Z"
   },
   {
    "duration": 0,
    "start_time": "2023-03-30T11:35:58.000Z"
   },
   {
    "duration": 65,
    "start_time": "2023-03-30T11:46:43.090Z"
   },
   {
    "duration": 15,
    "start_time": "2023-03-30T11:46:43.157Z"
   },
   {
    "duration": 20,
    "start_time": "2023-03-30T11:46:43.173Z"
   },
   {
    "duration": 9,
    "start_time": "2023-03-30T11:46:43.194Z"
   },
   {
    "duration": 33,
    "start_time": "2023-03-30T11:46:43.225Z"
   },
   {
    "duration": 3,
    "start_time": "2023-03-30T11:46:43.260Z"
   },
   {
    "duration": 11,
    "start_time": "2023-03-30T11:46:43.265Z"
   },
   {
    "duration": 15,
    "start_time": "2023-03-30T11:46:43.277Z"
   },
   {
    "duration": 28,
    "start_time": "2023-03-30T11:46:43.293Z"
   },
   {
    "duration": 25,
    "start_time": "2023-03-30T11:46:43.323Z"
   },
   {
    "duration": 48,
    "start_time": "2023-03-30T11:46:43.349Z"
   },
   {
    "duration": 9,
    "start_time": "2023-03-30T11:46:43.399Z"
   },
   {
    "duration": 13,
    "start_time": "2023-03-30T11:46:43.409Z"
   },
   {
    "duration": 29,
    "start_time": "2023-03-30T11:46:43.424Z"
   },
   {
    "duration": 30,
    "start_time": "2023-03-30T11:46:43.455Z"
   },
   {
    "duration": 19,
    "start_time": "2023-03-30T11:46:43.487Z"
   },
   {
    "duration": 4,
    "start_time": "2023-03-30T11:46:43.508Z"
   },
   {
    "duration": 26,
    "start_time": "2023-03-30T11:46:43.514Z"
   },
   {
    "duration": 20,
    "start_time": "2023-03-30T11:46:43.542Z"
   },
   {
    "duration": 6,
    "start_time": "2023-03-30T11:46:43.564Z"
   },
   {
    "duration": 35,
    "start_time": "2023-03-30T11:46:43.571Z"
   },
   {
    "duration": 16,
    "start_time": "2023-03-30T11:46:43.608Z"
   },
   {
    "duration": 0,
    "start_time": "2023-03-30T11:46:43.626Z"
   },
   {
    "duration": 0,
    "start_time": "2023-03-30T11:46:43.628Z"
   },
   {
    "duration": 0,
    "start_time": "2023-03-30T11:46:43.629Z"
   },
   {
    "duration": 0,
    "start_time": "2023-03-30T11:46:43.630Z"
   },
   {
    "duration": 0,
    "start_time": "2023-03-30T11:46:43.631Z"
   },
   {
    "duration": 0,
    "start_time": "2023-03-30T11:46:43.632Z"
   },
   {
    "duration": 0,
    "start_time": "2023-03-30T11:46:43.634Z"
   },
   {
    "duration": 0,
    "start_time": "2023-03-30T11:46:43.635Z"
   },
   {
    "duration": 79,
    "start_time": "2023-03-30T12:00:42.569Z"
   },
   {
    "duration": 15,
    "start_time": "2023-03-30T12:00:42.651Z"
   },
   {
    "duration": 25,
    "start_time": "2023-03-30T12:00:42.667Z"
   },
   {
    "duration": 10,
    "start_time": "2023-03-30T12:00:42.694Z"
   },
   {
    "duration": 45,
    "start_time": "2023-03-30T12:00:42.706Z"
   },
   {
    "duration": 3,
    "start_time": "2023-03-30T12:00:42.753Z"
   },
   {
    "duration": 13,
    "start_time": "2023-03-30T12:00:42.758Z"
   },
   {
    "duration": 6,
    "start_time": "2023-03-30T12:00:42.773Z"
   },
   {
    "duration": 6,
    "start_time": "2023-03-30T12:00:42.780Z"
   },
   {
    "duration": 10,
    "start_time": "2023-03-30T12:00:42.788Z"
   },
   {
    "duration": 33,
    "start_time": "2023-03-30T12:00:42.824Z"
   },
   {
    "duration": 11,
    "start_time": "2023-03-30T12:00:42.858Z"
   },
   {
    "duration": 14,
    "start_time": "2023-03-30T12:00:42.870Z"
   },
   {
    "duration": 10,
    "start_time": "2023-03-30T12:00:42.888Z"
   },
   {
    "duration": 40,
    "start_time": "2023-03-30T12:00:42.899Z"
   },
   {
    "duration": 19,
    "start_time": "2023-03-30T12:00:42.941Z"
   },
   {
    "duration": 4,
    "start_time": "2023-03-30T12:00:42.961Z"
   },
   {
    "duration": 11,
    "start_time": "2023-03-30T12:00:42.968Z"
   },
   {
    "duration": 15,
    "start_time": "2023-03-30T12:00:42.980Z"
   },
   {
    "duration": 8,
    "start_time": "2023-03-30T12:00:42.996Z"
   },
   {
    "duration": 8,
    "start_time": "2023-03-30T12:00:43.024Z"
   },
   {
    "duration": 9,
    "start_time": "2023-03-30T12:00:43.035Z"
   },
   {
    "duration": 0,
    "start_time": "2023-03-30T12:00:43.045Z"
   },
   {
    "duration": 0,
    "start_time": "2023-03-30T12:00:43.047Z"
   },
   {
    "duration": 0,
    "start_time": "2023-03-30T12:00:43.048Z"
   },
   {
    "duration": 0,
    "start_time": "2023-03-30T12:00:43.049Z"
   },
   {
    "duration": 0,
    "start_time": "2023-03-30T12:00:43.050Z"
   },
   {
    "duration": 5,
    "start_time": "2023-03-30T12:00:43.094Z"
   },
   {
    "duration": 21,
    "start_time": "2023-03-30T12:00:43.102Z"
   },
   {
    "duration": 16,
    "start_time": "2023-03-30T12:00:43.125Z"
   },
   {
    "duration": 5,
    "start_time": "2023-03-30T12:00:43.143Z"
   },
   {
    "duration": 64,
    "start_time": "2023-03-30T12:03:20.171Z"
   },
   {
    "duration": 17,
    "start_time": "2023-03-30T12:03:20.237Z"
   },
   {
    "duration": 19,
    "start_time": "2023-03-30T12:03:20.256Z"
   },
   {
    "duration": 11,
    "start_time": "2023-03-30T12:03:20.277Z"
   },
   {
    "duration": 56,
    "start_time": "2023-03-30T12:03:20.291Z"
   },
   {
    "duration": 4,
    "start_time": "2023-03-30T12:03:20.349Z"
   },
   {
    "duration": 10,
    "start_time": "2023-03-30T12:03:20.355Z"
   },
   {
    "duration": 5,
    "start_time": "2023-03-30T12:03:20.367Z"
   },
   {
    "duration": 9,
    "start_time": "2023-03-30T12:03:20.373Z"
   },
   {
    "duration": 5,
    "start_time": "2023-03-30T12:03:20.384Z"
   },
   {
    "duration": 70,
    "start_time": "2023-03-30T12:03:20.391Z"
   },
   {
    "duration": 12,
    "start_time": "2023-03-30T12:03:20.464Z"
   },
   {
    "duration": 15,
    "start_time": "2023-03-30T12:03:20.477Z"
   },
   {
    "duration": 35,
    "start_time": "2023-03-30T12:03:20.495Z"
   },
   {
    "duration": 22,
    "start_time": "2023-03-30T12:03:20.532Z"
   },
   {
    "duration": 18,
    "start_time": "2023-03-30T12:03:20.556Z"
   },
   {
    "duration": 3,
    "start_time": "2023-03-30T12:03:20.576Z"
   },
   {
    "duration": 38,
    "start_time": "2023-03-30T12:03:20.581Z"
   },
   {
    "duration": 15,
    "start_time": "2023-03-30T12:03:20.621Z"
   },
   {
    "duration": 4,
    "start_time": "2023-03-30T12:03:20.637Z"
   },
   {
    "duration": 32,
    "start_time": "2023-03-30T12:03:20.643Z"
   },
   {
    "duration": 10,
    "start_time": "2023-03-30T12:03:20.677Z"
   },
   {
    "duration": 0,
    "start_time": "2023-03-30T12:03:20.688Z"
   },
   {
    "duration": 0,
    "start_time": "2023-03-30T12:03:20.690Z"
   },
   {
    "duration": 0,
    "start_time": "2023-03-30T12:03:20.691Z"
   },
   {
    "duration": 0,
    "start_time": "2023-03-30T12:03:20.693Z"
   },
   {
    "duration": 0,
    "start_time": "2023-03-30T12:03:20.694Z"
   },
   {
    "duration": 0,
    "start_time": "2023-03-30T12:03:20.695Z"
   },
   {
    "duration": 0,
    "start_time": "2023-03-30T12:03:20.696Z"
   },
   {
    "duration": 0,
    "start_time": "2023-03-30T12:03:20.698Z"
   },
   {
    "duration": 72,
    "start_time": "2023-03-30T12:03:31.910Z"
   },
   {
    "duration": 16,
    "start_time": "2023-03-30T12:03:31.984Z"
   },
   {
    "duration": 25,
    "start_time": "2023-03-30T12:03:32.002Z"
   },
   {
    "duration": 14,
    "start_time": "2023-03-30T12:03:32.029Z"
   },
   {
    "duration": 37,
    "start_time": "2023-03-30T12:03:32.045Z"
   },
   {
    "duration": 3,
    "start_time": "2023-03-30T12:03:32.084Z"
   },
   {
    "duration": 8,
    "start_time": "2023-03-30T12:03:32.234Z"
   },
   {
    "duration": 5,
    "start_time": "2023-03-30T12:03:32.244Z"
   },
   {
    "duration": 8,
    "start_time": "2023-03-30T12:03:32.251Z"
   },
   {
    "duration": 23,
    "start_time": "2023-03-30T12:03:32.261Z"
   },
   {
    "duration": 57,
    "start_time": "2023-03-30T12:03:32.288Z"
   },
   {
    "duration": 10,
    "start_time": "2023-03-30T12:03:32.346Z"
   },
   {
    "duration": 4,
    "start_time": "2023-03-30T12:03:32.358Z"
   },
   {
    "duration": 17,
    "start_time": "2023-03-30T12:03:32.363Z"
   },
   {
    "duration": 34,
    "start_time": "2023-03-30T12:03:32.381Z"
   },
   {
    "duration": 22,
    "start_time": "2023-03-30T12:03:32.417Z"
   },
   {
    "duration": 3,
    "start_time": "2023-03-30T12:03:32.441Z"
   },
   {
    "duration": 23,
    "start_time": "2023-03-30T12:03:32.445Z"
   },
   {
    "duration": 11,
    "start_time": "2023-03-30T12:03:32.469Z"
   },
   {
    "duration": 4,
    "start_time": "2023-03-30T12:03:32.483Z"
   },
   {
    "duration": 17,
    "start_time": "2023-03-30T12:03:32.488Z"
   },
   {
    "duration": 19,
    "start_time": "2023-03-30T12:03:32.507Z"
   },
   {
    "duration": 10,
    "start_time": "2023-03-30T12:03:32.528Z"
   },
   {
    "duration": 15,
    "start_time": "2023-03-30T12:03:32.539Z"
   },
   {
    "duration": 0,
    "start_time": "2023-03-30T12:03:32.556Z"
   },
   {
    "duration": 0,
    "start_time": "2023-03-30T12:03:32.558Z"
   },
   {
    "duration": 0,
    "start_time": "2023-03-30T12:03:32.559Z"
   },
   {
    "duration": 0,
    "start_time": "2023-03-30T12:03:32.560Z"
   },
   {
    "duration": 0,
    "start_time": "2023-03-30T12:03:32.562Z"
   },
   {
    "duration": 0,
    "start_time": "2023-03-30T12:03:32.563Z"
   },
   {
    "duration": 63,
    "start_time": "2023-03-30T12:05:02.219Z"
   },
   {
    "duration": 16,
    "start_time": "2023-03-30T12:05:02.284Z"
   },
   {
    "duration": 39,
    "start_time": "2023-03-30T12:05:02.301Z"
   },
   {
    "duration": 28,
    "start_time": "2023-03-30T12:05:02.342Z"
   },
   {
    "duration": 54,
    "start_time": "2023-03-30T12:05:02.372Z"
   },
   {
    "duration": 4,
    "start_time": "2023-03-30T12:05:02.428Z"
   },
   {
    "duration": 39,
    "start_time": "2023-03-30T12:05:02.434Z"
   },
   {
    "duration": 15,
    "start_time": "2023-03-30T12:05:02.475Z"
   },
   {
    "duration": 29,
    "start_time": "2023-03-30T12:05:02.492Z"
   },
   {
    "duration": 16,
    "start_time": "2023-03-30T12:05:02.523Z"
   },
   {
    "duration": 48,
    "start_time": "2023-03-30T12:05:02.541Z"
   },
   {
    "duration": 18,
    "start_time": "2023-03-30T12:05:02.591Z"
   },
   {
    "duration": 28,
    "start_time": "2023-03-30T12:05:02.611Z"
   },
   {
    "duration": 31,
    "start_time": "2023-03-30T12:05:02.642Z"
   },
   {
    "duration": 27,
    "start_time": "2023-03-30T12:05:02.674Z"
   },
   {
    "duration": 22,
    "start_time": "2023-03-30T12:05:02.702Z"
   },
   {
    "duration": 6,
    "start_time": "2023-03-30T12:05:02.726Z"
   },
   {
    "duration": 33,
    "start_time": "2023-03-30T12:05:02.733Z"
   },
   {
    "duration": 22,
    "start_time": "2023-03-30T12:05:02.768Z"
   },
   {
    "duration": 19,
    "start_time": "2023-03-30T12:05:02.792Z"
   },
   {
    "duration": 28,
    "start_time": "2023-03-30T12:05:02.812Z"
   },
   {
    "duration": 13,
    "start_time": "2023-03-30T12:05:02.842Z"
   },
   {
    "duration": 23,
    "start_time": "2023-03-30T12:05:02.857Z"
   },
   {
    "duration": 19,
    "start_time": "2023-03-30T12:05:02.882Z"
   },
   {
    "duration": 41,
    "start_time": "2023-03-30T12:05:02.902Z"
   },
   {
    "duration": 32,
    "start_time": "2023-03-30T12:05:02.945Z"
   },
   {
    "duration": 30,
    "start_time": "2023-03-30T12:05:02.979Z"
   },
   {
    "duration": 24,
    "start_time": "2023-03-30T12:05:03.011Z"
   },
   {
    "duration": 22,
    "start_time": "2023-03-30T12:05:03.037Z"
   },
   {
    "duration": 26,
    "start_time": "2023-03-30T12:05:03.061Z"
   },
   {
    "duration": 60,
    "start_time": "2023-03-30T12:13:36.610Z"
   },
   {
    "duration": 15,
    "start_time": "2023-03-30T12:13:36.672Z"
   },
   {
    "duration": 15,
    "start_time": "2023-03-30T12:13:36.689Z"
   },
   {
    "duration": 22,
    "start_time": "2023-03-30T12:13:36.705Z"
   },
   {
    "duration": 34,
    "start_time": "2023-03-30T12:13:36.728Z"
   },
   {
    "duration": 3,
    "start_time": "2023-03-30T12:13:36.764Z"
   },
   {
    "duration": 10,
    "start_time": "2023-03-30T12:13:36.768Z"
   },
   {
    "duration": 4,
    "start_time": "2023-03-30T12:13:36.779Z"
   },
   {
    "duration": 6,
    "start_time": "2023-03-30T12:13:36.785Z"
   },
   {
    "duration": 33,
    "start_time": "2023-03-30T12:13:36.792Z"
   },
   {
    "duration": 33,
    "start_time": "2023-03-30T12:13:36.827Z"
   },
   {
    "duration": 9,
    "start_time": "2023-03-30T12:13:36.862Z"
   },
   {
    "duration": 3,
    "start_time": "2023-03-30T12:13:36.872Z"
   },
   {
    "duration": 10,
    "start_time": "2023-03-30T12:13:36.877Z"
   },
   {
    "duration": 42,
    "start_time": "2023-03-30T12:13:36.889Z"
   },
   {
    "duration": 16,
    "start_time": "2023-03-30T12:13:36.933Z"
   },
   {
    "duration": 4,
    "start_time": "2023-03-30T12:13:36.950Z"
   },
   {
    "duration": 11,
    "start_time": "2023-03-30T12:13:36.955Z"
   },
   {
    "duration": 8,
    "start_time": "2023-03-30T12:13:36.967Z"
   },
   {
    "duration": 3,
    "start_time": "2023-03-30T12:13:36.976Z"
   },
   {
    "duration": 10,
    "start_time": "2023-03-30T12:13:36.981Z"
   },
   {
    "duration": 34,
    "start_time": "2023-03-30T12:13:36.992Z"
   },
   {
    "duration": 2,
    "start_time": "2023-03-30T12:13:37.029Z"
   },
   {
    "duration": 20,
    "start_time": "2023-03-30T12:13:37.033Z"
   },
   {
    "duration": 2,
    "start_time": "2023-03-30T12:13:37.054Z"
   },
   {
    "duration": 7,
    "start_time": "2023-03-30T12:13:37.058Z"
   },
   {
    "duration": 15,
    "start_time": "2023-03-30T12:13:37.067Z"
   },
   {
    "duration": 14,
    "start_time": "2023-03-30T12:13:37.084Z"
   },
   {
    "duration": 3,
    "start_time": "2023-03-30T12:13:37.100Z"
   },
   {
    "duration": 62,
    "start_time": "2023-03-30T12:19:51.430Z"
   },
   {
    "duration": 15,
    "start_time": "2023-03-30T12:19:51.494Z"
   },
   {
    "duration": 38,
    "start_time": "2023-03-30T12:19:51.510Z"
   },
   {
    "duration": 9,
    "start_time": "2023-03-30T12:19:51.549Z"
   },
   {
    "duration": 32,
    "start_time": "2023-03-30T12:19:51.560Z"
   },
   {
    "duration": 3,
    "start_time": "2023-03-30T12:19:51.594Z"
   },
   {
    "duration": 31,
    "start_time": "2023-03-30T12:19:51.599Z"
   },
   {
    "duration": 16,
    "start_time": "2023-03-30T12:19:51.631Z"
   },
   {
    "duration": 14,
    "start_time": "2023-03-30T12:19:51.648Z"
   },
   {
    "duration": 7,
    "start_time": "2023-03-30T12:19:51.664Z"
   },
   {
    "duration": 54,
    "start_time": "2023-03-30T12:19:51.673Z"
   },
   {
    "duration": 10,
    "start_time": "2023-03-30T12:19:51.728Z"
   },
   {
    "duration": 20,
    "start_time": "2023-03-30T12:19:51.739Z"
   },
   {
    "duration": 25,
    "start_time": "2023-03-30T12:19:51.762Z"
   },
   {
    "duration": 75,
    "start_time": "2023-03-30T12:19:51.789Z"
   },
   {
    "duration": 22,
    "start_time": "2023-03-30T12:19:51.866Z"
   },
   {
    "duration": 5,
    "start_time": "2023-03-30T12:19:51.890Z"
   },
   {
    "duration": 33,
    "start_time": "2023-03-30T12:19:51.897Z"
   },
   {
    "duration": 18,
    "start_time": "2023-03-30T12:19:51.932Z"
   },
   {
    "duration": 26,
    "start_time": "2023-03-30T12:19:51.952Z"
   },
   {
    "duration": 22,
    "start_time": "2023-03-30T12:19:51.980Z"
   },
   {
    "duration": 49,
    "start_time": "2023-03-30T12:19:52.004Z"
   },
   {
    "duration": 28,
    "start_time": "2023-03-30T12:19:52.055Z"
   },
   {
    "duration": 18,
    "start_time": "2023-03-30T12:19:52.085Z"
   },
   {
    "duration": 48,
    "start_time": "2023-03-30T12:19:52.105Z"
   },
   {
    "duration": 20,
    "start_time": "2023-03-30T12:19:52.155Z"
   },
   {
    "duration": 33,
    "start_time": "2023-03-30T12:19:52.177Z"
   },
   {
    "duration": 27,
    "start_time": "2023-03-30T12:19:52.212Z"
   },
   {
    "duration": 14,
    "start_time": "2023-03-30T12:19:52.241Z"
   },
   {
    "duration": 17,
    "start_time": "2023-03-30T12:19:52.257Z"
   },
   {
    "duration": 69,
    "start_time": "2023-03-30T12:30:08.610Z"
   },
   {
    "duration": 15,
    "start_time": "2023-03-30T12:30:08.681Z"
   },
   {
    "duration": 35,
    "start_time": "2023-03-30T12:30:08.698Z"
   },
   {
    "duration": 11,
    "start_time": "2023-03-30T12:30:08.735Z"
   },
   {
    "duration": 43,
    "start_time": "2023-03-30T12:30:08.748Z"
   },
   {
    "duration": 4,
    "start_time": "2023-03-30T12:30:08.792Z"
   },
   {
    "duration": 15,
    "start_time": "2023-03-30T12:30:08.797Z"
   },
   {
    "duration": 13,
    "start_time": "2023-03-30T12:30:08.813Z"
   },
   {
    "duration": 7,
    "start_time": "2023-03-30T12:30:08.827Z"
   },
   {
    "duration": 7,
    "start_time": "2023-03-30T12:30:08.837Z"
   },
   {
    "duration": 33,
    "start_time": "2023-03-30T12:30:08.845Z"
   },
   {
    "duration": 8,
    "start_time": "2023-03-30T12:30:08.880Z"
   },
   {
    "duration": 3,
    "start_time": "2023-03-30T12:30:08.890Z"
   },
   {
    "duration": 11,
    "start_time": "2023-03-30T12:30:08.924Z"
   },
   {
    "duration": 26,
    "start_time": "2023-03-30T12:30:08.937Z"
   },
   {
    "duration": 17,
    "start_time": "2023-03-30T12:30:08.965Z"
   },
   {
    "duration": 3,
    "start_time": "2023-03-30T12:30:08.984Z"
   },
   {
    "duration": 35,
    "start_time": "2023-03-30T12:30:08.988Z"
   },
   {
    "duration": 6,
    "start_time": "2023-03-30T12:30:09.025Z"
   },
   {
    "duration": 13,
    "start_time": "2023-03-30T12:30:09.033Z"
   },
   {
    "duration": 13,
    "start_time": "2023-03-30T12:30:09.048Z"
   },
   {
    "duration": 20,
    "start_time": "2023-03-30T12:30:09.062Z"
   },
   {
    "duration": 6,
    "start_time": "2023-03-30T12:30:09.084Z"
   },
   {
    "duration": 4,
    "start_time": "2023-03-30T12:30:09.094Z"
   },
   {
    "duration": 36,
    "start_time": "2023-03-30T12:30:09.100Z"
   },
   {
    "duration": 2,
    "start_time": "2023-03-30T12:30:09.138Z"
   },
   {
    "duration": 10,
    "start_time": "2023-03-30T12:30:09.141Z"
   },
   {
    "duration": 7,
    "start_time": "2023-03-30T12:30:09.153Z"
   },
   {
    "duration": 5,
    "start_time": "2023-03-30T12:30:09.162Z"
   },
   {
    "duration": 4,
    "start_time": "2023-03-30T12:30:09.169Z"
   },
   {
    "duration": 67,
    "start_time": "2023-03-30T12:34:51.462Z"
   },
   {
    "duration": 16,
    "start_time": "2023-03-30T12:34:51.530Z"
   },
   {
    "duration": 26,
    "start_time": "2023-03-30T12:34:51.548Z"
   },
   {
    "duration": 11,
    "start_time": "2023-03-30T12:34:51.576Z"
   },
   {
    "duration": 55,
    "start_time": "2023-03-30T12:34:51.588Z"
   },
   {
    "duration": 4,
    "start_time": "2023-03-30T12:34:51.645Z"
   },
   {
    "duration": 19,
    "start_time": "2023-03-30T12:34:51.650Z"
   },
   {
    "duration": 11,
    "start_time": "2023-03-30T12:34:51.671Z"
   },
   {
    "duration": 39,
    "start_time": "2023-03-30T12:34:51.683Z"
   },
   {
    "duration": 19,
    "start_time": "2023-03-30T12:34:51.725Z"
   },
   {
    "duration": 61,
    "start_time": "2023-03-30T12:34:51.746Z"
   },
   {
    "duration": 10,
    "start_time": "2023-03-30T12:34:51.809Z"
   },
   {
    "duration": 51,
    "start_time": "2023-03-30T12:34:51.821Z"
   },
   {
    "duration": 33,
    "start_time": "2023-03-30T12:34:51.874Z"
   },
   {
    "duration": 40,
    "start_time": "2023-03-30T12:34:51.909Z"
   },
   {
    "duration": 32,
    "start_time": "2023-03-30T12:34:51.951Z"
   },
   {
    "duration": 22,
    "start_time": "2023-03-30T12:34:51.985Z"
   },
   {
    "duration": 39,
    "start_time": "2023-03-30T12:34:52.008Z"
   },
   {
    "duration": 37,
    "start_time": "2023-03-30T12:34:52.049Z"
   },
   {
    "duration": 40,
    "start_time": "2023-03-30T12:34:52.088Z"
   },
   {
    "duration": 65,
    "start_time": "2023-03-30T12:34:52.130Z"
   },
   {
    "duration": 42,
    "start_time": "2023-03-30T12:34:52.197Z"
   },
   {
    "duration": 10,
    "start_time": "2023-03-30T12:34:52.242Z"
   },
   {
    "duration": 11,
    "start_time": "2023-03-30T12:34:52.254Z"
   },
   {
    "duration": 30,
    "start_time": "2023-03-30T12:34:52.267Z"
   },
   {
    "duration": 20,
    "start_time": "2023-03-30T12:34:52.299Z"
   },
   {
    "duration": 37,
    "start_time": "2023-03-30T12:34:52.321Z"
   },
   {
    "duration": 6,
    "start_time": "2023-03-30T12:34:52.360Z"
   },
   {
    "duration": 10,
    "start_time": "2023-03-30T12:34:52.367Z"
   },
   {
    "duration": 25,
    "start_time": "2023-03-30T12:34:52.379Z"
   },
   {
    "duration": 64,
    "start_time": "2023-03-30T12:38:22.981Z"
   },
   {
    "duration": 16,
    "start_time": "2023-03-30T12:38:23.047Z"
   },
   {
    "duration": 27,
    "start_time": "2023-03-30T12:38:23.065Z"
   },
   {
    "duration": 10,
    "start_time": "2023-03-30T12:38:23.094Z"
   },
   {
    "duration": 48,
    "start_time": "2023-03-30T12:38:23.105Z"
   },
   {
    "duration": 3,
    "start_time": "2023-03-30T12:38:23.155Z"
   },
   {
    "duration": 12,
    "start_time": "2023-03-30T12:38:23.159Z"
   },
   {
    "duration": 7,
    "start_time": "2023-03-30T12:38:23.172Z"
   },
   {
    "duration": 21,
    "start_time": "2023-03-30T12:38:23.180Z"
   },
   {
    "duration": 8,
    "start_time": "2023-03-30T12:38:23.203Z"
   },
   {
    "duration": 45,
    "start_time": "2023-03-30T12:38:23.212Z"
   },
   {
    "duration": 9,
    "start_time": "2023-03-30T12:38:23.259Z"
   },
   {
    "duration": 9,
    "start_time": "2023-03-30T12:38:23.270Z"
   },
   {
    "duration": 24,
    "start_time": "2023-03-30T12:38:23.281Z"
   },
   {
    "duration": 22,
    "start_time": "2023-03-30T12:38:23.307Z"
   },
   {
    "duration": 18,
    "start_time": "2023-03-30T12:38:23.331Z"
   },
   {
    "duration": 4,
    "start_time": "2023-03-30T12:38:23.351Z"
   },
   {
    "duration": 12,
    "start_time": "2023-03-30T12:38:23.356Z"
   },
   {
    "duration": 10,
    "start_time": "2023-03-30T12:38:23.369Z"
   },
   {
    "duration": 7,
    "start_time": "2023-03-30T12:38:23.381Z"
   },
   {
    "duration": 32,
    "start_time": "2023-03-30T12:38:23.389Z"
   },
   {
    "duration": 29,
    "start_time": "2023-03-30T12:38:23.423Z"
   },
   {
    "duration": 11,
    "start_time": "2023-03-30T12:38:23.454Z"
   },
   {
    "duration": 21,
    "start_time": "2023-03-30T12:38:23.467Z"
   },
   {
    "duration": 24,
    "start_time": "2023-03-30T12:38:23.490Z"
   },
   {
    "duration": 3,
    "start_time": "2023-03-30T12:38:23.516Z"
   },
   {
    "duration": 30,
    "start_time": "2023-03-30T12:38:23.521Z"
   },
   {
    "duration": 6,
    "start_time": "2023-03-30T12:38:23.555Z"
   },
   {
    "duration": 3,
    "start_time": "2023-03-30T12:38:23.563Z"
   },
   {
    "duration": 15,
    "start_time": "2023-03-30T12:38:23.567Z"
   },
   {
    "duration": 66,
    "start_time": "2023-03-30T12:43:56.901Z"
   },
   {
    "duration": 17,
    "start_time": "2023-03-30T12:43:56.969Z"
   },
   {
    "duration": 16,
    "start_time": "2023-03-30T12:43:56.987Z"
   },
   {
    "duration": 29,
    "start_time": "2023-03-30T12:43:57.005Z"
   },
   {
    "duration": 36,
    "start_time": "2023-03-30T12:43:57.037Z"
   },
   {
    "duration": 4,
    "start_time": "2023-03-30T12:43:57.075Z"
   },
   {
    "duration": 12,
    "start_time": "2023-03-30T12:43:57.081Z"
   },
   {
    "duration": 30,
    "start_time": "2023-03-30T12:43:57.095Z"
   },
   {
    "duration": 6,
    "start_time": "2023-03-30T12:43:57.127Z"
   },
   {
    "duration": 5,
    "start_time": "2023-03-30T12:43:57.134Z"
   },
   {
    "duration": 47,
    "start_time": "2023-03-30T12:43:57.141Z"
   },
   {
    "duration": 10,
    "start_time": "2023-03-30T12:43:57.190Z"
   },
   {
    "duration": 4,
    "start_time": "2023-03-30T12:43:57.223Z"
   },
   {
    "duration": 12,
    "start_time": "2023-03-30T12:43:57.230Z"
   },
   {
    "duration": 32,
    "start_time": "2023-03-30T12:43:57.244Z"
   },
   {
    "duration": 22,
    "start_time": "2023-03-30T12:43:57.278Z"
   },
   {
    "duration": 22,
    "start_time": "2023-03-30T12:43:57.302Z"
   },
   {
    "duration": 18,
    "start_time": "2023-03-30T12:43:57.327Z"
   },
   {
    "duration": 12,
    "start_time": "2023-03-30T12:43:57.346Z"
   },
   {
    "duration": 4,
    "start_time": "2023-03-30T12:43:57.360Z"
   },
   {
    "duration": 12,
    "start_time": "2023-03-30T12:43:57.366Z"
   },
   {
    "duration": 18,
    "start_time": "2023-03-30T12:43:57.379Z"
   },
   {
    "duration": 28,
    "start_time": "2023-03-30T12:43:57.399Z"
   },
   {
    "duration": 54,
    "start_time": "2023-03-30T12:43:57.429Z"
   },
   {
    "duration": 53,
    "start_time": "2023-03-30T12:43:57.485Z"
   },
   {
    "duration": 3,
    "start_time": "2023-03-30T12:43:57.539Z"
   },
   {
    "duration": 28,
    "start_time": "2023-03-30T12:43:57.544Z"
   },
   {
    "duration": 6,
    "start_time": "2023-03-30T12:43:57.573Z"
   },
   {
    "duration": 3,
    "start_time": "2023-03-30T12:43:57.581Z"
   },
   {
    "duration": 5,
    "start_time": "2023-03-30T12:43:57.586Z"
   },
   {
    "duration": 21,
    "start_time": "2023-03-30T12:47:50.618Z"
   },
   {
    "duration": 850,
    "start_time": "2023-03-30T15:16:20.762Z"
   },
   {
    "duration": 34,
    "start_time": "2023-03-30T15:16:21.614Z"
   },
   {
    "duration": 24,
    "start_time": "2023-03-30T15:16:21.650Z"
   },
   {
    "duration": 11,
    "start_time": "2023-03-30T15:16:21.677Z"
   },
   {
    "duration": 75,
    "start_time": "2023-03-30T15:16:21.691Z"
   },
   {
    "duration": 5,
    "start_time": "2023-03-30T15:16:21.769Z"
   },
   {
    "duration": 21,
    "start_time": "2023-03-30T15:16:21.776Z"
   },
   {
    "duration": 7,
    "start_time": "2023-03-30T15:16:21.799Z"
   },
   {
    "duration": 34,
    "start_time": "2023-03-30T15:16:21.809Z"
   },
   {
    "duration": 19,
    "start_time": "2023-03-30T15:16:21.848Z"
   },
   {
    "duration": 49,
    "start_time": "2023-03-30T15:16:21.870Z"
   },
   {
    "duration": 11,
    "start_time": "2023-03-30T15:16:21.923Z"
   },
   {
    "duration": 48,
    "start_time": "2023-03-30T15:16:21.935Z"
   },
   {
    "duration": 21,
    "start_time": "2023-03-30T15:16:21.985Z"
   },
   {
    "duration": 42,
    "start_time": "2023-03-30T15:16:22.008Z"
   },
   {
    "duration": 34,
    "start_time": "2023-03-30T15:16:22.054Z"
   },
   {
    "duration": 19,
    "start_time": "2023-03-30T15:16:22.090Z"
   },
   {
    "duration": 21,
    "start_time": "2023-03-30T15:16:22.115Z"
   },
   {
    "duration": 39,
    "start_time": "2023-03-30T15:16:22.138Z"
   },
   {
    "duration": 6,
    "start_time": "2023-03-30T15:16:22.180Z"
   },
   {
    "duration": 25,
    "start_time": "2023-03-30T15:16:22.188Z"
   },
   {
    "duration": 37,
    "start_time": "2023-03-30T15:16:22.215Z"
   },
   {
    "duration": 14,
    "start_time": "2023-03-30T15:16:22.256Z"
   },
   {
    "duration": 6,
    "start_time": "2023-03-30T15:16:22.272Z"
   },
   {
    "duration": 29,
    "start_time": "2023-03-30T15:16:22.280Z"
   },
   {
    "duration": 119,
    "start_time": "2023-03-30T15:16:22.311Z"
   },
   {
    "duration": 0,
    "start_time": "2023-03-30T15:16:22.432Z"
   },
   {
    "duration": 0,
    "start_time": "2023-03-30T15:16:22.433Z"
   },
   {
    "duration": 0,
    "start_time": "2023-03-30T15:16:22.435Z"
   },
   {
    "duration": 115,
    "start_time": "2023-03-30T15:16:39.281Z"
   },
   {
    "duration": 49,
    "start_time": "2023-03-30T15:16:39.400Z"
   },
   {
    "duration": 62,
    "start_time": "2023-03-30T15:16:39.451Z"
   },
   {
    "duration": 28,
    "start_time": "2023-03-30T15:16:39.516Z"
   },
   {
    "duration": 77,
    "start_time": "2023-03-30T15:16:39.562Z"
   },
   {
    "duration": 8,
    "start_time": "2023-03-30T15:16:39.642Z"
   },
   {
    "duration": 38,
    "start_time": "2023-03-30T15:16:39.653Z"
   },
   {
    "duration": 28,
    "start_time": "2023-03-30T15:16:39.694Z"
   },
   {
    "duration": 42,
    "start_time": "2023-03-30T15:16:39.725Z"
   },
   {
    "duration": 21,
    "start_time": "2023-03-30T15:16:39.770Z"
   },
   {
    "duration": 73,
    "start_time": "2023-03-30T15:16:39.794Z"
   },
   {
    "duration": 20,
    "start_time": "2023-03-30T15:16:39.869Z"
   },
   {
    "duration": 6,
    "start_time": "2023-03-30T15:16:39.892Z"
   },
   {
    "duration": 48,
    "start_time": "2023-03-30T15:16:39.902Z"
   },
   {
    "duration": 47,
    "start_time": "2023-03-30T15:16:39.957Z"
   },
   {
    "duration": 43,
    "start_time": "2023-03-30T15:16:40.006Z"
   },
   {
    "duration": 33,
    "start_time": "2023-03-30T15:16:40.057Z"
   },
   {
    "duration": 49,
    "start_time": "2023-03-30T15:16:40.092Z"
   },
   {
    "duration": 45,
    "start_time": "2023-03-30T15:16:40.145Z"
   },
   {
    "duration": 14,
    "start_time": "2023-03-30T15:16:40.192Z"
   },
   {
    "duration": 41,
    "start_time": "2023-03-30T15:16:40.209Z"
   },
   {
    "duration": 91,
    "start_time": "2023-03-30T15:16:40.253Z"
   },
   {
    "duration": 56,
    "start_time": "2023-03-30T15:16:40.346Z"
   },
   {
    "duration": 22,
    "start_time": "2023-03-30T15:16:40.405Z"
   },
   {
    "duration": 66,
    "start_time": "2023-03-30T15:16:40.430Z"
   },
   {
    "duration": 165,
    "start_time": "2023-03-30T15:16:40.500Z"
   },
   {
    "duration": 0,
    "start_time": "2023-03-30T15:16:40.668Z"
   },
   {
    "duration": 0,
    "start_time": "2023-03-30T15:16:40.670Z"
   },
   {
    "duration": 0,
    "start_time": "2023-03-30T15:16:40.671Z"
   },
   {
    "duration": 87,
    "start_time": "2023-03-30T15:18:27.550Z"
   },
   {
    "duration": 17,
    "start_time": "2023-03-30T15:18:27.639Z"
   },
   {
    "duration": 39,
    "start_time": "2023-03-30T15:18:27.657Z"
   },
   {
    "duration": 40,
    "start_time": "2023-03-30T15:18:27.698Z"
   },
   {
    "duration": 55,
    "start_time": "2023-03-30T15:18:27.742Z"
   },
   {
    "duration": 4,
    "start_time": "2023-03-30T15:18:27.800Z"
   },
   {
    "duration": 53,
    "start_time": "2023-03-30T15:18:27.807Z"
   },
   {
    "duration": 17,
    "start_time": "2023-03-30T15:18:27.862Z"
   },
   {
    "duration": 40,
    "start_time": "2023-03-30T15:18:27.882Z"
   },
   {
    "duration": 30,
    "start_time": "2023-03-30T15:18:27.925Z"
   },
   {
    "duration": 95,
    "start_time": "2023-03-30T15:18:27.958Z"
   },
   {
    "duration": 16,
    "start_time": "2023-03-30T15:18:28.056Z"
   },
   {
    "duration": 16,
    "start_time": "2023-03-30T15:18:28.074Z"
   },
   {
    "duration": 57,
    "start_time": "2023-03-30T15:18:28.093Z"
   },
   {
    "duration": 33,
    "start_time": "2023-03-30T15:18:28.152Z"
   },
   {
    "duration": 20,
    "start_time": "2023-03-30T15:18:28.187Z"
   },
   {
    "duration": 4,
    "start_time": "2023-03-30T15:18:28.209Z"
   },
   {
    "duration": 23,
    "start_time": "2023-03-30T15:18:28.215Z"
   },
   {
    "duration": 12,
    "start_time": "2023-03-30T15:18:28.239Z"
   },
   {
    "duration": 4,
    "start_time": "2023-03-30T15:18:28.253Z"
   },
   {
    "duration": 12,
    "start_time": "2023-03-30T15:18:28.259Z"
   },
   {
    "duration": 23,
    "start_time": "2023-03-30T15:18:28.273Z"
   },
   {
    "duration": 5,
    "start_time": "2023-03-30T15:18:28.298Z"
   },
   {
    "duration": 3,
    "start_time": "2023-03-30T15:18:28.334Z"
   },
   {
    "duration": 34,
    "start_time": "2023-03-30T15:18:28.339Z"
   },
   {
    "duration": 39,
    "start_time": "2023-03-30T15:18:28.375Z"
   },
   {
    "duration": 0,
    "start_time": "2023-03-30T15:18:28.416Z"
   },
   {
    "duration": 0,
    "start_time": "2023-03-30T15:18:28.417Z"
   },
   {
    "duration": 0,
    "start_time": "2023-03-30T15:18:28.418Z"
   },
   {
    "duration": 86,
    "start_time": "2023-03-30T15:21:10.422Z"
   },
   {
    "duration": 17,
    "start_time": "2023-03-30T15:21:10.510Z"
   },
   {
    "duration": 35,
    "start_time": "2023-03-30T15:21:10.529Z"
   },
   {
    "duration": 17,
    "start_time": "2023-03-30T15:21:10.566Z"
   },
   {
    "duration": 57,
    "start_time": "2023-03-30T15:21:10.586Z"
   },
   {
    "duration": 4,
    "start_time": "2023-03-30T15:21:10.649Z"
   },
   {
    "duration": 16,
    "start_time": "2023-03-30T15:21:10.655Z"
   },
   {
    "duration": 17,
    "start_time": "2023-03-30T15:21:10.672Z"
   },
   {
    "duration": 23,
    "start_time": "2023-03-30T15:21:10.693Z"
   },
   {
    "duration": 29,
    "start_time": "2023-03-30T15:21:10.717Z"
   },
   {
    "duration": 52,
    "start_time": "2023-03-30T15:21:10.748Z"
   },
   {
    "duration": 11,
    "start_time": "2023-03-30T15:21:10.803Z"
   },
   {
    "duration": 9,
    "start_time": "2023-03-30T15:21:10.815Z"
   },
   {
    "duration": 43,
    "start_time": "2023-03-30T15:21:10.828Z"
   },
   {
    "duration": 39,
    "start_time": "2023-03-30T15:21:10.873Z"
   },
   {
    "duration": 22,
    "start_time": "2023-03-30T15:21:10.914Z"
   },
   {
    "duration": 110,
    "start_time": "2023-03-30T15:21:10.942Z"
   },
   {
    "duration": 35,
    "start_time": "2023-03-30T15:21:11.054Z"
   },
   {
    "duration": 16,
    "start_time": "2023-03-30T15:21:11.091Z"
   },
   {
    "duration": 15,
    "start_time": "2023-03-30T15:21:11.109Z"
   },
   {
    "duration": 32,
    "start_time": "2023-03-30T15:21:11.126Z"
   },
   {
    "duration": 46,
    "start_time": "2023-03-30T15:21:11.160Z"
   },
   {
    "duration": 6,
    "start_time": "2023-03-30T15:21:11.209Z"
   },
   {
    "duration": 8,
    "start_time": "2023-03-30T15:21:11.216Z"
   },
   {
    "duration": 36,
    "start_time": "2023-03-30T15:21:11.226Z"
   },
   {
    "duration": 33,
    "start_time": "2023-03-30T15:21:11.264Z"
   },
   {
    "duration": 0,
    "start_time": "2023-03-30T15:21:11.298Z"
   },
   {
    "duration": 0,
    "start_time": "2023-03-30T15:21:11.300Z"
   },
   {
    "duration": 0,
    "start_time": "2023-03-30T15:21:11.302Z"
   },
   {
    "duration": 21,
    "start_time": "2023-03-30T15:25:25.201Z"
   },
   {
    "duration": 6,
    "start_time": "2023-03-30T15:33:08.221Z"
   },
   {
    "duration": 13,
    "start_time": "2023-03-30T15:40:43.321Z"
   },
   {
    "duration": 108,
    "start_time": "2023-03-30T15:40:46.955Z"
   },
   {
    "duration": 23,
    "start_time": "2023-03-30T15:40:47.066Z"
   },
   {
    "duration": 26,
    "start_time": "2023-03-30T15:40:47.091Z"
   },
   {
    "duration": 32,
    "start_time": "2023-03-30T15:40:47.120Z"
   },
   {
    "duration": 63,
    "start_time": "2023-03-30T15:40:47.156Z"
   },
   {
    "duration": 5,
    "start_time": "2023-03-30T15:40:47.221Z"
   },
   {
    "duration": 56,
    "start_time": "2023-03-30T15:40:47.227Z"
   },
   {
    "duration": 7,
    "start_time": "2023-03-30T15:40:47.285Z"
   },
   {
    "duration": 9,
    "start_time": "2023-03-30T15:40:47.294Z"
   },
   {
    "duration": 15,
    "start_time": "2023-03-30T15:40:47.306Z"
   },
   {
    "duration": 62,
    "start_time": "2023-03-30T15:40:47.323Z"
   },
   {
    "duration": 11,
    "start_time": "2023-03-30T15:40:47.388Z"
   },
   {
    "duration": 5,
    "start_time": "2023-03-30T15:40:47.401Z"
   },
   {
    "duration": 40,
    "start_time": "2023-03-30T15:40:47.407Z"
   },
   {
    "duration": 41,
    "start_time": "2023-03-30T15:40:47.450Z"
   },
   {
    "duration": 19,
    "start_time": "2023-03-30T15:40:47.493Z"
   },
   {
    "duration": 4,
    "start_time": "2023-03-30T15:40:47.514Z"
   },
   {
    "duration": 48,
    "start_time": "2023-03-30T15:40:47.522Z"
   },
   {
    "duration": 12,
    "start_time": "2023-03-30T15:40:47.572Z"
   },
   {
    "duration": 8,
    "start_time": "2023-03-30T15:40:47.586Z"
   },
   {
    "duration": 12,
    "start_time": "2023-03-30T15:40:47.596Z"
   },
   {
    "duration": 31,
    "start_time": "2023-03-30T15:40:47.610Z"
   },
   {
    "duration": 27,
    "start_time": "2023-03-30T15:40:47.643Z"
   },
   {
    "duration": 18,
    "start_time": "2023-03-30T15:40:47.672Z"
   },
   {
    "duration": 26,
    "start_time": "2023-03-30T15:40:47.692Z"
   },
   {
    "duration": 10,
    "start_time": "2023-03-30T15:40:47.720Z"
   },
   {
    "duration": 0,
    "start_time": "2023-03-30T15:40:47.732Z"
   },
   {
    "duration": 0,
    "start_time": "2023-03-30T15:40:47.733Z"
   },
   {
    "duration": 0,
    "start_time": "2023-03-30T15:40:47.734Z"
   },
   {
    "duration": 0,
    "start_time": "2023-03-30T15:40:47.735Z"
   },
   {
    "duration": 31,
    "start_time": "2023-03-30T15:41:16.969Z"
   },
   {
    "duration": 23,
    "start_time": "2023-03-30T15:43:47.901Z"
   },
   {
    "duration": 38,
    "start_time": "2023-03-30T15:43:57.733Z"
   },
   {
    "duration": 7,
    "start_time": "2023-03-30T15:46:54.323Z"
   },
   {
    "duration": 9,
    "start_time": "2023-03-30T15:47:13.322Z"
   },
   {
    "duration": 105,
    "start_time": "2023-03-30T15:47:51.509Z"
   },
   {
    "duration": 18,
    "start_time": "2023-03-30T15:47:51.616Z"
   },
   {
    "duration": 46,
    "start_time": "2023-03-30T15:47:51.639Z"
   },
   {
    "duration": 17,
    "start_time": "2023-03-30T15:47:51.687Z"
   },
   {
    "duration": 69,
    "start_time": "2023-03-30T15:47:51.937Z"
   },
   {
    "duration": 4,
    "start_time": "2023-03-30T15:47:52.009Z"
   },
   {
    "duration": 82,
    "start_time": "2023-03-30T15:47:52.014Z"
   },
   {
    "duration": 17,
    "start_time": "2023-03-30T15:47:52.099Z"
   },
   {
    "duration": 10,
    "start_time": "2023-03-30T15:47:52.118Z"
   },
   {
    "duration": 31,
    "start_time": "2023-03-30T15:47:52.129Z"
   },
   {
    "duration": 54,
    "start_time": "2023-03-30T15:47:52.165Z"
   },
   {
    "duration": 12,
    "start_time": "2023-03-30T15:47:52.221Z"
   },
   {
    "duration": 43,
    "start_time": "2023-03-30T15:47:52.238Z"
   },
   {
    "duration": 23,
    "start_time": "2023-03-30T15:47:52.282Z"
   },
   {
    "duration": 31,
    "start_time": "2023-03-30T15:47:52.307Z"
   },
   {
    "duration": 45,
    "start_time": "2023-03-30T15:47:52.340Z"
   },
   {
    "duration": 4,
    "start_time": "2023-03-30T15:47:52.386Z"
   },
   {
    "duration": 25,
    "start_time": "2023-03-30T15:47:52.393Z"
   },
   {
    "duration": 10,
    "start_time": "2023-03-30T15:47:52.420Z"
   },
   {
    "duration": 45,
    "start_time": "2023-03-30T15:47:52.431Z"
   },
   {
    "duration": 13,
    "start_time": "2023-03-30T15:47:52.478Z"
   },
   {
    "duration": 33,
    "start_time": "2023-03-30T15:47:52.493Z"
   },
   {
    "duration": 36,
    "start_time": "2023-03-30T15:47:52.528Z"
   },
   {
    "duration": 7,
    "start_time": "2023-03-30T15:47:52.566Z"
   },
   {
    "duration": 40,
    "start_time": "2023-03-30T15:47:52.575Z"
   },
   {
    "duration": 39,
    "start_time": "2023-03-30T15:47:52.617Z"
   },
   {
    "duration": 15,
    "start_time": "2023-03-30T15:47:52.659Z"
   },
   {
    "duration": 96,
    "start_time": "2023-03-30T15:47:52.675Z"
   },
   {
    "duration": 0,
    "start_time": "2023-03-30T15:47:52.773Z"
   },
   {
    "duration": 0,
    "start_time": "2023-03-30T15:47:52.774Z"
   },
   {
    "duration": 14,
    "start_time": "2023-03-30T15:48:34.958Z"
   },
   {
    "duration": 16,
    "start_time": "2023-03-30T15:50:49.513Z"
   },
   {
    "duration": 91,
    "start_time": "2023-03-30T15:50:53.582Z"
   },
   {
    "duration": 26,
    "start_time": "2023-03-30T15:50:53.676Z"
   },
   {
    "duration": 20,
    "start_time": "2023-03-30T15:50:53.703Z"
   },
   {
    "duration": 14,
    "start_time": "2023-03-30T15:50:53.725Z"
   },
   {
    "duration": 70,
    "start_time": "2023-03-30T15:50:53.741Z"
   },
   {
    "duration": 4,
    "start_time": "2023-03-30T15:50:53.813Z"
   },
   {
    "duration": 47,
    "start_time": "2023-03-30T15:50:53.819Z"
   },
   {
    "duration": 12,
    "start_time": "2023-03-30T15:50:53.868Z"
   },
   {
    "duration": 6,
    "start_time": "2023-03-30T15:50:53.882Z"
   },
   {
    "duration": 12,
    "start_time": "2023-03-30T15:50:53.890Z"
   },
   {
    "duration": 42,
    "start_time": "2023-03-30T15:50:53.904Z"
   },
   {
    "duration": 20,
    "start_time": "2023-03-30T15:50:53.947Z"
   },
   {
    "duration": 6,
    "start_time": "2023-03-30T15:50:53.969Z"
   },
   {
    "duration": 12,
    "start_time": "2023-03-30T15:50:53.978Z"
   },
   {
    "duration": 28,
    "start_time": "2023-03-30T15:50:53.992Z"
   },
   {
    "duration": 48,
    "start_time": "2023-03-30T15:50:54.022Z"
   },
   {
    "duration": 10,
    "start_time": "2023-03-30T15:50:54.074Z"
   },
   {
    "duration": 31,
    "start_time": "2023-03-30T15:50:54.086Z"
   },
   {
    "duration": 13,
    "start_time": "2023-03-30T15:50:54.119Z"
   },
   {
    "duration": 40,
    "start_time": "2023-03-30T15:50:54.134Z"
   },
   {
    "duration": 17,
    "start_time": "2023-03-30T15:50:54.175Z"
   },
   {
    "duration": 27,
    "start_time": "2023-03-30T15:50:54.194Z"
   },
   {
    "duration": 6,
    "start_time": "2023-03-30T15:50:54.222Z"
   },
   {
    "duration": 39,
    "start_time": "2023-03-30T15:50:54.229Z"
   },
   {
    "duration": 28,
    "start_time": "2023-03-30T15:50:54.270Z"
   },
   {
    "duration": 22,
    "start_time": "2023-03-30T15:50:54.300Z"
   },
   {
    "duration": 6,
    "start_time": "2023-03-30T15:50:54.324Z"
   },
   {
    "duration": 54,
    "start_time": "2023-03-30T15:50:54.332Z"
   },
   {
    "duration": 2,
    "start_time": "2023-03-30T15:50:54.388Z"
   },
   {
    "duration": 12,
    "start_time": "2023-03-30T15:50:54.391Z"
   },
   {
    "duration": 19,
    "start_time": "2023-03-30T15:51:29.664Z"
   },
   {
    "duration": 19,
    "start_time": "2023-03-30T15:51:42.858Z"
   },
   {
    "duration": 181,
    "start_time": "2023-03-30T15:52:18.881Z"
   },
   {
    "duration": 19,
    "start_time": "2023-03-30T15:52:44.993Z"
   },
   {
    "duration": 17,
    "start_time": "2023-03-30T15:59:08.662Z"
   },
   {
    "duration": 20,
    "start_time": "2023-03-30T15:59:17.381Z"
   },
   {
    "duration": 23,
    "start_time": "2023-03-30T15:59:36.222Z"
   },
   {
    "duration": 2114,
    "start_time": "2023-03-30T16:03:28.049Z"
   },
   {
    "duration": 64,
    "start_time": "2023-03-30T16:03:37.790Z"
   },
   {
    "duration": 18,
    "start_time": "2023-03-30T16:06:12.402Z"
   },
   {
    "duration": 31,
    "start_time": "2023-03-30T16:06:27.103Z"
   },
   {
    "duration": 1578,
    "start_time": "2023-03-30T16:29:42.382Z"
   },
   {
    "duration": 1725,
    "start_time": "2023-03-30T16:30:46.264Z"
   },
   {
    "duration": 23,
    "start_time": "2023-03-30T16:31:03.282Z"
   },
   {
    "duration": 9,
    "start_time": "2023-03-30T16:36:41.082Z"
   },
   {
    "duration": 29,
    "start_time": "2023-03-30T16:37:12.260Z"
   },
   {
    "duration": 24,
    "start_time": "2023-03-30T16:37:26.498Z"
   },
   {
    "duration": 657,
    "start_time": "2023-04-01T05:53:08.745Z"
   },
   {
    "duration": 22,
    "start_time": "2023-04-01T05:53:09.404Z"
   },
   {
    "duration": 17,
    "start_time": "2023-04-01T05:53:09.428Z"
   },
   {
    "duration": 11,
    "start_time": "2023-04-01T05:53:09.447Z"
   },
   {
    "duration": 53,
    "start_time": "2023-04-01T05:53:09.459Z"
   },
   {
    "duration": 3,
    "start_time": "2023-04-01T05:53:09.514Z"
   },
   {
    "duration": 11,
    "start_time": "2023-04-01T05:53:09.519Z"
   },
   {
    "duration": 5,
    "start_time": "2023-04-01T05:53:09.532Z"
   },
   {
    "duration": 14,
    "start_time": "2023-04-01T05:53:09.538Z"
   },
   {
    "duration": 4,
    "start_time": "2023-04-01T05:53:09.555Z"
   },
   {
    "duration": 49,
    "start_time": "2023-04-01T05:53:09.561Z"
   },
   {
    "duration": 9,
    "start_time": "2023-04-01T05:53:09.612Z"
   },
   {
    "duration": 5,
    "start_time": "2023-04-01T05:53:09.622Z"
   },
   {
    "duration": 14,
    "start_time": "2023-04-01T05:53:09.628Z"
   },
   {
    "duration": 18,
    "start_time": "2023-04-01T05:53:09.644Z"
   },
   {
    "duration": 18,
    "start_time": "2023-04-01T05:53:09.684Z"
   },
   {
    "duration": 3,
    "start_time": "2023-04-01T05:53:09.704Z"
   },
   {
    "duration": 19,
    "start_time": "2023-04-01T05:53:09.709Z"
   },
   {
    "duration": 7,
    "start_time": "2023-04-01T05:53:09.729Z"
   },
   {
    "duration": 4,
    "start_time": "2023-04-01T05:53:09.739Z"
   },
   {
    "duration": 38,
    "start_time": "2023-04-01T05:53:09.745Z"
   },
   {
    "duration": 20,
    "start_time": "2023-04-01T05:53:09.785Z"
   },
   {
    "duration": 6,
    "start_time": "2023-04-01T05:53:09.807Z"
   },
   {
    "duration": 11,
    "start_time": "2023-04-01T05:53:09.815Z"
   },
   {
    "duration": 30,
    "start_time": "2023-04-01T05:53:09.829Z"
   },
   {
    "duration": 42,
    "start_time": "2023-04-01T05:53:09.861Z"
   },
   {
    "duration": 83,
    "start_time": "2023-04-01T05:53:09.905Z"
   },
   {
    "duration": 0,
    "start_time": "2023-04-01T05:53:09.990Z"
   },
   {
    "duration": 0,
    "start_time": "2023-04-01T05:53:09.991Z"
   },
   {
    "duration": 0,
    "start_time": "2023-04-01T05:53:09.992Z"
   },
   {
    "duration": 0,
    "start_time": "2023-04-01T05:53:09.993Z"
   },
   {
    "duration": 0,
    "start_time": "2023-04-01T05:53:09.994Z"
   },
   {
    "duration": 0,
    "start_time": "2023-04-01T05:53:09.996Z"
   },
   {
    "duration": 26,
    "start_time": "2023-04-01T05:53:24.100Z"
   },
   {
    "duration": 28,
    "start_time": "2023-04-01T05:53:33.284Z"
   },
   {
    "duration": 461,
    "start_time": "2023-04-01T05:57:28.778Z"
   },
   {
    "duration": 21,
    "start_time": "2023-04-01T05:57:29.240Z"
   },
   {
    "duration": 16,
    "start_time": "2023-04-01T05:57:29.263Z"
   },
   {
    "duration": 11,
    "start_time": "2023-04-01T05:57:29.281Z"
   },
   {
    "duration": 33,
    "start_time": "2023-04-01T05:57:29.294Z"
   },
   {
    "duration": 4,
    "start_time": "2023-04-01T05:57:29.328Z"
   },
   {
    "duration": 8,
    "start_time": "2023-04-01T05:57:29.334Z"
   },
   {
    "duration": 6,
    "start_time": "2023-04-01T05:57:29.344Z"
   },
   {
    "duration": 10,
    "start_time": "2023-04-01T05:57:29.351Z"
   },
   {
    "duration": 3,
    "start_time": "2023-04-01T05:57:29.385Z"
   },
   {
    "duration": 34,
    "start_time": "2023-04-01T05:57:29.390Z"
   },
   {
    "duration": 10,
    "start_time": "2023-04-01T05:57:29.425Z"
   },
   {
    "duration": 5,
    "start_time": "2023-04-01T05:57:29.437Z"
   },
   {
    "duration": 11,
    "start_time": "2023-04-01T05:57:29.443Z"
   },
   {
    "duration": 38,
    "start_time": "2023-04-01T05:57:29.456Z"
   },
   {
    "duration": 17,
    "start_time": "2023-04-01T05:57:29.496Z"
   },
   {
    "duration": 4,
    "start_time": "2023-04-01T05:57:29.514Z"
   },
   {
    "duration": 15,
    "start_time": "2023-04-01T05:57:29.520Z"
   },
   {
    "duration": 17,
    "start_time": "2023-04-01T05:57:29.537Z"
   },
   {
    "duration": 9,
    "start_time": "2023-04-01T05:57:29.555Z"
   },
   {
    "duration": 22,
    "start_time": "2023-04-01T05:57:29.566Z"
   },
   {
    "duration": 22,
    "start_time": "2023-04-01T05:57:29.589Z"
   },
   {
    "duration": 7,
    "start_time": "2023-04-01T05:57:29.612Z"
   },
   {
    "duration": 6,
    "start_time": "2023-04-01T05:57:29.621Z"
   },
   {
    "duration": 45,
    "start_time": "2023-04-01T05:57:29.629Z"
   },
   {
    "duration": 26,
    "start_time": "2023-04-01T05:57:29.676Z"
   },
   {
    "duration": 7,
    "start_time": "2023-04-01T05:57:29.704Z"
   },
   {
    "duration": 85,
    "start_time": "2023-04-01T05:57:29.713Z"
   },
   {
    "duration": 0,
    "start_time": "2023-04-01T05:57:29.800Z"
   },
   {
    "duration": 0,
    "start_time": "2023-04-01T05:57:29.801Z"
   },
   {
    "duration": 0,
    "start_time": "2023-04-01T05:57:29.803Z"
   },
   {
    "duration": 0,
    "start_time": "2023-04-01T05:57:29.804Z"
   },
   {
    "duration": 485,
    "start_time": "2023-04-01T05:57:40.167Z"
   },
   {
    "duration": 20,
    "start_time": "2023-04-01T05:57:40.653Z"
   },
   {
    "duration": 14,
    "start_time": "2023-04-01T05:57:40.675Z"
   },
   {
    "duration": 12,
    "start_time": "2023-04-01T05:57:40.690Z"
   },
   {
    "duration": 38,
    "start_time": "2023-04-01T05:57:40.703Z"
   },
   {
    "duration": 3,
    "start_time": "2023-04-01T05:57:40.743Z"
   },
   {
    "duration": 31,
    "start_time": "2023-04-01T05:57:40.747Z"
   },
   {
    "duration": 41,
    "start_time": "2023-04-01T05:57:40.780Z"
   },
   {
    "duration": 35,
    "start_time": "2023-04-01T05:57:40.822Z"
   },
   {
    "duration": 26,
    "start_time": "2023-04-01T05:57:40.860Z"
   },
   {
    "duration": 69,
    "start_time": "2023-04-01T05:57:40.887Z"
   },
   {
    "duration": 9,
    "start_time": "2023-04-01T05:57:40.958Z"
   },
   {
    "duration": 29,
    "start_time": "2023-04-01T05:57:40.968Z"
   },
   {
    "duration": 34,
    "start_time": "2023-04-01T05:57:40.998Z"
   },
   {
    "duration": 52,
    "start_time": "2023-04-01T05:57:41.034Z"
   },
   {
    "duration": 27,
    "start_time": "2023-04-01T05:57:41.088Z"
   },
   {
    "duration": 19,
    "start_time": "2023-04-01T05:57:41.117Z"
   },
   {
    "duration": 50,
    "start_time": "2023-04-01T05:57:41.138Z"
   },
   {
    "duration": 29,
    "start_time": "2023-04-01T05:57:41.190Z"
   },
   {
    "duration": 21,
    "start_time": "2023-04-01T05:57:41.220Z"
   },
   {
    "duration": 46,
    "start_time": "2023-04-01T05:57:41.243Z"
   },
   {
    "duration": 40,
    "start_time": "2023-04-01T05:57:41.291Z"
   },
   {
    "duration": 26,
    "start_time": "2023-04-01T05:57:41.333Z"
   },
   {
    "duration": 12,
    "start_time": "2023-04-01T05:57:41.361Z"
   },
   {
    "duration": 31,
    "start_time": "2023-04-01T05:57:41.374Z"
   },
   {
    "duration": 42,
    "start_time": "2023-04-01T05:57:41.407Z"
   },
   {
    "duration": 29,
    "start_time": "2023-04-01T05:57:41.450Z"
   },
   {
    "duration": 47,
    "start_time": "2023-04-01T05:57:41.483Z"
   },
   {
    "duration": 29,
    "start_time": "2023-04-01T05:57:41.532Z"
   },
   {
    "duration": 12,
    "start_time": "2023-04-01T05:57:41.563Z"
   },
   {
    "duration": 39,
    "start_time": "2023-04-01T05:57:41.577Z"
   },
   {
    "duration": 88,
    "start_time": "2023-04-01T06:09:40.151Z"
   },
   {
    "duration": 89,
    "start_time": "2023-04-01T17:23:28.865Z"
   },
   {
    "duration": 94,
    "start_time": "2023-04-01T17:23:47.708Z"
   },
   {
    "duration": 81,
    "start_time": "2023-04-01T17:23:52.201Z"
   },
   {
    "duration": 0,
    "start_time": "2023-04-01T17:23:52.285Z"
   },
   {
    "duration": 0,
    "start_time": "2023-04-01T17:23:52.287Z"
   },
   {
    "duration": 0,
    "start_time": "2023-04-01T17:23:52.288Z"
   },
   {
    "duration": 0,
    "start_time": "2023-04-01T17:23:52.289Z"
   },
   {
    "duration": 0,
    "start_time": "2023-04-01T17:23:52.291Z"
   },
   {
    "duration": 0,
    "start_time": "2023-04-01T17:23:52.292Z"
   },
   {
    "duration": 0,
    "start_time": "2023-04-01T17:23:52.293Z"
   },
   {
    "duration": 47,
    "start_time": "2023-04-01T17:23:52.301Z"
   },
   {
    "duration": 0,
    "start_time": "2023-04-01T17:23:52.349Z"
   },
   {
    "duration": 0,
    "start_time": "2023-04-01T17:23:52.350Z"
   },
   {
    "duration": 0,
    "start_time": "2023-04-01T17:23:52.351Z"
   },
   {
    "duration": 16,
    "start_time": "2023-04-01T17:23:52.362Z"
   },
   {
    "duration": 0,
    "start_time": "2023-04-01T17:23:52.380Z"
   },
   {
    "duration": 0,
    "start_time": "2023-04-01T17:23:52.381Z"
   },
   {
    "duration": 0,
    "start_time": "2023-04-01T17:23:52.382Z"
   },
   {
    "duration": 0,
    "start_time": "2023-04-01T17:23:52.382Z"
   },
   {
    "duration": 0,
    "start_time": "2023-04-01T17:23:52.384Z"
   },
   {
    "duration": 3,
    "start_time": "2023-04-01T17:23:52.446Z"
   },
   {
    "duration": 13,
    "start_time": "2023-04-01T17:23:52.450Z"
   },
   {
    "duration": 0,
    "start_time": "2023-04-01T17:23:52.464Z"
   },
   {
    "duration": 0,
    "start_time": "2023-04-01T17:23:52.465Z"
   },
   {
    "duration": 0,
    "start_time": "2023-04-01T17:23:52.465Z"
   },
   {
    "duration": 0,
    "start_time": "2023-04-01T17:23:52.466Z"
   },
   {
    "duration": 0,
    "start_time": "2023-04-01T17:23:52.467Z"
   },
   {
    "duration": 3,
    "start_time": "2023-04-01T17:23:52.526Z"
   },
   {
    "duration": 24,
    "start_time": "2023-04-01T17:23:52.531Z"
   },
   {
    "duration": 0,
    "start_time": "2023-04-01T17:23:52.556Z"
   },
   {
    "duration": 0,
    "start_time": "2023-04-01T17:23:52.557Z"
   },
   {
    "duration": 0,
    "start_time": "2023-04-01T17:23:52.558Z"
   },
   {
    "duration": 7,
    "start_time": "2023-04-01T17:23:52.613Z"
   },
   {
    "duration": 0,
    "start_time": "2023-04-01T17:23:52.621Z"
   },
   {
    "duration": 0,
    "start_time": "2023-04-01T17:23:52.622Z"
   },
   {
    "duration": 0,
    "start_time": "2023-04-01T17:23:52.623Z"
   },
   {
    "duration": 96,
    "start_time": "2023-04-01T17:24:17.227Z"
   },
   {
    "duration": 0,
    "start_time": "2023-04-01T17:24:17.324Z"
   },
   {
    "duration": 0,
    "start_time": "2023-04-01T17:24:17.325Z"
   },
   {
    "duration": 0,
    "start_time": "2023-04-01T17:24:17.326Z"
   },
   {
    "duration": 0,
    "start_time": "2023-04-01T17:24:17.327Z"
   },
   {
    "duration": 0,
    "start_time": "2023-04-01T17:24:17.328Z"
   },
   {
    "duration": 0,
    "start_time": "2023-04-01T17:24:17.329Z"
   },
   {
    "duration": 0,
    "start_time": "2023-04-01T17:24:17.330Z"
   },
   {
    "duration": 0,
    "start_time": "2023-04-01T17:24:17.331Z"
   },
   {
    "duration": 0,
    "start_time": "2023-04-01T17:24:17.332Z"
   },
   {
    "duration": 0,
    "start_time": "2023-04-01T17:24:17.333Z"
   },
   {
    "duration": 0,
    "start_time": "2023-04-01T17:24:17.334Z"
   },
   {
    "duration": 0,
    "start_time": "2023-04-01T17:24:17.335Z"
   },
   {
    "duration": 0,
    "start_time": "2023-04-01T17:24:17.336Z"
   },
   {
    "duration": 0,
    "start_time": "2023-04-01T17:24:17.337Z"
   },
   {
    "duration": 5,
    "start_time": "2023-04-01T17:24:17.519Z"
   },
   {
    "duration": 0,
    "start_time": "2023-04-01T17:24:17.526Z"
   },
   {
    "duration": 0,
    "start_time": "2023-04-01T17:24:17.527Z"
   },
   {
    "duration": 0,
    "start_time": "2023-04-01T17:24:17.528Z"
   },
   {
    "duration": 0,
    "start_time": "2023-04-01T17:24:17.529Z"
   },
   {
    "duration": 0,
    "start_time": "2023-04-01T17:24:17.530Z"
   },
   {
    "duration": 0,
    "start_time": "2023-04-01T17:24:17.531Z"
   },
   {
    "duration": 0,
    "start_time": "2023-04-01T17:24:17.532Z"
   },
   {
    "duration": 0,
    "start_time": "2023-04-01T17:24:17.533Z"
   },
   {
    "duration": 0,
    "start_time": "2023-04-01T17:24:17.534Z"
   },
   {
    "duration": 0,
    "start_time": "2023-04-01T17:24:17.535Z"
   },
   {
    "duration": 0,
    "start_time": "2023-04-01T17:24:17.536Z"
   },
   {
    "duration": 0,
    "start_time": "2023-04-01T17:24:17.536Z"
   },
   {
    "duration": 0,
    "start_time": "2023-04-01T17:24:17.537Z"
   },
   {
    "duration": 0,
    "start_time": "2023-04-01T17:24:17.538Z"
   },
   {
    "duration": 0,
    "start_time": "2023-04-01T17:24:17.539Z"
   },
   {
    "duration": 0,
    "start_time": "2023-04-01T17:24:17.539Z"
   },
   {
    "duration": 6,
    "start_time": "2023-04-01T17:24:17.597Z"
   },
   {
    "duration": 68,
    "start_time": "2023-04-01T17:24:40.426Z"
   },
   {
    "duration": 0,
    "start_time": "2023-04-01T17:24:40.496Z"
   },
   {
    "duration": 1,
    "start_time": "2023-04-01T17:24:40.496Z"
   },
   {
    "duration": 0,
    "start_time": "2023-04-01T17:24:40.497Z"
   },
   {
    "duration": 0,
    "start_time": "2023-04-01T17:24:40.498Z"
   },
   {
    "duration": 0,
    "start_time": "2023-04-01T17:24:40.499Z"
   },
   {
    "duration": 0,
    "start_time": "2023-04-01T17:24:40.500Z"
   },
   {
    "duration": 0,
    "start_time": "2023-04-01T17:24:40.501Z"
   },
   {
    "duration": 0,
    "start_time": "2023-04-01T17:24:40.502Z"
   },
   {
    "duration": 0,
    "start_time": "2023-04-01T17:24:40.503Z"
   },
   {
    "duration": 5,
    "start_time": "2023-04-01T17:24:40.511Z"
   },
   {
    "duration": 0,
    "start_time": "2023-04-01T17:24:40.517Z"
   },
   {
    "duration": 0,
    "start_time": "2023-04-01T17:24:40.518Z"
   },
   {
    "duration": 0,
    "start_time": "2023-04-01T17:24:40.519Z"
   },
   {
    "duration": 0,
    "start_time": "2023-04-01T17:24:40.520Z"
   },
   {
    "duration": 0,
    "start_time": "2023-04-01T17:24:40.521Z"
   },
   {
    "duration": 0,
    "start_time": "2023-04-01T17:24:40.522Z"
   },
   {
    "duration": 0,
    "start_time": "2023-04-01T17:24:40.523Z"
   },
   {
    "duration": 0,
    "start_time": "2023-04-01T17:24:40.524Z"
   },
   {
    "duration": 0,
    "start_time": "2023-04-01T17:24:40.525Z"
   },
   {
    "duration": 4,
    "start_time": "2023-04-01T17:24:40.527Z"
   },
   {
    "duration": 0,
    "start_time": "2023-04-01T17:24:40.532Z"
   },
   {
    "duration": 6,
    "start_time": "2023-04-01T17:24:40.534Z"
   },
   {
    "duration": 0,
    "start_time": "2023-04-01T17:24:40.578Z"
   },
   {
    "duration": 6,
    "start_time": "2023-04-01T17:24:40.580Z"
   },
   {
    "duration": 0,
    "start_time": "2023-04-01T17:24:40.588Z"
   },
   {
    "duration": 0,
    "start_time": "2023-04-01T17:24:40.589Z"
   },
   {
    "duration": 7,
    "start_time": "2023-04-01T17:24:40.604Z"
   },
   {
    "duration": 0,
    "start_time": "2023-04-01T17:24:40.612Z"
   },
   {
    "duration": 0,
    "start_time": "2023-04-01T17:24:40.613Z"
   },
   {
    "duration": 5,
    "start_time": "2023-04-01T17:24:40.622Z"
   },
   {
    "duration": 0,
    "start_time": "2023-04-01T17:24:40.628Z"
   },
   {
    "duration": 0,
    "start_time": "2023-04-01T17:24:40.629Z"
   },
   {
    "duration": 406,
    "start_time": "2023-04-01T17:25:02.482Z"
   },
   {
    "duration": 315,
    "start_time": "2023-04-01T17:25:02.890Z"
   },
   {
    "duration": 21,
    "start_time": "2023-04-01T17:25:03.206Z"
   },
   {
    "duration": 15,
    "start_time": "2023-04-01T17:25:03.228Z"
   },
   {
    "duration": 9,
    "start_time": "2023-04-01T17:25:03.246Z"
   },
   {
    "duration": 43,
    "start_time": "2023-04-01T17:25:03.257Z"
   },
   {
    "duration": 3,
    "start_time": "2023-04-01T17:25:03.301Z"
   },
   {
    "duration": 10,
    "start_time": "2023-04-01T17:25:03.306Z"
   },
   {
    "duration": 5,
    "start_time": "2023-04-01T17:25:03.317Z"
   },
   {
    "duration": 8,
    "start_time": "2023-04-01T17:25:03.323Z"
   },
   {
    "duration": 7,
    "start_time": "2023-04-01T17:25:03.333Z"
   },
   {
    "duration": 57,
    "start_time": "2023-04-01T17:25:03.341Z"
   },
   {
    "duration": 9,
    "start_time": "2023-04-01T17:25:03.400Z"
   },
   {
    "duration": 4,
    "start_time": "2023-04-01T17:25:03.411Z"
   },
   {
    "duration": 18,
    "start_time": "2023-04-01T17:25:03.417Z"
   },
   {
    "duration": 37,
    "start_time": "2023-04-01T17:25:03.436Z"
   },
   {
    "duration": 18,
    "start_time": "2023-04-01T17:25:03.475Z"
   },
   {
    "duration": 4,
    "start_time": "2023-04-01T17:25:03.495Z"
   },
   {
    "duration": 15,
    "start_time": "2023-04-01T17:25:03.500Z"
   },
   {
    "duration": 10,
    "start_time": "2023-04-01T17:25:03.517Z"
   },
   {
    "duration": 4,
    "start_time": "2023-04-01T17:25:03.528Z"
   },
   {
    "duration": 17,
    "start_time": "2023-04-01T17:25:03.533Z"
   },
   {
    "duration": 35,
    "start_time": "2023-04-01T17:25:03.552Z"
   },
   {
    "duration": 8,
    "start_time": "2023-04-01T17:25:03.589Z"
   },
   {
    "duration": 3,
    "start_time": "2023-04-01T17:25:03.599Z"
   },
   {
    "duration": 19,
    "start_time": "2023-04-01T17:25:03.604Z"
   },
   {
    "duration": 55,
    "start_time": "2023-04-01T17:25:03.624Z"
   },
   {
    "duration": 11,
    "start_time": "2023-04-01T17:25:03.682Z"
   },
   {
    "duration": 21,
    "start_time": "2023-04-01T17:25:03.695Z"
   },
   {
    "duration": 18,
    "start_time": "2023-04-01T17:25:03.718Z"
   },
   {
    "duration": 5,
    "start_time": "2023-04-01T17:25:03.738Z"
   },
   {
    "duration": 45,
    "start_time": "2023-04-01T17:25:03.744Z"
   },
   {
    "duration": 190,
    "start_time": "2023-04-03T10:57:56.015Z"
   },
   {
    "duration": 289,
    "start_time": "2023-04-03T10:58:20.999Z"
   },
   {
    "duration": 97,
    "start_time": "2023-04-03T10:59:16.903Z"
   },
   {
    "duration": 167,
    "start_time": "2023-04-03T11:05:11.868Z"
   }
  ],
  "colab": {
   "provenance": []
  },
  "kernelspec": {
   "display_name": "Python 3 (ipykernel)",
   "language": "python",
   "name": "python3"
  },
  "language_info": {
   "codemirror_mode": {
    "name": "ipython",
    "version": 3
   },
   "file_extension": ".py",
   "mimetype": "text/x-python",
   "name": "python",
   "nbconvert_exporter": "python",
   "pygments_lexer": "ipython3",
   "version": "3.11.5"
  },
  "toc": {
   "base_numbering": 1,
   "nav_menu": {},
   "number_sections": true,
   "sideBar": true,
   "skip_h1_title": true,
   "title_cell": "Table of Contents",
   "title_sidebar": "Contents",
   "toc_cell": false,
   "toc_position": {},
   "toc_section_display": true,
   "toc_window_display": false
  }
 },
 "nbformat": 4,
 "nbformat_minor": 5
}

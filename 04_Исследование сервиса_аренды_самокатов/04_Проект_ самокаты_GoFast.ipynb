{
 "cells": [
  {
   "cell_type": "markdown",
   "id": "0762b4ae",
   "metadata": {},
   "source": [
    "# Исследование сервиса аренды самокатов GoFast"
   ]
  },
  {
   "cell_type": "markdown",
   "id": "627d0db1",
   "metadata": {},
   "source": [
    "# Цель исследования:\n",
    "Проанализировать данные и проверть некоторые гипотезы, которые могут помочь бизнесу вырасти."
   ]
  },
  {
   "cell_type": "markdown",
   "id": "7fa994f1",
   "metadata": {},
   "source": [
    "# Описание данных:\n",
    "1. В файле users_go.csv содержится информация о пользователях, их поездках и подписках.\n",
    "\n",
    "user_id - уникальный идентификатор пользователя\n",
    "\n",
    "name - имя пользователя\n",
    "\n",
    "age - возраст\n",
    "\n",
    "city - город\n",
    "\n",
    "subscription_type - тип подписки (free, ultra)\n",
    "\n",
    "2. В файле rides_go.csv содержится информация о поездках\n",
    "\n",
    "user_id - уникальный идентификатор пользователя\n",
    "\n",
    "distance - расстояние, которое пользователь проехал в текущей сессии (в метрах)\n",
    "\n",
    "duration - расстояние, которое пользователь проехал в текущей сессии (в метрах)\n",
    "продолжительность сессии (в минутах) — время с того момента, как пользователь нажал кнопку «Начать поездку» до момента, как он нажал кнопку «Завершить поездку»\n",
    "\n",
    "date - дата совершения поездки\n",
    "\n",
    "3. В файле subscriptions_go.csv содержится информация о подписках\n",
    "\n",
    "subscription_type - тип подписки\n",
    "\n",
    "minute_price - стоимость одной минуты поездки по данной подписке\n",
    "\n",
    "start_ride_price - стоимость начала поездки\n",
    "\n",
    "subscription_fee - стоимость ежемесячного платежа\n",
    "\n",
    "Чтобы совершать поездки по городу, пользователи сервиса GoFast пользуются мобильным приложением. Сервисом можно пользоваться:\n",
    "•\tбез подписки \n",
    "o\tабонентская плата отсутствует;\n",
    "o\tстоимость одной минуты поездки — 88 рублей;\n",
    "o\tстоимость старта (начала поездки) — 5050 рублей;\n",
    "•\tс подпиской Ultra \n",
    "o\tабонентская плата — 199199 рублей в месяц;\n",
    "o\tстоимость одной минуты поездки — 66 рублей;\n",
    "o\tстоимость старта — бесплатно."
   ]
  },
  {
   "cell_type": "markdown",
   "id": "06bcaecc",
   "metadata": {},
   "source": [
    "# План работы:\n"
   ]
  },
  {
   "cell_type": "markdown",
   "id": "509b27de",
   "metadata": {},
   "source": [
    "Шаг 1. Загрузка данных\n",
    "\n",
    "Шаг 2. Предобработка данных\n",
    "\n",
    "Шаг 3. Исследовательский анализ данных\n",
    "\n",
    "Шаг 4. Объединение данных\n",
    "\n",
    "Шаг 5. Подсчёт выручки\n",
    "\n",
    "Шаг 6. Проверка гипотез\n"
   ]
  },
  {
   "cell_type": "markdown",
   "id": "75cccb4d",
   "metadata": {},
   "source": [
    "Импотрируем необходимые библиотеки:"
   ]
  },
  {
   "cell_type": "code",
   "execution_count": 1,
   "id": "72576667",
   "metadata": {},
   "outputs": [],
   "source": [
    "import pandas as pd\n",
    "import matplotlib.pyplot as plt\n",
    "from scipy import stats as st\n",
    "import seaborn as sns\n",
    "import numpy as np"
   ]
  },
  {
   "cell_type": "markdown",
   "id": "c42cbe00",
   "metadata": {},
   "source": [
    "## Шаг 1. Загрузка и предобработка данных"
   ]
  },
  {
   "cell_type": "code",
   "execution_count": 2,
   "id": "eff9f206",
   "metadata": {},
   "outputs": [],
   "source": [
    "users_go = pd.read_csv('https://code.s3.yandex.net/datasets/users_go.csv')\n",
    "rides_go = pd.read_csv('https://code.s3.yandex.net/datasets/rides_go.csv')\n",
    "subscriptions_go = pd.read_csv('https://code.s3.yandex.net/datasets/subscriptions_go.csv')"
   ]
  },
  {
   "cell_type": "code",
   "execution_count": 3,
   "id": "7db9d74a",
   "metadata": {},
   "outputs": [
    {
     "data": {
      "text/html": [
       "<div>\n",
       "<style scoped>\n",
       "    .dataframe tbody tr th:only-of-type {\n",
       "        vertical-align: middle;\n",
       "    }\n",
       "\n",
       "    .dataframe tbody tr th {\n",
       "        vertical-align: top;\n",
       "    }\n",
       "\n",
       "    .dataframe thead th {\n",
       "        text-align: right;\n",
       "    }\n",
       "</style>\n",
       "<table border=\"1\" class=\"dataframe\">\n",
       "  <thead>\n",
       "    <tr style=\"text-align: right;\">\n",
       "      <th></th>\n",
       "      <th>user_id</th>\n",
       "      <th>name</th>\n",
       "      <th>age</th>\n",
       "      <th>city</th>\n",
       "      <th>subscription_type</th>\n",
       "    </tr>\n",
       "  </thead>\n",
       "  <tbody>\n",
       "    <tr>\n",
       "      <th>0</th>\n",
       "      <td>1</td>\n",
       "      <td>Кира</td>\n",
       "      <td>22</td>\n",
       "      <td>Тюмень</td>\n",
       "      <td>ultra</td>\n",
       "    </tr>\n",
       "    <tr>\n",
       "      <th>1</th>\n",
       "      <td>2</td>\n",
       "      <td>Станислав</td>\n",
       "      <td>31</td>\n",
       "      <td>Омск</td>\n",
       "      <td>ultra</td>\n",
       "    </tr>\n",
       "    <tr>\n",
       "      <th>2</th>\n",
       "      <td>3</td>\n",
       "      <td>Алексей</td>\n",
       "      <td>20</td>\n",
       "      <td>Москва</td>\n",
       "      <td>ultra</td>\n",
       "    </tr>\n",
       "    <tr>\n",
       "      <th>3</th>\n",
       "      <td>4</td>\n",
       "      <td>Константин</td>\n",
       "      <td>26</td>\n",
       "      <td>Ростов-на-Дону</td>\n",
       "      <td>ultra</td>\n",
       "    </tr>\n",
       "    <tr>\n",
       "      <th>4</th>\n",
       "      <td>5</td>\n",
       "      <td>Адель</td>\n",
       "      <td>28</td>\n",
       "      <td>Омск</td>\n",
       "      <td>ultra</td>\n",
       "    </tr>\n",
       "  </tbody>\n",
       "</table>\n",
       "</div>"
      ],
      "text/plain": [
       "   user_id        name  age            city subscription_type\n",
       "0        1        Кира   22          Тюмень             ultra\n",
       "1        2   Станислав   31            Омск             ultra\n",
       "2        3     Алексей   20          Москва             ultra\n",
       "3        4  Константин   26  Ростов-на-Дону             ultra\n",
       "4        5       Адель   28            Омск             ultra"
      ]
     },
     "execution_count": 3,
     "metadata": {},
     "output_type": "execute_result"
    }
   ],
   "source": [
    "users_go.head(5)"
   ]
  },
  {
   "cell_type": "code",
   "execution_count": 4,
   "id": "9f040f8a",
   "metadata": {},
   "outputs": [
    {
     "name": "stdout",
     "output_type": "stream",
     "text": [
      "<class 'pandas.core.frame.DataFrame'>\n",
      "RangeIndex: 1565 entries, 0 to 1564\n",
      "Data columns (total 5 columns):\n",
      " #   Column             Non-Null Count  Dtype \n",
      "---  ------             --------------  ----- \n",
      " 0   user_id            1565 non-null   int64 \n",
      " 1   name               1565 non-null   object\n",
      " 2   age                1565 non-null   int64 \n",
      " 3   city               1565 non-null   object\n",
      " 4   subscription_type  1565 non-null   object\n",
      "dtypes: int64(2), object(3)\n",
      "memory usage: 61.3+ KB\n"
     ]
    }
   ],
   "source": [
    "users_go.info()"
   ]
  },
  {
   "cell_type": "code",
   "execution_count": 5,
   "id": "3bc12a97",
   "metadata": {},
   "outputs": [
    {
     "data": {
      "text/html": [
       "<div>\n",
       "<style scoped>\n",
       "    .dataframe tbody tr th:only-of-type {\n",
       "        vertical-align: middle;\n",
       "    }\n",
       "\n",
       "    .dataframe tbody tr th {\n",
       "        vertical-align: top;\n",
       "    }\n",
       "\n",
       "    .dataframe thead th {\n",
       "        text-align: right;\n",
       "    }\n",
       "</style>\n",
       "<table border=\"1\" class=\"dataframe\">\n",
       "  <thead>\n",
       "    <tr style=\"text-align: right;\">\n",
       "      <th></th>\n",
       "      <th>user_id</th>\n",
       "      <th>distance</th>\n",
       "      <th>duration</th>\n",
       "      <th>date</th>\n",
       "    </tr>\n",
       "  </thead>\n",
       "  <tbody>\n",
       "    <tr>\n",
       "      <th>0</th>\n",
       "      <td>1</td>\n",
       "      <td>4409.919140</td>\n",
       "      <td>25.599769</td>\n",
       "      <td>2021-01-01</td>\n",
       "    </tr>\n",
       "    <tr>\n",
       "      <th>1</th>\n",
       "      <td>1</td>\n",
       "      <td>2617.592153</td>\n",
       "      <td>15.816871</td>\n",
       "      <td>2021-01-18</td>\n",
       "    </tr>\n",
       "    <tr>\n",
       "      <th>2</th>\n",
       "      <td>1</td>\n",
       "      <td>754.159807</td>\n",
       "      <td>6.232113</td>\n",
       "      <td>2021-04-20</td>\n",
       "    </tr>\n",
       "    <tr>\n",
       "      <th>3</th>\n",
       "      <td>1</td>\n",
       "      <td>2694.783254</td>\n",
       "      <td>18.511000</td>\n",
       "      <td>2021-08-11</td>\n",
       "    </tr>\n",
       "    <tr>\n",
       "      <th>4</th>\n",
       "      <td>1</td>\n",
       "      <td>4028.687306</td>\n",
       "      <td>26.265803</td>\n",
       "      <td>2021-08-28</td>\n",
       "    </tr>\n",
       "  </tbody>\n",
       "</table>\n",
       "</div>"
      ],
      "text/plain": [
       "   user_id     distance   duration        date\n",
       "0        1  4409.919140  25.599769  2021-01-01\n",
       "1        1  2617.592153  15.816871  2021-01-18\n",
       "2        1   754.159807   6.232113  2021-04-20\n",
       "3        1  2694.783254  18.511000  2021-08-11\n",
       "4        1  4028.687306  26.265803  2021-08-28"
      ]
     },
     "execution_count": 5,
     "metadata": {},
     "output_type": "execute_result"
    }
   ],
   "source": [
    "rides_go.head(5)"
   ]
  },
  {
   "cell_type": "code",
   "execution_count": 6,
   "id": "72e78d6e",
   "metadata": {},
   "outputs": [
    {
     "name": "stdout",
     "output_type": "stream",
     "text": [
      "<class 'pandas.core.frame.DataFrame'>\n",
      "RangeIndex: 18068 entries, 0 to 18067\n",
      "Data columns (total 4 columns):\n",
      " #   Column    Non-Null Count  Dtype  \n",
      "---  ------    --------------  -----  \n",
      " 0   user_id   18068 non-null  int64  \n",
      " 1   distance  18068 non-null  float64\n",
      " 2   duration  18068 non-null  float64\n",
      " 3   date      18068 non-null  object \n",
      "dtypes: float64(2), int64(1), object(1)\n",
      "memory usage: 564.8+ KB\n"
     ]
    }
   ],
   "source": [
    "rides_go.info()"
   ]
  },
  {
   "cell_type": "code",
   "execution_count": 7,
   "id": "71cbe269",
   "metadata": {},
   "outputs": [
    {
     "data": {
      "text/html": [
       "<div>\n",
       "<style scoped>\n",
       "    .dataframe tbody tr th:only-of-type {\n",
       "        vertical-align: middle;\n",
       "    }\n",
       "\n",
       "    .dataframe tbody tr th {\n",
       "        vertical-align: top;\n",
       "    }\n",
       "\n",
       "    .dataframe thead th {\n",
       "        text-align: right;\n",
       "    }\n",
       "</style>\n",
       "<table border=\"1\" class=\"dataframe\">\n",
       "  <thead>\n",
       "    <tr style=\"text-align: right;\">\n",
       "      <th></th>\n",
       "      <th>subscription_type</th>\n",
       "      <th>minute_price</th>\n",
       "      <th>start_ride_price</th>\n",
       "      <th>subscription_fee</th>\n",
       "    </tr>\n",
       "  </thead>\n",
       "  <tbody>\n",
       "    <tr>\n",
       "      <th>0</th>\n",
       "      <td>free</td>\n",
       "      <td>8</td>\n",
       "      <td>50</td>\n",
       "      <td>0</td>\n",
       "    </tr>\n",
       "    <tr>\n",
       "      <th>1</th>\n",
       "      <td>ultra</td>\n",
       "      <td>6</td>\n",
       "      <td>0</td>\n",
       "      <td>199</td>\n",
       "    </tr>\n",
       "  </tbody>\n",
       "</table>\n",
       "</div>"
      ],
      "text/plain": [
       "  subscription_type  minute_price  start_ride_price  subscription_fee\n",
       "0              free             8                50                 0\n",
       "1             ultra             6                 0               199"
      ]
     },
     "execution_count": 7,
     "metadata": {},
     "output_type": "execute_result"
    }
   ],
   "source": [
    "subscriptions_go.head(5)"
   ]
  },
  {
   "cell_type": "code",
   "execution_count": 8,
   "id": "b6c77351",
   "metadata": {},
   "outputs": [
    {
     "name": "stdout",
     "output_type": "stream",
     "text": [
      "<class 'pandas.core.frame.DataFrame'>\n",
      "RangeIndex: 2 entries, 0 to 1\n",
      "Data columns (total 4 columns):\n",
      " #   Column             Non-Null Count  Dtype \n",
      "---  ------             --------------  ----- \n",
      " 0   subscription_type  2 non-null      object\n",
      " 1   minute_price       2 non-null      int64 \n",
      " 2   start_ride_price   2 non-null      int64 \n",
      " 3   subscription_fee   2 non-null      int64 \n",
      "dtypes: int64(3), object(1)\n",
      "memory usage: 196.0+ bytes\n"
     ]
    }
   ],
   "source": [
    "subscriptions_go.info()"
   ]
  },
  {
   "cell_type": "markdown",
   "id": "b7add623",
   "metadata": {},
   "source": [
    "Произвели загрузку данных, проверили корректность вывода изучили типы каждого набора данных.\n",
    "Пропусков в данных нет. Все типы данных указаны верно, кроме одного.\n",
    "В таблице rides_go[date] тип данных не верный. В дальнейшем, необходимо изменить тип object на datetime64. "
   ]
  },
  {
   "cell_type": "markdown",
   "id": "e95ebca7",
   "metadata": {},
   "source": [
    "## Шаг 2. Предобработка данных"
   ]
  },
  {
   "cell_type": "markdown",
   "id": "0c04932e",
   "metadata": {},
   "source": [
    "### Приведем столбец date к типу даты Pandas (datetime):"
   ]
  },
  {
   "cell_type": "code",
   "execution_count": 9,
   "id": "1864c399",
   "metadata": {},
   "outputs": [],
   "source": [
    "rides_go['date'] = pd.to_datetime(rides_go['date'], format = '%Y-%m-%d')"
   ]
  },
  {
   "cell_type": "code",
   "execution_count": 10,
   "id": "af6d202c",
   "metadata": {},
   "outputs": [
    {
     "data": {
      "text/html": [
       "<div>\n",
       "<style scoped>\n",
       "    .dataframe tbody tr th:only-of-type {\n",
       "        vertical-align: middle;\n",
       "    }\n",
       "\n",
       "    .dataframe tbody tr th {\n",
       "        vertical-align: top;\n",
       "    }\n",
       "\n",
       "    .dataframe thead th {\n",
       "        text-align: right;\n",
       "    }\n",
       "</style>\n",
       "<table border=\"1\" class=\"dataframe\">\n",
       "  <thead>\n",
       "    <tr style=\"text-align: right;\">\n",
       "      <th></th>\n",
       "      <th>user_id</th>\n",
       "      <th>distance</th>\n",
       "      <th>duration</th>\n",
       "      <th>date</th>\n",
       "    </tr>\n",
       "  </thead>\n",
       "  <tbody>\n",
       "    <tr>\n",
       "      <th>0</th>\n",
       "      <td>1</td>\n",
       "      <td>4409.919140</td>\n",
       "      <td>25.599769</td>\n",
       "      <td>2021-01-01</td>\n",
       "    </tr>\n",
       "    <tr>\n",
       "      <th>1</th>\n",
       "      <td>1</td>\n",
       "      <td>2617.592153</td>\n",
       "      <td>15.816871</td>\n",
       "      <td>2021-01-18</td>\n",
       "    </tr>\n",
       "    <tr>\n",
       "      <th>2</th>\n",
       "      <td>1</td>\n",
       "      <td>754.159807</td>\n",
       "      <td>6.232113</td>\n",
       "      <td>2021-04-20</td>\n",
       "    </tr>\n",
       "    <tr>\n",
       "      <th>3</th>\n",
       "      <td>1</td>\n",
       "      <td>2694.783254</td>\n",
       "      <td>18.511000</td>\n",
       "      <td>2021-08-11</td>\n",
       "    </tr>\n",
       "    <tr>\n",
       "      <th>4</th>\n",
       "      <td>1</td>\n",
       "      <td>4028.687306</td>\n",
       "      <td>26.265803</td>\n",
       "      <td>2021-08-28</td>\n",
       "    </tr>\n",
       "  </tbody>\n",
       "</table>\n",
       "</div>"
      ],
      "text/plain": [
       "   user_id     distance   duration       date\n",
       "0        1  4409.919140  25.599769 2021-01-01\n",
       "1        1  2617.592153  15.816871 2021-01-18\n",
       "2        1   754.159807   6.232113 2021-04-20\n",
       "3        1  2694.783254  18.511000 2021-08-11\n",
       "4        1  4028.687306  26.265803 2021-08-28"
      ]
     },
     "execution_count": 10,
     "metadata": {},
     "output_type": "execute_result"
    }
   ],
   "source": [
    "rides_go.head()"
   ]
  },
  {
   "cell_type": "code",
   "execution_count": 11,
   "id": "a31ec193",
   "metadata": {},
   "outputs": [
    {
     "name": "stdout",
     "output_type": "stream",
     "text": [
      "<class 'pandas.core.frame.DataFrame'>\n",
      "RangeIndex: 18068 entries, 0 to 18067\n",
      "Data columns (total 4 columns):\n",
      " #   Column    Non-Null Count  Dtype         \n",
      "---  ------    --------------  -----         \n",
      " 0   user_id   18068 non-null  int64         \n",
      " 1   distance  18068 non-null  float64       \n",
      " 2   duration  18068 non-null  float64       \n",
      " 3   date      18068 non-null  datetime64[ns]\n",
      "dtypes: datetime64[ns](1), float64(2), int64(1)\n",
      "memory usage: 564.8 KB\n"
     ]
    }
   ],
   "source": [
    "rides_go.info()"
   ]
  },
  {
   "cell_type": "markdown",
   "id": "d5be50db",
   "metadata": {},
   "source": [
    "### Создим новый столбец с номером месяца на основе столбца date."
   ]
  },
  {
   "cell_type": "code",
   "execution_count": 12,
   "id": "ad334315",
   "metadata": {
    "scrolled": true
   },
   "outputs": [
    {
     "data": {
      "text/plain": [
       "array([ 1,  4,  8, 10, 11, 12,  3,  6,  7,  2,  5,  9])"
      ]
     },
     "execution_count": 12,
     "metadata": {},
     "output_type": "execute_result"
    }
   ],
   "source": [
    "rides_go['month'] = pd.DatetimeIndex(rides_go['date']).month\n",
    "rides_go['month'].unique()"
   ]
  },
  {
   "cell_type": "code",
   "execution_count": 13,
   "id": "e543922a",
   "metadata": {},
   "outputs": [
    {
     "name": "stdout",
     "output_type": "stream",
     "text": [
      "Index([2021], dtype='int32', name='date')\n"
     ]
    }
   ],
   "source": [
    "#посмотрим, за какой период (года) представлены данные\n",
    "print(pd.DatetimeIndex(rides_go['date']).year.unique())"
   ]
  },
  {
   "cell_type": "markdown",
   "id": "1e4fe1d8",
   "metadata": {},
   "source": [
    "Данные предсталены за все 12 месяцев 2021 года."
   ]
  },
  {
   "cell_type": "markdown",
   "id": "20282458",
   "metadata": {},
   "source": [
    "### Проверьте наличие пропущенных значений и дубликатов в датафреймах. Обработайте их, если такие значения присутствуют."
   ]
  },
  {
   "cell_type": "markdown",
   "id": "ade4a823",
   "metadata": {},
   "source": [
    "Выведем на экран количество пропусков в каждой колонке:"
   ]
  },
  {
   "cell_type": "code",
   "execution_count": 14,
   "id": "8dc68fa6",
   "metadata": {},
   "outputs": [
    {
     "data": {
      "text/plain": [
       "user_id              0\n",
       "name                 0\n",
       "age                  0\n",
       "city                 0\n",
       "subscription_type    0\n",
       "dtype: int64"
      ]
     },
     "execution_count": 14,
     "metadata": {},
     "output_type": "execute_result"
    }
   ],
   "source": [
    "users_go.isna().sum()"
   ]
  },
  {
   "cell_type": "code",
   "execution_count": 15,
   "id": "550e28c2",
   "metadata": {},
   "outputs": [
    {
     "data": {
      "text/plain": [
       "user_id     0\n",
       "distance    0\n",
       "duration    0\n",
       "date        0\n",
       "month       0\n",
       "dtype: int64"
      ]
     },
     "execution_count": 15,
     "metadata": {},
     "output_type": "execute_result"
    }
   ],
   "source": [
    "rides_go.isna().sum()"
   ]
  },
  {
   "cell_type": "markdown",
   "id": "22f8c467",
   "metadata": {},
   "source": [
    "Пропусков не обнаружено.\n",
    "Осуществим поиск полных явных дубликатов:"
   ]
  },
  {
   "cell_type": "code",
   "execution_count": 16,
   "id": "1546d4f9",
   "metadata": {},
   "outputs": [
    {
     "data": {
      "text/plain": [
       "31"
      ]
     },
     "execution_count": 16,
     "metadata": {},
     "output_type": "execute_result"
    }
   ],
   "source": [
    "users_go.duplicated().sum()"
   ]
  },
  {
   "cell_type": "code",
   "execution_count": 17,
   "id": "b3f423a6",
   "metadata": {},
   "outputs": [
    {
     "data": {
      "text/plain": [
       "0"
      ]
     },
     "execution_count": 17,
     "metadata": {},
     "output_type": "execute_result"
    }
   ],
   "source": [
    "#Нашли 31 дубликат. Удалим эти строки.\n",
    "users_go = users_go.drop_duplicates()\n",
    "#Проверяем:\n",
    "users_go.duplicated().sum()\n",
    "#Готово. Теперь в таблице users_go больше нет дубликатов данных."
   ]
  },
  {
   "cell_type": "code",
   "execution_count": 18,
   "id": "b969341c",
   "metadata": {},
   "outputs": [
    {
     "data": {
      "text/plain": [
       "0"
      ]
     },
     "execution_count": 18,
     "metadata": {},
     "output_type": "execute_result"
    }
   ],
   "source": [
    "rides_go.duplicated().sum()\n",
    "#Здесь все хорошо."
   ]
  },
  {
   "cell_type": "code",
   "execution_count": 19,
   "id": "e44f5961",
   "metadata": {},
   "outputs": [
    {
     "data": {
      "text/plain": [
       "0"
      ]
     },
     "execution_count": 19,
     "metadata": {},
     "output_type": "execute_result"
    }
   ],
   "source": [
    "#поищем дубликаты по столбцам ['user_id', 'name']\n",
    "users_go.duplicated(['user_id', 'name']).sum()"
   ]
  },
  {
   "cell_type": "markdown",
   "id": "8ba4ed63",
   "metadata": {},
   "source": [
    "Дубликатов по столбцам ['user_id', 'name'] не обнаружено."
   ]
  },
  {
   "cell_type": "code",
   "execution_count": 20,
   "id": "76d26418",
   "metadata": {},
   "outputs": [
    {
     "data": {
      "text/html": [
       "<div>\n",
       "<style scoped>\n",
       "    .dataframe tbody tr th:only-of-type {\n",
       "        vertical-align: middle;\n",
       "    }\n",
       "\n",
       "    .dataframe tbody tr th {\n",
       "        vertical-align: top;\n",
       "    }\n",
       "\n",
       "    .dataframe thead th {\n",
       "        text-align: right;\n",
       "    }\n",
       "</style>\n",
       "<table border=\"1\" class=\"dataframe\">\n",
       "  <thead>\n",
       "    <tr style=\"text-align: right;\">\n",
       "      <th></th>\n",
       "      <th>user_id</th>\n",
       "      <th>distance</th>\n",
       "      <th>duration</th>\n",
       "      <th>date</th>\n",
       "      <th>month</th>\n",
       "    </tr>\n",
       "  </thead>\n",
       "  <tbody>\n",
       "    <tr>\n",
       "      <th>count</th>\n",
       "      <td>18068.000000</td>\n",
       "      <td>18068.000000</td>\n",
       "      <td>18068.000000</td>\n",
       "      <td>18068</td>\n",
       "      <td>18068.000000</td>\n",
       "    </tr>\n",
       "    <tr>\n",
       "      <th>mean</th>\n",
       "      <td>842.869936</td>\n",
       "      <td>3070.659976</td>\n",
       "      <td>17.805011</td>\n",
       "      <td>2021-06-30 19:47:21.266327296</td>\n",
       "      <td>6.486772</td>\n",
       "    </tr>\n",
       "    <tr>\n",
       "      <th>min</th>\n",
       "      <td>1.000000</td>\n",
       "      <td>0.855683</td>\n",
       "      <td>0.500000</td>\n",
       "      <td>2021-01-01 00:00:00</td>\n",
       "      <td>1.000000</td>\n",
       "    </tr>\n",
       "    <tr>\n",
       "      <th>25%</th>\n",
       "      <td>487.000000</td>\n",
       "      <td>2543.226360</td>\n",
       "      <td>13.597563</td>\n",
       "      <td>2021-04-02 00:00:00</td>\n",
       "      <td>4.000000</td>\n",
       "    </tr>\n",
       "    <tr>\n",
       "      <th>50%</th>\n",
       "      <td>889.000000</td>\n",
       "      <td>3133.609994</td>\n",
       "      <td>17.678395</td>\n",
       "      <td>2021-06-30 00:00:00</td>\n",
       "      <td>6.000000</td>\n",
       "    </tr>\n",
       "    <tr>\n",
       "      <th>75%</th>\n",
       "      <td>1213.250000</td>\n",
       "      <td>3776.222735</td>\n",
       "      <td>21.724800</td>\n",
       "      <td>2021-09-28 00:00:00</td>\n",
       "      <td>9.000000</td>\n",
       "    </tr>\n",
       "    <tr>\n",
       "      <th>max</th>\n",
       "      <td>1534.000000</td>\n",
       "      <td>7211.007745</td>\n",
       "      <td>40.823963</td>\n",
       "      <td>2021-12-30 00:00:00</td>\n",
       "      <td>12.000000</td>\n",
       "    </tr>\n",
       "    <tr>\n",
       "      <th>std</th>\n",
       "      <td>434.734317</td>\n",
       "      <td>1116.831209</td>\n",
       "      <td>6.091051</td>\n",
       "      <td>NaN</td>\n",
       "      <td>3.437410</td>\n",
       "    </tr>\n",
       "  </tbody>\n",
       "</table>\n",
       "</div>"
      ],
      "text/plain": [
       "            user_id      distance      duration  \\\n",
       "count  18068.000000  18068.000000  18068.000000   \n",
       "mean     842.869936   3070.659976     17.805011   \n",
       "min        1.000000      0.855683      0.500000   \n",
       "25%      487.000000   2543.226360     13.597563   \n",
       "50%      889.000000   3133.609994     17.678395   \n",
       "75%     1213.250000   3776.222735     21.724800   \n",
       "max     1534.000000   7211.007745     40.823963   \n",
       "std      434.734317   1116.831209      6.091051   \n",
       "\n",
       "                                date         month  \n",
       "count                          18068  18068.000000  \n",
       "mean   2021-06-30 19:47:21.266327296      6.486772  \n",
       "min              2021-01-01 00:00:00      1.000000  \n",
       "25%              2021-04-02 00:00:00      4.000000  \n",
       "50%              2021-06-30 00:00:00      6.000000  \n",
       "75%              2021-09-28 00:00:00      9.000000  \n",
       "max              2021-12-30 00:00:00     12.000000  \n",
       "std                              NaN      3.437410  "
      ]
     },
     "execution_count": 20,
     "metadata": {},
     "output_type": "execute_result"
    }
   ],
   "source": [
    "#проверим столбец длительности на наличие аномалий\n",
    "rides_go.describe()"
   ]
  },
  {
   "cell_type": "markdown",
   "id": "9e4aaed1",
   "metadata": {},
   "source": [
    "Замечаем, что минимальная длительность поездки 0.5 минуты - будем считать, что это слишком мало, удалим значения, которые меньше одной целой минуты:"
   ]
  },
  {
   "cell_type": "code",
   "execution_count": 21,
   "id": "1241aa6c",
   "metadata": {},
   "outputs": [],
   "source": [
    "#удаляем аномальные значения\n",
    "rides_go.drop(index=rides_go.query('duration < 1').index,inplace=True)"
   ]
  },
  {
   "cell_type": "code",
   "execution_count": 22,
   "id": "3a69e4f0",
   "metadata": {},
   "outputs": [
    {
     "data": {
      "text/html": [
       "<div>\n",
       "<style scoped>\n",
       "    .dataframe tbody tr th:only-of-type {\n",
       "        vertical-align: middle;\n",
       "    }\n",
       "\n",
       "    .dataframe tbody tr th {\n",
       "        vertical-align: top;\n",
       "    }\n",
       "\n",
       "    .dataframe thead th {\n",
       "        text-align: right;\n",
       "    }\n",
       "</style>\n",
       "<table border=\"1\" class=\"dataframe\">\n",
       "  <thead>\n",
       "    <tr style=\"text-align: right;\">\n",
       "      <th></th>\n",
       "      <th>user_id</th>\n",
       "      <th>distance</th>\n",
       "      <th>duration</th>\n",
       "      <th>date</th>\n",
       "      <th>month</th>\n",
       "    </tr>\n",
       "  </thead>\n",
       "  <tbody>\n",
       "    <tr>\n",
       "      <th>count</th>\n",
       "      <td>17973.000000</td>\n",
       "      <td>17973.000000</td>\n",
       "      <td>17973.000000</td>\n",
       "      <td>17973</td>\n",
       "      <td>17973.000000</td>\n",
       "    </tr>\n",
       "    <tr>\n",
       "      <th>mean</th>\n",
       "      <td>841.551995</td>\n",
       "      <td>3059.863833</td>\n",
       "      <td>17.896480</td>\n",
       "      <td>2021-06-30 19:41:36.745117696</td>\n",
       "      <td>6.486786</td>\n",
       "    </tr>\n",
       "    <tr>\n",
       "      <th>min</th>\n",
       "      <td>1.000000</td>\n",
       "      <td>0.855683</td>\n",
       "      <td>2.035632</td>\n",
       "      <td>2021-01-01 00:00:00</td>\n",
       "      <td>1.000000</td>\n",
       "    </tr>\n",
       "    <tr>\n",
       "      <th>25%</th>\n",
       "      <td>484.000000</td>\n",
       "      <td>2538.839628</td>\n",
       "      <td>13.670439</td>\n",
       "      <td>2021-04-02 00:00:00</td>\n",
       "      <td>4.000000</td>\n",
       "    </tr>\n",
       "    <tr>\n",
       "      <th>50%</th>\n",
       "      <td>887.000000</td>\n",
       "      <td>3129.029255</td>\n",
       "      <td>17.714122</td>\n",
       "      <td>2021-06-30 00:00:00</td>\n",
       "      <td>6.000000</td>\n",
       "    </tr>\n",
       "    <tr>\n",
       "      <th>75%</th>\n",
       "      <td>1213.000000</td>\n",
       "      <td>3762.636244</td>\n",
       "      <td>21.747016</td>\n",
       "      <td>2021-09-28 00:00:00</td>\n",
       "      <td>9.000000</td>\n",
       "    </tr>\n",
       "    <tr>\n",
       "      <th>max</th>\n",
       "      <td>1534.000000</td>\n",
       "      <td>7066.003772</td>\n",
       "      <td>40.823963</td>\n",
       "      <td>2021-12-30 00:00:00</td>\n",
       "      <td>12.000000</td>\n",
       "    </tr>\n",
       "    <tr>\n",
       "      <th>std</th>\n",
       "      <td>435.144929</td>\n",
       "      <td>1108.814612</td>\n",
       "      <td>5.975424</td>\n",
       "      <td>NaN</td>\n",
       "      <td>3.436024</td>\n",
       "    </tr>\n",
       "  </tbody>\n",
       "</table>\n",
       "</div>"
      ],
      "text/plain": [
       "            user_id      distance      duration  \\\n",
       "count  17973.000000  17973.000000  17973.000000   \n",
       "mean     841.551995   3059.863833     17.896480   \n",
       "min        1.000000      0.855683      2.035632   \n",
       "25%      484.000000   2538.839628     13.670439   \n",
       "50%      887.000000   3129.029255     17.714122   \n",
       "75%     1213.000000   3762.636244     21.747016   \n",
       "max     1534.000000   7066.003772     40.823963   \n",
       "std      435.144929   1108.814612      5.975424   \n",
       "\n",
       "                                date         month  \n",
       "count                          17973  17973.000000  \n",
       "mean   2021-06-30 19:41:36.745117696      6.486786  \n",
       "min              2021-01-01 00:00:00      1.000000  \n",
       "25%              2021-04-02 00:00:00      4.000000  \n",
       "50%              2021-06-30 00:00:00      6.000000  \n",
       "75%              2021-09-28 00:00:00      9.000000  \n",
       "max              2021-12-30 00:00:00     12.000000  \n",
       "std                              NaN      3.436024  "
      ]
     },
     "execution_count": 22,
     "metadata": {},
     "output_type": "execute_result"
    }
   ],
   "source": [
    "#проверяем:\n",
    "rides_go.describe()"
   ]
  },
  {
   "cell_type": "markdown",
   "id": "466b94aa",
   "metadata": {},
   "source": [
    "Вывод: В шаге \"Предобработка данных\" мы выполнили следующие действия:\n",
    "\n",
    "1) Преобразовали тип данных столбца rides_go['date'] (object -> datetime).\n",
    "2) Создали столбец rides_go['month'], который содержит номер месяца из rides_go['date'].\n",
    "3) Проверили наличие пропусков в имеющихся данных. Пропуски не были обнаружены. Были удалены строки с полными дубликатами данных и аномальные значения в столбце rides_go['duration'].\n",
    "\n",
    "Теперь данные готовы для работы над исследовательским анализом данных."
   ]
  },
  {
   "cell_type": "markdown",
   "id": "212593c7",
   "metadata": {},
   "source": [
    "## Шаг 3. Исследовательский анализ данных"
   ]
  },
  {
   "cell_type": "markdown",
   "id": "bb10f84a",
   "metadata": {},
   "source": [
    "Опишем и визуализируем общую информацию о пользователях и поездках:"
   ]
  },
  {
   "cell_type": "markdown",
   "id": "b56849a2",
   "metadata": {},
   "source": [
    "### Частота встречаемости городов"
   ]
  },
  {
   "cell_type": "code",
   "execution_count": 23,
   "id": "a804c75c",
   "metadata": {},
   "outputs": [],
   "source": [
    "#Создаем сводную таблицу для последующей визуализации\n",
    "pivot_table_city = users_go.pivot_table(index = 'city',values = 'age', aggfunc=['count'])\n",
    "pivot_table_city.columns = ['count']\n",
    "pivot_table_city = pivot_table_city.sort_values('count', ascending = True)"
   ]
  },
  {
   "cell_type": "code",
   "execution_count": 24,
   "id": "e5ea17a5",
   "metadata": {},
   "outputs": [
    {
     "data": {
      "text/html": [
       "<div>\n",
       "<style scoped>\n",
       "    .dataframe tbody tr th:only-of-type {\n",
       "        vertical-align: middle;\n",
       "    }\n",
       "\n",
       "    .dataframe tbody tr th {\n",
       "        vertical-align: top;\n",
       "    }\n",
       "\n",
       "    .dataframe thead th {\n",
       "        text-align: right;\n",
       "    }\n",
       "</style>\n",
       "<table border=\"1\" class=\"dataframe\">\n",
       "  <thead>\n",
       "    <tr style=\"text-align: right;\">\n",
       "      <th></th>\n",
       "      <th>count</th>\n",
       "    </tr>\n",
       "    <tr>\n",
       "      <th>city</th>\n",
       "      <th></th>\n",
       "    </tr>\n",
       "  </thead>\n",
       "  <tbody>\n",
       "    <tr>\n",
       "      <th>Москва</th>\n",
       "      <td>168</td>\n",
       "    </tr>\n",
       "    <tr>\n",
       "      <th>Тюмень</th>\n",
       "      <td>180</td>\n",
       "    </tr>\n",
       "    <tr>\n",
       "      <th>Омск</th>\n",
       "      <td>183</td>\n",
       "    </tr>\n",
       "    <tr>\n",
       "      <th>Сочи</th>\n",
       "      <td>189</td>\n",
       "    </tr>\n",
       "    <tr>\n",
       "      <th>Краснодар</th>\n",
       "      <td>193</td>\n",
       "    </tr>\n",
       "    <tr>\n",
       "      <th>Ростов-на-Дону</th>\n",
       "      <td>198</td>\n",
       "    </tr>\n",
       "    <tr>\n",
       "      <th>Екатеринбург</th>\n",
       "      <td>204</td>\n",
       "    </tr>\n",
       "    <tr>\n",
       "      <th>Пятигорск</th>\n",
       "      <td>219</td>\n",
       "    </tr>\n",
       "  </tbody>\n",
       "</table>\n",
       "</div>"
      ],
      "text/plain": [
       "                count\n",
       "city                 \n",
       "Москва            168\n",
       "Тюмень            180\n",
       "Омск              183\n",
       "Сочи              189\n",
       "Краснодар         193\n",
       "Ростов-на-Дону    198\n",
       "Екатеринбург      204\n",
       "Пятигорск         219"
      ]
     },
     "execution_count": 24,
     "metadata": {},
     "output_type": "execute_result"
    }
   ],
   "source": [
    "pivot_table_city"
   ]
  },
  {
   "cell_type": "code",
   "execution_count": 25,
   "id": "ff87b2d6",
   "metadata": {},
   "outputs": [
    {
     "data": {
      "image/png": "[encoded data removed]",
      "text/plain": [
       "<Figure size 1500x500 with 1 Axes>"
      ]
     },
     "metadata": {},
     "output_type": "display_data"
    }
   ],
   "source": [
    "pivot_table_city.plot(kind='barh', grid=True, figsize=(15, 5));\n",
    "plt.title('Количество пользователей в различных городах',fontsize= 20);"
   ]
  },
  {
   "cell_type": "markdown",
   "id": "70202297",
   "metadata": {},
   "source": [
    "В исследуемых данных мы обнаружили, что наибольшее число клиентов компании \"Go fast\" живут в Пятигорске. Меньше всего пользователей находится в Москве."
   ]
  },
  {
   "cell_type": "markdown",
   "id": "e5124c87",
   "metadata": {},
   "source": [
    "### Соотношение пользователей с подпиской и без подписки"
   ]
  },
  {
   "cell_type": "code",
   "execution_count": 26,
   "id": "fdd0827c",
   "metadata": {},
   "outputs": [
    {
     "data": {
      "text/plain": [
       "subscription_type\n",
       "free     835\n",
       "ultra    699\n",
       "Name: count, dtype: int64"
      ]
     },
     "execution_count": 26,
     "metadata": {},
     "output_type": "execute_result"
    }
   ],
   "source": [
    "plt_subscription_type = users_go['subscription_type'].value_counts()\n",
    "plt_subscription_type"
   ]
  },
  {
   "cell_type": "code",
   "execution_count": 28,
   "id": "526fa044",
   "metadata": {},
   "outputs": [
    {
     "data": {
      "image/png": "[encoded data removed]",
      "text/plain": [
       "<Figure size 700x700 with 1 Axes>"
      ]
     },
     "metadata": {},
     "output_type": "display_data"
    }
   ],
   "source": [
    "\n",
    "colors = sns.color_palette('pastel')[ 0:2 ]\n",
    "plt.rcParams['figure.figsize'] = [7, 7]\n",
    "plt.pie(plt_subscription_type, labels = ['free', 'ultra'], colors = colors, autopct='%.1f%%')\n",
    "plt.title('Соотношение пользователей тарифов free и ultra', loc= 'center', fontsize= 15,);\n",
    "plt.show()"
   ]
  },
  {
   "cell_type": "code",
   "execution_count": 29,
   "id": "d081eeb7",
   "metadata": {},
   "outputs": [
    {
     "data": {
      "text/plain": [
       "count     1534\n",
       "unique       2\n",
       "top       free\n",
       "freq       835\n",
       "Name: subscription_type, dtype: object"
      ]
     },
     "execution_count": 29,
     "metadata": {},
     "output_type": "execute_result"
    }
   ],
   "source": [
    "users_go['subscription_type'].describe()"
   ]
  },
  {
   "cell_type": "markdown",
   "id": "f45ec6d4",
   "metadata": {},
   "source": [
    "Пользователей сервиса без подписки (free) приблизительно на 135 больше, чем пользователей, которые оформили подписку. "
   ]
  },
  {
   "cell_type": "markdown",
   "id": "a8ac28e6",
   "metadata": {},
   "source": [
    "### Возраст пользователей"
   ]
  },
  {
   "cell_type": "code",
   "execution_count": 30,
   "id": "df549e67",
   "metadata": {},
   "outputs": [
    {
     "data": {
      "image/png": "[encoded data removed]",
      "text/plain": [
       "<Figure size 2000x700 with 1 Axes>"
      ]
     },
     "metadata": {},
     "output_type": "display_data"
    }
   ],
   "source": [
    "users_go['age'].hist(bins = 80, figsize=(20, 7));\n",
    "plt.title('Распределение возраста пользователей', fontsize= 25);"
   ]
  },
  {
   "cell_type": "code",
   "execution_count": 31,
   "id": "87e5312a",
   "metadata": {
    "scrolled": true
   },
   "outputs": [
    {
     "data": {
      "text/plain": [
       "count    1534.000000\n",
       "mean       24.903520\n",
       "std         4.572367\n",
       "min        12.000000\n",
       "25%        22.000000\n",
       "50%        25.000000\n",
       "75%        28.000000\n",
       "max        43.000000\n",
       "Name: age, dtype: float64"
      ]
     },
     "execution_count": 31,
     "metadata": {},
     "output_type": "execute_result"
    }
   ],
   "source": [
    "users_go['age'].describe()"
   ]
  },
  {
   "cell_type": "markdown",
   "id": "7377d193",
   "metadata": {},
   "source": [
    "График возраста клиентов напоминает нормальное распределение со средним, равным 25."
   ]
  },
  {
   "cell_type": "markdown",
   "id": "83186e6b",
   "metadata": {},
   "source": [
    "### Расстояние, которое пользователь преодолел за одну поездку"
   ]
  },
  {
   "cell_type": "code",
   "execution_count": 32,
   "id": "806dcef0",
   "metadata": {
    "scrolled": false
   },
   "outputs": [
    {
     "data": {
      "image/png": "[encoded data removed]",
      "text/plain": [
       "<Figure size 2000x700 with 1 Axes>"
      ]
     },
     "metadata": {},
     "output_type": "display_data"
    }
   ],
   "source": [
    "rides_go['distance'].hist(bins = 80, figsize=(20, 7));\n",
    "plt.title('Расстояние за одну поездку (в метрах)', fontsize= 25);"
   ]
  },
  {
   "cell_type": "code",
   "execution_count": 33,
   "id": "00bb1796",
   "metadata": {},
   "outputs": [
    {
     "data": {
      "text/plain": [
       "count    17973.000000\n",
       "mean      3059.863833\n",
       "std       1108.814612\n",
       "min          0.855683\n",
       "25%       2538.839628\n",
       "50%       3129.029255\n",
       "75%       3762.636244\n",
       "max       7066.003772\n",
       "Name: distance, dtype: float64"
      ]
     },
     "execution_count": 33,
     "metadata": {},
     "output_type": "execute_result"
    }
   ],
   "source": [
    "rides_go['distance'].describe()"
   ]
  },
  {
   "cell_type": "markdown",
   "id": "678af0bb",
   "metadata": {},
   "source": [
    "Наблюдаем большой хвост в данных от 5 до 7,2 км. Однако \n",
    "это незначительно сказывается на разнице между средней и медианой.\n",
    "Также можем заметить на гистограмме два пика распределения данных: около 600 м и около 3100 м.\n",
    "Второй пик длительности поездок может быть объяснен низким зарядом аккумулятора самоката. Тогда пользователь может проехать до следующего пункта стоянки, чтобы сменить свое транспортное средство на более \"жизнеспособное\".\n",
    "В среднем, пользователи преодолевают на самокате расстояние в 3060 м."
   ]
  },
  {
   "cell_type": "markdown",
   "id": "6ccbaf6f",
   "metadata": {},
   "source": [
    "###  Продолжительность поездок"
   ]
  },
  {
   "cell_type": "code",
   "execution_count": 34,
   "id": "c3f5b071",
   "metadata": {},
   "outputs": [
    {
     "data": {
      "image/png": "[encoded data removed]",
      "text/plain": [
       "<Figure size 2000x700 with 1 Axes>"
      ]
     },
     "metadata": {},
     "output_type": "display_data"
    }
   ],
   "source": [
    "rides_go['duration'].hist(bins = 80, figsize=(20, 7));\n",
    "plt.title('Распределение длительности поездок (в минутах)', fontsize= 25);"
   ]
  },
  {
   "cell_type": "code",
   "execution_count": 35,
   "id": "0b6a5674",
   "metadata": {},
   "outputs": [
    {
     "data": {
      "text/plain": [
       "count    17973.000000\n",
       "mean        17.896480\n",
       "std          5.975424\n",
       "min          2.035632\n",
       "25%         13.670439\n",
       "50%         17.714122\n",
       "75%         21.747016\n",
       "max         40.823963\n",
       "Name: duration, dtype: float64"
      ]
     },
     "execution_count": 35,
     "metadata": {},
     "output_type": "execute_result"
    }
   ],
   "source": [
    "rides_go['duration'].describe()"
   ]
  },
  {
   "cell_type": "markdown",
   "id": "9aaa530b",
   "metadata": {},
   "source": [
    "Значения продолжительности поездок распределены нормально.\n",
    "В среднем, одна поездка на самокате длится около 18 минут."
   ]
  },
  {
   "cell_type": "markdown",
   "id": "276cfc52",
   "metadata": {},
   "source": [
    "Шаг 3 : Выводы\n",
    "\n",
    "Наиболее часто встречаются пользователи из Пятигорска, наиболее редко – из Москвы.\n",
    "Подписка, очевидно, пользуется популярностью у клиентов, ее предпочитают 835 человек из 1534.\n",
    "Половина всех клиентов относится к  возрастной категории от 22 до 28 лет, с модой в 25 лет.\n",
    "Основная масса пользователей предпочитает пользоваться самокатами в том случае, если им предстоит преодолеть путь протяженностью от 2,5 - 3,8 км и длительностью  от 13 до 21 минуты."
   ]
  },
  {
   "cell_type": "markdown",
   "id": "4ef51331",
   "metadata": {},
   "source": [
    "## Шаг 4. Объединение данных"
   ]
  },
  {
   "cell_type": "markdown",
   "id": "38ddc18c",
   "metadata": {},
   "source": [
    "### Объединим данные о пользователях (users_go), поездках(rides_go) и подписках(subscriptions_go) в один датафрейм."
   ]
  },
  {
   "cell_type": "code",
   "execution_count": 36,
   "id": "008cd57d",
   "metadata": {},
   "outputs": [],
   "source": [
    "#для этого воспользуемся методом merge()\n",
    "data = users_go.merge(rides_go, on='user_id', how='right')\n",
    "data = data.merge(subscriptions_go, on='subscription_type', how='left')"
   ]
  },
  {
   "cell_type": "code",
   "execution_count": 37,
   "id": "af7a483a",
   "metadata": {
    "scrolled": true
   },
   "outputs": [
    {
     "data": {
      "text/html": [
       "<div>\n",
       "<style scoped>\n",
       "    .dataframe tbody tr th:only-of-type {\n",
       "        vertical-align: middle;\n",
       "    }\n",
       "\n",
       "    .dataframe tbody tr th {\n",
       "        vertical-align: top;\n",
       "    }\n",
       "\n",
       "    .dataframe thead th {\n",
       "        text-align: right;\n",
       "    }\n",
       "</style>\n",
       "<table border=\"1\" class=\"dataframe\">\n",
       "  <thead>\n",
       "    <tr style=\"text-align: right;\">\n",
       "      <th></th>\n",
       "      <th>user_id</th>\n",
       "      <th>name</th>\n",
       "      <th>age</th>\n",
       "      <th>city</th>\n",
       "      <th>subscription_type</th>\n",
       "      <th>distance</th>\n",
       "      <th>duration</th>\n",
       "      <th>date</th>\n",
       "      <th>month</th>\n",
       "      <th>minute_price</th>\n",
       "      <th>start_ride_price</th>\n",
       "      <th>subscription_fee</th>\n",
       "    </tr>\n",
       "  </thead>\n",
       "  <tbody>\n",
       "    <tr>\n",
       "      <th>0</th>\n",
       "      <td>1</td>\n",
       "      <td>Кира</td>\n",
       "      <td>22</td>\n",
       "      <td>Тюмень</td>\n",
       "      <td>ultra</td>\n",
       "      <td>4409.919140</td>\n",
       "      <td>25.599769</td>\n",
       "      <td>2021-01-01</td>\n",
       "      <td>1</td>\n",
       "      <td>6</td>\n",
       "      <td>0</td>\n",
       "      <td>199</td>\n",
       "    </tr>\n",
       "    <tr>\n",
       "      <th>1</th>\n",
       "      <td>1</td>\n",
       "      <td>Кира</td>\n",
       "      <td>22</td>\n",
       "      <td>Тюмень</td>\n",
       "      <td>ultra</td>\n",
       "      <td>2617.592153</td>\n",
       "      <td>15.816871</td>\n",
       "      <td>2021-01-18</td>\n",
       "      <td>1</td>\n",
       "      <td>6</td>\n",
       "      <td>0</td>\n",
       "      <td>199</td>\n",
       "    </tr>\n",
       "    <tr>\n",
       "      <th>2</th>\n",
       "      <td>1</td>\n",
       "      <td>Кира</td>\n",
       "      <td>22</td>\n",
       "      <td>Тюмень</td>\n",
       "      <td>ultra</td>\n",
       "      <td>754.159807</td>\n",
       "      <td>6.232113</td>\n",
       "      <td>2021-04-20</td>\n",
       "      <td>4</td>\n",
       "      <td>6</td>\n",
       "      <td>0</td>\n",
       "      <td>199</td>\n",
       "    </tr>\n",
       "    <tr>\n",
       "      <th>3</th>\n",
       "      <td>1</td>\n",
       "      <td>Кира</td>\n",
       "      <td>22</td>\n",
       "      <td>Тюмень</td>\n",
       "      <td>ultra</td>\n",
       "      <td>2694.783254</td>\n",
       "      <td>18.511000</td>\n",
       "      <td>2021-08-11</td>\n",
       "      <td>8</td>\n",
       "      <td>6</td>\n",
       "      <td>0</td>\n",
       "      <td>199</td>\n",
       "    </tr>\n",
       "    <tr>\n",
       "      <th>4</th>\n",
       "      <td>1</td>\n",
       "      <td>Кира</td>\n",
       "      <td>22</td>\n",
       "      <td>Тюмень</td>\n",
       "      <td>ultra</td>\n",
       "      <td>4028.687306</td>\n",
       "      <td>26.265803</td>\n",
       "      <td>2021-08-28</td>\n",
       "      <td>8</td>\n",
       "      <td>6</td>\n",
       "      <td>0</td>\n",
       "      <td>199</td>\n",
       "    </tr>\n",
       "  </tbody>\n",
       "</table>\n",
       "</div>"
      ],
      "text/plain": [
       "   user_id  name  age    city subscription_type     distance   duration  \\\n",
       "0        1  Кира   22  Тюмень             ultra  4409.919140  25.599769   \n",
       "1        1  Кира   22  Тюмень             ultra  2617.592153  15.816871   \n",
       "2        1  Кира   22  Тюмень             ultra   754.159807   6.232113   \n",
       "3        1  Кира   22  Тюмень             ultra  2694.783254  18.511000   \n",
       "4        1  Кира   22  Тюмень             ultra  4028.687306  26.265803   \n",
       "\n",
       "        date  month  minute_price  start_ride_price  subscription_fee  \n",
       "0 2021-01-01      1             6                 0               199  \n",
       "1 2021-01-18      1             6                 0               199  \n",
       "2 2021-04-20      4             6                 0               199  \n",
       "3 2021-08-11      8             6                 0               199  \n",
       "4 2021-08-28      8             6                 0               199  "
      ]
     },
     "execution_count": 37,
     "metadata": {},
     "output_type": "execute_result"
    }
   ],
   "source": [
    "#Проверяем корректность объединения:\n",
    "data.head(5)"
   ]
  },
  {
   "cell_type": "markdown",
   "id": "3254275f",
   "metadata": {},
   "source": [
    "После объединения трех датафреймов необходимо понять корректно ли мы выполнили данную задачу?\n",
    "Сравним количество строк до и после объединения:"
   ]
  },
  {
   "cell_type": "code",
   "execution_count": 38,
   "id": "2b5d24a6",
   "metadata": {},
   "outputs": [
    {
     "data": {
      "text/plain": [
       "(17973, 12)"
      ]
     },
     "execution_count": 38,
     "metadata": {},
     "output_type": "execute_result"
    }
   ],
   "source": [
    "data.shape"
   ]
  },
  {
   "cell_type": "code",
   "execution_count": 39,
   "id": "56ff1d32",
   "metadata": {},
   "outputs": [
    {
     "data": {
      "text/plain": [
       "(1534, 5)"
      ]
     },
     "execution_count": 39,
     "metadata": {},
     "output_type": "execute_result"
    }
   ],
   "source": [
    "users_go.shape"
   ]
  },
  {
   "cell_type": "code",
   "execution_count": 40,
   "id": "bbbd1b89",
   "metadata": {},
   "outputs": [
    {
     "data": {
      "text/plain": [
       "(17973, 5)"
      ]
     },
     "execution_count": 40,
     "metadata": {},
     "output_type": "execute_result"
    }
   ],
   "source": [
    "rides_go.shape"
   ]
  },
  {
   "cell_type": "code",
   "execution_count": 41,
   "id": "1a3f00c5",
   "metadata": {},
   "outputs": [
    {
     "data": {
      "text/plain": [
       "(2, 4)"
      ]
     },
     "execution_count": 41,
     "metadata": {},
     "output_type": "execute_result"
    }
   ],
   "source": [
    "subscriptions_go.shape"
   ]
  },
  {
   "cell_type": "markdown",
   "id": "cfce5ea2",
   "metadata": {},
   "source": [
    "Количество строк в датафрейме data совпадает с количеством строк в датафрейме rides_go, по которому производилось объединение. Тут всё верно."
   ]
  },
  {
   "cell_type": "markdown",
   "id": "4d15e6f2",
   "metadata": {},
   "source": [
    "Сравним количество уникальных пользователей в исходных и в объединенном датафрейме:"
   ]
  },
  {
   "cell_type": "code",
   "execution_count": 42,
   "id": "a70d966b",
   "metadata": {},
   "outputs": [
    {
     "data": {
      "text/plain": [
       "array([   1,    2,    3, ..., 1532, 1533, 1534], dtype=int64)"
      ]
     },
     "execution_count": 42,
     "metadata": {},
     "output_type": "execute_result"
    }
   ],
   "source": [
    "users_go['user_id'].unique()"
   ]
  },
  {
   "cell_type": "code",
   "execution_count": 43,
   "id": "77a42647",
   "metadata": {},
   "outputs": [
    {
     "data": {
      "text/plain": [
       "array([   1,    2,    3, ..., 1532, 1533, 1534], dtype=int64)"
      ]
     },
     "execution_count": 43,
     "metadata": {},
     "output_type": "execute_result"
    }
   ],
   "source": [
    "rides_go['user_id'].unique()"
   ]
  },
  {
   "cell_type": "code",
   "execution_count": 44,
   "id": "3509545d",
   "metadata": {},
   "outputs": [
    {
     "data": {
      "text/plain": [
       "array([   1,    2,    3, ..., 1532, 1533, 1534], dtype=int64)"
      ]
     },
     "execution_count": 44,
     "metadata": {},
     "output_type": "execute_result"
    }
   ],
   "source": [
    "data['user_id'].unique()"
   ]
  },
  {
   "cell_type": "markdown",
   "id": "b8303785",
   "metadata": {},
   "source": [
    "В таблицах до и после объединения количество уникальных пользователей не изменилось. Объединение было произведено корректно."
   ]
  },
  {
   "cell_type": "markdown",
   "id": "1de1d000",
   "metadata": {},
   "source": [
    "Объединение таблиц было выполнено корректно: количество строк до и после объединения не изменилось и осталось равным 17973.\n",
    "\n",
    "Количество уникальных пользователей в датафреймах до объединения(users_go, rides_go) равно количеству уникальных пользователей в датафрейме после объединения (data)."
   ]
  },
  {
   "cell_type": "markdown",
   "id": "7ed3ccb2",
   "metadata": {},
   "source": [
    "### Создадим ещё два датафрейма из датафрейма, созданного на этапе 4.1:"
   ]
  },
  {
   "cell_type": "code",
   "execution_count": 45,
   "id": "e5ef08ee",
   "metadata": {},
   "outputs": [],
   "source": [
    "#c данными о пользователях без подписки\n",
    "free_type = data.query('subscription_type == \"free\"')"
   ]
  },
  {
   "cell_type": "code",
   "execution_count": 46,
   "id": "c1aee231",
   "metadata": {
    "scrolled": true
   },
   "outputs": [
    {
     "data": {
      "text/html": [
       "<div>\n",
       "<style scoped>\n",
       "    .dataframe tbody tr th:only-of-type {\n",
       "        vertical-align: middle;\n",
       "    }\n",
       "\n",
       "    .dataframe tbody tr th {\n",
       "        vertical-align: top;\n",
       "    }\n",
       "\n",
       "    .dataframe thead th {\n",
       "        text-align: right;\n",
       "    }\n",
       "</style>\n",
       "<table border=\"1\" class=\"dataframe\">\n",
       "  <thead>\n",
       "    <tr style=\"text-align: right;\">\n",
       "      <th></th>\n",
       "      <th>user_id</th>\n",
       "      <th>name</th>\n",
       "      <th>age</th>\n",
       "      <th>city</th>\n",
       "      <th>subscription_type</th>\n",
       "      <th>distance</th>\n",
       "      <th>duration</th>\n",
       "      <th>date</th>\n",
       "      <th>month</th>\n",
       "      <th>minute_price</th>\n",
       "      <th>start_ride_price</th>\n",
       "      <th>subscription_fee</th>\n",
       "    </tr>\n",
       "  </thead>\n",
       "  <tbody>\n",
       "    <tr>\n",
       "      <th>6500</th>\n",
       "      <td>700</td>\n",
       "      <td>Айдар</td>\n",
       "      <td>22</td>\n",
       "      <td>Омск</td>\n",
       "      <td>free</td>\n",
       "      <td>2515.690719</td>\n",
       "      <td>14.944286</td>\n",
       "      <td>2021-01-02</td>\n",
       "      <td>1</td>\n",
       "      <td>8</td>\n",
       "      <td>50</td>\n",
       "      <td>0</td>\n",
       "    </tr>\n",
       "    <tr>\n",
       "      <th>6501</th>\n",
       "      <td>700</td>\n",
       "      <td>Айдар</td>\n",
       "      <td>22</td>\n",
       "      <td>Омск</td>\n",
       "      <td>free</td>\n",
       "      <td>846.932642</td>\n",
       "      <td>16.234663</td>\n",
       "      <td>2021-02-01</td>\n",
       "      <td>2</td>\n",
       "      <td>8</td>\n",
       "      <td>50</td>\n",
       "      <td>0</td>\n",
       "    </tr>\n",
       "    <tr>\n",
       "      <th>6502</th>\n",
       "      <td>700</td>\n",
       "      <td>Айдар</td>\n",
       "      <td>22</td>\n",
       "      <td>Омск</td>\n",
       "      <td>free</td>\n",
       "      <td>4004.434142</td>\n",
       "      <td>20.016628</td>\n",
       "      <td>2021-02-04</td>\n",
       "      <td>2</td>\n",
       "      <td>8</td>\n",
       "      <td>50</td>\n",
       "      <td>0</td>\n",
       "    </tr>\n",
       "    <tr>\n",
       "      <th>6503</th>\n",
       "      <td>700</td>\n",
       "      <td>Айдар</td>\n",
       "      <td>22</td>\n",
       "      <td>Омск</td>\n",
       "      <td>free</td>\n",
       "      <td>1205.911290</td>\n",
       "      <td>9.782872</td>\n",
       "      <td>2021-02-10</td>\n",
       "      <td>2</td>\n",
       "      <td>8</td>\n",
       "      <td>50</td>\n",
       "      <td>0</td>\n",
       "    </tr>\n",
       "    <tr>\n",
       "      <th>6504</th>\n",
       "      <td>700</td>\n",
       "      <td>Айдар</td>\n",
       "      <td>22</td>\n",
       "      <td>Омск</td>\n",
       "      <td>free</td>\n",
       "      <td>3047.379435</td>\n",
       "      <td>17.427673</td>\n",
       "      <td>2021-02-14</td>\n",
       "      <td>2</td>\n",
       "      <td>8</td>\n",
       "      <td>50</td>\n",
       "      <td>0</td>\n",
       "    </tr>\n",
       "  </tbody>\n",
       "</table>\n",
       "</div>"
      ],
      "text/plain": [
       "      user_id   name  age  city subscription_type     distance   duration  \\\n",
       "6500      700  Айдар   22  Омск              free  2515.690719  14.944286   \n",
       "6501      700  Айдар   22  Омск              free   846.932642  16.234663   \n",
       "6502      700  Айдар   22  Омск              free  4004.434142  20.016628   \n",
       "6503      700  Айдар   22  Омск              free  1205.911290   9.782872   \n",
       "6504      700  Айдар   22  Омск              free  3047.379435  17.427673   \n",
       "\n",
       "           date  month  minute_price  start_ride_price  subscription_fee  \n",
       "6500 2021-01-02      1             8                50                 0  \n",
       "6501 2021-02-01      2             8                50                 0  \n",
       "6502 2021-02-04      2             8                50                 0  \n",
       "6503 2021-02-10      2             8                50                 0  \n",
       "6504 2021-02-14      2             8                50                 0  "
      ]
     },
     "execution_count": 46,
     "metadata": {},
     "output_type": "execute_result"
    }
   ],
   "source": [
    "free_type.head(5)"
   ]
  },
  {
   "cell_type": "code",
   "execution_count": 47,
   "id": "56f35118",
   "metadata": {},
   "outputs": [],
   "source": [
    "#с данными о пользователях с подпиской\n",
    "ultra_type = data.query('subscription_type == \"ultra\"')"
   ]
  },
  {
   "cell_type": "code",
   "execution_count": 48,
   "id": "ea396321",
   "metadata": {
    "scrolled": true
   },
   "outputs": [
    {
     "data": {
      "text/html": [
       "<div>\n",
       "<style scoped>\n",
       "    .dataframe tbody tr th:only-of-type {\n",
       "        vertical-align: middle;\n",
       "    }\n",
       "\n",
       "    .dataframe tbody tr th {\n",
       "        vertical-align: top;\n",
       "    }\n",
       "\n",
       "    .dataframe thead th {\n",
       "        text-align: right;\n",
       "    }\n",
       "</style>\n",
       "<table border=\"1\" class=\"dataframe\">\n",
       "  <thead>\n",
       "    <tr style=\"text-align: right;\">\n",
       "      <th></th>\n",
       "      <th>user_id</th>\n",
       "      <th>name</th>\n",
       "      <th>age</th>\n",
       "      <th>city</th>\n",
       "      <th>subscription_type</th>\n",
       "      <th>distance</th>\n",
       "      <th>duration</th>\n",
       "      <th>date</th>\n",
       "      <th>month</th>\n",
       "      <th>minute_price</th>\n",
       "      <th>start_ride_price</th>\n",
       "      <th>subscription_fee</th>\n",
       "    </tr>\n",
       "  </thead>\n",
       "  <tbody>\n",
       "    <tr>\n",
       "      <th>0</th>\n",
       "      <td>1</td>\n",
       "      <td>Кира</td>\n",
       "      <td>22</td>\n",
       "      <td>Тюмень</td>\n",
       "      <td>ultra</td>\n",
       "      <td>4409.919140</td>\n",
       "      <td>25.599769</td>\n",
       "      <td>2021-01-01</td>\n",
       "      <td>1</td>\n",
       "      <td>6</td>\n",
       "      <td>0</td>\n",
       "      <td>199</td>\n",
       "    </tr>\n",
       "    <tr>\n",
       "      <th>1</th>\n",
       "      <td>1</td>\n",
       "      <td>Кира</td>\n",
       "      <td>22</td>\n",
       "      <td>Тюмень</td>\n",
       "      <td>ultra</td>\n",
       "      <td>2617.592153</td>\n",
       "      <td>15.816871</td>\n",
       "      <td>2021-01-18</td>\n",
       "      <td>1</td>\n",
       "      <td>6</td>\n",
       "      <td>0</td>\n",
       "      <td>199</td>\n",
       "    </tr>\n",
       "    <tr>\n",
       "      <th>2</th>\n",
       "      <td>1</td>\n",
       "      <td>Кира</td>\n",
       "      <td>22</td>\n",
       "      <td>Тюмень</td>\n",
       "      <td>ultra</td>\n",
       "      <td>754.159807</td>\n",
       "      <td>6.232113</td>\n",
       "      <td>2021-04-20</td>\n",
       "      <td>4</td>\n",
       "      <td>6</td>\n",
       "      <td>0</td>\n",
       "      <td>199</td>\n",
       "    </tr>\n",
       "    <tr>\n",
       "      <th>3</th>\n",
       "      <td>1</td>\n",
       "      <td>Кира</td>\n",
       "      <td>22</td>\n",
       "      <td>Тюмень</td>\n",
       "      <td>ultra</td>\n",
       "      <td>2694.783254</td>\n",
       "      <td>18.511000</td>\n",
       "      <td>2021-08-11</td>\n",
       "      <td>8</td>\n",
       "      <td>6</td>\n",
       "      <td>0</td>\n",
       "      <td>199</td>\n",
       "    </tr>\n",
       "    <tr>\n",
       "      <th>4</th>\n",
       "      <td>1</td>\n",
       "      <td>Кира</td>\n",
       "      <td>22</td>\n",
       "      <td>Тюмень</td>\n",
       "      <td>ultra</td>\n",
       "      <td>4028.687306</td>\n",
       "      <td>26.265803</td>\n",
       "      <td>2021-08-28</td>\n",
       "      <td>8</td>\n",
       "      <td>6</td>\n",
       "      <td>0</td>\n",
       "      <td>199</td>\n",
       "    </tr>\n",
       "  </tbody>\n",
       "</table>\n",
       "</div>"
      ],
      "text/plain": [
       "   user_id  name  age    city subscription_type     distance   duration  \\\n",
       "0        1  Кира   22  Тюмень             ultra  4409.919140  25.599769   \n",
       "1        1  Кира   22  Тюмень             ultra  2617.592153  15.816871   \n",
       "2        1  Кира   22  Тюмень             ultra   754.159807   6.232113   \n",
       "3        1  Кира   22  Тюмень             ultra  2694.783254  18.511000   \n",
       "4        1  Кира   22  Тюмень             ultra  4028.687306  26.265803   \n",
       "\n",
       "        date  month  minute_price  start_ride_price  subscription_fee  \n",
       "0 2021-01-01      1             6                 0               199  \n",
       "1 2021-01-18      1             6                 0               199  \n",
       "2 2021-04-20      4             6                 0               199  \n",
       "3 2021-08-11      8             6                 0               199  \n",
       "4 2021-08-28      8             6                 0               199  "
      ]
     },
     "execution_count": 48,
     "metadata": {},
     "output_type": "execute_result"
    }
   ],
   "source": [
    "ultra_type.head(5)"
   ]
  },
  {
   "cell_type": "markdown",
   "id": "7d001614",
   "metadata": {},
   "source": [
    "### Визуализируем информацию о расстоянии и времени поездок для пользователей обеих категорий.\n"
   ]
  },
  {
   "cell_type": "code",
   "execution_count": 49,
   "id": "3c446ea8",
   "metadata": {
    "scrolled": true
   },
   "outputs": [
    {
     "data": {
      "image/png": "[encoded data removed]",
      "text/plain": [
       "<Figure size 2000x600 with 1 Axes>"
      ]
     },
     "metadata": {},
     "output_type": "display_data"
    }
   ],
   "source": [
    "#distance free_type\n",
    "free_type['distance'].hist(bins = 100, figsize = (20, 6), range = (0,7300));\n",
    "plt.title('Расстояние поездок (в метрах) для тарифа free_type', fontsize= 25);"
   ]
  },
  {
   "cell_type": "code",
   "execution_count": 50,
   "id": "51663bb8",
   "metadata": {},
   "outputs": [
    {
     "data": {
      "image/png": "[encoded data removed]",
      "text/plain": [
       "<Figure size 2000x700 with 1 Axes>"
      ]
     },
     "metadata": {},
     "output_type": "display_data"
    }
   ],
   "source": [
    "#distance ultra_type\n",
    "ultra_type['distance'].hist(bins = 100, figsize = (20, 7), range = (0,7300));\n",
    "plt.title('Расстояние поездок (в метрах) для тарифа ultra_type', fontsize= 25);"
   ]
  },
  {
   "cell_type": "code",
   "execution_count": 51,
   "id": "1f059813",
   "metadata": {},
   "outputs": [
    {
     "data": {
      "image/png": "[encoded data removed]",
      "text/plain": [
       "<Figure size 700x700 with 1 Axes>"
      ]
     },
     "metadata": {},
     "output_type": "display_data"
    }
   ],
   "source": [
    "#Совместим графики распределений расстояния поездок:\n",
    "a = ultra_type['distance']\n",
    "b = free_type['distance']\n",
    "\n",
    "plt.hist([a, b], bins = 50, label=['a', 'b'])\n",
    "plt.legend(loc='upper left')\n",
    "plt.title('Расстояние поездок (в метрах) для ultra/free type', fontsize= 15)\n",
    "plt.show()\n"
   ]
  },
  {
   "cell_type": "code",
   "execution_count": 52,
   "id": "520dbd80",
   "metadata": {
    "scrolled": true
   },
   "outputs": [
    {
     "data": {
      "text/plain": [
       "count    11473.000000\n",
       "mean      3028.374239\n",
       "std       1235.541051\n",
       "min          0.855683\n",
       "25%       2360.878149\n",
       "50%       3102.083025\n",
       "75%       3883.979311\n",
       "max       7066.003772\n",
       "Name: distance, dtype: float64"
      ]
     },
     "execution_count": 52,
     "metadata": {},
     "output_type": "execute_result"
    }
   ],
   "source": [
    "free_type['distance'].describe()"
   ]
  },
  {
   "cell_type": "code",
   "execution_count": 53,
   "id": "faaa790c",
   "metadata": {
    "scrolled": true
   },
   "outputs": [
    {
     "data": {
      "text/plain": [
       "count    6500.000000\n",
       "mean     3115.445388\n",
       "std       836.895330\n",
       "min       244.210438\n",
       "25%      2785.444017\n",
       "50%      3148.637229\n",
       "75%      3560.574425\n",
       "max      5699.769662\n",
       "Name: distance, dtype: float64"
      ]
     },
     "execution_count": 53,
     "metadata": {},
     "output_type": "execute_result"
    }
   ],
   "source": [
    "ultra_type['distance'].describe()"
   ]
  },
  {
   "cell_type": "markdown",
   "id": "faf61ab6",
   "metadata": {},
   "source": [
    "Наблюдаем, что оба грфика бимодальные.\n",
    "График free_type более \"растянутый\", разброс данных здесь гораздо больше, в сравнении с графиком ultra_type. Мы можем убедиться в этом, сравнив стандартные отклонения двух графиков: std(free_type)=1246.2 > std(ultra_type)=836.9"
   ]
  },
  {
   "cell_type": "code",
   "execution_count": 54,
   "id": "6778ce8f",
   "metadata": {
    "scrolled": false
   },
   "outputs": [
    {
     "data": {
      "image/png": "[encoded data removed]",
      "text/plain": [
       "<Figure size 2000x700 with 1 Axes>"
      ]
     },
     "metadata": {},
     "output_type": "display_data"
    }
   ],
   "source": [
    "#duration free_type\n",
    "free_type['duration'].hist(bins = 100, figsize = (20, 7), range = (0, 45));\n",
    "plt.title('Длительность поездок (в минутах) для тарифа free_type', fontsize= 25);"
   ]
  },
  {
   "cell_type": "code",
   "execution_count": 55,
   "id": "25a5f252",
   "metadata": {
    "scrolled": true
   },
   "outputs": [
    {
     "data": {
      "image/png": "[encoded data removed]",
      "text/plain": [
       "<Figure size 2000x600 with 1 Axes>"
      ]
     },
     "metadata": {},
     "output_type": "display_data"
    }
   ],
   "source": [
    "#duration ultra_type\n",
    "ultra_type['duration'].hist(bins = 100, figsize = (20, 6), range = (0, 45));\n",
    "plt.title('Длительность поездок (в минутах) для тарифа ultra_type', fontsize= 25);"
   ]
  },
  {
   "cell_type": "code",
   "execution_count": 56,
   "id": "2a85e1eb",
   "metadata": {},
   "outputs": [
    {
     "data": {
      "image/png": "[encoded data removed]",
      "text/plain": [
       "<Figure size 700x700 with 1 Axes>"
      ]
     },
     "metadata": {},
     "output_type": "display_data"
    }
   ],
   "source": [
    "#Совместим графики распределений:\n",
    "a = ultra_type['duration']\n",
    "b = free_type['duration']\n",
    "\n",
    "plt.hist([a, b], bins = 50, label=['a', 'b'])\n",
    "plt.legend(loc='upper left')\n",
    "plt.title('Длительность поездок (в минутах) для тарифов ultra/free type', fontsize= 15)\n",
    "plt.show()\n"
   ]
  },
  {
   "cell_type": "code",
   "execution_count": 57,
   "id": "2482ea15",
   "metadata": {},
   "outputs": [
    {
     "data": {
      "text/plain": [
       "count    11473.000000\n",
       "mean        17.530771\n",
       "std          6.162609\n",
       "min          2.035632\n",
       "25%         13.085688\n",
       "50%         17.383807\n",
       "75%         21.638038\n",
       "max         34.948498\n",
       "Name: duration, dtype: float64"
      ]
     },
     "execution_count": 57,
     "metadata": {},
     "output_type": "execute_result"
    }
   ],
   "source": [
    "free_type['duration'].describe()"
   ]
  },
  {
   "cell_type": "code",
   "execution_count": 58,
   "id": "43b6c033",
   "metadata": {
    "scrolled": true
   },
   "outputs": [
    {
     "data": {
      "text/plain": [
       "count    6500.000000\n",
       "mean       18.541985\n",
       "std         5.572048\n",
       "min         3.760353\n",
       "25%        14.524654\n",
       "50%        18.178153\n",
       "75%        21.884129\n",
       "max        40.823963\n",
       "Name: duration, dtype: float64"
      ]
     },
     "execution_count": 58,
     "metadata": {},
     "output_type": "execute_result"
    }
   ],
   "source": [
    "ultra_type['duration'].describe()"
   ]
  },
  {
   "cell_type": "markdown",
   "id": "b5e3cd71",
   "metadata": {},
   "source": [
    "Наблюдаем на графиках нормальное распределение.\n",
    "Можем визуально оценить, что в среднем, длительность поездок free_type гораздо выше, чем ultra_type.\n",
    "Убедимся в этом, сравнив средние двух тарифов: mean(free_type)=17.4; mean(ultra_type)=18.5;"
   ]
  },
  {
   "cell_type": "markdown",
   "id": "56d2191f",
   "metadata": {},
   "source": [
    "Шаг 4: Выводы\n",
    "\n",
    "создали 3 датафрейма:\n",
    "1)data - содержит объединенную информацию из трех дата-фреймов(пользователи, поездки, подписки)\n",
    "2)free_type - содержит информацию о пользователях, не использующих подписку\n",
    "3)ultra_type - содержит информацию о пользователях, оформивших подписку\n",
    "\n",
    "Провели проверку корректности объединения датафреймов, в ходе которого выяснили, что количество строк и уникальных пользователей не изменилось. Это хороший знак. "
   ]
  },
  {
   "cell_type": "markdown",
   "id": "402d620f",
   "metadata": {},
   "source": [
    "## Шаг 5. Подсчёт выручки"
   ]
  },
  {
   "cell_type": "markdown",
   "id": "eac14d28",
   "metadata": {},
   "source": [
    "### Найдем суммарное расстояние, количество поездок и суммарное время для каждого пользователя за каждый месяц.\n",
    "Создайте датафрейм с агрегированными данными о поездках на основе датафрейма с объединёнными данными из шага 4: найдите суммарное расстояние, количество поездок и суммарное время для каждого пользователя за каждый месяц."
   ]
  },
  {
   "cell_type": "code",
   "execution_count": 59,
   "id": "5f5c362d",
   "metadata": {},
   "outputs": [],
   "source": [
    "#Округляем \n",
    "data['duration'] = np.ceil(data['duration']) "
   ]
  },
  {
   "cell_type": "code",
   "execution_count": 60,
   "id": "7e9b28ad",
   "metadata": {
    "scrolled": true
   },
   "outputs": [
    {
     "data": {
      "text/html": [
       "<div>\n",
       "<style scoped>\n",
       "    .dataframe tbody tr th:only-of-type {\n",
       "        vertical-align: middle;\n",
       "    }\n",
       "\n",
       "    .dataframe tbody tr th {\n",
       "        vertical-align: top;\n",
       "    }\n",
       "\n",
       "    .dataframe thead th {\n",
       "        text-align: right;\n",
       "    }\n",
       "</style>\n",
       "<table border=\"1\" class=\"dataframe\">\n",
       "  <thead>\n",
       "    <tr style=\"text-align: right;\">\n",
       "      <th></th>\n",
       "      <th>user_id</th>\n",
       "      <th>subscription_type</th>\n",
       "      <th>month</th>\n",
       "      <th>total_distance</th>\n",
       "      <th>total_duration</th>\n",
       "      <th>rides</th>\n",
       "    </tr>\n",
       "  </thead>\n",
       "  <tbody>\n",
       "    <tr>\n",
       "      <th>11295</th>\n",
       "      <td>1534</td>\n",
       "      <td>free</td>\n",
       "      <td>6</td>\n",
       "      <td>3409.468534</td>\n",
       "      <td>26.0</td>\n",
       "      <td>2</td>\n",
       "    </tr>\n",
       "    <tr>\n",
       "      <th>11296</th>\n",
       "      <td>1534</td>\n",
       "      <td>free</td>\n",
       "      <td>8</td>\n",
       "      <td>7622.453034</td>\n",
       "      <td>48.0</td>\n",
       "      <td>2</td>\n",
       "    </tr>\n",
       "    <tr>\n",
       "      <th>11297</th>\n",
       "      <td>1534</td>\n",
       "      <td>free</td>\n",
       "      <td>9</td>\n",
       "      <td>4928.173852</td>\n",
       "      <td>23.0</td>\n",
       "      <td>1</td>\n",
       "    </tr>\n",
       "    <tr>\n",
       "      <th>11298</th>\n",
       "      <td>1534</td>\n",
       "      <td>free</td>\n",
       "      <td>11</td>\n",
       "      <td>13350.015305</td>\n",
       "      <td>78.0</td>\n",
       "      <td>4</td>\n",
       "    </tr>\n",
       "    <tr>\n",
       "      <th>11299</th>\n",
       "      <td>1534</td>\n",
       "      <td>free</td>\n",
       "      <td>12</td>\n",
       "      <td>2371.711192</td>\n",
       "      <td>16.0</td>\n",
       "      <td>1</td>\n",
       "    </tr>\n",
       "  </tbody>\n",
       "</table>\n",
       "</div>"
      ],
      "text/plain": [
       "       user_id subscription_type  month  total_distance  total_duration  rides\n",
       "11295     1534              free      6     3409.468534            26.0      2\n",
       "11296     1534              free      8     7622.453034            48.0      2\n",
       "11297     1534              free      9     4928.173852            23.0      1\n",
       "11298     1534              free     11    13350.015305            78.0      4\n",
       "11299     1534              free     12     2371.711192            16.0      1"
      ]
     },
     "execution_count": 60,
     "metadata": {},
     "output_type": "execute_result"
    }
   ],
   "source": [
    "#Создадим сводную таблицу, которая содержит необходимые данные:\n",
    "data_pivot = data.pivot_table(index=['user_id', 'subscription_type', 'month'], \n",
    "                              values=['name', 'distance', 'duration'], \n",
    "                              aggfunc={'distance':'sum', 'duration':'sum', 'name':'count'})\n",
    "#Переименуем новые столбцы:\n",
    "data_pivot.columns = ['total_distance', 'total_duration', 'rides']\n",
    "data_pivot = data_pivot.reset_index()\n",
    "data_pivot.tail(5)"
   ]
  },
  {
   "cell_type": "markdown",
   "id": "72b5ab5a",
   "metadata": {},
   "source": [
    "### Добавим столбец с помесячной выручкой, которую принёс каждый пользователь"
   ]
  },
  {
   "cell_type": "code",
   "execution_count": 61,
   "id": "64b67eb7",
   "metadata": {},
   "outputs": [],
   "source": [
    "#функция для подсчета помесячной выручки от каждого пользователя:\n",
    "def revenue(row):\n",
    "    if row['subscription_type'] == 'ultra':\n",
    "        return 199+row['rides']*0+row['total_duration']*6\n",
    "    if row['subscription_type'] == 'free':\n",
    "        return row['rides']*50+row['total_duration']*8\n",
    "data_pivot['revenue'] = data_pivot.apply(revenue, axis=1)"
   ]
  },
  {
   "cell_type": "code",
   "execution_count": 62,
   "id": "01ba393c",
   "metadata": {
    "scrolled": false
   },
   "outputs": [
    {
     "data": {
      "text/html": [
       "<div>\n",
       "<style scoped>\n",
       "    .dataframe tbody tr th:only-of-type {\n",
       "        vertical-align: middle;\n",
       "    }\n",
       "\n",
       "    .dataframe tbody tr th {\n",
       "        vertical-align: top;\n",
       "    }\n",
       "\n",
       "    .dataframe thead th {\n",
       "        text-align: right;\n",
       "    }\n",
       "</style>\n",
       "<table border=\"1\" class=\"dataframe\">\n",
       "  <thead>\n",
       "    <tr style=\"text-align: right;\">\n",
       "      <th></th>\n",
       "      <th>user_id</th>\n",
       "      <th>subscription_type</th>\n",
       "      <th>month</th>\n",
       "      <th>total_distance</th>\n",
       "      <th>total_duration</th>\n",
       "      <th>rides</th>\n",
       "      <th>revenue</th>\n",
       "    </tr>\n",
       "  </thead>\n",
       "  <tbody>\n",
       "    <tr>\n",
       "      <th>0</th>\n",
       "      <td>1</td>\n",
       "      <td>ultra</td>\n",
       "      <td>1</td>\n",
       "      <td>7027.511294</td>\n",
       "      <td>42.0</td>\n",
       "      <td>2</td>\n",
       "      <td>451.0</td>\n",
       "    </tr>\n",
       "    <tr>\n",
       "      <th>1</th>\n",
       "      <td>1</td>\n",
       "      <td>ultra</td>\n",
       "      <td>4</td>\n",
       "      <td>754.159807</td>\n",
       "      <td>7.0</td>\n",
       "      <td>1</td>\n",
       "      <td>241.0</td>\n",
       "    </tr>\n",
       "    <tr>\n",
       "      <th>2</th>\n",
       "      <td>1</td>\n",
       "      <td>ultra</td>\n",
       "      <td>8</td>\n",
       "      <td>6723.470560</td>\n",
       "      <td>46.0</td>\n",
       "      <td>2</td>\n",
       "      <td>475.0</td>\n",
       "    </tr>\n",
       "    <tr>\n",
       "      <th>3</th>\n",
       "      <td>1</td>\n",
       "      <td>ultra</td>\n",
       "      <td>10</td>\n",
       "      <td>5809.911100</td>\n",
       "      <td>32.0</td>\n",
       "      <td>2</td>\n",
       "      <td>391.0</td>\n",
       "    </tr>\n",
       "    <tr>\n",
       "      <th>4</th>\n",
       "      <td>1</td>\n",
       "      <td>ultra</td>\n",
       "      <td>11</td>\n",
       "      <td>7003.499363</td>\n",
       "      <td>56.0</td>\n",
       "      <td>3</td>\n",
       "      <td>535.0</td>\n",
       "    </tr>\n",
       "  </tbody>\n",
       "</table>\n",
       "</div>"
      ],
      "text/plain": [
       "   user_id subscription_type  month  total_distance  total_duration  rides  \\\n",
       "0        1             ultra      1     7027.511294            42.0      2   \n",
       "1        1             ultra      4      754.159807             7.0      1   \n",
       "2        1             ultra      8     6723.470560            46.0      2   \n",
       "3        1             ultra     10     5809.911100            32.0      2   \n",
       "4        1             ultra     11     7003.499363            56.0      3   \n",
       "\n",
       "   revenue  \n",
       "0    451.0  \n",
       "1    241.0  \n",
       "2    475.0  \n",
       "3    391.0  \n",
       "4    535.0  "
      ]
     },
     "execution_count": 62,
     "metadata": {},
     "output_type": "execute_result"
    }
   ],
   "source": [
    "data_pivot.head(5)"
   ]
  },
  {
   "cell_type": "markdown",
   "id": "d41dc028",
   "metadata": {},
   "source": [
    "Шаг 5: Выводы\n",
    "\n",
    "Мы создали датафрейм с агрегированными данными о поездках (расстояние, количество поездок, общее время поездок для каждого пользователя в каждом месяце) и на основе этих данных расcчитали помесячную выручку от каждого пользователя."
   ]
  },
  {
   "cell_type": "markdown",
   "id": "41545ac0",
   "metadata": {},
   "source": [
    "## Шаг 6. Проверка гипотез\n",
    "Продакт-менеджеры сервиса хотят увеличить количество пользователей с подпиской. Для этого они будут проводить различные акции, но сначала нужно выяснить несколько важных моментов."
   ]
  },
  {
   "cell_type": "markdown",
   "id": "e6471319",
   "metadata": {},
   "source": [
    "### Тратят ли пользователи с подпиской больше времени на поездки? "
   ]
  },
  {
   "cell_type": "markdown",
   "id": "020073f6",
   "metadata": {},
   "source": [
    "Если да, то действительно ли пользователи с подпиской «выгоднее» для компании. Проверьте гипотезу. Используйте исходные данные о продолжительности каждой сессии — отдельно для подписчиков и тех, у кого нет подписки."
   ]
  },
  {
   "cell_type": "markdown",
   "id": "81c9c874",
   "metadata": {},
   "source": [
    "Сформулируем нулевую и альтернативную гипотезы о длительности поездок пользователей тарифов free и ultra:\n",
    "\n",
    "H0: Длительность поездок пользователей тарифов free и ultra (без подписки/с подпиской, соответственно) не отличается\n",
    "\n",
    "H1: Длительность поездок у пользователей тарифа ultra больше, чем у пользователей тарифа free\n",
    "\n",
    "alpha = 0.05"
   ]
  },
  {
   "cell_type": "code",
   "execution_count": 63,
   "id": "30fed9fe",
   "metadata": {
    "scrolled": true
   },
   "outputs": [
    {
     "name": "stdout",
     "output_type": "stream",
     "text": [
      "p-value: 4.704468074453899e-28\n",
      "Отвергаем нулевую гипотезу и принимаем альтернативную\n"
     ]
    }
   ],
   "source": [
    "alpha = 0.05\n",
    "# вызов метода для проверки гипотезы:\n",
    "results = st.ttest_ind(ultra_type['duration'], free_type['duration'], alternative = 'greater')\n",
    " \n",
    "print('p-value:', results.pvalue)\n",
    " \n",
    "if results.pvalue < alpha:\n",
    "    print('Отвергаем нулевую гипотезу и принимаем альтернативную')\n",
    "else:\n",
    "    print('Не получилось отвергнуть нулевую гипотезу')"
   ]
  },
  {
   "cell_type": "code",
   "execution_count": 64,
   "id": "a3e8aff9",
   "metadata": {
    "scrolled": true
   },
   "outputs": [
    {
     "name": "stdout",
     "output_type": "stream",
     "text": [
      "Средняя длительность поездки тарифа \"free\": 17.5\n",
      "Средняя длительность поездки тарифа \"ultra\": 18.5\n"
     ]
    }
   ],
   "source": [
    "print('Средняя длительность поездки тарифа \"free\": {:.1f}'.format(free_type['duration'].mean()))\n",
    "print('Средняя длительность поездки тарифа \"ultra\": {:.1f}'.format(ultra_type['duration'].mean()))"
   ]
  },
  {
   "cell_type": "markdown",
   "id": "b082b764",
   "metadata": {},
   "source": [
    "Действительно ли пользователи с подпиской «выгоднее» для компании?\n",
    "Можем предположить, что пользователи с подпиской \"выгоднее\", т.к. средняя длительность поездки таких пользователей выше.\n",
    "Исходя только из данных о средней длительности поездки мы не можем дать однозначный ответ на этот вопрос.\n",
    "Для того, чтобы ответить на него, нам необходимо сравнить помесячные выручки от пользователей двух тарифов.\n",
    "Поэтому ответ на этот вопрос будет дан в пункте 6.3."
   ]
  },
  {
   "cell_type": "markdown",
   "id": "2cb84559",
   "metadata": {},
   "source": [
    "**6.1 Вывод**\n",
    "\n",
    "Средняя длительность поездки тарифа \"ultra\" больше средней длительности поездки тарифа \"free\".\n",
    "p-value меньше зафиксированного уровня статистической значимости\n",
    "На имеющихся данных, на уровне значимости 5% (уровне доверия 95%) есть основания отвергнуть\n",
    "нулевую гипотезу в пользу альтернативной."
   ]
  },
  {
   "cell_type": "markdown",
   "id": "427647a4",
   "metadata": {},
   "source": [
    "###  Расстояние, которое проезжают пользователи с подпиской за одну поездку, не превышает 3130 метров? "
   ]
  },
  {
   "cell_type": "markdown",
   "id": "2d23526d",
   "metadata": {},
   "source": [
    "Расстояние одной поездки в 3130 метров — оптимальное с точки зрения износа самоката. Можно ли сказать, что расстояние, которое проезжают пользователи с подпиской за одну поездку, не превышает 3130 метров? Проверьте гипотезу и сделайте выводы."
   ]
  },
  {
   "cell_type": "markdown",
   "id": "4f6c32ed",
   "metadata": {},
   "source": [
    "Сформулируем нулевую и альтернативную гипотезы:\n",
    "\n",
    "H0: Расстояние, которое проезжают пользователи с подпиской(ultra) за одну поездку больше или равно 3130 метров.\n",
    "\n",
    "H1: Расстояние, которое проезжают пользователи с подпиской(ultra) за одну поездку меньше 3130 метрам."
   ]
  },
  {
   "cell_type": "code",
   "execution_count": 65,
   "id": "8383a758",
   "metadata": {},
   "outputs": [
    {
     "name": "stdout",
     "output_type": "stream",
     "text": [
      "p-value: 0.08046311521502146\n",
      "Не получилось отвергнуть нулевую гипотезу\n"
     ]
    }
   ],
   "source": [
    "alpha = 0.05\n",
    "optimal_distance = 3130\n",
    "# вызов метода для проверки гипотезы:\n",
    "results = st.ttest_1samp(ultra_type['distance'], optimal_distance, alternative='less')\n",
    "\n",
    "print('p-value:', results.pvalue)\n",
    " \n",
    "if results.pvalue < alpha:\n",
    "    print('Отвергаем нулевую гипотезу и принимаем альтернативную')\n",
    "else:\n",
    "    print('Не получилось отвергнуть нулевую гипотезу')"
   ]
  },
  {
   "cell_type": "code",
   "execution_count": 66,
   "id": "52ff23a2",
   "metadata": {},
   "outputs": [
    {
     "name": "stdout",
     "output_type": "stream",
     "text": [
      "Среднее расстояние за одну поездку тарифа \"free\": 3028.4\n",
      "Среднее расстояние за одну поездку тарифа \"ultra\": 3115.4\n"
     ]
    }
   ],
   "source": [
    "#Сравним среднюю длительность поездки пользователей тарифов free и ultra:\n",
    "print('Среднее расстояние за одну поездку тарифа \"free\": {:.1f}'.format(free_type['distance'].mean()))\n",
    "print('Среднее расстояние за одну поездку тарифа \"ultra\": {:.1f}'.format(ultra_type['distance'].mean()))"
   ]
  },
  {
   "cell_type": "markdown",
   "id": "5ceec5c0",
   "metadata": {},
   "source": [
    "Значение p-value=0.08 очень близко к пороговому значению уровня статистической значимости alpha=0.05, но оно все же выше и поэтому мы не можем отвергнуть нулевую гипотезу.\n",
    "Однако, среднее расстояние за одну поездку 3115.4 < 3130.\n",
    "То есть, если бы мы не расчитывали p-value, то можно было бы предположить, что среднее расстояние, которое пользователь преодолел за одну поездку, все же меньше 3130 метров.  \n",
    "По итогу, нулевую гипотезу мы не отвергаем. Но считаем, что разница близка и нам необходимо больше данных, для того чтобы быть уверенными в выводе наверняка."
   ]
  },
  {
   "cell_type": "markdown",
   "id": "56ef40c5",
   "metadata": {},
   "source": [
    "**6.2 Вывод** \n",
    "\n",
    "Среднее расстояние, которое проезжают пользователи с подпиской(ultra) за одну поездку больше или равно 3130 метрам. \n",
    "p-value = 0.08 больше зафиксированного уровня статистической значимости = 0.05\n",
    "На имеющихся данных, на уровне значимости 5% (уровне доверия 95%) нет оснований для отвержения\n",
    "нулевой гипотезы в пользу альтернативной."
   ]
  },
  {
   "cell_type": "markdown",
   "id": "1257c932",
   "metadata": {},
   "source": [
    "### Сравнение помесячных выручек от пользователей тарифов ultra и free"
   ]
  },
  {
   "cell_type": "markdown",
   "id": "e825337b",
   "metadata": {},
   "source": [
    "Проверьте гипотезу о том, будет ли помесячная выручка от пользователей с подпиской по месяцам выше, чем выручка от пользователей без подписки. Сделайте вывод."
   ]
  },
  {
   "cell_type": "markdown",
   "id": "b53e304a",
   "metadata": {},
   "source": [
    "Сформулируем нулевую и альтернативную гипотезы\n",
    "\n",
    "H0: Помесячная выручка от пользователей с подпиской (тариф ultra) меньше или равна выручке от пользователей без подписки(тариф free)\n",
    "\n",
    "H1: Помесячная выручка от пользователей с подпиской (тариф ultra) больше выручки, чем от пользователей без подписки(тариф free)"
   ]
  },
  {
   "cell_type": "code",
   "execution_count": 67,
   "id": "28f713aa",
   "metadata": {},
   "outputs": [],
   "source": [
    "users_free = data_pivot.loc[data_pivot['subscription_type'] =='free']['revenue']\n",
    "users_ultra = data_pivot.loc[data_pivot['subscription_type'] =='ultra']['revenue']"
   ]
  },
  {
   "cell_type": "code",
   "execution_count": 68,
   "id": "a9541719",
   "metadata": {},
   "outputs": [
    {
     "name": "stdout",
     "output_type": "stream",
     "text": [
      "Средняя выручка тарифа \"free\": 329.3\n",
      "Средняя выручка тарифа \"ultra\": 362.8\n",
      "Полная выручка тарифа \"free\": 2228594.0\n",
      "Полная выручка тарифа \"ultra\": 1644537.0\n"
     ]
    }
   ],
   "source": [
    "print('Средняя выручка тарифа \"free\": {:.1f}'.format(users_free.mean()))\n",
    "print('Средняя выручка тарифа \"ultra\": {:.1f}'.format(users_ultra.mean()))\n",
    "print('Полная выручка тарифа \"free\": {:.1f}'.format(users_free.sum()))\n",
    "print('Полная выручка тарифа \"ultra\": {:.1f}'.format(users_ultra.sum()))"
   ]
  },
  {
   "cell_type": "code",
   "execution_count": 69,
   "id": "bd0d65a7",
   "metadata": {},
   "outputs": [
    {
     "name": "stdout",
     "output_type": "stream",
     "text": [
      "p-value: 2.0314113674863288e-30\n",
      "Отвергаем нулевую гипотезу и принимаем альтернативную\n"
     ]
    }
   ],
   "source": [
    "alpha = 0.05\n",
    "# вызов метода для проверки гипотезы:\n",
    "results = st.ttest_ind(users_ultra, users_free,  alternative='greater')\n",
    "print('p-value:', results.pvalue)\n",
    " \n",
    "if results.pvalue < alpha:\n",
    "    print('Отвергаем нулевую гипотезу и принимаем альтернативную')\n",
    "else:\n",
    "    print('Не получилось отвергнуть нулевую гипотезу')"
   ]
  },
  {
   "cell_type": "markdown",
   "id": "93bac688",
   "metadata": {},
   "source": [
    "**6.3 Вывод**\n",
    "\n",
    "Средняя помесячная выручка от пользователей с подпиской (тариф ultra) больше средней помесячной выручки, пользователей без подписки(тариф free). \n",
    "p-value меньше зафиксированного уровня статистической значимости На имеющихся данных, на уровне значимости 5% (уровне доверия 95%) есть основания отвергнуть нулевую гипотезу в пользу альтернативной.\n",
    "Тот же результат мы наблюдаем при сравнении средних помесячных выручек от пользователей различных тарифов: free=322.5, ultra=358.5"
   ]
  },
  {
   "cell_type": "markdown",
   "id": "5f575972",
   "metadata": {},
   "source": [
    "Ответим на вопрос **\"Действительно ли пользователи с подпиской «выгоднее» для компании?\"**\n",
    "Да, основываясь на имеющихся данных, на уровне значимости 5% (уровне доверия 95%), у нас есть основания утверждать, что пользователи с подпиской выгоднее, чем пользователи без подписки."
   ]
  },
  {
   "cell_type": "markdown",
   "id": "dc6762fe",
   "metadata": {},
   "source": [
    "### Вопрос"
   ]
  },
  {
   "cell_type": "markdown",
   "id": "940804fe",
   "metadata": {},
   "source": [
    "**Вопрос** \n",
    "\n",
    "Представьте такую ситуацию: техническая команда сервиса обновила сервера, с которыми взаимодействует мобильное приложение. Она надеется, что из-за этого количество обращений в техподдержку значимо снизилось. Некоторый файл содержит для каждого пользователя данные о количестве обращений до обновления и после него. Какой тест вам понадобился бы для проверки этой гипотезы?\n",
    "\n",
    "**Ответ**\n",
    "\n",
    "В данной гипотизе мы анализируем одну генеральную совокупность, с которой произошли изменения.\n",
    "Для проверки гипотезы о равенстве средних двух генеральных совокупностей для зависимых (парных) выборок в Python, применяется метод scipy.stats.ttest_rel(). \n",
    "Метод принимает наборы данных до и после. Оба набора должны быть одинаковыми по размеру: каждое измерение должно быть проведено до и после изменения."
   ]
  },
  {
   "cell_type": "markdown",
   "id": "05def329",
   "metadata": {},
   "source": [
    "Шаг 6: Выводы\n",
    "Мы проверили 3 гипотезы:\n",
    "1)Тратят ли пользователи с подпиской больше времени на поездки?\n",
    " Средняя длительность поездки тарифа \"ultra\" больше средней длительности поездки тарифа \"free\".\n",
    " \n",
    "2)Можно ли сказать, что расстояние, которое проезжают пользователи с подпиской за одну поездку, не превышает 3130 метров? У нас не получилось отвергнуть нулевую гипотезу, которая гласит: \"Среднее расстояние, которое проезжают пользователи с подпиской(ultra) за одну поездку больше или равно 3130 метрам.\"\n",
    "\n",
    "3)Средняя помесячная выручка от пользователей с подпиской (тариф ultra) больше средней помесячной выручки, пользователей без подписки(тариф free).\n",
    "\n",
    "4)Для проверки гипотезы об изменении количества обращений в техподдержку до и после обновления сервера нам понадобится метод scipy.stats.ttest_rel().\n"
   ]
  },
  {
   "cell_type": "markdown",
   "id": "a7bc9e86",
   "metadata": {},
   "source": [
    "## Общие выводы:"
   ]
  },
  {
   "cell_type": "markdown",
   "id": "eb140309",
   "metadata": {},
   "source": [
    "В процессе анализа данных нами были пройдены следующие этапы:\n",
    "\n",
    "Нами были получены данные сервиса аренды самокатов GoFast. Далее мы загрузили данные и ознакомились с ними(исследовали датафрейм на наличие пропусков, и некорректных типов данных);\n",
    "В ходе предобработки данных преобразовали некорректный тип данных из object в datetime столбца ['date'] таблицы rides_go, создали столбец rides_go['month']; устранили пропуски и дубликаты данных.\n",
    "В ходе проведенного исследовательского анализа данных нами были выявлены следующие закономерности: \"Сервис наиболее популярен в Пятигорске, и наименее популярен Москве.\", \"Более половины исследованных пользователей предпочитают тариф ultra тарифу free.\", \"Половина всех клиентов относится к  возрастной категории от 22 до 28 лет.\", \"Основная масса пользователей предпочитает пользоваться самокатами в том случае, если им предстоит преодолеть путь протяженностью от 2,5 - 3,8 км и длительностью  от 13 до 21 минуты.\"\n",
    "\n",
    "Далее была произведена подготовка данных, приведение их к удобному виду, для последующего проведения статистического анализа данных. На данном этапе были созданы 3 новых датафрейма: data(содержит объединенную информацию о пользователях, поездках, подписках); free_type (содержит информацию о пользователях, не использующих подписку); ultra_type (содержит информацию о пользователях, оформивших подписку. Провели проверку корректности объединения датафреймов, в ходе которого выяснили, что количество строк и уникальных пользователей не изменилось.Визуализировали информацию о расстоянии и времени поездок для пользователей обеих категорий. \n",
    "\n",
    "Этапу с проверкой гипотез предшествовал процесс агрегирования данных. Мы создали датафрейм pivot_table с агрегированными данными о поездках (расстояние, количество поездок, общее время поездок для каждого пользователя в каждом месяце) и на основе этих данных рассчитали помесячную выручку от каждого пользователя.\n",
    "\n",
    "Заключение:\n",
    "Мы проверили гипотезы, и выяснили, что основываясь на имеющихся данных, на уровне значимости 5% (уровне доверия 95%), у нас есть основания утверждать, что пользователи тарифа Ultra являются более выгодными для компании, в сравненнии c пользователями тарифа Ultra по следующим причинам: \n",
    "\n",
    "Подписка пользуется успехом среди клиентов сервиса: более половины исследованных пользователей предпочитают тариф Ultra\n",
    "\n",
    "Средняя длительность поездки тарифа \"ultra\" больше средней длительности поездки тарифа \"free\". \n",
    " \n",
    "Средняя помесячная выручка от пользователей с подпиской (тариф ultra) больше средней помесячной выручки, пользователей без подписки(тариф free).\n",
    "\n",
    "Вероятно, стоит задуматься о выделении бОльших средств на амортизацию самокатов, т.к. нами не была отвергнута следующая гипотеза: Среднее расстояние, которое проезжают пользователи с подпиской(ultra) за одну поездку больше или равно 3130 метрам.\n",
    "Расстояние одной поездки в 3130 метров — оптимальное с точки зрения износа самоката. Износ самоката пользователями тарифа ultra будет превышать оптимальное значение."
   ]
  }
 ],
 "metadata": {
  "ExecuteTimeLog": [
   {
    "duration": 411,
    "start_time": "2023-04-30T12:11:26.216Z"
   },
   {
    "duration": 296,
    "start_time": "2023-04-30T12:11:26.630Z"
   },
   {
    "duration": 9,
    "start_time": "2023-04-30T12:11:26.927Z"
   },
   {
    "duration": 26,
    "start_time": "2023-04-30T12:11:26.938Z"
   },
   {
    "duration": 14,
    "start_time": "2023-04-30T12:11:41.253Z"
   },
   {
    "duration": 8,
    "start_time": "2023-04-30T12:11:59.355Z"
   },
   {
    "duration": 10,
    "start_time": "2023-04-30T12:12:23.515Z"
   },
   {
    "duration": 8,
    "start_time": "2023-04-30T12:12:46.902Z"
   },
   {
    "duration": 13,
    "start_time": "2023-04-30T12:12:49.417Z"
   },
   {
    "duration": 12,
    "start_time": "2023-04-30T12:58:00.034Z"
   },
   {
    "duration": 9,
    "start_time": "2023-04-30T12:58:16.138Z"
   },
   {
    "duration": 12,
    "start_time": "2023-04-30T12:58:33.676Z"
   },
   {
    "duration": 9,
    "start_time": "2023-04-30T12:58:46.957Z"
   },
   {
    "duration": 11,
    "start_time": "2023-04-30T12:58:52.674Z"
   },
   {
    "duration": 9,
    "start_time": "2023-04-30T12:59:02.463Z"
   },
   {
    "duration": 12,
    "start_time": "2023-04-30T12:59:20.286Z"
   },
   {
    "duration": 13,
    "start_time": "2023-04-30T12:59:34.170Z"
   },
   {
    "duration": 11,
    "start_time": "2023-04-30T13:00:29.637Z"
   },
   {
    "duration": 9,
    "start_time": "2023-04-30T13:00:46.764Z"
   },
   {
    "duration": 11,
    "start_time": "2023-04-30T13:00:48.876Z"
   },
   {
    "duration": 12,
    "start_time": "2023-04-30T13:00:57.037Z"
   },
   {
    "duration": 11,
    "start_time": "2023-04-30T13:01:16.781Z"
   },
   {
    "duration": 70,
    "start_time": "2023-04-30T13:06:19.391Z"
   },
   {
    "duration": 3,
    "start_time": "2023-04-30T13:06:33.659Z"
   },
   {
    "duration": 77,
    "start_time": "2023-04-30T13:06:33.667Z"
   },
   {
    "duration": 12,
    "start_time": "2023-04-30T13:06:33.747Z"
   },
   {
    "duration": 21,
    "start_time": "2023-04-30T13:06:33.761Z"
   },
   {
    "duration": 16,
    "start_time": "2023-04-30T13:06:33.785Z"
   },
   {
    "duration": 36,
    "start_time": "2023-04-30T13:06:33.803Z"
   },
   {
    "duration": 33,
    "start_time": "2023-04-30T13:06:33.842Z"
   },
   {
    "duration": 18,
    "start_time": "2023-04-30T13:06:33.877Z"
   },
   {
    "duration": 9,
    "start_time": "2023-04-30T13:06:33.898Z"
   },
   {
    "duration": 527,
    "start_time": "2023-04-30T13:06:46.491Z"
   },
   {
    "duration": 426,
    "start_time": "2023-04-30T13:08:47.526Z"
   },
   {
    "duration": 9,
    "start_time": "2023-04-30T13:10:19.126Z"
   },
   {
    "duration": 55,
    "start_time": "2023-04-30T13:10:23.030Z"
   },
   {
    "duration": 11,
    "start_time": "2023-04-30T13:10:33.843Z"
   },
   {
    "duration": 9,
    "start_time": "2023-04-30T13:10:49.827Z"
   },
   {
    "duration": 11,
    "start_time": "2023-04-30T13:17:01.474Z"
   },
   {
    "duration": 10,
    "start_time": "2023-04-30T13:22:18.928Z"
   },
   {
    "duration": 7,
    "start_time": "2023-04-30T13:22:31.640Z"
   },
   {
    "duration": 17,
    "start_time": "2023-04-30T13:23:18.626Z"
   },
   {
    "duration": 12,
    "start_time": "2023-04-30T13:23:51.550Z"
   },
   {
    "duration": 6,
    "start_time": "2023-04-30T13:23:57.465Z"
   },
   {
    "duration": 13,
    "start_time": "2023-04-30T13:25:45.215Z"
   },
   {
    "duration": 10,
    "start_time": "2023-04-30T13:25:49.697Z"
   },
   {
    "duration": 14,
    "start_time": "2023-04-30T13:26:09.471Z"
   },
   {
    "duration": 11,
    "start_time": "2023-04-30T13:26:12.570Z"
   },
   {
    "duration": 12,
    "start_time": "2023-04-30T13:26:51.394Z"
   },
   {
    "duration": 9,
    "start_time": "2023-04-30T13:26:52.433Z"
   },
   {
    "duration": 19,
    "start_time": "2023-04-30T13:27:30.956Z"
   },
   {
    "duration": 10,
    "start_time": "2023-04-30T13:27:31.545Z"
   },
   {
    "duration": 464,
    "start_time": "2023-04-30T13:27:43.876Z"
   },
   {
    "duration": 69,
    "start_time": "2023-04-30T13:27:44.342Z"
   },
   {
    "duration": 17,
    "start_time": "2023-04-30T13:27:44.413Z"
   },
   {
    "duration": 14,
    "start_time": "2023-04-30T13:27:44.433Z"
   },
   {
    "duration": 24,
    "start_time": "2023-04-30T13:27:44.449Z"
   },
   {
    "duration": 14,
    "start_time": "2023-04-30T13:27:44.475Z"
   },
   {
    "duration": 12,
    "start_time": "2023-04-30T13:27:44.491Z"
   },
   {
    "duration": 23,
    "start_time": "2023-04-30T13:27:44.506Z"
   },
   {
    "duration": 465,
    "start_time": "2023-04-30T13:27:44.531Z"
   },
   {
    "duration": 0,
    "start_time": "2023-04-30T13:27:44.998Z"
   },
   {
    "duration": 0,
    "start_time": "2023-04-30T13:27:45.001Z"
   },
   {
    "duration": 0,
    "start_time": "2023-04-30T13:27:45.003Z"
   },
   {
    "duration": 0,
    "start_time": "2023-04-30T13:27:45.004Z"
   },
   {
    "duration": 10,
    "start_time": "2023-04-30T13:28:02.038Z"
   },
   {
    "duration": 10,
    "start_time": "2023-04-30T13:28:06.450Z"
   },
   {
    "duration": 16,
    "start_time": "2023-04-30T13:28:12.524Z"
   },
   {
    "duration": 10,
    "start_time": "2023-04-30T13:28:16.089Z"
   },
   {
    "duration": 2,
    "start_time": "2023-04-30T13:35:36.270Z"
   },
   {
    "duration": 46,
    "start_time": "2023-04-30T13:36:06.392Z"
   },
   {
    "duration": 14,
    "start_time": "2023-04-30T13:42:49.350Z"
   },
   {
    "duration": 10,
    "start_time": "2023-04-30T13:43:00.294Z"
   },
   {
    "duration": 7,
    "start_time": "2023-04-30T13:43:21.320Z"
   },
   {
    "duration": 7,
    "start_time": "2023-04-30T13:49:04.046Z"
   },
   {
    "duration": 9,
    "start_time": "2023-04-30T13:49:27.534Z"
   },
   {
    "duration": 10,
    "start_time": "2023-04-30T13:49:33.457Z"
   },
   {
    "duration": 7,
    "start_time": "2023-04-30T13:52:13.766Z"
   },
   {
    "duration": 10,
    "start_time": "2023-04-30T13:53:02.466Z"
   },
   {
    "duration": 48,
    "start_time": "2023-04-30T13:53:06.799Z"
   },
   {
    "duration": 43,
    "start_time": "2023-04-30T13:53:12.229Z"
   },
   {
    "duration": 9,
    "start_time": "2023-04-30T13:53:17.723Z"
   },
   {
    "duration": 70,
    "start_time": "2023-04-30T19:05:41.884Z"
   },
   {
    "duration": 381,
    "start_time": "2023-04-30T19:05:52.687Z"
   },
   {
    "duration": 263,
    "start_time": "2023-04-30T19:05:53.070Z"
   },
   {
    "duration": 17,
    "start_time": "2023-04-30T19:05:53.339Z"
   },
   {
    "duration": 10,
    "start_time": "2023-04-30T19:05:53.359Z"
   },
   {
    "duration": 10,
    "start_time": "2023-04-30T19:05:53.371Z"
   },
   {
    "duration": 11,
    "start_time": "2023-04-30T19:05:53.383Z"
   },
   {
    "duration": 6,
    "start_time": "2023-04-30T19:05:53.396Z"
   },
   {
    "duration": 43,
    "start_time": "2023-04-30T19:05:53.404Z"
   },
   {
    "duration": 17,
    "start_time": "2023-04-30T19:05:53.449Z"
   },
   {
    "duration": 10,
    "start_time": "2023-04-30T19:05:53.469Z"
   },
   {
    "duration": 25,
    "start_time": "2023-04-30T19:05:53.481Z"
   },
   {
    "duration": 10,
    "start_time": "2023-04-30T19:05:53.508Z"
   },
   {
    "duration": 6,
    "start_time": "2023-04-30T19:05:53.520Z"
   },
   {
    "duration": 18,
    "start_time": "2023-04-30T19:05:53.528Z"
   },
   {
    "duration": 13,
    "start_time": "2023-04-30T19:05:53.549Z"
   },
   {
    "duration": 11,
    "start_time": "2023-04-30T19:05:53.564Z"
   },
   {
    "duration": 9,
    "start_time": "2023-04-30T19:05:53.576Z"
   },
   {
    "duration": 60,
    "start_time": "2023-04-30T19:05:53.586Z"
   },
   {
    "duration": 0,
    "start_time": "2023-04-30T19:05:53.653Z"
   },
   {
    "duration": 0,
    "start_time": "2023-04-30T19:05:53.654Z"
   },
   {
    "duration": 0,
    "start_time": "2023-04-30T19:05:53.656Z"
   },
   {
    "duration": 5,
    "start_time": "2023-04-30T19:06:37.260Z"
   },
   {
    "duration": 107,
    "start_time": "2023-04-30T19:06:59.810Z"
   },
   {
    "duration": 132,
    "start_time": "2023-04-30T19:07:29.020Z"
   },
   {
    "duration": 114,
    "start_time": "2023-04-30T19:07:39.676Z"
   },
   {
    "duration": 187,
    "start_time": "2023-04-30T19:07:44.094Z"
   },
   {
    "duration": 4,
    "start_time": "2023-04-30T19:08:20.707Z"
   },
   {
    "duration": 147,
    "start_time": "2023-04-30T19:08:44.853Z"
   },
   {
    "duration": 118,
    "start_time": "2023-04-30T19:08:58.793Z"
   },
   {
    "duration": 202,
    "start_time": "2023-04-30T19:09:19.611Z"
   },
   {
    "duration": 184,
    "start_time": "2023-04-30T19:09:28.004Z"
   },
   {
    "duration": 147,
    "start_time": "2023-04-30T19:09:38.630Z"
   },
   {
    "duration": 150,
    "start_time": "2023-04-30T19:09:45.353Z"
   },
   {
    "duration": 158,
    "start_time": "2023-04-30T19:10:30.989Z"
   },
   {
    "duration": 121,
    "start_time": "2023-04-30T19:15:23.558Z"
   },
   {
    "duration": 139,
    "start_time": "2023-04-30T19:15:34.217Z"
   },
   {
    "duration": 129,
    "start_time": "2023-04-30T19:15:44.820Z"
   },
   {
    "duration": 121,
    "start_time": "2023-04-30T19:15:58.689Z"
   },
   {
    "duration": 185,
    "start_time": "2023-04-30T19:16:02.390Z"
   },
   {
    "duration": 102,
    "start_time": "2023-04-30T19:16:11.582Z"
   },
   {
    "duration": 211,
    "start_time": "2023-04-30T19:22:46.383Z"
   },
   {
    "duration": 236,
    "start_time": "2023-04-30T19:38:49.947Z"
   },
   {
    "duration": 233,
    "start_time": "2023-04-30T19:38:56.332Z"
   },
   {
    "duration": 166,
    "start_time": "2023-04-30T19:39:07.887Z"
   },
   {
    "duration": 9,
    "start_time": "2023-04-30T19:41:12.949Z"
   },
   {
    "duration": 228,
    "start_time": "2023-04-30T19:44:09.166Z"
   },
   {
    "duration": 355,
    "start_time": "2023-04-30T19:45:29.960Z"
   },
   {
    "duration": 49,
    "start_time": "2023-05-03T14:53:06.833Z"
   },
   {
    "duration": 8,
    "start_time": "2023-05-03T14:53:12.374Z"
   },
   {
    "duration": 9,
    "start_time": "2023-05-03T14:53:46.812Z"
   },
   {
    "duration": 410,
    "start_time": "2023-05-03T14:54:00.116Z"
   },
   {
    "duration": 608,
    "start_time": "2023-05-03T14:54:00.528Z"
   },
   {
    "duration": 15,
    "start_time": "2023-05-03T14:54:01.138Z"
   },
   {
    "duration": 33,
    "start_time": "2023-05-03T14:54:01.155Z"
   },
   {
    "duration": 55,
    "start_time": "2023-05-03T14:54:01.191Z"
   },
   {
    "duration": 73,
    "start_time": "2023-05-03T14:54:01.248Z"
   },
   {
    "duration": 45,
    "start_time": "2023-05-03T14:54:01.324Z"
   },
   {
    "duration": 79,
    "start_time": "2023-05-03T14:54:01.371Z"
   },
   {
    "duration": 93,
    "start_time": "2023-05-03T14:54:01.452Z"
   },
   {
    "duration": 78,
    "start_time": "2023-05-03T14:54:01.549Z"
   },
   {
    "duration": 18,
    "start_time": "2023-05-03T14:54:01.629Z"
   },
   {
    "duration": 35,
    "start_time": "2023-05-03T14:54:01.648Z"
   },
   {
    "duration": 57,
    "start_time": "2023-05-03T14:54:01.685Z"
   },
   {
    "duration": 31,
    "start_time": "2023-05-03T14:54:01.744Z"
   },
   {
    "duration": 50,
    "start_time": "2023-05-03T14:54:01.776Z"
   },
   {
    "duration": 20,
    "start_time": "2023-05-03T14:54:01.828Z"
   },
   {
    "duration": 25,
    "start_time": "2023-05-03T14:54:01.850Z"
   },
   {
    "duration": 681,
    "start_time": "2023-05-03T14:54:01.876Z"
   },
   {
    "duration": 141,
    "start_time": "2023-05-03T14:54:02.559Z"
   },
   {
    "duration": 9,
    "start_time": "2023-05-03T14:54:02.703Z"
   },
   {
    "duration": 278,
    "start_time": "2023-05-03T14:54:02.715Z"
   },
   {
    "duration": 17,
    "start_time": "2023-05-03T14:54:02.997Z"
   },
   {
    "duration": 349,
    "start_time": "2023-05-03T14:54:03.016Z"
   },
   {
    "duration": 286,
    "start_time": "2023-05-03T14:54:03.367Z"
   },
   {
    "duration": 231,
    "start_time": "2023-05-03T14:54:03.654Z"
   },
   {
    "duration": 0,
    "start_time": "2023-05-03T14:54:03.888Z"
   },
   {
    "duration": 0,
    "start_time": "2023-05-03T14:54:03.889Z"
   },
   {
    "duration": 0,
    "start_time": "2023-05-03T14:54:03.891Z"
   },
   {
    "duration": 10,
    "start_time": "2023-05-03T15:00:07.570Z"
   },
   {
    "duration": 6,
    "start_time": "2023-05-03T15:05:59.598Z"
   },
   {
    "duration": 10,
    "start_time": "2023-05-03T15:06:10.053Z"
   },
   {
    "duration": 15,
    "start_time": "2023-05-03T15:33:49.000Z"
   },
   {
    "duration": 18,
    "start_time": "2023-05-03T15:33:59.356Z"
   },
   {
    "duration": 13,
    "start_time": "2023-05-03T15:35:11.859Z"
   },
   {
    "duration": 17,
    "start_time": "2023-05-03T15:35:19.146Z"
   },
   {
    "duration": 41,
    "start_time": "2023-05-03T17:47:13.042Z"
   },
   {
    "duration": 213,
    "start_time": "2023-05-03T17:49:33.409Z"
   },
   {
    "duration": 11,
    "start_time": "2023-05-03T17:50:26.209Z"
   },
   {
    "duration": 18,
    "start_time": "2023-05-03T17:50:46.418Z"
   },
   {
    "duration": 7,
    "start_time": "2023-05-03T17:51:12.457Z"
   },
   {
    "duration": 19,
    "start_time": "2023-05-03T17:51:20.180Z"
   },
   {
    "duration": 355,
    "start_time": "2023-05-03T18:00:25.845Z"
   },
   {
    "duration": 370,
    "start_time": "2023-05-03T18:00:56.723Z"
   },
   {
    "duration": 332,
    "start_time": "2023-05-03T18:01:11.148Z"
   },
   {
    "duration": 344,
    "start_time": "2023-05-03T18:01:31.558Z"
   },
   {
    "duration": 435,
    "start_time": "2023-05-03T18:01:58.337Z"
   },
   {
    "duration": 354,
    "start_time": "2023-05-03T18:02:13.238Z"
   },
   {
    "duration": 337,
    "start_time": "2023-05-03T18:03:08.918Z"
   },
   {
    "duration": 394,
    "start_time": "2023-05-03T18:15:41.836Z"
   },
   {
    "duration": 293,
    "start_time": "2023-05-03T18:15:47.252Z"
   },
   {
    "duration": 297,
    "start_time": "2023-05-03T18:15:53.335Z"
   },
   {
    "duration": 386,
    "start_time": "2023-05-03T18:15:57.057Z"
   },
   {
    "duration": 330,
    "start_time": "2023-05-03T18:16:09.265Z"
   },
   {
    "duration": 303,
    "start_time": "2023-05-03T18:16:14.234Z"
   },
   {
    "duration": 323,
    "start_time": "2023-05-03T18:22:44.957Z"
   },
   {
    "duration": 10,
    "start_time": "2023-05-03T18:41:50.338Z"
   },
   {
    "duration": 10,
    "start_time": "2023-05-03T18:42:30.210Z"
   },
   {
    "duration": 23,
    "start_time": "2023-05-03T18:43:16.967Z"
   },
   {
    "duration": 134,
    "start_time": "2023-05-03T18:47:53.476Z"
   },
   {
    "duration": 8,
    "start_time": "2023-05-03T18:47:59.885Z"
   },
   {
    "duration": 139,
    "start_time": "2023-05-03T18:48:12.990Z"
   },
   {
    "duration": 112,
    "start_time": "2023-05-03T18:48:22.881Z"
   },
   {
    "duration": 9,
    "start_time": "2023-05-03T18:57:49.869Z"
   },
   {
    "duration": 435,
    "start_time": "2023-05-03T19:04:28.469Z"
   },
   {
    "duration": 245,
    "start_time": "2023-05-03T19:04:28.906Z"
   },
   {
    "duration": 485,
    "start_time": "2023-05-03T19:04:29.152Z"
   },
   {
    "duration": 59,
    "start_time": "2023-05-03T19:04:29.639Z"
   },
   {
    "duration": 67,
    "start_time": "2023-05-03T19:04:29.700Z"
   },
   {
    "duration": 18,
    "start_time": "2023-05-03T19:04:29.769Z"
   },
   {
    "duration": 41,
    "start_time": "2023-05-03T19:04:29.789Z"
   },
   {
    "duration": 21,
    "start_time": "2023-05-03T19:04:29.832Z"
   },
   {
    "duration": 39,
    "start_time": "2023-05-03T19:04:29.855Z"
   },
   {
    "duration": 13,
    "start_time": "2023-05-03T19:04:29.898Z"
   },
   {
    "duration": 33,
    "start_time": "2023-05-03T19:04:29.913Z"
   },
   {
    "duration": 29,
    "start_time": "2023-05-03T19:04:29.949Z"
   },
   {
    "duration": 12,
    "start_time": "2023-05-03T19:04:29.980Z"
   },
   {
    "duration": 14,
    "start_time": "2023-05-03T19:04:29.994Z"
   },
   {
    "duration": 12,
    "start_time": "2023-05-03T19:04:30.010Z"
   },
   {
    "duration": 13,
    "start_time": "2023-05-03T19:04:30.024Z"
   },
   {
    "duration": 32,
    "start_time": "2023-05-03T19:04:30.039Z"
   },
   {
    "duration": 15,
    "start_time": "2023-05-03T19:04:30.072Z"
   },
   {
    "duration": 50,
    "start_time": "2023-05-03T19:04:30.088Z"
   },
   {
    "duration": 21,
    "start_time": "2023-05-03T19:04:30.140Z"
   },
   {
    "duration": 229,
    "start_time": "2023-05-03T19:04:30.163Z"
   },
   {
    "duration": 111,
    "start_time": "2023-05-03T19:04:30.393Z"
   },
   {
    "duration": 8,
    "start_time": "2023-05-03T19:04:30.506Z"
   },
   {
    "duration": 266,
    "start_time": "2023-05-03T19:04:30.515Z"
   },
   {
    "duration": 9,
    "start_time": "2023-05-03T19:04:30.783Z"
   },
   {
    "duration": 317,
    "start_time": "2023-05-03T19:04:30.794Z"
   },
   {
    "duration": 9,
    "start_time": "2023-05-03T19:04:31.113Z"
   },
   {
    "duration": 276,
    "start_time": "2023-05-03T19:04:31.125Z"
   },
   {
    "duration": 9,
    "start_time": "2023-05-03T19:04:31.403Z"
   },
   {
    "duration": 28,
    "start_time": "2023-05-03T19:04:31.413Z"
   },
   {
    "duration": 43,
    "start_time": "2023-05-03T19:04:31.443Z"
   },
   {
    "duration": 106,
    "start_time": "2023-05-03T19:04:31.487Z"
   },
   {
    "duration": 59,
    "start_time": "2023-05-03T19:04:31.595Z"
   },
   {
    "duration": 32,
    "start_time": "2023-05-03T19:04:31.655Z"
   },
   {
    "duration": 66,
    "start_time": "2023-05-03T19:04:31.688Z"
   },
   {
    "duration": 305,
    "start_time": "2023-05-03T19:04:31.756Z"
   },
   {
    "duration": 880,
    "start_time": "2023-05-03T19:04:32.063Z"
   },
   {
    "duration": 0,
    "start_time": "2023-05-03T19:04:32.945Z"
   },
   {
    "duration": 0,
    "start_time": "2023-05-03T19:04:32.946Z"
   },
   {
    "duration": 0,
    "start_time": "2023-05-03T19:04:32.947Z"
   },
   {
    "duration": 3,
    "start_time": "2023-05-03T19:07:49.422Z"
   },
   {
    "duration": 9,
    "start_time": "2023-05-03T19:07:49.427Z"
   },
   {
    "duration": 8,
    "start_time": "2023-05-03T19:07:49.437Z"
   },
   {
    "duration": 4,
    "start_time": "2023-05-03T19:07:49.447Z"
   },
   {
    "duration": 69,
    "start_time": "2023-05-03T19:07:49.453Z"
   },
   {
    "duration": 8,
    "start_time": "2023-05-03T19:07:49.524Z"
   },
   {
    "duration": 24,
    "start_time": "2023-05-03T19:07:49.534Z"
   },
   {
    "duration": 29,
    "start_time": "2023-05-03T19:07:49.559Z"
   },
   {
    "duration": 26,
    "start_time": "2023-05-03T19:07:49.594Z"
   },
   {
    "duration": 8,
    "start_time": "2023-05-03T19:07:49.622Z"
   },
   {
    "duration": 26,
    "start_time": "2023-05-03T19:07:49.632Z"
   },
   {
    "duration": 16,
    "start_time": "2023-05-03T19:07:49.660Z"
   },
   {
    "duration": 17,
    "start_time": "2023-05-03T19:07:49.677Z"
   },
   {
    "duration": 25,
    "start_time": "2023-05-03T19:07:49.696Z"
   },
   {
    "duration": 6,
    "start_time": "2023-05-03T19:07:49.723Z"
   },
   {
    "duration": 6,
    "start_time": "2023-05-03T19:07:49.731Z"
   },
   {
    "duration": 13,
    "start_time": "2023-05-03T19:07:49.739Z"
   },
   {
    "duration": 8,
    "start_time": "2023-05-03T19:07:49.753Z"
   },
   {
    "duration": 28,
    "start_time": "2023-05-03T19:07:49.763Z"
   },
   {
    "duration": 14,
    "start_time": "2023-05-03T19:07:49.797Z"
   },
   {
    "duration": 233,
    "start_time": "2023-05-03T19:07:49.813Z"
   },
   {
    "duration": 119,
    "start_time": "2023-05-03T19:07:50.048Z"
   },
   {
    "duration": 17,
    "start_time": "2023-05-03T19:07:50.170Z"
   },
   {
    "duration": 257,
    "start_time": "2023-05-03T19:07:50.189Z"
   },
   {
    "duration": 7,
    "start_time": "2023-05-03T19:07:50.448Z"
   },
   {
    "duration": 302,
    "start_time": "2023-05-03T19:07:50.457Z"
   },
   {
    "duration": 8,
    "start_time": "2023-05-03T19:07:50.761Z"
   },
   {
    "duration": 261,
    "start_time": "2023-05-03T19:07:50.783Z"
   },
   {
    "duration": 8,
    "start_time": "2023-05-03T19:07:51.046Z"
   },
   {
    "duration": 30,
    "start_time": "2023-05-03T19:07:51.056Z"
   },
   {
    "duration": 44,
    "start_time": "2023-05-03T19:07:51.088Z"
   },
   {
    "duration": 27,
    "start_time": "2023-05-03T19:07:51.133Z"
   },
   {
    "duration": 28,
    "start_time": "2023-05-03T19:07:51.161Z"
   },
   {
    "duration": 32,
    "start_time": "2023-05-03T19:07:51.190Z"
   },
   {
    "duration": 36,
    "start_time": "2023-05-03T19:07:51.224Z"
   },
   {
    "duration": 385,
    "start_time": "2023-05-03T19:07:51.262Z"
   },
   {
    "duration": 268,
    "start_time": "2023-05-03T19:07:51.649Z"
   },
   {
    "duration": 294,
    "start_time": "2023-05-03T19:07:51.918Z"
   },
   {
    "duration": 263,
    "start_time": "2023-05-03T19:07:52.214Z"
   },
   {
    "duration": 87,
    "start_time": "2023-05-03T19:53:58.726Z"
   },
   {
    "duration": 84,
    "start_time": "2023-05-03T19:54:22.649Z"
   },
   {
    "duration": 92,
    "start_time": "2023-05-03T19:54:40.513Z"
   },
   {
    "duration": 9,
    "start_time": "2023-05-03T20:00:49.418Z"
   },
   {
    "duration": 148,
    "start_time": "2023-05-03T20:22:56.444Z"
   },
   {
    "duration": 16,
    "start_time": "2023-05-03T20:23:03.988Z"
   },
   {
    "duration": 14,
    "start_time": "2023-05-03T20:23:12.285Z"
   },
   {
    "duration": 24,
    "start_time": "2023-05-03T20:42:36.029Z"
   },
   {
    "duration": 15,
    "start_time": "2023-05-03T20:48:26.076Z"
   },
   {
    "duration": 20,
    "start_time": "2023-05-03T20:50:04.626Z"
   },
   {
    "duration": 67,
    "start_time": "2023-05-03T20:55:28.983Z"
   },
   {
    "duration": 77,
    "start_time": "2023-05-03T20:56:12.746Z"
   },
   {
    "duration": 11,
    "start_time": "2023-05-03T20:56:39.905Z"
   },
   {
    "duration": 11,
    "start_time": "2023-05-03T20:57:35.608Z"
   },
   {
    "duration": 11,
    "start_time": "2023-05-03T20:58:02.610Z"
   },
   {
    "duration": 11,
    "start_time": "2023-05-03T20:59:11.619Z"
   },
   {
    "duration": 206,
    "start_time": "2023-05-03T22:43:13.696Z"
   },
   {
    "duration": 74,
    "start_time": "2023-05-03T22:51:25.919Z"
   },
   {
    "duration": 10,
    "start_time": "2023-05-03T22:51:36.753Z"
   },
   {
    "duration": 15,
    "start_time": "2023-05-03T22:52:29.915Z"
   },
   {
    "duration": 12,
    "start_time": "2023-05-03T22:52:45.936Z"
   },
   {
    "duration": 23,
    "start_time": "2023-05-03T22:59:08.349Z"
   },
   {
    "duration": 558,
    "start_time": "2023-05-03T22:59:14.837Z"
   },
   {
    "duration": 17,
    "start_time": "2023-05-03T22:59:37.018Z"
   },
   {
    "duration": 384,
    "start_time": "2023-05-03T22:59:43.719Z"
   },
   {
    "duration": 69,
    "start_time": "2023-05-04T11:30:41.489Z"
   },
   {
    "duration": 7,
    "start_time": "2023-05-04T11:30:45.517Z"
   },
   {
    "duration": 12,
    "start_time": "2023-05-04T11:30:46.644Z"
   },
   {
    "duration": 435,
    "start_time": "2023-05-04T11:30:54.732Z"
   },
   {
    "duration": 393,
    "start_time": "2023-05-04T11:30:55.169Z"
   },
   {
    "duration": 414,
    "start_time": "2023-05-04T11:30:55.564Z"
   },
   {
    "duration": 58,
    "start_time": "2023-05-04T11:30:55.980Z"
   },
   {
    "duration": 338,
    "start_time": "2023-05-04T11:30:56.039Z"
   },
   {
    "duration": 11,
    "start_time": "2023-05-04T11:30:56.379Z"
   },
   {
    "duration": 17,
    "start_time": "2023-05-04T11:30:56.391Z"
   },
   {
    "duration": 8,
    "start_time": "2023-05-04T11:30:56.409Z"
   },
   {
    "duration": 15,
    "start_time": "2023-05-04T11:30:56.418Z"
   },
   {
    "duration": 6,
    "start_time": "2023-05-04T11:30:56.435Z"
   },
   {
    "duration": 32,
    "start_time": "2023-05-04T11:30:56.443Z"
   },
   {
    "duration": 7,
    "start_time": "2023-05-04T11:30:56.477Z"
   },
   {
    "duration": 13,
    "start_time": "2023-05-04T11:30:56.486Z"
   },
   {
    "duration": 10,
    "start_time": "2023-05-04T11:30:56.500Z"
   },
   {
    "duration": 7,
    "start_time": "2023-05-04T11:30:56.512Z"
   },
   {
    "duration": 9,
    "start_time": "2023-05-04T11:30:56.521Z"
   },
   {
    "duration": 31,
    "start_time": "2023-05-04T11:30:56.532Z"
   },
   {
    "duration": 7,
    "start_time": "2023-05-04T11:30:56.565Z"
   },
   {
    "duration": 20,
    "start_time": "2023-05-04T11:30:56.573Z"
   },
   {
    "duration": 7,
    "start_time": "2023-05-04T11:30:56.594Z"
   },
   {
    "duration": 189,
    "start_time": "2023-05-04T11:30:56.603Z"
   },
   {
    "duration": 108,
    "start_time": "2023-05-04T11:30:56.794Z"
   },
   {
    "duration": 8,
    "start_time": "2023-05-04T11:30:56.904Z"
   },
   {
    "duration": 272,
    "start_time": "2023-05-04T11:30:56.914Z"
   },
   {
    "duration": 8,
    "start_time": "2023-05-04T11:30:57.187Z"
   },
   {
    "duration": 266,
    "start_time": "2023-05-04T11:30:57.197Z"
   },
   {
    "duration": 9,
    "start_time": "2023-05-04T11:30:57.465Z"
   },
   {
    "duration": 253,
    "start_time": "2023-05-04T11:30:57.477Z"
   },
   {
    "duration": 8,
    "start_time": "2023-05-04T11:30:57.732Z"
   },
   {
    "duration": 28,
    "start_time": "2023-05-04T11:30:57.742Z"
   },
   {
    "duration": 33,
    "start_time": "2023-05-04T11:30:57.771Z"
   },
   {
    "duration": 68,
    "start_time": "2023-05-04T11:30:57.806Z"
   },
   {
    "duration": 18,
    "start_time": "2023-05-04T11:30:57.875Z"
   },
   {
    "duration": 10,
    "start_time": "2023-05-04T11:30:57.895Z"
   },
   {
    "duration": 17,
    "start_time": "2023-05-04T11:30:57.906Z"
   },
   {
    "duration": 282,
    "start_time": "2023-05-04T11:30:57.924Z"
   },
   {
    "duration": 262,
    "start_time": "2023-05-04T11:30:58.207Z"
   },
   {
    "duration": 254,
    "start_time": "2023-05-04T11:30:58.470Z"
   },
   {
    "duration": 254,
    "start_time": "2023-05-04T11:30:58.726Z"
   },
   {
    "duration": 23,
    "start_time": "2023-05-04T11:30:58.982Z"
   },
   {
    "duration": 16,
    "start_time": "2023-05-04T11:30:59.007Z"
   },
   {
    "duration": 48,
    "start_time": "2023-05-04T11:30:59.024Z"
   },
   {
    "duration": 15,
    "start_time": "2023-05-04T11:30:59.074Z"
   },
   {
    "duration": 99,
    "start_time": "2023-05-04T11:30:59.090Z"
   },
   {
    "duration": 0,
    "start_time": "2023-05-04T11:30:59.191Z"
   },
   {
    "duration": 16,
    "start_time": "2023-05-04T11:31:20.361Z"
   },
   {
    "duration": 12,
    "start_time": "2023-05-04T11:31:20.770Z"
   },
   {
    "duration": 689,
    "start_time": "2023-05-04T11:32:43.104Z"
   },
   {
    "duration": 31,
    "start_time": "2023-05-04T11:32:43.924Z"
   },
   {
    "duration": 25,
    "start_time": "2023-05-04T11:38:04.921Z"
   },
   {
    "duration": 21,
    "start_time": "2023-05-04T11:38:07.929Z"
   },
   {
    "duration": 37,
    "start_time": "2023-05-04T11:39:57.689Z"
   },
   {
    "duration": 29,
    "start_time": "2023-05-04T12:01:44.997Z"
   },
   {
    "duration": 29,
    "start_time": "2023-05-04T12:02:41.608Z"
   },
   {
    "duration": 30,
    "start_time": "2023-05-04T12:02:49.825Z"
   },
   {
    "duration": 41,
    "start_time": "2023-05-04T12:02:59.831Z"
   },
   {
    "duration": 4,
    "start_time": "2023-05-04T12:07:04.715Z"
   },
   {
    "duration": 12,
    "start_time": "2023-05-04T12:07:11.930Z"
   },
   {
    "duration": 3,
    "start_time": "2023-05-04T12:10:27.283Z"
   },
   {
    "duration": 3,
    "start_time": "2023-05-04T12:10:54.917Z"
   },
   {
    "duration": 222,
    "start_time": "2023-05-04T12:11:12.882Z"
   },
   {
    "duration": 200,
    "start_time": "2023-05-04T12:11:24.192Z"
   },
   {
    "duration": 153,
    "start_time": "2023-05-04T12:11:35.011Z"
   },
   {
    "duration": 124,
    "start_time": "2023-05-04T12:11:41.398Z"
   },
   {
    "duration": 781,
    "start_time": "2023-05-04T12:13:33.829Z"
   },
   {
    "duration": 5755,
    "start_time": "2023-05-04T12:20:08.092Z"
   },
   {
    "duration": 37,
    "start_time": "2023-05-04T12:40:04.780Z"
   },
   {
    "duration": 7,
    "start_time": "2023-05-04T12:40:27.352Z"
   },
   {
    "duration": 2093,
    "start_time": "2023-05-04T12:40:30.001Z"
   },
   {
    "duration": 138,
    "start_time": "2023-05-04T12:40:56.200Z"
   },
   {
    "duration": 16,
    "start_time": "2023-05-04T12:41:02.072Z"
   },
   {
    "duration": 171,
    "start_time": "2023-05-04T12:55:58.412Z"
   },
   {
    "duration": 54,
    "start_time": "2023-05-04T23:07:53.938Z"
   },
   {
    "duration": 9,
    "start_time": "2023-05-04T23:08:13.893Z"
   },
   {
    "duration": 381,
    "start_time": "2023-05-04T23:08:27.514Z"
   },
   {
    "duration": 401,
    "start_time": "2023-05-04T23:08:27.897Z"
   },
   {
    "duration": 519,
    "start_time": "2023-05-04T23:08:28.300Z"
   },
   {
    "duration": 64,
    "start_time": "2023-05-04T23:08:28.821Z"
   },
   {
    "duration": 202,
    "start_time": "2023-05-04T23:08:28.887Z"
   },
   {
    "duration": 13,
    "start_time": "2023-05-04T23:08:29.090Z"
   },
   {
    "duration": 12,
    "start_time": "2023-05-04T23:08:29.105Z"
   },
   {
    "duration": 15,
    "start_time": "2023-05-04T23:08:29.118Z"
   },
   {
    "duration": 12,
    "start_time": "2023-05-04T23:08:29.135Z"
   },
   {
    "duration": 7,
    "start_time": "2023-05-04T23:08:29.150Z"
   },
   {
    "duration": 11,
    "start_time": "2023-05-04T23:08:29.159Z"
   },
   {
    "duration": 11,
    "start_time": "2023-05-04T23:08:29.172Z"
   },
   {
    "duration": 9,
    "start_time": "2023-05-04T23:08:29.185Z"
   },
   {
    "duration": 13,
    "start_time": "2023-05-04T23:08:29.195Z"
   },
   {
    "duration": 7,
    "start_time": "2023-05-04T23:08:29.211Z"
   },
   {
    "duration": 39,
    "start_time": "2023-05-04T23:08:29.219Z"
   },
   {
    "duration": 7,
    "start_time": "2023-05-04T23:08:29.260Z"
   },
   {
    "duration": 6,
    "start_time": "2023-05-04T23:08:29.269Z"
   },
   {
    "duration": 8,
    "start_time": "2023-05-04T23:08:29.277Z"
   },
   {
    "duration": 14,
    "start_time": "2023-05-04T23:08:29.287Z"
   },
   {
    "duration": 228,
    "start_time": "2023-05-04T23:08:29.303Z"
   },
   {
    "duration": 128,
    "start_time": "2023-05-04T23:08:29.533Z"
   },
   {
    "duration": 9,
    "start_time": "2023-05-04T23:08:29.663Z"
   },
   {
    "duration": 267,
    "start_time": "2023-05-04T23:08:29.674Z"
   },
   {
    "duration": 13,
    "start_time": "2023-05-04T23:08:29.943Z"
   },
   {
    "duration": 292,
    "start_time": "2023-05-04T23:08:29.958Z"
   },
   {
    "duration": 12,
    "start_time": "2023-05-04T23:08:30.251Z"
   },
   {
    "duration": 288,
    "start_time": "2023-05-04T23:08:30.267Z"
   },
   {
    "duration": 9,
    "start_time": "2023-05-04T23:08:30.557Z"
   },
   {
    "duration": 19,
    "start_time": "2023-05-04T23:08:30.568Z"
   },
   {
    "duration": 25,
    "start_time": "2023-05-04T23:08:30.588Z"
   },
   {
    "duration": 118,
    "start_time": "2023-05-04T23:08:30.615Z"
   },
   {
    "duration": 32,
    "start_time": "2023-05-04T23:08:30.735Z"
   },
   {
    "duration": 34,
    "start_time": "2023-05-04T23:08:30.769Z"
   },
   {
    "duration": 42,
    "start_time": "2023-05-04T23:08:30.805Z"
   },
   {
    "duration": 309,
    "start_time": "2023-05-04T23:08:30.849Z"
   },
   {
    "duration": 273,
    "start_time": "2023-05-04T23:08:31.159Z"
   },
   {
    "duration": 253,
    "start_time": "2023-05-04T23:08:31.434Z"
   },
   {
    "duration": 272,
    "start_time": "2023-05-04T23:08:31.689Z"
   },
   {
    "duration": 35,
    "start_time": "2023-05-04T23:08:31.963Z"
   },
   {
    "duration": 3,
    "start_time": "2023-05-04T23:08:32.000Z"
   },
   {
    "duration": 171,
    "start_time": "2023-05-04T23:08:32.004Z"
   },
   {
    "duration": 20,
    "start_time": "2023-05-04T23:08:32.177Z"
   },
   {
    "duration": 79,
    "start_time": "2023-05-04T23:08:32.199Z"
   },
   {
    "duration": 143,
    "start_time": "2023-05-04T23:11:24.039Z"
   },
   {
    "duration": 203,
    "start_time": "2023-05-04T23:14:21.049Z"
   },
   {
    "duration": 5,
    "start_time": "2023-05-04T23:16:35.392Z"
   },
   {
    "duration": 53,
    "start_time": "2023-05-05T10:47:01.386Z"
   },
   {
    "duration": 362,
    "start_time": "2023-05-05T10:47:15.027Z"
   },
   {
    "duration": 407,
    "start_time": "2023-05-05T10:47:15.391Z"
   },
   {
    "duration": 413,
    "start_time": "2023-05-05T10:47:15.799Z"
   },
   {
    "duration": 68,
    "start_time": "2023-05-05T10:47:16.214Z"
   },
   {
    "duration": 319,
    "start_time": "2023-05-05T10:47:16.284Z"
   },
   {
    "duration": 11,
    "start_time": "2023-05-05T10:47:16.605Z"
   },
   {
    "duration": 16,
    "start_time": "2023-05-05T10:47:16.617Z"
   },
   {
    "duration": 14,
    "start_time": "2023-05-05T10:47:16.635Z"
   },
   {
    "duration": 14,
    "start_time": "2023-05-05T10:47:16.650Z"
   },
   {
    "duration": 10,
    "start_time": "2023-05-05T10:47:16.666Z"
   },
   {
    "duration": 18,
    "start_time": "2023-05-05T10:47:16.677Z"
   },
   {
    "duration": 17,
    "start_time": "2023-05-05T10:47:16.696Z"
   },
   {
    "duration": 12,
    "start_time": "2023-05-05T10:47:16.714Z"
   },
   {
    "duration": 13,
    "start_time": "2023-05-05T10:47:16.727Z"
   },
   {
    "duration": 5,
    "start_time": "2023-05-05T10:47:16.741Z"
   },
   {
    "duration": 11,
    "start_time": "2023-05-05T10:47:16.747Z"
   },
   {
    "duration": 13,
    "start_time": "2023-05-05T10:47:16.759Z"
   },
   {
    "duration": 9,
    "start_time": "2023-05-05T10:47:16.773Z"
   },
   {
    "duration": 12,
    "start_time": "2023-05-05T10:47:16.784Z"
   },
   {
    "duration": 8,
    "start_time": "2023-05-05T10:47:16.797Z"
   },
   {
    "duration": 165,
    "start_time": "2023-05-05T10:47:16.807Z"
   },
   {
    "duration": 104,
    "start_time": "2023-05-05T10:47:16.974Z"
   },
   {
    "duration": 8,
    "start_time": "2023-05-05T10:47:17.081Z"
   },
   {
    "duration": 212,
    "start_time": "2023-05-05T10:47:17.091Z"
   },
   {
    "duration": 9,
    "start_time": "2023-05-05T10:47:17.305Z"
   },
   {
    "duration": 250,
    "start_time": "2023-05-05T10:47:17.315Z"
   },
   {
    "duration": 10,
    "start_time": "2023-05-05T10:47:17.566Z"
   },
   {
    "duration": 217,
    "start_time": "2023-05-05T10:47:17.578Z"
   },
   {
    "duration": 8,
    "start_time": "2023-05-05T10:47:17.797Z"
   },
   {
    "duration": 28,
    "start_time": "2023-05-05T10:47:17.806Z"
   },
   {
    "duration": 21,
    "start_time": "2023-05-05T10:47:17.836Z"
   },
   {
    "duration": 70,
    "start_time": "2023-05-05T10:47:17.858Z"
   },
   {
    "duration": 17,
    "start_time": "2023-05-05T10:47:17.930Z"
   },
   {
    "duration": 9,
    "start_time": "2023-05-05T10:47:17.949Z"
   },
   {
    "duration": 26,
    "start_time": "2023-05-05T10:47:17.959Z"
   },
   {
    "duration": 239,
    "start_time": "2023-05-05T10:47:17.987Z"
   },
   {
    "duration": 248,
    "start_time": "2023-05-05T10:47:18.227Z"
   },
   {
    "duration": 313,
    "start_time": "2023-05-05T10:47:18.477Z"
   },
   {
    "duration": 241,
    "start_time": "2023-05-05T10:47:18.792Z"
   },
   {
    "duration": 53,
    "start_time": "2023-05-05T10:47:19.035Z"
   },
   {
    "duration": 3,
    "start_time": "2023-05-05T10:47:19.090Z"
   },
   {
    "duration": 166,
    "start_time": "2023-05-05T10:47:19.095Z"
   },
   {
    "duration": 26,
    "start_time": "2023-05-05T10:47:19.263Z"
   },
   {
    "duration": 13,
    "start_time": "2023-05-05T10:47:19.291Z"
   },
   {
    "duration": 1432,
    "start_time": "2023-05-05T11:04:34.428Z"
   },
   {
    "duration": 1249,
    "start_time": "2023-05-05T11:04:45.019Z"
   },
   {
    "duration": 6,
    "start_time": "2023-05-05T11:04:52.002Z"
   },
   {
    "duration": 5,
    "start_time": "2023-05-05T11:05:08.256Z"
   },
   {
    "duration": 6,
    "start_time": "2023-05-05T11:05:48.815Z"
   },
   {
    "duration": 6,
    "start_time": "2023-05-05T11:07:56.418Z"
   },
   {
    "duration": 5,
    "start_time": "2023-05-05T11:10:32.674Z"
   },
   {
    "duration": 9,
    "start_time": "2023-05-05T11:21:31.065Z"
   },
   {
    "duration": 4,
    "start_time": "2023-05-05T11:21:59.653Z"
   },
   {
    "duration": 6,
    "start_time": "2023-05-05T11:42:53.094Z"
   },
   {
    "duration": 4,
    "start_time": "2023-05-05T11:43:12.902Z"
   },
   {
    "duration": 4,
    "start_time": "2023-05-05T11:43:34.475Z"
   },
   {
    "duration": 4,
    "start_time": "2023-05-05T11:43:59.639Z"
   },
   {
    "duration": 4,
    "start_time": "2023-05-05T11:44:11.673Z"
   },
   {
    "duration": 6,
    "start_time": "2023-05-05T12:22:02.251Z"
   },
   {
    "duration": 6,
    "start_time": "2023-05-05T12:22:22.951Z"
   },
   {
    "duration": 5,
    "start_time": "2023-05-05T15:07:48.610Z"
   },
   {
    "duration": 5,
    "start_time": "2023-05-05T15:12:51.508Z"
   },
   {
    "duration": 5,
    "start_time": "2023-05-05T16:45:41.350Z"
   },
   {
    "duration": 7,
    "start_time": "2023-05-05T16:47:16.562Z"
   },
   {
    "duration": 6,
    "start_time": "2023-05-05T16:48:19.121Z"
   },
   {
    "duration": 251,
    "start_time": "2023-05-05T17:04:08.538Z"
   },
   {
    "duration": 322,
    "start_time": "2023-05-05T17:04:22.716Z"
   },
   {
    "duration": 11,
    "start_time": "2023-05-05T17:10:12.319Z"
   },
   {
    "duration": 33,
    "start_time": "2023-05-05T17:10:23.747Z"
   },
   {
    "duration": 25,
    "start_time": "2023-05-05T17:10:44.826Z"
   },
   {
    "duration": 7,
    "start_time": "2023-05-05T17:11:07.038Z"
   },
   {
    "duration": 7,
    "start_time": "2023-05-05T17:11:12.495Z"
   },
   {
    "duration": 7,
    "start_time": "2023-05-05T17:21:50.208Z"
   },
   {
    "duration": 6,
    "start_time": "2023-05-05T17:21:50.904Z"
   },
   {
    "duration": 3207,
    "start_time": "2023-05-05T18:11:19.614Z"
   },
   {
    "duration": 1844,
    "start_time": "2023-05-05T18:11:22.823Z"
   },
   {
    "duration": 3377,
    "start_time": "2023-05-05T18:11:24.669Z"
   },
   {
    "duration": 373,
    "start_time": "2023-05-05T18:11:28.048Z"
   },
   {
    "duration": 418,
    "start_time": "2023-05-05T18:11:28.425Z"
   },
   {
    "duration": 15,
    "start_time": "2023-05-05T18:11:28.844Z"
   },
   {
    "duration": 39,
    "start_time": "2023-05-05T18:11:28.861Z"
   },
   {
    "duration": 39,
    "start_time": "2023-05-05T18:11:28.902Z"
   },
   {
    "duration": 26,
    "start_time": "2023-05-05T18:11:28.943Z"
   },
   {
    "duration": 23,
    "start_time": "2023-05-05T18:11:28.970Z"
   },
   {
    "duration": 42,
    "start_time": "2023-05-05T18:11:28.995Z"
   },
   {
    "duration": 18,
    "start_time": "2023-05-05T18:11:29.039Z"
   },
   {
    "duration": 46,
    "start_time": "2023-05-05T18:11:29.059Z"
   },
   {
    "duration": 55,
    "start_time": "2023-05-05T18:11:29.110Z"
   },
   {
    "duration": 65,
    "start_time": "2023-05-05T18:11:29.168Z"
   },
   {
    "duration": 8,
    "start_time": "2023-05-05T18:11:29.236Z"
   },
   {
    "duration": 13,
    "start_time": "2023-05-05T18:11:29.245Z"
   },
   {
    "duration": 5,
    "start_time": "2023-05-05T18:11:29.260Z"
   },
   {
    "duration": 49,
    "start_time": "2023-05-05T18:11:29.268Z"
   },
   {
    "duration": 15,
    "start_time": "2023-05-05T18:11:29.323Z"
   },
   {
    "duration": 379,
    "start_time": "2023-05-05T18:11:29.340Z"
   },
   {
    "duration": 161,
    "start_time": "2023-05-05T18:11:29.728Z"
   },
   {
    "duration": 37,
    "start_time": "2023-05-05T18:11:29.891Z"
   },
   {
    "duration": 304,
    "start_time": "2023-05-05T18:11:29.930Z"
   },
   {
    "duration": 11,
    "start_time": "2023-05-05T18:11:30.236Z"
   },
   {
    "duration": 334,
    "start_time": "2023-05-05T18:11:30.250Z"
   },
   {
    "duration": 15,
    "start_time": "2023-05-05T18:11:30.587Z"
   },
   {
    "duration": 321,
    "start_time": "2023-05-05T18:11:30.604Z"
   },
   {
    "duration": 8,
    "start_time": "2023-05-05T18:11:30.927Z"
   },
   {
    "duration": 51,
    "start_time": "2023-05-05T18:11:30.937Z"
   },
   {
    "duration": 97,
    "start_time": "2023-05-05T18:11:30.992Z"
   },
   {
    "duration": 151,
    "start_time": "2023-05-05T18:11:31.091Z"
   },
   {
    "duration": 89,
    "start_time": "2023-05-05T18:11:31.244Z"
   },
   {
    "duration": 26,
    "start_time": "2023-05-05T18:11:31.336Z"
   },
   {
    "duration": 86,
    "start_time": "2023-05-05T18:11:31.364Z"
   },
   {
    "duration": 376,
    "start_time": "2023-05-05T18:11:31.451Z"
   },
   {
    "duration": 290,
    "start_time": "2023-05-05T18:11:31.829Z"
   },
   {
    "duration": 14,
    "start_time": "2023-05-05T18:11:32.120Z"
   },
   {
    "duration": 15,
    "start_time": "2023-05-05T18:11:32.136Z"
   },
   {
    "duration": 318,
    "start_time": "2023-05-05T18:11:32.153Z"
   },
   {
    "duration": 265,
    "start_time": "2023-05-05T18:11:32.482Z"
   },
   {
    "duration": 8,
    "start_time": "2023-05-05T18:11:32.749Z"
   },
   {
    "duration": 18,
    "start_time": "2023-05-05T18:11:32.758Z"
   },
   {
    "duration": 105,
    "start_time": "2023-05-05T18:11:32.780Z"
   },
   {
    "duration": 20,
    "start_time": "2023-05-05T18:11:32.889Z"
   },
   {
    "duration": 272,
    "start_time": "2023-05-05T18:11:32.925Z"
   },
   {
    "duration": 20,
    "start_time": "2023-05-05T18:11:33.199Z"
   },
   {
    "duration": 17,
    "start_time": "2023-05-05T18:11:33.221Z"
   },
   {
    "duration": 8,
    "start_time": "2023-05-05T18:11:33.240Z"
   },
   {
    "duration": 12,
    "start_time": "2023-05-05T18:11:33.250Z"
   },
   {
    "duration": 7,
    "start_time": "2023-05-05T18:11:33.264Z"
   },
   {
    "duration": 50,
    "start_time": "2023-05-05T18:11:33.282Z"
   },
   {
    "duration": 5,
    "start_time": "2023-05-05T18:11:33.334Z"
   },
   {
    "duration": 11,
    "start_time": "2023-05-05T18:11:33.340Z"
   },
   {
    "duration": 425,
    "start_time": "2023-05-06T16:32:19.528Z"
   },
   {
    "duration": 506,
    "start_time": "2023-05-06T16:32:19.962Z"
   },
   {
    "duration": 473,
    "start_time": "2023-05-06T16:32:20.478Z"
   },
   {
    "duration": 79,
    "start_time": "2023-05-06T16:32:20.953Z"
   },
   {
    "duration": 465,
    "start_time": "2023-05-06T16:32:21.042Z"
   },
   {
    "duration": 10,
    "start_time": "2023-05-06T16:32:21.509Z"
   },
   {
    "duration": 24,
    "start_time": "2023-05-06T16:32:21.520Z"
   },
   {
    "duration": 67,
    "start_time": "2023-05-06T16:32:21.550Z"
   },
   {
    "duration": 31,
    "start_time": "2023-05-06T16:32:21.619Z"
   },
   {
    "duration": 38,
    "start_time": "2023-05-06T16:32:21.658Z"
   },
   {
    "duration": 12,
    "start_time": "2023-05-06T16:32:21.697Z"
   },
   {
    "duration": 17,
    "start_time": "2023-05-06T16:32:21.710Z"
   },
   {
    "duration": 68,
    "start_time": "2023-05-06T16:32:21.728Z"
   },
   {
    "duration": 26,
    "start_time": "2023-05-06T16:32:21.797Z"
   },
   {
    "duration": 7,
    "start_time": "2023-05-06T16:32:21.824Z"
   },
   {
    "duration": 50,
    "start_time": "2023-05-06T16:32:21.833Z"
   },
   {
    "duration": 11,
    "start_time": "2023-05-06T16:32:21.884Z"
   },
   {
    "duration": 13,
    "start_time": "2023-05-06T16:32:21.896Z"
   },
   {
    "duration": 9,
    "start_time": "2023-05-06T16:32:21.911Z"
   },
   {
    "duration": 8,
    "start_time": "2023-05-06T16:32:21.922Z"
   },
   {
    "duration": 270,
    "start_time": "2023-05-06T16:32:21.932Z"
   },
   {
    "duration": 126,
    "start_time": "2023-05-06T16:32:22.204Z"
   },
   {
    "duration": 29,
    "start_time": "2023-05-06T16:32:22.334Z"
   },
   {
    "duration": 319,
    "start_time": "2023-05-06T16:32:22.365Z"
   },
   {
    "duration": 8,
    "start_time": "2023-05-06T16:32:22.688Z"
   },
   {
    "duration": 313,
    "start_time": "2023-05-06T16:32:22.697Z"
   },
   {
    "duration": 8,
    "start_time": "2023-05-06T16:32:23.011Z"
   },
   {
    "duration": 362,
    "start_time": "2023-05-06T16:32:23.038Z"
   },
   {
    "duration": 9,
    "start_time": "2023-05-06T16:32:23.402Z"
   },
   {
    "duration": 31,
    "start_time": "2023-05-06T16:32:23.412Z"
   },
   {
    "duration": 51,
    "start_time": "2023-05-06T16:32:23.453Z"
   },
   {
    "duration": 93,
    "start_time": "2023-05-06T16:32:23.506Z"
   },
   {
    "duration": 23,
    "start_time": "2023-05-06T16:32:23.601Z"
   },
   {
    "duration": 63,
    "start_time": "2023-05-06T16:32:23.626Z"
   },
   {
    "duration": 26,
    "start_time": "2023-05-06T16:32:23.698Z"
   },
   {
    "duration": 378,
    "start_time": "2023-05-06T16:32:23.726Z"
   },
   {
    "duration": 312,
    "start_time": "2023-05-06T16:32:24.106Z"
   },
   {
    "duration": 27,
    "start_time": "2023-05-06T16:32:24.419Z"
   },
   {
    "duration": 43,
    "start_time": "2023-05-06T16:32:24.456Z"
   },
   {
    "duration": 324,
    "start_time": "2023-05-06T16:32:24.500Z"
   },
   {
    "duration": 295,
    "start_time": "2023-05-06T16:32:24.826Z"
   },
   {
    "duration": 33,
    "start_time": "2023-05-06T16:32:25.123Z"
   },
   {
    "duration": 17,
    "start_time": "2023-05-06T16:32:25.158Z"
   },
   {
    "duration": 87,
    "start_time": "2023-05-06T16:32:25.177Z"
   },
   {
    "duration": 13,
    "start_time": "2023-05-06T16:32:25.273Z"
   },
   {
    "duration": 278,
    "start_time": "2023-05-06T16:32:25.290Z"
   },
   {
    "duration": 27,
    "start_time": "2023-05-06T16:32:25.577Z"
   },
   {
    "duration": 104,
    "start_time": "2023-05-06T16:32:25.605Z"
   },
   {
    "duration": 21,
    "start_time": "2023-05-06T16:32:25.711Z"
   },
   {
    "duration": 73,
    "start_time": "2023-05-06T16:32:25.733Z"
   },
   {
    "duration": 30,
    "start_time": "2023-05-06T16:32:25.808Z"
   },
   {
    "duration": 74,
    "start_time": "2023-05-06T16:32:25.842Z"
   },
   {
    "duration": 19,
    "start_time": "2023-05-06T16:32:25.917Z"
   },
   {
    "duration": 81,
    "start_time": "2023-05-06T16:32:25.937Z"
   },
   {
    "duration": 7,
    "start_time": "2023-05-06T16:38:19.521Z"
   },
   {
    "duration": 6,
    "start_time": "2023-05-06T16:56:56.708Z"
   },
   {
    "duration": 147,
    "start_time": "2023-05-06T16:57:25.420Z"
   },
   {
    "duration": 130,
    "start_time": "2023-05-06T16:57:29.192Z"
   },
   {
    "duration": 129,
    "start_time": "2023-05-06T16:57:34.352Z"
   },
   {
    "duration": 8,
    "start_time": "2023-05-06T16:57:36.881Z"
   },
   {
    "duration": 7,
    "start_time": "2023-05-06T16:59:45.767Z"
   },
   {
    "duration": 12,
    "start_time": "2023-05-06T16:59:52.234Z"
   },
   {
    "duration": 12,
    "start_time": "2023-05-06T17:00:05.829Z"
   },
   {
    "duration": 17,
    "start_time": "2023-05-06T17:10:02.789Z"
   },
   {
    "duration": 26,
    "start_time": "2023-05-06T17:10:16.281Z"
   },
   {
    "duration": 18,
    "start_time": "2023-05-06T17:17:42.392Z"
   },
   {
    "duration": 6,
    "start_time": "2023-05-06T17:48:58.406Z"
   },
   {
    "duration": 41,
    "start_time": "2023-05-06T17:49:07.328Z"
   },
   {
    "duration": 55,
    "start_time": "2023-05-07T08:56:26.659Z"
   },
   {
    "duration": 10,
    "start_time": "2023-05-07T08:57:04.530Z"
   },
   {
    "duration": 1590,
    "start_time": "2023-05-07T08:57:17.419Z"
   },
   {
    "duration": 417,
    "start_time": "2023-05-07T08:57:19.013Z"
   },
   {
    "duration": 30,
    "start_time": "2023-05-07T08:57:19.432Z"
   },
   {
    "duration": 67,
    "start_time": "2023-05-07T08:57:19.464Z"
   },
   {
    "duration": 58,
    "start_time": "2023-05-07T08:57:19.534Z"
   },
   {
    "duration": 16,
    "start_time": "2023-05-07T08:57:19.594Z"
   },
   {
    "duration": 6,
    "start_time": "2023-05-07T08:57:19.611Z"
   },
   {
    "duration": 25,
    "start_time": "2023-05-07T08:57:19.619Z"
   },
   {
    "duration": 50,
    "start_time": "2023-05-07T08:57:19.646Z"
   },
   {
    "duration": 10,
    "start_time": "2023-05-07T08:57:19.697Z"
   },
   {
    "duration": 13,
    "start_time": "2023-05-07T08:57:19.708Z"
   },
   {
    "duration": 6,
    "start_time": "2023-05-07T08:57:19.722Z"
   },
   {
    "duration": 43,
    "start_time": "2023-05-07T08:57:19.729Z"
   },
   {
    "duration": 15,
    "start_time": "2023-05-07T08:57:19.775Z"
   },
   {
    "duration": 10,
    "start_time": "2023-05-07T08:57:19.792Z"
   },
   {
    "duration": 17,
    "start_time": "2023-05-07T08:57:19.803Z"
   },
   {
    "duration": 76,
    "start_time": "2023-05-07T08:57:19.821Z"
   },
   {
    "duration": 10,
    "start_time": "2023-05-07T08:57:19.898Z"
   },
   {
    "duration": 212,
    "start_time": "2023-05-07T08:57:19.909Z"
   },
   {
    "duration": 129,
    "start_time": "2023-05-07T08:57:20.122Z"
   },
   {
    "duration": 16,
    "start_time": "2023-05-07T08:57:20.253Z"
   },
   {
    "duration": 259,
    "start_time": "2023-05-07T08:57:20.270Z"
   },
   {
    "duration": 10,
    "start_time": "2023-05-07T08:57:20.530Z"
   },
   {
    "duration": 319,
    "start_time": "2023-05-07T08:57:20.546Z"
   },
   {
    "duration": 17,
    "start_time": "2023-05-07T08:57:20.867Z"
   },
   {
    "duration": 339,
    "start_time": "2023-05-07T08:57:20.886Z"
   },
   {
    "duration": 27,
    "start_time": "2023-05-07T08:57:21.227Z"
   },
   {
    "duration": 33,
    "start_time": "2023-05-07T08:57:21.258Z"
   },
   {
    "duration": 29,
    "start_time": "2023-05-07T08:57:21.293Z"
   },
   {
    "duration": 96,
    "start_time": "2023-05-07T08:57:21.323Z"
   },
   {
    "duration": 33,
    "start_time": "2023-05-07T08:57:21.421Z"
   },
   {
    "duration": 45,
    "start_time": "2023-05-07T08:57:21.456Z"
   },
   {
    "duration": 18,
    "start_time": "2023-05-07T08:57:21.503Z"
   },
   {
    "duration": 300,
    "start_time": "2023-05-07T08:57:21.522Z"
   },
   {
    "duration": 298,
    "start_time": "2023-05-07T08:57:21.823Z"
   },
   {
    "duration": 20,
    "start_time": "2023-05-07T08:57:22.123Z"
   },
   {
    "duration": 27,
    "start_time": "2023-05-07T08:57:22.149Z"
   },
   {
    "duration": 299,
    "start_time": "2023-05-07T08:57:22.183Z"
   },
   {
    "duration": 297,
    "start_time": "2023-05-07T08:57:22.484Z"
   },
   {
    "duration": 10,
    "start_time": "2023-05-07T08:57:22.782Z"
   },
   {
    "duration": 20,
    "start_time": "2023-05-07T08:57:22.795Z"
   },
   {
    "duration": 43,
    "start_time": "2023-05-07T08:57:22.816Z"
   },
   {
    "duration": 23,
    "start_time": "2023-05-07T08:57:22.865Z"
   },
   {
    "duration": 226,
    "start_time": "2023-05-07T08:57:22.889Z"
   },
   {
    "duration": 51,
    "start_time": "2023-05-07T08:57:23.118Z"
   },
   {
    "duration": 7,
    "start_time": "2023-05-07T08:57:23.172Z"
   },
   {
    "duration": 34,
    "start_time": "2023-05-07T08:57:23.181Z"
   },
   {
    "duration": 19,
    "start_time": "2023-05-07T08:57:23.217Z"
   },
   {
    "duration": 55,
    "start_time": "2023-05-07T08:57:23.240Z"
   },
   {
    "duration": 15,
    "start_time": "2023-05-07T08:57:23.298Z"
   },
   {
    "duration": 14,
    "start_time": "2023-05-07T08:57:23.315Z"
   },
   {
    "duration": 47,
    "start_time": "2023-05-07T08:57:23.331Z"
   },
   {
    "duration": 385,
    "start_time": "2023-05-07T09:10:27.297Z"
   },
   {
    "duration": 132,
    "start_time": "2023-05-07T09:10:36.951Z"
   },
   {
    "duration": 5,
    "start_time": "2023-05-07T09:11:24.204Z"
   },
   {
    "duration": 7,
    "start_time": "2023-05-07T09:11:43.888Z"
   },
   {
    "duration": 12,
    "start_time": "2023-05-07T09:13:35.435Z"
   },
   {
    "duration": 3,
    "start_time": "2023-05-07T09:15:33.183Z"
   },
   {
    "duration": 112,
    "start_time": "2023-05-07T09:15:33.190Z"
   },
   {
    "duration": 11,
    "start_time": "2023-05-07T09:15:33.304Z"
   },
   {
    "duration": 83,
    "start_time": "2023-05-07T09:15:33.319Z"
   },
   {
    "duration": 58,
    "start_time": "2023-05-07T09:15:33.404Z"
   },
   {
    "duration": 34,
    "start_time": "2023-05-07T09:15:33.467Z"
   },
   {
    "duration": 17,
    "start_time": "2023-05-07T09:15:33.503Z"
   },
   {
    "duration": 12,
    "start_time": "2023-05-07T09:15:33.521Z"
   },
   {
    "duration": 59,
    "start_time": "2023-05-07T09:15:33.535Z"
   },
   {
    "duration": 11,
    "start_time": "2023-05-07T09:15:33.596Z"
   },
   {
    "duration": 12,
    "start_time": "2023-05-07T09:15:33.610Z"
   },
   {
    "duration": 6,
    "start_time": "2023-05-07T09:15:33.624Z"
   },
   {
    "duration": 10,
    "start_time": "2023-05-07T09:15:33.631Z"
   },
   {
    "duration": 41,
    "start_time": "2023-05-07T09:15:33.643Z"
   },
   {
    "duration": 9,
    "start_time": "2023-05-07T09:15:33.686Z"
   },
   {
    "duration": 12,
    "start_time": "2023-05-07T09:15:33.696Z"
   },
   {
    "duration": 12,
    "start_time": "2023-05-07T09:15:33.710Z"
   },
   {
    "duration": 26,
    "start_time": "2023-05-07T09:15:33.724Z"
   },
   {
    "duration": 26,
    "start_time": "2023-05-07T09:15:33.759Z"
   },
   {
    "duration": 209,
    "start_time": "2023-05-07T09:15:33.787Z"
   },
   {
    "duration": 128,
    "start_time": "2023-05-07T09:15:33.997Z"
   },
   {
    "duration": 10,
    "start_time": "2023-05-07T09:15:34.126Z"
   },
   {
    "duration": 521,
    "start_time": "2023-05-07T09:15:34.138Z"
   },
   {
    "duration": 24,
    "start_time": "2023-05-07T09:15:34.666Z"
   },
   {
    "duration": 347,
    "start_time": "2023-05-07T09:15:34.692Z"
   },
   {
    "duration": 14,
    "start_time": "2023-05-07T09:15:35.042Z"
   },
   {
    "duration": 346,
    "start_time": "2023-05-07T09:15:35.061Z"
   },
   {
    "duration": 8,
    "start_time": "2023-05-07T09:15:35.410Z"
   },
   {
    "duration": 29,
    "start_time": "2023-05-07T09:15:35.420Z"
   },
   {
    "duration": 47,
    "start_time": "2023-05-07T09:15:35.453Z"
   },
   {
    "duration": 10,
    "start_time": "2023-05-07T09:15:35.502Z"
   },
   {
    "duration": 34,
    "start_time": "2023-05-07T09:15:35.515Z"
   },
   {
    "duration": 10,
    "start_time": "2023-05-07T09:15:35.551Z"
   },
   {
    "duration": 41,
    "start_time": "2023-05-07T09:15:35.563Z"
   },
   {
    "duration": 306,
    "start_time": "2023-05-07T09:15:35.606Z"
   },
   {
    "duration": 362,
    "start_time": "2023-05-07T09:15:35.915Z"
   },
   {
    "duration": 16,
    "start_time": "2023-05-07T09:15:36.279Z"
   },
   {
    "duration": 17,
    "start_time": "2023-05-07T09:15:36.297Z"
   },
   {
    "duration": 396,
    "start_time": "2023-05-07T09:15:36.316Z"
   },
   {
    "duration": 418,
    "start_time": "2023-05-07T09:15:36.714Z"
   },
   {
    "duration": 19,
    "start_time": "2023-05-07T09:15:37.135Z"
   },
   {
    "duration": 37,
    "start_time": "2023-05-07T09:15:37.158Z"
   },
   {
    "duration": 44,
    "start_time": "2023-05-07T09:15:37.196Z"
   },
   {
    "duration": 4,
    "start_time": "2023-05-07T09:15:37.242Z"
   },
   {
    "duration": 251,
    "start_time": "2023-05-07T09:15:37.248Z"
   },
   {
    "duration": 19,
    "start_time": "2023-05-07T09:15:37.501Z"
   },
   {
    "duration": 19,
    "start_time": "2023-05-07T09:15:37.522Z"
   },
   {
    "duration": 5,
    "start_time": "2023-05-07T09:15:37.543Z"
   },
   {
    "duration": 36,
    "start_time": "2023-05-07T09:15:37.550Z"
   },
   {
    "duration": 11,
    "start_time": "2023-05-07T09:15:37.588Z"
   },
   {
    "duration": 12,
    "start_time": "2023-05-07T09:15:37.601Z"
   },
   {
    "duration": 7,
    "start_time": "2023-05-07T09:15:37.614Z"
   },
   {
    "duration": 10,
    "start_time": "2023-05-07T09:15:37.622Z"
   },
   {
    "duration": 4,
    "start_time": "2023-05-07T09:16:00.585Z"
   },
   {
    "duration": 96,
    "start_time": "2023-05-07T09:16:00.591Z"
   },
   {
    "duration": 13,
    "start_time": "2023-05-07T09:16:00.689Z"
   },
   {
    "duration": 88,
    "start_time": "2023-05-07T09:16:00.705Z"
   },
   {
    "duration": 96,
    "start_time": "2023-05-07T09:16:00.795Z"
   },
   {
    "duration": 25,
    "start_time": "2023-05-07T09:16:00.893Z"
   },
   {
    "duration": 66,
    "start_time": "2023-05-07T09:16:00.921Z"
   },
   {
    "duration": 33,
    "start_time": "2023-05-07T09:16:00.989Z"
   },
   {
    "duration": 70,
    "start_time": "2023-05-07T09:16:01.025Z"
   },
   {
    "duration": 31,
    "start_time": "2023-05-07T09:16:01.097Z"
   },
   {
    "duration": 47,
    "start_time": "2023-05-07T09:16:01.129Z"
   },
   {
    "duration": 19,
    "start_time": "2023-05-07T09:16:01.179Z"
   },
   {
    "duration": 31,
    "start_time": "2023-05-07T09:16:01.199Z"
   },
   {
    "duration": 64,
    "start_time": "2023-05-07T09:16:01.232Z"
   },
   {
    "duration": 34,
    "start_time": "2023-05-07T09:16:01.298Z"
   },
   {
    "duration": 85,
    "start_time": "2023-05-07T09:16:01.334Z"
   },
   {
    "duration": 93,
    "start_time": "2023-05-07T09:16:01.421Z"
   },
   {
    "duration": 91,
    "start_time": "2023-05-07T09:16:01.517Z"
   },
   {
    "duration": 119,
    "start_time": "2023-05-07T09:16:01.609Z"
   },
   {
    "duration": 241,
    "start_time": "2023-05-07T09:16:01.730Z"
   },
   {
    "duration": 123,
    "start_time": "2023-05-07T09:16:01.977Z"
   },
   {
    "duration": 8,
    "start_time": "2023-05-07T09:16:02.102Z"
   },
   {
    "duration": 330,
    "start_time": "2023-05-07T09:16:02.112Z"
   },
   {
    "duration": 24,
    "start_time": "2023-05-07T09:16:02.452Z"
   },
   {
    "duration": 310,
    "start_time": "2023-05-07T09:16:02.478Z"
   },
   {
    "duration": 11,
    "start_time": "2023-05-07T09:16:02.790Z"
   },
   {
    "duration": 320,
    "start_time": "2023-05-07T09:16:02.803Z"
   },
   {
    "duration": 32,
    "start_time": "2023-05-07T09:16:03.125Z"
   },
   {
    "duration": 62,
    "start_time": "2023-05-07T09:16:03.163Z"
   },
   {
    "duration": 22,
    "start_time": "2023-05-07T09:16:03.227Z"
   },
   {
    "duration": 49,
    "start_time": "2023-05-07T09:16:03.251Z"
   },
   {
    "duration": 25,
    "start_time": "2023-05-07T09:16:03.302Z"
   },
   {
    "duration": 45,
    "start_time": "2023-05-07T09:16:03.328Z"
   },
   {
    "duration": 125,
    "start_time": "2023-05-07T09:16:03.375Z"
   },
   {
    "duration": 487,
    "start_time": "2023-05-07T09:16:03.504Z"
   },
   {
    "duration": 330,
    "start_time": "2023-05-07T09:16:03.993Z"
   },
   {
    "duration": 37,
    "start_time": "2023-05-07T09:16:04.325Z"
   },
   {
    "duration": 45,
    "start_time": "2023-05-07T09:16:04.367Z"
   },
   {
    "duration": 432,
    "start_time": "2023-05-07T09:16:04.414Z"
   },
   {
    "duration": 618,
    "start_time": "2023-05-07T09:16:04.851Z"
   },
   {
    "duration": 59,
    "start_time": "2023-05-07T09:16:05.477Z"
   },
   {
    "duration": 72,
    "start_time": "2023-05-07T09:16:05.538Z"
   },
   {
    "duration": 266,
    "start_time": "2023-05-07T09:16:05.612Z"
   },
   {
    "duration": 4,
    "start_time": "2023-05-07T09:16:05.879Z"
   },
   {
    "duration": 476,
    "start_time": "2023-05-07T09:16:05.885Z"
   },
   {
    "duration": 20,
    "start_time": "2023-05-07T09:16:06.363Z"
   },
   {
    "duration": 60,
    "start_time": "2023-05-07T09:16:06.384Z"
   },
   {
    "duration": 7,
    "start_time": "2023-05-07T09:16:06.446Z"
   },
   {
    "duration": 87,
    "start_time": "2023-05-07T09:16:06.454Z"
   },
   {
    "duration": 63,
    "start_time": "2023-05-07T09:16:06.543Z"
   },
   {
    "duration": 81,
    "start_time": "2023-05-07T09:16:06.608Z"
   },
   {
    "duration": 19,
    "start_time": "2023-05-07T09:16:06.691Z"
   },
   {
    "duration": 70,
    "start_time": "2023-05-07T09:16:06.711Z"
   },
   {
    "duration": 31,
    "start_time": "2023-05-07T09:24:49.055Z"
   },
   {
    "duration": 10,
    "start_time": "2023-05-07T09:26:38.165Z"
   },
   {
    "duration": 4,
    "start_time": "2023-05-07T09:27:31.271Z"
   },
   {
    "duration": 135,
    "start_time": "2023-05-07T09:27:31.279Z"
   },
   {
    "duration": 10,
    "start_time": "2023-05-07T09:27:31.416Z"
   },
   {
    "duration": 90,
    "start_time": "2023-05-07T09:27:31.427Z"
   },
   {
    "duration": 67,
    "start_time": "2023-05-07T09:27:31.519Z"
   },
   {
    "duration": 45,
    "start_time": "2023-05-07T09:27:31.587Z"
   },
   {
    "duration": 50,
    "start_time": "2023-05-07T09:27:31.636Z"
   },
   {
    "duration": 42,
    "start_time": "2023-05-07T09:27:31.687Z"
   },
   {
    "duration": 55,
    "start_time": "2023-05-07T09:27:31.731Z"
   },
   {
    "duration": 17,
    "start_time": "2023-05-07T09:27:31.788Z"
   },
   {
    "duration": 19,
    "start_time": "2023-05-07T09:27:31.808Z"
   },
   {
    "duration": 11,
    "start_time": "2023-05-07T09:27:31.828Z"
   },
   {
    "duration": 59,
    "start_time": "2023-05-07T09:27:31.841Z"
   },
   {
    "duration": 13,
    "start_time": "2023-05-07T09:27:31.901Z"
   },
   {
    "duration": 40,
    "start_time": "2023-05-07T09:27:31.916Z"
   },
   {
    "duration": 40,
    "start_time": "2023-05-07T09:27:31.960Z"
   },
   {
    "duration": 9,
    "start_time": "2023-05-07T09:27:32.002Z"
   },
   {
    "duration": 19,
    "start_time": "2023-05-07T09:27:32.012Z"
   },
   {
    "duration": 43,
    "start_time": "2023-05-07T09:27:32.033Z"
   },
   {
    "duration": 40,
    "start_time": "2023-05-07T09:27:32.078Z"
   },
   {
    "duration": 5,
    "start_time": "2023-05-07T09:27:32.119Z"
   },
   {
    "duration": 260,
    "start_time": "2023-05-07T09:27:32.125Z"
   },
   {
    "duration": 133,
    "start_time": "2023-05-07T09:27:32.387Z"
   },
   {
    "duration": 6,
    "start_time": "2023-05-07T09:27:32.521Z"
   },
   {
    "duration": 371,
    "start_time": "2023-05-07T09:27:32.528Z"
   },
   {
    "duration": 10,
    "start_time": "2023-05-07T09:27:32.902Z"
   },
   {
    "duration": 424,
    "start_time": "2023-05-07T09:27:32.914Z"
   },
   {
    "duration": 9,
    "start_time": "2023-05-07T09:27:33.341Z"
   },
   {
    "duration": 316,
    "start_time": "2023-05-07T09:27:33.355Z"
   },
   {
    "duration": 10,
    "start_time": "2023-05-07T09:27:33.680Z"
   },
   {
    "duration": 29,
    "start_time": "2023-05-07T09:27:33.691Z"
   },
   {
    "duration": 26,
    "start_time": "2023-05-07T09:27:33.721Z"
   },
   {
    "duration": 11,
    "start_time": "2023-05-07T09:27:33.752Z"
   },
   {
    "duration": 31,
    "start_time": "2023-05-07T09:27:33.765Z"
   },
   {
    "duration": 8,
    "start_time": "2023-05-07T09:27:33.798Z"
   },
   {
    "duration": 79,
    "start_time": "2023-05-07T09:27:33.808Z"
   },
   {
    "duration": 405,
    "start_time": "2023-05-07T09:27:33.889Z"
   },
   {
    "duration": 392,
    "start_time": "2023-05-07T09:27:34.296Z"
   },
   {
    "duration": 11,
    "start_time": "2023-05-07T09:27:34.692Z"
   },
   {
    "duration": 44,
    "start_time": "2023-05-07T09:27:34.704Z"
   },
   {
    "duration": 363,
    "start_time": "2023-05-07T09:27:34.751Z"
   },
   {
    "duration": 406,
    "start_time": "2023-05-07T09:27:35.115Z"
   },
   {
    "duration": 31,
    "start_time": "2023-05-07T09:27:35.523Z"
   },
   {
    "duration": 19,
    "start_time": "2023-05-07T09:27:35.564Z"
   },
   {
    "duration": 69,
    "start_time": "2023-05-07T09:27:35.585Z"
   },
   {
    "duration": 3,
    "start_time": "2023-05-07T09:27:35.666Z"
   },
   {
    "duration": 475,
    "start_time": "2023-05-07T09:27:35.671Z"
   },
   {
    "duration": 21,
    "start_time": "2023-05-07T09:27:36.148Z"
   },
   {
    "duration": 66,
    "start_time": "2023-05-07T09:27:36.171Z"
   },
   {
    "duration": 7,
    "start_time": "2023-05-07T09:27:36.238Z"
   },
   {
    "duration": 56,
    "start_time": "2023-05-07T09:27:36.247Z"
   },
   {
    "duration": 6,
    "start_time": "2023-05-07T09:27:36.305Z"
   },
   {
    "duration": 35,
    "start_time": "2023-05-07T09:27:36.313Z"
   },
   {
    "duration": 39,
    "start_time": "2023-05-07T09:27:36.350Z"
   },
   {
    "duration": 9,
    "start_time": "2023-05-07T09:27:36.391Z"
   },
   {
    "duration": 3,
    "start_time": "2023-05-07T09:32:29.562Z"
   },
   {
    "duration": 6,
    "start_time": "2023-05-07T09:47:15.717Z"
   },
   {
    "duration": 34,
    "start_time": "2023-05-07T09:47:26.150Z"
   },
   {
    "duration": 12,
    "start_time": "2023-05-07T09:49:08.977Z"
   },
   {
    "duration": 9,
    "start_time": "2023-05-07T09:49:30.079Z"
   },
   {
    "duration": 5,
    "start_time": "2023-05-07T09:50:46.485Z"
   },
   {
    "duration": 4,
    "start_time": "2023-05-07T09:50:53.408Z"
   },
   {
    "duration": 1326,
    "start_time": "2023-05-07T09:54:47.792Z"
   },
   {
    "duration": 88,
    "start_time": "2023-05-07T09:54:49.120Z"
   },
   {
    "duration": 11,
    "start_time": "2023-05-07T09:54:49.210Z"
   },
   {
    "duration": 48,
    "start_time": "2023-05-07T09:54:49.224Z"
   },
   {
    "duration": 27,
    "start_time": "2023-05-07T09:54:49.276Z"
   },
   {
    "duration": 19,
    "start_time": "2023-05-07T09:54:49.305Z"
   },
   {
    "duration": 8,
    "start_time": "2023-05-07T09:54:49.326Z"
   },
   {
    "duration": 69,
    "start_time": "2023-05-07T09:54:49.339Z"
   },
   {
    "duration": 9,
    "start_time": "2023-05-07T09:54:49.410Z"
   },
   {
    "duration": 10,
    "start_time": "2023-05-07T09:54:49.421Z"
   },
   {
    "duration": 60,
    "start_time": "2023-05-07T09:54:49.433Z"
   },
   {
    "duration": 9,
    "start_time": "2023-05-07T09:54:49.495Z"
   },
   {
    "duration": 10,
    "start_time": "2023-05-07T09:54:49.505Z"
   },
   {
    "duration": 8,
    "start_time": "2023-05-07T09:54:49.516Z"
   },
   {
    "duration": 9,
    "start_time": "2023-05-07T09:54:49.525Z"
   },
   {
    "duration": 55,
    "start_time": "2023-05-07T09:54:49.536Z"
   },
   {
    "duration": 15,
    "start_time": "2023-05-07T09:54:49.592Z"
   },
   {
    "duration": 17,
    "start_time": "2023-05-07T09:54:49.609Z"
   },
   {
    "duration": 13,
    "start_time": "2023-05-07T09:54:49.627Z"
   },
   {
    "duration": 85,
    "start_time": "2023-05-07T09:54:49.644Z"
   },
   {
    "duration": 14,
    "start_time": "2023-05-07T09:54:49.731Z"
   },
   {
    "duration": 76,
    "start_time": "2023-05-07T09:54:49.747Z"
   },
   {
    "duration": 219,
    "start_time": "2023-05-07T09:54:49.825Z"
   },
   {
    "duration": 144,
    "start_time": "2023-05-07T09:54:50.046Z"
   },
   {
    "duration": 7,
    "start_time": "2023-05-07T09:54:50.193Z"
   },
   {
    "duration": 309,
    "start_time": "2023-05-07T09:54:50.203Z"
   },
   {
    "duration": 8,
    "start_time": "2023-05-07T09:54:50.514Z"
   },
   {
    "duration": 341,
    "start_time": "2023-05-07T09:54:50.525Z"
   },
   {
    "duration": 16,
    "start_time": "2023-05-07T09:54:50.867Z"
   },
   {
    "duration": 330,
    "start_time": "2023-05-07T09:54:50.886Z"
   },
   {
    "duration": 31,
    "start_time": "2023-05-07T09:54:51.218Z"
   },
   {
    "duration": 56,
    "start_time": "2023-05-07T09:54:51.250Z"
   },
   {
    "duration": 21,
    "start_time": "2023-05-07T09:54:51.309Z"
   },
   {
    "duration": 68,
    "start_time": "2023-05-07T09:54:51.332Z"
   },
   {
    "duration": 27,
    "start_time": "2023-05-07T09:54:51.402Z"
   },
   {
    "duration": 80,
    "start_time": "2023-05-07T09:54:51.432Z"
   },
   {
    "duration": 117,
    "start_time": "2023-05-07T09:54:51.515Z"
   },
   {
    "duration": 374,
    "start_time": "2023-05-07T09:54:51.643Z"
   },
   {
    "duration": 380,
    "start_time": "2023-05-07T09:54:52.019Z"
   },
   {
    "duration": 11,
    "start_time": "2023-05-07T09:54:52.402Z"
   },
   {
    "duration": 23,
    "start_time": "2023-05-07T09:54:52.415Z"
   },
   {
    "duration": 423,
    "start_time": "2023-05-07T09:54:52.442Z"
   },
   {
    "duration": 331,
    "start_time": "2023-05-07T09:54:52.871Z"
   },
   {
    "duration": 9,
    "start_time": "2023-05-07T09:54:53.204Z"
   },
   {
    "duration": 31,
    "start_time": "2023-05-07T09:54:53.215Z"
   },
   {
    "duration": 84,
    "start_time": "2023-05-07T09:54:53.248Z"
   },
   {
    "duration": 3,
    "start_time": "2023-05-07T09:54:53.334Z"
   },
   {
    "duration": 289,
    "start_time": "2023-05-07T09:54:53.338Z"
   },
   {
    "duration": 32,
    "start_time": "2023-05-07T09:54:53.628Z"
   },
   {
    "duration": 42,
    "start_time": "2023-05-07T09:54:53.662Z"
   },
   {
    "duration": 19,
    "start_time": "2023-05-07T09:54:53.705Z"
   },
   {
    "duration": 10,
    "start_time": "2023-05-07T09:54:53.725Z"
   },
   {
    "duration": 63,
    "start_time": "2023-05-07T09:54:53.737Z"
   },
   {
    "duration": 12,
    "start_time": "2023-05-07T09:54:53.802Z"
   },
   {
    "duration": 11,
    "start_time": "2023-05-07T09:54:53.816Z"
   },
   {
    "duration": 17,
    "start_time": "2023-05-07T09:54:53.828Z"
   },
   {
    "duration": 148,
    "start_time": "2023-05-07T12:36:04.968Z"
   },
   {
    "duration": 27,
    "start_time": "2023-05-07T12:36:30.363Z"
   },
   {
    "duration": 188,
    "start_time": "2023-05-07T12:37:17.118Z"
   },
   {
    "duration": 27,
    "start_time": "2023-05-07T12:41:00.362Z"
   },
   {
    "duration": 18,
    "start_time": "2023-05-07T12:41:19.975Z"
   },
   {
    "duration": 19,
    "start_time": "2023-05-07T12:47:28.893Z"
   },
   {
    "duration": 1801,
    "start_time": "2023-05-07T12:47:54.711Z"
   },
   {
    "duration": 27209,
    "start_time": "2023-05-07T12:48:50.470Z"
   },
   {
    "duration": 26172,
    "start_time": "2023-05-07T12:56:02.024Z"
   },
   {
    "duration": 31,
    "start_time": "2023-05-07T12:59:41.631Z"
   },
   {
    "duration": 39,
    "start_time": "2023-05-07T13:08:33.262Z"
   },
   {
    "duration": 570,
    "start_time": "2023-05-07T13:08:50.102Z"
   },
   {
    "duration": 24,
    "start_time": "2023-05-07T13:16:52.437Z"
   },
   {
    "duration": 25780,
    "start_time": "2023-05-07T13:32:45.133Z"
   },
   {
    "duration": 16,
    "start_time": "2023-05-07T13:33:37.509Z"
   },
   {
    "duration": 18,
    "start_time": "2023-05-07T13:38:00.765Z"
   },
   {
    "duration": 13,
    "start_time": "2023-05-07T13:38:20.304Z"
   },
   {
    "duration": 139,
    "start_time": "2023-05-07T13:42:44.126Z"
   },
   {
    "duration": 106,
    "start_time": "2023-05-07T13:43:27.998Z"
   },
   {
    "duration": 7,
    "start_time": "2023-05-07T13:44:06.522Z"
   },
   {
    "duration": 4,
    "start_time": "2023-05-07T13:44:38.985Z"
   },
   {
    "duration": 5,
    "start_time": "2023-05-07T13:44:51.402Z"
   },
   {
    "duration": 10,
    "start_time": "2023-05-07T13:46:31.775Z"
   },
   {
    "duration": 7,
    "start_time": "2023-05-07T13:46:33.929Z"
   },
   {
    "duration": 2037,
    "start_time": "2023-05-07T13:47:04.487Z"
   },
   {
    "duration": 17,
    "start_time": "2023-05-07T13:48:31.965Z"
   },
   {
    "duration": 12,
    "start_time": "2023-05-07T13:48:46.991Z"
   },
   {
    "duration": 15,
    "start_time": "2023-05-07T13:51:13.317Z"
   },
   {
    "duration": 10,
    "start_time": "2023-05-07T13:51:41.553Z"
   },
   {
    "duration": 15,
    "start_time": "2023-05-07T13:51:56.555Z"
   },
   {
    "duration": 14,
    "start_time": "2023-05-07T13:52:32.980Z"
   },
   {
    "duration": 13,
    "start_time": "2023-05-07T14:01:02.320Z"
   },
   {
    "duration": 16,
    "start_time": "2023-05-07T14:03:12.888Z"
   },
   {
    "duration": 15,
    "start_time": "2023-05-07T14:03:37.262Z"
   },
   {
    "duration": 6,
    "start_time": "2023-05-07T14:04:06.126Z"
   },
   {
    "duration": 11,
    "start_time": "2023-05-07T14:04:27.799Z"
   },
   {
    "duration": 11,
    "start_time": "2023-05-07T14:04:29.996Z"
   },
   {
    "duration": 9,
    "start_time": "2023-05-07T14:04:50.904Z"
   },
   {
    "duration": 8,
    "start_time": "2023-05-07T14:04:52.595Z"
   },
   {
    "duration": 695,
    "start_time": "2023-05-07T14:05:34.188Z"
   },
   {
    "duration": 14,
    "start_time": "2023-05-07T14:05:35.094Z"
   },
   {
    "duration": 12,
    "start_time": "2023-05-07T14:05:48.386Z"
   },
   {
    "duration": 17,
    "start_time": "2023-05-07T14:05:50.433Z"
   },
   {
    "duration": 2642,
    "start_time": "2023-05-07T14:06:21.175Z"
   },
   {
    "duration": 2129,
    "start_time": "2023-05-07T14:06:34.659Z"
   },
   {
    "duration": 185,
    "start_time": "2023-05-07T14:06:42.368Z"
   },
   {
    "duration": 14,
    "start_time": "2023-05-07T14:07:24.283Z"
   },
   {
    "duration": 145,
    "start_time": "2023-05-07T14:08:02.516Z"
   },
   {
    "duration": 256,
    "start_time": "2023-05-07T14:08:07.227Z"
   },
   {
    "duration": 206,
    "start_time": "2023-05-07T14:10:50.894Z"
   },
   {
    "duration": 18,
    "start_time": "2023-05-07T14:16:57.475Z"
   },
   {
    "duration": 24,
    "start_time": "2023-05-07T14:17:11.548Z"
   },
   {
    "duration": 16,
    "start_time": "2023-05-07T14:46:04.166Z"
   },
   {
    "duration": 38,
    "start_time": "2023-05-07T14:46:21.351Z"
   },
   {
    "duration": 11,
    "start_time": "2023-05-07T14:47:26.870Z"
   },
   {
    "duration": 12,
    "start_time": "2023-05-07T14:47:37.164Z"
   },
   {
    "duration": 15,
    "start_time": "2023-05-07T14:48:09.032Z"
   },
   {
    "duration": 160,
    "start_time": "2023-05-07T14:48:20.164Z"
   },
   {
    "duration": 1134,
    "start_time": "2023-05-07T14:48:37.670Z"
   },
   {
    "duration": 86,
    "start_time": "2023-05-07T14:48:38.805Z"
   },
   {
    "duration": 11,
    "start_time": "2023-05-07T14:48:38.893Z"
   },
   {
    "duration": 10,
    "start_time": "2023-05-07T14:48:38.906Z"
   },
   {
    "duration": 10,
    "start_time": "2023-05-07T14:48:38.917Z"
   },
   {
    "duration": 24,
    "start_time": "2023-05-07T14:48:38.928Z"
   },
   {
    "duration": 23,
    "start_time": "2023-05-07T14:48:38.959Z"
   },
   {
    "duration": 12,
    "start_time": "2023-05-07T14:48:38.984Z"
   },
   {
    "duration": 9,
    "start_time": "2023-05-07T14:48:38.997Z"
   },
   {
    "duration": 11,
    "start_time": "2023-05-07T14:48:39.008Z"
   },
   {
    "duration": 33,
    "start_time": "2023-05-07T14:48:39.021Z"
   },
   {
    "duration": 28,
    "start_time": "2023-05-07T14:48:39.055Z"
   },
   {
    "duration": 4,
    "start_time": "2023-05-07T14:48:39.084Z"
   },
   {
    "duration": 5,
    "start_time": "2023-05-07T14:48:39.090Z"
   },
   {
    "duration": 7,
    "start_time": "2023-05-07T14:48:39.096Z"
   },
   {
    "duration": 5,
    "start_time": "2023-05-07T14:48:39.104Z"
   },
   {
    "duration": 8,
    "start_time": "2023-05-07T14:48:39.110Z"
   },
   {
    "duration": 7,
    "start_time": "2023-05-07T14:48:39.119Z"
   },
   {
    "duration": 28,
    "start_time": "2023-05-07T14:48:39.127Z"
   },
   {
    "duration": 26,
    "start_time": "2023-05-07T14:48:39.163Z"
   },
   {
    "duration": 7,
    "start_time": "2023-05-07T14:48:39.190Z"
   },
   {
    "duration": 20,
    "start_time": "2023-05-07T14:48:39.198Z"
   },
   {
    "duration": 185,
    "start_time": "2023-05-07T14:48:39.219Z"
   },
   {
    "duration": 11,
    "start_time": "2023-05-07T14:48:39.405Z"
   },
   {
    "duration": 175,
    "start_time": "2023-05-07T14:48:39.417Z"
   },
   {
    "duration": 110,
    "start_time": "2023-05-07T14:48:39.594Z"
   },
   {
    "duration": 6,
    "start_time": "2023-05-07T14:48:39.707Z"
   },
   {
    "duration": 285,
    "start_time": "2023-05-07T14:48:39.718Z"
   },
   {
    "duration": 7,
    "start_time": "2023-05-07T14:48:40.005Z"
   },
   {
    "duration": 288,
    "start_time": "2023-05-07T14:48:40.014Z"
   },
   {
    "duration": 8,
    "start_time": "2023-05-07T14:48:40.303Z"
   },
   {
    "duration": 338,
    "start_time": "2023-05-07T14:48:40.312Z"
   },
   {
    "duration": 17,
    "start_time": "2023-05-07T14:48:40.652Z"
   },
   {
    "duration": 23,
    "start_time": "2023-05-07T14:48:40.670Z"
   },
   {
    "duration": 16,
    "start_time": "2023-05-07T14:48:40.694Z"
   },
   {
    "duration": 7,
    "start_time": "2023-05-07T14:48:40.711Z"
   },
   {
    "duration": 22,
    "start_time": "2023-05-07T14:48:40.719Z"
   },
   {
    "duration": 40,
    "start_time": "2023-05-07T14:48:40.742Z"
   },
   {
    "duration": 17,
    "start_time": "2023-05-07T14:48:40.784Z"
   },
   {
    "duration": 299,
    "start_time": "2023-05-07T14:48:40.803Z"
   },
   {
    "duration": 292,
    "start_time": "2023-05-07T14:48:41.104Z"
   },
   {
    "duration": 8,
    "start_time": "2023-05-07T14:48:41.397Z"
   },
   {
    "duration": 7,
    "start_time": "2023-05-07T14:48:41.406Z"
   },
   {
    "duration": 293,
    "start_time": "2023-05-07T14:48:41.415Z"
   },
   {
    "duration": 274,
    "start_time": "2023-05-07T14:48:41.709Z"
   },
   {
    "duration": 8,
    "start_time": "2023-05-07T14:48:41.985Z"
   },
   {
    "duration": 7,
    "start_time": "2023-05-07T14:48:41.994Z"
   },
   {
    "duration": 56,
    "start_time": "2023-05-07T14:48:42.003Z"
   },
   {
    "duration": 13,
    "start_time": "2023-05-07T14:48:42.066Z"
   },
   {
    "duration": 153,
    "start_time": "2023-05-07T14:48:42.080Z"
   },
   {
    "duration": 29,
    "start_time": "2023-05-07T14:48:42.238Z"
   },
   {
    "duration": 15,
    "start_time": "2023-05-07T14:48:42.268Z"
   },
   {
    "duration": 4,
    "start_time": "2023-05-07T14:48:42.285Z"
   },
   {
    "duration": 5,
    "start_time": "2023-05-07T14:48:42.290Z"
   },
   {
    "duration": 5,
    "start_time": "2023-05-07T14:48:42.297Z"
   },
   {
    "duration": 10,
    "start_time": "2023-05-07T14:48:42.303Z"
   },
   {
    "duration": 6,
    "start_time": "2023-05-07T14:48:42.314Z"
   },
   {
    "duration": 6,
    "start_time": "2023-05-07T14:48:42.322Z"
   },
   {
    "duration": 8,
    "start_time": "2023-05-07T14:48:59.721Z"
   },
   {
    "duration": 124,
    "start_time": "2023-05-07T14:49:02.820Z"
   },
   {
    "duration": 18,
    "start_time": "2023-05-07T14:49:32.563Z"
   },
   {
    "duration": 153,
    "start_time": "2023-05-07T14:49:34.171Z"
   },
   {
    "duration": 28,
    "start_time": "2023-05-07T14:52:05.449Z"
   },
   {
    "duration": 31,
    "start_time": "2023-05-07T14:52:56.932Z"
   },
   {
    "duration": 13,
    "start_time": "2023-05-07T14:53:09.870Z"
   },
   {
    "duration": 159,
    "start_time": "2023-05-07T14:53:12.867Z"
   },
   {
    "duration": 16,
    "start_time": "2023-05-07T14:53:29.727Z"
   },
   {
    "duration": 271,
    "start_time": "2023-05-07T14:53:31.294Z"
   },
   {
    "duration": 122,
    "start_time": "2023-05-07T14:57:43.882Z"
   },
   {
    "duration": 203,
    "start_time": "2023-05-07T14:59:09.806Z"
   },
   {
    "duration": 216,
    "start_time": "2023-05-07T14:59:17.329Z"
   },
   {
    "duration": 283,
    "start_time": "2023-05-07T14:59:24.501Z"
   },
   {
    "duration": 189,
    "start_time": "2023-05-07T14:59:31.660Z"
   },
   {
    "duration": 232,
    "start_time": "2023-05-07T14:59:43.213Z"
   },
   {
    "duration": 249,
    "start_time": "2023-05-07T14:59:50.109Z"
   },
   {
    "duration": 172,
    "start_time": "2023-05-07T15:13:37.278Z"
   },
   {
    "duration": 298,
    "start_time": "2023-05-07T15:14:00.434Z"
   },
   {
    "duration": 124,
    "start_time": "2023-05-07T15:22:46.114Z"
   },
   {
    "duration": 187,
    "start_time": "2023-05-07T15:23:24.787Z"
   },
   {
    "duration": 227,
    "start_time": "2023-05-07T15:26:01.974Z"
   },
   {
    "duration": 2,
    "start_time": "2023-05-07T15:30:56.717Z"
   },
   {
    "duration": 17,
    "start_time": "2023-05-07T15:31:00.360Z"
   },
   {
    "duration": 135,
    "start_time": "2023-05-07T15:31:23.685Z"
   },
   {
    "duration": 24864,
    "start_time": "2023-05-07T15:33:55.530Z"
   },
   {
    "duration": 34,
    "start_time": "2023-05-07T15:35:52.166Z"
   },
   {
    "duration": 3,
    "start_time": "2023-05-07T15:36:44.988Z"
   },
   {
    "duration": 8,
    "start_time": "2023-05-07T15:37:53.323Z"
   },
   {
    "duration": 7,
    "start_time": "2023-05-07T15:37:59.001Z"
   },
   {
    "duration": 184,
    "start_time": "2023-05-07T15:38:15.215Z"
   },
   {
    "duration": 11,
    "start_time": "2023-05-07T15:40:46.077Z"
   },
   {
    "duration": 18,
    "start_time": "2023-05-07T15:40:57.832Z"
   },
   {
    "duration": 5,
    "start_time": "2023-05-07T15:42:06.908Z"
   },
   {
    "duration": 5,
    "start_time": "2023-05-07T15:42:10.072Z"
   },
   {
    "duration": 75,
    "start_time": "2023-05-07T15:43:17.264Z"
   },
   {
    "duration": 97,
    "start_time": "2023-05-07T15:43:22.568Z"
   },
   {
    "duration": 7,
    "start_time": "2023-05-07T15:44:12.617Z"
   },
   {
    "duration": 72,
    "start_time": "2023-05-07T15:44:36.589Z"
   },
   {
    "duration": 90,
    "start_time": "2023-05-07T15:45:05.322Z"
   },
   {
    "duration": 87,
    "start_time": "2023-05-07T15:47:30.314Z"
   },
   {
    "duration": 101,
    "start_time": "2023-05-07T15:51:53.877Z"
   },
   {
    "duration": 659,
    "start_time": "2023-05-07T15:52:04.131Z"
   },
   {
    "duration": 109,
    "start_time": "2023-05-07T15:52:08.995Z"
   },
   {
    "duration": 115,
    "start_time": "2023-05-07T15:52:18.808Z"
   },
   {
    "duration": 117,
    "start_time": "2023-05-07T15:52:28.624Z"
   },
   {
    "duration": 160,
    "start_time": "2023-05-07T15:58:12.963Z"
   },
   {
    "duration": 103,
    "start_time": "2023-05-07T15:59:23.515Z"
   },
   {
    "duration": 122,
    "start_time": "2023-05-07T16:01:14.096Z"
   },
   {
    "duration": 293,
    "start_time": "2023-05-07T16:11:54.418Z"
   },
   {
    "duration": 286,
    "start_time": "2023-05-07T16:13:01.707Z"
   },
   {
    "duration": 280,
    "start_time": "2023-05-07T16:13:09.182Z"
   },
   {
    "duration": 349,
    "start_time": "2023-05-07T16:13:13.659Z"
   },
   {
    "duration": 109,
    "start_time": "2023-05-07T16:13:30.368Z"
   },
   {
    "duration": 69,
    "start_time": "2023-05-07T16:13:35.962Z"
   },
   {
    "duration": 172,
    "start_time": "2023-05-07T16:13:47.161Z"
   },
   {
    "duration": 170,
    "start_time": "2023-05-07T16:13:52.797Z"
   },
   {
    "duration": 181,
    "start_time": "2023-05-07T16:14:11.861Z"
   },
   {
    "duration": 329,
    "start_time": "2023-05-07T16:19:25.664Z"
   },
   {
    "duration": 293,
    "start_time": "2023-05-07T16:33:11.211Z"
   },
   {
    "duration": 409,
    "start_time": "2023-05-07T16:33:23.788Z"
   },
   {
    "duration": 336,
    "start_time": "2023-05-07T16:33:54.461Z"
   },
   {
    "duration": 186,
    "start_time": "2023-05-07T16:35:13.621Z"
   },
   {
    "duration": 303,
    "start_time": "2023-05-07T16:37:07.814Z"
   },
   {
    "duration": 15,
    "start_time": "2023-05-07T16:38:48.276Z"
   },
   {
    "duration": 11,
    "start_time": "2023-05-07T16:39:08.268Z"
   },
   {
    "duration": 4,
    "start_time": "2023-05-07T17:01:36.109Z"
   },
   {
    "duration": 13,
    "start_time": "2023-05-07T17:02:17.283Z"
   },
   {
    "duration": 11,
    "start_time": "2023-05-07T17:02:33.000Z"
   },
   {
    "duration": 14,
    "start_time": "2023-05-07T17:03:16.568Z"
   },
   {
    "duration": 307,
    "start_time": "2023-05-07T17:05:10.122Z"
   },
   {
    "duration": 373,
    "start_time": "2023-05-07T17:05:21.976Z"
   },
   {
    "duration": 390,
    "start_time": "2023-05-07T17:05:27.294Z"
   },
   {
    "duration": 474,
    "start_time": "2023-05-07T17:05:54.436Z"
   },
   {
    "duration": 325,
    "start_time": "2023-05-07T17:06:17.065Z"
   },
   {
    "duration": 332,
    "start_time": "2023-05-07T17:06:30.383Z"
   },
   {
    "duration": 303,
    "start_time": "2023-05-07T17:06:40.004Z"
   },
   {
    "duration": 324,
    "start_time": "2023-05-07T17:07:40.916Z"
   },
   {
    "duration": 417,
    "start_time": "2023-05-07T17:08:05.574Z"
   },
   {
    "duration": 336,
    "start_time": "2023-05-07T17:08:53.876Z"
   },
   {
    "duration": 263,
    "start_time": "2023-05-07T17:09:11.414Z"
   },
   {
    "duration": 264,
    "start_time": "2023-05-07T17:09:14.834Z"
   },
   {
    "duration": 306,
    "start_time": "2023-05-07T17:09:27.013Z"
   },
   {
    "duration": 251,
    "start_time": "2023-05-07T17:09:32.685Z"
   },
   {
    "duration": 399,
    "start_time": "2023-05-07T17:10:32.867Z"
   },
   {
    "duration": 4,
    "start_time": "2023-05-07T17:46:12.261Z"
   },
   {
    "duration": 17,
    "start_time": "2023-05-07T17:46:28.115Z"
   },
   {
    "duration": 9,
    "start_time": "2023-05-07T17:48:39.984Z"
   },
   {
    "duration": 6,
    "start_time": "2023-05-07T17:55:57.665Z"
   },
   {
    "duration": 4,
    "start_time": "2023-05-07T17:56:16.578Z"
   },
   {
    "duration": 4,
    "start_time": "2023-05-07T19:12:05.303Z"
   },
   {
    "duration": 5,
    "start_time": "2023-05-07T19:13:35.119Z"
   },
   {
    "duration": 6,
    "start_time": "2023-05-07T19:14:00.618Z"
   },
   {
    "duration": 4,
    "start_time": "2023-05-07T19:21:52.391Z"
   },
   {
    "duration": 10,
    "start_time": "2023-05-07T19:53:26.520Z"
   },
   {
    "duration": 5,
    "start_time": "2023-05-07T19:53:38.423Z"
   },
   {
    "duration": 6,
    "start_time": "2023-05-07T19:53:52.101Z"
   },
   {
    "duration": 10,
    "start_time": "2023-05-07T19:54:19.664Z"
   },
   {
    "duration": 7,
    "start_time": "2023-05-07T19:54:37.778Z"
   },
   {
    "duration": 5,
    "start_time": "2023-05-07T20:02:22.771Z"
   },
   {
    "duration": 6,
    "start_time": "2023-05-07T20:06:21.751Z"
   },
   {
    "duration": 5,
    "start_time": "2023-05-07T21:05:31.415Z"
   },
   {
    "duration": 5,
    "start_time": "2023-05-07T21:06:32.093Z"
   },
   {
    "duration": 5,
    "start_time": "2023-05-07T21:07:05.096Z"
   },
   {
    "duration": 27,
    "start_time": "2023-05-07T21:23:12.277Z"
   },
   {
    "duration": 158,
    "start_time": "2023-05-07T21:24:37.226Z"
   },
   {
    "duration": 325,
    "start_time": "2023-05-07T21:24:53.060Z"
   },
   {
    "duration": 263,
    "start_time": "2023-05-07T21:25:23.350Z"
   },
   {
    "duration": 219,
    "start_time": "2023-05-07T21:25:43.304Z"
   },
   {
    "duration": 309,
    "start_time": "2023-05-07T21:26:39.203Z"
   },
   {
    "duration": 230,
    "start_time": "2023-05-07T21:30:12.431Z"
   },
   {
    "duration": 227,
    "start_time": "2023-05-07T21:32:11.763Z"
   },
   {
    "duration": 106,
    "start_time": "2023-05-07T21:34:25.166Z"
   },
   {
    "duration": 147,
    "start_time": "2023-05-07T21:37:44.205Z"
   },
   {
    "duration": 73,
    "start_time": "2023-05-07T21:37:48.836Z"
   },
   {
    "duration": 76,
    "start_time": "2023-05-07T21:38:11.665Z"
   },
   {
    "duration": 67,
    "start_time": "2023-05-07T21:38:32.724Z"
   },
   {
    "duration": 64,
    "start_time": "2023-05-07T21:40:26.843Z"
   },
   {
    "duration": 66,
    "start_time": "2023-05-07T21:40:56.969Z"
   },
   {
    "duration": 82,
    "start_time": "2023-05-07T21:41:06.611Z"
   },
   {
    "duration": 156,
    "start_time": "2023-05-07T21:41:12.518Z"
   },
   {
    "duration": 9,
    "start_time": "2023-05-07T21:42:08.290Z"
   },
   {
    "duration": 67,
    "start_time": "2023-05-07T21:42:22.759Z"
   },
   {
    "duration": 72,
    "start_time": "2023-05-07T21:42:54.694Z"
   },
   {
    "duration": 80,
    "start_time": "2023-05-07T21:43:00.580Z"
   },
   {
    "duration": 63,
    "start_time": "2023-05-07T21:43:49.309Z"
   },
   {
    "duration": 80,
    "start_time": "2023-05-07T21:44:16.921Z"
   },
   {
    "duration": 74,
    "start_time": "2023-05-07T21:44:30.726Z"
   },
   {
    "duration": 69,
    "start_time": "2023-05-07T21:49:22.094Z"
   },
   {
    "duration": 70,
    "start_time": "2023-05-07T21:52:37.538Z"
   },
   {
    "duration": 76,
    "start_time": "2023-05-07T21:53:08.592Z"
   },
   {
    "duration": 114,
    "start_time": "2023-05-07T21:58:38.343Z"
   },
   {
    "duration": 75,
    "start_time": "2023-05-07T21:58:46.045Z"
   },
   {
    "duration": 77,
    "start_time": "2023-05-07T22:02:15.664Z"
   },
   {
    "duration": 77,
    "start_time": "2023-05-07T22:02:20.591Z"
   },
   {
    "duration": 228,
    "start_time": "2023-05-07T22:02:48.455Z"
   },
   {
    "duration": 345,
    "start_time": "2023-05-07T22:03:22.936Z"
   },
   {
    "duration": 312,
    "start_time": "2023-05-07T22:04:21.401Z"
   },
   {
    "duration": 245,
    "start_time": "2023-05-07T22:04:33.257Z"
   },
   {
    "duration": 224,
    "start_time": "2023-05-07T22:04:38.753Z"
   },
   {
    "duration": 229,
    "start_time": "2023-05-07T22:04:43.873Z"
   },
   {
    "duration": 353,
    "start_time": "2023-05-07T22:06:31.244Z"
   },
   {
    "duration": 233,
    "start_time": "2023-05-07T22:08:35.672Z"
   },
   {
    "duration": 1117,
    "start_time": "2023-05-07T22:29:34.423Z"
   },
   {
    "duration": 63,
    "start_time": "2023-05-07T22:29:35.542Z"
   },
   {
    "duration": 11,
    "start_time": "2023-05-07T22:29:35.606Z"
   },
   {
    "duration": 14,
    "start_time": "2023-05-07T22:29:35.619Z"
   },
   {
    "duration": 29,
    "start_time": "2023-05-07T22:29:35.634Z"
   },
   {
    "duration": 24,
    "start_time": "2023-05-07T22:29:35.664Z"
   },
   {
    "duration": 10,
    "start_time": "2023-05-07T22:29:35.689Z"
   },
   {
    "duration": 28,
    "start_time": "2023-05-07T22:29:35.700Z"
   },
   {
    "duration": 26,
    "start_time": "2023-05-07T22:29:35.730Z"
   },
   {
    "duration": 7,
    "start_time": "2023-05-07T22:29:35.758Z"
   },
   {
    "duration": 20,
    "start_time": "2023-05-07T22:29:35.767Z"
   },
   {
    "duration": 6,
    "start_time": "2023-05-07T22:29:35.789Z"
   },
   {
    "duration": 6,
    "start_time": "2023-05-07T22:29:35.796Z"
   },
   {
    "duration": 6,
    "start_time": "2023-05-07T22:29:35.803Z"
   },
   {
    "duration": 7,
    "start_time": "2023-05-07T22:29:35.811Z"
   },
   {
    "duration": 16,
    "start_time": "2023-05-07T22:29:35.820Z"
   },
   {
    "duration": 13,
    "start_time": "2023-05-07T22:29:35.837Z"
   },
   {
    "duration": 17,
    "start_time": "2023-05-07T22:29:35.851Z"
   },
   {
    "duration": 4,
    "start_time": "2023-05-07T22:29:35.869Z"
   },
   {
    "duration": 28,
    "start_time": "2023-05-07T22:29:35.875Z"
   },
   {
    "duration": 7,
    "start_time": "2023-05-07T22:29:35.904Z"
   },
   {
    "duration": 29,
    "start_time": "2023-05-07T22:29:35.912Z"
   },
   {
    "duration": 9,
    "start_time": "2023-05-07T22:29:35.942Z"
   },
   {
    "duration": 175,
    "start_time": "2023-05-07T22:29:35.953Z"
   },
   {
    "duration": 8,
    "start_time": "2023-05-07T22:29:36.129Z"
   },
   {
    "duration": 100,
    "start_time": "2023-05-07T22:29:36.138Z"
   },
   {
    "duration": 6,
    "start_time": "2023-05-07T22:29:36.239Z"
   },
   {
    "duration": 247,
    "start_time": "2023-05-07T22:29:36.248Z"
   },
   {
    "duration": 7,
    "start_time": "2023-05-07T22:29:36.497Z"
   },
   {
    "duration": 254,
    "start_time": "2023-05-07T22:29:36.505Z"
   },
   {
    "duration": 8,
    "start_time": "2023-05-07T22:29:36.760Z"
   },
   {
    "duration": 233,
    "start_time": "2023-05-07T22:29:36.769Z"
   },
   {
    "duration": 7,
    "start_time": "2023-05-07T22:29:37.004Z"
   },
   {
    "duration": 26,
    "start_time": "2023-05-07T22:29:37.013Z"
   },
   {
    "duration": 11,
    "start_time": "2023-05-07T22:29:37.040Z"
   },
   {
    "duration": 8,
    "start_time": "2023-05-07T22:29:37.053Z"
   },
   {
    "duration": 5,
    "start_time": "2023-05-07T22:29:37.062Z"
   },
   {
    "duration": 6,
    "start_time": "2023-05-07T22:29:37.068Z"
   },
   {
    "duration": 6,
    "start_time": "2023-05-07T22:29:37.075Z"
   },
   {
    "duration": 4,
    "start_time": "2023-05-07T22:29:37.084Z"
   },
   {
    "duration": 9,
    "start_time": "2023-05-07T22:29:37.090Z"
   },
   {
    "duration": 35,
    "start_time": "2023-05-07T22:29:37.100Z"
   },
   {
    "duration": 8,
    "start_time": "2023-05-07T22:29:37.937Z"
   },
   {
    "duration": 12,
    "start_time": "2023-05-07T22:29:37.948Z"
   },
   {
    "duration": 7,
    "start_time": "2023-05-07T22:29:37.961Z"
   },
   {
    "duration": 21,
    "start_time": "2023-05-07T22:29:37.970Z"
   },
   {
    "duration": 344,
    "start_time": "2023-05-07T22:29:37.993Z"
   },
   {
    "duration": 280,
    "start_time": "2023-05-07T22:29:38.339Z"
   },
   {
    "duration": 248,
    "start_time": "2023-05-07T22:29:38.621Z"
   },
   {
    "duration": 7,
    "start_time": "2023-05-07T22:29:38.871Z"
   },
   {
    "duration": 24,
    "start_time": "2023-05-07T22:29:38.879Z"
   },
   {
    "duration": 255,
    "start_time": "2023-05-07T22:29:38.904Z"
   },
   {
    "duration": 239,
    "start_time": "2023-05-07T22:29:39.161Z"
   },
   {
    "duration": 317,
    "start_time": "2023-05-07T22:29:39.402Z"
   },
   {
    "duration": 15,
    "start_time": "2023-05-07T22:29:39.721Z"
   },
   {
    "duration": 7,
    "start_time": "2023-05-07T22:29:39.738Z"
   },
   {
    "duration": 3,
    "start_time": "2023-05-07T22:29:39.746Z"
   },
   {
    "duration": 33,
    "start_time": "2023-05-07T22:29:39.750Z"
   },
   {
    "duration": 148,
    "start_time": "2023-05-07T22:29:39.784Z"
   },
   {
    "duration": 11,
    "start_time": "2023-05-07T22:29:39.935Z"
   },
   {
    "duration": 9,
    "start_time": "2023-05-07T22:29:39.947Z"
   },
   {
    "duration": 9,
    "start_time": "2023-05-07T22:29:39.957Z"
   },
   {
    "duration": 7,
    "start_time": "2023-05-07T22:29:39.967Z"
   },
   {
    "duration": 4,
    "start_time": "2023-05-07T22:29:39.975Z"
   },
   {
    "duration": 8,
    "start_time": "2023-05-07T22:29:40.477Z"
   },
   {
    "duration": 6,
    "start_time": "2023-05-07T22:29:40.488Z"
   },
   {
    "duration": 6,
    "start_time": "2023-05-07T22:29:40.495Z"
   },
   {
    "duration": 5,
    "start_time": "2023-05-07T22:32:30.286Z"
   },
   {
    "duration": 3,
    "start_time": "2023-05-07T22:32:44.065Z"
   },
   {
    "duration": 5,
    "start_time": "2023-05-07T22:58:21.231Z"
   },
   {
    "duration": 1383,
    "start_time": "2023-05-08T19:56:38.037Z"
   },
   {
    "duration": 318,
    "start_time": "2023-05-08T19:56:39.423Z"
   },
   {
    "duration": 15,
    "start_time": "2023-05-08T19:56:39.743Z"
   },
   {
    "duration": 12,
    "start_time": "2023-05-08T19:56:39.760Z"
   },
   {
    "duration": 20,
    "start_time": "2023-05-08T19:56:39.774Z"
   },
   {
    "duration": 16,
    "start_time": "2023-05-08T19:56:39.796Z"
   },
   {
    "duration": 28,
    "start_time": "2023-05-08T19:56:39.814Z"
   },
   {
    "duration": 10,
    "start_time": "2023-05-08T19:56:39.844Z"
   },
   {
    "duration": 13,
    "start_time": "2023-05-08T19:56:39.856Z"
   },
   {
    "duration": 11,
    "start_time": "2023-05-08T19:56:39.871Z"
   },
   {
    "duration": 21,
    "start_time": "2023-05-08T19:56:39.884Z"
   },
   {
    "duration": 7,
    "start_time": "2023-05-08T19:56:39.907Z"
   },
   {
    "duration": 27,
    "start_time": "2023-05-08T19:56:39.915Z"
   },
   {
    "duration": 10,
    "start_time": "2023-05-08T19:56:39.944Z"
   },
   {
    "duration": 13,
    "start_time": "2023-05-08T19:56:39.955Z"
   },
   {
    "duration": 10,
    "start_time": "2023-05-08T19:56:39.970Z"
   },
   {
    "duration": 11,
    "start_time": "2023-05-08T19:56:39.982Z"
   },
   {
    "duration": 9,
    "start_time": "2023-05-08T19:56:39.995Z"
   },
   {
    "duration": 13,
    "start_time": "2023-05-08T19:56:40.006Z"
   },
   {
    "duration": 43,
    "start_time": "2023-05-08T19:56:40.021Z"
   },
   {
    "duration": 16,
    "start_time": "2023-05-08T19:56:40.065Z"
   },
   {
    "duration": 23,
    "start_time": "2023-05-08T19:56:40.083Z"
   },
   {
    "duration": 9,
    "start_time": "2023-05-08T19:56:40.108Z"
   },
   {
    "duration": 211,
    "start_time": "2023-05-08T19:56:40.119Z"
   },
   {
    "duration": 10,
    "start_time": "2023-05-08T19:56:40.331Z"
   },
   {
    "duration": 100,
    "start_time": "2023-05-08T19:56:40.343Z"
   },
   {
    "duration": 8,
    "start_time": "2023-05-08T19:56:40.444Z"
   },
   {
    "duration": 265,
    "start_time": "2023-05-08T19:56:40.455Z"
   },
   {
    "duration": 8,
    "start_time": "2023-05-08T19:56:40.722Z"
   },
   {
    "duration": 262,
    "start_time": "2023-05-08T19:56:40.741Z"
   },
   {
    "duration": 8,
    "start_time": "2023-05-08T19:56:41.005Z"
   },
   {
    "duration": 286,
    "start_time": "2023-05-08T19:56:41.015Z"
   },
   {
    "duration": 9,
    "start_time": "2023-05-08T19:56:41.303Z"
   },
   {
    "duration": 27,
    "start_time": "2023-05-08T19:56:41.314Z"
   },
   {
    "duration": 15,
    "start_time": "2023-05-08T19:56:41.343Z"
   },
   {
    "duration": 10,
    "start_time": "2023-05-08T19:56:41.359Z"
   },
   {
    "duration": 12,
    "start_time": "2023-05-08T19:56:41.371Z"
   },
   {
    "duration": 7,
    "start_time": "2023-05-08T19:56:41.385Z"
   },
   {
    "duration": 6,
    "start_time": "2023-05-08T19:56:41.393Z"
   },
   {
    "duration": 11,
    "start_time": "2023-05-08T19:56:41.401Z"
   },
   {
    "duration": 13,
    "start_time": "2023-05-08T19:56:41.414Z"
   },
   {
    "duration": 15,
    "start_time": "2023-05-08T19:56:41.429Z"
   },
   {
    "duration": 103,
    "start_time": "2023-05-08T19:56:41.445Z"
   },
   {
    "duration": 13,
    "start_time": "2023-05-08T19:56:41.550Z"
   },
   {
    "duration": 15,
    "start_time": "2023-05-08T19:56:41.564Z"
   },
   {
    "duration": 16,
    "start_time": "2023-05-08T19:56:41.581Z"
   },
   {
    "duration": 293,
    "start_time": "2023-05-08T19:56:41.598Z"
   },
   {
    "duration": 291,
    "start_time": "2023-05-08T19:56:41.893Z"
   },
   {
    "duration": 269,
    "start_time": "2023-05-08T19:56:42.186Z"
   },
   {
    "duration": 9,
    "start_time": "2023-05-08T19:56:42.457Z"
   },
   {
    "duration": 15,
    "start_time": "2023-05-08T19:56:42.467Z"
   },
   {
    "duration": 293,
    "start_time": "2023-05-08T19:56:42.484Z"
   },
   {
    "duration": 262,
    "start_time": "2023-05-08T19:56:42.779Z"
   },
   {
    "duration": 385,
    "start_time": "2023-05-08T19:56:43.043Z"
   },
   {
    "duration": 16,
    "start_time": "2023-05-08T19:56:43.429Z"
   },
   {
    "duration": 10,
    "start_time": "2023-05-08T19:56:43.446Z"
   },
   {
    "duration": 3,
    "start_time": "2023-05-08T19:56:43.457Z"
   },
   {
    "duration": 32,
    "start_time": "2023-05-08T19:56:43.462Z"
   },
   {
    "duration": 165,
    "start_time": "2023-05-08T19:56:43.496Z"
   },
   {
    "duration": 11,
    "start_time": "2023-05-08T19:56:43.663Z"
   },
   {
    "duration": 35,
    "start_time": "2023-05-08T19:56:43.675Z"
   },
   {
    "duration": 10,
    "start_time": "2023-05-08T19:56:43.711Z"
   },
   {
    "duration": 5,
    "start_time": "2023-05-08T19:56:43.723Z"
   },
   {
    "duration": 9,
    "start_time": "2023-05-08T19:56:43.730Z"
   },
   {
    "duration": 9,
    "start_time": "2023-05-08T19:56:43.740Z"
   },
   {
    "duration": 6,
    "start_time": "2023-05-08T19:56:43.751Z"
   },
   {
    "duration": 8,
    "start_time": "2023-05-08T19:56:43.759Z"
   },
   {
    "duration": 191,
    "start_time": "2023-05-08T20:00:42.756Z"
   },
   {
    "duration": 79,
    "start_time": "2023-05-08T20:01:26.909Z"
   },
   {
    "duration": 84,
    "start_time": "2023-05-08T20:01:31.018Z"
   },
   {
    "duration": 105,
    "start_time": "2023-05-08T20:02:12.228Z"
   },
   {
    "duration": 74,
    "start_time": "2023-05-08T20:04:11.528Z"
   },
   {
    "duration": 170,
    "start_time": "2023-05-08T20:04:18.146Z"
   },
   {
    "duration": 107,
    "start_time": "2023-05-08T20:23:35.425Z"
   },
   {
    "duration": 187,
    "start_time": "2023-05-08T20:24:00.602Z"
   },
   {
    "duration": 98,
    "start_time": "2023-05-08T20:24:15.474Z"
   },
   {
    "duration": 81,
    "start_time": "2023-05-08T20:24:23.555Z"
   },
   {
    "duration": 90,
    "start_time": "2023-05-08T20:24:31.267Z"
   },
   {
    "duration": 1312,
    "start_time": "2023-05-08T20:24:38.686Z"
   },
   {
    "duration": 72,
    "start_time": "2023-05-08T20:24:40.000Z"
   },
   {
    "duration": 15,
    "start_time": "2023-05-08T20:24:40.074Z"
   },
   {
    "duration": 18,
    "start_time": "2023-05-08T20:24:40.091Z"
   },
   {
    "duration": 25,
    "start_time": "2023-05-08T20:24:40.111Z"
   },
   {
    "duration": 22,
    "start_time": "2023-05-08T20:24:40.138Z"
   },
   {
    "duration": 9,
    "start_time": "2023-05-08T20:24:40.162Z"
   },
   {
    "duration": 21,
    "start_time": "2023-05-08T20:24:40.173Z"
   },
   {
    "duration": 16,
    "start_time": "2023-05-08T20:24:40.196Z"
   },
   {
    "duration": 22,
    "start_time": "2023-05-08T20:24:40.215Z"
   },
   {
    "duration": 20,
    "start_time": "2023-05-08T20:24:40.239Z"
   },
   {
    "duration": 17,
    "start_time": "2023-05-08T20:24:40.260Z"
   },
   {
    "duration": 16,
    "start_time": "2023-05-08T20:24:40.279Z"
   },
   {
    "duration": 14,
    "start_time": "2023-05-08T20:24:40.297Z"
   },
   {
    "duration": 11,
    "start_time": "2023-05-08T20:24:40.312Z"
   },
   {
    "duration": 23,
    "start_time": "2023-05-08T20:24:40.325Z"
   },
   {
    "duration": 13,
    "start_time": "2023-05-08T20:24:40.350Z"
   },
   {
    "duration": 8,
    "start_time": "2023-05-08T20:24:40.365Z"
   },
   {
    "duration": 20,
    "start_time": "2023-05-08T20:24:40.375Z"
   },
   {
    "duration": 30,
    "start_time": "2023-05-08T20:24:40.397Z"
   },
   {
    "duration": 13,
    "start_time": "2023-05-08T20:24:40.428Z"
   },
   {
    "duration": 24,
    "start_time": "2023-05-08T20:24:40.443Z"
   },
   {
    "duration": 27,
    "start_time": "2023-05-08T20:24:40.468Z"
   },
   {
    "duration": 199,
    "start_time": "2023-05-08T20:24:40.497Z"
   },
   {
    "duration": 6,
    "start_time": "2023-05-08T20:24:40.698Z"
   },
   {
    "duration": 105,
    "start_time": "2023-05-08T20:24:40.706Z"
   },
   {
    "duration": 100,
    "start_time": "2023-05-08T20:24:40.814Z"
   },
   {
    "duration": 8,
    "start_time": "2023-05-08T20:24:40.919Z"
   },
   {
    "duration": 295,
    "start_time": "2023-05-08T20:24:40.928Z"
   },
   {
    "duration": 17,
    "start_time": "2023-05-08T20:24:41.225Z"
   },
   {
    "duration": 292,
    "start_time": "2023-05-08T20:24:41.244Z"
   },
   {
    "duration": 9,
    "start_time": "2023-05-08T20:24:41.538Z"
   },
   {
    "duration": 392,
    "start_time": "2023-05-08T20:24:41.549Z"
   },
   {
    "duration": 10,
    "start_time": "2023-05-08T20:24:41.942Z"
   },
   {
    "duration": 16,
    "start_time": "2023-05-08T20:24:41.953Z"
   },
   {
    "duration": 12,
    "start_time": "2023-05-08T20:24:41.971Z"
   },
   {
    "duration": 11,
    "start_time": "2023-05-08T20:24:41.985Z"
   },
   {
    "duration": 17,
    "start_time": "2023-05-08T20:24:41.997Z"
   },
   {
    "duration": 31,
    "start_time": "2023-05-08T20:24:42.016Z"
   },
   {
    "duration": 13,
    "start_time": "2023-05-08T20:24:42.050Z"
   },
   {
    "duration": 19,
    "start_time": "2023-05-08T20:24:42.065Z"
   },
   {
    "duration": 24,
    "start_time": "2023-05-08T20:24:42.086Z"
   },
   {
    "duration": 12,
    "start_time": "2023-05-08T20:24:42.112Z"
   },
   {
    "duration": 30,
    "start_time": "2023-05-08T20:24:42.125Z"
   },
   {
    "duration": 41,
    "start_time": "2023-05-08T20:24:42.157Z"
   },
   {
    "duration": 43,
    "start_time": "2023-05-08T20:24:42.199Z"
   },
   {
    "duration": 25,
    "start_time": "2023-05-08T20:24:42.243Z"
   },
   {
    "duration": 298,
    "start_time": "2023-05-08T20:24:42.270Z"
   },
   {
    "duration": 314,
    "start_time": "2023-05-08T20:24:42.569Z"
   },
   {
    "duration": 287,
    "start_time": "2023-05-08T20:24:42.885Z"
   },
   {
    "duration": 9,
    "start_time": "2023-05-08T20:24:43.173Z"
   },
   {
    "duration": 21,
    "start_time": "2023-05-08T20:24:43.184Z"
   },
   {
    "duration": 337,
    "start_time": "2023-05-08T20:24:43.210Z"
   },
   {
    "duration": 290,
    "start_time": "2023-05-08T20:24:43.549Z"
   },
   {
    "duration": 426,
    "start_time": "2023-05-08T20:24:43.841Z"
   },
   {
    "duration": 11,
    "start_time": "2023-05-08T20:24:44.269Z"
   },
   {
    "duration": 14,
    "start_time": "2023-05-08T20:24:44.281Z"
   },
   {
    "duration": 11,
    "start_time": "2023-05-08T20:24:44.297Z"
   },
   {
    "duration": 53,
    "start_time": "2023-05-08T20:24:44.309Z"
   },
   {
    "duration": 157,
    "start_time": "2023-05-08T20:24:44.364Z"
   },
   {
    "duration": 18,
    "start_time": "2023-05-08T20:24:44.523Z"
   },
   {
    "duration": 24,
    "start_time": "2023-05-08T20:24:44.543Z"
   },
   {
    "duration": 27,
    "start_time": "2023-05-08T20:24:44.569Z"
   },
   {
    "duration": 16,
    "start_time": "2023-05-08T20:24:44.598Z"
   },
   {
    "duration": 26,
    "start_time": "2023-05-08T20:24:44.616Z"
   },
   {
    "duration": 10,
    "start_time": "2023-05-08T20:24:44.644Z"
   },
   {
    "duration": 23,
    "start_time": "2023-05-08T20:24:44.656Z"
   },
   {
    "duration": 16,
    "start_time": "2023-05-08T20:24:44.680Z"
   },
   {
    "duration": 7,
    "start_time": "2023-05-08T20:31:54.205Z"
   },
   {
    "duration": 7,
    "start_time": "2023-05-08T20:32:54.526Z"
   },
   {
    "duration": 1290,
    "start_time": "2023-05-09T13:04:21.960Z"
   },
   {
    "duration": 105,
    "start_time": "2023-05-09T13:22:14.937Z"
   },
   {
    "duration": 1210,
    "start_time": "2023-05-09T13:22:24.877Z"
   },
   {
    "duration": 330,
    "start_time": "2023-05-09T13:22:26.089Z"
   },
   {
    "duration": 11,
    "start_time": "2023-05-09T13:22:26.421Z"
   },
   {
    "duration": 22,
    "start_time": "2023-05-09T13:22:26.434Z"
   },
   {
    "duration": 36,
    "start_time": "2023-05-09T13:22:26.458Z"
   },
   {
    "duration": 26,
    "start_time": "2023-05-09T13:22:26.496Z"
   },
   {
    "duration": 8,
    "start_time": "2023-05-09T13:22:26.524Z"
   },
   {
    "duration": 25,
    "start_time": "2023-05-09T13:22:26.535Z"
   },
   {
    "duration": 16,
    "start_time": "2023-05-09T13:22:26.561Z"
   },
   {
    "duration": 15,
    "start_time": "2023-05-09T13:22:26.580Z"
   },
   {
    "duration": 23,
    "start_time": "2023-05-09T13:22:26.596Z"
   },
   {
    "duration": 11,
    "start_time": "2023-05-09T13:22:26.620Z"
   },
   {
    "duration": 7,
    "start_time": "2023-05-09T13:22:26.633Z"
   },
   {
    "duration": 13,
    "start_time": "2023-05-09T13:22:26.642Z"
   },
   {
    "duration": 34,
    "start_time": "2023-05-09T13:22:26.657Z"
   },
   {
    "duration": 22,
    "start_time": "2023-05-09T13:22:26.692Z"
   },
   {
    "duration": 41,
    "start_time": "2023-05-09T13:22:26.716Z"
   },
   {
    "duration": 53,
    "start_time": "2023-05-09T13:22:26.758Z"
   },
   {
    "duration": 31,
    "start_time": "2023-05-09T13:22:26.814Z"
   },
   {
    "duration": 45,
    "start_time": "2023-05-09T13:22:26.847Z"
   },
   {
    "duration": 42,
    "start_time": "2023-05-09T13:22:26.894Z"
   },
   {
    "duration": 58,
    "start_time": "2023-05-09T13:22:26.938Z"
   },
   {
    "duration": 29,
    "start_time": "2023-05-09T13:22:27.000Z"
   },
   {
    "duration": 217,
    "start_time": "2023-05-09T13:22:27.032Z"
   },
   {
    "duration": 5,
    "start_time": "2023-05-09T13:22:27.250Z"
   },
   {
    "duration": 95,
    "start_time": "2023-05-09T13:22:27.257Z"
   },
   {
    "duration": 83,
    "start_time": "2023-05-09T13:22:27.354Z"
   },
   {
    "duration": 6,
    "start_time": "2023-05-09T13:22:27.441Z"
   },
   {
    "duration": 269,
    "start_time": "2023-05-09T13:22:27.448Z"
   },
   {
    "duration": 15,
    "start_time": "2023-05-09T13:22:27.718Z"
   },
   {
    "duration": 311,
    "start_time": "2023-05-09T13:22:27.735Z"
   },
   {
    "duration": 10,
    "start_time": "2023-05-09T13:22:28.048Z"
   },
   {
    "duration": 345,
    "start_time": "2023-05-09T13:22:28.061Z"
   },
   {
    "duration": 8,
    "start_time": "2023-05-09T13:22:28.408Z"
   },
   {
    "duration": 26,
    "start_time": "2023-05-09T13:22:28.417Z"
   },
   {
    "duration": 11,
    "start_time": "2023-05-09T13:22:28.444Z"
   },
   {
    "duration": 6,
    "start_time": "2023-05-09T13:22:28.456Z"
   },
   {
    "duration": 5,
    "start_time": "2023-05-09T13:22:28.464Z"
   },
   {
    "duration": 12,
    "start_time": "2023-05-09T13:22:28.470Z"
   },
   {
    "duration": 9,
    "start_time": "2023-05-09T13:22:28.483Z"
   },
   {
    "duration": 5,
    "start_time": "2023-05-09T13:22:28.494Z"
   },
   {
    "duration": 10,
    "start_time": "2023-05-09T13:22:28.501Z"
   },
   {
    "duration": 5,
    "start_time": "2023-05-09T13:22:28.512Z"
   },
   {
    "duration": 8,
    "start_time": "2023-05-09T13:22:28.532Z"
   },
   {
    "duration": 11,
    "start_time": "2023-05-09T13:22:28.541Z"
   },
   {
    "duration": 13,
    "start_time": "2023-05-09T13:22:28.554Z"
   },
   {
    "duration": 17,
    "start_time": "2023-05-09T13:22:28.568Z"
   },
   {
    "duration": 271,
    "start_time": "2023-05-09T13:22:28.587Z"
   },
   {
    "duration": 298,
    "start_time": "2023-05-09T13:22:28.859Z"
   },
   {
    "duration": 253,
    "start_time": "2023-05-09T13:22:29.158Z"
   },
   {
    "duration": 8,
    "start_time": "2023-05-09T13:22:29.413Z"
   },
   {
    "duration": 20,
    "start_time": "2023-05-09T13:22:29.422Z"
   },
   {
    "duration": 272,
    "start_time": "2023-05-09T13:22:29.444Z"
   },
   {
    "duration": 265,
    "start_time": "2023-05-09T13:22:29.717Z"
   },
   {
    "duration": 389,
    "start_time": "2023-05-09T13:22:29.983Z"
   },
   {
    "duration": 9,
    "start_time": "2023-05-09T13:22:30.374Z"
   },
   {
    "duration": 27,
    "start_time": "2023-05-09T13:22:30.385Z"
   },
   {
    "duration": 36,
    "start_time": "2023-05-09T13:22:30.413Z"
   },
   {
    "duration": 101,
    "start_time": "2023-05-09T13:22:30.453Z"
   },
   {
    "duration": 216,
    "start_time": "2023-05-09T13:22:30.556Z"
   },
   {
    "duration": 12,
    "start_time": "2023-05-09T13:22:30.773Z"
   },
   {
    "duration": 49,
    "start_time": "2023-05-09T13:22:30.787Z"
   },
   {
    "duration": 32,
    "start_time": "2023-05-09T13:22:30.838Z"
   },
   {
    "duration": 57,
    "start_time": "2023-05-09T13:22:30.872Z"
   },
   {
    "duration": 55,
    "start_time": "2023-05-09T13:22:30.931Z"
   },
   {
    "duration": 41,
    "start_time": "2023-05-09T13:22:30.988Z"
   },
   {
    "duration": 30,
    "start_time": "2023-05-09T13:22:31.030Z"
   },
   {
    "duration": 25,
    "start_time": "2023-05-09T13:22:31.063Z"
   },
   {
    "duration": 74,
    "start_time": "2023-06-23T12:01:55.464Z"
   },
   {
    "duration": 1246,
    "start_time": "2023-06-23T12:02:00.867Z"
   },
   {
    "duration": 216,
    "start_time": "2023-06-23T12:02:02.115Z"
   },
   {
    "duration": 14,
    "start_time": "2023-06-23T12:02:02.333Z"
   },
   {
    "duration": 143,
    "start_time": "2023-06-23T12:02:02.349Z"
   },
   {
    "duration": 53,
    "start_time": "2023-06-23T12:02:02.494Z"
   },
   {
    "duration": 32,
    "start_time": "2023-06-23T12:02:02.549Z"
   },
   {
    "duration": 12,
    "start_time": "2023-06-23T12:02:02.584Z"
   },
   {
    "duration": 35,
    "start_time": "2023-06-23T12:02:02.598Z"
   },
   {
    "duration": 26,
    "start_time": "2023-06-23T12:02:02.634Z"
   },
   {
    "duration": 33,
    "start_time": "2023-06-23T12:02:02.662Z"
   },
   {
    "duration": 42,
    "start_time": "2023-06-23T12:02:02.697Z"
   },
   {
    "duration": 15,
    "start_time": "2023-06-23T12:02:02.740Z"
   },
   {
    "duration": 13,
    "start_time": "2023-06-23T12:02:02.756Z"
   },
   {
    "duration": 19,
    "start_time": "2023-06-23T12:02:02.772Z"
   },
   {
    "duration": 34,
    "start_time": "2023-06-23T12:02:02.793Z"
   },
   {
    "duration": 6,
    "start_time": "2023-06-23T12:02:02.828Z"
   },
   {
    "duration": 45,
    "start_time": "2023-06-23T12:02:02.836Z"
   },
   {
    "duration": 48,
    "start_time": "2023-06-23T12:02:02.883Z"
   },
   {
    "duration": 5,
    "start_time": "2023-06-23T12:02:02.933Z"
   },
   {
    "duration": 30,
    "start_time": "2023-06-23T12:02:02.940Z"
   },
   {
    "duration": 9,
    "start_time": "2023-06-23T12:02:02.972Z"
   },
   {
    "duration": 48,
    "start_time": "2023-06-23T12:02:02.982Z"
   },
   {
    "duration": 31,
    "start_time": "2023-06-23T12:02:03.032Z"
   },
   {
    "duration": 33,
    "start_time": "2023-06-23T12:02:03.064Z"
   },
   {
    "duration": 236,
    "start_time": "2023-06-23T12:02:03.099Z"
   },
   {
    "duration": 6,
    "start_time": "2023-06-23T12:02:03.336Z"
   },
   {
    "duration": 88,
    "start_time": "2023-06-23T12:02:03.344Z"
   },
   {
    "duration": 91,
    "start_time": "2023-06-23T12:02:03.434Z"
   },
   {
    "duration": 6,
    "start_time": "2023-06-23T12:02:03.526Z"
   },
   {
    "duration": 247,
    "start_time": "2023-06-23T12:02:03.533Z"
   },
   {
    "duration": 7,
    "start_time": "2023-06-23T12:02:03.781Z"
   },
   {
    "duration": 267,
    "start_time": "2023-06-23T12:02:03.789Z"
   },
   {
    "duration": 7,
    "start_time": "2023-06-23T12:02:04.057Z"
   },
   {
    "duration": 298,
    "start_time": "2023-06-23T12:02:04.066Z"
   },
   {
    "duration": 7,
    "start_time": "2023-06-23T12:02:04.366Z"
   },
   {
    "duration": 29,
    "start_time": "2023-06-23T12:02:04.375Z"
   },
   {
    "duration": 15,
    "start_time": "2023-06-23T12:02:04.406Z"
   },
   {
    "duration": 21,
    "start_time": "2023-06-23T12:02:04.423Z"
   },
   {
    "duration": 21,
    "start_time": "2023-06-23T12:02:04.446Z"
   },
   {
    "duration": 22,
    "start_time": "2023-06-23T12:02:04.469Z"
   },
   {
    "duration": 42,
    "start_time": "2023-06-23T12:02:04.497Z"
   },
   {
    "duration": 15,
    "start_time": "2023-06-23T12:02:04.541Z"
   },
   {
    "duration": 26,
    "start_time": "2023-06-23T12:02:04.557Z"
   },
   {
    "duration": 11,
    "start_time": "2023-06-23T12:02:04.585Z"
   },
   {
    "duration": 21,
    "start_time": "2023-06-23T12:02:04.598Z"
   },
   {
    "duration": 20,
    "start_time": "2023-06-23T12:02:04.621Z"
   },
   {
    "duration": 15,
    "start_time": "2023-06-23T12:02:04.642Z"
   },
   {
    "duration": 16,
    "start_time": "2023-06-23T12:02:04.659Z"
   },
   {
    "duration": 272,
    "start_time": "2023-06-23T12:02:04.677Z"
   },
   {
    "duration": 266,
    "start_time": "2023-06-23T12:02:04.950Z"
   },
   {
    "duration": 259,
    "start_time": "2023-06-23T12:02:05.217Z"
   },
   {
    "duration": 7,
    "start_time": "2023-06-23T12:02:05.477Z"
   },
   {
    "duration": 19,
    "start_time": "2023-06-23T12:02:05.485Z"
   },
   {
    "duration": 290,
    "start_time": "2023-06-23T12:02:05.505Z"
   },
   {
    "duration": 293,
    "start_time": "2023-06-23T12:02:05.813Z"
   },
   {
    "duration": 327,
    "start_time": "2023-06-23T12:02:06.108Z"
   },
   {
    "duration": 7,
    "start_time": "2023-06-23T12:02:06.436Z"
   },
   {
    "duration": 42,
    "start_time": "2023-06-23T12:02:06.444Z"
   },
   {
    "duration": 18,
    "start_time": "2023-06-23T12:02:06.487Z"
   },
   {
    "duration": 53,
    "start_time": "2023-06-23T12:02:06.507Z"
   },
   {
    "duration": 165,
    "start_time": "2023-06-23T12:02:06.561Z"
   },
   {
    "duration": 9,
    "start_time": "2023-06-23T12:02:06.728Z"
   },
   {
    "duration": 40,
    "start_time": "2023-06-23T12:02:06.739Z"
   },
   {
    "duration": 43,
    "start_time": "2023-06-23T12:02:06.781Z"
   },
   {
    "duration": 17,
    "start_time": "2023-06-23T12:02:06.826Z"
   },
   {
    "duration": 20,
    "start_time": "2023-06-23T12:02:06.845Z"
   },
   {
    "duration": 22,
    "start_time": "2023-06-23T12:02:06.867Z"
   },
   {
    "duration": 41,
    "start_time": "2023-06-23T12:02:06.891Z"
   },
   {
    "duration": 17,
    "start_time": "2023-06-23T12:02:06.934Z"
   }
  ],
  "kernelspec": {
   "display_name": "Python 3 (ipykernel)",
   "language": "python",
   "name": "python3"
  },
  "language_info": {
   "codemirror_mode": {
    "name": "ipython",
    "version": 3
   },
   "file_extension": ".py",
   "mimetype": "text/x-python",
   "name": "python",
   "nbconvert_exporter": "python",
   "pygments_lexer": "ipython3",
   "version": "3.11.5"
  },
  "toc": {
   "base_numbering": 1,
   "nav_menu": {
    "height": "437.441px",
    "width": "355.859px"
   },
   "number_sections": true,
   "sideBar": true,
   "skip_h1_title": true,
   "title_cell": "Содержание",
   "title_sidebar": "Contents",
   "toc_cell": true,
   "toc_position": {
    "height": "calc(100% - 180px)",
    "left": "10px",
    "top": "150px",
    "width": "342.431px"
   },
   "toc_section_display": true,
   "toc_window_display": false
  },
  "widgets": {
   "application/vnd.jupyter.widget-state+json": {
    "state": {},
    "version_major": 2,
    "version_minor": 0
   }
  }
 },
 "nbformat": 4,
 "nbformat_minor": 5
}

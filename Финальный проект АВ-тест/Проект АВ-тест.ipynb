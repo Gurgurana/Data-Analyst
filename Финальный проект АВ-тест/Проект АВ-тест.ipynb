{
 "cells": [
  {
   "cell_type": "markdown",
   "metadata": {},
   "source": [
    "# Проект по А/B-тестированию"
   ]
  },
  {
   "cell_type": "markdown",
   "metadata": {},
   "source": [
    "# Цели исследования:\n",
    "- Провести оценку результатов A/B-теста.\n",
    "- Оценить корректность проведения теста и проанализируйте его результаты.\\"
   ]
  },
  {
   "cell_type": "markdown",
   "metadata": {},
   "source": [
    "# Описание проекта\n",
    "В распоряжении есть датасет с действиями пользователей, техническое задание и несколько вспомогательных датасетов.\n",
    "Необходимо оценить корректность проведения теста и проанализировать его результаты."
   ]
  },
  {
   "cell_type": "markdown",
   "metadata": {},
   "source": [
    "# Описание данных:\n",
    "\n",
    "**/datasets/ab_project_marketing_events.csv** — календарь маркетинговых событий на 2020 год;\\\n",
    "Структура файла: \\\n",
    "- name — название маркетингового события;\n",
    "- regions — регионы, в которых будет проводиться рекламная кампания;\n",
    "- start_dt — дата начала кампании;\n",
    "- finish_dt — дата завершения кампании.\n",
    "\n",
    "**/datasets/final_ab_new_users.csv** — все пользователи, зарегистрировавшиеся в интернет-магазине в период с 7 по 21 декабря 2020 года;\\\n",
    "Структура файла:\n",
    "- user_id — идентификатор пользователя;\n",
    "- first_date — дата регистрации;\n",
    "- region — регион пользователя;\n",
    "- device — устройство, с которого происходила регистрация.\n",
    "\n",
    "**/datasets/final_ab_events.csv** — все события новых пользователей в период с 7 декабря 2020 по 4 января 2021 года;\\\n",
    "Структура файла:\n",
    "- user_id — идентификатор пользователя;\n",
    "- event_dt — дата и время события;\n",
    "- event_name — тип события;\n",
    "- details — дополнительные данные о событии. Например, для покупок, purchase, в этом поле хранится стоимость покупки в долларах.\n",
    "\n",
    "**/datasets/final_ab_participants.csv** — таблица участников тестов.\\\n",
    "Структура файла:\n",
    "- user_id — идентификатор пользователя;\n",
    "- ab_test — название теста;\n",
    "- group — группа пользователя."
   ]
  },
  {
   "cell_type": "markdown",
   "metadata": {},
   "source": [
    "# Техническое задание:\n",
    "Название теста: **recommender_system_test**;\\\n",
    "Группы: \n",
    "- А (контрольная), \n",
    "- B (новая платёжная воронка);\n",
    "Дата запуска: 2020-12-07\\\n",
    "Дата остановки набора новых пользователей: 2020-12-21;\\\n",
    "Дата остановки: 2021-01-04;\n",
    "\n",
    "Ожидаемое количество участников теста: 15% новых пользователей из региона EU;\n",
    "\n",
    "Назначение теста: тестирование изменений, связанных с внедрением улучшенной рекомендательной системы;\n",
    "\n",
    "\n",
    "Ожидаемый эффект: за 14 дней с момента регистрации в системе пользователи покажут улучшение каждой метрики не менее, чем на 5 процентных пунктов:\n",
    "\n",
    "- конверсии в просмотр карточек товаров — событие product_page\n",
    "- просмотры корзины — product_cart\n",
    "- покупки — purchase.\n",
    "\n",
    "Загрузите данные теста, проверьте корректность его проведения и проанализируйте полученные результаты."
   ]
  },
  {
   "cell_type": "markdown",
   "metadata": {},
   "source": [
    "# План работы"
   ]
  },
  {
   "cell_type": "markdown",
   "metadata": {},
   "source": [
    "- Опишите цели исследования\n",
    "- Исследуйте данные:\n",
    "- Требуется ли преобразование типов?\n",
    "- Опишите природу пропущенных значений и дубликатов, если их обнаружите.\n",
    "- Оцените корректность проведения теста. Обратите внимание на:\n",
    "- Соответствие данных требованиям технического задания. Проверьте корректность всех пунктов технического задания.\n",
    "- Время проведения теста. Убедитесь, что оно не совпадает с маркетинговыми и другими активностями.\n",
    "- Аудиторию теста. Удостоверьтесь, что нет пересечений с конкурирующим тестом и нет пользователей, участвующих в двух группах теста одновременно. Проверьте равномерность распределения по тестовым группам и правильность их формирования.\n",
    "- Проведите исследовательский анализ данных:\n",
    "- Количество событий на пользователя одинаково распределены в выборках?\n",
    "- Как число событий в выборках распределено по дням?\n",
    "- Как меняется конверсия в воронке в выборках на разных этапах?\n",
    "- Какие особенности данных нужно учесть, прежде чем приступать к А/В- тестированию?\n",
    "- Оцените результаты А/В-тестирования\n",
    "- Что можно сказать про результаты А/В-тестирования?\n",
    "- Проверьте статистическую разницу долей z-критерием.\n",
    "- Опишите выводы по этапу исследовательского анализа данных и по проведённой оценке результатов А/В-тестирования. Сделайте общее заключение о корректности проведения теста."
   ]
  },
  {
   "cell_type": "markdown",
   "metadata": {},
   "source": [
    "## Загрузка данных. "
   ]
  },
  {
   "cell_type": "code",
   "execution_count": 1,
   "metadata": {},
   "outputs": [],
   "source": [
    "# Импотрируем необходимые билиотеки:\n",
    "import pandas as pd\n",
    "import numpy as np\n",
    "import plotly.express as px\n",
    "import plotly.graph_objects as go\n",
    "import matplotlib.pyplot as plt\n",
    "import seaborn as sns\n",
    "from scipy import stats as st\n",
    "import math as mth\n",
    "from scipy.stats import ttest_ind\n",
    "from datetime import datetime \n",
    "from datetime import timedelta\n",
    "from plotly.subplots import make_subplots"
   ]
  },
  {
   "cell_type": "code",
   "execution_count": 2,
   "metadata": {},
   "outputs": [
    {
     "ename": "FileNotFoundError",
     "evalue": "[Errno 2] No such file or directory: '/datasets/ab_project_marketing_events.csv'",
     "output_type": "error",
     "traceback": [
      "\u001b[1;31m---------------------------------------------------------------------------\u001b[0m",
      "\u001b[1;31mFileNotFoundError\u001b[0m                         Traceback (most recent call last)",
      "Cell \u001b[1;32mIn[2], line 2\u001b[0m\n\u001b[0;32m      1\u001b[0m \u001b[38;5;66;03m# Загружаем данные в переменные:\u001b[39;00m\n\u001b[1;32m----> 2\u001b[0m marketing_events \u001b[38;5;241m=\u001b[39m pd\u001b[38;5;241m.\u001b[39mread_csv(\u001b[38;5;124m'\u001b[39m\u001b[38;5;124m/datasets/ab_project_marketing_events.csv\u001b[39m\u001b[38;5;124m'\u001b[39m)\n\u001b[0;32m      3\u001b[0m marketing_events\u001b[38;5;241m.\u001b[39mhead(\u001b[38;5;241m5\u001b[39m)\n",
      "File \u001b[1;32m~\\anaconda3\\Lib\\site-packages\\pandas\\io\\parsers\\readers.py:912\u001b[0m, in \u001b[0;36mread_csv\u001b[1;34m(filepath_or_buffer, sep, delimiter, header, names, index_col, usecols, dtype, engine, converters, true_values, false_values, skipinitialspace, skiprows, skipfooter, nrows, na_values, keep_default_na, na_filter, verbose, skip_blank_lines, parse_dates, infer_datetime_format, keep_date_col, date_parser, date_format, dayfirst, cache_dates, iterator, chunksize, compression, thousands, decimal, lineterminator, quotechar, quoting, doublequote, escapechar, comment, encoding, encoding_errors, dialect, on_bad_lines, delim_whitespace, low_memory, memory_map, float_precision, storage_options, dtype_backend)\u001b[0m\n\u001b[0;32m    899\u001b[0m kwds_defaults \u001b[38;5;241m=\u001b[39m _refine_defaults_read(\n\u001b[0;32m    900\u001b[0m     dialect,\n\u001b[0;32m    901\u001b[0m     delimiter,\n\u001b[1;32m   (...)\u001b[0m\n\u001b[0;32m    908\u001b[0m     dtype_backend\u001b[38;5;241m=\u001b[39mdtype_backend,\n\u001b[0;32m    909\u001b[0m )\n\u001b[0;32m    910\u001b[0m kwds\u001b[38;5;241m.\u001b[39mupdate(kwds_defaults)\n\u001b[1;32m--> 912\u001b[0m \u001b[38;5;28;01mreturn\u001b[39;00m _read(filepath_or_buffer, kwds)\n",
      "File \u001b[1;32m~\\anaconda3\\Lib\\site-packages\\pandas\\io\\parsers\\readers.py:577\u001b[0m, in \u001b[0;36m_read\u001b[1;34m(filepath_or_buffer, kwds)\u001b[0m\n\u001b[0;32m    574\u001b[0m _validate_names(kwds\u001b[38;5;241m.\u001b[39mget(\u001b[38;5;124m\"\u001b[39m\u001b[38;5;124mnames\u001b[39m\u001b[38;5;124m\"\u001b[39m, \u001b[38;5;28;01mNone\u001b[39;00m))\n\u001b[0;32m    576\u001b[0m \u001b[38;5;66;03m# Create the parser.\u001b[39;00m\n\u001b[1;32m--> 577\u001b[0m parser \u001b[38;5;241m=\u001b[39m TextFileReader(filepath_or_buffer, \u001b[38;5;241m*\u001b[39m\u001b[38;5;241m*\u001b[39mkwds)\n\u001b[0;32m    579\u001b[0m \u001b[38;5;28;01mif\u001b[39;00m chunksize \u001b[38;5;129;01mor\u001b[39;00m iterator:\n\u001b[0;32m    580\u001b[0m     \u001b[38;5;28;01mreturn\u001b[39;00m parser\n",
      "File \u001b[1;32m~\\anaconda3\\Lib\\site-packages\\pandas\\io\\parsers\\readers.py:1407\u001b[0m, in \u001b[0;36mTextFileReader.__init__\u001b[1;34m(self, f, engine, **kwds)\u001b[0m\n\u001b[0;32m   1404\u001b[0m     \u001b[38;5;28mself\u001b[39m\u001b[38;5;241m.\u001b[39moptions[\u001b[38;5;124m\"\u001b[39m\u001b[38;5;124mhas_index_names\u001b[39m\u001b[38;5;124m\"\u001b[39m] \u001b[38;5;241m=\u001b[39m kwds[\u001b[38;5;124m\"\u001b[39m\u001b[38;5;124mhas_index_names\u001b[39m\u001b[38;5;124m\"\u001b[39m]\n\u001b[0;32m   1406\u001b[0m \u001b[38;5;28mself\u001b[39m\u001b[38;5;241m.\u001b[39mhandles: IOHandles \u001b[38;5;241m|\u001b[39m \u001b[38;5;28;01mNone\u001b[39;00m \u001b[38;5;241m=\u001b[39m \u001b[38;5;28;01mNone\u001b[39;00m\n\u001b[1;32m-> 1407\u001b[0m \u001b[38;5;28mself\u001b[39m\u001b[38;5;241m.\u001b[39m_engine \u001b[38;5;241m=\u001b[39m \u001b[38;5;28mself\u001b[39m\u001b[38;5;241m.\u001b[39m_make_engine(f, \u001b[38;5;28mself\u001b[39m\u001b[38;5;241m.\u001b[39mengine)\n",
      "File \u001b[1;32m~\\anaconda3\\Lib\\site-packages\\pandas\\io\\parsers\\readers.py:1661\u001b[0m, in \u001b[0;36mTextFileReader._make_engine\u001b[1;34m(self, f, engine)\u001b[0m\n\u001b[0;32m   1659\u001b[0m     \u001b[38;5;28;01mif\u001b[39;00m \u001b[38;5;124m\"\u001b[39m\u001b[38;5;124mb\u001b[39m\u001b[38;5;124m\"\u001b[39m \u001b[38;5;129;01mnot\u001b[39;00m \u001b[38;5;129;01min\u001b[39;00m mode:\n\u001b[0;32m   1660\u001b[0m         mode \u001b[38;5;241m+\u001b[39m\u001b[38;5;241m=\u001b[39m \u001b[38;5;124m\"\u001b[39m\u001b[38;5;124mb\u001b[39m\u001b[38;5;124m\"\u001b[39m\n\u001b[1;32m-> 1661\u001b[0m \u001b[38;5;28mself\u001b[39m\u001b[38;5;241m.\u001b[39mhandles \u001b[38;5;241m=\u001b[39m get_handle(\n\u001b[0;32m   1662\u001b[0m     f,\n\u001b[0;32m   1663\u001b[0m     mode,\n\u001b[0;32m   1664\u001b[0m     encoding\u001b[38;5;241m=\u001b[39m\u001b[38;5;28mself\u001b[39m\u001b[38;5;241m.\u001b[39moptions\u001b[38;5;241m.\u001b[39mget(\u001b[38;5;124m\"\u001b[39m\u001b[38;5;124mencoding\u001b[39m\u001b[38;5;124m\"\u001b[39m, \u001b[38;5;28;01mNone\u001b[39;00m),\n\u001b[0;32m   1665\u001b[0m     compression\u001b[38;5;241m=\u001b[39m\u001b[38;5;28mself\u001b[39m\u001b[38;5;241m.\u001b[39moptions\u001b[38;5;241m.\u001b[39mget(\u001b[38;5;124m\"\u001b[39m\u001b[38;5;124mcompression\u001b[39m\u001b[38;5;124m\"\u001b[39m, \u001b[38;5;28;01mNone\u001b[39;00m),\n\u001b[0;32m   1666\u001b[0m     memory_map\u001b[38;5;241m=\u001b[39m\u001b[38;5;28mself\u001b[39m\u001b[38;5;241m.\u001b[39moptions\u001b[38;5;241m.\u001b[39mget(\u001b[38;5;124m\"\u001b[39m\u001b[38;5;124mmemory_map\u001b[39m\u001b[38;5;124m\"\u001b[39m, \u001b[38;5;28;01mFalse\u001b[39;00m),\n\u001b[0;32m   1667\u001b[0m     is_text\u001b[38;5;241m=\u001b[39mis_text,\n\u001b[0;32m   1668\u001b[0m     errors\u001b[38;5;241m=\u001b[39m\u001b[38;5;28mself\u001b[39m\u001b[38;5;241m.\u001b[39moptions\u001b[38;5;241m.\u001b[39mget(\u001b[38;5;124m\"\u001b[39m\u001b[38;5;124mencoding_errors\u001b[39m\u001b[38;5;124m\"\u001b[39m, \u001b[38;5;124m\"\u001b[39m\u001b[38;5;124mstrict\u001b[39m\u001b[38;5;124m\"\u001b[39m),\n\u001b[0;32m   1669\u001b[0m     storage_options\u001b[38;5;241m=\u001b[39m\u001b[38;5;28mself\u001b[39m\u001b[38;5;241m.\u001b[39moptions\u001b[38;5;241m.\u001b[39mget(\u001b[38;5;124m\"\u001b[39m\u001b[38;5;124mstorage_options\u001b[39m\u001b[38;5;124m\"\u001b[39m, \u001b[38;5;28;01mNone\u001b[39;00m),\n\u001b[0;32m   1670\u001b[0m )\n\u001b[0;32m   1671\u001b[0m \u001b[38;5;28;01massert\u001b[39;00m \u001b[38;5;28mself\u001b[39m\u001b[38;5;241m.\u001b[39mhandles \u001b[38;5;129;01mis\u001b[39;00m \u001b[38;5;129;01mnot\u001b[39;00m \u001b[38;5;28;01mNone\u001b[39;00m\n\u001b[0;32m   1672\u001b[0m f \u001b[38;5;241m=\u001b[39m \u001b[38;5;28mself\u001b[39m\u001b[38;5;241m.\u001b[39mhandles\u001b[38;5;241m.\u001b[39mhandle\n",
      "File \u001b[1;32m~\\anaconda3\\Lib\\site-packages\\pandas\\io\\common.py:859\u001b[0m, in \u001b[0;36mget_handle\u001b[1;34m(path_or_buf, mode, encoding, compression, memory_map, is_text, errors, storage_options)\u001b[0m\n\u001b[0;32m    854\u001b[0m \u001b[38;5;28;01melif\u001b[39;00m \u001b[38;5;28misinstance\u001b[39m(handle, \u001b[38;5;28mstr\u001b[39m):\n\u001b[0;32m    855\u001b[0m     \u001b[38;5;66;03m# Check whether the filename is to be opened in binary mode.\u001b[39;00m\n\u001b[0;32m    856\u001b[0m     \u001b[38;5;66;03m# Binary mode does not support 'encoding' and 'newline'.\u001b[39;00m\n\u001b[0;32m    857\u001b[0m     \u001b[38;5;28;01mif\u001b[39;00m ioargs\u001b[38;5;241m.\u001b[39mencoding \u001b[38;5;129;01mand\u001b[39;00m \u001b[38;5;124m\"\u001b[39m\u001b[38;5;124mb\u001b[39m\u001b[38;5;124m\"\u001b[39m \u001b[38;5;129;01mnot\u001b[39;00m \u001b[38;5;129;01min\u001b[39;00m ioargs\u001b[38;5;241m.\u001b[39mmode:\n\u001b[0;32m    858\u001b[0m         \u001b[38;5;66;03m# Encoding\u001b[39;00m\n\u001b[1;32m--> 859\u001b[0m         handle \u001b[38;5;241m=\u001b[39m \u001b[38;5;28mopen\u001b[39m(\n\u001b[0;32m    860\u001b[0m             handle,\n\u001b[0;32m    861\u001b[0m             ioargs\u001b[38;5;241m.\u001b[39mmode,\n\u001b[0;32m    862\u001b[0m             encoding\u001b[38;5;241m=\u001b[39mioargs\u001b[38;5;241m.\u001b[39mencoding,\n\u001b[0;32m    863\u001b[0m             errors\u001b[38;5;241m=\u001b[39merrors,\n\u001b[0;32m    864\u001b[0m             newline\u001b[38;5;241m=\u001b[39m\u001b[38;5;124m\"\u001b[39m\u001b[38;5;124m\"\u001b[39m,\n\u001b[0;32m    865\u001b[0m         )\n\u001b[0;32m    866\u001b[0m     \u001b[38;5;28;01melse\u001b[39;00m:\n\u001b[0;32m    867\u001b[0m         \u001b[38;5;66;03m# Binary mode\u001b[39;00m\n\u001b[0;32m    868\u001b[0m         handle \u001b[38;5;241m=\u001b[39m \u001b[38;5;28mopen\u001b[39m(handle, ioargs\u001b[38;5;241m.\u001b[39mmode)\n",
      "\u001b[1;31mFileNotFoundError\u001b[0m: [Errno 2] No such file or directory: '/datasets/ab_project_marketing_events.csv'"
     ]
    }
   ],
   "source": [
    "# Загружаем данные в переменные:\n",
    "marketing_events = pd.read_csv('/datasets/ab_project_marketing_events.csv')\n",
    "marketing_events.head(5)"
   ]
  },
  {
   "cell_type": "code",
   "execution_count": null,
   "metadata": {},
   "outputs": [],
   "source": [
    "new_users = pd.read_csv('/datasets/final_ab_new_users.csv')\n",
    "new_users.head(5)"
   ]
  },
  {
   "cell_type": "code",
   "execution_count": null,
   "metadata": {},
   "outputs": [],
   "source": [
    "events = pd.read_csv('/datasets/final_ab_events.csv')\n",
    "events.head(5)"
   ]
  },
  {
   "cell_type": "code",
   "execution_count": null,
   "metadata": {},
   "outputs": [],
   "source": [
    "participants = pd.read_csv('/datasets/final_ab_participants.csv')\n",
    "participants.head(5)"
   ]
  },
  {
   "cell_type": "markdown",
   "metadata": {},
   "source": [
    "## Изучение и предобработка данных:"
   ]
  },
  {
   "cell_type": "markdown",
   "metadata": {},
   "source": [
    "Подготовьте данные, оцените их целостность:\n",
    "Требуется ли преобразование типов?\n",
    "Присутствуют ли пропущенные значения и дубликаты? Если да, то какова их природа?"
   ]
  },
  {
   "cell_type": "code",
   "execution_count": null,
   "metadata": {},
   "outputs": [],
   "source": [
    "# Напишем функцию для исследования данных в датафрейме:\n",
    "def df_review(df):\n",
    "    print('ТАБЛИЦА С ДАННЫМИ:')\n",
    "    display(df.head(10))\n",
    "    print('----------')\n",
    "    print('INFO:')\n",
    "    print(df.info())\n",
    "    print('----------')\n",
    "    print('ПРОПУСКИ В ДАТАФРЕЙМЕ')\n",
    "    print(df.isna().sum())\n",
    "    print('----------')\n",
    "    print('ДУБЛИКАТЫ В ДАТАФРЕЙМЕ')\n",
    "    print(df.duplicated().sum())\n",
    "    print('----------')\n",
    "    print('В датафрейме содержится строк\\столбцов:')\n",
    "    print(df.shape)\n",
    "    print('----------')"
   ]
  },
  {
   "cell_type": "markdown",
   "metadata": {},
   "source": [
    "### marketing_events\n",
    "Датафрейм содержит календарь маркетинговых событий на 2020 год"
   ]
  },
  {
   "cell_type": "code",
   "execution_count": null,
   "metadata": {},
   "outputs": [],
   "source": [
    "df_review(marketing_events)"
   ]
  },
  {
   "cell_type": "markdown",
   "metadata": {},
   "source": [
    "Файл /datasets/ab_project_marketing_events.csv** — календарь маркетинговых событий на 2020 год:\n",
    "- Необходимо преобразование типов object -> datetime64 в столбцах ['start_dt'], ['finish_dt'] "
   ]
  },
  {
   "cell_type": "code",
   "execution_count": null,
   "metadata": {},
   "outputs": [],
   "source": [
    "# Выполним необходимые преобразования типов:\n",
    "marketing_events['start_dt'] = pd.to_datetime(marketing_events['start_dt'])\n",
    "marketing_events['finish_dt'] = pd.to_datetime(marketing_events['finish_dt'])\n",
    "marketing_events.info()"
   ]
  },
  {
   "cell_type": "markdown",
   "metadata": {},
   "source": [
    "По датафрейму **marketing_events** выяснили следующую информацию:\n",
    "- Датафрейм содержит 14 строк и 4 столбца\n",
    "- Пропусков и полных дубликатов не найдено\n",
    "- Выполнили преобразование типов object -> datetime64 в столбцах ['start_dt'], ['finish_dt'] "
   ]
  },
  {
   "cell_type": "markdown",
   "metadata": {},
   "source": [
    "### new_users\n",
    "Датафрейм содержит всех пользователей, зарегистрировавшихся в интернет-магазине в период с 7 по 21 декабря 2020 года"
   ]
  },
  {
   "cell_type": "code",
   "execution_count": null,
   "metadata": {},
   "outputs": [],
   "source": [
    "df_review(new_users)"
   ]
  },
  {
   "cell_type": "code",
   "execution_count": null,
   "metadata": {
    "scrolled": true
   },
   "outputs": [],
   "source": [
    "# Выполним необходимые преобразования типов:\n",
    "new_users['first_date'] = pd.to_datetime(new_users['first_date'])\n",
    "new_users.info()"
   ]
  },
  {
   "cell_type": "code",
   "execution_count": null,
   "metadata": {},
   "outputs": [],
   "source": [
    "new_users['region'].unique()"
   ]
  },
  {
   "cell_type": "markdown",
   "metadata": {},
   "source": [
    "Всего существует 5 уникальных регионов пользователей в датафрейме new_users."
   ]
  },
  {
   "cell_type": "markdown",
   "metadata": {},
   "source": [
    "Датафрейм должен содержать всех пользователей, зарегистрировавшихся в интернет-магазине в период с 7 по 21 декабря 2020 года,\\\n",
    "проверим, так ли это."
   ]
  },
  {
   "cell_type": "code",
   "execution_count": null,
   "metadata": {},
   "outputs": [],
   "source": [
    "#print('Минимальная дата регистрации', new_users['first_date'].min())\n",
    "#print('Максимальная дата регистрации', new_users['first_date'].max())"
   ]
  },
  {
   "cell_type": "markdown",
   "metadata": {},
   "source": [
    "Есть лишние данные. Уберем лишние даты регистрации, затем проверим результат."
   ]
  },
  {
   "cell_type": "code",
   "execution_count": null,
   "metadata": {
    "scrolled": true
   },
   "outputs": [],
   "source": [
    "#new_users = new_users[new_users['first_date'] < '2020-12-22']\n",
    "#print('Минимальная дата регистрации', new_users['first_date'].min())\n",
    "#print('Максимальная дата регистрации', new_users['first_date'].max())"
   ]
  },
  {
   "cell_type": "code",
   "execution_count": null,
   "metadata": {},
   "outputs": [],
   "source": [
    "#Сохраним всех пользователей из recommender_system_test:\n",
    "check_tz = participants[participants['ab_test']=='recommender_system_test']\n",
    "#check_tz\n",
    "#Приссоединим к эти пользователям таблицу new_users:\n",
    "check_tz = check_tz.merge(new_users)\n",
    "check_tz.head(5)"
   ]
  },
  {
   "cell_type": "code",
   "execution_count": null,
   "metadata": {},
   "outputs": [],
   "source": [
    "print('Минимальная дата регистрации', check_tz['first_date'].min())\n",
    "print('Максимальная дата регистрации', check_tz['first_date'].max())"
   ]
  },
  {
   "cell_type": "markdown",
   "metadata": {},
   "source": [
    "По датафрейму **new_users** выяснили следующую информацию:\n",
    "- Датафрейм содержит 61733 строки и 4 столбца\n",
    "- Пропусков и полных дубликатов не найдено\n",
    "- Выполнили преобразование типов object -> datetime64 в столбце ['first_date']\n",
    "- Даты регистрации соответствуют ТЗ."
   ]
  },
  {
   "cell_type": "markdown",
   "metadata": {},
   "source": [
    "### events"
   ]
  },
  {
   "cell_type": "code",
   "execution_count": null,
   "metadata": {},
   "outputs": [],
   "source": [
    "df_review(events)"
   ]
  },
  {
   "cell_type": "code",
   "execution_count": null,
   "metadata": {},
   "outputs": [],
   "source": [
    "# Посмотрим на пропуски в столбце details:\n",
    "pd.set_option('display.max_rows', None)"
   ]
  },
  {
   "cell_type": "code",
   "execution_count": null,
   "metadata": {},
   "outputs": [],
   "source": [
    "# Выполним необходимые преобразования типов:\n",
    "events['event_dt'] = pd.to_datetime(events['event_dt'])\n",
    "new_users.info()"
   ]
  },
  {
   "cell_type": "markdown",
   "metadata": {},
   "source": [
    "По датафрейму **events** выяснили следующую информацию:\n",
    "- Датафрейм содержит 440317 строки и 4 столбца\n",
    "- Дубликаты не были найдены.\n",
    "- Обнаружены пропуски в столбце events['details'] - 377577 шт.\n",
    "Пропуски возникли из-за того, что в столбце details информация присутствует только там, где  в столбце event_name содержится purchase. \\\n",
    "Столбец details хранит дополнительные данные о событии. Для покупок, purchase, в этом поле хранится стоимость покупки в долларах. Пропуски никак заполнять не будем. Оставим так, как есть.\n",
    "- Выполнили преобразование типов object -> datetime64 в столбце events['event_dt']"
   ]
  },
  {
   "cell_type": "code",
   "execution_count": null,
   "metadata": {},
   "outputs": [],
   "source": [
    "purchase = events[events['event_name'] == 'purchase']\n",
    "purchase.info()\n",
    "events.info()"
   ]
  },
  {
   "cell_type": "markdown",
   "metadata": {},
   "source": [
    "Количество значений events['details'](стоимость покупки) = Количеству строк events['event_name'] = 'purchase'\n",
    "Также, в переменной purchase, где содержится вся информация о событиях с названием purchase нет пропусков, значит:информация присутствует только там, где в столбце event_name содержится purchase"
   ]
  },
  {
   "cell_type": "markdown",
   "metadata": {},
   "source": [
    "### participants"
   ]
  },
  {
   "cell_type": "code",
   "execution_count": null,
   "metadata": {},
   "outputs": [],
   "source": [
    "df_review(participants)"
   ]
  },
  {
   "cell_type": "code",
   "execution_count": null,
   "metadata": {},
   "outputs": [],
   "source": [
    "participants['ab_test'].unique()"
   ]
  },
  {
   "cell_type": "markdown",
   "metadata": {},
   "source": [
    "В датафрейме присутствует два названия теста. Из которых нас интересует только 'recommender_system_test'."
   ]
  },
  {
   "cell_type": "markdown",
   "metadata": {},
   "source": [
    "### Выводы:\n",
    "По датафрейму **participants** выяснили следующую информацию:\n",
    "- Датафрейм содержит 18268 строк и 3 столбца\n",
    "- Пропусков и полных дубликатов не найдено\n",
    "- Преобразование типов данных не требуется"
   ]
  },
  {
   "cell_type": "markdown",
   "metadata": {},
   "source": [
    "## Проверка соответствия данных техническому заданию"
   ]
  },
  {
   "cell_type": "markdown",
   "metadata": {},
   "source": [
    "### Оценка корректности проведения теста в соответствии с ТЗ\n",
    "\n",
    "Выделим пользователей, участвующих в тесте и проверим:\n",
    "\n",
    "- регион регистрации пользователей: все ли попавшие в тест пользователи представляют целевой регион и составляет ли общее количество пользователей из целевого региона 15% от общего числа пользователей из целевого региона, зарегистрированных в период набора пользователей в тест;\n",
    "- динамику набора пользователей в группы теста и проверьте равномерность распределения пользователей по группам теста и корректность их формирования;"
   ]
  },
  {
   "cell_type": "markdown",
   "metadata": {},
   "source": [
    "**Название теста: recommender_system_test**\\\n",
    "\n",
    "В датафрейме **participants** содержатся 2 названия тестов: \n",
    "- recommender_system_test - который нам нужен, выделим эти строки в отдельную переменную.\n",
    "- interface_eu_test - оставим эти данные в первоначальной переменной."
   ]
  },
  {
   "cell_type": "code",
   "execution_count": null,
   "metadata": {},
   "outputs": [],
   "source": [
    "participants.info()"
   ]
  },
  {
   "cell_type": "code",
   "execution_count": null,
   "metadata": {},
   "outputs": [],
   "source": [
    "participants.head(5)"
   ]
  },
  {
   "cell_type": "code",
   "execution_count": null,
   "metadata": {},
   "outputs": [],
   "source": [
    "# Выделяем наш тест:\n",
    "recommender = participants[participants.ab_test == 'recommender_system_test']\n",
    "recommender.info()"
   ]
  },
  {
   "cell_type": "code",
   "execution_count": null,
   "metadata": {},
   "outputs": [],
   "source": [
    "recommender.head(5)\n"
   ]
  },
  {
   "cell_type": "code",
   "execution_count": null,
   "metadata": {},
   "outputs": [],
   "source": [
    "interface = participants[participants.ab_test == 'interface_eu_test']\n",
    "interface.info()"
   ]
  },
  {
   "cell_type": "code",
   "execution_count": null,
   "metadata": {},
   "outputs": [],
   "source": [
    "# Проверяем: \n",
    "recommender['ab_test'].unique()"
   ]
  },
  {
   "cell_type": "markdown",
   "metadata": {},
   "source": [
    "Замечаем, что количество строк в новом датасете значительно сократилось, \\\n",
    "Остались только те строки, в которых присутствует нужный нам тест 'recommender_system_test', который указан в ТЗ."
   ]
  },
  {
   "cell_type": "markdown",
   "metadata": {},
   "source": [
    "\n",
    "Далее, приссоединим к таблице recommender(в которой содержатся нужные нам для исследования пользователи из теста recommender_system_test) таблицу new_users (которая содержит сведения о регистрации, регионе, и платформе):"
   ]
  },
  {
   "cell_type": "code",
   "execution_count": null,
   "metadata": {},
   "outputs": [],
   "source": [
    "recommender = recommender.merge(new_users)\n",
    "recommender.head(5)"
   ]
  },
  {
   "cell_type": "code",
   "execution_count": null,
   "metadata": {},
   "outputs": [],
   "source": [
    "print('Минимальная дата регистрации', recommender['first_date'].min())\n",
    "print('Максимальная дата регистрации', recommender['first_date'].max())"
   ]
  },
  {
   "cell_type": "markdown",
   "metadata": {},
   "source": [
    "Даты регистрации соответствуют периоду, который указан в ТЗ."
   ]
  },
  {
   "cell_type": "markdown",
   "metadata": {},
   "source": [
    "Посмотрим на даты событий, которые совершали пользователи:\n",
    "- все события новых пользователей в период с 7 декабря 2020 по 4 января 2021 года;\\\n",
    "\n",
    "Проверим, так ли это на самом деле:"
   ]
  },
  {
   "cell_type": "code",
   "execution_count": null,
   "metadata": {},
   "outputs": [],
   "source": [
    "print('Минимальная дата событий', events['event_dt'].min())\n",
    "print('Максимальная дата событий', events['event_dt'].max())"
   ]
  },
  {
   "cell_type": "code",
   "execution_count": null,
   "metadata": {},
   "outputs": [],
   "source": [
    "# Посмотрим,  из каких регионов пользователи нашего теста:\n",
    "recommender['region'].unique()"
   ]
  },
  {
   "cell_type": "markdown",
   "metadata": {},
   "source": [
    "Не все попавшие в тест пользователи представляют целевой регион - 'EU'"
   ]
  },
  {
   "cell_type": "code",
   "execution_count": null,
   "metadata": {},
   "outputs": [],
   "source": [
    "# Выделяем пользователей необходимого региона:\n",
    "eu = recommender[recommender['region'] == 'EU']\n",
    "len(eu)"
   ]
  },
  {
   "cell_type": "markdown",
   "metadata": {},
   "source": [
    "Теперь в переменной eu содержатся только те пользователи, которые относятся к необходимому тесту и целевому региону \"EU\".\\\n",
    "По условию задания, таких пользователей должно быть 15% от общего количества участников, соответствующих тз."
   ]
  },
  {
   "cell_type": "markdown",
   "metadata": {},
   "source": [
    "Проверяем: \\\n",
    "составляет ли общее количество пользователей из целевого региона 15% от общего числа пользователей из целевого региона, зарегистрированных в период набора пользователей в тест;"
   ]
  },
  {
   "cell_type": "code",
   "execution_count": null,
   "metadata": {},
   "outputs": [],
   "source": [
    "print('Процент = ', (len(eu)/(len(new_users[new_users['region'] == 'EU'])))*100,'%')\n"
   ]
  },
  {
   "cell_type": "markdown",
   "metadata": {},
   "source": [
    "**Выводы:**\n",
    "- Период набора пользователей в тест соответствует ТЗ\n",
    "- Не все попавшие в тест пользователи представляют целевой регион - 'EU'\n",
    "- Количество пользователей целевого региона составляет 15% от общего количества пользователей теста."
   ]
  },
  {
   "cell_type": "markdown",
   "metadata": {},
   "source": [
    "- Динамика набора пользователей в группы теста, равномерность распределения пользователей по группам теста и корректность их формирования"
   ]
  },
  {
   "cell_type": "code",
   "execution_count": null,
   "metadata": {},
   "outputs": [],
   "source": [
    "# Сформируем таблицу, в которой отобразим динамику регистраций пользователей каждой из групп:\n",
    "date_login = (recommender.groupby(['first_date','group'], as_index=False)['user_id'].nunique()\n",
    "                            .rename(columns={'user_id':'user_cnt'}))\n",
    "date_login\n",
    "# Построим график по таблице:"
   ]
  },
  {
   "cell_type": "code",
   "execution_count": null,
   "metadata": {},
   "outputs": [],
   "source": [
    "# Построим график по таблице:\n",
    "\n",
    "fig = px.bar(date_login, x='first_date', y='user_cnt', color='group', title = 'Динамика набора пользователей в группы А и В исследуемого теста')\n",
    "fig.show(\"png\")"
   ]
  },
  {
   "cell_type": "markdown",
   "metadata": {},
   "source": [
    "На гистограмме можем заметить, что новые пользователи регистрировались неравномерно. 9,11 и 17 декабря зарегистрировалось рекондно малое число пользователей. 7, 14,21 декабря наблюдаем пиковые значения. \\\n",
    "Также, можем заметить, что группы А и В формировались неравномерно: набор числа пользователей для группы А значительно преобладает над пользователями группы В.  Можем сделать вывод о том, что группы формировались некорректно еще на этапе регистрации пользователей."
   ]
  },
  {
   "cell_type": "markdown",
   "metadata": {},
   "source": [
    "### Пересечения с конкурирующим тестом и пользователи в двух группах теста \n",
    "\n",
    "- Удостоверимся, что нет пересечений с конкурирующим тестом и нет пользователей, участвующих в двух группах теста одновременно.\n",
    "- Удостоверимся, что нет пользователей, участвующих в двух группах теста одновременно.\n"
   ]
  },
  {
   "cell_type": "code",
   "execution_count": null,
   "metadata": {},
   "outputs": [],
   "source": [
    "# получаем id пользователей, пересечений с конкурирующим тестом\n",
    "rival=list(np.intersect1d(interface['user_id'], recommender['user_id']))\n",
    "print(len(rival), 'id пользователей присутствуют в обоих тестах')\n",
    "\n",
    "print('Доля id пользователей присутствуют в обоих тестах, от общих данных', round(len(rival)/len(participants),2))"
   ]
  },
  {
   "cell_type": "code",
   "execution_count": null,
   "metadata": {},
   "outputs": [],
   "source": [
    "# Удаляем id пользователей, которые попали в обе группы:\n",
    "recommender = recommender.query('user_id not in @rival')\n",
    "len(recommender)"
   ]
  },
  {
   "cell_type": "markdown",
   "metadata": {},
   "source": [
    "Обнаружили пересечения между двумя тестами. Оставить их не можем, т.к. пользователи, участвующие в двух тестах одновременно, могли бы исказить исследуемые данные совершенно непредсказуемым образом. Такие пользователи могут сделать наше исследование некорректным. Потому, мы приняли решение в пользу удаления."
   ]
  },
  {
   "cell_type": "code",
   "execution_count": null,
   "metadata": {},
   "outputs": [],
   "source": [
    "# Проверяем:\n",
    "list(np.intersect1d(interface['user_id'], recommender['user_id']))"
   ]
  },
  {
   "cell_type": "markdown",
   "metadata": {},
   "source": [
    "Проверим пересечение  пользователей, участвующих в двух группах теста одновременно:"
   ]
  },
  {
   "cell_type": "code",
   "execution_count": null,
   "metadata": {},
   "outputs": [],
   "source": [
    "a_rec = recommender[recommender['group'] == 'A']\n",
    "b_rec = recommender[recommender['group'] == 'B']\n",
    "print(list(np.intersect1d(a_rec['user_id'], b_rec['user_id'])))"
   ]
  },
  {
   "cell_type": "markdown",
   "metadata": {},
   "source": [
    "Пересечений между участниками групп А и В нет."
   ]
  },
  {
   "cell_type": "code",
   "execution_count": null,
   "metadata": {},
   "outputs": [],
   "source": [
    "# распределение пользователей по группам A и B теста recommender_system_test:\n",
    "recommender['group'].value_counts()\n"
   ]
  },
  {
   "cell_type": "code",
   "execution_count": null,
   "metadata": {},
   "outputs": [],
   "source": [
    "print('Доля пользователей группы А', round(100*(len(a_rec)/len(recommender))), '%')\n",
    "print('Доля пользователей группы В', round(100*(len(b_rec)/len(recommender))),'%')"
   ]
  },
  {
   "cell_type": "markdown",
   "metadata": {},
   "source": [
    "**Выводы:**\n",
    "- Пересечения с конкурирующим тестом были удалены\n",
    "- Нет пользователей, участвующих в двух группах теста одновременно\n",
    "- Доля пользователей группы А 57 %\n",
    "- Доля пользователей группы В 43 %"
   ]
  },
  {
   "cell_type": "markdown",
   "metadata": {},
   "source": [
    "### Данные о пользовательской активности:\n",
    "\n",
    "Изучим:\n",
    "- даты совершения событий участниками теста: совпадают ли они с датами проведения теста, согласно техническому заданию;\n",
    "- активность пользователей: все ли зарегистрированные пользователи прошли авторизацию и совершали переход по продуктовой воронке; если есть пользователи, которые не совершали событий после регистрации, изучите их количество и распределение между группами теста; сделайте вывод о необходимости учитывать пользователей без событий при изучении результатов теста;\n",
    "- горизонт анализа: рассчитайте лайфтайм совершения события пользователем после регистрации, оставьте только те события, которые были совершены в первые 14 дней с момента регистрации; проверьте, что все участники теста имели возможность совершать события все 14 дней с момента регистрации, оцените когда пользователи совершают свои первые события каждого вида.\n",
    "- Представьте развернутый вывод о соответствии теста требованиям технического задания и возможности получения достоверных результатов АБ-теста, исходя из базового показателя конверсии в 50%."
   ]
  },
  {
   "cell_type": "code",
   "execution_count": null,
   "metadata": {},
   "outputs": [],
   "source": [
    "print ('Минимальная дата события', events['event_dt'].min())\n",
    "print ('Максимальная дата события',events['event_dt'].max())"
   ]
  },
  {
   "cell_type": "markdown",
   "metadata": {},
   "source": [
    "Дата начала проведения теста совпадает с минимальной датой события.\n",
    "Видим, что макcимальная дата совершенного события - '2020-12-30', что говорит о несоответствии данных тз. \n",
    "К сожалению, мы ничего не можем сделать с пропущенными датами, и это, негативно скажется на качестве исследуемых данных: вероятно, мы можем не увидеть полной картины исследования, т.к. отслеживаем эффект спустя 14 дней после регистрации, а действий за последние 5 дней нет."
   ]
  },
  {
   "cell_type": "markdown",
   "metadata": {},
   "source": [
    "Объединим таблицы recommender и events, чтобы продолжить работу:"
   ]
  },
  {
   "cell_type": "markdown",
   "metadata": {},
   "source": [
    "#### Активность пользователей"
   ]
  },
  {
   "cell_type": "code",
   "execution_count": null,
   "metadata": {},
   "outputs": [],
   "source": [
    "recommender_with_nan = recommender.merge(events, how='left', on='user_id').dropna(axis='index', how='any',subset=['group'])\n",
    "recommender_with_nan.head(5)"
   ]
  },
  {
   "cell_type": "code",
   "execution_count": null,
   "metadata": {},
   "outputs": [],
   "source": [
    "recommender_events = events.merge(recommender, how='left', on='user_id').dropna(axis='index', how='any',subset=['group'])"
   ]
  },
  {
   "cell_type": "code",
   "execution_count": null,
   "metadata": {},
   "outputs": [],
   "source": [
    "recommender_with_nan.info()"
   ]
  },
  {
   "cell_type": "code",
   "execution_count": null,
   "metadata": {},
   "outputs": [],
   "source": [
    "# Уникальные события:\n",
    "recommender_with_nan['event_name'].unique()"
   ]
  },
  {
   "cell_type": "markdown",
   "metadata": {},
   "source": [
    "- nan - пользователь не совершал событий после регистрации\n",
    "- login - пользователь прошел авторизацию\n",
    "- product_cart - пользователь открыл корзину\n",
    "- product_page - пользователь заходил в карточку с товаром\n",
    "- purchase - пользователь совершил покупку"
   ]
  },
  {
   "cell_type": "code",
   "execution_count": null,
   "metadata": {},
   "outputs": [],
   "source": [
    "# Суммарное количество событий, которое совершалось уникальными пользователями\n",
    "recommender_with_nan['event_name'] = recommender_with_nan['event_name'].fillna('without')\n",
    "user_events = recommender_with_nan.groupby('event_name').agg({'user_id':'nunique'}).sort_values(by = 'user_id', ascending = False).reset_index()\n",
    "user_events['share']= round(user_events['user_id']/(len(recommender_with_nan['user_id'].unique())),2)\n",
    "\n",
    "user_events"
   ]
  },
  {
   "cell_type": "markdown",
   "metadata": {},
   "source": [
    "Соответственно, только 55% всех зарегистрированных пользователей прошли авторизацию. Далее, по мере продвижения по продуктовой воонке, количество пользователей, совершающих те или иные действия, также, сокращается. "
   ]
  },
  {
   "cell_type": "code",
   "execution_count": null,
   "metadata": {},
   "outputs": [],
   "source": [
    "print('Уникальное количество пользователей, которые совершали какие-либо события',recommender_events['user_id'].nunique())\n",
    "print('Уникальный процент пользователей, которые совершали какие-либо события',round(recommender_events['user_id'].nunique()/len(recommender),2))"
   ]
  },
  {
   "cell_type": "code",
   "execution_count": null,
   "metadata": {},
   "outputs": [],
   "source": [
    "# Распределение пользователей, которые не совершали действий после регистрации по группам:\n",
    "without_actions = recommender_with_nan[recommender_with_nan['event_name'] == 'without']\n",
    "without_actions['group'].value_counts()\n",
    "print('Количество пользователей, которые не совершали действий после регистрации в группе А:', round(len(without_actions[without_actions['group'] == 'A'])/len(without_actions['user_id']),2))\n",
    "print('Количество пользователей, которые не совершали действий после регистрации в группе В:', round(len(without_actions[without_actions['group'] == 'B'])/len(without_actions['user_id']),2))"
   ]
  },
  {
   "cell_type": "markdown",
   "metadata": {},
   "source": [
    "**Пользователи, которые не совершали события после регистрации:**\n",
    "- Количество таких пользователей: 2311 или 45%\n",
    "- Пользователи без событий в группе А: 821 / 36%\n",
    "- Пользователи без событий в группе В: 1490 / 64%\n",
    "- Пользователи распределны по группам неравномерно.\n",
    "- Далее по проекту с пользователями, которые не совершали действий, мы работать не будем. Таких пользователей достаточно много. Однако, мы мало заинтересованы в их изучении,т.к. они малоинформативны. Кроме того, если оставить таких пользователей для дальнейшего анализа, то на этапе составления продуктовой воронки мы получим чрезвычайно низкие значения конверсии(при переходе между различными этапами воронки). "
   ]
  },
  {
   "cell_type": "markdown",
   "metadata": {},
   "source": [
    "#### Горизонт анализа\n",
    "- рассчитайте лайфтайм совершения события пользователем после регистрации\n",
    "- оставьте только те события, которые были совершены в первые 14 дней с момента регистрации; \n",
    "- проверьте, что все участники теста имели возможность совершать события все 14 дней с момента регистрации, оцените когда пользователи совершают свои первые события каждого вида."
   ]
  },
  {
   "cell_type": "markdown",
   "metadata": {},
   "source": [
    "будем использовать датафрейм recommender_events, в котором нет пользователей, которые не совершали действия:"
   ]
  },
  {
   "cell_type": "code",
   "execution_count": null,
   "metadata": {
    "scrolled": true
   },
   "outputs": [],
   "source": [
    "recommender_events['lifetime'] = (recommender_events['event_dt'] - recommender_events['first_date']).dt.days\n",
    "print('Строк до фильтрации:', len(recommender_events))\n",
    "recommender_events = recommender_events[(recommender_events['lifetime']<=14)]\n",
    "print('Строк после фильтрации:',len(recommender_events))"
   ]
  },
  {
   "cell_type": "code",
   "execution_count": null,
   "metadata": {},
   "outputs": [],
   "source": [
    "print('Лайфтайм:', recommender_events.lifetime.nunique())\n",
    "print( recommender_events.lifetime.value_counts())"
   ]
  },
  {
   "cell_type": "code",
   "execution_count": null,
   "metadata": {},
   "outputs": [],
   "source": [
    "recommender_events.head(5)"
   ]
  },
  {
   "cell_type": "code",
   "execution_count": null,
   "metadata": {
    "scrolled": true
   },
   "outputs": [],
   "source": [
    "a = recommender_events.groupby('event_name').agg({'lifetime':'mean'})\n",
    "a"
   ]
  },
  {
   "cell_type": "markdown",
   "metadata": {},
   "source": [
    "Пользователи совершают свои первые события каждого вида, обычно в трехдневный период после регистрации."
   ]
  },
  {
   "cell_type": "code",
   "execution_count": null,
   "metadata": {},
   "outputs": [],
   "source": [
    "recommender_events['end_lifetime'] = recommender_events['first_date'] + timedelta(days=14)\n",
    "_ = recommender_events[recommender_events['end_lifetime'] < '2020-12-31']['user_id'].nunique()\n",
    "_"
   ]
  },
  {
   "cell_type": "code",
   "execution_count": null,
   "metadata": {},
   "outputs": [],
   "source": [
    "#Всего пользователей:\n",
    "print(_, 'из', recommender_events['user_id'].nunique(),'Пользователей имели возможность совершать события все 14 дней' )\n"
   ]
  },
  {
   "cell_type": "markdown",
   "metadata": {},
   "source": [
    "С учётом результатом п.1, а также результатов анализа lifetime, мы можем сделать вывод о том, что ждать 14 дней с момента регистрации для оценки конверсии по пользователю не нужно, тк пользователи совершают свои первые события каждого вида, обычно в трехдневный период после регистрации."
   ]
  },
  {
   "cell_type": "markdown",
   "metadata": {},
   "source": [
    "### Выводы о соответствии данных ТЗ:"
   ]
  },
  {
   "cell_type": "markdown",
   "metadata": {},
   "source": [
    "- Период набора пользователей в тест соответствует ТЗ\n",
    "- Количество пользователей целевого региона составляет 15% от общего количества пользователей теста.\n",
    "- Пересечения с конкурирующим тестом были удалены.\n",
    "- После удаления пользователи, участвующие в групах А и В единовременно отсутсвуют.\n",
    "- Пользователи распределены неравномерно между группами:\n",
    "    - Доля пользователей группы А 57 %\n",
    "    - Доля пользователей группы В 43 %\n",
    "    \n",
    "**Даты совершения событий участниками теста:**\n",
    "- Даты совершения событий участниками теста совпадают с требованиями ТЗ лишь отчасти. \n",
    "\n",
    "- Фактически:\n",
    "    - Минимальная дата событий 2020-12-07 00:00:33\n",
    "    - Максимальная дата событий 2020-12-30 23:36:33\n",
    "    \n",
    "- По условиям ТЗ:\n",
    "    - Дата запуска: 2020-12-07\n",
    "    - Дата остановки: 2021-01-04\n",
    "Имеем данные о событиях на 5 дней меньше, чем указано в ТЗ.\\\n",
    "Нехватка данных может негативно сказаться на результатах АВ-тестирования.\n",
    "\n",
    "**Активность пользователей:**\n",
    "- Пользователей, которые совершали какие-либо события 55% от общего числа. Из них:\n",
    "    - в группе А: 36%\n",
    "    - в группе В: 64%\n",
    "    \n",
    "**Горизонт анализа**\n",
    "- Пользователи совершают свои первые события каждого вида, обычно в пределах трехдневного периода после регистрации.\n",
    "\n",
    "**Соответствие теста требованиям ТЗ:**\n",
    "\n",
    "При проверке данных были выявлены определенные нарушения, из-за которых следует настороженно относиться к результатам теста и их интерпретации"
   ]
  },
  {
   "cell_type": "code",
   "execution_count": null,
   "metadata": {},
   "outputs": [],
   "source": [
    "print('Количество пользователей, в группе А:', recommender_events[recommender_events['group'] == 'A']['user_id'].nunique())\n",
    "print('Количество пользователей, в группе В:', recommender_events[recommender_events['group'] == 'B']['user_id'].nunique())"
   ]
  },
  {
   "cell_type": "markdown",
   "metadata": {},
   "source": [
    "**Возможность получения достоверных результатов АБ-теста, исходя из базового показателя конверсии в 50:%**\n",
    "Воспользовавшись  калькулятором АВ-тестов, мы выяснили, что при\n",
    "- Базовом показателе конверсии 50%\n",
    "- Ожидаемом эффекте улучшения каждой метрики не менее, чем на 5%\n",
    "- Статистической значимости 5%\n",
    "- Уровне статистической можности 80%\n",
    "**Размер выборки для каждого варианта должен быть равен 1,567**\n",
    "\n",
    "Вывод:\n",
    "- Аудитория в группе А является достаточной  для получения статистически достоверных результатов нашего теста.\n",
    "- Размер выборки в группе В не является достаточным."
   ]
  },
  {
   "cell_type": "markdown",
   "metadata": {},
   "source": [
    "## Исследовательский анализ данных:\n",
    "\n",
    "- Распределение количества событий на пользователя в разрезе групп теста: постройте гистограмму распределения этой величины в разрезе групп и сравните её средние значения между собой у групп теста;\n",
    "- Динамика количества событий в группах теста по дням: изучите распределение числа событий по дням и сравните динамику групп теста между собой.\n",
    "- Убедитесь, что время проведения теста не совпадает с маркетинговыми и другими активностями. Настройте автоматическую проверку, выдающую список событий, пересекающихся с тестом. При необходимости оцените воздействие маркетинговых событий на динамику количества событий.\n",
    "- Продуктовая воронка: постройте простые продуктовые воронки для двух групп теста с учетом логической последовательности совершения событий; изучите изменение конверсии в продуктовой воронке тестовой группы, по сравнению с контрольной: наблюдается ли ожидаемый эффект увеличения конверсии в группе В, относительно конверсии в группе А?\n",
    "- Сделайте общий вывод об изменении пользовательской активности в тестовой группе, по сравнению с контрольной."
   ]
  },
  {
   "cell_type": "markdown",
   "metadata": {},
   "source": [
    "### Количество событий на пользователя\n",
    "\n",
    "- Распределение количества событий на пользователя в разрезе групп теста: \n"
   ]
  },
  {
   "cell_type": "code",
   "execution_count": null,
   "metadata": {},
   "outputs": [],
   "source": [
    "print('Доля пользователей группы А', round(100*(recommender_events.query('group == \"A\"')['event_name'].count()/len(recommender_events))), '%')\n",
    "print('Доля пользователей группы В', round(100*(recommender_events.query('group == \"B\"')['event_name'].count()/len(recommender_events))), '%')"
   ]
  },
  {
   "cell_type": "code",
   "execution_count": null,
   "metadata": {},
   "outputs": [],
   "source": [
    "user_a = round (recommender_events.query('group == \"A\"')['event_name'].count() / recommender_events\n",
    "                .query('group == \"A\"')['user_id'].nunique(), 1)\n",
    "user_b = round (recommender_events.query('group == \"B\"')['event_name'].count() / recommender_events.\n",
    "                query('group == \"B\"')['user_id'].nunique(), 1)\n"
   ]
  },
  {
   "cell_type": "code",
   "execution_count": null,
   "metadata": {},
   "outputs": [],
   "source": [
    "print ('Среднее количество событий на пользователя в группе А = ',user_a)\n",
    "print ('Среднее количество событий на пользователя в группе B = ',user_b)"
   ]
  },
  {
   "cell_type": "markdown",
   "metadata": {},
   "source": [
    "Распределение количества событий между группами А и В неравномерно.\n",
    "- Среднее количество событий на пользователя в группе А =  6.9\n",
    "- Среднее количество событий на пользователя в группе B =  5.4\n",
    "Среди событий наиболее популярное - авторизация - 'login'. Меньшую популярность имеют события \"product_cart\", \"purchase\". Данные события совершало наименьшее количество уникальных пользователей."
   ]
  },
  {
   "cell_type": "code",
   "execution_count": null,
   "metadata": {},
   "outputs": [],
   "source": [
    "mean_ = pd.pivot_table(recommender_events, index = ['user_id', 'group'], values = ['event_name'], aggfunc = 'count').reset_index()\n",
    "\n",
    "\n",
    "mean_a = mean_.query('group == \"A\"').groupby(['event_name', 'group']).nunique().sort_values(by = 'event_name', ascending = False).reset_index()\n",
    "\n",
    "mean_a"
   ]
  },
  {
   "cell_type": "code",
   "execution_count": null,
   "metadata": {},
   "outputs": [],
   "source": [
    "mean_b = mean_.query('group == \"B\"').groupby(['event_name', 'group']).nunique().sort_values(by = 'event_name', ascending = False).reset_index()\n",
    "mean_b"
   ]
  },
  {
   "cell_type": "code",
   "execution_count": null,
   "metadata": {},
   "outputs": [],
   "source": [
    "fig = make_subplots(rows=2, cols=1,\n",
    "                    subplot_titles=(\"Пользователей группы А:\", \"Пользователей группы В:\"))\n",
    "\n",
    "\n",
    "fig.append_trace(go.Bar(\n",
    "    x=mean_a.event_name,\n",
    "    y=mean_a.user_id,\n",
    "    text = mean_a.user_id,\n",
    "    name='A'\n",
    "), row=1, col=1)\n",
    "\n",
    "fig.append_trace(go.Bar(\n",
    "    x=mean_b.event_name,\n",
    "    y=mean_b.user_id,\n",
    "    text = mean_b.user_id,\n",
    "    name='B',\n",
    "), row=2, col=1)\n",
    "\n",
    "# Update xaxis properties\n",
    "fig.update_xaxes(title_text=\"Количество событий, совершенных одним пользователем\", row=1, col=1)\n",
    "fig.update_xaxes(title_text=\"Количество событий, совершенных одним пользователем\", range=[0, 25], row=2, col=1)\n",
    "\n",
    "\n",
    "# Update yaxis properties\n",
    "fig.update_yaxes(title_text=\"Количество пользователей\", row=1, col=1)\n",
    "fig.update_yaxes(title_text=\"Количество пользователей\", range=[0, 500], row=2, col=1)\n",
    "\n",
    "\n",
    "fig.update_layout(height=1000, width=1000,\n",
    "                  title_text=\"Частота совершенных событий для...\")\n",
    "\n",
    "fig.show(\"png\")\n"
   ]
  },
  {
   "cell_type": "code",
   "execution_count": null,
   "metadata": {
    "scrolled": true
   },
   "outputs": [],
   "source": [
    "users_events = (recommender_events.groupby(['user_id', 'event_name'], as_index=False)['region'].count()\n",
    "                              .rename(columns={'region':'events_count'})\n",
    "                              .merge(recommender_events[['user_id', 'group']], on='user_id')\n",
    "                              .drop_duplicates())"
   ]
  },
  {
   "cell_type": "code",
   "execution_count": null,
   "metadata": {},
   "outputs": [],
   "source": [
    "fig = px.box(users_events, x=\"event_name\", y=\"events_count\", color=\"group\")\n",
    "fig.update_layout(title=\"Распределение среднего количества событий на пользователя\",\n",
    "                  yaxis_title=\"количество событий на пользователя\",\n",
    "                  xaxis_title=\"События\")\n",
    "\n",
    "fig.show(\"png\")"
   ]
  },
  {
   "cell_type": "code",
   "execution_count": null,
   "metadata": {
    "scrolled": true
   },
   "outputs": [],
   "source": [
    "mean = (recommender_events.groupby(['user_id'], as_index=False)['region'].count()\n",
    "                              .merge(recommender_events[['user_id', 'group']], on='user_id')\n",
    "                              .drop_duplicates())\n",
    "mean"
   ]
  },
  {
   "cell_type": "code",
   "execution_count": null,
   "metadata": {},
   "outputs": [],
   "source": [
    "fig = px.box(mean, y=\"region\", color=\"group\")\n",
    "fig.update_layout(title=\"Распределение среднего количества событий на пользователя\",\n",
    "                  yaxis_title=\"количество событий на пользователя\",\n",
    "                  xaxis_title=\"Группа\")\n",
    "fig.show(\"png\")"
   ]
  },
  {
   "cell_type": "markdown",
   "metadata": {},
   "source": [
    "Распределение количества событий на пользователя в разрезе групп теста показало значительное отставание в группе В."
   ]
  },
  {
   "cell_type": "markdown",
   "metadata": {},
   "source": [
    "### Количество событий в группах теста по дням\n",
    "\n",
    "Динамика количества событий в группах теста по дням: \n",
    "- изучите распределение числа событий по дням и сравните динамику групп теста между собой."
   ]
  },
  {
   "cell_type": "code",
   "execution_count": null,
   "metadata": {},
   "outputs": [],
   "source": [
    "recommender_events.info()"
   ]
  },
  {
   "cell_type": "code",
   "execution_count": null,
   "metadata": {},
   "outputs": [],
   "source": [
    "event_per_day = pd.pivot_table(recommender_events, index = ['event_dt', 'group'], values = 'user_id', aggfunc = 'count').reset_index()\n",
    "event_per_day['event_dt'] =  event_per_day['event_dt'].dt.date\n",
    "event_per_day = event_per_day.groupby(['event_dt', 'group'])['user_id'].sum().reset_index()\n",
    "event_per_day.head(5)"
   ]
  },
  {
   "cell_type": "code",
   "execution_count": null,
   "metadata": {
    "scrolled": true
   },
   "outputs": [],
   "source": [
    "fig = px.line(event_per_day, x=\"event_dt\", y=\"user_id\", color='group', \n",
    "              title='Динамика количества событий в группах теста по дням')\n",
    "fig.show(\"png\")"
   ]
  },
  {
   "cell_type": "markdown",
   "metadata": {},
   "source": [
    "Динамика групп теста по дням показала значительное отставание по количеству действий группы В."
   ]
  },
  {
   "cell_type": "markdown",
   "metadata": {},
   "source": [
    "### Пересечение времени проведения теста и других активностей\n",
    "\n",
    "- Убедитесь, что время проведения теста не совпадает с маркетинговыми и другими активностями. \n",
    "- Настройте автоматическую проверку, выдающую список событий, пересекающихся с тестом. \n",
    "- При необходимости оцените воздействие маркетинговых событий на динамику количества событий."
   ]
  },
  {
   "cell_type": "markdown",
   "metadata": {},
   "source": [
    "Время теса проведения совпадает с маркетинговыми событиями."
   ]
  },
  {
   "cell_type": "code",
   "execution_count": null,
   "metadata": {},
   "outputs": [],
   "source": [
    "# Проверим, проводились ли какие-либо маркетинговые события в период проведения АВ теста:\n",
    "marketing_events[marketing_events['start_dt']>'2020-12-07']"
   ]
  },
  {
   "cell_type": "markdown",
   "metadata": {},
   "source": [
    "Период проведения АВ теста совпал с проведением Новогодних маркетинговых событий:\n",
    "- Christmas&New Year Promo\t\n",
    "- CIS New Year Gift Lottery\t\n",
    "\n",
    "Пересечение маркетинговых компаний, с АВ-тестом могло существенно сказаться на ключевых метриках и исказить результаты теста.\n",
    "Событие \"CIS New Year Gift Lottery\" не повлияло на наш тест, т.к. его начало совпало с окончанием данных, имеющихся у нас."
   ]
  },
  {
   "cell_type": "markdown",
   "metadata": {},
   "source": [
    "Посмотрим количество  уникальных пользователей, авторизировавшихся в период проведения нашего теста:"
   ]
  },
  {
   "cell_type": "markdown",
   "metadata": {},
   "source": [
    "Не все активности релевантны для нас с учетом региона.\\\n",
    "Наш тест ориентирован на пользователей из Европы.\\\n",
    "С географией и датой нашего теста совпадает маркетинговое событие \"Christmas&New Year Promo\".\\\n",
    "По графику динамики количества событий, а также по графику авторизировавшихся пользователей мы не наблюдаем никаких аномальных активностей, даже наоборот. С 21 декабря активностиь пользователей начинает стремительно снижаться. И, даже с началом маректинговой кампании тренд к снижению активности продолжается.\\\n",
    "Следовательно, маркетинговое событие, вероятно, не оказало сильного влияния на активность пользователей."
   ]
  },
  {
   "cell_type": "markdown",
   "metadata": {},
   "source": [
    "### Продуктовая воронка\n",
    "- постройте простые продуктовые воронки для двух групп теста с учетом логической последовательности совершения событий; \n",
    "- изучите изменение конверсии в продуктовой воронке тестовой группы, по сравнению с контрольной: \n",
    "наблюдается ли ожидаемый эффект увеличения конверсии в группе В, относительно конверсии в группе А?"
   ]
  },
  {
   "cell_type": "code",
   "execution_count": null,
   "metadata": {},
   "outputs": [],
   "source": [
    "total = recommender_events['user_id'].nunique()\n",
    "funnel_table = recommender_events.groupby('event_name').agg({'user_id':'nunique'}).reindex(\n",
    "['login', 'product_page', 'product_cart','purchase']).reset_index()\n",
    "funnel_table['n/first '] = 100*round(funnel_table['user_id']/funnel_table['user_id'].max(),4)\n",
    "funnel_table['n/n-1'] = 100*round(funnel_table['user_id']/funnel_table['user_id'].shift(1),4)\n",
    "funnel_table"
   ]
  },
  {
   "cell_type": "markdown",
   "metadata": {},
   "source": [
    "**Рассуждаем о том, почему `purchase` больше, чем `product_cart`:**\n",
    "Покупок меньше, чем просмотротров корзин, вероятно, потому что пользователи могут совершать покупки не заходя в корзину, а прямо со страницы товара.\n",
    "Если пользователю  необходимо купить только лишь один конкретный товар, то он может сделать это очень быстро, не заходя в корзину.\\\n",
    "Соответственно, в том случае, если пользователь покупает несколько товаров сразу, что он вынужден воспользоваться переходом на страницу корзины.\n",
    "\n",
    "Либо же, пользщователь по умолчанию, в любой момент может переидти к оплате всей корзины, непосредственно не заходя в нее. "
   ]
  },
  {
   "cell_type": "code",
   "execution_count": null,
   "metadata": {},
   "outputs": [],
   "source": [
    "fig = px.funnel(funnel_table, y='event_name', x='user_id',\n",
    "                template=\"simple_white\",\n",
    "                title='Продуктовая воронка',\n",
    "                labels={\"Stage\": \"\"})\n",
    "fig.show(\"png\")"
   ]
  },
  {
   "cell_type": "code",
   "execution_count": null,
   "metadata": {},
   "outputs": [],
   "source": [
    "funnel_group = pd.pivot_table(recommender_events, index = ['event_name', 'group'], values = 'user_id', aggfunc = 'nunique').reset_index()\n",
    "funnel_group = funnel_group.reindex([0,1,4,5,2,3, 6,7])\n",
    "funnel_group"
   ]
  },
  {
   "cell_type": "code",
   "execution_count": null,
   "metadata": {},
   "outputs": [],
   "source": [
    "fig = px.funnel(funnel_group, y='event_name', x='user_id', color='group',\n",
    "                template=\"simple_white\",\n",
    "                title='Продуктовая воронка групп А/В',\n",
    "                labels={\"Stage\": \"\"})\n",
    "fig.show(\"png\")"
   ]
  },
  {
   "cell_type": "markdown",
   "metadata": {},
   "source": [
    "**Конверсия по группам:**"
   ]
  },
  {
   "cell_type": "code",
   "execution_count": null,
   "metadata": {},
   "outputs": [],
   "source": [
    "print('Конверсия пользователей группы А, просмотр корзины:',\n",
    "      round((funnel_group.loc[2, 'user_id']/funnel_group.loc[0,'user_id'])*100), '%')\n",
    "print('Конверсия пользователей группы B, просмотр корзины:',\n",
    "      round((funnel_group.loc[3, 'user_id']/funnel_group.loc[1,'user_id'])*100), '%')"
   ]
  },
  {
   "cell_type": "code",
   "execution_count": null,
   "metadata": {},
   "outputs": [],
   "source": [
    "print('Конверсия пользователей группы А, открывших карточку товара:',\n",
    "      round((funnel_group.loc[4, 'user_id']/funnel_group.loc[0,'user_id'])*100), '%')\n",
    "print('Конверсия пользователей группы B, открывших карточку товара:',\n",
    "      round((funnel_group.loc[5, 'user_id']/funnel_group.loc[1,'user_id'])*100), '%')"
   ]
  },
  {
   "cell_type": "code",
   "execution_count": null,
   "metadata": {},
   "outputs": [],
   "source": [
    "print('Конверсия пользователей группы А, совершивших покупку:',\n",
    "      round((funnel_group.loc[6, 'user_id']/funnel_group.loc[0,'user_id'])*100), '%')\n",
    "print('Конверсия пользователей группы B, совершивших покупку:',\n",
    "      round((funnel_group.loc[7, 'user_id']/funnel_group.loc[1,'user_id'])*100), '%')"
   ]
  },
  {
   "cell_type": "markdown",
   "metadata": {},
   "source": [
    "Ожидаемый эффект увеличения конверсии в группе В, относительно конверсии в группе А не наблюдается.\n",
    "Конверсия всех событий в группе А выигрывает по сравнению с группой В."
   ]
  },
  {
   "cell_type": "markdown",
   "metadata": {},
   "source": [
    "### Выводы по исследовательскому анализу данных\n",
    "\n",
    "- Общий вывод об изменении пользовательской активности в тестовой группе, по сравнению с контрольной."
   ]
  },
  {
   "cell_type": "markdown",
   "metadata": {},
   "source": [
    "**Количество событий на уникального пользователя в разрезе групп теста распределено неравномерно:**\n",
    "\n",
    "- Среднее количество событий на пользователя в группе А =  6.9\n",
    "- Среднее количество событий на пользователя в группе B =  5.4\n",
    "__________\n",
    "\n",
    "\n",
    "\n",
    "**Динамика количества событий в группах теста по дням:**\n",
    "\n",
    "На всей продолжительности АВ теста группа В демонстрирует нам меньшее количество событий в день, по сравнению с группой А.\n",
    "__________\n",
    "\n",
    "\n",
    "**Время проведения теста совпадает с маркетинговыми и другими активностями**\n",
    "\n",
    "Период проведения АВ теста совпал с проведением Новогодних маркетинговых событий. Событие \"Christmas&New Year Promo\" может сказаться на результатах АВ тестирования, так как частично совпадает с датой его проведения, а именно с 2020-12-25 по 2021-01-03.\n",
    "\n",
    "----------\n",
    "\n",
    "**Продуктовая воронка:**\n",
    "\n",
    "Ожидаемый эффект увеличения конверсии в группе В, относительно конверсии в группе А не наблюдается. Конверсия всех событий в группе А выигрывает по сравнению с группой В.\n",
    "__________\n"
   ]
  },
  {
   "cell_type": "markdown",
   "metadata": {},
   "source": [
    "## Оценка результатов A/B-тестирования:"
   ]
  },
  {
   "cell_type": "markdown",
   "metadata": {},
   "source": [
    "### Проверка статистической разницы долей z-критерием."
   ]
  },
  {
   "cell_type": "markdown",
   "metadata": {},
   "source": [
    "Проверка гипотезы о наличии различий между конверсиями в группах А и В:\n",
    "\n",
    "- Н1: Между конверсиями групп А и В статистически значимая разница отсутствует.\n",
    "\n",
    "- Н0: Есть статистически значимая разница между конверсиями групп А и В."
   ]
  },
  {
   "cell_type": "code",
   "execution_count": null,
   "metadata": {},
   "outputs": [],
   "source": [
    "def conversion(target, login):    \n",
    "    alpha = 0.05 \n",
    "    p1 = target[0] / login[0]\n",
    "    p2 = target[1] / login[1]\n",
    "    p_combined = (target[0] + target[1]) / (login[0] + login[1]) \n",
    "    difference = p1 - p2\n",
    "    z_value = difference / mth.sqrt(p_combined * (1 - p_combined) * (1 / login[0] + 1 / login[1]))                                               \n",
    "    distr = st.norm(0, 1) # задаем стандартное нормальное распределение\n",
    "    p_value = (1 - distr.cdf(abs(z_value))) * 2\n",
    "    \n",
    "    if (p_value < alpha):\n",
    "        print('Отвергаем нулевую гипотезу: между группами есть статистически значимые различия.')\n",
    "        \n",
    "    else:\n",
    "        print('Не получилось отвергнуть нулевую гипотезу, нет статистически значимых различий между группами.')\n",
    "       \n",
    "    return print('p_value:', p_value)"
   ]
  },
  {
   "cell_type": "markdown",
   "metadata": {},
   "source": [
    "**Проверка гипотезы о равнестве конверсий в группах.\\\n",
    "Целевое событие - просмотр корзины (product_cart)**"
   ]
  },
  {
   "cell_type": "code",
   "execution_count": null,
   "metadata": {},
   "outputs": [],
   "source": [
    "login = np.array([funnel_group.loc[0, 'user_id'], funnel_group.loc[1, 'user_id']])\n",
    "target = np.array([funnel_group.loc[2, 'user_id'], funnel_group.loc[3, 'user_id']])\n",
    "conversion(target, login)"
   ]
  },
  {
   "cell_type": "markdown",
   "metadata": {},
   "source": [
    "**Проверка гипотезы о равнестве конверсий в группах.\\\n",
    "Целевое событие - открытие карточки товара (product_page)**"
   ]
  },
  {
   "cell_type": "code",
   "execution_count": null,
   "metadata": {},
   "outputs": [],
   "source": [
    "target = np.array([funnel_group.loc[4, 'user_id'], funnel_group.loc[5, 'user_id']])\n",
    "conversion(target, login)"
   ]
  },
  {
   "cell_type": "markdown",
   "metadata": {},
   "source": [
    "**Проверка гипотезы о равнестве конверсий в группах.\\\n",
    "Целевое событие - совершение покупки (purchase)**"
   ]
  },
  {
   "cell_type": "code",
   "execution_count": null,
   "metadata": {},
   "outputs": [],
   "source": [
    "\n",
    "target = np.array([funnel_group.loc[6, 'user_id'], funnel_group.loc[7, 'user_id']])\n",
    "conversion(target, login)"
   ]
  },
  {
   "cell_type": "markdown",
   "metadata": {},
   "source": [
    "**При проверке гипотез о равенстве конверсий, выяснили следующее:**\n",
    "- Конверсия целевых событий \"product_cart\" и \"product_cart\" не имеют статистически значимых различий между группами А и В.\n",
    "- Конверсия целевого события \"product_page\" имеет статистически значимую разницу между группами А и В. Было зафиксировано преимущество контрольной группы относительно тестовой."
   ]
  },
  {
   "cell_type": "markdown",
   "metadata": {},
   "source": [
    "### Выводы по оценке результатов А/B-тестирования"
   ]
  },
  {
   "cell_type": "markdown",
   "metadata": {},
   "source": [
    "Ожидаемый эффект в изменении конверсии достигнут не был.\n",
    "Ожидаемый эффект в ТЗ: за 14 дней с момента регистрации в системе пользователи покажут улучшение каждой метрики не менее, чем на 5 процентных пунктов.\n"
   ]
  },
  {
   "cell_type": "markdown",
   "metadata": {},
   "source": [
    "## Выводы\n",
    "Опишите выводы по этапу исследовательского анализа данных и по проведённой оценке результатов A/B-тестирования. Сделайте общее заключение о корректности проведения теста. Дайте рекомендации."
   ]
  },
  {
   "cell_type": "markdown",
   "metadata": {},
   "source": [
    "По результатам проверки текущего АВ-теста, были выявлены следующие несоответствия:\n",
    "- Дата остановки теста по ТЗ: 2021-01-04, что не соответствует фактически полученным данным из таблицы \n",
    "поступление информации закончилось ранее 04 января, а именно: остановка набора данных (файл events) была зафиксирована 2020-12-30. \n",
    "- пользователи были распределены на группы неравномерно: 2082/705(79%/21%) на этапе авторизации\n",
    "- Не были достигнуты ожидаемые показатели конверсии. В тестовой группе, по сравнению с контрольной, показатели либо не изменились, либо ухудшились.\n",
    "- данное А\\В тестирование пересекается с маркетинговыми акциями и новогодним периодом, что автоматически делает исследование некорректным.\n",
    "- Проведение нескольких, пересекающихся между собой АВ-тестирваний недопустимо.\n",
    "- Задействование одних и тех же уникальных пользователей в разных АВ-тестах недопустимо.\n"
   ]
  },
  {
   "cell_type": "markdown",
   "metadata": {},
   "source": [
    "**Рекомендации:**\n",
    "Не стоит доверять результатам текущего АВ теста.\n",
    "Основываясь на полученных результатах исследования, рекомендуется перезапусть АВ тест, с учетом следующих рекомендаций:\n",
    "- Не должно быть пересечений с какими-либо маркетинговыми событиями и промо-акциями, также стоит обратить внимение на близлежащие календарными праздники. Провести АВ тест таким образом, чтобы он не пересекался с ними.\n",
    "- Проследить за равномерностью распределения участников в обеих группах.\n",
    "- Контролировать полноту предоставления данных. Выявить причину отсутствия части данных в предыдущем АВ тесте."
   ]
  }
 ],
 "metadata": {
  "ExecuteTimeLog": [
   {
    "duration": 75,
    "start_time": "2023-10-02T11:38:01.071Z"
   },
   {
    "duration": 449,
    "start_time": "2023-10-02T11:38:03.903Z"
   },
   {
    "duration": 73,
    "start_time": "2023-10-02T11:38:04.354Z"
   },
   {
    "duration": 43,
    "start_time": "2023-10-02T11:38:07.894Z"
   },
   {
    "duration": 44,
    "start_time": "2023-10-02T11:38:17.572Z"
   },
   {
    "duration": 289,
    "start_time": "2023-10-02T11:39:12.772Z"
   },
   {
    "duration": 122,
    "start_time": "2023-10-02T11:39:22.251Z"
   },
   {
    "duration": 68,
    "start_time": "2023-10-02T11:39:32.052Z"
   },
   {
    "duration": 104,
    "start_time": "2023-10-02T11:39:37.723Z"
   },
   {
    "duration": 857,
    "start_time": "2023-10-02T11:40:43.051Z"
   },
   {
    "duration": 659,
    "start_time": "2023-10-02T11:40:55.897Z"
   },
   {
    "duration": 98,
    "start_time": "2023-10-02T11:41:44.453Z"
   },
   {
    "duration": 78,
    "start_time": "2023-10-02T11:41:53.492Z"
   },
   {
    "duration": 51,
    "start_time": "2023-10-02T11:41:58.253Z"
   },
   {
    "duration": 37,
    "start_time": "2023-10-02T12:00:41.553Z"
   },
   {
    "duration": 51,
    "start_time": "2023-10-02T15:59:19.515Z"
   },
   {
    "duration": 427,
    "start_time": "2023-10-02T15:59:32.542Z"
   },
   {
    "duration": 77,
    "start_time": "2023-10-02T15:59:32.970Z"
   },
   {
    "duration": 186,
    "start_time": "2023-10-02T15:59:33.050Z"
   },
   {
    "duration": 695,
    "start_time": "2023-10-02T15:59:33.237Z"
   },
   {
    "duration": 69,
    "start_time": "2023-10-02T15:59:33.934Z"
   },
   {
    "duration": 21,
    "start_time": "2023-10-02T15:59:34.005Z"
   },
   {
    "duration": 7,
    "start_time": "2023-10-02T16:16:27.234Z"
   },
   {
    "duration": 15,
    "start_time": "2023-10-02T16:16:46.222Z"
   },
   {
    "duration": 101,
    "start_time": "2023-10-02T16:24:25.834Z"
   },
   {
    "duration": 87,
    "start_time": "2023-10-02T16:24:35.914Z"
   },
   {
    "duration": 22,
    "start_time": "2023-10-02T16:24:47.261Z"
   },
   {
    "duration": 438,
    "start_time": "2023-10-02T16:25:09.514Z"
   },
   {
    "duration": 22,
    "start_time": "2023-10-02T16:25:49.025Z"
   },
   {
    "duration": 19,
    "start_time": "2023-10-02T16:26:16.953Z"
   },
   {
    "duration": 21,
    "start_time": "2023-10-02T16:26:24.593Z"
   },
   {
    "duration": 22,
    "start_time": "2023-10-02T16:26:48.734Z"
   },
   {
    "duration": 36,
    "start_time": "2023-10-02T16:28:34.354Z"
   },
   {
    "duration": 412,
    "start_time": "2023-10-02T16:35:09.422Z"
   },
   {
    "duration": 39,
    "start_time": "2023-10-02T16:35:09.836Z"
   },
   {
    "duration": 78,
    "start_time": "2023-10-02T16:35:09.877Z"
   },
   {
    "duration": 560,
    "start_time": "2023-10-02T16:35:09.957Z"
   },
   {
    "duration": 39,
    "start_time": "2023-10-02T16:35:10.519Z"
   },
   {
    "duration": 6,
    "start_time": "2023-10-02T16:35:10.560Z"
   },
   {
    "duration": 59,
    "start_time": "2023-10-02T16:35:10.568Z"
   },
   {
    "duration": 28,
    "start_time": "2023-10-02T16:35:10.629Z"
   },
   {
    "duration": 178,
    "start_time": "2023-10-02T16:46:57.684Z"
   },
   {
    "duration": 14,
    "start_time": "2023-10-02T16:50:24.995Z"
   },
   {
    "duration": 106,
    "start_time": "2023-10-02T16:50:50.076Z"
   },
   {
    "duration": 531,
    "start_time": "2023-10-02T16:52:12.716Z"
   },
   {
    "duration": 84,
    "start_time": "2023-10-02T16:53:50.868Z"
   },
   {
    "duration": 37,
    "start_time": "2023-10-02T17:12:56.509Z"
   },
   {
    "duration": 10,
    "start_time": "2023-10-02T17:13:32.669Z"
   },
   {
    "duration": 7,
    "start_time": "2023-10-02T17:14:05.977Z"
   },
   {
    "duration": 7,
    "start_time": "2023-10-02T17:14:12.310Z"
   },
   {
    "duration": 36,
    "start_time": "2023-10-02T17:14:16.469Z"
   },
   {
    "duration": 448,
    "start_time": "2023-10-02T17:14:28.607Z"
   },
   {
    "duration": 37,
    "start_time": "2023-10-02T17:14:29.057Z"
   },
   {
    "duration": 79,
    "start_time": "2023-10-02T17:14:29.096Z"
   },
   {
    "duration": 566,
    "start_time": "2023-10-02T17:14:29.177Z"
   },
   {
    "duration": 32,
    "start_time": "2023-10-02T17:14:29.746Z"
   },
   {
    "duration": 5,
    "start_time": "2023-10-02T17:14:29.780Z"
   },
   {
    "duration": 24,
    "start_time": "2023-10-02T17:14:29.786Z"
   },
   {
    "duration": 38,
    "start_time": "2023-10-02T17:14:29.824Z"
   },
   {
    "duration": 12,
    "start_time": "2023-10-02T17:14:29.864Z"
   },
   {
    "duration": 108,
    "start_time": "2023-10-02T17:14:29.878Z"
   },
   {
    "duration": 46,
    "start_time": "2023-10-02T17:14:29.987Z"
   },
   {
    "duration": 514,
    "start_time": "2023-10-02T17:14:30.034Z"
   },
   {
    "duration": 29,
    "start_time": "2023-10-02T17:14:30.549Z"
   },
   {
    "duration": 187,
    "start_time": "2023-10-02T17:17:55.809Z"
   },
   {
    "duration": 15,
    "start_time": "2023-10-02T17:18:10.709Z"
   },
   {
    "duration": 18,
    "start_time": "2023-10-02T17:19:37.269Z"
   },
   {
    "duration": 103,
    "start_time": "2023-10-02T17:20:08.754Z"
   },
   {
    "duration": 15,
    "start_time": "2023-10-02T17:20:13.737Z"
   },
   {
    "duration": 19,
    "start_time": "2023-10-02T17:21:28.061Z"
   },
   {
    "duration": 4,
    "start_time": "2023-10-02T17:28:08.248Z"
   },
   {
    "duration": 39,
    "start_time": "2023-10-02T17:55:31.983Z"
   },
   {
    "duration": 8,
    "start_time": "2023-10-02T18:18:01.576Z"
   },
   {
    "duration": 6,
    "start_time": "2023-10-02T18:22:59.599Z"
   },
   {
    "duration": 11,
    "start_time": "2023-10-02T18:23:10.418Z"
   },
   {
    "duration": 8,
    "start_time": "2023-10-02T18:23:32.578Z"
   },
   {
    "duration": 5,
    "start_time": "2023-10-02T18:25:27.927Z"
   },
   {
    "duration": 6,
    "start_time": "2023-10-02T18:40:56.012Z"
   },
   {
    "duration": 6,
    "start_time": "2023-10-02T18:41:13.224Z"
   },
   {
    "duration": 6,
    "start_time": "2023-10-02T18:44:55.821Z"
   },
   {
    "duration": 10,
    "start_time": "2023-10-02T18:46:15.944Z"
   },
   {
    "duration": 50,
    "start_time": "2023-10-04T14:29:14.216Z"
   },
   {
    "duration": 428,
    "start_time": "2023-10-04T14:29:23.624Z"
   },
   {
    "duration": 80,
    "start_time": "2023-10-04T14:29:24.054Z"
   },
   {
    "duration": 180,
    "start_time": "2023-10-04T14:29:24.135Z"
   },
   {
    "duration": 710,
    "start_time": "2023-10-04T14:29:24.317Z"
   },
   {
    "duration": 78,
    "start_time": "2023-10-04T14:29:25.030Z"
   },
   {
    "duration": 5,
    "start_time": "2023-10-04T14:29:25.111Z"
   },
   {
    "duration": 40,
    "start_time": "2023-10-04T14:29:25.118Z"
   },
   {
    "duration": 27,
    "start_time": "2023-10-04T14:29:25.160Z"
   },
   {
    "duration": 35,
    "start_time": "2023-10-04T14:29:25.189Z"
   },
   {
    "duration": 86,
    "start_time": "2023-10-04T14:29:25.226Z"
   },
   {
    "duration": 33,
    "start_time": "2023-10-04T14:29:25.313Z"
   },
   {
    "duration": 447,
    "start_time": "2023-10-04T14:29:25.348Z"
   },
   {
    "duration": 3,
    "start_time": "2023-10-04T14:29:25.797Z"
   },
   {
    "duration": 242,
    "start_time": "2023-10-04T14:29:25.803Z"
   },
   {
    "duration": 60,
    "start_time": "2023-10-04T14:29:26.046Z"
   },
   {
    "duration": 39,
    "start_time": "2023-10-04T14:29:26.107Z"
   },
   {
    "duration": 42,
    "start_time": "2023-10-04T14:29:26.148Z"
   },
   {
    "duration": 32,
    "start_time": "2023-10-04T14:29:26.192Z"
   },
   {
    "duration": 526,
    "start_time": "2023-10-04T14:29:26.226Z"
   },
   {
    "duration": 5,
    "start_time": "2023-10-04T14:32:40.673Z"
   },
   {
    "duration": 497,
    "start_time": "2023-10-04T14:33:56.075Z"
   },
   {
    "duration": 7,
    "start_time": "2023-10-04T14:34:04.627Z"
   },
   {
    "duration": 392,
    "start_time": "2023-10-04T15:13:43.972Z"
   },
   {
    "duration": 4,
    "start_time": "2023-10-04T15:13:51.715Z"
   },
   {
    "duration": 5,
    "start_time": "2023-10-04T15:14:14.243Z"
   },
   {
    "duration": 101,
    "start_time": "2023-10-04T15:18:28.444Z"
   },
   {
    "duration": 5,
    "start_time": "2023-10-04T15:18:41.745Z"
   },
   {
    "duration": 10,
    "start_time": "2023-10-04T15:18:54.763Z"
   },
   {
    "duration": 9,
    "start_time": "2023-10-04T15:19:02.101Z"
   },
   {
    "duration": 11,
    "start_time": "2023-10-04T15:19:21.721Z"
   },
   {
    "duration": 408,
    "start_time": "2023-10-04T15:19:32.436Z"
   },
   {
    "duration": 41,
    "start_time": "2023-10-04T15:19:32.846Z"
   },
   {
    "duration": 262,
    "start_time": "2023-10-04T15:19:32.889Z"
   },
   {
    "duration": 586,
    "start_time": "2023-10-04T15:19:33.153Z"
   },
   {
    "duration": 30,
    "start_time": "2023-10-04T15:19:33.742Z"
   },
   {
    "duration": 361,
    "start_time": "2023-10-04T15:19:33.775Z"
   },
   {
    "duration": 166,
    "start_time": "2023-10-04T15:19:34.138Z"
   },
   {
    "duration": 57,
    "start_time": "2023-10-04T15:19:34.306Z"
   },
   {
    "duration": 145,
    "start_time": "2023-10-04T15:19:34.365Z"
   },
   {
    "duration": 37,
    "start_time": "2023-10-04T15:19:34.512Z"
   },
   {
    "duration": 184,
    "start_time": "2023-10-04T15:19:34.550Z"
   },
   {
    "duration": 179,
    "start_time": "2023-10-04T15:19:34.736Z"
   },
   {
    "duration": 0,
    "start_time": "2023-10-04T15:19:34.917Z"
   },
   {
    "duration": 0,
    "start_time": "2023-10-04T15:19:34.918Z"
   },
   {
    "duration": 0,
    "start_time": "2023-10-04T15:19:34.920Z"
   },
   {
    "duration": 0,
    "start_time": "2023-10-04T15:19:34.921Z"
   },
   {
    "duration": 0,
    "start_time": "2023-10-04T15:19:34.922Z"
   },
   {
    "duration": 0,
    "start_time": "2023-10-04T15:19:34.928Z"
   },
   {
    "duration": 0,
    "start_time": "2023-10-04T15:19:34.929Z"
   },
   {
    "duration": 0,
    "start_time": "2023-10-04T15:19:34.930Z"
   },
   {
    "duration": 0,
    "start_time": "2023-10-04T15:19:34.936Z"
   },
   {
    "duration": 0,
    "start_time": "2023-10-04T15:19:34.938Z"
   },
   {
    "duration": 412,
    "start_time": "2023-10-04T15:19:53.044Z"
   },
   {
    "duration": 41,
    "start_time": "2023-10-04T15:19:53.458Z"
   },
   {
    "duration": 82,
    "start_time": "2023-10-04T15:19:53.500Z"
   },
   {
    "duration": 510,
    "start_time": "2023-10-04T15:19:53.584Z"
   },
   {
    "duration": 44,
    "start_time": "2023-10-04T15:19:54.096Z"
   },
   {
    "duration": 55,
    "start_time": "2023-10-04T15:19:54.142Z"
   },
   {
    "duration": 71,
    "start_time": "2023-10-04T15:19:54.199Z"
   },
   {
    "duration": 24,
    "start_time": "2023-10-04T15:19:54.272Z"
   },
   {
    "duration": 115,
    "start_time": "2023-10-04T15:19:54.297Z"
   },
   {
    "duration": 35,
    "start_time": "2023-10-04T15:19:54.413Z"
   },
   {
    "duration": 6,
    "start_time": "2023-10-04T15:19:54.450Z"
   },
   {
    "duration": 47,
    "start_time": "2023-10-04T15:19:54.457Z"
   },
   {
    "duration": 37,
    "start_time": "2023-10-04T15:19:54.506Z"
   },
   {
    "duration": 521,
    "start_time": "2023-10-04T15:19:54.546Z"
   },
   {
    "duration": 3,
    "start_time": "2023-10-04T15:19:55.069Z"
   },
   {
    "duration": 194,
    "start_time": "2023-10-04T15:19:55.074Z"
   },
   {
    "duration": 189,
    "start_time": "2023-10-04T15:19:55.270Z"
   },
   {
    "duration": 177,
    "start_time": "2023-10-04T15:19:55.461Z"
   },
   {
    "duration": 207,
    "start_time": "2023-10-04T15:19:55.640Z"
   },
   {
    "duration": 193,
    "start_time": "2023-10-04T15:19:55.850Z"
   },
   {
    "duration": 118,
    "start_time": "2023-10-04T15:19:56.044Z"
   },
   {
    "duration": 9,
    "start_time": "2023-10-04T15:24:09.586Z"
   },
   {
    "duration": 448,
    "start_time": "2023-10-04T15:39:42.066Z"
   },
   {
    "duration": 111,
    "start_time": "2023-10-04T15:40:43.880Z"
   },
   {
    "duration": 5,
    "start_time": "2023-10-04T15:40:51.840Z"
   },
   {
    "duration": 476,
    "start_time": "2023-10-04T15:40:58.588Z"
   },
   {
    "duration": 14,
    "start_time": "2023-10-04T15:41:06.020Z"
   },
   {
    "duration": 10,
    "start_time": "2023-10-04T15:41:21.135Z"
   },
   {
    "duration": 8,
    "start_time": "2023-10-04T15:41:54.394Z"
   },
   {
    "duration": 361,
    "start_time": "2023-10-04T15:42:14.779Z"
   },
   {
    "duration": 39,
    "start_time": "2023-10-04T15:42:15.142Z"
   },
   {
    "duration": 79,
    "start_time": "2023-10-04T15:42:15.183Z"
   },
   {
    "duration": 522,
    "start_time": "2023-10-04T15:42:15.264Z"
   },
   {
    "duration": 31,
    "start_time": "2023-10-04T15:42:15.787Z"
   },
   {
    "duration": 4,
    "start_time": "2023-10-04T15:42:15.819Z"
   },
   {
    "duration": 23,
    "start_time": "2023-10-04T15:42:15.825Z"
   },
   {
    "duration": 13,
    "start_time": "2023-10-04T15:42:15.851Z"
   },
   {
    "duration": 117,
    "start_time": "2023-10-04T15:42:15.866Z"
   },
   {
    "duration": 47,
    "start_time": "2023-10-04T15:42:15.987Z"
   },
   {
    "duration": 9,
    "start_time": "2023-10-04T15:42:16.036Z"
   },
   {
    "duration": 12,
    "start_time": "2023-10-04T15:42:16.047Z"
   },
   {
    "duration": 12,
    "start_time": "2023-10-04T15:42:16.061Z"
   },
   {
    "duration": 487,
    "start_time": "2023-10-04T15:42:16.075Z"
   },
   {
    "duration": 3,
    "start_time": "2023-10-04T15:42:16.564Z"
   },
   {
    "duration": 122,
    "start_time": "2023-10-04T15:42:16.569Z"
   },
   {
    "duration": 40,
    "start_time": "2023-10-04T15:42:16.693Z"
   },
   {
    "duration": 5,
    "start_time": "2023-10-04T15:42:16.734Z"
   },
   {
    "duration": 20,
    "start_time": "2023-10-04T15:42:16.741Z"
   },
   {
    "duration": 13,
    "start_time": "2023-10-04T15:42:16.762Z"
   },
   {
    "duration": 15,
    "start_time": "2023-10-04T15:42:16.776Z"
   },
   {
    "duration": 17,
    "start_time": "2023-10-04T15:42:16.793Z"
   },
   {
    "duration": 12,
    "start_time": "2023-10-04T15:42:56.492Z"
   },
   {
    "duration": 6,
    "start_time": "2023-10-04T15:43:04.200Z"
   },
   {
    "duration": 5,
    "start_time": "2023-10-04T15:43:13.640Z"
   },
   {
    "duration": 47,
    "start_time": "2023-10-04T19:22:41.199Z"
   },
   {
    "duration": 382,
    "start_time": "2023-10-04T19:23:00.888Z"
   },
   {
    "duration": 80,
    "start_time": "2023-10-04T19:23:01.272Z"
   },
   {
    "duration": 443,
    "start_time": "2023-10-04T19:23:01.353Z"
   },
   {
    "duration": 1952,
    "start_time": "2023-10-04T19:23:01.798Z"
   },
   {
    "duration": 118,
    "start_time": "2023-10-04T19:23:03.753Z"
   },
   {
    "duration": 5,
    "start_time": "2023-10-04T19:23:03.872Z"
   },
   {
    "duration": 38,
    "start_time": "2023-10-04T19:23:03.879Z"
   },
   {
    "duration": 26,
    "start_time": "2023-10-04T19:23:03.919Z"
   },
   {
    "duration": 124,
    "start_time": "2023-10-04T19:23:03.947Z"
   },
   {
    "duration": 36,
    "start_time": "2023-10-04T19:23:04.073Z"
   },
   {
    "duration": 11,
    "start_time": "2023-10-04T19:23:04.111Z"
   },
   {
    "duration": 34,
    "start_time": "2023-10-04T19:23:04.123Z"
   },
   {
    "duration": 24,
    "start_time": "2023-10-04T19:23:04.159Z"
   },
   {
    "duration": 450,
    "start_time": "2023-10-04T19:23:04.187Z"
   },
   {
    "duration": 6,
    "start_time": "2023-10-04T19:23:04.639Z"
   },
   {
    "duration": 142,
    "start_time": "2023-10-04T19:23:04.646Z"
   },
   {
    "duration": 26,
    "start_time": "2023-10-04T19:23:04.789Z"
   },
   {
    "duration": 4,
    "start_time": "2023-10-04T19:23:04.817Z"
   },
   {
    "duration": 30,
    "start_time": "2023-10-04T19:23:04.822Z"
   },
   {
    "duration": 18,
    "start_time": "2023-10-04T19:23:04.853Z"
   },
   {
    "duration": 4,
    "start_time": "2023-10-04T19:23:04.872Z"
   },
   {
    "duration": 75,
    "start_time": "2023-10-04T19:23:04.878Z"
   },
   {
    "duration": 24,
    "start_time": "2023-10-04T19:23:28.693Z"
   },
   {
    "duration": 11,
    "start_time": "2023-10-04T19:26:01.885Z"
   },
   {
    "duration": 843,
    "start_time": "2023-10-04T19:28:01.623Z"
   },
   {
    "duration": 26,
    "start_time": "2023-10-04T19:34:20.439Z"
   },
   {
    "duration": 811,
    "start_time": "2023-10-04T19:34:38.783Z"
   },
   {
    "duration": 33,
    "start_time": "2023-10-04T19:35:45.810Z"
   },
   {
    "duration": 27,
    "start_time": "2023-10-04T19:35:53.630Z"
   },
   {
    "duration": 787,
    "start_time": "2023-10-04T19:35:59.922Z"
   },
   {
    "duration": 4,
    "start_time": "2023-10-04T19:36:44.350Z"
   },
   {
    "duration": 28,
    "start_time": "2023-10-04T19:37:00.250Z"
   },
   {
    "duration": 10,
    "start_time": "2023-10-04T20:13:33.387Z"
   },
   {
    "duration": 63,
    "start_time": "2023-10-04T20:14:17.386Z"
   },
   {
    "duration": 66,
    "start_time": "2023-10-04T20:14:25.891Z"
   },
   {
    "duration": 11,
    "start_time": "2023-10-04T20:14:50.607Z"
   },
   {
    "duration": 10,
    "start_time": "2023-10-04T20:15:05.394Z"
   },
   {
    "duration": 10,
    "start_time": "2023-10-04T20:16:24.636Z"
   },
   {
    "duration": 11,
    "start_time": "2023-10-04T20:16:43.035Z"
   },
   {
    "duration": 367,
    "start_time": "2023-10-05T18:09:33.395Z"
   },
   {
    "duration": 71,
    "start_time": "2023-10-05T18:09:33.763Z"
   },
   {
    "duration": 296,
    "start_time": "2023-10-05T18:09:33.838Z"
   },
   {
    "duration": 663,
    "start_time": "2023-10-05T18:09:34.136Z"
   },
   {
    "duration": 81,
    "start_time": "2023-10-05T18:09:34.801Z"
   },
   {
    "duration": 5,
    "start_time": "2023-10-05T18:09:34.885Z"
   },
   {
    "duration": 30,
    "start_time": "2023-10-05T18:09:34.891Z"
   },
   {
    "duration": 13,
    "start_time": "2023-10-05T18:09:34.922Z"
   },
   {
    "duration": 74,
    "start_time": "2023-10-05T18:09:34.938Z"
   },
   {
    "duration": 43,
    "start_time": "2023-10-05T18:09:35.014Z"
   },
   {
    "duration": 9,
    "start_time": "2023-10-05T18:09:35.059Z"
   },
   {
    "duration": 11,
    "start_time": "2023-10-05T18:09:35.070Z"
   },
   {
    "duration": 12,
    "start_time": "2023-10-05T18:09:35.083Z"
   },
   {
    "duration": 441,
    "start_time": "2023-10-05T18:09:35.097Z"
   },
   {
    "duration": 3,
    "start_time": "2023-10-05T18:09:35.540Z"
   },
   {
    "duration": 144,
    "start_time": "2023-10-05T18:09:35.549Z"
   },
   {
    "duration": 73,
    "start_time": "2023-10-05T18:09:35.694Z"
   },
   {
    "duration": 30,
    "start_time": "2023-10-05T18:09:35.768Z"
   },
   {
    "duration": 38,
    "start_time": "2023-10-05T18:09:35.799Z"
   },
   {
    "duration": 66,
    "start_time": "2023-10-05T18:09:35.838Z"
   },
   {
    "duration": 24,
    "start_time": "2023-10-05T18:09:35.906Z"
   },
   {
    "duration": 116,
    "start_time": "2023-10-05T18:09:35.932Z"
   },
   {
    "duration": 0,
    "start_time": "2023-10-05T18:09:36.050Z"
   },
   {
    "duration": 0,
    "start_time": "2023-10-05T18:09:36.051Z"
   },
   {
    "duration": 25,
    "start_time": "2023-10-05T18:09:51.890Z"
   },
   {
    "duration": 5,
    "start_time": "2023-10-05T18:09:55.022Z"
   },
   {
    "duration": 3,
    "start_time": "2023-10-06T09:41:46.807Z"
   },
   {
    "duration": 421,
    "start_time": "2023-10-06T10:04:40.530Z"
   },
   {
    "duration": 75,
    "start_time": "2023-10-06T10:04:40.954Z"
   },
   {
    "duration": 185,
    "start_time": "2023-10-06T10:04:41.034Z"
   },
   {
    "duration": 653,
    "start_time": "2023-10-06T10:04:41.221Z"
   },
   {
    "duration": 67,
    "start_time": "2023-10-06T10:04:41.875Z"
   },
   {
    "duration": 4,
    "start_time": "2023-10-06T10:04:41.943Z"
   },
   {
    "duration": 22,
    "start_time": "2023-10-06T10:04:41.948Z"
   },
   {
    "duration": 18,
    "start_time": "2023-10-06T10:04:41.972Z"
   },
   {
    "duration": 73,
    "start_time": "2023-10-06T10:04:41.991Z"
   },
   {
    "duration": 24,
    "start_time": "2023-10-06T10:04:42.065Z"
   },
   {
    "duration": 27,
    "start_time": "2023-10-06T10:04:42.090Z"
   },
   {
    "duration": 47,
    "start_time": "2023-10-06T10:04:42.119Z"
   },
   {
    "duration": 39,
    "start_time": "2023-10-06T10:04:42.169Z"
   },
   {
    "duration": 437,
    "start_time": "2023-10-06T10:04:42.210Z"
   },
   {
    "duration": 2,
    "start_time": "2023-10-06T10:04:42.649Z"
   },
   {
    "duration": 116,
    "start_time": "2023-10-06T10:04:42.653Z"
   },
   {
    "duration": 28,
    "start_time": "2023-10-06T10:04:42.770Z"
   },
   {
    "duration": 24,
    "start_time": "2023-10-06T10:04:42.800Z"
   },
   {
    "duration": 13,
    "start_time": "2023-10-06T10:04:42.825Z"
   },
   {
    "duration": 18,
    "start_time": "2023-10-06T10:04:42.839Z"
   },
   {
    "duration": 12,
    "start_time": "2023-10-06T10:04:42.859Z"
   },
   {
    "duration": 32,
    "start_time": "2023-10-06T10:04:42.873Z"
   },
   {
    "duration": 5,
    "start_time": "2023-10-06T10:04:42.927Z"
   },
   {
    "duration": 13,
    "start_time": "2023-10-06T10:04:42.933Z"
   },
   {
    "duration": 8,
    "start_time": "2023-10-06T10:40:22.837Z"
   },
   {
    "duration": 6,
    "start_time": "2023-10-06T10:40:52.915Z"
   },
   {
    "duration": 6,
    "start_time": "2023-10-06T10:44:21.667Z"
   },
   {
    "duration": 30,
    "start_time": "2023-10-06T10:44:41.120Z"
   },
   {
    "duration": 31,
    "start_time": "2023-10-06T10:44:48.361Z"
   },
   {
    "duration": 8,
    "start_time": "2023-10-06T10:46:16.459Z"
   },
   {
    "duration": 5,
    "start_time": "2023-10-06T10:50:57.058Z"
   },
   {
    "duration": 5,
    "start_time": "2023-10-06T10:52:30.619Z"
   },
   {
    "duration": 6,
    "start_time": "2023-10-06T11:11:41.311Z"
   },
   {
    "duration": 47,
    "start_time": "2023-10-06T19:42:00.208Z"
   },
   {
    "duration": 428,
    "start_time": "2023-10-06T19:42:21.234Z"
   },
   {
    "duration": 79,
    "start_time": "2023-10-06T19:42:21.664Z"
   },
   {
    "duration": 188,
    "start_time": "2023-10-06T19:42:21.745Z"
   },
   {
    "duration": 721,
    "start_time": "2023-10-06T19:42:21.935Z"
   },
   {
    "duration": 70,
    "start_time": "2023-10-06T19:42:22.659Z"
   },
   {
    "duration": 4,
    "start_time": "2023-10-06T19:42:22.731Z"
   },
   {
    "duration": 41,
    "start_time": "2023-10-06T19:42:22.737Z"
   },
   {
    "duration": 62,
    "start_time": "2023-10-06T19:42:22.779Z"
   },
   {
    "duration": 79,
    "start_time": "2023-10-06T19:42:22.843Z"
   },
   {
    "duration": 39,
    "start_time": "2023-10-06T19:42:22.924Z"
   },
   {
    "duration": 6,
    "start_time": "2023-10-06T19:42:22.965Z"
   },
   {
    "duration": 34,
    "start_time": "2023-10-06T19:42:22.973Z"
   },
   {
    "duration": 75,
    "start_time": "2023-10-06T19:42:23.009Z"
   },
   {
    "duration": 522,
    "start_time": "2023-10-06T19:42:23.088Z"
   },
   {
    "duration": 3,
    "start_time": "2023-10-06T19:42:23.611Z"
   },
   {
    "duration": 121,
    "start_time": "2023-10-06T19:42:23.615Z"
   },
   {
    "duration": 35,
    "start_time": "2023-10-06T19:42:23.738Z"
   },
   {
    "duration": 15,
    "start_time": "2023-10-06T19:42:23.774Z"
   },
   {
    "duration": 84,
    "start_time": "2023-10-06T19:42:23.790Z"
   },
   {
    "duration": 0,
    "start_time": "2023-10-06T19:42:23.875Z"
   },
   {
    "duration": 0,
    "start_time": "2023-10-06T19:42:23.876Z"
   },
   {
    "duration": 0,
    "start_time": "2023-10-06T19:42:23.877Z"
   },
   {
    "duration": 0,
    "start_time": "2023-10-06T19:42:23.878Z"
   },
   {
    "duration": 0,
    "start_time": "2023-10-06T19:42:23.879Z"
   },
   {
    "duration": 0,
    "start_time": "2023-10-06T19:42:23.880Z"
   },
   {
    "duration": 0,
    "start_time": "2023-10-06T19:42:23.881Z"
   },
   {
    "duration": 0,
    "start_time": "2023-10-06T19:42:23.882Z"
   },
   {
    "duration": 0,
    "start_time": "2023-10-06T19:42:23.883Z"
   },
   {
    "duration": 0,
    "start_time": "2023-10-06T19:42:23.884Z"
   },
   {
    "duration": 0,
    "start_time": "2023-10-06T19:42:23.885Z"
   },
   {
    "duration": 0,
    "start_time": "2023-10-06T19:42:23.886Z"
   },
   {
    "duration": 0,
    "start_time": "2023-10-06T19:42:23.887Z"
   },
   {
    "duration": 1428,
    "start_time": "2023-10-06T19:45:20.594Z"
   },
   {
    "duration": 423,
    "start_time": "2023-10-06T20:00:08.329Z"
   },
   {
    "duration": 41,
    "start_time": "2023-10-06T20:00:08.756Z"
   },
   {
    "duration": 77,
    "start_time": "2023-10-06T20:00:08.798Z"
   },
   {
    "duration": 555,
    "start_time": "2023-10-06T20:00:08.877Z"
   },
   {
    "duration": 32,
    "start_time": "2023-10-06T20:00:09.434Z"
   },
   {
    "duration": 4,
    "start_time": "2023-10-06T20:00:09.468Z"
   },
   {
    "duration": 45,
    "start_time": "2023-10-06T20:00:09.474Z"
   },
   {
    "duration": 25,
    "start_time": "2023-10-06T20:00:09.521Z"
   },
   {
    "duration": 68,
    "start_time": "2023-10-06T20:00:09.549Z"
   },
   {
    "duration": 35,
    "start_time": "2023-10-06T20:00:09.620Z"
   },
   {
    "duration": 7,
    "start_time": "2023-10-06T20:00:09.657Z"
   },
   {
    "duration": 41,
    "start_time": "2023-10-06T20:00:09.665Z"
   },
   {
    "duration": 22,
    "start_time": "2023-10-06T20:00:09.708Z"
   },
   {
    "duration": 533,
    "start_time": "2023-10-06T20:00:09.733Z"
   },
   {
    "duration": 2,
    "start_time": "2023-10-06T20:00:10.268Z"
   },
   {
    "duration": 137,
    "start_time": "2023-10-06T20:00:10.272Z"
   },
   {
    "duration": 39,
    "start_time": "2023-10-06T20:00:10.411Z"
   },
   {
    "duration": 5,
    "start_time": "2023-10-06T20:00:10.452Z"
   },
   {
    "duration": 2118,
    "start_time": "2023-10-06T20:00:10.459Z"
   },
   {
    "duration": 0,
    "start_time": "2023-10-06T20:00:12.578Z"
   },
   {
    "duration": 0,
    "start_time": "2023-10-06T20:00:12.580Z"
   },
   {
    "duration": 0,
    "start_time": "2023-10-06T20:00:12.581Z"
   },
   {
    "duration": 0,
    "start_time": "2023-10-06T20:00:12.582Z"
   },
   {
    "duration": 0,
    "start_time": "2023-10-06T20:00:12.584Z"
   },
   {
    "duration": 0,
    "start_time": "2023-10-06T20:00:12.586Z"
   },
   {
    "duration": 0,
    "start_time": "2023-10-06T20:00:12.588Z"
   },
   {
    "duration": 0,
    "start_time": "2023-10-06T20:00:12.589Z"
   },
   {
    "duration": 0,
    "start_time": "2023-10-06T20:00:12.590Z"
   },
   {
    "duration": 0,
    "start_time": "2023-10-06T20:00:12.591Z"
   },
   {
    "duration": 0,
    "start_time": "2023-10-06T20:00:12.593Z"
   },
   {
    "duration": 0,
    "start_time": "2023-10-06T20:00:12.594Z"
   },
   {
    "duration": 0,
    "start_time": "2023-10-06T20:00:12.595Z"
   },
   {
    "duration": 307,
    "start_time": "2023-10-07T09:11:13.418Z"
   },
   {
    "duration": 83,
    "start_time": "2023-10-07T09:11:13.726Z"
   },
   {
    "duration": 180,
    "start_time": "2023-10-07T09:11:13.810Z"
   },
   {
    "duration": 590,
    "start_time": "2023-10-07T09:11:13.991Z"
   },
   {
    "duration": 83,
    "start_time": "2023-10-07T09:11:14.583Z"
   },
   {
    "duration": 13,
    "start_time": "2023-10-07T09:11:14.667Z"
   },
   {
    "duration": 30,
    "start_time": "2023-10-07T09:11:14.681Z"
   },
   {
    "duration": 12,
    "start_time": "2023-10-07T09:11:14.712Z"
   },
   {
    "duration": 84,
    "start_time": "2023-10-07T09:11:14.725Z"
   },
   {
    "duration": 18,
    "start_time": "2023-10-07T09:11:14.811Z"
   },
   {
    "duration": 5,
    "start_time": "2023-10-07T09:11:14.829Z"
   },
   {
    "duration": 15,
    "start_time": "2023-10-07T09:11:14.835Z"
   },
   {
    "duration": 19,
    "start_time": "2023-10-07T09:11:14.857Z"
   },
   {
    "duration": 314,
    "start_time": "2023-10-07T09:11:14.881Z"
   },
   {
    "duration": 2,
    "start_time": "2023-10-07T09:11:15.197Z"
   },
   {
    "duration": 114,
    "start_time": "2023-10-07T09:11:15.200Z"
   },
   {
    "duration": 33,
    "start_time": "2023-10-07T09:11:15.316Z"
   },
   {
    "duration": 38,
    "start_time": "2023-10-07T09:11:15.351Z"
   },
   {
    "duration": 1513,
    "start_time": "2023-10-07T09:11:15.391Z"
   },
   {
    "duration": 0,
    "start_time": "2023-10-07T09:11:16.909Z"
   },
   {
    "duration": 0,
    "start_time": "2023-10-07T09:11:16.910Z"
   },
   {
    "duration": 0,
    "start_time": "2023-10-07T09:11:16.911Z"
   },
   {
    "duration": 0,
    "start_time": "2023-10-07T09:11:16.913Z"
   },
   {
    "duration": 0,
    "start_time": "2023-10-07T09:11:16.914Z"
   },
   {
    "duration": 0,
    "start_time": "2023-10-07T09:11:16.915Z"
   },
   {
    "duration": 0,
    "start_time": "2023-10-07T09:11:16.916Z"
   },
   {
    "duration": 0,
    "start_time": "2023-10-07T09:11:16.917Z"
   },
   {
    "duration": 0,
    "start_time": "2023-10-07T09:11:16.919Z"
   },
   {
    "duration": 0,
    "start_time": "2023-10-07T09:11:16.920Z"
   },
   {
    "duration": 0,
    "start_time": "2023-10-07T09:11:16.921Z"
   },
   {
    "duration": 0,
    "start_time": "2023-10-07T09:11:16.921Z"
   },
   {
    "duration": 0,
    "start_time": "2023-10-07T09:11:16.923Z"
   },
   {
    "duration": 328,
    "start_time": "2023-10-07T09:12:25.606Z"
   },
   {
    "duration": 47,
    "start_time": "2023-10-07T09:12:25.935Z"
   },
   {
    "duration": 73,
    "start_time": "2023-10-07T09:12:25.983Z"
   },
   {
    "duration": 436,
    "start_time": "2023-10-07T09:12:26.057Z"
   },
   {
    "duration": 26,
    "start_time": "2023-10-07T09:12:26.494Z"
   },
   {
    "duration": 4,
    "start_time": "2023-10-07T09:12:26.521Z"
   },
   {
    "duration": 28,
    "start_time": "2023-10-07T09:12:26.526Z"
   },
   {
    "duration": 30,
    "start_time": "2023-10-07T09:12:26.555Z"
   },
   {
    "duration": 72,
    "start_time": "2023-10-07T09:12:26.586Z"
   },
   {
    "duration": 28,
    "start_time": "2023-10-07T09:12:26.666Z"
   },
   {
    "duration": 6,
    "start_time": "2023-10-07T09:12:26.695Z"
   },
   {
    "duration": 13,
    "start_time": "2023-10-07T09:12:26.702Z"
   },
   {
    "duration": 11,
    "start_time": "2023-10-07T09:12:26.717Z"
   },
   {
    "duration": 306,
    "start_time": "2023-10-07T09:12:26.729Z"
   },
   {
    "duration": 1,
    "start_time": "2023-10-07T09:12:27.037Z"
   },
   {
    "duration": 114,
    "start_time": "2023-10-07T09:12:27.046Z"
   },
   {
    "duration": 27,
    "start_time": "2023-10-07T09:12:27.169Z"
   },
   {
    "duration": 25,
    "start_time": "2023-10-07T09:12:27.198Z"
   },
   {
    "duration": 9,
    "start_time": "2023-10-07T09:12:27.224Z"
   },
   {
    "duration": 17,
    "start_time": "2023-10-07T09:12:27.235Z"
   },
   {
    "duration": 13,
    "start_time": "2023-10-07T09:12:27.264Z"
   },
   {
    "duration": 9,
    "start_time": "2023-10-07T09:12:27.279Z"
   },
   {
    "duration": 12,
    "start_time": "2023-10-07T09:12:27.289Z"
   },
   {
    "duration": 70,
    "start_time": "2023-10-07T09:12:27.302Z"
   },
   {
    "duration": 1401,
    "start_time": "2023-10-07T09:12:27.373Z"
   },
   {
    "duration": 0,
    "start_time": "2023-10-07T09:12:28.775Z"
   },
   {
    "duration": 0,
    "start_time": "2023-10-07T09:12:28.776Z"
   },
   {
    "duration": 0,
    "start_time": "2023-10-07T09:12:28.781Z"
   },
   {
    "duration": 0,
    "start_time": "2023-10-07T09:12:28.782Z"
   },
   {
    "duration": 0,
    "start_time": "2023-10-07T09:12:28.783Z"
   },
   {
    "duration": 0,
    "start_time": "2023-10-07T09:12:28.784Z"
   },
   {
    "duration": 0,
    "start_time": "2023-10-07T09:12:28.784Z"
   },
   {
    "duration": 370,
    "start_time": "2023-10-07T09:12:59.729Z"
   },
   {
    "duration": 35,
    "start_time": "2023-10-07T09:13:00.100Z"
   },
   {
    "duration": 69,
    "start_time": "2023-10-07T09:13:00.137Z"
   },
   {
    "duration": 422,
    "start_time": "2023-10-07T09:13:00.207Z"
   },
   {
    "duration": 33,
    "start_time": "2023-10-07T09:13:00.631Z"
   },
   {
    "duration": 7,
    "start_time": "2023-10-07T09:13:00.665Z"
   },
   {
    "duration": 43,
    "start_time": "2023-10-07T09:13:00.673Z"
   },
   {
    "duration": 32,
    "start_time": "2023-10-07T09:13:00.717Z"
   },
   {
    "duration": 114,
    "start_time": "2023-10-07T09:13:00.750Z"
   },
   {
    "duration": 29,
    "start_time": "2023-10-07T09:13:00.872Z"
   },
   {
    "duration": 16,
    "start_time": "2023-10-07T09:13:00.902Z"
   },
   {
    "duration": 51,
    "start_time": "2023-10-07T09:13:00.919Z"
   },
   {
    "duration": 19,
    "start_time": "2023-10-07T09:13:00.972Z"
   },
   {
    "duration": 387,
    "start_time": "2023-10-07T09:13:00.994Z"
   },
   {
    "duration": 6,
    "start_time": "2023-10-07T09:13:01.382Z"
   },
   {
    "duration": 148,
    "start_time": "2023-10-07T09:13:01.390Z"
   },
   {
    "duration": 48,
    "start_time": "2023-10-07T09:13:01.553Z"
   },
   {
    "duration": 28,
    "start_time": "2023-10-07T09:13:01.603Z"
   },
   {
    "duration": 68,
    "start_time": "2023-10-07T09:13:01.633Z"
   },
   {
    "duration": 119,
    "start_time": "2023-10-07T09:13:01.703Z"
   },
   {
    "duration": 53,
    "start_time": "2023-10-07T09:13:01.824Z"
   },
   {
    "duration": 109,
    "start_time": "2023-10-07T09:13:01.878Z"
   },
   {
    "duration": 5,
    "start_time": "2023-10-07T09:13:01.988Z"
   },
   {
    "duration": 190,
    "start_time": "2023-10-07T09:13:01.994Z"
   },
   {
    "duration": 5,
    "start_time": "2023-10-07T09:13:02.186Z"
   },
   {
    "duration": 98,
    "start_time": "2023-10-07T09:13:02.193Z"
   },
   {
    "duration": 7,
    "start_time": "2023-10-07T09:13:02.292Z"
   },
   {
    "duration": 12,
    "start_time": "2023-10-07T09:13:02.301Z"
   },
   {
    "duration": 1513,
    "start_time": "2023-10-07T09:13:02.344Z"
   },
   {
    "duration": 86,
    "start_time": "2023-10-07T09:13:03.858Z"
   },
   {
    "duration": 18,
    "start_time": "2023-10-07T09:13:03.946Z"
   },
   {
    "duration": 93,
    "start_time": "2023-10-07T09:13:03.966Z"
   },
   {
    "duration": 59,
    "start_time": "2023-10-07T09:13:57.425Z"
   },
   {
    "duration": 42,
    "start_time": "2023-10-07T09:14:03.893Z"
   },
   {
    "duration": 59,
    "start_time": "2023-10-07T09:14:21.433Z"
   },
   {
    "duration": 34,
    "start_time": "2023-10-07T09:14:26.097Z"
   },
   {
    "duration": 64,
    "start_time": "2023-10-07T09:21:16.236Z"
   },
   {
    "duration": 3,
    "start_time": "2023-10-07T09:22:24.127Z"
   },
   {
    "duration": 37,
    "start_time": "2023-10-07T09:22:29.889Z"
   },
   {
    "duration": 91,
    "start_time": "2023-10-07T09:22:40.893Z"
   },
   {
    "duration": 70,
    "start_time": "2023-10-07T09:22:56.044Z"
   },
   {
    "duration": 133,
    "start_time": "2023-10-07T09:23:23.578Z"
   },
   {
    "duration": 42,
    "start_time": "2023-10-07T09:23:37.670Z"
   },
   {
    "duration": 70,
    "start_time": "2023-10-07T09:24:00.611Z"
   },
   {
    "duration": 57,
    "start_time": "2023-10-07T09:24:05.632Z"
   },
   {
    "duration": 39,
    "start_time": "2023-10-07T09:24:31.096Z"
   },
   {
    "duration": 82,
    "start_time": "2023-10-07T09:29:26.666Z"
   },
   {
    "duration": 102,
    "start_time": "2023-10-07T09:29:35.631Z"
   },
   {
    "duration": 81,
    "start_time": "2023-10-07T09:29:52.634Z"
   },
   {
    "duration": 100,
    "start_time": "2023-10-07T09:29:55.877Z"
   },
   {
    "duration": 74,
    "start_time": "2023-10-07T09:29:58.709Z"
   },
   {
    "duration": 12,
    "start_time": "2023-10-07T09:30:28.669Z"
   },
   {
    "duration": 20,
    "start_time": "2023-10-07T09:31:01.353Z"
   },
   {
    "duration": 8,
    "start_time": "2023-10-07T09:31:05.224Z"
   },
   {
    "duration": 9,
    "start_time": "2023-10-07T09:32:03.448Z"
   },
   {
    "duration": 9,
    "start_time": "2023-10-07T09:34:20.660Z"
   },
   {
    "duration": 15,
    "start_time": "2023-10-07T10:00:55.257Z"
   },
   {
    "duration": 65,
    "start_time": "2023-10-07T10:09:23.530Z"
   },
   {
    "duration": 29,
    "start_time": "2023-10-07T10:10:24.487Z"
   },
   {
    "duration": 7,
    "start_time": "2023-10-07T10:11:16.623Z"
   },
   {
    "duration": 5,
    "start_time": "2023-10-07T10:12:10.033Z"
   },
   {
    "duration": 21,
    "start_time": "2023-10-07T10:12:24.857Z"
   },
   {
    "duration": 63,
    "start_time": "2023-10-07T10:13:09.763Z"
   },
   {
    "duration": 31,
    "start_time": "2023-10-07T10:13:21.883Z"
   },
   {
    "duration": 7,
    "start_time": "2023-10-07T10:16:03.690Z"
   },
   {
    "duration": 7,
    "start_time": "2023-10-07T10:16:22.424Z"
   },
   {
    "duration": 7,
    "start_time": "2023-10-07T10:16:36.023Z"
   },
   {
    "duration": 427,
    "start_time": "2023-10-07T10:16:47.141Z"
   },
   {
    "duration": 38,
    "start_time": "2023-10-07T10:16:47.579Z"
   },
   {
    "duration": 86,
    "start_time": "2023-10-07T10:16:47.618Z"
   },
   {
    "duration": 462,
    "start_time": "2023-10-07T10:16:47.706Z"
   },
   {
    "duration": 32,
    "start_time": "2023-10-07T10:16:48.183Z"
   },
   {
    "duration": 48,
    "start_time": "2023-10-07T10:16:48.216Z"
   },
   {
    "duration": 24,
    "start_time": "2023-10-07T10:16:48.273Z"
   },
   {
    "duration": 19,
    "start_time": "2023-10-07T10:16:48.299Z"
   },
   {
    "duration": 112,
    "start_time": "2023-10-07T10:16:48.319Z"
   },
   {
    "duration": 58,
    "start_time": "2023-10-07T10:16:48.434Z"
   },
   {
    "duration": 10,
    "start_time": "2023-10-07T10:16:48.493Z"
   },
   {
    "duration": 72,
    "start_time": "2023-10-07T10:16:48.504Z"
   },
   {
    "duration": 16,
    "start_time": "2023-10-07T10:16:48.581Z"
   },
   {
    "duration": 350,
    "start_time": "2023-10-07T10:16:48.598Z"
   },
   {
    "duration": 22,
    "start_time": "2023-10-07T10:16:48.950Z"
   },
   {
    "duration": 153,
    "start_time": "2023-10-07T10:16:48.974Z"
   },
   {
    "duration": 66,
    "start_time": "2023-10-07T10:16:49.128Z"
   },
   {
    "duration": 10,
    "start_time": "2023-10-07T10:16:49.195Z"
   },
   {
    "duration": 7,
    "start_time": "2023-10-07T10:16:49.207Z"
   },
   {
    "duration": 31,
    "start_time": "2023-10-07T10:16:49.215Z"
   },
   {
    "duration": 17,
    "start_time": "2023-10-07T10:16:49.247Z"
   },
   {
    "duration": 30,
    "start_time": "2023-10-07T10:16:49.265Z"
   },
   {
    "duration": 25,
    "start_time": "2023-10-07T10:16:49.296Z"
   },
   {
    "duration": 21,
    "start_time": "2023-10-07T10:16:49.323Z"
   },
   {
    "duration": 65,
    "start_time": "2023-10-07T10:16:49.345Z"
   },
   {
    "duration": 4,
    "start_time": "2023-10-07T10:16:49.411Z"
   },
   {
    "duration": 41,
    "start_time": "2023-10-07T10:16:49.417Z"
   },
   {
    "duration": 23,
    "start_time": "2023-10-07T10:16:49.461Z"
   },
   {
    "duration": 16,
    "start_time": "2023-10-07T10:16:49.485Z"
   },
   {
    "duration": 56,
    "start_time": "2023-10-07T10:16:49.503Z"
   },
   {
    "duration": 12,
    "start_time": "2023-10-07T10:16:49.560Z"
   },
   {
    "duration": 26,
    "start_time": "2023-10-07T10:16:49.573Z"
   },
   {
    "duration": 18,
    "start_time": "2023-10-07T10:16:49.601Z"
   },
   {
    "duration": 31,
    "start_time": "2023-10-07T10:17:57.357Z"
   },
   {
    "duration": 36,
    "start_time": "2023-10-07T10:18:21.228Z"
   },
   {
    "duration": 398,
    "start_time": "2023-10-07T10:19:14.621Z"
   },
   {
    "duration": 62,
    "start_time": "2023-10-07T10:19:15.021Z"
   },
   {
    "duration": 64,
    "start_time": "2023-10-07T10:19:15.084Z"
   },
   {
    "duration": 437,
    "start_time": "2023-10-07T10:19:15.151Z"
   },
   {
    "duration": 33,
    "start_time": "2023-10-07T10:19:15.589Z"
   },
   {
    "duration": 5,
    "start_time": "2023-10-07T10:19:15.624Z"
   },
   {
    "duration": 67,
    "start_time": "2023-10-07T10:19:15.630Z"
   },
   {
    "duration": 10,
    "start_time": "2023-10-07T10:19:15.698Z"
   },
   {
    "duration": 60,
    "start_time": "2023-10-07T10:19:15.709Z"
   },
   {
    "duration": 28,
    "start_time": "2023-10-07T10:19:15.770Z"
   },
   {
    "duration": 7,
    "start_time": "2023-10-07T10:19:15.799Z"
   },
   {
    "duration": 11,
    "start_time": "2023-10-07T10:19:15.807Z"
   },
   {
    "duration": 34,
    "start_time": "2023-10-07T10:19:15.819Z"
   },
   {
    "duration": 350,
    "start_time": "2023-10-07T10:19:15.855Z"
   },
   {
    "duration": 3,
    "start_time": "2023-10-07T10:19:16.206Z"
   },
   {
    "duration": 128,
    "start_time": "2023-10-07T10:19:16.210Z"
   },
   {
    "duration": 35,
    "start_time": "2023-10-07T10:19:16.340Z"
   },
   {
    "duration": 8,
    "start_time": "2023-10-07T10:19:16.376Z"
   },
   {
    "duration": 14,
    "start_time": "2023-10-07T10:19:16.385Z"
   },
   {
    "duration": 28,
    "start_time": "2023-10-07T10:19:16.400Z"
   },
   {
    "duration": 23,
    "start_time": "2023-10-07T10:19:16.429Z"
   },
   {
    "duration": 15,
    "start_time": "2023-10-07T10:19:16.453Z"
   },
   {
    "duration": 24,
    "start_time": "2023-10-07T10:19:16.470Z"
   },
   {
    "duration": 10,
    "start_time": "2023-10-07T10:19:16.498Z"
   },
   {
    "duration": 66,
    "start_time": "2023-10-07T10:19:16.510Z"
   },
   {
    "duration": 9,
    "start_time": "2023-10-07T10:19:16.584Z"
   },
   {
    "duration": 9,
    "start_time": "2023-10-07T10:19:16.594Z"
   },
   {
    "duration": 9,
    "start_time": "2023-10-07T10:19:16.605Z"
   },
   {
    "duration": 28,
    "start_time": "2023-10-07T10:19:16.616Z"
   },
   {
    "duration": 71,
    "start_time": "2023-10-07T10:19:16.645Z"
   },
   {
    "duration": 6,
    "start_time": "2023-10-07T10:19:16.717Z"
   },
   {
    "duration": 25,
    "start_time": "2023-10-07T10:19:16.724Z"
   },
   {
    "duration": 47,
    "start_time": "2023-10-07T10:19:16.750Z"
   },
   {
    "duration": 20,
    "start_time": "2023-10-07T10:20:12.344Z"
   },
   {
    "duration": 30,
    "start_time": "2023-10-07T10:23:00.830Z"
   },
   {
    "duration": 30,
    "start_time": "2023-10-07T10:23:18.096Z"
   },
   {
    "duration": 396,
    "start_time": "2023-10-07T10:23:29.287Z"
   },
   {
    "duration": 35,
    "start_time": "2023-10-07T10:23:29.687Z"
   },
   {
    "duration": 79,
    "start_time": "2023-10-07T10:23:29.723Z"
   },
   {
    "duration": 413,
    "start_time": "2023-10-07T10:23:29.804Z"
   },
   {
    "duration": 52,
    "start_time": "2023-10-07T10:23:30.218Z"
   },
   {
    "duration": 7,
    "start_time": "2023-10-07T10:23:30.284Z"
   },
   {
    "duration": 96,
    "start_time": "2023-10-07T10:23:30.293Z"
   },
   {
    "duration": 19,
    "start_time": "2023-10-07T10:23:30.390Z"
   },
   {
    "duration": 124,
    "start_time": "2023-10-07T10:23:30.410Z"
   },
   {
    "duration": 51,
    "start_time": "2023-10-07T10:23:30.536Z"
   },
   {
    "duration": 87,
    "start_time": "2023-10-07T10:23:30.589Z"
   },
   {
    "duration": 24,
    "start_time": "2023-10-07T10:23:30.680Z"
   },
   {
    "duration": 51,
    "start_time": "2023-10-07T10:23:30.705Z"
   },
   {
    "duration": 365,
    "start_time": "2023-10-07T10:23:30.758Z"
   },
   {
    "duration": 2,
    "start_time": "2023-10-07T10:23:31.125Z"
   },
   {
    "duration": 160,
    "start_time": "2023-10-07T10:23:31.128Z"
   },
   {
    "duration": 174,
    "start_time": "2023-10-07T10:23:31.296Z"
   },
   {
    "duration": 9,
    "start_time": "2023-10-07T10:23:31.471Z"
   },
   {
    "duration": 23,
    "start_time": "2023-10-07T10:23:31.481Z"
   },
   {
    "duration": 41,
    "start_time": "2023-10-07T10:23:31.505Z"
   },
   {
    "duration": 42,
    "start_time": "2023-10-07T10:23:31.551Z"
   },
   {
    "duration": 67,
    "start_time": "2023-10-07T10:23:31.594Z"
   },
   {
    "duration": 33,
    "start_time": "2023-10-07T10:23:31.663Z"
   },
   {
    "duration": 25,
    "start_time": "2023-10-07T10:23:31.697Z"
   },
   {
    "duration": 9,
    "start_time": "2023-10-07T10:23:31.723Z"
   },
   {
    "duration": 72,
    "start_time": "2023-10-07T10:23:31.733Z"
   },
   {
    "duration": 12,
    "start_time": "2023-10-07T10:23:31.806Z"
   },
   {
    "duration": 41,
    "start_time": "2023-10-07T10:23:31.819Z"
   },
   {
    "duration": 33,
    "start_time": "2023-10-07T10:23:31.864Z"
   },
   {
    "duration": 36,
    "start_time": "2023-10-07T10:23:31.898Z"
   },
   {
    "duration": 80,
    "start_time": "2023-10-07T10:23:31.935Z"
   },
   {
    "duration": 49,
    "start_time": "2023-10-07T10:23:32.017Z"
   },
   {
    "duration": 8,
    "start_time": "2023-10-07T10:23:32.068Z"
   },
   {
    "duration": 41,
    "start_time": "2023-10-07T10:23:32.077Z"
   },
   {
    "duration": 23,
    "start_time": "2023-10-07T10:24:25.134Z"
   },
   {
    "duration": 7,
    "start_time": "2023-10-07T10:24:41.390Z"
   },
   {
    "duration": 10,
    "start_time": "2023-10-07T10:24:42.004Z"
   },
   {
    "duration": 45,
    "start_time": "2023-10-07T10:25:02.073Z"
   },
   {
    "duration": 53,
    "start_time": "2023-10-07T10:25:47.626Z"
   },
   {
    "duration": 6,
    "start_time": "2023-10-07T10:25:50.126Z"
   },
   {
    "duration": 69,
    "start_time": "2023-10-07T10:25:50.728Z"
   },
   {
    "duration": 409,
    "start_time": "2023-10-07T10:26:03.496Z"
   },
   {
    "duration": 46,
    "start_time": "2023-10-07T10:26:03.907Z"
   },
   {
    "duration": 79,
    "start_time": "2023-10-07T10:26:03.962Z"
   },
   {
    "duration": 458,
    "start_time": "2023-10-07T10:26:04.043Z"
   },
   {
    "duration": 25,
    "start_time": "2023-10-07T10:26:04.504Z"
   },
   {
    "duration": 5,
    "start_time": "2023-10-07T10:26:04.531Z"
   },
   {
    "duration": 49,
    "start_time": "2023-10-07T10:26:04.537Z"
   },
   {
    "duration": 22,
    "start_time": "2023-10-07T10:26:04.588Z"
   },
   {
    "duration": 98,
    "start_time": "2023-10-07T10:26:04.612Z"
   },
   {
    "duration": 19,
    "start_time": "2023-10-07T10:26:04.712Z"
   },
   {
    "duration": 37,
    "start_time": "2023-10-07T10:26:04.733Z"
   },
   {
    "duration": 19,
    "start_time": "2023-10-07T10:26:04.771Z"
   },
   {
    "duration": 36,
    "start_time": "2023-10-07T10:26:04.791Z"
   },
   {
    "duration": 399,
    "start_time": "2023-10-07T10:26:04.830Z"
   },
   {
    "duration": 2,
    "start_time": "2023-10-07T10:26:05.230Z"
   },
   {
    "duration": 218,
    "start_time": "2023-10-07T10:26:05.234Z"
   },
   {
    "duration": 44,
    "start_time": "2023-10-07T10:26:05.457Z"
   },
   {
    "duration": 5,
    "start_time": "2023-10-07T10:26:05.503Z"
   },
   {
    "duration": 55,
    "start_time": "2023-10-07T10:26:05.509Z"
   },
   {
    "duration": 104,
    "start_time": "2023-10-07T10:26:05.566Z"
   },
   {
    "duration": 34,
    "start_time": "2023-10-07T10:26:05.671Z"
   },
   {
    "duration": 71,
    "start_time": "2023-10-07T10:26:05.707Z"
   },
   {
    "duration": 17,
    "start_time": "2023-10-07T10:26:05.785Z"
   },
   {
    "duration": 43,
    "start_time": "2023-10-07T10:26:05.804Z"
   },
   {
    "duration": 8,
    "start_time": "2023-10-07T10:26:05.848Z"
   },
   {
    "duration": 136,
    "start_time": "2023-10-07T10:26:05.857Z"
   },
   {
    "duration": 6,
    "start_time": "2023-10-07T10:26:05.994Z"
   },
   {
    "duration": 52,
    "start_time": "2023-10-07T10:26:06.001Z"
   },
   {
    "duration": 10,
    "start_time": "2023-10-07T10:26:06.054Z"
   },
   {
    "duration": 23,
    "start_time": "2023-10-07T10:26:06.065Z"
   },
   {
    "duration": 117,
    "start_time": "2023-10-07T10:26:06.089Z"
   },
   {
    "duration": 43,
    "start_time": "2023-10-07T10:26:06.245Z"
   },
   {
    "duration": 205,
    "start_time": "2023-10-07T10:26:06.292Z"
   },
   {
    "duration": 8,
    "start_time": "2023-10-07T10:26:06.499Z"
   },
   {
    "duration": 55,
    "start_time": "2023-10-07T10:26:06.509Z"
   },
   {
    "duration": 33,
    "start_time": "2023-10-07T10:27:05.493Z"
   },
   {
    "duration": 36,
    "start_time": "2023-10-07T10:27:26.752Z"
   },
   {
    "duration": 20,
    "start_time": "2023-10-07T10:27:51.129Z"
   },
   {
    "duration": 35,
    "start_time": "2023-10-07T10:38:39.961Z"
   },
   {
    "duration": 5,
    "start_time": "2023-10-07T10:38:46.680Z"
   },
   {
    "duration": 28,
    "start_time": "2023-10-07T10:38:53.752Z"
   },
   {
    "duration": 5,
    "start_time": "2023-10-07T10:39:01.802Z"
   },
   {
    "duration": 416,
    "start_time": "2023-10-07T10:39:14.648Z"
   },
   {
    "duration": 39,
    "start_time": "2023-10-07T10:39:15.065Z"
   },
   {
    "duration": 78,
    "start_time": "2023-10-07T10:39:15.105Z"
   },
   {
    "duration": 418,
    "start_time": "2023-10-07T10:39:15.184Z"
   },
   {
    "duration": 26,
    "start_time": "2023-10-07T10:39:15.604Z"
   },
   {
    "duration": 4,
    "start_time": "2023-10-07T10:39:15.631Z"
   },
   {
    "duration": 40,
    "start_time": "2023-10-07T10:39:15.636Z"
   },
   {
    "duration": 12,
    "start_time": "2023-10-07T10:39:15.677Z"
   },
   {
    "duration": 66,
    "start_time": "2023-10-07T10:39:15.690Z"
   },
   {
    "duration": 26,
    "start_time": "2023-10-07T10:39:15.769Z"
   },
   {
    "duration": 6,
    "start_time": "2023-10-07T10:39:15.796Z"
   },
   {
    "duration": 10,
    "start_time": "2023-10-07T10:39:15.803Z"
   },
   {
    "duration": 7,
    "start_time": "2023-10-07T10:39:15.814Z"
   },
   {
    "duration": 348,
    "start_time": "2023-10-07T10:39:15.822Z"
   },
   {
    "duration": 11,
    "start_time": "2023-10-07T10:39:16.177Z"
   },
   {
    "duration": 113,
    "start_time": "2023-10-07T10:39:16.190Z"
   },
   {
    "duration": 27,
    "start_time": "2023-10-07T10:39:16.304Z"
   },
   {
    "duration": 26,
    "start_time": "2023-10-07T10:39:16.333Z"
   },
   {
    "duration": 26,
    "start_time": "2023-10-07T10:39:16.361Z"
   },
   {
    "duration": 11,
    "start_time": "2023-10-07T10:39:16.395Z"
   },
   {
    "duration": 8,
    "start_time": "2023-10-07T10:39:16.408Z"
   },
   {
    "duration": 9,
    "start_time": "2023-10-07T10:39:16.418Z"
   },
   {
    "duration": 10,
    "start_time": "2023-10-07T10:39:16.428Z"
   },
   {
    "duration": 12,
    "start_time": "2023-10-07T10:39:16.441Z"
   },
   {
    "duration": 34,
    "start_time": "2023-10-07T10:39:16.454Z"
   },
   {
    "duration": 4,
    "start_time": "2023-10-07T10:39:16.490Z"
   },
   {
    "duration": 5,
    "start_time": "2023-10-07T10:39:16.495Z"
   },
   {
    "duration": 16,
    "start_time": "2023-10-07T10:39:16.503Z"
   },
   {
    "duration": 10,
    "start_time": "2023-10-07T10:39:16.520Z"
   },
   {
    "duration": 54,
    "start_time": "2023-10-07T10:39:16.532Z"
   },
   {
    "duration": 6,
    "start_time": "2023-10-07T10:39:16.589Z"
   },
   {
    "duration": 20,
    "start_time": "2023-10-07T10:39:16.596Z"
   },
   {
    "duration": 8,
    "start_time": "2023-10-07T10:39:16.618Z"
   },
   {
    "duration": 33,
    "start_time": "2023-10-07T10:39:16.627Z"
   },
   {
    "duration": 11,
    "start_time": "2023-10-07T10:39:16.670Z"
   },
   {
    "duration": 37,
    "start_time": "2023-10-07T10:53:14.865Z"
   },
   {
    "duration": 6,
    "start_time": "2023-10-07T10:53:21.899Z"
   },
   {
    "duration": 40,
    "start_time": "2023-10-07T10:55:12.284Z"
   },
   {
    "duration": 11,
    "start_time": "2023-10-07T10:56:10.426Z"
   },
   {
    "duration": 11,
    "start_time": "2023-10-07T10:56:15.911Z"
   },
   {
    "duration": 110,
    "start_time": "2023-10-07T10:58:35.197Z"
   },
   {
    "duration": 415,
    "start_time": "2023-10-07T10:58:51.186Z"
   },
   {
    "duration": 64,
    "start_time": "2023-10-07T10:58:51.616Z"
   },
   {
    "duration": 113,
    "start_time": "2023-10-07T10:58:51.684Z"
   },
   {
    "duration": 481,
    "start_time": "2023-10-07T10:58:51.799Z"
   },
   {
    "duration": 39,
    "start_time": "2023-10-07T10:58:52.281Z"
   },
   {
    "duration": 5,
    "start_time": "2023-10-07T10:58:52.322Z"
   },
   {
    "duration": 61,
    "start_time": "2023-10-07T10:58:52.328Z"
   },
   {
    "duration": 28,
    "start_time": "2023-10-07T10:58:52.397Z"
   },
   {
    "duration": 100,
    "start_time": "2023-10-07T10:58:52.427Z"
   },
   {
    "duration": 58,
    "start_time": "2023-10-07T10:58:52.530Z"
   },
   {
    "duration": 15,
    "start_time": "2023-10-07T10:58:52.596Z"
   },
   {
    "duration": 16,
    "start_time": "2023-10-07T10:58:52.612Z"
   },
   {
    "duration": 26,
    "start_time": "2023-10-07T10:58:52.630Z"
   },
   {
    "duration": 451,
    "start_time": "2023-10-07T10:58:52.657Z"
   },
   {
    "duration": 6,
    "start_time": "2023-10-07T10:58:53.109Z"
   },
   {
    "duration": 145,
    "start_time": "2023-10-07T10:58:53.117Z"
   },
   {
    "duration": 40,
    "start_time": "2023-10-07T10:58:53.263Z"
   },
   {
    "duration": 4,
    "start_time": "2023-10-07T10:58:53.305Z"
   },
   {
    "duration": 58,
    "start_time": "2023-10-07T10:58:53.310Z"
   },
   {
    "duration": 16,
    "start_time": "2023-10-07T10:58:53.372Z"
   },
   {
    "duration": 26,
    "start_time": "2023-10-07T10:58:53.390Z"
   },
   {
    "duration": 15,
    "start_time": "2023-10-07T10:58:53.417Z"
   },
   {
    "duration": 5,
    "start_time": "2023-10-07T10:58:53.433Z"
   },
   {
    "duration": 48,
    "start_time": "2023-10-07T10:58:53.439Z"
   },
   {
    "duration": 5,
    "start_time": "2023-10-07T10:58:53.488Z"
   },
   {
    "duration": 25,
    "start_time": "2023-10-07T10:58:53.497Z"
   },
   {
    "duration": 4,
    "start_time": "2023-10-07T10:58:53.523Z"
   },
   {
    "duration": 3,
    "start_time": "2023-10-07T10:58:53.529Z"
   },
   {
    "duration": 25,
    "start_time": "2023-10-07T10:58:53.534Z"
   },
   {
    "duration": 14,
    "start_time": "2023-10-07T10:58:53.565Z"
   },
   {
    "duration": 37,
    "start_time": "2023-10-07T10:58:53.580Z"
   },
   {
    "duration": 66,
    "start_time": "2023-10-07T10:58:53.618Z"
   },
   {
    "duration": 28,
    "start_time": "2023-10-07T10:58:53.685Z"
   },
   {
    "duration": 5,
    "start_time": "2023-10-07T10:58:53.714Z"
   },
   {
    "duration": 13,
    "start_time": "2023-10-07T10:58:53.720Z"
   },
   {
    "duration": 147,
    "start_time": "2023-10-07T10:58:53.735Z"
   },
   {
    "duration": 12,
    "start_time": "2023-10-07T10:58:53.890Z"
   },
   {
    "duration": 222,
    "start_time": "2023-10-07T11:54:26.684Z"
   },
   {
    "duration": 6,
    "start_time": "2023-10-07T11:54:44.061Z"
   },
   {
    "duration": 7,
    "start_time": "2023-10-07T11:55:12.476Z"
   },
   {
    "duration": 9,
    "start_time": "2023-10-07T11:55:20.093Z"
   },
   {
    "duration": 395,
    "start_time": "2023-10-07T11:55:29.101Z"
   },
   {
    "duration": 35,
    "start_time": "2023-10-07T11:55:29.500Z"
   },
   {
    "duration": 96,
    "start_time": "2023-10-07T11:55:29.536Z"
   },
   {
    "duration": 467,
    "start_time": "2023-10-07T11:55:29.634Z"
   },
   {
    "duration": 26,
    "start_time": "2023-10-07T11:55:30.102Z"
   },
   {
    "duration": 49,
    "start_time": "2023-10-07T11:55:30.129Z"
   },
   {
    "duration": 49,
    "start_time": "2023-10-07T11:55:30.180Z"
   },
   {
    "duration": 58,
    "start_time": "2023-10-07T11:55:30.230Z"
   },
   {
    "duration": 87,
    "start_time": "2023-10-07T11:55:30.293Z"
   },
   {
    "duration": 22,
    "start_time": "2023-10-07T11:55:30.389Z"
   },
   {
    "duration": 78,
    "start_time": "2023-10-07T11:55:30.412Z"
   },
   {
    "duration": 10,
    "start_time": "2023-10-07T11:55:30.493Z"
   },
   {
    "duration": 61,
    "start_time": "2023-10-07T11:55:30.505Z"
   },
   {
    "duration": 414,
    "start_time": "2023-10-07T11:55:30.567Z"
   },
   {
    "duration": 2,
    "start_time": "2023-10-07T11:55:30.982Z"
   },
   {
    "duration": 175,
    "start_time": "2023-10-07T11:55:30.985Z"
   },
   {
    "duration": 52,
    "start_time": "2023-10-07T11:55:31.164Z"
   },
   {
    "duration": 5,
    "start_time": "2023-10-07T11:55:31.224Z"
   },
   {
    "duration": 46,
    "start_time": "2023-10-07T11:55:31.230Z"
   },
   {
    "duration": 56,
    "start_time": "2023-10-07T11:55:31.277Z"
   },
   {
    "duration": 61,
    "start_time": "2023-10-07T11:55:31.334Z"
   },
   {
    "duration": 28,
    "start_time": "2023-10-07T11:55:31.396Z"
   },
   {
    "duration": 62,
    "start_time": "2023-10-07T11:55:31.426Z"
   },
   {
    "duration": 10,
    "start_time": "2023-10-07T11:55:31.493Z"
   },
   {
    "duration": 16,
    "start_time": "2023-10-07T11:55:31.504Z"
   },
   {
    "duration": 83,
    "start_time": "2023-10-07T11:55:31.521Z"
   },
   {
    "duration": 3,
    "start_time": "2023-10-07T11:55:31.606Z"
   },
   {
    "duration": 51,
    "start_time": "2023-10-07T11:55:31.613Z"
   },
   {
    "duration": 31,
    "start_time": "2023-10-07T11:55:31.665Z"
   },
   {
    "duration": 25,
    "start_time": "2023-10-07T11:55:31.698Z"
   },
   {
    "duration": 64,
    "start_time": "2023-10-07T11:55:31.724Z"
   },
   {
    "duration": 18,
    "start_time": "2023-10-07T11:55:31.789Z"
   },
   {
    "duration": 93,
    "start_time": "2023-10-07T11:55:31.808Z"
   },
   {
    "duration": 58,
    "start_time": "2023-10-07T11:55:31.902Z"
   },
   {
    "duration": 67,
    "start_time": "2023-10-07T11:55:31.961Z"
   },
   {
    "duration": 140,
    "start_time": "2023-10-07T11:55:32.030Z"
   },
   {
    "duration": 12,
    "start_time": "2023-10-07T11:55:32.188Z"
   },
   {
    "duration": 112,
    "start_time": "2023-10-07T11:55:32.201Z"
   },
   {
    "duration": 73,
    "start_time": "2023-10-07T11:55:42.095Z"
   },
   {
    "duration": 13,
    "start_time": "2023-10-07T11:56:36.027Z"
   },
   {
    "duration": 16,
    "start_time": "2023-10-07T11:56:40.095Z"
   },
   {
    "duration": 11,
    "start_time": "2023-10-07T11:57:08.696Z"
   },
   {
    "duration": 11,
    "start_time": "2023-10-07T11:57:18.265Z"
   },
   {
    "duration": 23,
    "start_time": "2023-10-07T11:57:24.577Z"
   },
   {
    "duration": 21,
    "start_time": "2023-10-07T11:57:38.135Z"
   },
   {
    "duration": 22,
    "start_time": "2023-10-07T11:57:39.678Z"
   },
   {
    "duration": 8,
    "start_time": "2023-10-07T11:57:40.605Z"
   },
   {
    "duration": 390,
    "start_time": "2023-10-07T11:57:46.474Z"
   },
   {
    "duration": 45,
    "start_time": "2023-10-07T11:57:46.865Z"
   },
   {
    "duration": 89,
    "start_time": "2023-10-07T11:57:46.911Z"
   },
   {
    "duration": 404,
    "start_time": "2023-10-07T11:57:47.001Z"
   },
   {
    "duration": 26,
    "start_time": "2023-10-07T11:57:47.407Z"
   },
   {
    "duration": 3,
    "start_time": "2023-10-07T11:57:47.434Z"
   },
   {
    "duration": 73,
    "start_time": "2023-10-07T11:57:47.438Z"
   },
   {
    "duration": 47,
    "start_time": "2023-10-07T11:57:47.513Z"
   },
   {
    "duration": 76,
    "start_time": "2023-10-07T11:57:47.561Z"
   },
   {
    "duration": 32,
    "start_time": "2023-10-07T11:57:47.644Z"
   },
   {
    "duration": 12,
    "start_time": "2023-10-07T11:57:47.677Z"
   },
   {
    "duration": 6,
    "start_time": "2023-10-07T11:57:47.693Z"
   },
   {
    "duration": 10,
    "start_time": "2023-10-07T11:57:47.702Z"
   },
   {
    "duration": 361,
    "start_time": "2023-10-07T11:57:47.715Z"
   },
   {
    "duration": 7,
    "start_time": "2023-10-07T11:57:48.081Z"
   },
   {
    "duration": 131,
    "start_time": "2023-10-07T11:57:48.089Z"
   },
   {
    "duration": 43,
    "start_time": "2023-10-07T11:57:48.221Z"
   },
   {
    "duration": 14,
    "start_time": "2023-10-07T11:57:48.279Z"
   },
   {
    "duration": 6,
    "start_time": "2023-10-07T11:57:48.297Z"
   },
   {
    "duration": 32,
    "start_time": "2023-10-07T11:57:48.304Z"
   },
   {
    "duration": 36,
    "start_time": "2023-10-07T11:57:48.337Z"
   },
   {
    "duration": 32,
    "start_time": "2023-10-07T11:57:48.374Z"
   },
   {
    "duration": 8,
    "start_time": "2023-10-07T11:57:48.407Z"
   },
   {
    "duration": 12,
    "start_time": "2023-10-07T11:57:48.415Z"
   },
   {
    "duration": 3,
    "start_time": "2023-10-07T11:57:48.428Z"
   },
   {
    "duration": 64,
    "start_time": "2023-10-07T11:57:48.432Z"
   },
   {
    "duration": 3,
    "start_time": "2023-10-07T11:57:48.501Z"
   },
   {
    "duration": 10,
    "start_time": "2023-10-07T11:57:48.505Z"
   },
   {
    "duration": 6,
    "start_time": "2023-10-07T11:57:48.516Z"
   },
   {
    "duration": 10,
    "start_time": "2023-10-07T11:57:48.523Z"
   },
   {
    "duration": 52,
    "start_time": "2023-10-07T11:57:48.535Z"
   },
   {
    "duration": 10,
    "start_time": "2023-10-07T11:57:48.589Z"
   },
   {
    "duration": 28,
    "start_time": "2023-10-07T11:57:48.600Z"
   },
   {
    "duration": 5,
    "start_time": "2023-10-07T11:57:48.629Z"
   },
   {
    "duration": 29,
    "start_time": "2023-10-07T11:57:48.635Z"
   },
   {
    "duration": 139,
    "start_time": "2023-10-07T11:57:48.669Z"
   },
   {
    "duration": 11,
    "start_time": "2023-10-07T11:57:48.811Z"
   },
   {
    "duration": 14,
    "start_time": "2023-10-07T11:57:48.823Z"
   },
   {
    "duration": 38,
    "start_time": "2023-10-07T11:57:48.839Z"
   },
   {
    "duration": 4039,
    "start_time": "2023-10-07T11:57:56.250Z"
   },
   {
    "duration": 10,
    "start_time": "2023-10-07T11:59:14.198Z"
   },
   {
    "duration": 5,
    "start_time": "2023-10-07T11:59:31.126Z"
   },
   {
    "duration": 106,
    "start_time": "2023-10-07T12:07:32.409Z"
   },
   {
    "duration": 22,
    "start_time": "2023-10-07T12:07:50.160Z"
   },
   {
    "duration": 86,
    "start_time": "2023-10-07T12:08:08.512Z"
   },
   {
    "duration": 353,
    "start_time": "2023-10-07T12:08:20.484Z"
   },
   {
    "duration": 49,
    "start_time": "2023-10-07T12:08:20.839Z"
   },
   {
    "duration": 67,
    "start_time": "2023-10-07T12:08:20.889Z"
   },
   {
    "duration": 542,
    "start_time": "2023-10-07T12:08:20.957Z"
   },
   {
    "duration": 25,
    "start_time": "2023-10-07T12:08:21.501Z"
   },
   {
    "duration": 4,
    "start_time": "2023-10-07T12:08:21.527Z"
   },
   {
    "duration": 49,
    "start_time": "2023-10-07T12:08:21.532Z"
   },
   {
    "duration": 11,
    "start_time": "2023-10-07T12:08:21.585Z"
   },
   {
    "duration": 104,
    "start_time": "2023-10-07T12:08:21.598Z"
   },
   {
    "duration": 18,
    "start_time": "2023-10-07T12:08:21.704Z"
   },
   {
    "duration": 5,
    "start_time": "2023-10-07T12:08:21.724Z"
   },
   {
    "duration": 38,
    "start_time": "2023-10-07T12:08:21.730Z"
   },
   {
    "duration": 8,
    "start_time": "2023-10-07T12:08:21.780Z"
   },
   {
    "duration": 338,
    "start_time": "2023-10-07T12:08:21.791Z"
   },
   {
    "duration": 2,
    "start_time": "2023-10-07T12:08:22.130Z"
   },
   {
    "duration": 125,
    "start_time": "2023-10-07T12:08:22.133Z"
   },
   {
    "duration": 38,
    "start_time": "2023-10-07T12:08:22.259Z"
   },
   {
    "duration": 4,
    "start_time": "2023-10-07T12:08:22.298Z"
   },
   {
    "duration": 16,
    "start_time": "2023-10-07T12:08:22.303Z"
   },
   {
    "duration": 14,
    "start_time": "2023-10-07T12:08:22.320Z"
   },
   {
    "duration": 37,
    "start_time": "2023-10-07T12:08:22.335Z"
   },
   {
    "duration": 14,
    "start_time": "2023-10-07T12:08:22.386Z"
   },
   {
    "duration": 7,
    "start_time": "2023-10-07T12:08:22.401Z"
   },
   {
    "duration": 12,
    "start_time": "2023-10-07T12:08:22.410Z"
   },
   {
    "duration": 3,
    "start_time": "2023-10-07T12:08:22.424Z"
   },
   {
    "duration": 67,
    "start_time": "2023-10-07T12:08:22.428Z"
   },
   {
    "duration": 5,
    "start_time": "2023-10-07T12:08:22.496Z"
   },
   {
    "duration": 7,
    "start_time": "2023-10-07T12:08:22.502Z"
   },
   {
    "duration": 11,
    "start_time": "2023-10-07T12:08:22.510Z"
   },
   {
    "duration": 11,
    "start_time": "2023-10-07T12:08:22.522Z"
   },
   {
    "duration": 50,
    "start_time": "2023-10-07T12:08:22.534Z"
   },
   {
    "duration": 8,
    "start_time": "2023-10-07T12:08:22.585Z"
   },
   {
    "duration": 23,
    "start_time": "2023-10-07T12:08:22.596Z"
   },
   {
    "duration": 13,
    "start_time": "2023-10-07T12:08:22.621Z"
   },
   {
    "duration": 37,
    "start_time": "2023-10-07T12:08:22.635Z"
   },
   {
    "duration": 5,
    "start_time": "2023-10-07T12:08:22.685Z"
   },
   {
    "duration": 7,
    "start_time": "2023-10-07T12:08:22.691Z"
   },
   {
    "duration": 116,
    "start_time": "2023-10-07T12:08:22.700Z"
   },
   {
    "duration": 7,
    "start_time": "2023-10-07T12:08:22.818Z"
   },
   {
    "duration": 19,
    "start_time": "2023-10-07T12:08:22.826Z"
   },
   {
    "duration": 43,
    "start_time": "2023-10-07T12:08:22.848Z"
   },
   {
    "duration": 7,
    "start_time": "2023-10-07T12:08:22.892Z"
   },
   {
    "duration": 82,
    "start_time": "2023-10-07T12:08:51.016Z"
   },
   {
    "duration": 117,
    "start_time": "2023-10-07T12:09:12.879Z"
   },
   {
    "duration": 71,
    "start_time": "2023-10-07T12:09:37.165Z"
   },
   {
    "duration": 6,
    "start_time": "2023-10-07T12:09:45.692Z"
   },
   {
    "duration": 105,
    "start_time": "2023-10-07T12:10:11.689Z"
   },
   {
    "duration": 7,
    "start_time": "2023-10-07T12:10:18.681Z"
   },
   {
    "duration": 4,
    "start_time": "2023-10-07T12:10:41.789Z"
   },
   {
    "duration": 342,
    "start_time": "2023-10-07T12:10:50.492Z"
   },
   {
    "duration": 54,
    "start_time": "2023-10-07T12:10:50.836Z"
   },
   {
    "duration": 67,
    "start_time": "2023-10-07T12:10:50.894Z"
   },
   {
    "duration": 430,
    "start_time": "2023-10-07T12:10:50.966Z"
   },
   {
    "duration": 26,
    "start_time": "2023-10-07T12:10:51.399Z"
   },
   {
    "duration": 7,
    "start_time": "2023-10-07T12:10:51.426Z"
   },
   {
    "duration": 39,
    "start_time": "2023-10-07T12:10:51.434Z"
   },
   {
    "duration": 19,
    "start_time": "2023-10-07T12:10:51.474Z"
   },
   {
    "duration": 122,
    "start_time": "2023-10-07T12:10:51.494Z"
   },
   {
    "duration": 31,
    "start_time": "2023-10-07T12:10:51.621Z"
   },
   {
    "duration": 18,
    "start_time": "2023-10-07T12:10:51.654Z"
   },
   {
    "duration": 13,
    "start_time": "2023-10-07T12:10:51.676Z"
   },
   {
    "duration": 19,
    "start_time": "2023-10-07T12:10:51.690Z"
   },
   {
    "duration": 375,
    "start_time": "2023-10-07T12:10:51.713Z"
   },
   {
    "duration": 2,
    "start_time": "2023-10-07T12:10:52.091Z"
   },
   {
    "duration": 171,
    "start_time": "2023-10-07T12:10:52.097Z"
   },
   {
    "duration": 29,
    "start_time": "2023-10-07T12:10:52.269Z"
   },
   {
    "duration": 5,
    "start_time": "2023-10-07T12:10:52.299Z"
   },
   {
    "duration": 21,
    "start_time": "2023-10-07T12:10:52.305Z"
   },
   {
    "duration": 9,
    "start_time": "2023-10-07T12:10:52.327Z"
   },
   {
    "duration": 35,
    "start_time": "2023-10-07T12:10:52.337Z"
   },
   {
    "duration": 29,
    "start_time": "2023-10-07T12:10:52.373Z"
   },
   {
    "duration": 6,
    "start_time": "2023-10-07T12:10:52.404Z"
   },
   {
    "duration": 60,
    "start_time": "2023-10-07T12:10:52.412Z"
   },
   {
    "duration": 16,
    "start_time": "2023-10-07T12:10:52.474Z"
   },
   {
    "duration": 64,
    "start_time": "2023-10-07T12:10:52.492Z"
   },
   {
    "duration": 26,
    "start_time": "2023-10-07T12:10:52.568Z"
   },
   {
    "duration": 4,
    "start_time": "2023-10-07T12:10:52.604Z"
   },
   {
    "duration": 8,
    "start_time": "2023-10-07T12:10:52.609Z"
   },
   {
    "duration": 45,
    "start_time": "2023-10-07T12:10:52.619Z"
   },
   {
    "duration": 44,
    "start_time": "2023-10-07T12:10:52.665Z"
   },
   {
    "duration": 9,
    "start_time": "2023-10-07T12:10:52.712Z"
   },
   {
    "duration": 38,
    "start_time": "2023-10-07T12:10:52.722Z"
   },
   {
    "duration": 28,
    "start_time": "2023-10-07T12:10:52.761Z"
   },
   {
    "duration": 7,
    "start_time": "2023-10-07T12:10:52.790Z"
   },
   {
    "duration": 7,
    "start_time": "2023-10-07T12:10:52.798Z"
   },
   {
    "duration": 11,
    "start_time": "2023-10-07T12:10:52.807Z"
   },
   {
    "duration": 113,
    "start_time": "2023-10-07T12:10:52.819Z"
   },
   {
    "duration": 11,
    "start_time": "2023-10-07T12:10:52.933Z"
   },
   {
    "duration": 11,
    "start_time": "2023-10-07T12:10:52.976Z"
   },
   {
    "duration": 23,
    "start_time": "2023-10-07T12:10:52.992Z"
   },
   {
    "duration": 6,
    "start_time": "2023-10-07T12:10:53.016Z"
   },
   {
    "duration": 3,
    "start_time": "2023-10-07T12:11:44.921Z"
   },
   {
    "duration": 10,
    "start_time": "2023-10-07T12:12:21.685Z"
   },
   {
    "duration": 78,
    "start_time": "2023-10-07T12:12:37.778Z"
   },
   {
    "duration": 3612,
    "start_time": "2023-10-07T12:12:40.197Z"
   },
   {
    "duration": 387,
    "start_time": "2023-10-07T12:14:05.361Z"
   },
   {
    "duration": 49,
    "start_time": "2023-10-07T12:14:05.749Z"
   },
   {
    "duration": 96,
    "start_time": "2023-10-07T12:14:05.799Z"
   },
   {
    "duration": 414,
    "start_time": "2023-10-07T12:14:05.897Z"
   },
   {
    "duration": 26,
    "start_time": "2023-10-07T12:14:06.312Z"
   },
   {
    "duration": 17,
    "start_time": "2023-10-07T12:14:06.342Z"
   },
   {
    "duration": 37,
    "start_time": "2023-10-07T12:14:06.368Z"
   },
   {
    "duration": 11,
    "start_time": "2023-10-07T12:14:06.406Z"
   },
   {
    "duration": 179,
    "start_time": "2023-10-07T12:14:06.418Z"
   },
   {
    "duration": 69,
    "start_time": "2023-10-07T12:14:06.599Z"
   },
   {
    "duration": 8,
    "start_time": "2023-10-07T12:14:06.679Z"
   },
   {
    "duration": 14,
    "start_time": "2023-10-07T12:14:06.688Z"
   },
   {
    "duration": 19,
    "start_time": "2023-10-07T12:14:06.704Z"
   },
   {
    "duration": 448,
    "start_time": "2023-10-07T12:14:06.726Z"
   },
   {
    "duration": 3,
    "start_time": "2023-10-07T12:14:07.181Z"
   },
   {
    "duration": 202,
    "start_time": "2023-10-07T12:14:07.190Z"
   },
   {
    "duration": 91,
    "start_time": "2023-10-07T12:14:07.393Z"
   },
   {
    "duration": 7,
    "start_time": "2023-10-07T12:14:07.485Z"
   },
   {
    "duration": 8,
    "start_time": "2023-10-07T12:14:07.493Z"
   },
   {
    "duration": 66,
    "start_time": "2023-10-07T12:14:07.502Z"
   },
   {
    "duration": 11,
    "start_time": "2023-10-07T12:14:07.581Z"
   },
   {
    "duration": 12,
    "start_time": "2023-10-07T12:14:07.593Z"
   },
   {
    "duration": 10,
    "start_time": "2023-10-07T12:14:07.654Z"
   },
   {
    "duration": 21,
    "start_time": "2023-10-07T12:14:07.666Z"
   },
   {
    "duration": 6,
    "start_time": "2023-10-07T12:14:07.689Z"
   },
   {
    "duration": 61,
    "start_time": "2023-10-07T12:14:07.697Z"
   },
   {
    "duration": 22,
    "start_time": "2023-10-07T12:14:07.759Z"
   },
   {
    "duration": 9,
    "start_time": "2023-10-07T12:14:07.782Z"
   },
   {
    "duration": 6,
    "start_time": "2023-10-07T12:14:07.792Z"
   },
   {
    "duration": 11,
    "start_time": "2023-10-07T12:14:07.799Z"
   },
   {
    "duration": 49,
    "start_time": "2023-10-07T12:14:07.811Z"
   },
   {
    "duration": 13,
    "start_time": "2023-10-07T12:14:07.872Z"
   },
   {
    "duration": 38,
    "start_time": "2023-10-07T12:14:07.887Z"
   },
   {
    "duration": 9,
    "start_time": "2023-10-07T12:14:07.927Z"
   },
   {
    "duration": 35,
    "start_time": "2023-10-07T12:14:07.937Z"
   },
   {
    "duration": 3,
    "start_time": "2023-10-07T12:14:07.985Z"
   },
   {
    "duration": 5,
    "start_time": "2023-10-07T12:14:07.990Z"
   },
   {
    "duration": 113,
    "start_time": "2023-10-07T12:14:07.997Z"
   },
   {
    "duration": 5110,
    "start_time": "2023-10-07T12:14:08.111Z"
   },
   {
    "duration": 51,
    "start_time": "2023-10-07T12:14:13.222Z"
   },
   {
    "duration": 5,
    "start_time": "2023-10-07T12:14:13.285Z"
   },
   {
    "duration": 3,
    "start_time": "2023-10-07T12:14:13.291Z"
   },
   {
    "duration": 207,
    "start_time": "2023-10-07T12:15:00.030Z"
   },
   {
    "duration": 237,
    "start_time": "2023-10-07T12:15:56.670Z"
   },
   {
    "duration": 139071,
    "start_time": "2023-10-07T12:15:58.530Z"
   },
   {
    "duration": 353,
    "start_time": "2023-10-07T12:18:17.603Z"
   },
   {
    "duration": 341,
    "start_time": "2023-10-07T12:19:48.793Z"
   },
   {
    "duration": 50,
    "start_time": "2023-10-07T12:19:49.136Z"
   },
   {
    "duration": 93,
    "start_time": "2023-10-07T12:19:49.187Z"
   },
   {
    "duration": 408,
    "start_time": "2023-10-07T12:19:49.282Z"
   },
   {
    "duration": 25,
    "start_time": "2023-10-07T12:19:49.692Z"
   },
   {
    "duration": 3,
    "start_time": "2023-10-07T12:19:49.719Z"
   },
   {
    "duration": 36,
    "start_time": "2023-10-07T12:19:49.724Z"
   },
   {
    "duration": 13,
    "start_time": "2023-10-07T12:19:49.763Z"
   },
   {
    "duration": 72,
    "start_time": "2023-10-07T12:19:49.781Z"
   },
   {
    "duration": 27,
    "start_time": "2023-10-07T12:19:49.859Z"
   },
   {
    "duration": 5,
    "start_time": "2023-10-07T12:19:49.887Z"
   },
   {
    "duration": 9,
    "start_time": "2023-10-07T12:19:49.894Z"
   },
   {
    "duration": 12,
    "start_time": "2023-10-07T12:19:49.904Z"
   },
   {
    "duration": 341,
    "start_time": "2023-10-07T12:19:49.919Z"
   },
   {
    "duration": 9,
    "start_time": "2023-10-07T12:19:50.272Z"
   },
   {
    "duration": 153,
    "start_time": "2023-10-07T12:19:50.282Z"
   },
   {
    "duration": 50,
    "start_time": "2023-10-07T12:19:50.437Z"
   },
   {
    "duration": 4,
    "start_time": "2023-10-07T12:19:50.488Z"
   },
   {
    "duration": 14,
    "start_time": "2023-10-07T12:19:50.494Z"
   },
   {
    "duration": 15,
    "start_time": "2023-10-07T12:19:50.509Z"
   },
   {
    "duration": 14,
    "start_time": "2023-10-07T12:19:50.526Z"
   },
   {
    "duration": 49,
    "start_time": "2023-10-07T12:19:50.541Z"
   },
   {
    "duration": 19,
    "start_time": "2023-10-07T12:19:50.591Z"
   },
   {
    "duration": 26,
    "start_time": "2023-10-07T12:19:50.611Z"
   },
   {
    "duration": 9,
    "start_time": "2023-10-07T12:19:50.638Z"
   },
   {
    "duration": 52,
    "start_time": "2023-10-07T12:19:50.649Z"
   },
   {
    "duration": 14,
    "start_time": "2023-10-07T12:19:50.703Z"
   },
   {
    "duration": 34,
    "start_time": "2023-10-07T12:19:50.718Z"
   },
   {
    "duration": 26,
    "start_time": "2023-10-07T12:19:50.753Z"
   },
   {
    "duration": 15,
    "start_time": "2023-10-07T12:19:50.782Z"
   },
   {
    "duration": 78,
    "start_time": "2023-10-07T12:19:50.798Z"
   },
   {
    "duration": 14,
    "start_time": "2023-10-07T12:19:50.877Z"
   },
   {
    "duration": 87,
    "start_time": "2023-10-07T12:19:50.893Z"
   },
   {
    "duration": 26,
    "start_time": "2023-10-07T12:19:50.984Z"
   },
   {
    "duration": 24,
    "start_time": "2023-10-07T12:19:51.011Z"
   },
   {
    "duration": 38,
    "start_time": "2023-10-07T12:19:51.037Z"
   },
   {
    "duration": 7,
    "start_time": "2023-10-07T12:19:51.076Z"
   },
   {
    "duration": 435,
    "start_time": "2023-10-07T12:19:51.085Z"
   },
   {
    "duration": 3679,
    "start_time": "2023-10-07T12:19:51.522Z"
   },
   {
    "duration": 12,
    "start_time": "2023-10-07T12:19:55.202Z"
   },
   {
    "duration": 31,
    "start_time": "2023-10-07T12:19:55.217Z"
   },
   {
    "duration": 101,
    "start_time": "2023-10-07T12:19:55.249Z"
   },
   {
    "duration": 11,
    "start_time": "2023-10-07T12:21:11.381Z"
   },
   {
    "duration": 291,
    "start_time": "2023-10-07T12:21:37.027Z"
   },
   {
    "duration": 10,
    "start_time": "2023-10-07T12:21:38.219Z"
   },
   {
    "duration": 1425,
    "start_time": "2023-10-07T12:21:52.299Z"
   },
   {
    "duration": 33,
    "start_time": "2023-10-07T12:21:55.357Z"
   },
   {
    "duration": 16,
    "start_time": "2023-10-07T12:22:01.563Z"
   },
   {
    "duration": 355,
    "start_time": "2023-10-07T12:22:32.027Z"
   },
   {
    "duration": 106,
    "start_time": "2023-10-07T12:22:32.385Z"
   },
   {
    "duration": 209,
    "start_time": "2023-10-07T12:22:32.493Z"
   },
   {
    "duration": 672,
    "start_time": "2023-10-07T12:22:32.704Z"
   },
   {
    "duration": 89,
    "start_time": "2023-10-07T12:22:33.385Z"
   },
   {
    "duration": 3,
    "start_time": "2023-10-07T12:22:33.478Z"
   },
   {
    "duration": 32,
    "start_time": "2023-10-07T12:22:33.483Z"
   },
   {
    "duration": 22,
    "start_time": "2023-10-07T12:22:33.516Z"
   },
   {
    "duration": 79,
    "start_time": "2023-10-07T12:22:33.548Z"
   },
   {
    "duration": 24,
    "start_time": "2023-10-07T12:22:33.630Z"
   },
   {
    "duration": 26,
    "start_time": "2023-10-07T12:22:33.655Z"
   },
   {
    "duration": 4,
    "start_time": "2023-10-07T12:22:33.688Z"
   },
   {
    "duration": 7,
    "start_time": "2023-10-07T12:22:33.694Z"
   },
   {
    "duration": 328,
    "start_time": "2023-10-07T12:22:33.702Z"
   },
   {
    "duration": 3,
    "start_time": "2023-10-07T12:22:34.031Z"
   },
   {
    "duration": 127,
    "start_time": "2023-10-07T12:22:34.035Z"
   },
   {
    "duration": 36,
    "start_time": "2023-10-07T12:22:34.176Z"
   },
   {
    "duration": 4,
    "start_time": "2023-10-07T12:22:34.214Z"
   },
   {
    "duration": 10,
    "start_time": "2023-10-07T12:22:34.219Z"
   },
   {
    "duration": 38,
    "start_time": "2023-10-07T12:22:34.230Z"
   },
   {
    "duration": 14,
    "start_time": "2023-10-07T12:22:34.278Z"
   },
   {
    "duration": 23,
    "start_time": "2023-10-07T12:22:34.294Z"
   },
   {
    "duration": 6,
    "start_time": "2023-10-07T12:22:34.318Z"
   },
   {
    "duration": 39,
    "start_time": "2023-10-07T12:22:34.325Z"
   },
   {
    "duration": 25,
    "start_time": "2023-10-07T12:22:34.365Z"
   },
   {
    "duration": 29,
    "start_time": "2023-10-07T12:22:34.391Z"
   },
   {
    "duration": 3,
    "start_time": "2023-10-07T12:22:34.421Z"
   },
   {
    "duration": 5,
    "start_time": "2023-10-07T12:22:34.428Z"
   },
   {
    "duration": 42,
    "start_time": "2023-10-07T12:22:34.434Z"
   },
   {
    "duration": 9,
    "start_time": "2023-10-07T12:22:34.481Z"
   },
   {
    "duration": 25,
    "start_time": "2023-10-07T12:22:34.491Z"
   },
   {
    "duration": 6,
    "start_time": "2023-10-07T12:22:34.517Z"
   },
   {
    "duration": 65,
    "start_time": "2023-10-07T12:22:34.524Z"
   },
   {
    "duration": 10,
    "start_time": "2023-10-07T12:22:34.589Z"
   },
   {
    "duration": 12,
    "start_time": "2023-10-07T12:22:34.600Z"
   },
   {
    "duration": 6,
    "start_time": "2023-10-07T12:22:34.613Z"
   },
   {
    "duration": 7,
    "start_time": "2023-10-07T12:22:34.620Z"
   },
   {
    "duration": 130,
    "start_time": "2023-10-07T12:22:34.628Z"
   },
   {
    "duration": 11,
    "start_time": "2023-10-07T12:22:34.766Z"
   },
   {
    "duration": 22,
    "start_time": "2023-10-07T12:22:34.778Z"
   },
   {
    "duration": 11,
    "start_time": "2023-10-07T12:22:34.802Z"
   },
   {
    "duration": 18,
    "start_time": "2023-10-07T12:22:34.815Z"
   },
   {
    "duration": 27,
    "start_time": "2023-10-07T12:22:34.835Z"
   },
   {
    "duration": 505,
    "start_time": "2023-10-07T12:26:46.051Z"
   },
   {
    "duration": 11,
    "start_time": "2023-10-07T12:26:51.197Z"
   },
   {
    "duration": 65,
    "start_time": "2023-10-07T12:26:54.019Z"
   },
   {
    "duration": 17,
    "start_time": "2023-10-07T12:26:55.287Z"
   },
   {
    "duration": 2028,
    "start_time": "2023-10-07T12:27:55.753Z"
   },
   {
    "duration": 15,
    "start_time": "2023-10-07T12:27:57.782Z"
   },
   {
    "duration": 11,
    "start_time": "2023-10-07T12:27:59.871Z"
   },
   {
    "duration": 396,
    "start_time": "2023-10-07T12:29:02.468Z"
   },
   {
    "duration": 43,
    "start_time": "2023-10-07T12:29:02.866Z"
   },
   {
    "duration": 93,
    "start_time": "2023-10-07T12:29:02.910Z"
   },
   {
    "duration": 410,
    "start_time": "2023-10-07T12:29:03.004Z"
   },
   {
    "duration": 52,
    "start_time": "2023-10-07T12:29:03.416Z"
   },
   {
    "duration": 5,
    "start_time": "2023-10-07T12:29:03.480Z"
   },
   {
    "duration": 33,
    "start_time": "2023-10-07T12:29:03.486Z"
   },
   {
    "duration": 31,
    "start_time": "2023-10-07T12:29:03.521Z"
   },
   {
    "duration": 195,
    "start_time": "2023-10-07T12:29:03.565Z"
   },
   {
    "duration": 32,
    "start_time": "2023-10-07T12:29:03.761Z"
   },
   {
    "duration": 18,
    "start_time": "2023-10-07T12:29:03.793Z"
   },
   {
    "duration": 44,
    "start_time": "2023-10-07T12:29:03.812Z"
   },
   {
    "duration": 37,
    "start_time": "2023-10-07T12:29:03.857Z"
   },
   {
    "duration": 405,
    "start_time": "2023-10-07T12:29:03.897Z"
   },
   {
    "duration": 2,
    "start_time": "2023-10-07T12:29:04.303Z"
   },
   {
    "duration": 154,
    "start_time": "2023-10-07T12:29:04.306Z"
   },
   {
    "duration": 31,
    "start_time": "2023-10-07T12:29:04.472Z"
   },
   {
    "duration": 13,
    "start_time": "2023-10-07T12:29:04.504Z"
   },
   {
    "duration": 57,
    "start_time": "2023-10-07T12:29:04.518Z"
   },
   {
    "duration": 30,
    "start_time": "2023-10-07T12:29:04.581Z"
   },
   {
    "duration": 44,
    "start_time": "2023-10-07T12:29:04.612Z"
   },
   {
    "duration": 34,
    "start_time": "2023-10-07T12:29:04.657Z"
   },
   {
    "duration": 31,
    "start_time": "2023-10-07T12:29:04.692Z"
   },
   {
    "duration": 57,
    "start_time": "2023-10-07T12:29:04.724Z"
   },
   {
    "duration": 17,
    "start_time": "2023-10-07T12:29:04.783Z"
   },
   {
    "duration": 71,
    "start_time": "2023-10-07T12:29:04.801Z"
   },
   {
    "duration": 5,
    "start_time": "2023-10-07T12:29:04.880Z"
   },
   {
    "duration": 34,
    "start_time": "2023-10-07T12:29:04.886Z"
   },
   {
    "duration": 63,
    "start_time": "2023-10-07T12:29:04.921Z"
   },
   {
    "duration": 27,
    "start_time": "2023-10-07T12:29:04.985Z"
   },
   {
    "duration": 72,
    "start_time": "2023-10-07T12:29:05.014Z"
   },
   {
    "duration": 13,
    "start_time": "2023-10-07T12:29:05.089Z"
   },
   {
    "duration": 83,
    "start_time": "2023-10-07T12:29:05.103Z"
   },
   {
    "duration": 31,
    "start_time": "2023-10-07T12:29:05.187Z"
   },
   {
    "duration": 47,
    "start_time": "2023-10-07T12:29:05.219Z"
   },
   {
    "duration": 14,
    "start_time": "2023-10-07T12:29:05.267Z"
   },
   {
    "duration": 26,
    "start_time": "2023-10-07T12:29:05.283Z"
   },
   {
    "duration": 323,
    "start_time": "2023-10-07T12:29:05.310Z"
   },
   {
    "duration": 28,
    "start_time": "2023-10-07T12:29:05.634Z"
   },
   {
    "duration": 117,
    "start_time": "2023-10-07T12:29:05.672Z"
   },
   {
    "duration": 35,
    "start_time": "2023-10-07T12:29:05.792Z"
   },
   {
    "duration": 50,
    "start_time": "2023-10-07T12:29:05.830Z"
   },
   {
    "duration": 19,
    "start_time": "2023-10-07T12:29:05.882Z"
   },
   {
    "duration": 9,
    "start_time": "2023-10-07T12:32:14.475Z"
   },
   {
    "duration": 24,
    "start_time": "2023-10-07T12:32:19.038Z"
   },
   {
    "duration": 20,
    "start_time": "2023-10-07T12:34:34.965Z"
   },
   {
    "duration": 15,
    "start_time": "2023-10-07T12:35:06.981Z"
   },
   {
    "duration": 384,
    "start_time": "2023-10-07T13:17:28.284Z"
   },
   {
    "duration": 36,
    "start_time": "2023-10-07T13:17:28.669Z"
   },
   {
    "duration": 79,
    "start_time": "2023-10-07T13:17:28.706Z"
   },
   {
    "duration": 407,
    "start_time": "2023-10-07T13:17:28.787Z"
   },
   {
    "duration": 27,
    "start_time": "2023-10-07T13:17:29.196Z"
   },
   {
    "duration": 4,
    "start_time": "2023-10-07T13:17:29.224Z"
   },
   {
    "duration": 47,
    "start_time": "2023-10-07T13:17:29.229Z"
   },
   {
    "duration": 16,
    "start_time": "2023-10-07T13:17:29.280Z"
   },
   {
    "duration": 83,
    "start_time": "2023-10-07T13:17:29.297Z"
   },
   {
    "duration": 33,
    "start_time": "2023-10-07T13:17:29.383Z"
   },
   {
    "duration": 5,
    "start_time": "2023-10-07T13:17:29.417Z"
   },
   {
    "duration": 4,
    "start_time": "2023-10-07T13:17:29.423Z"
   },
   {
    "duration": 6,
    "start_time": "2023-10-07T13:17:29.428Z"
   },
   {
    "duration": 377,
    "start_time": "2023-10-07T13:17:29.436Z"
   },
   {
    "duration": 2,
    "start_time": "2023-10-07T13:17:29.814Z"
   },
   {
    "duration": 111,
    "start_time": "2023-10-07T13:17:29.817Z"
   },
   {
    "duration": 54,
    "start_time": "2023-10-07T13:17:29.929Z"
   },
   {
    "duration": 5,
    "start_time": "2023-10-07T13:17:29.984Z"
   },
   {
    "duration": 45,
    "start_time": "2023-10-07T13:17:29.990Z"
   },
   {
    "duration": 68,
    "start_time": "2023-10-07T13:17:30.036Z"
   },
   {
    "duration": 84,
    "start_time": "2023-10-07T13:17:30.105Z"
   },
   {
    "duration": 79,
    "start_time": "2023-10-07T13:17:30.191Z"
   },
   {
    "duration": 19,
    "start_time": "2023-10-07T13:17:30.273Z"
   },
   {
    "duration": 83,
    "start_time": "2023-10-07T13:17:30.293Z"
   },
   {
    "duration": 10,
    "start_time": "2023-10-07T13:17:30.382Z"
   },
   {
    "duration": 75,
    "start_time": "2023-10-07T13:17:30.393Z"
   },
   {
    "duration": 16,
    "start_time": "2023-10-07T13:17:30.469Z"
   },
   {
    "duration": 76,
    "start_time": "2023-10-07T13:17:30.488Z"
   },
   {
    "duration": 25,
    "start_time": "2023-10-07T13:17:30.565Z"
   },
   {
    "duration": 73,
    "start_time": "2023-10-07T13:17:30.591Z"
   },
   {
    "duration": 34,
    "start_time": "2023-10-07T13:17:30.669Z"
   },
   {
    "duration": 71,
    "start_time": "2023-10-07T13:17:30.704Z"
   },
   {
    "duration": 60,
    "start_time": "2023-10-07T13:17:30.776Z"
   },
   {
    "duration": 48,
    "start_time": "2023-10-07T13:17:30.838Z"
   },
   {
    "duration": 43,
    "start_time": "2023-10-07T13:17:30.887Z"
   },
   {
    "duration": 44,
    "start_time": "2023-10-07T13:17:30.931Z"
   },
   {
    "duration": 30,
    "start_time": "2023-10-07T13:17:30.976Z"
   },
   {
    "duration": 356,
    "start_time": "2023-10-07T13:17:31.007Z"
   },
   {
    "duration": 11,
    "start_time": "2023-10-07T13:17:31.377Z"
   },
   {
    "duration": 200,
    "start_time": "2023-10-07T13:17:31.390Z"
   },
   {
    "duration": 17,
    "start_time": "2023-10-07T13:17:31.592Z"
   },
   {
    "duration": 13,
    "start_time": "2023-10-07T13:17:31.610Z"
   },
   {
    "duration": 8,
    "start_time": "2023-10-07T13:17:31.624Z"
   },
   {
    "duration": 1446,
    "start_time": "2023-10-07T13:18:18.668Z"
   },
   {
    "duration": 1506,
    "start_time": "2023-10-07T13:18:34.817Z"
   },
   {
    "duration": 3,
    "start_time": "2023-10-07T13:18:43.516Z"
   },
   {
    "duration": 30,
    "start_time": "2023-10-07T13:19:16.362Z"
   },
   {
    "duration": 17,
    "start_time": "2023-10-07T13:21:02.881Z"
   },
   {
    "duration": 1507,
    "start_time": "2023-10-07T13:21:11.002Z"
   },
   {
    "duration": 6,
    "start_time": "2023-10-07T13:21:23.889Z"
   },
   {
    "duration": 78,
    "start_time": "2023-10-07T13:24:44.842Z"
   },
   {
    "duration": 33,
    "start_time": "2023-10-07T13:26:03.959Z"
   },
   {
    "duration": 82,
    "start_time": "2023-10-07T13:29:29.623Z"
   },
   {
    "duration": 34,
    "start_time": "2023-10-07T13:29:34.551Z"
   },
   {
    "duration": 9,
    "start_time": "2023-10-07T13:40:42.300Z"
   },
   {
    "duration": 17,
    "start_time": "2023-10-07T13:40:54.032Z"
   },
   {
    "duration": 9,
    "start_time": "2023-10-07T13:41:18.993Z"
   },
   {
    "duration": 31,
    "start_time": "2023-10-07T13:42:54.639Z"
   },
   {
    "duration": 3436,
    "start_time": "2023-10-07T13:43:05.793Z"
   },
   {
    "duration": 95,
    "start_time": "2023-10-07T13:44:49.927Z"
   },
   {
    "duration": 3980,
    "start_time": "2023-10-07T13:45:01.093Z"
   },
   {
    "duration": 3820,
    "start_time": "2023-10-07T13:46:35.164Z"
   },
   {
    "duration": 21,
    "start_time": "2023-10-07T13:46:51.455Z"
   },
   {
    "duration": 6,
    "start_time": "2023-10-07T13:48:00.290Z"
   },
   {
    "duration": 322,
    "start_time": "2023-10-07T13:48:30.918Z"
   },
   {
    "duration": 40,
    "start_time": "2023-10-07T13:48:31.245Z"
   },
   {
    "duration": 494,
    "start_time": "2023-10-07T13:48:31.286Z"
   },
   {
    "duration": 498,
    "start_time": "2023-10-07T13:48:31.781Z"
   },
   {
    "duration": 38,
    "start_time": "2023-10-07T13:48:32.281Z"
   },
   {
    "duration": 4,
    "start_time": "2023-10-07T13:48:32.321Z"
   },
   {
    "duration": 42,
    "start_time": "2023-10-07T13:48:32.326Z"
   },
   {
    "duration": 35,
    "start_time": "2023-10-07T13:48:32.369Z"
   },
   {
    "duration": 118,
    "start_time": "2023-10-07T13:48:32.406Z"
   },
   {
    "duration": 49,
    "start_time": "2023-10-07T13:48:32.526Z"
   },
   {
    "duration": 7,
    "start_time": "2023-10-07T13:48:32.576Z"
   },
   {
    "duration": 8,
    "start_time": "2023-10-07T13:48:32.584Z"
   },
   {
    "duration": 20,
    "start_time": "2023-10-07T13:48:32.593Z"
   },
   {
    "duration": 349,
    "start_time": "2023-10-07T13:48:32.615Z"
   },
   {
    "duration": 3,
    "start_time": "2023-10-07T13:48:32.974Z"
   },
   {
    "duration": 126,
    "start_time": "2023-10-07T13:48:32.979Z"
   },
   {
    "duration": 19,
    "start_time": "2023-10-07T13:48:33.107Z"
   },
   {
    "duration": 9,
    "start_time": "2023-10-07T13:48:33.127Z"
   },
   {
    "duration": 20,
    "start_time": "2023-10-07T13:48:33.137Z"
   },
   {
    "duration": 28,
    "start_time": "2023-10-07T13:48:33.158Z"
   },
   {
    "duration": 9,
    "start_time": "2023-10-07T13:48:33.187Z"
   },
   {
    "duration": 32,
    "start_time": "2023-10-07T13:48:33.197Z"
   },
   {
    "duration": 6,
    "start_time": "2023-10-07T13:48:33.231Z"
   },
   {
    "duration": 20,
    "start_time": "2023-10-07T13:48:33.248Z"
   },
   {
    "duration": 11,
    "start_time": "2023-10-07T13:48:33.269Z"
   },
   {
    "duration": 27,
    "start_time": "2023-10-07T13:48:33.281Z"
   },
   {
    "duration": 4,
    "start_time": "2023-10-07T13:48:33.309Z"
   },
   {
    "duration": 5,
    "start_time": "2023-10-07T13:48:33.314Z"
   },
   {
    "duration": 10,
    "start_time": "2023-10-07T13:48:33.320Z"
   },
   {
    "duration": 44,
    "start_time": "2023-10-07T13:48:33.332Z"
   },
   {
    "duration": 20,
    "start_time": "2023-10-07T13:48:33.381Z"
   },
   {
    "duration": 6,
    "start_time": "2023-10-07T13:48:33.402Z"
   },
   {
    "duration": 20,
    "start_time": "2023-10-07T13:48:33.409Z"
   },
   {
    "duration": 25,
    "start_time": "2023-10-07T13:48:33.431Z"
   },
   {
    "duration": 7,
    "start_time": "2023-10-07T13:48:33.465Z"
   },
   {
    "duration": 10,
    "start_time": "2023-10-07T13:48:33.473Z"
   },
   {
    "duration": 11,
    "start_time": "2023-10-07T13:48:33.484Z"
   },
   {
    "duration": 3905,
    "start_time": "2023-10-07T13:48:33.496Z"
   },
   {
    "duration": 2,
    "start_time": "2023-10-07T13:48:37.402Z"
   },
   {
    "duration": 16,
    "start_time": "2023-10-07T13:48:37.405Z"
   },
   {
    "duration": 138,
    "start_time": "2023-10-07T13:48:37.424Z"
   },
   {
    "duration": 0,
    "start_time": "2023-10-07T13:48:37.564Z"
   },
   {
    "duration": 0,
    "start_time": "2023-10-07T13:48:37.564Z"
   },
   {
    "duration": 5,
    "start_time": "2023-10-07T13:49:47.074Z"
   },
   {
    "duration": 1194,
    "start_time": "2023-10-07T13:50:29.112Z"
   },
   {
    "duration": 10,
    "start_time": "2023-10-07T13:51:11.920Z"
   },
   {
    "duration": 103,
    "start_time": "2023-10-07T13:54:32.775Z"
   },
   {
    "duration": 12,
    "start_time": "2023-10-07T13:54:45.791Z"
   },
   {
    "duration": 25,
    "start_time": "2023-10-07T13:54:55.056Z"
   },
   {
    "duration": 52,
    "start_time": "2023-10-07T13:55:11.436Z"
   },
   {
    "duration": 13,
    "start_time": "2023-10-07T13:56:04.985Z"
   },
   {
    "duration": 10,
    "start_time": "2023-10-07T13:56:35.116Z"
   },
   {
    "duration": 12,
    "start_time": "2023-10-07T13:56:43.323Z"
   },
   {
    "duration": 14,
    "start_time": "2023-10-07T15:19:18.801Z"
   },
   {
    "duration": 1715,
    "start_time": "2023-10-07T15:19:47.910Z"
   },
   {
    "duration": 1532,
    "start_time": "2023-10-07T15:20:14.724Z"
   },
   {
    "duration": 14,
    "start_time": "2023-10-07T15:20:31.178Z"
   },
   {
    "duration": 1424,
    "start_time": "2023-10-07T15:21:36.226Z"
   },
   {
    "duration": 13,
    "start_time": "2023-10-07T15:21:51.222Z"
   },
   {
    "duration": 26,
    "start_time": "2023-10-07T15:22:43.664Z"
   },
   {
    "duration": 3842,
    "start_time": "2023-10-07T15:23:04.763Z"
   },
   {
    "duration": 13,
    "start_time": "2023-10-07T15:25:28.105Z"
   },
   {
    "duration": 13,
    "start_time": "2023-10-07T15:28:41.120Z"
   },
   {
    "duration": 12,
    "start_time": "2023-10-07T15:28:56.775Z"
   },
   {
    "duration": 14,
    "start_time": "2023-10-07T15:30:43.523Z"
   },
   {
    "duration": 364,
    "start_time": "2023-10-07T15:30:54.660Z"
   },
   {
    "duration": 45,
    "start_time": "2023-10-07T15:30:55.026Z"
   },
   {
    "duration": 60,
    "start_time": "2023-10-07T15:30:55.072Z"
   },
   {
    "duration": 436,
    "start_time": "2023-10-07T15:30:55.133Z"
   },
   {
    "duration": 27,
    "start_time": "2023-10-07T15:30:55.571Z"
   },
   {
    "duration": 185,
    "start_time": "2023-10-07T15:30:55.600Z"
   },
   {
    "duration": 92,
    "start_time": "2023-10-07T15:30:55.787Z"
   },
   {
    "duration": 46,
    "start_time": "2023-10-07T15:30:55.881Z"
   },
   {
    "duration": 87,
    "start_time": "2023-10-07T15:30:55.929Z"
   },
   {
    "duration": 19,
    "start_time": "2023-10-07T15:30:56.018Z"
   },
   {
    "duration": 25,
    "start_time": "2023-10-07T15:30:56.038Z"
   },
   {
    "duration": 19,
    "start_time": "2023-10-07T15:30:56.069Z"
   },
   {
    "duration": 30,
    "start_time": "2023-10-07T15:30:56.089Z"
   },
   {
    "duration": 336,
    "start_time": "2023-10-07T15:30:56.121Z"
   },
   {
    "duration": 4,
    "start_time": "2023-10-07T15:30:56.458Z"
   },
   {
    "duration": 104,
    "start_time": "2023-10-07T15:30:56.467Z"
   },
   {
    "duration": 23,
    "start_time": "2023-10-07T15:30:56.573Z"
   },
   {
    "duration": 5,
    "start_time": "2023-10-07T15:30:56.597Z"
   },
   {
    "duration": 12,
    "start_time": "2023-10-07T15:30:56.603Z"
   },
   {
    "duration": 16,
    "start_time": "2023-10-07T15:30:56.616Z"
   },
   {
    "duration": 31,
    "start_time": "2023-10-07T15:30:56.633Z"
   },
   {
    "duration": 9,
    "start_time": "2023-10-07T15:30:56.666Z"
   },
   {
    "duration": 8,
    "start_time": "2023-10-07T15:30:56.677Z"
   },
   {
    "duration": 16,
    "start_time": "2023-10-07T15:30:56.686Z"
   },
   {
    "duration": 5,
    "start_time": "2023-10-07T15:30:56.703Z"
   },
   {
    "duration": 25,
    "start_time": "2023-10-07T15:30:56.709Z"
   },
   {
    "duration": 3,
    "start_time": "2023-10-07T15:30:56.735Z"
   },
   {
    "duration": 25,
    "start_time": "2023-10-07T15:30:56.740Z"
   },
   {
    "duration": 5,
    "start_time": "2023-10-07T15:30:56.766Z"
   },
   {
    "duration": 15,
    "start_time": "2023-10-07T15:30:56.772Z"
   },
   {
    "duration": 19,
    "start_time": "2023-10-07T15:30:56.788Z"
   },
   {
    "duration": 8,
    "start_time": "2023-10-07T15:30:56.808Z"
   },
   {
    "duration": 17,
    "start_time": "2023-10-07T15:30:56.817Z"
   },
   {
    "duration": 26,
    "start_time": "2023-10-07T15:30:56.835Z"
   },
   {
    "duration": 13,
    "start_time": "2023-10-07T15:30:56.862Z"
   },
   {
    "duration": 3,
    "start_time": "2023-10-07T15:30:56.877Z"
   },
   {
    "duration": 11,
    "start_time": "2023-10-07T15:30:56.881Z"
   },
   {
    "duration": 4596,
    "start_time": "2023-10-07T15:30:56.893Z"
   },
   {
    "duration": 2,
    "start_time": "2023-10-07T15:31:01.490Z"
   },
   {
    "duration": 245,
    "start_time": "2023-10-07T15:31:01.493Z"
   },
   {
    "duration": 126,
    "start_time": "2023-10-07T15:31:01.739Z"
   },
   {
    "duration": 1426,
    "start_time": "2023-10-07T15:31:01.867Z"
   },
   {
    "duration": 0,
    "start_time": "2023-10-07T15:31:03.294Z"
   },
   {
    "duration": 13,
    "start_time": "2023-10-07T15:33:57.216Z"
   },
   {
    "duration": 22,
    "start_time": "2023-10-07T15:34:17.779Z"
   },
   {
    "duration": 14,
    "start_time": "2023-10-07T15:34:27.994Z"
   },
   {
    "duration": 14,
    "start_time": "2023-10-07T15:34:32.902Z"
   },
   {
    "duration": 14,
    "start_time": "2023-10-07T15:34:40.222Z"
   },
   {
    "duration": 49,
    "start_time": "2023-10-07T15:36:32.316Z"
   },
   {
    "duration": 252,
    "start_time": "2023-10-07T15:37:03.033Z"
   },
   {
    "duration": 9,
    "start_time": "2023-10-07T15:37:21.314Z"
   },
   {
    "duration": 9,
    "start_time": "2023-10-07T15:37:39.479Z"
   },
   {
    "duration": 9,
    "start_time": "2023-10-07T15:37:51.889Z"
   },
   {
    "duration": 9,
    "start_time": "2023-10-07T15:38:09.616Z"
   },
   {
    "duration": 69,
    "start_time": "2023-10-07T15:47:10.309Z"
   },
   {
    "duration": 310,
    "start_time": "2023-10-07T15:47:14.397Z"
   },
   {
    "duration": 17,
    "start_time": "2023-10-07T15:47:32.154Z"
   },
   {
    "duration": 10,
    "start_time": "2023-10-07T15:47:42.568Z"
   },
   {
    "duration": 4,
    "start_time": "2023-10-07T15:50:02.075Z"
   },
   {
    "duration": 395,
    "start_time": "2023-10-07T15:50:13.312Z"
   },
   {
    "duration": 7,
    "start_time": "2023-10-07T15:51:02.636Z"
   },
   {
    "duration": 9,
    "start_time": "2023-10-07T15:51:37.594Z"
   },
   {
    "duration": 1448,
    "start_time": "2023-10-07T15:57:40.400Z"
   },
   {
    "duration": 7,
    "start_time": "2023-10-07T15:58:07.653Z"
   },
   {
    "duration": 126,
    "start_time": "2023-10-07T15:58:43.561Z"
   },
   {
    "duration": 89,
    "start_time": "2023-10-07T15:59:00.464Z"
   },
   {
    "duration": 7,
    "start_time": "2023-10-07T15:59:34.982Z"
   },
   {
    "duration": 7,
    "start_time": "2023-10-07T15:59:51.885Z"
   },
   {
    "duration": 8,
    "start_time": "2023-10-07T16:00:16.673Z"
   },
   {
    "duration": 102,
    "start_time": "2023-10-07T16:06:34.730Z"
   },
   {
    "duration": 12,
    "start_time": "2023-10-07T16:32:25.528Z"
   },
   {
    "duration": 9,
    "start_time": "2023-10-07T16:39:24.741Z"
   },
   {
    "duration": 7,
    "start_time": "2023-10-07T16:40:55.718Z"
   },
   {
    "duration": 4,
    "start_time": "2023-10-07T16:41:06.421Z"
   },
   {
    "duration": 3563,
    "start_time": "2023-10-07T16:41:13.939Z"
   },
   {
    "duration": 209,
    "start_time": "2023-10-07T16:43:38.171Z"
   },
   {
    "duration": 166,
    "start_time": "2023-10-07T16:43:50.428Z"
   },
   {
    "duration": 10,
    "start_time": "2023-10-07T16:49:36.714Z"
   },
   {
    "duration": 8,
    "start_time": "2023-10-07T16:54:09.678Z"
   },
   {
    "duration": 12,
    "start_time": "2023-10-07T16:54:55.018Z"
   },
   {
    "duration": 28,
    "start_time": "2023-10-07T16:55:01.202Z"
   },
   {
    "duration": 135,
    "start_time": "2023-10-07T16:55:11.849Z"
   },
   {
    "duration": 123,
    "start_time": "2023-10-07T16:55:43.779Z"
   },
   {
    "duration": 3300,
    "start_time": "2023-10-07T16:56:02.378Z"
   },
   {
    "duration": 18,
    "start_time": "2023-10-07T16:57:15.988Z"
   },
   {
    "duration": 18,
    "start_time": "2023-10-07T16:57:22.390Z"
   },
   {
    "duration": 118,
    "start_time": "2023-10-07T16:58:27.764Z"
   },
   {
    "duration": 75,
    "start_time": "2023-10-07T16:59:22.627Z"
   },
   {
    "duration": 4,
    "start_time": "2023-10-07T16:59:33.975Z"
   },
   {
    "duration": 88,
    "start_time": "2023-10-07T16:59:40.920Z"
   },
   {
    "duration": 93,
    "start_time": "2023-10-07T16:59:46.586Z"
   },
   {
    "duration": 12,
    "start_time": "2023-10-07T16:59:54.404Z"
   },
   {
    "duration": 163,
    "start_time": "2023-10-07T17:00:24.166Z"
   },
   {
    "duration": 15,
    "start_time": "2023-10-07T17:00:57.568Z"
   },
   {
    "duration": 14,
    "start_time": "2023-10-07T17:01:04.066Z"
   },
   {
    "duration": 13,
    "start_time": "2023-10-07T17:02:07.576Z"
   },
   {
    "duration": 60,
    "start_time": "2023-10-07T20:54:51.914Z"
   },
   {
    "duration": 383,
    "start_time": "2023-10-07T20:55:04.811Z"
   },
   {
    "duration": 73,
    "start_time": "2023-10-07T20:55:05.196Z"
   },
   {
    "duration": 170,
    "start_time": "2023-10-07T20:55:05.270Z"
   },
   {
    "duration": 588,
    "start_time": "2023-10-07T20:55:05.442Z"
   },
   {
    "duration": 71,
    "start_time": "2023-10-07T20:55:06.031Z"
   },
   {
    "duration": 4,
    "start_time": "2023-10-07T20:55:06.104Z"
   },
   {
    "duration": 40,
    "start_time": "2023-10-07T20:55:06.110Z"
   },
   {
    "duration": 22,
    "start_time": "2023-10-07T20:55:06.151Z"
   },
   {
    "duration": 75,
    "start_time": "2023-10-07T20:55:06.174Z"
   },
   {
    "duration": 24,
    "start_time": "2023-10-07T20:55:06.252Z"
   },
   {
    "duration": 37,
    "start_time": "2023-10-07T20:55:06.277Z"
   },
   {
    "duration": 38,
    "start_time": "2023-10-07T20:55:06.316Z"
   },
   {
    "duration": 44,
    "start_time": "2023-10-07T20:55:06.358Z"
   },
   {
    "duration": 353,
    "start_time": "2023-10-07T20:55:06.404Z"
   },
   {
    "duration": 2,
    "start_time": "2023-10-07T20:55:06.759Z"
   },
   {
    "duration": 118,
    "start_time": "2023-10-07T20:55:06.762Z"
   },
   {
    "duration": 24,
    "start_time": "2023-10-07T20:55:06.882Z"
   },
   {
    "duration": 5,
    "start_time": "2023-10-07T20:55:06.908Z"
   },
   {
    "duration": 31,
    "start_time": "2023-10-07T20:55:06.914Z"
   },
   {
    "duration": 11,
    "start_time": "2023-10-07T20:55:06.947Z"
   },
   {
    "duration": 7,
    "start_time": "2023-10-07T20:55:06.959Z"
   },
   {
    "duration": 11,
    "start_time": "2023-10-07T20:55:06.968Z"
   },
   {
    "duration": 6,
    "start_time": "2023-10-07T20:55:06.980Z"
   },
   {
    "duration": 11,
    "start_time": "2023-10-07T20:55:06.988Z"
   },
   {
    "duration": 4,
    "start_time": "2023-10-07T20:55:07.000Z"
   },
   {
    "duration": 38,
    "start_time": "2023-10-07T20:55:07.040Z"
   },
   {
    "duration": 5,
    "start_time": "2023-10-07T20:55:07.079Z"
   },
   {
    "duration": 16,
    "start_time": "2023-10-07T20:55:07.087Z"
   },
   {
    "duration": 20,
    "start_time": "2023-10-07T20:55:07.105Z"
   },
   {
    "duration": 17,
    "start_time": "2023-10-07T20:55:07.127Z"
   },
   {
    "duration": 21,
    "start_time": "2023-10-07T20:55:07.145Z"
   },
   {
    "duration": 13,
    "start_time": "2023-10-07T20:55:07.167Z"
   },
   {
    "duration": 29,
    "start_time": "2023-10-07T20:55:07.182Z"
   },
   {
    "duration": 29,
    "start_time": "2023-10-07T20:55:07.212Z"
   },
   {
    "duration": 6,
    "start_time": "2023-10-07T20:55:07.242Z"
   },
   {
    "duration": 67,
    "start_time": "2023-10-07T20:55:07.250Z"
   },
   {
    "duration": 0,
    "start_time": "2023-10-07T20:55:07.318Z"
   },
   {
    "duration": 0,
    "start_time": "2023-10-07T20:55:07.319Z"
   },
   {
    "duration": 0,
    "start_time": "2023-10-07T20:55:07.320Z"
   },
   {
    "duration": 0,
    "start_time": "2023-10-07T20:55:07.321Z"
   },
   {
    "duration": 0,
    "start_time": "2023-10-07T20:55:07.322Z"
   },
   {
    "duration": 0,
    "start_time": "2023-10-07T20:55:07.323Z"
   },
   {
    "duration": 0,
    "start_time": "2023-10-07T20:55:07.325Z"
   },
   {
    "duration": 0,
    "start_time": "2023-10-07T20:55:07.326Z"
   },
   {
    "duration": 0,
    "start_time": "2023-10-07T20:55:07.327Z"
   },
   {
    "duration": 0,
    "start_time": "2023-10-07T20:55:07.328Z"
   },
   {
    "duration": 0,
    "start_time": "2023-10-07T20:55:07.329Z"
   },
   {
    "duration": 320,
    "start_time": "2023-10-07T20:56:40.477Z"
   },
   {
    "duration": 35,
    "start_time": "2023-10-07T20:56:40.799Z"
   },
   {
    "duration": 87,
    "start_time": "2023-10-07T20:56:40.835Z"
   },
   {
    "duration": 372,
    "start_time": "2023-10-07T20:56:40.924Z"
   },
   {
    "duration": 26,
    "start_time": "2023-10-07T20:56:41.298Z"
   },
   {
    "duration": 5,
    "start_time": "2023-10-07T20:56:41.325Z"
   },
   {
    "duration": 22,
    "start_time": "2023-10-07T20:56:41.331Z"
   },
   {
    "duration": 12,
    "start_time": "2023-10-07T20:56:41.354Z"
   },
   {
    "duration": 72,
    "start_time": "2023-10-07T20:56:41.367Z"
   },
   {
    "duration": 31,
    "start_time": "2023-10-07T20:56:41.441Z"
   },
   {
    "duration": 5,
    "start_time": "2023-10-07T20:56:41.474Z"
   },
   {
    "duration": 4,
    "start_time": "2023-10-07T20:56:41.481Z"
   },
   {
    "duration": 12,
    "start_time": "2023-10-07T20:56:41.486Z"
   },
   {
    "duration": 330,
    "start_time": "2023-10-07T20:56:41.501Z"
   },
   {
    "duration": 7,
    "start_time": "2023-10-07T20:56:41.832Z"
   },
   {
    "duration": 82,
    "start_time": "2023-10-07T20:56:41.841Z"
   },
   {
    "duration": 43,
    "start_time": "2023-10-07T20:56:41.925Z"
   },
   {
    "duration": 6,
    "start_time": "2023-10-07T20:56:41.970Z"
   },
   {
    "duration": 10,
    "start_time": "2023-10-07T20:56:41.977Z"
   },
   {
    "duration": 12,
    "start_time": "2023-10-07T20:56:41.988Z"
   },
   {
    "duration": 9,
    "start_time": "2023-10-07T20:56:42.001Z"
   },
   {
    "duration": 35,
    "start_time": "2023-10-07T20:56:42.012Z"
   },
   {
    "duration": 10,
    "start_time": "2023-10-07T20:56:42.048Z"
   },
   {
    "duration": 11,
    "start_time": "2023-10-07T20:56:42.059Z"
   },
   {
    "duration": 4,
    "start_time": "2023-10-07T20:56:42.071Z"
   },
   {
    "duration": 28,
    "start_time": "2023-10-07T20:56:42.076Z"
   },
   {
    "duration": 4,
    "start_time": "2023-10-07T20:56:42.139Z"
   },
   {
    "duration": 10,
    "start_time": "2023-10-07T20:56:42.144Z"
   },
   {
    "duration": 26,
    "start_time": "2023-10-07T20:56:42.155Z"
   },
   {
    "duration": 9,
    "start_time": "2023-10-07T20:56:42.183Z"
   },
   {
    "duration": 23,
    "start_time": "2023-10-07T20:56:42.193Z"
   },
   {
    "duration": 9,
    "start_time": "2023-10-07T20:56:42.217Z"
   },
   {
    "duration": 25,
    "start_time": "2023-10-07T20:56:42.227Z"
   },
   {
    "duration": 12,
    "start_time": "2023-10-07T20:56:42.253Z"
   },
   {
    "duration": 6,
    "start_time": "2023-10-07T20:56:42.266Z"
   },
   {
    "duration": 11,
    "start_time": "2023-10-07T20:56:42.274Z"
   },
   {
    "duration": 170,
    "start_time": "2023-10-07T20:56:42.286Z"
   },
   {
    "duration": 332,
    "start_time": "2023-10-07T20:56:42.458Z"
   },
   {
    "duration": 18,
    "start_time": "2023-10-07T20:56:42.791Z"
   },
   {
    "duration": 5,
    "start_time": "2023-10-07T20:56:42.811Z"
   },
   {
    "duration": 37,
    "start_time": "2023-10-07T20:56:42.820Z"
   },
   {
    "duration": 14,
    "start_time": "2023-10-07T20:56:42.859Z"
   },
   {
    "duration": 11,
    "start_time": "2023-10-07T20:56:42.874Z"
   },
   {
    "duration": 26,
    "start_time": "2023-10-07T20:56:42.886Z"
   },
   {
    "duration": 96,
    "start_time": "2023-10-07T20:56:42.914Z"
   },
   {
    "duration": 0,
    "start_time": "2023-10-07T20:56:43.011Z"
   },
   {
    "duration": 10,
    "start_time": "2023-10-07T21:01:44.042Z"
   },
   {
    "duration": 11,
    "start_time": "2023-10-07T21:04:37.878Z"
   },
   {
    "duration": 10,
    "start_time": "2023-10-07T21:06:16.207Z"
   },
   {
    "duration": 14,
    "start_time": "2023-10-07T21:06:53.935Z"
   },
   {
    "duration": 13,
    "start_time": "2023-10-07T21:07:10.135Z"
   },
   {
    "duration": 20,
    "start_time": "2023-10-07T21:07:29.008Z"
   },
   {
    "duration": 9,
    "start_time": "2023-10-07T21:08:08.319Z"
   },
   {
    "duration": 11,
    "start_time": "2023-10-07T21:09:01.978Z"
   },
   {
    "duration": 1039,
    "start_time": "2023-10-07T21:09:10.510Z"
   },
   {
    "duration": 16,
    "start_time": "2023-10-07T21:09:15.621Z"
   },
   {
    "duration": 14,
    "start_time": "2023-10-07T21:11:03.630Z"
   },
   {
    "duration": 363,
    "start_time": "2023-10-07T21:14:42.506Z"
   },
   {
    "duration": 35,
    "start_time": "2023-10-07T21:14:42.871Z"
   },
   {
    "duration": 59,
    "start_time": "2023-10-07T21:14:42.908Z"
   },
   {
    "duration": 361,
    "start_time": "2023-10-07T21:14:42.969Z"
   },
   {
    "duration": 25,
    "start_time": "2023-10-07T21:14:43.331Z"
   },
   {
    "duration": 3,
    "start_time": "2023-10-07T21:14:43.358Z"
   },
   {
    "duration": 20,
    "start_time": "2023-10-07T21:14:43.362Z"
   },
   {
    "duration": 10,
    "start_time": "2023-10-07T21:14:43.384Z"
   },
   {
    "duration": 71,
    "start_time": "2023-10-07T21:14:43.395Z"
   },
   {
    "duration": 19,
    "start_time": "2023-10-07T21:14:43.467Z"
   },
   {
    "duration": 5,
    "start_time": "2023-10-07T21:14:43.488Z"
   },
   {
    "duration": 5,
    "start_time": "2023-10-07T21:14:43.494Z"
   },
   {
    "duration": 7,
    "start_time": "2023-10-07T21:14:43.501Z"
   },
   {
    "duration": 338,
    "start_time": "2023-10-07T21:14:43.510Z"
   },
   {
    "duration": 2,
    "start_time": "2023-10-07T21:14:43.850Z"
   },
   {
    "duration": 217,
    "start_time": "2023-10-07T21:14:43.853Z"
   },
   {
    "duration": 54,
    "start_time": "2023-10-07T21:14:44.071Z"
   },
   {
    "duration": 5,
    "start_time": "2023-10-07T21:14:44.129Z"
   },
   {
    "duration": 9,
    "start_time": "2023-10-07T21:14:44.135Z"
   },
   {
    "duration": 17,
    "start_time": "2023-10-07T21:14:44.146Z"
   },
   {
    "duration": 22,
    "start_time": "2023-10-07T21:14:44.165Z"
   },
   {
    "duration": 23,
    "start_time": "2023-10-07T21:14:44.188Z"
   },
   {
    "duration": 17,
    "start_time": "2023-10-07T21:14:44.212Z"
   },
   {
    "duration": 32,
    "start_time": "2023-10-07T21:14:44.231Z"
   },
   {
    "duration": 4,
    "start_time": "2023-10-07T21:14:44.264Z"
   },
   {
    "duration": 27,
    "start_time": "2023-10-07T21:14:44.269Z"
   },
   {
    "duration": 4,
    "start_time": "2023-10-07T21:14:44.297Z"
   },
   {
    "duration": 12,
    "start_time": "2023-10-07T21:14:44.303Z"
   },
   {
    "duration": 15,
    "start_time": "2023-10-07T21:14:44.316Z"
   },
   {
    "duration": 10,
    "start_time": "2023-10-07T21:14:44.333Z"
   },
   {
    "duration": 25,
    "start_time": "2023-10-07T21:14:44.344Z"
   },
   {
    "duration": 8,
    "start_time": "2023-10-07T21:14:44.370Z"
   },
   {
    "duration": 32,
    "start_time": "2023-10-07T21:14:44.380Z"
   },
   {
    "duration": 8,
    "start_time": "2023-10-07T21:14:44.414Z"
   },
   {
    "duration": 4,
    "start_time": "2023-10-07T21:14:44.424Z"
   },
   {
    "duration": 5,
    "start_time": "2023-10-07T21:14:44.439Z"
   },
   {
    "duration": 125,
    "start_time": "2023-10-07T21:14:44.445Z"
   },
   {
    "duration": 247,
    "start_time": "2023-10-07T21:14:44.572Z"
   },
   {
    "duration": 22,
    "start_time": "2023-10-07T21:14:44.820Z"
   },
   {
    "duration": 5,
    "start_time": "2023-10-07T21:14:44.843Z"
   },
   {
    "duration": 43,
    "start_time": "2023-10-07T21:14:44.850Z"
   },
   {
    "duration": 11,
    "start_time": "2023-10-07T21:14:44.895Z"
   },
   {
    "duration": 12,
    "start_time": "2023-10-07T21:14:44.907Z"
   },
   {
    "duration": 14,
    "start_time": "2023-10-07T21:14:44.920Z"
   },
   {
    "duration": 19,
    "start_time": "2023-10-07T21:14:44.935Z"
   },
   {
    "duration": 13,
    "start_time": "2023-10-07T21:14:44.955Z"
   },
   {
    "duration": 52,
    "start_time": "2023-10-07T21:14:44.969Z"
   },
   {
    "duration": 8,
    "start_time": "2023-10-07T21:16:08.505Z"
   },
   {
    "duration": 53,
    "start_time": "2023-10-08T11:27:51.030Z"
   },
   {
    "duration": 463,
    "start_time": "2023-10-08T11:28:05.347Z"
   },
   {
    "duration": 85,
    "start_time": "2023-10-08T11:28:05.813Z"
   },
   {
    "duration": 243,
    "start_time": "2023-10-08T11:28:05.899Z"
   },
   {
    "duration": 1709,
    "start_time": "2023-10-08T11:28:06.145Z"
   },
   {
    "duration": 126,
    "start_time": "2023-10-08T11:28:07.856Z"
   },
   {
    "duration": 5,
    "start_time": "2023-10-08T11:28:07.984Z"
   },
   {
    "duration": 33,
    "start_time": "2023-10-08T11:28:07.991Z"
   },
   {
    "duration": 45,
    "start_time": "2023-10-08T11:28:08.026Z"
   },
   {
    "duration": 107,
    "start_time": "2023-10-08T11:28:08.073Z"
   },
   {
    "duration": 30,
    "start_time": "2023-10-08T11:28:08.183Z"
   },
   {
    "duration": 15,
    "start_time": "2023-10-08T11:28:08.215Z"
   },
   {
    "duration": 26,
    "start_time": "2023-10-08T11:28:08.232Z"
   },
   {
    "duration": 18,
    "start_time": "2023-10-08T11:28:08.260Z"
   },
   {
    "duration": 513,
    "start_time": "2023-10-08T11:28:08.280Z"
   },
   {
    "duration": 3,
    "start_time": "2023-10-08T11:28:08.795Z"
   },
   {
    "duration": 175,
    "start_time": "2023-10-08T11:28:08.799Z"
   },
   {
    "duration": 41,
    "start_time": "2023-10-08T11:28:08.976Z"
   },
   {
    "duration": 6,
    "start_time": "2023-10-08T11:28:09.019Z"
   },
   {
    "duration": 42,
    "start_time": "2023-10-08T11:28:09.027Z"
   },
   {
    "duration": 31,
    "start_time": "2023-10-08T11:28:09.071Z"
   },
   {
    "duration": 245,
    "start_time": "2023-10-08T11:28:09.105Z"
   },
   {
    "duration": 47,
    "start_time": "2023-10-08T11:28:09.352Z"
   },
   {
    "duration": 18,
    "start_time": "2023-10-08T11:28:09.401Z"
   },
   {
    "duration": 53,
    "start_time": "2023-10-08T11:28:09.421Z"
   },
   {
    "duration": 53,
    "start_time": "2023-10-08T11:28:09.476Z"
   },
   {
    "duration": 50,
    "start_time": "2023-10-08T11:28:09.531Z"
   },
   {
    "duration": 4,
    "start_time": "2023-10-08T11:28:09.583Z"
   },
   {
    "duration": 8,
    "start_time": "2023-10-08T11:28:09.591Z"
   },
   {
    "duration": 44,
    "start_time": "2023-10-08T11:28:09.601Z"
   },
   {
    "duration": 15,
    "start_time": "2023-10-08T11:28:09.647Z"
   },
   {
    "duration": 31,
    "start_time": "2023-10-08T11:28:09.665Z"
   },
   {
    "duration": 18,
    "start_time": "2023-10-08T11:28:09.698Z"
   },
   {
    "duration": 40,
    "start_time": "2023-10-08T11:28:09.718Z"
   },
   {
    "duration": 12,
    "start_time": "2023-10-08T11:28:09.760Z"
   },
   {
    "duration": 9,
    "start_time": "2023-10-08T11:28:09.774Z"
   },
   {
    "duration": 10,
    "start_time": "2023-10-08T11:28:09.785Z"
   },
   {
    "duration": 196,
    "start_time": "2023-10-08T11:28:09.797Z"
   },
   {
    "duration": 390,
    "start_time": "2023-10-08T11:28:09.995Z"
   },
   {
    "duration": 18,
    "start_time": "2023-10-08T11:28:10.387Z"
   },
   {
    "duration": 21,
    "start_time": "2023-10-08T11:28:10.407Z"
   },
   {
    "duration": 38,
    "start_time": "2023-10-08T11:28:10.430Z"
   },
   {
    "duration": 21,
    "start_time": "2023-10-08T11:28:10.470Z"
   },
   {
    "duration": 22,
    "start_time": "2023-10-08T11:28:10.493Z"
   },
   {
    "duration": 34,
    "start_time": "2023-10-08T11:28:10.517Z"
   },
   {
    "duration": 22,
    "start_time": "2023-10-08T11:28:10.553Z"
   },
   {
    "duration": 20,
    "start_time": "2023-10-08T11:28:10.576Z"
   },
   {
    "duration": 14,
    "start_time": "2023-10-08T11:28:10.598Z"
   },
   {
    "duration": 15,
    "start_time": "2023-10-08T11:28:45.738Z"
   },
   {
    "duration": 8,
    "start_time": "2023-10-08T11:28:59.170Z"
   },
   {
    "duration": 13,
    "start_time": "2023-10-08T11:29:03.181Z"
   },
   {
    "duration": 10,
    "start_time": "2023-10-08T11:29:21.318Z"
   },
   {
    "duration": 5,
    "start_time": "2023-10-08T11:38:04.660Z"
   },
   {
    "duration": 11,
    "start_time": "2023-10-08T11:40:43.287Z"
   },
   {
    "duration": 14,
    "start_time": "2023-10-08T11:40:48.931Z"
   },
   {
    "duration": 10,
    "start_time": "2023-10-08T11:40:57.174Z"
   },
   {
    "duration": 12,
    "start_time": "2023-10-08T11:49:29.817Z"
   },
   {
    "duration": 15,
    "start_time": "2023-10-08T11:50:13.230Z"
   },
   {
    "duration": 12,
    "start_time": "2023-10-08T11:53:07.187Z"
   },
   {
    "duration": 12,
    "start_time": "2023-10-08T11:53:12.365Z"
   },
   {
    "duration": 7,
    "start_time": "2023-10-08T12:05:18.140Z"
   },
   {
    "duration": 6,
    "start_time": "2023-10-08T12:07:50.056Z"
   },
   {
    "duration": 78,
    "start_time": "2023-10-08T12:50:46.917Z"
   },
   {
    "duration": 5,
    "start_time": "2023-10-08T12:56:28.867Z"
   },
   {
    "duration": 4,
    "start_time": "2023-10-08T12:56:50.279Z"
   },
   {
    "duration": 4,
    "start_time": "2023-10-08T12:56:58.624Z"
   },
   {
    "duration": 10,
    "start_time": "2023-10-08T12:57:02.850Z"
   },
   {
    "duration": 4,
    "start_time": "2023-10-08T12:57:11.689Z"
   },
   {
    "duration": 4,
    "start_time": "2023-10-08T12:57:15.407Z"
   },
   {
    "duration": 3,
    "start_time": "2023-10-08T12:57:23.042Z"
   },
   {
    "duration": 4,
    "start_time": "2023-10-08T12:57:55.394Z"
   },
   {
    "duration": 67,
    "start_time": "2023-10-08T12:58:11.152Z"
   },
   {
    "duration": 4,
    "start_time": "2023-10-08T12:58:23.629Z"
   },
   {
    "duration": 5,
    "start_time": "2023-10-08T12:58:31.368Z"
   },
   {
    "duration": 5,
    "start_time": "2023-10-08T12:58:43.033Z"
   },
   {
    "duration": 5,
    "start_time": "2023-10-08T12:58:58.021Z"
   },
   {
    "duration": 5,
    "start_time": "2023-10-08T12:59:38.496Z"
   },
   {
    "duration": 11,
    "start_time": "2023-10-08T13:02:02.727Z"
   },
   {
    "duration": 18,
    "start_time": "2023-10-08T13:12:52.027Z"
   },
   {
    "duration": 18,
    "start_time": "2023-10-08T13:13:37.079Z"
   },
   {
    "duration": 17,
    "start_time": "2023-10-08T13:14:15.451Z"
   },
   {
    "duration": 14,
    "start_time": "2023-10-08T13:14:24.717Z"
   },
   {
    "duration": 24,
    "start_time": "2023-10-08T13:14:44.014Z"
   },
   {
    "duration": 24,
    "start_time": "2023-10-08T13:15:02.433Z"
   },
   {
    "duration": 26,
    "start_time": "2023-10-08T13:15:15.493Z"
   },
   {
    "duration": 561,
    "start_time": "2023-10-08T13:23:29.144Z"
   },
   {
    "duration": 97,
    "start_time": "2023-10-08T13:23:29.708Z"
   },
   {
    "duration": 84,
    "start_time": "2023-10-08T13:23:29.806Z"
   },
   {
    "duration": 632,
    "start_time": "2023-10-08T13:23:29.892Z"
   },
   {
    "duration": 34,
    "start_time": "2023-10-08T13:23:30.528Z"
   },
   {
    "duration": 24,
    "start_time": "2023-10-08T13:23:30.564Z"
   },
   {
    "duration": 67,
    "start_time": "2023-10-08T13:23:30.590Z"
   },
   {
    "duration": 37,
    "start_time": "2023-10-08T13:23:30.659Z"
   },
   {
    "duration": 167,
    "start_time": "2023-10-08T13:23:30.698Z"
   },
   {
    "duration": 30,
    "start_time": "2023-10-08T13:23:30.867Z"
   },
   {
    "duration": 51,
    "start_time": "2023-10-08T13:23:30.898Z"
   },
   {
    "duration": 152,
    "start_time": "2023-10-08T13:23:30.951Z"
   },
   {
    "duration": 141,
    "start_time": "2023-10-08T13:23:31.104Z"
   },
   {
    "duration": 601,
    "start_time": "2023-10-08T13:23:31.248Z"
   },
   {
    "duration": 3,
    "start_time": "2023-10-08T13:23:31.855Z"
   },
   {
    "duration": 196,
    "start_time": "2023-10-08T13:23:31.860Z"
   },
   {
    "duration": 69,
    "start_time": "2023-10-08T13:23:32.058Z"
   },
   {
    "duration": 30,
    "start_time": "2023-10-08T13:23:32.129Z"
   },
   {
    "duration": 53,
    "start_time": "2023-10-08T13:23:32.161Z"
   },
   {
    "duration": 78,
    "start_time": "2023-10-08T13:23:32.216Z"
   },
   {
    "duration": 72,
    "start_time": "2023-10-08T13:23:32.296Z"
   },
   {
    "duration": 86,
    "start_time": "2023-10-08T13:23:32.370Z"
   },
   {
    "duration": 33,
    "start_time": "2023-10-08T13:23:32.458Z"
   },
   {
    "duration": 84,
    "start_time": "2023-10-08T13:23:32.494Z"
   },
   {
    "duration": 55,
    "start_time": "2023-10-08T13:23:32.581Z"
   },
   {
    "duration": 91,
    "start_time": "2023-10-08T13:23:32.638Z"
   },
   {
    "duration": 6,
    "start_time": "2023-10-08T13:23:32.731Z"
   },
   {
    "duration": 82,
    "start_time": "2023-10-08T13:23:32.738Z"
   },
   {
    "duration": 37,
    "start_time": "2023-10-08T13:23:32.822Z"
   },
   {
    "duration": 63,
    "start_time": "2023-10-08T13:23:32.861Z"
   },
   {
    "duration": 209,
    "start_time": "2023-10-08T13:23:32.926Z"
   },
   {
    "duration": 91,
    "start_time": "2023-10-08T13:23:33.137Z"
   },
   {
    "duration": 51,
    "start_time": "2023-10-08T13:23:33.230Z"
   },
   {
    "duration": 98,
    "start_time": "2023-10-08T13:23:33.283Z"
   },
   {
    "duration": 43,
    "start_time": "2023-10-08T13:23:33.383Z"
   },
   {
    "duration": 32,
    "start_time": "2023-10-08T13:23:33.429Z"
   },
   {
    "duration": 31,
    "start_time": "2023-10-08T13:23:33.463Z"
   },
   {
    "duration": 27,
    "start_time": "2023-10-08T13:23:33.496Z"
   },
   {
    "duration": 232,
    "start_time": "2023-10-08T13:23:33.525Z"
   },
   {
    "duration": 429,
    "start_time": "2023-10-08T13:23:33.760Z"
   },
   {
    "duration": 20,
    "start_time": "2023-10-08T13:23:34.194Z"
   },
   {
    "duration": 13,
    "start_time": "2023-10-08T13:23:34.216Z"
   },
   {
    "duration": 46,
    "start_time": "2023-10-08T13:23:34.231Z"
   },
   {
    "duration": 41,
    "start_time": "2023-10-08T13:23:34.280Z"
   },
   {
    "duration": 37,
    "start_time": "2023-10-08T13:23:34.323Z"
   },
   {
    "duration": 24,
    "start_time": "2023-10-08T13:23:34.362Z"
   },
   {
    "duration": 45,
    "start_time": "2023-10-08T13:23:34.388Z"
   },
   {
    "duration": 38,
    "start_time": "2023-10-08T13:23:34.435Z"
   },
   {
    "duration": 38,
    "start_time": "2023-10-08T13:23:34.475Z"
   },
   {
    "duration": 133,
    "start_time": "2023-10-08T13:23:34.516Z"
   },
   {
    "duration": 0,
    "start_time": "2023-10-08T13:23:34.651Z"
   },
   {
    "duration": 27,
    "start_time": "2023-10-08T13:24:12.775Z"
   },
   {
    "duration": 9,
    "start_time": "2023-10-08T13:46:46.696Z"
   },
   {
    "duration": 30,
    "start_time": "2023-10-08T13:47:11.612Z"
   },
   {
    "duration": 574,
    "start_time": "2023-10-08T13:47:34.729Z"
   },
   {
    "duration": 48,
    "start_time": "2023-10-09T08:38:19.434Z"
   },
   {
    "duration": 470,
    "start_time": "2023-10-09T08:38:39.548Z"
   },
   {
    "duration": 111,
    "start_time": "2023-10-09T08:38:40.020Z"
   },
   {
    "duration": 189,
    "start_time": "2023-10-09T08:38:40.132Z"
   },
   {
    "duration": 685,
    "start_time": "2023-10-09T08:38:40.324Z"
   },
   {
    "duration": 68,
    "start_time": "2023-10-09T08:38:41.010Z"
   },
   {
    "duration": 4,
    "start_time": "2023-10-09T08:38:41.080Z"
   },
   {
    "duration": 28,
    "start_time": "2023-10-09T08:38:41.085Z"
   },
   {
    "duration": 15,
    "start_time": "2023-10-09T08:38:41.115Z"
   },
   {
    "duration": 73,
    "start_time": "2023-10-09T08:38:41.132Z"
   },
   {
    "duration": 38,
    "start_time": "2023-10-09T08:38:41.207Z"
   },
   {
    "duration": 8,
    "start_time": "2023-10-09T08:38:41.247Z"
   },
   {
    "duration": 8,
    "start_time": "2023-10-09T08:38:41.256Z"
   },
   {
    "duration": 9,
    "start_time": "2023-10-09T08:38:41.266Z"
   },
   {
    "duration": 436,
    "start_time": "2023-10-09T08:38:41.277Z"
   },
   {
    "duration": 3,
    "start_time": "2023-10-09T08:38:41.714Z"
   },
   {
    "duration": 121,
    "start_time": "2023-10-09T08:38:41.718Z"
   },
   {
    "duration": 26,
    "start_time": "2023-10-09T08:38:41.840Z"
   },
   {
    "duration": 15,
    "start_time": "2023-10-09T08:38:41.867Z"
   },
   {
    "duration": 10,
    "start_time": "2023-10-09T08:38:41.883Z"
   },
   {
    "duration": 35,
    "start_time": "2023-10-09T08:38:41.895Z"
   },
   {
    "duration": 7,
    "start_time": "2023-10-09T08:38:41.931Z"
   },
   {
    "duration": 13,
    "start_time": "2023-10-09T08:38:41.939Z"
   },
   {
    "duration": 7,
    "start_time": "2023-10-09T08:38:41.953Z"
   },
   {
    "duration": 14,
    "start_time": "2023-10-09T08:38:41.961Z"
   },
   {
    "duration": 4,
    "start_time": "2023-10-09T08:38:41.977Z"
   },
   {
    "duration": 71,
    "start_time": "2023-10-09T08:38:41.982Z"
   },
   {
    "duration": 6,
    "start_time": "2023-10-09T08:38:42.054Z"
   },
   {
    "duration": 19,
    "start_time": "2023-10-09T08:38:42.063Z"
   },
   {
    "duration": 5,
    "start_time": "2023-10-09T08:38:42.084Z"
   },
   {
    "duration": 16,
    "start_time": "2023-10-09T08:38:42.090Z"
   },
   {
    "duration": 21,
    "start_time": "2023-10-09T08:38:42.107Z"
   },
   {
    "duration": 34,
    "start_time": "2023-10-09T08:38:42.129Z"
   },
   {
    "duration": 8,
    "start_time": "2023-10-09T08:38:42.165Z"
   },
   {
    "duration": 22,
    "start_time": "2023-10-09T08:38:42.174Z"
   },
   {
    "duration": 31,
    "start_time": "2023-10-09T08:38:42.197Z"
   },
   {
    "duration": 5,
    "start_time": "2023-10-09T08:38:42.229Z"
   },
   {
    "duration": 12,
    "start_time": "2023-10-09T08:38:42.236Z"
   },
   {
    "duration": 11,
    "start_time": "2023-10-09T08:38:42.249Z"
   },
   {
    "duration": 152,
    "start_time": "2023-10-09T08:38:42.262Z"
   },
   {
    "duration": 306,
    "start_time": "2023-10-09T08:38:42.416Z"
   },
   {
    "duration": 15,
    "start_time": "2023-10-09T08:38:42.724Z"
   },
   {
    "duration": 25,
    "start_time": "2023-10-09T08:38:42.740Z"
   },
   {
    "duration": 63,
    "start_time": "2023-10-09T08:38:42.767Z"
   },
   {
    "duration": 12,
    "start_time": "2023-10-09T08:38:42.832Z"
   },
   {
    "duration": 22,
    "start_time": "2023-10-09T08:38:42.845Z"
   },
   {
    "duration": 10,
    "start_time": "2023-10-09T08:38:42.869Z"
   },
   {
    "duration": 34,
    "start_time": "2023-10-09T08:38:42.881Z"
   },
   {
    "duration": 34,
    "start_time": "2023-10-09T08:38:42.917Z"
   },
   {
    "duration": 16,
    "start_time": "2023-10-09T08:38:42.953Z"
   },
   {
    "duration": 28,
    "start_time": "2023-10-09T08:38:42.970Z"
   },
   {
    "duration": 19,
    "start_time": "2023-10-09T08:38:43.000Z"
   },
   {
    "duration": 10,
    "start_time": "2023-10-09T08:38:43.021Z"
   },
   {
    "duration": 470,
    "start_time": "2023-10-09T08:38:43.032Z"
   },
   {
    "duration": 21,
    "start_time": "2023-10-09T08:40:16.457Z"
   },
   {
    "duration": 4,
    "start_time": "2023-10-09T08:40:45.258Z"
   },
   {
    "duration": 110,
    "start_time": "2023-10-09T16:21:31.211Z"
   },
   {
    "duration": 43,
    "start_time": "2023-10-09T16:41:58.670Z"
   },
   {
    "duration": 488,
    "start_time": "2023-10-09T16:42:27.723Z"
   },
   {
    "duration": 112,
    "start_time": "2023-10-09T16:42:28.213Z"
   },
   {
    "duration": 183,
    "start_time": "2023-10-09T16:42:28.326Z"
   },
   {
    "duration": 704,
    "start_time": "2023-10-09T16:42:28.510Z"
   },
   {
    "duration": 70,
    "start_time": "2023-10-09T16:42:29.216Z"
   },
   {
    "duration": 5,
    "start_time": "2023-10-09T16:42:29.287Z"
   },
   {
    "duration": 24,
    "start_time": "2023-10-09T16:42:29.293Z"
   },
   {
    "duration": 12,
    "start_time": "2023-10-09T16:42:29.318Z"
   },
   {
    "duration": 90,
    "start_time": "2023-10-09T16:42:29.332Z"
   },
   {
    "duration": 26,
    "start_time": "2023-10-09T16:42:29.424Z"
   },
   {
    "duration": 7,
    "start_time": "2023-10-09T16:42:29.451Z"
   },
   {
    "duration": 26,
    "start_time": "2023-10-09T16:42:29.460Z"
   },
   {
    "duration": 15,
    "start_time": "2023-10-09T16:42:29.488Z"
   },
   {
    "duration": 445,
    "start_time": "2023-10-09T16:42:29.507Z"
   },
   {
    "duration": 3,
    "start_time": "2023-10-09T16:42:29.953Z"
   },
   {
    "duration": 118,
    "start_time": "2023-10-09T16:42:29.958Z"
   },
   {
    "duration": 116,
    "start_time": "2023-10-09T16:42:30.078Z"
   },
   {
    "duration": 96,
    "start_time": "2023-10-09T16:42:30.196Z"
   },
   {
    "duration": 33,
    "start_time": "2023-10-09T16:42:30.294Z"
   },
   {
    "duration": 77,
    "start_time": "2023-10-09T16:42:30.329Z"
   },
   {
    "duration": 210,
    "start_time": "2023-10-09T16:42:30.408Z"
   },
   {
    "duration": 67,
    "start_time": "2023-10-09T16:42:30.620Z"
   },
   {
    "duration": 27,
    "start_time": "2023-10-09T16:42:30.689Z"
   },
   {
    "duration": 47,
    "start_time": "2023-10-09T16:42:30.718Z"
   },
   {
    "duration": 29,
    "start_time": "2023-10-09T16:42:30.767Z"
   },
   {
    "duration": 75,
    "start_time": "2023-10-09T16:42:30.797Z"
   },
   {
    "duration": 5,
    "start_time": "2023-10-09T16:42:30.874Z"
   },
   {
    "duration": 35,
    "start_time": "2023-10-09T16:42:30.880Z"
   },
   {
    "duration": 30,
    "start_time": "2023-10-09T16:42:30.917Z"
   },
   {
    "duration": 62,
    "start_time": "2023-10-09T16:42:30.949Z"
   },
   {
    "duration": 49,
    "start_time": "2023-10-09T16:42:31.013Z"
   },
   {
    "duration": 70,
    "start_time": "2023-10-09T16:42:31.064Z"
   },
   {
    "duration": 34,
    "start_time": "2023-10-09T16:42:31.136Z"
   },
   {
    "duration": 129,
    "start_time": "2023-10-09T16:42:31.172Z"
   },
   {
    "duration": 86,
    "start_time": "2023-10-09T16:42:31.303Z"
   },
   {
    "duration": 92,
    "start_time": "2023-10-09T16:42:31.391Z"
   },
   {
    "duration": 116,
    "start_time": "2023-10-09T16:42:31.485Z"
   },
   {
    "duration": 38,
    "start_time": "2023-10-09T16:42:31.603Z"
   },
   {
    "duration": 342,
    "start_time": "2023-10-09T16:42:31.643Z"
   },
   {
    "duration": 719,
    "start_time": "2023-10-09T16:42:31.987Z"
   },
   {
    "duration": 16,
    "start_time": "2023-10-09T16:42:32.709Z"
   },
   {
    "duration": 5,
    "start_time": "2023-10-09T16:42:32.782Z"
   },
   {
    "duration": 36,
    "start_time": "2023-10-09T16:42:32.788Z"
   },
   {
    "duration": 16,
    "start_time": "2023-10-09T16:42:32.826Z"
   },
   {
    "duration": 14,
    "start_time": "2023-10-09T16:42:32.843Z"
   },
   {
    "duration": 30,
    "start_time": "2023-10-09T16:42:32.859Z"
   },
   {
    "duration": 33,
    "start_time": "2023-10-09T16:42:32.890Z"
   },
   {
    "duration": 14,
    "start_time": "2023-10-09T16:42:32.924Z"
   },
   {
    "duration": 35,
    "start_time": "2023-10-09T16:42:32.940Z"
   },
   {
    "duration": 83,
    "start_time": "2023-10-09T16:42:32.976Z"
   },
   {
    "duration": 0,
    "start_time": "2023-10-09T16:42:33.060Z"
   },
   {
    "duration": 0,
    "start_time": "2023-10-09T16:42:33.061Z"
   },
   {
    "duration": 0,
    "start_time": "2023-10-09T16:42:33.062Z"
   },
   {
    "duration": 0,
    "start_time": "2023-10-09T16:42:33.064Z"
   },
   {
    "duration": 0,
    "start_time": "2023-10-09T16:42:33.065Z"
   },
   {
    "duration": 21,
    "start_time": "2023-10-09T16:42:41.331Z"
   },
   {
    "duration": 3,
    "start_time": "2023-10-09T16:42:42.190Z"
   },
   {
    "duration": 19,
    "start_time": "2023-10-09T16:42:42.936Z"
   },
   {
    "duration": 24,
    "start_time": "2023-10-09T16:43:15.610Z"
   },
   {
    "duration": 12,
    "start_time": "2023-10-09T16:44:13.527Z"
   },
   {
    "duration": 7,
    "start_time": "2023-10-09T16:44:23.550Z"
   },
   {
    "duration": 25,
    "start_time": "2023-10-09T16:44:29.001Z"
   },
   {
    "duration": 534,
    "start_time": "2023-10-09T16:44:46.448Z"
   },
   {
    "duration": 57,
    "start_time": "2023-10-09T16:48:39.708Z"
   },
   {
    "duration": 10,
    "start_time": "2023-10-09T16:48:51.209Z"
   },
   {
    "duration": 14,
    "start_time": "2023-10-09T16:48:55.727Z"
   },
   {
    "duration": 9,
    "start_time": "2023-10-09T16:49:24.922Z"
   },
   {
    "duration": 9,
    "start_time": "2023-10-09T16:51:55.202Z"
   },
   {
    "duration": 910,
    "start_time": "2023-10-09T16:52:54.917Z"
   },
   {
    "duration": 38,
    "start_time": "2023-10-09T16:52:55.829Z"
   },
   {
    "duration": 79,
    "start_time": "2023-10-09T16:52:55.869Z"
   },
   {
    "duration": 554,
    "start_time": "2023-10-09T16:52:55.950Z"
   },
   {
    "duration": 31,
    "start_time": "2023-10-09T16:52:56.505Z"
   },
   {
    "duration": 4,
    "start_time": "2023-10-09T16:52:56.538Z"
   },
   {
    "duration": 73,
    "start_time": "2023-10-09T16:52:56.544Z"
   },
   {
    "duration": 19,
    "start_time": "2023-10-09T16:52:56.619Z"
   },
   {
    "duration": 94,
    "start_time": "2023-10-09T16:52:56.641Z"
   },
   {
    "duration": 44,
    "start_time": "2023-10-09T16:52:56.737Z"
   },
   {
    "duration": 7,
    "start_time": "2023-10-09T16:52:56.783Z"
   },
   {
    "duration": 11,
    "start_time": "2023-10-09T16:52:56.792Z"
   },
   {
    "duration": 15,
    "start_time": "2023-10-09T16:52:56.805Z"
   },
   {
    "duration": 488,
    "start_time": "2023-10-09T16:52:56.822Z"
   },
   {
    "duration": 3,
    "start_time": "2023-10-09T16:52:57.312Z"
   },
   {
    "duration": 125,
    "start_time": "2023-10-09T16:52:57.316Z"
   },
   {
    "duration": 38,
    "start_time": "2023-10-09T16:52:57.443Z"
   },
   {
    "duration": 5,
    "start_time": "2023-10-09T16:52:57.482Z"
   },
   {
    "duration": 11,
    "start_time": "2023-10-09T16:52:57.488Z"
   },
   {
    "duration": 22,
    "start_time": "2023-10-09T16:52:57.501Z"
   },
   {
    "duration": 22,
    "start_time": "2023-10-09T16:52:57.525Z"
   },
   {
    "duration": 16,
    "start_time": "2023-10-09T16:52:57.549Z"
   },
   {
    "duration": 13,
    "start_time": "2023-10-09T16:52:57.567Z"
   },
   {
    "duration": 15,
    "start_time": "2023-10-09T16:52:57.582Z"
   },
   {
    "duration": 9,
    "start_time": "2023-10-09T16:52:57.599Z"
   },
   {
    "duration": 38,
    "start_time": "2023-10-09T16:52:57.609Z"
   },
   {
    "duration": 5,
    "start_time": "2023-10-09T16:52:57.648Z"
   },
   {
    "duration": 31,
    "start_time": "2023-10-09T16:52:57.657Z"
   },
   {
    "duration": 26,
    "start_time": "2023-10-09T16:52:57.690Z"
   },
   {
    "duration": 8,
    "start_time": "2023-10-09T16:52:57.718Z"
   },
   {
    "duration": 19,
    "start_time": "2023-10-09T16:52:57.728Z"
   },
   {
    "duration": 38,
    "start_time": "2023-10-09T16:52:57.748Z"
   },
   {
    "duration": 10,
    "start_time": "2023-10-09T16:52:57.788Z"
   },
   {
    "duration": 47,
    "start_time": "2023-10-09T16:52:57.799Z"
   },
   {
    "duration": 13,
    "start_time": "2023-10-09T16:52:57.848Z"
   },
   {
    "duration": 6,
    "start_time": "2023-10-09T16:52:57.863Z"
   },
   {
    "duration": 5,
    "start_time": "2023-10-09T16:52:57.880Z"
   },
   {
    "duration": 20,
    "start_time": "2023-10-09T16:52:57.887Z"
   },
   {
    "duration": 158,
    "start_time": "2023-10-09T16:52:57.909Z"
   },
   {
    "duration": 352,
    "start_time": "2023-10-09T16:52:58.069Z"
   },
   {
    "duration": 18,
    "start_time": "2023-10-09T16:52:58.423Z"
   },
   {
    "duration": 9,
    "start_time": "2023-10-09T16:52:58.443Z"
   },
   {
    "duration": 99,
    "start_time": "2023-10-09T16:52:58.454Z"
   },
   {
    "duration": 13,
    "start_time": "2023-10-09T16:52:58.554Z"
   },
   {
    "duration": 22,
    "start_time": "2023-10-09T16:52:58.569Z"
   },
   {
    "duration": 11,
    "start_time": "2023-10-09T16:52:58.593Z"
   },
   {
    "duration": 16,
    "start_time": "2023-10-09T16:52:58.605Z"
   },
   {
    "duration": 64,
    "start_time": "2023-10-09T16:52:58.623Z"
   },
   {
    "duration": 38,
    "start_time": "2023-10-09T16:52:58.688Z"
   },
   {
    "duration": 71,
    "start_time": "2023-10-09T16:52:58.728Z"
   },
   {
    "duration": 323,
    "start_time": "2023-10-09T16:52:58.801Z"
   },
   {
    "duration": 183,
    "start_time": "2023-10-09T16:52:59.125Z"
   },
   {
    "duration": 0,
    "start_time": "2023-10-09T16:52:59.309Z"
   },
   {
    "duration": 142,
    "start_time": "2023-10-09T16:53:51.098Z"
   },
   {
    "duration": 117,
    "start_time": "2023-10-09T16:55:12.647Z"
   },
   {
    "duration": 109,
    "start_time": "2023-10-09T16:57:58.327Z"
   },
   {
    "duration": 516,
    "start_time": "2023-10-09T16:58:07.097Z"
   },
   {
    "duration": 13,
    "start_time": "2023-10-09T16:58:38.196Z"
   },
   {
    "duration": 15,
    "start_time": "2023-10-09T16:58:41.652Z"
   },
   {
    "duration": 18,
    "start_time": "2023-10-09T17:01:11.388Z"
   },
   {
    "duration": 7,
    "start_time": "2023-10-09T17:01:22.479Z"
   },
   {
    "duration": 12,
    "start_time": "2023-10-09T17:01:33.874Z"
   },
   {
    "duration": 15,
    "start_time": "2023-10-09T17:01:37.581Z"
   },
   {
    "duration": 17,
    "start_time": "2023-10-09T17:01:56.453Z"
   },
   {
    "duration": 79,
    "start_time": "2023-10-09T17:19:32.180Z"
   },
   {
    "duration": 143,
    "start_time": "2023-10-09T17:21:17.634Z"
   },
   {
    "duration": 27,
    "start_time": "2023-10-09T17:23:40.676Z"
   },
   {
    "duration": 16,
    "start_time": "2023-10-09T17:24:51.383Z"
   },
   {
    "duration": 16,
    "start_time": "2023-10-09T17:30:38.799Z"
   },
   {
    "duration": 4,
    "start_time": "2023-10-09T17:32:40.201Z"
   },
   {
    "duration": 695,
    "start_time": "2023-10-09T17:37:59.448Z"
   },
   {
    "duration": 20,
    "start_time": "2023-10-09T17:39:10.311Z"
   },
   {
    "duration": 668,
    "start_time": "2023-10-09T17:39:21.244Z"
   },
   {
    "duration": 18,
    "start_time": "2023-10-09T17:47:47.611Z"
   },
   {
    "duration": 11,
    "start_time": "2023-10-09T17:50:47.742Z"
   },
   {
    "duration": 4,
    "start_time": "2023-10-09T17:52:35.966Z"
   },
   {
    "duration": 10,
    "start_time": "2023-10-09T17:52:43.695Z"
   },
   {
    "duration": 27,
    "start_time": "2023-10-09T17:53:01.180Z"
   },
   {
    "duration": 613,
    "start_time": "2023-10-09T17:53:08.768Z"
   },
   {
    "duration": 706,
    "start_time": "2023-10-09T17:55:09.279Z"
   },
   {
    "duration": 11,
    "start_time": "2023-10-09T17:55:16.074Z"
   },
   {
    "duration": 806,
    "start_time": "2023-10-09T17:55:19.555Z"
   },
   {
    "duration": 420,
    "start_time": "2023-10-09T17:55:50.511Z"
   },
   {
    "duration": 61,
    "start_time": "2023-10-09T17:59:08.562Z"
   },
   {
    "duration": 519,
    "start_time": "2023-10-09T17:59:34.238Z"
   },
   {
    "duration": 1436,
    "start_time": "2023-10-09T17:59:40.973Z"
   },
   {
    "duration": 36,
    "start_time": "2023-10-09T17:59:42.411Z"
   },
   {
    "duration": 80,
    "start_time": "2023-10-09T17:59:42.449Z"
   },
   {
    "duration": 531,
    "start_time": "2023-10-09T17:59:42.531Z"
   },
   {
    "duration": 30,
    "start_time": "2023-10-09T17:59:43.064Z"
   },
   {
    "duration": 4,
    "start_time": "2023-10-09T17:59:43.096Z"
   },
   {
    "duration": 31,
    "start_time": "2023-10-09T17:59:43.102Z"
   },
   {
    "duration": 12,
    "start_time": "2023-10-09T17:59:43.135Z"
   },
   {
    "duration": 99,
    "start_time": "2023-10-09T17:59:43.149Z"
   },
   {
    "duration": 45,
    "start_time": "2023-10-09T17:59:43.252Z"
   },
   {
    "duration": 8,
    "start_time": "2023-10-09T17:59:43.299Z"
   },
   {
    "duration": 6,
    "start_time": "2023-10-09T17:59:43.308Z"
   },
   {
    "duration": 18,
    "start_time": "2023-10-09T17:59:43.315Z"
   },
   {
    "duration": 469,
    "start_time": "2023-10-09T17:59:43.334Z"
   },
   {
    "duration": 3,
    "start_time": "2023-10-09T17:59:43.804Z"
   },
   {
    "duration": 120,
    "start_time": "2023-10-09T17:59:43.809Z"
   },
   {
    "duration": 29,
    "start_time": "2023-10-09T17:59:43.930Z"
   },
   {
    "duration": 22,
    "start_time": "2023-10-09T17:59:43.961Z"
   },
   {
    "duration": 25,
    "start_time": "2023-10-09T17:59:43.984Z"
   },
   {
    "duration": 16,
    "start_time": "2023-10-09T17:59:44.011Z"
   },
   {
    "duration": 8,
    "start_time": "2023-10-09T17:59:44.029Z"
   },
   {
    "duration": 14,
    "start_time": "2023-10-09T17:59:44.039Z"
   },
   {
    "duration": 8,
    "start_time": "2023-10-09T17:59:44.054Z"
   },
   {
    "duration": 14,
    "start_time": "2023-10-09T17:59:44.081Z"
   },
   {
    "duration": 5,
    "start_time": "2023-10-09T17:59:44.097Z"
   },
   {
    "duration": 43,
    "start_time": "2023-10-09T17:59:44.104Z"
   },
   {
    "duration": 5,
    "start_time": "2023-10-09T17:59:44.149Z"
   },
   {
    "duration": 7,
    "start_time": "2023-10-09T17:59:44.181Z"
   },
   {
    "duration": 4,
    "start_time": "2023-10-09T17:59:44.190Z"
   },
   {
    "duration": 7,
    "start_time": "2023-10-09T17:59:44.196Z"
   },
   {
    "duration": 10,
    "start_time": "2023-10-09T17:59:44.205Z"
   },
   {
    "duration": 29,
    "start_time": "2023-10-09T17:59:44.217Z"
   },
   {
    "duration": 9,
    "start_time": "2023-10-09T17:59:44.282Z"
   },
   {
    "duration": 26,
    "start_time": "2023-10-09T17:59:44.292Z"
   },
   {
    "duration": 12,
    "start_time": "2023-10-09T17:59:44.320Z"
   },
   {
    "duration": 6,
    "start_time": "2023-10-09T17:59:44.333Z"
   },
   {
    "duration": 10,
    "start_time": "2023-10-09T17:59:44.340Z"
   },
   {
    "duration": 9,
    "start_time": "2023-10-09T17:59:44.382Z"
   },
   {
    "duration": 176,
    "start_time": "2023-10-09T17:59:44.393Z"
   },
   {
    "duration": 357,
    "start_time": "2023-10-09T17:59:44.570Z"
   },
   {
    "duration": 16,
    "start_time": "2023-10-09T17:59:44.929Z"
   },
   {
    "duration": 5,
    "start_time": "2023-10-09T17:59:44.947Z"
   },
   {
    "duration": 36,
    "start_time": "2023-10-09T17:59:44.953Z"
   },
   {
    "duration": 13,
    "start_time": "2023-10-09T17:59:44.991Z"
   },
   {
    "duration": 10,
    "start_time": "2023-10-09T17:59:45.006Z"
   },
   {
    "duration": 52,
    "start_time": "2023-10-09T17:59:45.018Z"
   },
   {
    "duration": 5,
    "start_time": "2023-10-09T17:59:45.072Z"
   },
   {
    "duration": 23,
    "start_time": "2023-10-09T17:59:45.078Z"
   },
   {
    "duration": 24,
    "start_time": "2023-10-09T17:59:45.103Z"
   },
   {
    "duration": 24,
    "start_time": "2023-10-09T17:59:45.129Z"
   },
   {
    "duration": 4,
    "start_time": "2023-10-09T17:59:45.155Z"
   },
   {
    "duration": 732,
    "start_time": "2023-10-09T17:59:45.161Z"
   },
   {
    "duration": 12,
    "start_time": "2023-10-09T17:59:45.895Z"
   },
   {
    "duration": 1178,
    "start_time": "2023-10-09T17:59:45.908Z"
   },
   {
    "duration": 0,
    "start_time": "2023-10-09T17:59:47.088Z"
   },
   {
    "duration": 257,
    "start_time": "2023-10-09T18:01:37.240Z"
   },
   {
    "duration": 935,
    "start_time": "2023-10-09T18:01:53.409Z"
   },
   {
    "duration": 1327,
    "start_time": "2023-10-09T18:03:52.581Z"
   },
   {
    "duration": 35,
    "start_time": "2023-10-09T18:03:53.910Z"
   },
   {
    "duration": 76,
    "start_time": "2023-10-09T18:03:53.947Z"
   },
   {
    "duration": 520,
    "start_time": "2023-10-09T18:03:54.025Z"
   },
   {
    "duration": 31,
    "start_time": "2023-10-09T18:03:54.546Z"
   },
   {
    "duration": 5,
    "start_time": "2023-10-09T18:03:54.578Z"
   },
   {
    "duration": 44,
    "start_time": "2023-10-09T18:03:54.585Z"
   },
   {
    "duration": 17,
    "start_time": "2023-10-09T18:03:54.631Z"
   },
   {
    "duration": 79,
    "start_time": "2023-10-09T18:03:54.650Z"
   },
   {
    "duration": 25,
    "start_time": "2023-10-09T18:03:54.732Z"
   },
   {
    "duration": 23,
    "start_time": "2023-10-09T18:03:54.759Z"
   },
   {
    "duration": 12,
    "start_time": "2023-10-09T18:03:54.784Z"
   },
   {
    "duration": 22,
    "start_time": "2023-10-09T18:03:54.798Z"
   },
   {
    "duration": 485,
    "start_time": "2023-10-09T18:03:54.822Z"
   },
   {
    "duration": 2,
    "start_time": "2023-10-09T18:03:55.309Z"
   },
   {
    "duration": 150,
    "start_time": "2023-10-09T18:03:55.313Z"
   },
   {
    "duration": 43,
    "start_time": "2023-10-09T18:03:55.465Z"
   },
   {
    "duration": 12,
    "start_time": "2023-10-09T18:03:55.510Z"
   },
   {
    "duration": 44,
    "start_time": "2023-10-09T18:03:55.524Z"
   },
   {
    "duration": 17,
    "start_time": "2023-10-09T18:03:55.570Z"
   },
   {
    "duration": 26,
    "start_time": "2023-10-09T18:03:55.589Z"
   },
   {
    "duration": 17,
    "start_time": "2023-10-09T18:03:55.616Z"
   },
   {
    "duration": 7,
    "start_time": "2023-10-09T18:03:55.635Z"
   },
   {
    "duration": 28,
    "start_time": "2023-10-09T18:03:55.644Z"
   },
   {
    "duration": 4,
    "start_time": "2023-10-09T18:03:55.674Z"
   },
   {
    "duration": 44,
    "start_time": "2023-10-09T18:03:55.680Z"
   },
   {
    "duration": 5,
    "start_time": "2023-10-09T18:03:55.725Z"
   },
   {
    "duration": 23,
    "start_time": "2023-10-09T18:03:55.733Z"
   },
   {
    "duration": 23,
    "start_time": "2023-10-09T18:03:55.757Z"
   },
   {
    "duration": 21,
    "start_time": "2023-10-09T18:03:55.781Z"
   },
   {
    "duration": 19,
    "start_time": "2023-10-09T18:03:55.803Z"
   },
   {
    "duration": 58,
    "start_time": "2023-10-09T18:03:55.824Z"
   },
   {
    "duration": 9,
    "start_time": "2023-10-09T18:03:55.884Z"
   },
   {
    "duration": 27,
    "start_time": "2023-10-09T18:03:55.894Z"
   },
   {
    "duration": 13,
    "start_time": "2023-10-09T18:03:55.922Z"
   },
   {
    "duration": 6,
    "start_time": "2023-10-09T18:03:55.937Z"
   },
   {
    "duration": 37,
    "start_time": "2023-10-09T18:03:55.944Z"
   },
   {
    "duration": 23,
    "start_time": "2023-10-09T18:03:55.983Z"
   },
   {
    "duration": 177,
    "start_time": "2023-10-09T18:03:56.008Z"
   },
   {
    "duration": 366,
    "start_time": "2023-10-09T18:03:56.187Z"
   },
   {
    "duration": 28,
    "start_time": "2023-10-09T18:03:56.555Z"
   },
   {
    "duration": 7,
    "start_time": "2023-10-09T18:03:56.587Z"
   },
   {
    "duration": 31,
    "start_time": "2023-10-09T18:03:56.596Z"
   },
   {
    "duration": 16,
    "start_time": "2023-10-09T18:03:56.630Z"
   },
   {
    "duration": 34,
    "start_time": "2023-10-09T18:03:56.648Z"
   },
   {
    "duration": 25,
    "start_time": "2023-10-09T18:03:56.683Z"
   },
   {
    "duration": 17,
    "start_time": "2023-10-09T18:03:56.709Z"
   },
   {
    "duration": 34,
    "start_time": "2023-10-09T18:03:56.727Z"
   },
   {
    "duration": 31,
    "start_time": "2023-10-09T18:03:56.763Z"
   },
   {
    "duration": 27,
    "start_time": "2023-10-09T18:03:56.796Z"
   },
   {
    "duration": 9,
    "start_time": "2023-10-09T18:03:56.824Z"
   },
   {
    "duration": 757,
    "start_time": "2023-10-09T18:03:56.834Z"
   },
   {
    "duration": 12,
    "start_time": "2023-10-09T18:03:57.593Z"
   },
   {
    "duration": 1537,
    "start_time": "2023-10-09T18:07:15.102Z"
   },
   {
    "duration": 36,
    "start_time": "2023-10-09T18:07:16.641Z"
   },
   {
    "duration": 78,
    "start_time": "2023-10-09T18:07:16.679Z"
   },
   {
    "duration": 581,
    "start_time": "2023-10-09T18:07:16.759Z"
   },
   {
    "duration": 30,
    "start_time": "2023-10-09T18:07:17.342Z"
   },
   {
    "duration": 4,
    "start_time": "2023-10-09T18:07:17.374Z"
   },
   {
    "duration": 32,
    "start_time": "2023-10-09T18:07:17.380Z"
   },
   {
    "duration": 13,
    "start_time": "2023-10-09T18:07:17.414Z"
   },
   {
    "duration": 91,
    "start_time": "2023-10-09T18:07:17.429Z"
   },
   {
    "duration": 27,
    "start_time": "2023-10-09T18:07:17.523Z"
   },
   {
    "duration": 8,
    "start_time": "2023-10-09T18:07:17.552Z"
   },
   {
    "duration": 7,
    "start_time": "2023-10-09T18:07:17.581Z"
   },
   {
    "duration": 11,
    "start_time": "2023-10-09T18:07:17.590Z"
   },
   {
    "duration": 466,
    "start_time": "2023-10-09T18:07:17.603Z"
   },
   {
    "duration": 10,
    "start_time": "2023-10-09T18:07:18.071Z"
   },
   {
    "duration": 122,
    "start_time": "2023-10-09T18:07:18.083Z"
   },
   {
    "duration": 30,
    "start_time": "2023-10-09T18:07:18.206Z"
   },
   {
    "duration": 5,
    "start_time": "2023-10-09T18:07:18.238Z"
   },
   {
    "duration": 17,
    "start_time": "2023-10-09T18:07:18.244Z"
   },
   {
    "duration": 13,
    "start_time": "2023-10-09T18:07:18.280Z"
   },
   {
    "duration": 10,
    "start_time": "2023-10-09T18:07:18.294Z"
   },
   {
    "duration": 16,
    "start_time": "2023-10-09T18:07:18.305Z"
   },
   {
    "duration": 7,
    "start_time": "2023-10-09T18:07:18.322Z"
   },
   {
    "duration": 14,
    "start_time": "2023-10-09T18:07:18.331Z"
   },
   {
    "duration": 35,
    "start_time": "2023-10-09T18:07:18.347Z"
   },
   {
    "duration": 36,
    "start_time": "2023-10-09T18:07:18.383Z"
   },
   {
    "duration": 4,
    "start_time": "2023-10-09T18:07:18.421Z"
   },
   {
    "duration": 25,
    "start_time": "2023-10-09T18:07:18.428Z"
   },
   {
    "duration": 16,
    "start_time": "2023-10-09T18:07:18.455Z"
   },
   {
    "duration": 18,
    "start_time": "2023-10-09T18:07:18.474Z"
   },
   {
    "duration": 10,
    "start_time": "2023-10-09T18:07:18.494Z"
   },
   {
    "duration": 29,
    "start_time": "2023-10-09T18:07:18.505Z"
   },
   {
    "duration": 9,
    "start_time": "2023-10-09T18:07:18.535Z"
   },
   {
    "duration": 52,
    "start_time": "2023-10-09T18:07:18.545Z"
   },
   {
    "duration": 12,
    "start_time": "2023-10-09T18:07:18.599Z"
   },
   {
    "duration": 25,
    "start_time": "2023-10-09T18:07:18.613Z"
   },
   {
    "duration": 15,
    "start_time": "2023-10-09T18:07:18.640Z"
   },
   {
    "duration": 27,
    "start_time": "2023-10-09T18:07:18.657Z"
   },
   {
    "duration": 187,
    "start_time": "2023-10-09T18:07:18.685Z"
   },
   {
    "duration": 355,
    "start_time": "2023-10-09T18:07:18.874Z"
   },
   {
    "duration": 17,
    "start_time": "2023-10-09T18:07:19.231Z"
   },
   {
    "duration": 5,
    "start_time": "2023-10-09T18:07:19.250Z"
   },
   {
    "duration": 35,
    "start_time": "2023-10-09T18:07:19.257Z"
   },
   {
    "duration": 13,
    "start_time": "2023-10-09T18:07:19.294Z"
   },
   {
    "duration": 12,
    "start_time": "2023-10-09T18:07:19.309Z"
   },
   {
    "duration": 9,
    "start_time": "2023-10-09T18:07:19.323Z"
   },
   {
    "duration": 5,
    "start_time": "2023-10-09T18:07:19.334Z"
   },
   {
    "duration": 45,
    "start_time": "2023-10-09T18:07:19.340Z"
   },
   {
    "duration": 16,
    "start_time": "2023-10-09T18:07:19.387Z"
   },
   {
    "duration": 24,
    "start_time": "2023-10-09T18:07:19.405Z"
   },
   {
    "duration": 3,
    "start_time": "2023-10-09T18:07:19.431Z"
   },
   {
    "duration": 741,
    "start_time": "2023-10-09T18:07:19.436Z"
   },
   {
    "duration": 13,
    "start_time": "2023-10-09T18:07:20.179Z"
   },
   {
    "duration": 988,
    "start_time": "2023-10-09T18:07:20.194Z"
   },
   {
    "duration": 1344,
    "start_time": "2023-10-09T18:17:26.114Z"
   },
   {
    "duration": 37,
    "start_time": "2023-10-09T18:17:27.460Z"
   },
   {
    "duration": 165,
    "start_time": "2023-10-09T18:17:27.499Z"
   },
   {
    "duration": 542,
    "start_time": "2023-10-09T18:17:27.666Z"
   },
   {
    "duration": 31,
    "start_time": "2023-10-09T18:17:28.210Z"
   },
   {
    "duration": 20,
    "start_time": "2023-10-09T18:17:28.243Z"
   },
   {
    "duration": 56,
    "start_time": "2023-10-09T18:17:28.265Z"
   },
   {
    "duration": 52,
    "start_time": "2023-10-09T18:17:28.322Z"
   },
   {
    "duration": 96,
    "start_time": "2023-10-09T18:17:28.375Z"
   },
   {
    "duration": 29,
    "start_time": "2023-10-09T18:17:28.474Z"
   },
   {
    "duration": 7,
    "start_time": "2023-10-09T18:17:28.504Z"
   },
   {
    "duration": 6,
    "start_time": "2023-10-09T18:17:28.513Z"
   },
   {
    "duration": 80,
    "start_time": "2023-10-09T18:17:28.520Z"
   },
   {
    "duration": 475,
    "start_time": "2023-10-09T18:17:28.602Z"
   },
   {
    "duration": 3,
    "start_time": "2023-10-09T18:17:29.081Z"
   },
   {
    "duration": 173,
    "start_time": "2023-10-09T18:17:29.086Z"
   },
   {
    "duration": 30,
    "start_time": "2023-10-09T18:17:29.261Z"
   },
   {
    "duration": 24,
    "start_time": "2023-10-09T18:17:29.293Z"
   },
   {
    "duration": 29,
    "start_time": "2023-10-09T18:17:29.319Z"
   },
   {
    "duration": 33,
    "start_time": "2023-10-09T18:17:29.349Z"
   },
   {
    "duration": 27,
    "start_time": "2023-10-09T18:17:29.384Z"
   },
   {
    "duration": 16,
    "start_time": "2023-10-09T18:17:29.413Z"
   },
   {
    "duration": 8,
    "start_time": "2023-10-09T18:17:29.431Z"
   },
   {
    "duration": 28,
    "start_time": "2023-10-09T18:17:29.440Z"
   },
   {
    "duration": 5,
    "start_time": "2023-10-09T18:17:29.471Z"
   },
   {
    "duration": 58,
    "start_time": "2023-10-09T18:17:29.477Z"
   },
   {
    "duration": 5,
    "start_time": "2023-10-09T18:17:29.537Z"
   },
   {
    "duration": 10,
    "start_time": "2023-10-09T18:17:29.546Z"
   },
   {
    "duration": 20,
    "start_time": "2023-10-09T18:17:29.558Z"
   },
   {
    "duration": 14,
    "start_time": "2023-10-09T18:17:29.580Z"
   },
   {
    "duration": 16,
    "start_time": "2023-10-09T18:17:29.595Z"
   },
   {
    "duration": 35,
    "start_time": "2023-10-09T18:17:29.612Z"
   },
   {
    "duration": 22,
    "start_time": "2023-10-09T18:17:29.648Z"
   },
   {
    "duration": 26,
    "start_time": "2023-10-09T18:17:29.672Z"
   },
   {
    "duration": 13,
    "start_time": "2023-10-09T18:17:29.699Z"
   },
   {
    "duration": 7,
    "start_time": "2023-10-09T18:17:29.714Z"
   },
   {
    "duration": 5,
    "start_time": "2023-10-09T18:17:29.723Z"
   },
   {
    "duration": 14,
    "start_time": "2023-10-09T18:17:29.729Z"
   },
   {
    "duration": 183,
    "start_time": "2023-10-09T18:17:29.745Z"
   },
   {
    "duration": 363,
    "start_time": "2023-10-09T18:17:29.930Z"
   },
   {
    "duration": 16,
    "start_time": "2023-10-09T18:17:30.295Z"
   },
   {
    "duration": 20,
    "start_time": "2023-10-09T18:17:30.312Z"
   },
   {
    "duration": 43,
    "start_time": "2023-10-09T18:17:30.333Z"
   },
   {
    "duration": 27,
    "start_time": "2023-10-09T18:17:30.378Z"
   },
   {
    "duration": 18,
    "start_time": "2023-10-09T18:17:30.407Z"
   },
   {
    "duration": 27,
    "start_time": "2023-10-09T18:17:30.427Z"
   },
   {
    "duration": 36,
    "start_time": "2023-10-09T18:17:30.456Z"
   },
   {
    "duration": 36,
    "start_time": "2023-10-09T18:17:30.494Z"
   },
   {
    "duration": 34,
    "start_time": "2023-10-09T18:17:30.532Z"
   },
   {
    "duration": 56,
    "start_time": "2023-10-09T18:17:30.567Z"
   },
   {
    "duration": 23,
    "start_time": "2023-10-09T18:17:30.625Z"
   },
   {
    "duration": 36,
    "start_time": "2023-10-09T18:17:30.681Z"
   },
   {
    "duration": 1781,
    "start_time": "2023-10-09T18:17:30.719Z"
   },
   {
    "duration": 279,
    "start_time": "2023-10-09T18:17:32.502Z"
   },
   {
    "duration": 875,
    "start_time": "2023-10-09T18:18:45.606Z"
   },
   {
    "duration": 333,
    "start_time": "2023-10-09T18:19:09.028Z"
   },
   {
    "duration": 848,
    "start_time": "2023-10-09T18:21:06.533Z"
   },
   {
    "duration": 331,
    "start_time": "2023-10-09T18:21:18.738Z"
   },
   {
    "duration": 36,
    "start_time": "2023-10-09T18:29:24.534Z"
   },
   {
    "duration": 54,
    "start_time": "2023-10-09T18:29:42.728Z"
   },
   {
    "duration": 33,
    "start_time": "2023-10-09T18:30:03.734Z"
   },
   {
    "duration": 67,
    "start_time": "2023-10-09T19:09:02.303Z"
   },
   {
    "duration": 9,
    "start_time": "2023-10-09T19:09:41.362Z"
   },
   {
    "duration": 3435,
    "start_time": "2023-10-09T19:09:49.575Z"
   },
   {
    "duration": 23,
    "start_time": "2023-10-09T19:10:43.617Z"
   },
   {
    "duration": 1292,
    "start_time": "2023-10-09T19:10:51.427Z"
   },
   {
    "duration": 36,
    "start_time": "2023-10-09T19:10:52.721Z"
   },
   {
    "duration": 79,
    "start_time": "2023-10-09T19:10:52.758Z"
   },
   {
    "duration": 533,
    "start_time": "2023-10-09T19:10:52.839Z"
   },
   {
    "duration": 30,
    "start_time": "2023-10-09T19:10:53.374Z"
   },
   {
    "duration": 4,
    "start_time": "2023-10-09T19:10:53.405Z"
   },
   {
    "duration": 31,
    "start_time": "2023-10-09T19:10:53.411Z"
   },
   {
    "duration": 14,
    "start_time": "2023-10-09T19:10:53.443Z"
   },
   {
    "duration": 115,
    "start_time": "2023-10-09T19:10:53.459Z"
   },
   {
    "duration": 27,
    "start_time": "2023-10-09T19:10:53.576Z"
   },
   {
    "duration": 6,
    "start_time": "2023-10-09T19:10:53.605Z"
   },
   {
    "duration": 30,
    "start_time": "2023-10-09T19:10:53.612Z"
   },
   {
    "duration": 15,
    "start_time": "2023-10-09T19:10:53.644Z"
   },
   {
    "duration": 428,
    "start_time": "2023-10-09T19:10:53.661Z"
   },
   {
    "duration": 3,
    "start_time": "2023-10-09T19:10:54.091Z"
   },
   {
    "duration": 132,
    "start_time": "2023-10-09T19:10:54.096Z"
   },
   {
    "duration": 29,
    "start_time": "2023-10-09T19:10:54.230Z"
   },
   {
    "duration": 23,
    "start_time": "2023-10-09T19:10:54.261Z"
   },
   {
    "duration": 15,
    "start_time": "2023-10-09T19:10:54.286Z"
   },
   {
    "duration": 24,
    "start_time": "2023-10-09T19:10:54.303Z"
   },
   {
    "duration": 24,
    "start_time": "2023-10-09T19:10:54.329Z"
   },
   {
    "duration": 19,
    "start_time": "2023-10-09T19:10:54.355Z"
   },
   {
    "duration": 25,
    "start_time": "2023-10-09T19:10:54.377Z"
   },
   {
    "duration": 8,
    "start_time": "2023-10-09T19:10:54.404Z"
   },
   {
    "duration": 46,
    "start_time": "2023-10-09T19:10:54.414Z"
   },
   {
    "duration": 6,
    "start_time": "2023-10-09T19:10:54.462Z"
   },
   {
    "duration": 19,
    "start_time": "2023-10-09T19:10:54.470Z"
   },
   {
    "duration": 15,
    "start_time": "2023-10-09T19:10:54.494Z"
   },
   {
    "duration": 9,
    "start_time": "2023-10-09T19:10:54.511Z"
   },
   {
    "duration": 12,
    "start_time": "2023-10-09T19:10:54.522Z"
   },
   {
    "duration": 29,
    "start_time": "2023-10-09T19:10:54.536Z"
   },
   {
    "duration": 11,
    "start_time": "2023-10-09T19:10:54.580Z"
   },
   {
    "duration": 32,
    "start_time": "2023-10-09T19:10:54.593Z"
   },
   {
    "duration": 22,
    "start_time": "2023-10-09T19:10:54.626Z"
   },
   {
    "duration": 9,
    "start_time": "2023-10-09T19:10:54.650Z"
   },
   {
    "duration": 15,
    "start_time": "2023-10-09T19:10:54.660Z"
   },
   {
    "duration": 8,
    "start_time": "2023-10-09T19:10:54.680Z"
   },
   {
    "duration": 161,
    "start_time": "2023-10-09T19:10:54.690Z"
   },
   {
    "duration": 366,
    "start_time": "2023-10-09T19:10:54.853Z"
   },
   {
    "duration": 17,
    "start_time": "2023-10-09T19:10:55.221Z"
   },
   {
    "duration": 7,
    "start_time": "2023-10-09T19:10:55.240Z"
   },
   {
    "duration": 37,
    "start_time": "2023-10-09T19:10:55.248Z"
   },
   {
    "duration": 14,
    "start_time": "2023-10-09T19:10:55.287Z"
   },
   {
    "duration": 11,
    "start_time": "2023-10-09T19:10:55.303Z"
   },
   {
    "duration": 27,
    "start_time": "2023-10-09T19:10:55.316Z"
   },
   {
    "duration": 52,
    "start_time": "2023-10-09T19:10:55.345Z"
   },
   {
    "duration": 89,
    "start_time": "2023-10-09T19:10:55.398Z"
   },
   {
    "duration": 36,
    "start_time": "2023-10-09T19:10:55.489Z"
   },
   {
    "duration": 22,
    "start_time": "2023-10-09T19:10:55.527Z"
   },
   {
    "duration": 3,
    "start_time": "2023-10-09T19:10:55.551Z"
   },
   {
    "duration": 35,
    "start_time": "2023-10-09T19:10:55.556Z"
   },
   {
    "duration": 47,
    "start_time": "2023-10-09T19:10:55.593Z"
   },
   {
    "duration": 360,
    "start_time": "2023-10-09T19:10:55.642Z"
   },
   {
    "duration": 11,
    "start_time": "2023-10-09T19:10:56.003Z"
   },
   {
    "duration": 66,
    "start_time": "2023-10-09T19:10:56.015Z"
   },
   {
    "duration": 211,
    "start_time": "2023-10-09T19:10:56.083Z"
   },
   {
    "duration": 23,
    "start_time": "2023-10-09T19:11:45.526Z"
   },
   {
    "duration": 19,
    "start_time": "2023-10-09T19:12:10.527Z"
   },
   {
    "duration": 14,
    "start_time": "2023-10-09T19:12:36.179Z"
   },
   {
    "duration": 14,
    "start_time": "2023-10-09T19:13:06.094Z"
   },
   {
    "duration": 22,
    "start_time": "2023-10-09T19:13:30.302Z"
   },
   {
    "duration": 11,
    "start_time": "2023-10-09T19:13:45.893Z"
   },
   {
    "duration": 7,
    "start_time": "2023-10-09T19:13:54.842Z"
   },
   {
    "duration": 11,
    "start_time": "2023-10-09T19:13:57.486Z"
   },
   {
    "duration": 5,
    "start_time": "2023-10-09T19:14:16.356Z"
   },
   {
    "duration": 4,
    "start_time": "2023-10-09T19:15:35.606Z"
   },
   {
    "duration": 11,
    "start_time": "2023-10-09T19:15:43.809Z"
   },
   {
    "duration": 11,
    "start_time": "2023-10-09T19:15:49.295Z"
   },
   {
    "duration": 1291,
    "start_time": "2023-10-09T19:16:04.439Z"
   },
   {
    "duration": 35,
    "start_time": "2023-10-09T19:16:05.732Z"
   },
   {
    "duration": 78,
    "start_time": "2023-10-09T19:16:05.769Z"
   },
   {
    "duration": 548,
    "start_time": "2023-10-09T19:16:05.849Z"
   },
   {
    "duration": 31,
    "start_time": "2023-10-09T19:16:06.400Z"
   },
   {
    "duration": 5,
    "start_time": "2023-10-09T19:16:06.433Z"
   },
   {
    "duration": 37,
    "start_time": "2023-10-09T19:16:06.439Z"
   },
   {
    "duration": 16,
    "start_time": "2023-10-09T19:16:06.481Z"
   },
   {
    "duration": 82,
    "start_time": "2023-10-09T19:16:06.499Z"
   },
   {
    "duration": 35,
    "start_time": "2023-10-09T19:16:06.583Z"
   },
   {
    "duration": 9,
    "start_time": "2023-10-09T19:16:06.620Z"
   },
   {
    "duration": 11,
    "start_time": "2023-10-09T19:16:06.631Z"
   },
   {
    "duration": 41,
    "start_time": "2023-10-09T19:16:06.644Z"
   },
   {
    "duration": 463,
    "start_time": "2023-10-09T19:16:06.689Z"
   },
   {
    "duration": 3,
    "start_time": "2023-10-09T19:16:07.154Z"
   },
   {
    "duration": 140,
    "start_time": "2023-10-09T19:16:07.158Z"
   },
   {
    "duration": 27,
    "start_time": "2023-10-09T19:16:07.300Z"
   },
   {
    "duration": 5,
    "start_time": "2023-10-09T19:16:07.329Z"
   },
   {
    "duration": 14,
    "start_time": "2023-10-09T19:16:07.335Z"
   },
   {
    "duration": 32,
    "start_time": "2023-10-09T19:16:07.350Z"
   },
   {
    "duration": 17,
    "start_time": "2023-10-09T19:16:07.383Z"
   },
   {
    "duration": 7,
    "start_time": "2023-10-09T19:16:07.402Z"
   },
   {
    "duration": 19,
    "start_time": "2023-10-09T19:16:07.411Z"
   },
   {
    "duration": 9,
    "start_time": "2023-10-09T19:16:07.432Z"
   },
   {
    "duration": 46,
    "start_time": "2023-10-09T19:16:07.443Z"
   },
   {
    "duration": 5,
    "start_time": "2023-10-09T19:16:07.491Z"
   },
   {
    "duration": 12,
    "start_time": "2023-10-09T19:16:07.497Z"
   },
   {
    "duration": 9,
    "start_time": "2023-10-09T19:16:07.510Z"
   },
   {
    "duration": 31,
    "start_time": "2023-10-09T19:16:07.521Z"
   },
   {
    "duration": 48,
    "start_time": "2023-10-09T19:16:07.553Z"
   },
   {
    "duration": 80,
    "start_time": "2023-10-09T19:16:07.602Z"
   },
   {
    "duration": 12,
    "start_time": "2023-10-09T19:16:07.683Z"
   },
   {
    "duration": 87,
    "start_time": "2023-10-09T19:16:07.697Z"
   },
   {
    "duration": 12,
    "start_time": "2023-10-09T19:16:07.786Z"
   },
   {
    "duration": 15,
    "start_time": "2023-10-09T19:16:07.799Z"
   },
   {
    "duration": 65,
    "start_time": "2023-10-09T19:16:07.816Z"
   },
   {
    "duration": 10,
    "start_time": "2023-10-09T19:16:07.883Z"
   },
   {
    "duration": 310,
    "start_time": "2023-10-09T19:16:07.895Z"
   },
   {
    "duration": 707,
    "start_time": "2023-10-09T19:16:08.207Z"
   },
   {
    "duration": 71,
    "start_time": "2023-10-09T19:16:08.915Z"
   },
   {
    "duration": 5,
    "start_time": "2023-10-09T19:16:08.989Z"
   },
   {
    "duration": 87,
    "start_time": "2023-10-09T19:16:08.995Z"
   },
   {
    "duration": 13,
    "start_time": "2023-10-09T19:16:09.084Z"
   },
   {
    "duration": 28,
    "start_time": "2023-10-09T19:16:09.098Z"
   },
   {
    "duration": 63,
    "start_time": "2023-10-09T19:16:09.128Z"
   },
   {
    "duration": 5,
    "start_time": "2023-10-09T19:16:09.193Z"
   },
   {
    "duration": 22,
    "start_time": "2023-10-09T19:16:09.200Z"
   },
   {
    "duration": 64,
    "start_time": "2023-10-09T19:16:09.224Z"
   },
   {
    "duration": 22,
    "start_time": "2023-10-09T19:16:09.290Z"
   },
   {
    "duration": 4,
    "start_time": "2023-10-09T19:16:09.314Z"
   },
   {
    "duration": 75,
    "start_time": "2023-10-09T19:16:09.320Z"
   },
   {
    "duration": 39,
    "start_time": "2023-10-09T19:16:09.397Z"
   },
   {
    "duration": 370,
    "start_time": "2023-10-09T19:16:09.480Z"
   },
   {
    "duration": 10,
    "start_time": "2023-10-09T19:16:09.851Z"
   },
   {
    "duration": 11,
    "start_time": "2023-10-09T19:16:09.881Z"
   },
   {
    "duration": 13,
    "start_time": "2023-10-09T19:16:09.894Z"
   },
   {
    "duration": 7,
    "start_time": "2023-10-09T19:16:09.909Z"
   },
   {
    "duration": 229,
    "start_time": "2023-10-09T19:16:09.917Z"
   },
   {
    "duration": 0,
    "start_time": "2023-10-09T19:16:10.148Z"
   },
   {
    "duration": 0,
    "start_time": "2023-10-09T19:16:10.149Z"
   },
   {
    "duration": 10,
    "start_time": "2023-10-09T19:16:19.221Z"
   },
   {
    "duration": 3,
    "start_time": "2023-10-09T19:16:21.706Z"
   },
   {
    "duration": 12,
    "start_time": "2023-10-09T19:16:30.013Z"
   },
   {
    "duration": 1482,
    "start_time": "2023-10-09T19:16:39.358Z"
   },
   {
    "duration": 36,
    "start_time": "2023-10-09T19:16:40.842Z"
   },
   {
    "duration": 81,
    "start_time": "2023-10-09T19:16:40.880Z"
   },
   {
    "duration": 552,
    "start_time": "2023-10-09T19:16:40.963Z"
   },
   {
    "duration": 30,
    "start_time": "2023-10-09T19:16:41.517Z"
   },
   {
    "duration": 4,
    "start_time": "2023-10-09T19:16:41.549Z"
   },
   {
    "duration": 42,
    "start_time": "2023-10-09T19:16:41.555Z"
   },
   {
    "duration": 15,
    "start_time": "2023-10-09T19:16:41.599Z"
   },
   {
    "duration": 98,
    "start_time": "2023-10-09T19:16:41.616Z"
   },
   {
    "duration": 26,
    "start_time": "2023-10-09T19:16:41.717Z"
   },
   {
    "duration": 39,
    "start_time": "2023-10-09T19:16:41.745Z"
   },
   {
    "duration": 9,
    "start_time": "2023-10-09T19:16:41.787Z"
   },
   {
    "duration": 34,
    "start_time": "2023-10-09T19:16:41.798Z"
   },
   {
    "duration": 477,
    "start_time": "2023-10-09T19:16:41.834Z"
   },
   {
    "duration": 3,
    "start_time": "2023-10-09T19:16:42.313Z"
   },
   {
    "duration": 121,
    "start_time": "2023-10-09T19:16:42.317Z"
   },
   {
    "duration": 26,
    "start_time": "2023-10-09T19:16:42.440Z"
   },
   {
    "duration": 6,
    "start_time": "2023-10-09T19:16:42.481Z"
   },
   {
    "duration": 19,
    "start_time": "2023-10-09T19:16:42.489Z"
   },
   {
    "duration": 17,
    "start_time": "2023-10-09T19:16:42.510Z"
   },
   {
    "duration": 14,
    "start_time": "2023-10-09T19:16:42.529Z"
   },
   {
    "duration": 21,
    "start_time": "2023-10-09T19:16:42.545Z"
   },
   {
    "duration": 23,
    "start_time": "2023-10-09T19:16:42.568Z"
   },
   {
    "duration": 6,
    "start_time": "2023-10-09T19:16:42.593Z"
   },
   {
    "duration": 45,
    "start_time": "2023-10-09T19:16:42.600Z"
   },
   {
    "duration": 5,
    "start_time": "2023-10-09T19:16:42.647Z"
   },
   {
    "duration": 30,
    "start_time": "2023-10-09T19:16:42.653Z"
   },
   {
    "duration": 6,
    "start_time": "2023-10-09T19:16:42.687Z"
   },
   {
    "duration": 8,
    "start_time": "2023-10-09T19:16:42.695Z"
   },
   {
    "duration": 16,
    "start_time": "2023-10-09T19:16:42.705Z"
   },
   {
    "duration": 28,
    "start_time": "2023-10-09T19:16:42.723Z"
   },
   {
    "duration": 38,
    "start_time": "2023-10-09T19:16:42.752Z"
   },
   {
    "duration": 33,
    "start_time": "2023-10-09T19:16:42.792Z"
   },
   {
    "duration": 18,
    "start_time": "2023-10-09T19:16:42.826Z"
   },
   {
    "duration": 7,
    "start_time": "2023-10-09T19:16:42.846Z"
   },
   {
    "duration": 27,
    "start_time": "2023-10-09T19:16:42.854Z"
   },
   {
    "duration": 8,
    "start_time": "2023-10-09T19:16:42.883Z"
   },
   {
    "duration": 181,
    "start_time": "2023-10-09T19:16:42.893Z"
   },
   {
    "duration": 394,
    "start_time": "2023-10-09T19:16:43.075Z"
   },
   {
    "duration": 34,
    "start_time": "2023-10-09T19:16:43.471Z"
   },
   {
    "duration": 22,
    "start_time": "2023-10-09T19:16:43.508Z"
   },
   {
    "duration": 36,
    "start_time": "2023-10-09T19:16:43.532Z"
   },
   {
    "duration": 38,
    "start_time": "2023-10-09T19:16:43.570Z"
   },
   {
    "duration": 14,
    "start_time": "2023-10-09T19:16:43.609Z"
   },
   {
    "duration": 14,
    "start_time": "2023-10-09T19:16:43.625Z"
   },
   {
    "duration": 26,
    "start_time": "2023-10-09T19:16:43.640Z"
   },
   {
    "duration": 26,
    "start_time": "2023-10-09T19:16:43.668Z"
   },
   {
    "duration": 29,
    "start_time": "2023-10-09T19:16:43.696Z"
   },
   {
    "duration": 34,
    "start_time": "2023-10-09T19:16:43.726Z"
   },
   {
    "duration": 4,
    "start_time": "2023-10-09T19:16:43.761Z"
   },
   {
    "duration": 27,
    "start_time": "2023-10-09T19:16:43.766Z"
   },
   {
    "duration": 41,
    "start_time": "2023-10-09T19:16:43.795Z"
   },
   {
    "duration": 400,
    "start_time": "2023-10-09T19:16:43.838Z"
   },
   {
    "duration": 10,
    "start_time": "2023-10-09T19:16:44.239Z"
   },
   {
    "duration": 39,
    "start_time": "2023-10-09T19:16:44.250Z"
   },
   {
    "duration": 14,
    "start_time": "2023-10-09T19:16:44.291Z"
   },
   {
    "duration": 12,
    "start_time": "2023-10-09T19:16:44.307Z"
   },
   {
    "duration": 250,
    "start_time": "2023-10-09T19:16:44.321Z"
   },
   {
    "duration": 0,
    "start_time": "2023-10-09T19:16:44.572Z"
   },
   {
    "duration": 0,
    "start_time": "2023-10-09T19:16:44.574Z"
   },
   {
    "duration": 13,
    "start_time": "2023-10-09T19:17:02.801Z"
   },
   {
    "duration": 2,
    "start_time": "2023-10-09T19:17:11.049Z"
   },
   {
    "duration": 11,
    "start_time": "2023-10-09T19:17:11.433Z"
   },
   {
    "duration": 1376,
    "start_time": "2023-10-09T19:17:19.137Z"
   },
   {
    "duration": 35,
    "start_time": "2023-10-09T19:17:20.515Z"
   },
   {
    "duration": 89,
    "start_time": "2023-10-09T19:17:20.552Z"
   },
   {
    "duration": 533,
    "start_time": "2023-10-09T19:17:20.643Z"
   },
   {
    "duration": 35,
    "start_time": "2023-10-09T19:17:21.178Z"
   },
   {
    "duration": 4,
    "start_time": "2023-10-09T19:17:21.215Z"
   },
   {
    "duration": 40,
    "start_time": "2023-10-09T19:17:21.220Z"
   },
   {
    "duration": 37,
    "start_time": "2023-10-09T19:17:21.262Z"
   },
   {
    "duration": 84,
    "start_time": "2023-10-09T19:17:21.301Z"
   },
   {
    "duration": 29,
    "start_time": "2023-10-09T19:17:21.389Z"
   },
   {
    "duration": 7,
    "start_time": "2023-10-09T19:17:21.420Z"
   },
   {
    "duration": 21,
    "start_time": "2023-10-09T19:17:21.429Z"
   },
   {
    "duration": 32,
    "start_time": "2023-10-09T19:17:21.452Z"
   },
   {
    "duration": 490,
    "start_time": "2023-10-09T19:17:21.493Z"
   },
   {
    "duration": 3,
    "start_time": "2023-10-09T19:17:21.985Z"
   },
   {
    "duration": 158,
    "start_time": "2023-10-09T19:17:21.990Z"
   },
   {
    "duration": 35,
    "start_time": "2023-10-09T19:17:22.150Z"
   },
   {
    "duration": 8,
    "start_time": "2023-10-09T19:17:22.187Z"
   },
   {
    "duration": 37,
    "start_time": "2023-10-09T19:17:22.198Z"
   },
   {
    "duration": 17,
    "start_time": "2023-10-09T19:17:22.237Z"
   },
   {
    "duration": 70,
    "start_time": "2023-10-09T19:17:22.256Z"
   },
   {
    "duration": 41,
    "start_time": "2023-10-09T19:17:22.328Z"
   },
   {
    "duration": 56,
    "start_time": "2023-10-09T19:17:22.371Z"
   },
   {
    "duration": 35,
    "start_time": "2023-10-09T19:17:22.428Z"
   },
   {
    "duration": 68,
    "start_time": "2023-10-09T19:17:22.465Z"
   },
   {
    "duration": 5,
    "start_time": "2023-10-09T19:17:22.535Z"
   },
   {
    "duration": 29,
    "start_time": "2023-10-09T19:17:22.542Z"
   },
   {
    "duration": 19,
    "start_time": "2023-10-09T19:17:22.574Z"
   },
   {
    "duration": 41,
    "start_time": "2023-10-09T19:17:22.595Z"
   },
   {
    "duration": 36,
    "start_time": "2023-10-09T19:17:22.638Z"
   },
   {
    "duration": 62,
    "start_time": "2023-10-09T19:17:22.676Z"
   },
   {
    "duration": 37,
    "start_time": "2023-10-09T19:17:22.740Z"
   },
   {
    "duration": 56,
    "start_time": "2023-10-09T19:17:22.778Z"
   },
   {
    "duration": 42,
    "start_time": "2023-10-09T19:17:22.836Z"
   },
   {
    "duration": 43,
    "start_time": "2023-10-09T19:17:22.881Z"
   },
   {
    "duration": 29,
    "start_time": "2023-10-09T19:17:22.926Z"
   },
   {
    "duration": 62,
    "start_time": "2023-10-09T19:17:22.957Z"
   },
   {
    "duration": 204,
    "start_time": "2023-10-09T19:17:23.021Z"
   },
   {
    "duration": 315,
    "start_time": "2023-10-09T19:17:23.227Z"
   },
   {
    "duration": 16,
    "start_time": "2023-10-09T19:17:23.543Z"
   },
   {
    "duration": 24,
    "start_time": "2023-10-09T19:17:23.560Z"
   },
   {
    "duration": 49,
    "start_time": "2023-10-09T19:17:23.586Z"
   },
   {
    "duration": 14,
    "start_time": "2023-10-09T19:17:23.636Z"
   },
   {
    "duration": 12,
    "start_time": "2023-10-09T19:17:23.652Z"
   },
   {
    "duration": 28,
    "start_time": "2023-10-09T19:17:23.666Z"
   },
   {
    "duration": 28,
    "start_time": "2023-10-09T19:17:23.696Z"
   },
   {
    "duration": 22,
    "start_time": "2023-10-09T19:17:23.725Z"
   },
   {
    "duration": 13,
    "start_time": "2023-10-09T19:17:23.749Z"
   },
   {
    "duration": 25,
    "start_time": "2023-10-09T19:17:23.764Z"
   },
   {
    "duration": 4,
    "start_time": "2023-10-09T19:17:23.791Z"
   },
   {
    "duration": 41,
    "start_time": "2023-10-09T19:17:23.797Z"
   },
   {
    "duration": 41,
    "start_time": "2023-10-09T19:17:23.839Z"
   },
   {
    "duration": 363,
    "start_time": "2023-10-09T19:17:23.881Z"
   },
   {
    "duration": 9,
    "start_time": "2023-10-09T19:17:24.246Z"
   },
   {
    "duration": 38,
    "start_time": "2023-10-09T19:17:24.257Z"
   },
   {
    "duration": 38,
    "start_time": "2023-10-09T19:17:24.297Z"
   },
   {
    "duration": 51,
    "start_time": "2023-10-09T19:17:24.336Z"
   },
   {
    "duration": 19,
    "start_time": "2023-10-09T19:17:24.389Z"
   },
   {
    "duration": 183,
    "start_time": "2023-10-09T19:17:24.410Z"
   },
   {
    "duration": 10,
    "start_time": "2023-10-09T19:17:40.229Z"
   },
   {
    "duration": 16,
    "start_time": "2023-10-09T19:18:20.095Z"
   },
   {
    "duration": 4,
    "start_time": "2023-10-09T19:19:38.118Z"
   },
   {
    "duration": 4,
    "start_time": "2023-10-09T19:19:42.794Z"
   },
   {
    "duration": 3,
    "start_time": "2023-10-09T19:20:51.853Z"
   },
   {
    "duration": 14,
    "start_time": "2023-10-09T19:21:51.007Z"
   },
   {
    "duration": 1391,
    "start_time": "2023-10-09T19:22:04.154Z"
   },
   {
    "duration": 40,
    "start_time": "2023-10-09T19:22:05.547Z"
   },
   {
    "duration": 80,
    "start_time": "2023-10-09T19:22:05.589Z"
   },
   {
    "duration": 575,
    "start_time": "2023-10-09T19:22:05.671Z"
   },
   {
    "duration": 36,
    "start_time": "2023-10-09T19:22:06.248Z"
   },
   {
    "duration": 6,
    "start_time": "2023-10-09T19:22:06.286Z"
   },
   {
    "duration": 67,
    "start_time": "2023-10-09T19:22:06.293Z"
   },
   {
    "duration": 40,
    "start_time": "2023-10-09T19:22:06.362Z"
   },
   {
    "duration": 132,
    "start_time": "2023-10-09T19:22:06.403Z"
   },
   {
    "duration": 27,
    "start_time": "2023-10-09T19:22:06.537Z"
   },
   {
    "duration": 23,
    "start_time": "2023-10-09T19:22:06.566Z"
   },
   {
    "duration": 24,
    "start_time": "2023-10-09T19:22:06.592Z"
   },
   {
    "duration": 33,
    "start_time": "2023-10-09T19:22:06.618Z"
   },
   {
    "duration": 492,
    "start_time": "2023-10-09T19:22:06.653Z"
   },
   {
    "duration": 2,
    "start_time": "2023-10-09T19:22:07.147Z"
   },
   {
    "duration": 160,
    "start_time": "2023-10-09T19:22:07.151Z"
   },
   {
    "duration": 27,
    "start_time": "2023-10-09T19:22:07.313Z"
   },
   {
    "duration": 12,
    "start_time": "2023-10-09T19:22:07.342Z"
   },
   {
    "duration": 35,
    "start_time": "2023-10-09T19:22:07.356Z"
   },
   {
    "duration": 18,
    "start_time": "2023-10-09T19:22:07.393Z"
   },
   {
    "duration": 18,
    "start_time": "2023-10-09T19:22:07.413Z"
   },
   {
    "duration": 21,
    "start_time": "2023-10-09T19:22:07.432Z"
   },
   {
    "duration": 26,
    "start_time": "2023-10-09T19:22:07.455Z"
   },
   {
    "duration": 15,
    "start_time": "2023-10-09T19:22:07.483Z"
   },
   {
    "duration": 47,
    "start_time": "2023-10-09T19:22:07.500Z"
   },
   {
    "duration": 5,
    "start_time": "2023-10-09T19:22:07.548Z"
   },
   {
    "duration": 17,
    "start_time": "2023-10-09T19:22:07.554Z"
   },
   {
    "duration": 16,
    "start_time": "2023-10-09T19:22:07.574Z"
   },
   {
    "duration": 12,
    "start_time": "2023-10-09T19:22:07.593Z"
   },
   {
    "duration": 14,
    "start_time": "2023-10-09T19:22:07.606Z"
   },
   {
    "duration": 53,
    "start_time": "2023-10-09T19:22:07.621Z"
   },
   {
    "duration": 18,
    "start_time": "2023-10-09T19:22:07.676Z"
   },
   {
    "duration": 49,
    "start_time": "2023-10-09T19:22:07.697Z"
   },
   {
    "duration": 13,
    "start_time": "2023-10-09T19:22:07.748Z"
   },
   {
    "duration": 38,
    "start_time": "2023-10-09T19:22:07.763Z"
   },
   {
    "duration": 29,
    "start_time": "2023-10-09T19:22:07.803Z"
   },
   {
    "duration": 14,
    "start_time": "2023-10-09T19:22:07.834Z"
   },
   {
    "duration": 168,
    "start_time": "2023-10-09T19:22:07.849Z"
   },
   {
    "duration": 326,
    "start_time": "2023-10-09T19:22:08.019Z"
   },
   {
    "duration": 15,
    "start_time": "2023-10-09T19:22:08.347Z"
   },
   {
    "duration": 11,
    "start_time": "2023-10-09T19:22:08.363Z"
   },
   {
    "duration": 29,
    "start_time": "2023-10-09T19:22:08.381Z"
   },
   {
    "duration": 15,
    "start_time": "2023-10-09T19:22:08.411Z"
   },
   {
    "duration": 21,
    "start_time": "2023-10-09T19:22:08.428Z"
   },
   {
    "duration": 29,
    "start_time": "2023-10-09T19:22:08.451Z"
   },
   {
    "duration": 7,
    "start_time": "2023-10-09T19:22:08.482Z"
   },
   {
    "duration": 45,
    "start_time": "2023-10-09T19:22:08.491Z"
   },
   {
    "duration": 22,
    "start_time": "2023-10-09T19:22:08.537Z"
   },
   {
    "duration": 24,
    "start_time": "2023-10-09T19:22:08.560Z"
   },
   {
    "duration": 6,
    "start_time": "2023-10-09T19:22:08.586Z"
   },
   {
    "duration": 38,
    "start_time": "2023-10-09T19:22:08.593Z"
   },
   {
    "duration": 39,
    "start_time": "2023-10-09T19:22:08.633Z"
   },
   {
    "duration": 349,
    "start_time": "2023-10-09T19:22:08.674Z"
   },
   {
    "duration": 10,
    "start_time": "2023-10-09T19:22:09.024Z"
   },
   {
    "duration": 47,
    "start_time": "2023-10-09T19:22:09.036Z"
   },
   {
    "duration": 13,
    "start_time": "2023-10-09T19:22:09.085Z"
   },
   {
    "duration": 34,
    "start_time": "2023-10-09T19:22:09.099Z"
   },
   {
    "duration": 47,
    "start_time": "2023-10-09T19:22:09.135Z"
   },
   {
    "duration": 17,
    "start_time": "2023-10-09T19:22:09.184Z"
   },
   {
    "duration": 1673,
    "start_time": "2023-10-09T19:27:07.207Z"
   },
   {
    "duration": 9,
    "start_time": "2023-10-09T19:27:59.226Z"
   },
   {
    "duration": 19,
    "start_time": "2023-10-09T19:32:27.335Z"
   },
   {
    "duration": 861,
    "start_time": "2023-10-09T19:32:36.679Z"
   },
   {
    "duration": 18,
    "start_time": "2023-10-09T19:32:49.417Z"
   },
   {
    "duration": 26,
    "start_time": "2023-10-09T19:33:22.498Z"
   },
   {
    "duration": 21,
    "start_time": "2023-10-09T19:37:29.784Z"
   },
   {
    "duration": 63,
    "start_time": "2023-10-09T19:38:53.919Z"
   },
   {
    "duration": 136,
    "start_time": "2023-10-09T19:39:05.181Z"
   },
   {
    "duration": 24,
    "start_time": "2023-10-09T19:40:13.834Z"
   },
   {
    "duration": 54,
    "start_time": "2023-10-09T19:40:19.152Z"
   },
   {
    "duration": 97,
    "start_time": "2023-10-09T19:40:42.014Z"
   },
   {
    "duration": 47,
    "start_time": "2023-10-09T19:40:54.920Z"
   },
   {
    "duration": 47,
    "start_time": "2023-10-09T19:42:21.309Z"
   },
   {
    "duration": 14,
    "start_time": "2023-10-09T19:47:27.400Z"
   },
   {
    "duration": 23,
    "start_time": "2023-10-09T19:47:28.837Z"
   },
   {
    "duration": 45,
    "start_time": "2023-10-09T19:47:41.909Z"
   },
   {
    "duration": 47,
    "start_time": "2023-10-09T19:56:01.233Z"
   },
   {
    "duration": 51,
    "start_time": "2023-10-09T19:57:15.813Z"
   },
   {
    "duration": 11,
    "start_time": "2023-10-09T19:58:32.929Z"
   },
   {
    "duration": 56,
    "start_time": "2023-10-09T19:58:44.295Z"
   },
   {
    "duration": 43,
    "start_time": "2023-10-09T21:40:28.775Z"
   },
   {
    "duration": 1314,
    "start_time": "2023-10-09T21:40:42.894Z"
   },
   {
    "duration": 72,
    "start_time": "2023-10-09T21:40:44.209Z"
   },
   {
    "duration": 165,
    "start_time": "2023-10-09T21:40:44.283Z"
   },
   {
    "duration": 583,
    "start_time": "2023-10-09T21:40:44.450Z"
   },
   {
    "duration": 65,
    "start_time": "2023-10-09T21:40:45.034Z"
   },
   {
    "duration": 4,
    "start_time": "2023-10-09T21:40:45.100Z"
   },
   {
    "duration": 39,
    "start_time": "2023-10-09T21:40:45.105Z"
   },
   {
    "duration": 11,
    "start_time": "2023-10-09T21:40:45.145Z"
   },
   {
    "duration": 75,
    "start_time": "2023-10-09T21:40:45.157Z"
   },
   {
    "duration": 22,
    "start_time": "2023-10-09T21:40:45.234Z"
   },
   {
    "duration": 6,
    "start_time": "2023-10-09T21:40:45.258Z"
   },
   {
    "duration": 13,
    "start_time": "2023-10-09T21:40:45.265Z"
   },
   {
    "duration": 42,
    "start_time": "2023-10-09T21:40:45.280Z"
   },
   {
    "duration": 332,
    "start_time": "2023-10-09T21:40:45.323Z"
   },
   {
    "duration": 2,
    "start_time": "2023-10-09T21:40:45.657Z"
   },
   {
    "duration": 103,
    "start_time": "2023-10-09T21:40:45.660Z"
   },
   {
    "duration": 22,
    "start_time": "2023-10-09T21:40:45.765Z"
   },
   {
    "duration": 4,
    "start_time": "2023-10-09T21:40:45.788Z"
   },
   {
    "duration": 17,
    "start_time": "2023-10-09T21:40:45.793Z"
   },
   {
    "duration": 28,
    "start_time": "2023-10-09T21:40:45.811Z"
   },
   {
    "duration": 9,
    "start_time": "2023-10-09T21:40:45.841Z"
   },
   {
    "duration": 6,
    "start_time": "2023-10-09T21:40:45.851Z"
   },
   {
    "duration": 20,
    "start_time": "2023-10-09T21:40:45.858Z"
   },
   {
    "duration": 13,
    "start_time": "2023-10-09T21:40:45.880Z"
   },
   {
    "duration": 38,
    "start_time": "2023-10-09T21:40:45.894Z"
   },
   {
    "duration": 7,
    "start_time": "2023-10-09T21:40:45.933Z"
   },
   {
    "duration": 9,
    "start_time": "2023-10-09T21:40:45.942Z"
   },
   {
    "duration": 10,
    "start_time": "2023-10-09T21:40:45.954Z"
   },
   {
    "duration": 11,
    "start_time": "2023-10-09T21:40:45.965Z"
   },
   {
    "duration": 9,
    "start_time": "2023-10-09T21:40:45.977Z"
   },
   {
    "duration": 23,
    "start_time": "2023-10-09T21:40:45.987Z"
   },
   {
    "duration": 7,
    "start_time": "2023-10-09T21:40:46.011Z"
   },
   {
    "duration": 24,
    "start_time": "2023-10-09T21:40:46.039Z"
   },
   {
    "duration": 11,
    "start_time": "2023-10-09T21:40:46.064Z"
   },
   {
    "duration": 5,
    "start_time": "2023-10-09T21:40:46.076Z"
   },
   {
    "duration": 4,
    "start_time": "2023-10-09T21:40:46.083Z"
   },
   {
    "duration": 11,
    "start_time": "2023-10-09T21:40:46.089Z"
   },
   {
    "duration": 143,
    "start_time": "2023-10-09T21:40:46.102Z"
   },
   {
    "duration": 284,
    "start_time": "2023-10-09T21:40:46.246Z"
   },
   {
    "duration": 14,
    "start_time": "2023-10-09T21:40:46.532Z"
   },
   {
    "duration": 13,
    "start_time": "2023-10-09T21:40:46.547Z"
   },
   {
    "duration": 35,
    "start_time": "2023-10-09T21:40:46.561Z"
   },
   {
    "duration": 15,
    "start_time": "2023-10-09T21:40:46.598Z"
   },
   {
    "duration": 9,
    "start_time": "2023-10-09T21:40:46.614Z"
   },
   {
    "duration": 18,
    "start_time": "2023-10-09T21:40:46.624Z"
   },
   {
    "duration": 21,
    "start_time": "2023-10-09T21:40:46.644Z"
   },
   {
    "duration": 22,
    "start_time": "2023-10-09T21:40:46.666Z"
   },
   {
    "duration": 24,
    "start_time": "2023-10-09T21:40:46.689Z"
   },
   {
    "duration": 23,
    "start_time": "2023-10-09T21:40:46.715Z"
   },
   {
    "duration": 11,
    "start_time": "2023-10-09T21:40:46.739Z"
   },
   {
    "duration": 20,
    "start_time": "2023-10-09T21:40:46.751Z"
   },
   {
    "duration": 27,
    "start_time": "2023-10-09T21:40:46.772Z"
   },
   {
    "duration": 1114,
    "start_time": "2023-10-09T21:40:46.800Z"
   },
   {
    "duration": 8,
    "start_time": "2023-10-09T21:40:47.915Z"
   },
   {
    "duration": 234,
    "start_time": "2023-10-09T21:40:47.924Z"
   },
   {
    "duration": 0,
    "start_time": "2023-10-09T21:40:48.160Z"
   },
   {
    "duration": 0,
    "start_time": "2023-10-09T21:40:48.162Z"
   },
   {
    "duration": 0,
    "start_time": "2023-10-09T21:40:48.163Z"
   },
   {
    "duration": 12,
    "start_time": "2023-10-09T21:41:29.392Z"
   },
   {
    "duration": 1378,
    "start_time": "2023-10-10T16:33:47.902Z"
   },
   {
    "duration": 86,
    "start_time": "2023-10-10T16:33:49.282Z"
   },
   {
    "duration": 177,
    "start_time": "2023-10-10T16:33:49.370Z"
   },
   {
    "duration": 652,
    "start_time": "2023-10-10T16:33:49.549Z"
   },
   {
    "duration": 68,
    "start_time": "2023-10-10T16:33:50.203Z"
   },
   {
    "duration": 4,
    "start_time": "2023-10-10T16:33:50.273Z"
   },
   {
    "duration": 40,
    "start_time": "2023-10-10T16:33:50.278Z"
   },
   {
    "duration": 11,
    "start_time": "2023-10-10T16:33:50.320Z"
   },
   {
    "duration": 92,
    "start_time": "2023-10-10T16:33:50.332Z"
   },
   {
    "duration": 24,
    "start_time": "2023-10-10T16:33:50.427Z"
   },
   {
    "duration": 7,
    "start_time": "2023-10-10T16:33:50.453Z"
   },
   {
    "duration": 11,
    "start_time": "2023-10-10T16:33:50.461Z"
   },
   {
    "duration": 18,
    "start_time": "2023-10-10T16:33:50.474Z"
   },
   {
    "duration": 433,
    "start_time": "2023-10-10T16:33:50.494Z"
   },
   {
    "duration": 3,
    "start_time": "2023-10-10T16:33:50.929Z"
   },
   {
    "duration": 109,
    "start_time": "2023-10-10T16:33:50.933Z"
   },
   {
    "duration": 24,
    "start_time": "2023-10-10T16:33:51.049Z"
   },
   {
    "duration": 17,
    "start_time": "2023-10-10T16:33:51.075Z"
   },
   {
    "duration": 45,
    "start_time": "2023-10-10T16:33:51.093Z"
   },
   {
    "duration": 40,
    "start_time": "2023-10-10T16:33:51.140Z"
   },
   {
    "duration": 51,
    "start_time": "2023-10-10T16:33:51.182Z"
   },
   {
    "duration": 24,
    "start_time": "2023-10-10T16:33:51.234Z"
   },
   {
    "duration": 40,
    "start_time": "2023-10-10T16:33:51.259Z"
   },
   {
    "duration": 55,
    "start_time": "2023-10-10T16:33:51.301Z"
   },
   {
    "duration": 60,
    "start_time": "2023-10-10T16:33:51.357Z"
   },
   {
    "duration": 7,
    "start_time": "2023-10-10T16:33:51.418Z"
   },
   {
    "duration": 20,
    "start_time": "2023-10-10T16:33:51.426Z"
   },
   {
    "duration": 32,
    "start_time": "2023-10-10T16:33:51.449Z"
   },
   {
    "duration": 34,
    "start_time": "2023-10-10T16:33:51.483Z"
   },
   {
    "duration": 14,
    "start_time": "2023-10-10T16:33:51.519Z"
   },
   {
    "duration": 51,
    "start_time": "2023-10-10T16:33:51.535Z"
   },
   {
    "duration": 136,
    "start_time": "2023-10-10T16:33:51.587Z"
   },
   {
    "duration": 73,
    "start_time": "2023-10-10T16:33:51.724Z"
   },
   {
    "duration": 25,
    "start_time": "2023-10-10T16:33:51.799Z"
   },
   {
    "duration": 14,
    "start_time": "2023-10-10T16:33:51.825Z"
   },
   {
    "duration": 27,
    "start_time": "2023-10-10T16:33:51.841Z"
   },
   {
    "duration": 43,
    "start_time": "2023-10-10T16:33:51.870Z"
   },
   {
    "duration": 147,
    "start_time": "2023-10-10T16:33:51.915Z"
   },
   {
    "duration": 307,
    "start_time": "2023-10-10T16:33:52.065Z"
   },
   {
    "duration": 17,
    "start_time": "2023-10-10T16:33:52.374Z"
   },
   {
    "duration": 5,
    "start_time": "2023-10-10T16:33:52.393Z"
   },
   {
    "duration": 26,
    "start_time": "2023-10-10T16:33:52.400Z"
   },
   {
    "duration": 40,
    "start_time": "2023-10-10T16:33:52.428Z"
   },
   {
    "duration": 16,
    "start_time": "2023-10-10T16:33:52.469Z"
   },
   {
    "duration": 10,
    "start_time": "2023-10-10T16:33:52.487Z"
   },
   {
    "duration": 4,
    "start_time": "2023-10-10T16:33:52.498Z"
   },
   {
    "duration": 13,
    "start_time": "2023-10-10T16:33:52.503Z"
   },
   {
    "duration": 58,
    "start_time": "2023-10-10T16:33:52.518Z"
   },
   {
    "duration": 40,
    "start_time": "2023-10-10T16:33:52.578Z"
   },
   {
    "duration": 3,
    "start_time": "2023-10-10T16:33:52.620Z"
   },
   {
    "duration": 32,
    "start_time": "2023-10-10T16:33:52.625Z"
   },
   {
    "duration": 35,
    "start_time": "2023-10-10T16:33:52.659Z"
   },
   {
    "duration": 369,
    "start_time": "2023-10-10T16:33:52.695Z"
   },
   {
    "duration": 13,
    "start_time": "2023-10-10T16:33:53.066Z"
   },
   {
    "duration": 30,
    "start_time": "2023-10-10T16:33:53.081Z"
   },
   {
    "duration": 314,
    "start_time": "2023-10-10T16:33:53.150Z"
   },
   {
    "duration": 22,
    "start_time": "2023-10-10T16:33:53.466Z"
   },
   {
    "duration": 123,
    "start_time": "2023-10-10T16:33:53.489Z"
   },
   {
    "duration": 78,
    "start_time": "2023-10-10T16:55:15.418Z"
   },
   {
    "duration": 4,
    "start_time": "2023-10-10T16:55:24.150Z"
   },
   {
    "duration": 8,
    "start_time": "2023-10-10T16:55:32.817Z"
   },
   {
    "duration": 12,
    "start_time": "2023-10-10T16:56:43.015Z"
   },
   {
    "duration": 6,
    "start_time": "2023-10-10T17:22:21.562Z"
   },
   {
    "duration": 249,
    "start_time": "2023-10-10T17:22:24.627Z"
   },
   {
    "duration": 1214,
    "start_time": "2023-10-10T17:23:02.648Z"
   },
   {
    "duration": 36,
    "start_time": "2023-10-10T17:23:03.864Z"
   },
   {
    "duration": 91,
    "start_time": "2023-10-10T17:23:03.902Z"
   },
   {
    "duration": 504,
    "start_time": "2023-10-10T17:23:03.995Z"
   },
   {
    "duration": 29,
    "start_time": "2023-10-10T17:23:04.501Z"
   },
   {
    "duration": 4,
    "start_time": "2023-10-10T17:23:04.532Z"
   },
   {
    "duration": 32,
    "start_time": "2023-10-10T17:23:04.538Z"
   },
   {
    "duration": 11,
    "start_time": "2023-10-10T17:23:04.572Z"
   },
   {
    "duration": 105,
    "start_time": "2023-10-10T17:23:04.585Z"
   },
   {
    "duration": 32,
    "start_time": "2023-10-10T17:23:04.694Z"
   },
   {
    "duration": 7,
    "start_time": "2023-10-10T17:23:04.729Z"
   },
   {
    "duration": 15,
    "start_time": "2023-10-10T17:23:04.752Z"
   },
   {
    "duration": 10,
    "start_time": "2023-10-10T17:23:04.768Z"
   },
   {
    "duration": 455,
    "start_time": "2023-10-10T17:23:04.780Z"
   },
   {
    "duration": 3,
    "start_time": "2023-10-10T17:23:05.236Z"
   },
   {
    "duration": 125,
    "start_time": "2023-10-10T17:23:05.240Z"
   },
   {
    "duration": 25,
    "start_time": "2023-10-10T17:23:05.367Z"
   },
   {
    "duration": 5,
    "start_time": "2023-10-10T17:23:05.393Z"
   },
   {
    "duration": 20,
    "start_time": "2023-10-10T17:23:05.399Z"
   },
   {
    "duration": 26,
    "start_time": "2023-10-10T17:23:05.421Z"
   },
   {
    "duration": 40,
    "start_time": "2023-10-10T17:23:05.448Z"
   },
   {
    "duration": 14,
    "start_time": "2023-10-10T17:23:05.490Z"
   },
   {
    "duration": 19,
    "start_time": "2023-10-10T17:23:05.505Z"
   },
   {
    "duration": 10,
    "start_time": "2023-10-10T17:23:05.525Z"
   },
   {
    "duration": 41,
    "start_time": "2023-10-10T17:23:05.536Z"
   },
   {
    "duration": 4,
    "start_time": "2023-10-10T17:23:05.579Z"
   },
   {
    "duration": 20,
    "start_time": "2023-10-10T17:23:05.584Z"
   },
   {
    "duration": 22,
    "start_time": "2023-10-10T17:23:05.607Z"
   },
   {
    "duration": 19,
    "start_time": "2023-10-10T17:23:05.630Z"
   },
   {
    "duration": 32,
    "start_time": "2023-10-10T17:23:05.652Z"
   },
   {
    "duration": 60,
    "start_time": "2023-10-10T17:23:05.686Z"
   },
   {
    "duration": 24,
    "start_time": "2023-10-10T17:23:05.748Z"
   },
   {
    "duration": 35,
    "start_time": "2023-10-10T17:23:05.773Z"
   },
   {
    "duration": 23,
    "start_time": "2023-10-10T17:23:05.809Z"
   },
   {
    "duration": 27,
    "start_time": "2023-10-10T17:23:05.834Z"
   },
   {
    "duration": 7,
    "start_time": "2023-10-10T17:23:05.863Z"
   },
   {
    "duration": 21,
    "start_time": "2023-10-10T17:23:05.873Z"
   },
   {
    "duration": 183,
    "start_time": "2023-10-10T17:23:05.896Z"
   },
   {
    "duration": 342,
    "start_time": "2023-10-10T17:23:06.080Z"
   },
   {
    "duration": 39,
    "start_time": "2023-10-10T17:23:06.424Z"
   },
   {
    "duration": 4,
    "start_time": "2023-10-10T17:23:06.465Z"
   },
   {
    "duration": 28,
    "start_time": "2023-10-10T17:23:06.471Z"
   },
   {
    "duration": 37,
    "start_time": "2023-10-10T17:23:06.500Z"
   },
   {
    "duration": 28,
    "start_time": "2023-10-10T17:23:06.538Z"
   },
   {
    "duration": 24,
    "start_time": "2023-10-10T17:23:06.568Z"
   },
   {
    "duration": 49,
    "start_time": "2023-10-10T17:23:06.594Z"
   },
   {
    "duration": 22,
    "start_time": "2023-10-10T17:23:06.645Z"
   },
   {
    "duration": 24,
    "start_time": "2023-10-10T17:23:06.668Z"
   },
   {
    "duration": 22,
    "start_time": "2023-10-10T17:23:06.694Z"
   },
   {
    "duration": 4,
    "start_time": "2023-10-10T17:23:06.718Z"
   },
   {
    "duration": 42,
    "start_time": "2023-10-10T17:23:06.723Z"
   },
   {
    "duration": 31,
    "start_time": "2023-10-10T17:23:06.766Z"
   },
   {
    "duration": 414,
    "start_time": "2023-10-10T17:23:06.799Z"
   },
   {
    "duration": 10,
    "start_time": "2023-10-10T17:23:07.215Z"
   },
   {
    "duration": 35,
    "start_time": "2023-10-10T17:23:07.226Z"
   },
   {
    "duration": 130,
    "start_time": "2023-10-10T17:23:07.264Z"
   },
   {
    "duration": 76,
    "start_time": "2023-10-10T17:23:07.396Z"
   },
   {
    "duration": 151,
    "start_time": "2023-10-10T17:23:07.473Z"
   },
   {
    "duration": 8,
    "start_time": "2023-10-10T17:23:07.625Z"
   },
   {
    "duration": 20,
    "start_time": "2023-10-10T17:23:07.635Z"
   },
   {
    "duration": 241,
    "start_time": "2023-10-10T17:23:07.656Z"
   },
   {
    "duration": 7,
    "start_time": "2023-10-10T17:24:37.680Z"
   },
   {
    "duration": 10,
    "start_time": "2023-10-10T17:25:21.018Z"
   },
   {
    "duration": 17,
    "start_time": "2023-10-10T17:27:23.139Z"
   },
   {
    "duration": 1274,
    "start_time": "2023-10-10T17:28:30.072Z"
   },
   {
    "duration": 37,
    "start_time": "2023-10-10T17:28:31.348Z"
   },
   {
    "duration": 74,
    "start_time": "2023-10-10T17:28:31.386Z"
   },
   {
    "duration": 486,
    "start_time": "2023-10-10T17:28:31.462Z"
   },
   {
    "duration": 31,
    "start_time": "2023-10-10T17:28:31.951Z"
   },
   {
    "duration": 19,
    "start_time": "2023-10-10T17:28:31.984Z"
   },
   {
    "duration": 52,
    "start_time": "2023-10-10T17:28:32.004Z"
   },
   {
    "duration": 24,
    "start_time": "2023-10-10T17:28:32.058Z"
   },
   {
    "duration": 73,
    "start_time": "2023-10-10T17:28:32.083Z"
   },
   {
    "duration": 24,
    "start_time": "2023-10-10T17:28:32.157Z"
   },
   {
    "duration": 6,
    "start_time": "2023-10-10T17:28:32.183Z"
   },
   {
    "duration": 5,
    "start_time": "2023-10-10T17:28:32.190Z"
   },
   {
    "duration": 9,
    "start_time": "2023-10-10T17:28:32.197Z"
   },
   {
    "duration": 475,
    "start_time": "2023-10-10T17:28:32.209Z"
   },
   {
    "duration": 4,
    "start_time": "2023-10-10T17:28:32.685Z"
   },
   {
    "duration": 153,
    "start_time": "2023-10-10T17:28:32.690Z"
   },
   {
    "duration": 24,
    "start_time": "2023-10-10T17:28:32.844Z"
   },
   {
    "duration": 41,
    "start_time": "2023-10-10T17:28:32.870Z"
   },
   {
    "duration": 38,
    "start_time": "2023-10-10T17:28:32.913Z"
   },
   {
    "duration": 39,
    "start_time": "2023-10-10T17:28:32.953Z"
   },
   {
    "duration": 30,
    "start_time": "2023-10-10T17:28:32.994Z"
   },
   {
    "duration": 7,
    "start_time": "2023-10-10T17:28:33.026Z"
   },
   {
    "duration": 21,
    "start_time": "2023-10-10T17:28:33.035Z"
   },
   {
    "duration": 7,
    "start_time": "2023-10-10T17:28:33.058Z"
   },
   {
    "duration": 43,
    "start_time": "2023-10-10T17:28:33.067Z"
   },
   {
    "duration": 4,
    "start_time": "2023-10-10T17:28:33.112Z"
   },
   {
    "duration": 14,
    "start_time": "2023-10-10T17:28:33.117Z"
   },
   {
    "duration": 18,
    "start_time": "2023-10-10T17:28:33.133Z"
   },
   {
    "duration": 7,
    "start_time": "2023-10-10T17:28:33.152Z"
   },
   {
    "duration": 14,
    "start_time": "2023-10-10T17:28:33.161Z"
   },
   {
    "duration": 31,
    "start_time": "2023-10-10T17:28:33.176Z"
   },
   {
    "duration": 12,
    "start_time": "2023-10-10T17:28:33.208Z"
   },
   {
    "duration": 46,
    "start_time": "2023-10-10T17:28:33.222Z"
   },
   {
    "duration": 20,
    "start_time": "2023-10-10T17:28:33.270Z"
   },
   {
    "duration": 5,
    "start_time": "2023-10-10T17:28:33.292Z"
   },
   {
    "duration": 27,
    "start_time": "2023-10-10T17:28:33.298Z"
   },
   {
    "duration": 12,
    "start_time": "2023-10-10T17:28:33.327Z"
   },
   {
    "duration": 161,
    "start_time": "2023-10-10T17:28:33.341Z"
   },
   {
    "duration": 305,
    "start_time": "2023-10-10T17:28:33.504Z"
   },
   {
    "duration": 16,
    "start_time": "2023-10-10T17:28:33.810Z"
   },
   {
    "duration": 13,
    "start_time": "2023-10-10T17:28:33.829Z"
   },
   {
    "duration": 17,
    "start_time": "2023-10-10T17:28:33.850Z"
   },
   {
    "duration": 30,
    "start_time": "2023-10-10T17:28:33.868Z"
   },
   {
    "duration": 9,
    "start_time": "2023-10-10T17:28:33.900Z"
   },
   {
    "duration": 7,
    "start_time": "2023-10-10T17:28:33.910Z"
   },
   {
    "duration": 5,
    "start_time": "2023-10-10T17:28:33.919Z"
   },
   {
    "duration": 33,
    "start_time": "2023-10-10T17:28:33.925Z"
   },
   {
    "duration": 29,
    "start_time": "2023-10-10T17:28:33.960Z"
   },
   {
    "duration": 28,
    "start_time": "2023-10-10T17:28:33.990Z"
   },
   {
    "duration": 18,
    "start_time": "2023-10-10T17:28:34.020Z"
   },
   {
    "duration": 38,
    "start_time": "2023-10-10T17:28:34.040Z"
   },
   {
    "duration": 43,
    "start_time": "2023-10-10T17:28:34.079Z"
   },
   {
    "duration": 345,
    "start_time": "2023-10-10T17:28:34.124Z"
   },
   {
    "duration": 12,
    "start_time": "2023-10-10T17:28:34.471Z"
   },
   {
    "duration": 72,
    "start_time": "2023-10-10T17:28:34.485Z"
   },
   {
    "duration": 161,
    "start_time": "2023-10-10T17:28:34.560Z"
   },
   {
    "duration": 51,
    "start_time": "2023-10-10T17:28:34.723Z"
   },
   {
    "duration": 63,
    "start_time": "2023-10-10T17:28:34.775Z"
   },
   {
    "duration": 21,
    "start_time": "2023-10-10T17:28:34.850Z"
   },
   {
    "duration": 23,
    "start_time": "2023-10-10T17:28:34.872Z"
   },
   {
    "duration": 203,
    "start_time": "2023-10-10T17:28:34.897Z"
   },
   {
    "duration": 49,
    "start_time": "2023-10-12T19:42:51.363Z"
   },
   {
    "duration": 1419,
    "start_time": "2023-10-12T19:43:04.749Z"
   },
   {
    "duration": 77,
    "start_time": "2023-10-12T19:43:06.170Z"
   },
   {
    "duration": 180,
    "start_time": "2023-10-12T19:43:06.249Z"
   },
   {
    "duration": 685,
    "start_time": "2023-10-12T19:43:06.431Z"
   },
   {
    "duration": 70,
    "start_time": "2023-10-12T19:43:07.118Z"
   },
   {
    "duration": 4,
    "start_time": "2023-10-12T19:43:07.190Z"
   },
   {
    "duration": 27,
    "start_time": "2023-10-12T19:43:07.196Z"
   },
   {
    "duration": 14,
    "start_time": "2023-10-12T19:43:07.224Z"
   },
   {
    "duration": 93,
    "start_time": "2023-10-12T19:43:07.241Z"
   },
   {
    "duration": 25,
    "start_time": "2023-10-12T19:43:07.337Z"
   },
   {
    "duration": 6,
    "start_time": "2023-10-12T19:43:07.363Z"
   },
   {
    "duration": 6,
    "start_time": "2023-10-12T19:43:07.371Z"
   },
   {
    "duration": 30,
    "start_time": "2023-10-12T19:43:07.379Z"
   },
   {
    "duration": 440,
    "start_time": "2023-10-12T19:43:07.411Z"
   },
   {
    "duration": 2,
    "start_time": "2023-10-12T19:43:07.853Z"
   },
   {
    "duration": 114,
    "start_time": "2023-10-12T19:43:07.857Z"
   },
   {
    "duration": 43,
    "start_time": "2023-10-12T19:43:07.973Z"
   },
   {
    "duration": 5,
    "start_time": "2023-10-12T19:43:08.018Z"
   },
   {
    "duration": 15,
    "start_time": "2023-10-12T19:43:08.024Z"
   },
   {
    "duration": 15,
    "start_time": "2023-10-12T19:43:08.040Z"
   },
   {
    "duration": 12,
    "start_time": "2023-10-12T19:43:08.057Z"
   },
   {
    "duration": 8,
    "start_time": "2023-10-12T19:43:08.071Z"
   },
   {
    "duration": 38,
    "start_time": "2023-10-12T19:43:08.081Z"
   },
   {
    "duration": 6,
    "start_time": "2023-10-12T19:43:08.121Z"
   },
   {
    "duration": 33,
    "start_time": "2023-10-12T19:43:08.129Z"
   },
   {
    "duration": 5,
    "start_time": "2023-10-12T19:43:08.164Z"
   },
   {
    "duration": 23,
    "start_time": "2023-10-12T19:43:08.171Z"
   },
   {
    "duration": 4,
    "start_time": "2023-10-12T19:43:08.208Z"
   },
   {
    "duration": 27,
    "start_time": "2023-10-12T19:43:08.213Z"
   },
   {
    "duration": 28,
    "start_time": "2023-10-12T19:43:08.242Z"
   },
   {
    "duration": 37,
    "start_time": "2023-10-12T19:43:08.272Z"
   },
   {
    "duration": 9,
    "start_time": "2023-10-12T19:43:08.310Z"
   },
   {
    "duration": 68,
    "start_time": "2023-10-12T19:43:08.321Z"
   },
   {
    "duration": 13,
    "start_time": "2023-10-12T19:43:08.390Z"
   },
   {
    "duration": 9,
    "start_time": "2023-10-12T19:43:08.405Z"
   },
   {
    "duration": 5,
    "start_time": "2023-10-12T19:43:08.416Z"
   },
   {
    "duration": 8,
    "start_time": "2023-10-12T19:43:08.423Z"
   },
   {
    "duration": 175,
    "start_time": "2023-10-12T19:43:08.433Z"
   },
   {
    "duration": 340,
    "start_time": "2023-10-12T19:43:08.609Z"
   },
   {
    "duration": 18,
    "start_time": "2023-10-12T19:43:08.951Z"
   },
   {
    "duration": 8,
    "start_time": "2023-10-12T19:43:08.970Z"
   },
   {
    "duration": 32,
    "start_time": "2023-10-12T19:43:08.980Z"
   },
   {
    "duration": 12,
    "start_time": "2023-10-12T19:43:09.013Z"
   },
   {
    "duration": 10,
    "start_time": "2023-10-12T19:43:09.026Z"
   },
   {
    "duration": 8,
    "start_time": "2023-10-12T19:43:09.037Z"
   },
   {
    "duration": 4,
    "start_time": "2023-10-12T19:43:09.047Z"
   },
   {
    "duration": 12,
    "start_time": "2023-10-12T19:43:09.053Z"
   },
   {
    "duration": 41,
    "start_time": "2023-10-12T19:43:09.067Z"
   },
   {
    "duration": 23,
    "start_time": "2023-10-12T19:43:09.110Z"
   },
   {
    "duration": 4,
    "start_time": "2023-10-12T19:43:09.134Z"
   },
   {
    "duration": 18,
    "start_time": "2023-10-12T19:43:09.140Z"
   },
   {
    "duration": 70,
    "start_time": "2023-10-12T19:43:09.160Z"
   },
   {
    "duration": 375,
    "start_time": "2023-10-12T19:43:09.233Z"
   },
   {
    "duration": 10,
    "start_time": "2023-10-12T19:43:09.609Z"
   },
   {
    "duration": 16,
    "start_time": "2023-10-12T19:43:09.621Z"
   },
   {
    "duration": 152,
    "start_time": "2023-10-12T19:43:09.639Z"
   },
   {
    "duration": 29,
    "start_time": "2023-10-12T19:43:09.793Z"
   },
   {
    "duration": 132,
    "start_time": "2023-10-12T19:43:09.824Z"
   },
   {
    "duration": 10,
    "start_time": "2023-10-12T19:43:09.957Z"
   },
   {
    "duration": 83,
    "start_time": "2023-10-12T19:43:09.969Z"
   },
   {
    "duration": 0,
    "start_time": "2023-10-12T19:43:10.053Z"
   },
   {
    "duration": 1271,
    "start_time": "2023-10-12T20:22:06.569Z"
   },
   {
    "duration": 37,
    "start_time": "2023-10-12T20:22:07.842Z"
   },
   {
    "duration": 81,
    "start_time": "2023-10-12T20:22:07.881Z"
   },
   {
    "duration": 512,
    "start_time": "2023-10-12T20:22:07.964Z"
   },
   {
    "duration": 30,
    "start_time": "2023-10-12T20:22:08.478Z"
   },
   {
    "duration": 4,
    "start_time": "2023-10-12T20:22:08.509Z"
   },
   {
    "duration": 23,
    "start_time": "2023-10-12T20:22:08.514Z"
   },
   {
    "duration": 14,
    "start_time": "2023-10-12T20:22:08.538Z"
   },
   {
    "duration": 98,
    "start_time": "2023-10-12T20:22:08.554Z"
   },
   {
    "duration": 26,
    "start_time": "2023-10-12T20:22:08.654Z"
   },
   {
    "duration": 8,
    "start_time": "2023-10-12T20:22:08.682Z"
   },
   {
    "duration": 7,
    "start_time": "2023-10-12T20:22:08.708Z"
   },
   {
    "duration": 17,
    "start_time": "2023-10-12T20:22:08.717Z"
   },
   {
    "duration": 447,
    "start_time": "2023-10-12T20:22:08.735Z"
   },
   {
    "duration": 3,
    "start_time": "2023-10-12T20:22:09.183Z"
   },
   {
    "duration": 116,
    "start_time": "2023-10-12T20:22:09.187Z"
   },
   {
    "duration": 27,
    "start_time": "2023-10-12T20:22:09.304Z"
   },
   {
    "duration": 5,
    "start_time": "2023-10-12T20:22:09.332Z"
   },
   {
    "duration": 17,
    "start_time": "2023-10-12T20:22:09.338Z"
   },
   {
    "duration": 20,
    "start_time": "2023-10-12T20:22:09.356Z"
   },
   {
    "duration": 19,
    "start_time": "2023-10-12T20:22:09.378Z"
   },
   {
    "duration": 8,
    "start_time": "2023-10-12T20:22:09.407Z"
   },
   {
    "duration": 15,
    "start_time": "2023-10-12T20:22:09.416Z"
   },
   {
    "duration": 8,
    "start_time": "2023-10-12T20:22:09.432Z"
   },
   {
    "duration": 52,
    "start_time": "2023-10-12T20:22:09.441Z"
   },
   {
    "duration": 14,
    "start_time": "2023-10-12T20:22:09.494Z"
   },
   {
    "duration": 11,
    "start_time": "2023-10-12T20:22:09.509Z"
   },
   {
    "duration": 5,
    "start_time": "2023-10-12T20:22:09.523Z"
   },
   {
    "duration": 10,
    "start_time": "2023-10-12T20:22:09.529Z"
   },
   {
    "duration": 18,
    "start_time": "2023-10-12T20:22:09.541Z"
   },
   {
    "duration": 31,
    "start_time": "2023-10-12T20:22:09.560Z"
   },
   {
    "duration": 29,
    "start_time": "2023-10-12T20:22:09.592Z"
   },
   {
    "duration": 41,
    "start_time": "2023-10-12T20:22:09.623Z"
   },
   {
    "duration": 12,
    "start_time": "2023-10-12T20:22:09.666Z"
   },
   {
    "duration": 17,
    "start_time": "2023-10-12T20:22:09.680Z"
   },
   {
    "duration": 20,
    "start_time": "2023-10-12T20:22:09.698Z"
   },
   {
    "duration": 14,
    "start_time": "2023-10-12T20:22:09.719Z"
   },
   {
    "duration": 175,
    "start_time": "2023-10-12T20:22:09.735Z"
   },
   {
    "duration": 345,
    "start_time": "2023-10-12T20:22:09.911Z"
   },
   {
    "duration": 16,
    "start_time": "2023-10-12T20:22:10.258Z"
   },
   {
    "duration": 18,
    "start_time": "2023-10-12T20:22:10.276Z"
   },
   {
    "duration": 34,
    "start_time": "2023-10-12T20:22:10.295Z"
   },
   {
    "duration": 14,
    "start_time": "2023-10-12T20:22:10.331Z"
   },
   {
    "duration": 33,
    "start_time": "2023-10-12T20:22:10.347Z"
   },
   {
    "duration": 14,
    "start_time": "2023-10-12T20:22:10.381Z"
   },
   {
    "duration": 12,
    "start_time": "2023-10-12T20:22:10.396Z"
   },
   {
    "duration": 17,
    "start_time": "2023-10-12T20:22:10.410Z"
   },
   {
    "duration": 20,
    "start_time": "2023-10-12T20:22:10.429Z"
   },
   {
    "duration": 21,
    "start_time": "2023-10-12T20:22:10.451Z"
   },
   {
    "duration": 4,
    "start_time": "2023-10-12T20:22:10.474Z"
   },
   {
    "duration": 31,
    "start_time": "2023-10-12T20:22:10.479Z"
   },
   {
    "duration": 51,
    "start_time": "2023-10-12T20:22:10.512Z"
   },
   {
    "duration": 362,
    "start_time": "2023-10-12T20:22:10.565Z"
   },
   {
    "duration": 11,
    "start_time": "2023-10-12T20:22:10.928Z"
   },
   {
    "duration": 69,
    "start_time": "2023-10-12T20:22:10.940Z"
   },
   {
    "duration": 110,
    "start_time": "2023-10-12T20:22:11.011Z"
   },
   {
    "duration": 149,
    "start_time": "2023-10-12T20:22:11.123Z"
   },
   {
    "duration": 0,
    "start_time": "2023-10-12T20:22:11.273Z"
   },
   {
    "duration": 0,
    "start_time": "2023-10-12T20:22:11.274Z"
   },
   {
    "duration": 0,
    "start_time": "2023-10-12T20:22:11.275Z"
   },
   {
    "duration": 0,
    "start_time": "2023-10-12T20:22:11.276Z"
   },
   {
    "duration": 0,
    "start_time": "2023-10-12T20:22:11.277Z"
   },
   {
    "duration": 11,
    "start_time": "2023-10-12T20:23:16.383Z"
   },
   {
    "duration": 15,
    "start_time": "2023-10-12T20:23:26.513Z"
   },
   {
    "duration": 18,
    "start_time": "2023-10-12T20:26:40.332Z"
   },
   {
    "duration": 25,
    "start_time": "2023-10-12T20:26:49.375Z"
   },
   {
    "duration": 49,
    "start_time": "2023-10-12T20:27:00.017Z"
   },
   {
    "duration": 23,
    "start_time": "2023-10-12T20:28:54.685Z"
   },
   {
    "duration": 123,
    "start_time": "2023-10-12T20:28:56.665Z"
   },
   {
    "duration": 22,
    "start_time": "2023-10-12T20:29:31.492Z"
   },
   {
    "duration": 56,
    "start_time": "2023-10-12T20:29:34.494Z"
   },
   {
    "duration": 20,
    "start_time": "2023-10-12T20:30:38.288Z"
   },
   {
    "duration": 43,
    "start_time": "2023-10-12T20:30:55.266Z"
   },
   {
    "duration": 21,
    "start_time": "2023-10-12T20:31:05.718Z"
   },
   {
    "duration": 40,
    "start_time": "2023-10-12T20:31:08.190Z"
   },
   {
    "duration": 23,
    "start_time": "2023-10-12T20:31:43.416Z"
   },
   {
    "duration": 18,
    "start_time": "2023-10-12T20:31:45.252Z"
   },
   {
    "duration": 42,
    "start_time": "2023-10-12T20:31:54.917Z"
   },
   {
    "duration": 1564,
    "start_time": "2023-10-13T18:02:20.792Z"
   },
   {
    "duration": 75,
    "start_time": "2023-10-13T18:02:22.358Z"
   },
   {
    "duration": 189,
    "start_time": "2023-10-13T18:02:22.436Z"
   },
   {
    "duration": 728,
    "start_time": "2023-10-13T18:02:22.627Z"
   },
   {
    "duration": 70,
    "start_time": "2023-10-13T18:02:23.357Z"
   },
   {
    "duration": 4,
    "start_time": "2023-10-13T18:02:23.429Z"
   },
   {
    "duration": 63,
    "start_time": "2023-10-13T18:02:23.435Z"
   },
   {
    "duration": 22,
    "start_time": "2023-10-13T18:02:23.499Z"
   },
   {
    "duration": 93,
    "start_time": "2023-10-13T18:02:23.523Z"
   },
   {
    "duration": 28,
    "start_time": "2023-10-13T18:02:23.618Z"
   },
   {
    "duration": 8,
    "start_time": "2023-10-13T18:02:23.648Z"
   },
   {
    "duration": 6,
    "start_time": "2023-10-13T18:02:23.657Z"
   },
   {
    "duration": 37,
    "start_time": "2023-10-13T18:02:23.665Z"
   },
   {
    "duration": 475,
    "start_time": "2023-10-13T18:02:23.706Z"
   },
   {
    "duration": 3,
    "start_time": "2023-10-13T18:02:24.183Z"
   },
   {
    "duration": 192,
    "start_time": "2023-10-13T18:02:24.187Z"
   },
   {
    "duration": 101,
    "start_time": "2023-10-13T18:02:24.381Z"
   },
   {
    "duration": 7,
    "start_time": "2023-10-13T18:02:24.485Z"
   },
   {
    "duration": 47,
    "start_time": "2023-10-13T18:02:24.494Z"
   },
   {
    "duration": 17,
    "start_time": "2023-10-13T18:02:24.544Z"
   },
   {
    "duration": 42,
    "start_time": "2023-10-13T18:02:24.563Z"
   },
   {
    "duration": 10,
    "start_time": "2023-10-13T18:02:24.607Z"
   },
   {
    "duration": 23,
    "start_time": "2023-10-13T18:02:24.619Z"
   },
   {
    "duration": 6,
    "start_time": "2023-10-13T18:02:24.644Z"
   },
   {
    "duration": 78,
    "start_time": "2023-10-13T18:02:24.653Z"
   },
   {
    "duration": 6,
    "start_time": "2023-10-13T18:02:24.733Z"
   },
   {
    "duration": 11,
    "start_time": "2023-10-13T18:02:24.741Z"
   },
   {
    "duration": 21,
    "start_time": "2023-10-13T18:02:24.754Z"
   },
   {
    "duration": 26,
    "start_time": "2023-10-13T18:02:24.777Z"
   },
   {
    "duration": 29,
    "start_time": "2023-10-13T18:02:24.805Z"
   },
   {
    "duration": 32,
    "start_time": "2023-10-13T18:02:24.837Z"
   },
   {
    "duration": 47,
    "start_time": "2023-10-13T18:02:24.871Z"
   },
   {
    "duration": 26,
    "start_time": "2023-10-13T18:02:24.920Z"
   },
   {
    "duration": 13,
    "start_time": "2023-10-13T18:02:24.948Z"
   },
   {
    "duration": 9,
    "start_time": "2023-10-13T18:02:24.962Z"
   },
   {
    "duration": 11,
    "start_time": "2023-10-13T18:02:24.973Z"
   },
   {
    "duration": 20,
    "start_time": "2023-10-13T18:02:24.986Z"
   },
   {
    "duration": 186,
    "start_time": "2023-10-13T18:02:25.008Z"
   },
   {
    "duration": 358,
    "start_time": "2023-10-13T18:02:25.196Z"
   },
   {
    "duration": 17,
    "start_time": "2023-10-13T18:02:25.555Z"
   },
   {
    "duration": 61,
    "start_time": "2023-10-13T18:02:25.576Z"
   },
   {
    "duration": 40,
    "start_time": "2023-10-13T18:02:25.638Z"
   },
   {
    "duration": 46,
    "start_time": "2023-10-13T18:02:25.679Z"
   },
   {
    "duration": 32,
    "start_time": "2023-10-13T18:02:25.727Z"
   },
   {
    "duration": 31,
    "start_time": "2023-10-13T18:02:25.761Z"
   },
   {
    "duration": 15,
    "start_time": "2023-10-13T18:02:25.794Z"
   },
   {
    "duration": 30,
    "start_time": "2023-10-13T18:02:25.811Z"
   },
   {
    "duration": 20,
    "start_time": "2023-10-13T18:02:25.843Z"
   },
   {
    "duration": 30,
    "start_time": "2023-10-13T18:02:25.865Z"
   },
   {
    "duration": 7,
    "start_time": "2023-10-13T18:02:25.897Z"
   },
   {
    "duration": 46,
    "start_time": "2023-10-13T18:02:25.906Z"
   },
   {
    "duration": 40,
    "start_time": "2023-10-13T18:02:25.953Z"
   },
   {
    "duration": 467,
    "start_time": "2023-10-13T18:02:25.995Z"
   },
   {
    "duration": 11,
    "start_time": "2023-10-13T18:02:26.463Z"
   },
   {
    "duration": 245,
    "start_time": "2023-10-13T18:02:26.476Z"
   },
   {
    "duration": 0,
    "start_time": "2023-10-13T18:02:26.723Z"
   },
   {
    "duration": 0,
    "start_time": "2023-10-13T18:02:26.724Z"
   },
   {
    "duration": 0,
    "start_time": "2023-10-13T18:02:26.726Z"
   },
   {
    "duration": 0,
    "start_time": "2023-10-13T18:02:26.727Z"
   },
   {
    "duration": 0,
    "start_time": "2023-10-13T18:02:26.729Z"
   },
   {
    "duration": 0,
    "start_time": "2023-10-13T18:02:26.731Z"
   },
   {
    "duration": 0,
    "start_time": "2023-10-13T18:02:26.733Z"
   },
   {
    "duration": 0,
    "start_time": "2023-10-13T18:02:26.735Z"
   },
   {
    "duration": 1302,
    "start_time": "2023-10-13T18:02:48.332Z"
   },
   {
    "duration": 37,
    "start_time": "2023-10-13T18:02:49.636Z"
   },
   {
    "duration": 79,
    "start_time": "2023-10-13T18:02:49.675Z"
   },
   {
    "duration": 547,
    "start_time": "2023-10-13T18:02:49.756Z"
   },
   {
    "duration": 29,
    "start_time": "2023-10-13T18:02:50.305Z"
   },
   {
    "duration": 121,
    "start_time": "2023-10-13T18:02:50.335Z"
   },
   {
    "duration": 47,
    "start_time": "2023-10-13T18:02:50.458Z"
   },
   {
    "duration": 20,
    "start_time": "2023-10-13T18:02:50.506Z"
   },
   {
    "duration": 123,
    "start_time": "2023-10-13T18:02:50.528Z"
   },
   {
    "duration": 28,
    "start_time": "2023-10-13T18:02:50.654Z"
   },
   {
    "duration": 23,
    "start_time": "2023-10-13T18:02:50.684Z"
   },
   {
    "duration": 50,
    "start_time": "2023-10-13T18:02:50.709Z"
   },
   {
    "duration": 38,
    "start_time": "2023-10-13T18:02:50.761Z"
   },
   {
    "duration": 501,
    "start_time": "2023-10-13T18:02:50.801Z"
   },
   {
    "duration": 2,
    "start_time": "2023-10-13T18:02:51.304Z"
   },
   {
    "duration": 134,
    "start_time": "2023-10-13T18:02:51.308Z"
   },
   {
    "duration": 27,
    "start_time": "2023-10-13T18:02:51.444Z"
   },
   {
    "duration": 12,
    "start_time": "2023-10-13T18:02:51.473Z"
   },
   {
    "duration": 32,
    "start_time": "2023-10-13T18:02:51.486Z"
   },
   {
    "duration": 33,
    "start_time": "2023-10-13T18:02:51.519Z"
   },
   {
    "duration": 15,
    "start_time": "2023-10-13T18:02:51.554Z"
   },
   {
    "duration": 11,
    "start_time": "2023-10-13T18:02:51.571Z"
   },
   {
    "duration": 51,
    "start_time": "2023-10-13T18:02:51.583Z"
   },
   {
    "duration": 16,
    "start_time": "2023-10-13T18:02:51.636Z"
   },
   {
    "duration": 54,
    "start_time": "2023-10-13T18:02:51.655Z"
   },
   {
    "duration": 5,
    "start_time": "2023-10-13T18:02:51.710Z"
   },
   {
    "duration": 42,
    "start_time": "2023-10-13T18:02:51.717Z"
   },
   {
    "duration": 29,
    "start_time": "2023-10-13T18:02:51.762Z"
   },
   {
    "duration": 28,
    "start_time": "2023-10-13T18:02:51.793Z"
   },
   {
    "duration": 40,
    "start_time": "2023-10-13T18:02:51.823Z"
   },
   {
    "duration": 55,
    "start_time": "2023-10-13T18:02:51.865Z"
   },
   {
    "duration": 22,
    "start_time": "2023-10-13T18:02:51.922Z"
   },
   {
    "duration": 52,
    "start_time": "2023-10-13T18:02:51.946Z"
   },
   {
    "duration": 28,
    "start_time": "2023-10-13T18:02:52.000Z"
   },
   {
    "duration": 30,
    "start_time": "2023-10-13T18:02:52.030Z"
   },
   {
    "duration": 13,
    "start_time": "2023-10-13T18:02:52.062Z"
   },
   {
    "duration": 14,
    "start_time": "2023-10-13T18:02:52.076Z"
   },
   {
    "duration": 175,
    "start_time": "2023-10-13T18:02:52.092Z"
   },
   {
    "duration": 354,
    "start_time": "2023-10-13T18:02:52.269Z"
   },
   {
    "duration": 17,
    "start_time": "2023-10-13T18:02:52.625Z"
   },
   {
    "duration": 19,
    "start_time": "2023-10-13T18:02:52.644Z"
   },
   {
    "duration": 30,
    "start_time": "2023-10-13T18:02:52.665Z"
   },
   {
    "duration": 29,
    "start_time": "2023-10-13T18:02:52.697Z"
   },
   {
    "duration": 67,
    "start_time": "2023-10-13T18:02:52.728Z"
   },
   {
    "duration": 15,
    "start_time": "2023-10-13T18:02:52.797Z"
   },
   {
    "duration": 21,
    "start_time": "2023-10-13T18:02:52.813Z"
   },
   {
    "duration": 25,
    "start_time": "2023-10-13T18:02:52.836Z"
   },
   {
    "duration": 13,
    "start_time": "2023-10-13T18:02:52.863Z"
   },
   {
    "duration": 50,
    "start_time": "2023-10-13T18:02:52.878Z"
   },
   {
    "duration": 4,
    "start_time": "2023-10-13T18:02:52.930Z"
   },
   {
    "duration": 29,
    "start_time": "2023-10-13T18:02:52.935Z"
   },
   {
    "duration": 57,
    "start_time": "2023-10-13T18:02:52.965Z"
   },
   {
    "duration": 419,
    "start_time": "2023-10-13T18:02:53.023Z"
   },
   {
    "duration": 11,
    "start_time": "2023-10-13T18:02:53.444Z"
   },
   {
    "duration": 138,
    "start_time": "2023-10-13T18:02:53.457Z"
   },
   {
    "duration": 251,
    "start_time": "2023-10-13T18:02:53.597Z"
   },
   {
    "duration": 165,
    "start_time": "2023-10-13T18:02:53.850Z"
   },
   {
    "duration": 0,
    "start_time": "2023-10-13T18:02:54.016Z"
   },
   {
    "duration": 0,
    "start_time": "2023-10-13T18:02:54.018Z"
   },
   {
    "duration": 0,
    "start_time": "2023-10-13T18:02:54.019Z"
   },
   {
    "duration": 0,
    "start_time": "2023-10-13T18:02:54.020Z"
   },
   {
    "duration": 0,
    "start_time": "2023-10-13T18:02:54.021Z"
   },
   {
    "duration": 112,
    "start_time": "2023-10-13T18:09:01.281Z"
   },
   {
    "duration": 19,
    "start_time": "2023-10-13T18:09:12.590Z"
   },
   {
    "duration": 58,
    "start_time": "2023-10-13T18:09:15.289Z"
   },
   {
    "duration": 30,
    "start_time": "2023-10-13T18:28:28.556Z"
   },
   {
    "duration": 24,
    "start_time": "2023-10-13T18:31:15.275Z"
   },
   {
    "duration": 22,
    "start_time": "2023-10-13T18:31:32.906Z"
   },
   {
    "duration": 4,
    "start_time": "2023-10-13T18:37:22.514Z"
   },
   {
    "duration": 4,
    "start_time": "2023-10-13T18:40:03.131Z"
   },
   {
    "duration": 4,
    "start_time": "2023-10-13T18:40:23.167Z"
   },
   {
    "duration": 4,
    "start_time": "2023-10-13T18:40:32.698Z"
   },
   {
    "duration": 4,
    "start_time": "2023-10-13T18:40:36.711Z"
   },
   {
    "duration": 4,
    "start_time": "2023-10-13T18:42:12.680Z"
   },
   {
    "duration": 5,
    "start_time": "2023-10-13T18:42:24.635Z"
   },
   {
    "duration": 5,
    "start_time": "2023-10-13T18:42:34.024Z"
   },
   {
    "duration": 4,
    "start_time": "2023-10-13T18:42:43.761Z"
   },
   {
    "duration": 5,
    "start_time": "2023-10-13T18:42:52.081Z"
   },
   {
    "duration": 3,
    "start_time": "2023-10-13T18:43:08.175Z"
   },
   {
    "duration": 3,
    "start_time": "2023-10-13T18:43:40.888Z"
   },
   {
    "duration": 5,
    "start_time": "2023-10-13T18:45:14.300Z"
   },
   {
    "duration": 5,
    "start_time": "2023-10-13T18:45:34.491Z"
   },
   {
    "duration": 133,
    "start_time": "2023-10-13T18:46:56.668Z"
   },
   {
    "duration": 5,
    "start_time": "2023-10-13T18:47:35.919Z"
   },
   {
    "duration": 5,
    "start_time": "2023-10-13T19:41:17.906Z"
   },
   {
    "duration": 6,
    "start_time": "2023-10-13T20:00:39.254Z"
   },
   {
    "duration": 14,
    "start_time": "2023-10-13T20:00:41.744Z"
   },
   {
    "duration": 18,
    "start_time": "2023-10-13T20:01:02.632Z"
   },
   {
    "duration": 3,
    "start_time": "2023-10-13T20:03:52.636Z"
   },
   {
    "duration": 5,
    "start_time": "2023-10-13T20:04:01.286Z"
   },
   {
    "duration": 1311,
    "start_time": "2023-10-13T20:05:03.451Z"
   },
   {
    "duration": 38,
    "start_time": "2023-10-13T20:05:04.764Z"
   },
   {
    "duration": 151,
    "start_time": "2023-10-13T20:05:04.804Z"
   },
   {
    "duration": 538,
    "start_time": "2023-10-13T20:05:04.958Z"
   },
   {
    "duration": 30,
    "start_time": "2023-10-13T20:05:05.497Z"
   },
   {
    "duration": 28,
    "start_time": "2023-10-13T20:05:05.529Z"
   },
   {
    "duration": 47,
    "start_time": "2023-10-13T20:05:05.559Z"
   },
   {
    "duration": 37,
    "start_time": "2023-10-13T20:05:05.608Z"
   },
   {
    "duration": 101,
    "start_time": "2023-10-13T20:05:05.647Z"
   },
   {
    "duration": 26,
    "start_time": "2023-10-13T20:05:05.750Z"
   },
   {
    "duration": 24,
    "start_time": "2023-10-13T20:05:05.778Z"
   },
   {
    "duration": 102,
    "start_time": "2023-10-13T20:05:05.804Z"
   },
   {
    "duration": 36,
    "start_time": "2023-10-13T20:05:05.908Z"
   },
   {
    "duration": 481,
    "start_time": "2023-10-13T20:05:05.946Z"
   },
   {
    "duration": 3,
    "start_time": "2023-10-13T20:05:06.429Z"
   },
   {
    "duration": 147,
    "start_time": "2023-10-13T20:05:06.433Z"
   },
   {
    "duration": 32,
    "start_time": "2023-10-13T20:05:06.582Z"
   },
   {
    "duration": 5,
    "start_time": "2023-10-13T20:05:06.616Z"
   },
   {
    "duration": 20,
    "start_time": "2023-10-13T20:05:06.623Z"
   },
   {
    "duration": 31,
    "start_time": "2023-10-13T20:05:06.645Z"
   },
   {
    "duration": 30,
    "start_time": "2023-10-13T20:05:06.678Z"
   },
   {
    "duration": 9,
    "start_time": "2023-10-13T20:05:06.709Z"
   },
   {
    "duration": 24,
    "start_time": "2023-10-13T20:05:06.719Z"
   },
   {
    "duration": 13,
    "start_time": "2023-10-13T20:05:06.745Z"
   },
   {
    "duration": 57,
    "start_time": "2023-10-13T20:05:06.760Z"
   },
   {
    "duration": 5,
    "start_time": "2023-10-13T20:05:06.820Z"
   },
   {
    "duration": 12,
    "start_time": "2023-10-13T20:05:06.827Z"
   },
   {
    "duration": 18,
    "start_time": "2023-10-13T20:05:06.844Z"
   },
   {
    "duration": 16,
    "start_time": "2023-10-13T20:05:06.864Z"
   },
   {
    "duration": 57,
    "start_time": "2023-10-13T20:05:06.882Z"
   },
   {
    "duration": 37,
    "start_time": "2023-10-13T20:05:06.940Z"
   },
   {
    "duration": 14,
    "start_time": "2023-10-13T20:05:06.979Z"
   },
   {
    "duration": 27,
    "start_time": "2023-10-13T20:05:06.995Z"
   },
   {
    "duration": 12,
    "start_time": "2023-10-13T20:05:07.024Z"
   },
   {
    "duration": 19,
    "start_time": "2023-10-13T20:05:07.038Z"
   },
   {
    "duration": 20,
    "start_time": "2023-10-13T20:05:07.058Z"
   },
   {
    "duration": 19,
    "start_time": "2023-10-13T20:05:07.079Z"
   },
   {
    "duration": 179,
    "start_time": "2023-10-13T20:05:07.099Z"
   },
   {
    "duration": 351,
    "start_time": "2023-10-13T20:05:07.279Z"
   },
   {
    "duration": 16,
    "start_time": "2023-10-13T20:05:07.631Z"
   },
   {
    "duration": 5,
    "start_time": "2023-10-13T20:05:07.649Z"
   },
   {
    "duration": 40,
    "start_time": "2023-10-13T20:05:07.655Z"
   },
   {
    "duration": 24,
    "start_time": "2023-10-13T20:05:07.700Z"
   },
   {
    "duration": 10,
    "start_time": "2023-10-13T20:05:07.726Z"
   },
   {
    "duration": 23,
    "start_time": "2023-10-13T20:05:07.738Z"
   },
   {
    "duration": 4,
    "start_time": "2023-10-13T20:05:07.763Z"
   },
   {
    "duration": 14,
    "start_time": "2023-10-13T20:05:07.768Z"
   },
   {
    "duration": 20,
    "start_time": "2023-10-13T20:05:07.784Z"
   },
   {
    "duration": 21,
    "start_time": "2023-10-13T20:05:07.806Z"
   },
   {
    "duration": 3,
    "start_time": "2023-10-13T20:05:07.828Z"
   },
   {
    "duration": 22,
    "start_time": "2023-10-13T20:05:07.833Z"
   },
   {
    "duration": 76,
    "start_time": "2023-10-13T20:05:07.857Z"
   },
   {
    "duration": 362,
    "start_time": "2023-10-13T20:05:07.935Z"
   },
   {
    "duration": 12,
    "start_time": "2023-10-13T20:05:08.300Z"
   },
   {
    "duration": 99,
    "start_time": "2023-10-13T20:05:08.313Z"
   },
   {
    "duration": 62,
    "start_time": "2023-10-13T20:05:08.414Z"
   },
   {
    "duration": 39,
    "start_time": "2023-10-13T20:05:08.478Z"
   },
   {
    "duration": 143,
    "start_time": "2023-10-13T20:05:08.519Z"
   },
   {
    "duration": 171,
    "start_time": "2023-10-13T20:05:08.664Z"
   },
   {
    "duration": 0,
    "start_time": "2023-10-13T20:05:08.837Z"
   },
   {
    "duration": 0,
    "start_time": "2023-10-13T20:05:08.839Z"
   },
   {
    "duration": 0,
    "start_time": "2023-10-13T20:05:08.841Z"
   },
   {
    "duration": 0,
    "start_time": "2023-10-13T20:05:08.842Z"
   },
   {
    "duration": 0,
    "start_time": "2023-10-13T20:05:08.843Z"
   },
   {
    "duration": 0,
    "start_time": "2023-10-13T20:05:08.845Z"
   },
   {
    "duration": 0,
    "start_time": "2023-10-13T20:05:08.847Z"
   },
   {
    "duration": 0,
    "start_time": "2023-10-13T20:05:08.848Z"
   },
   {
    "duration": 0,
    "start_time": "2023-10-13T20:05:08.849Z"
   },
   {
    "duration": 0,
    "start_time": "2023-10-13T20:05:08.851Z"
   },
   {
    "duration": 0,
    "start_time": "2023-10-13T20:05:08.852Z"
   },
   {
    "duration": 1272,
    "start_time": "2023-10-13T20:05:36.163Z"
   },
   {
    "duration": 37,
    "start_time": "2023-10-13T20:05:37.437Z"
   },
   {
    "duration": 77,
    "start_time": "2023-10-13T20:05:37.475Z"
   },
   {
    "duration": 538,
    "start_time": "2023-10-13T20:05:37.553Z"
   },
   {
    "duration": 30,
    "start_time": "2023-10-13T20:05:38.093Z"
   },
   {
    "duration": 96,
    "start_time": "2023-10-13T20:05:38.124Z"
   },
   {
    "duration": 68,
    "start_time": "2023-10-13T20:05:38.222Z"
   },
   {
    "duration": 32,
    "start_time": "2023-10-13T20:05:38.292Z"
   },
   {
    "duration": 84,
    "start_time": "2023-10-13T20:05:38.326Z"
   },
   {
    "duration": 29,
    "start_time": "2023-10-13T20:05:38.412Z"
   },
   {
    "duration": 8,
    "start_time": "2023-10-13T20:05:38.443Z"
   },
   {
    "duration": 20,
    "start_time": "2023-10-13T20:05:38.453Z"
   },
   {
    "duration": 57,
    "start_time": "2023-10-13T20:05:38.475Z"
   },
   {
    "duration": 465,
    "start_time": "2023-10-13T20:05:38.536Z"
   },
   {
    "duration": 3,
    "start_time": "2023-10-13T20:05:39.003Z"
   },
   {
    "duration": 131,
    "start_time": "2023-10-13T20:05:39.008Z"
   },
   {
    "duration": 31,
    "start_time": "2023-10-13T20:05:39.141Z"
   },
   {
    "duration": 29,
    "start_time": "2023-10-13T20:05:39.174Z"
   },
   {
    "duration": 19,
    "start_time": "2023-10-13T20:05:39.205Z"
   },
   {
    "duration": 20,
    "start_time": "2023-10-13T20:05:39.226Z"
   },
   {
    "duration": 15,
    "start_time": "2023-10-13T20:05:39.247Z"
   },
   {
    "duration": 9,
    "start_time": "2023-10-13T20:05:39.263Z"
   },
   {
    "duration": 32,
    "start_time": "2023-10-13T20:05:39.274Z"
   },
   {
    "duration": 6,
    "start_time": "2023-10-13T20:05:39.308Z"
   },
   {
    "duration": 48,
    "start_time": "2023-10-13T20:05:39.315Z"
   },
   {
    "duration": 5,
    "start_time": "2023-10-13T20:05:39.365Z"
   },
   {
    "duration": 14,
    "start_time": "2023-10-13T20:05:39.371Z"
   },
   {
    "duration": 26,
    "start_time": "2023-10-13T20:05:39.386Z"
   },
   {
    "duration": 17,
    "start_time": "2023-10-13T20:05:39.414Z"
   },
   {
    "duration": 21,
    "start_time": "2023-10-13T20:05:39.433Z"
   },
   {
    "duration": 33,
    "start_time": "2023-10-13T20:05:39.456Z"
   },
   {
    "duration": 24,
    "start_time": "2023-10-13T20:05:39.490Z"
   },
   {
    "duration": 29,
    "start_time": "2023-10-13T20:05:39.516Z"
   },
   {
    "duration": 12,
    "start_time": "2023-10-13T20:05:39.547Z"
   },
   {
    "duration": 6,
    "start_time": "2023-10-13T20:05:39.561Z"
   },
   {
    "duration": 29,
    "start_time": "2023-10-13T20:05:39.569Z"
   },
   {
    "duration": 9,
    "start_time": "2023-10-13T20:05:39.600Z"
   },
   {
    "duration": 170,
    "start_time": "2023-10-13T20:05:39.611Z"
   },
   {
    "duration": 348,
    "start_time": "2023-10-13T20:05:39.783Z"
   },
   {
    "duration": 17,
    "start_time": "2023-10-13T20:05:40.133Z"
   },
   {
    "duration": 5,
    "start_time": "2023-10-13T20:05:40.156Z"
   },
   {
    "duration": 47,
    "start_time": "2023-10-13T20:05:40.163Z"
   },
   {
    "duration": 13,
    "start_time": "2023-10-13T20:05:40.212Z"
   },
   {
    "duration": 37,
    "start_time": "2023-10-13T20:05:40.227Z"
   },
   {
    "duration": 21,
    "start_time": "2023-10-13T20:05:40.266Z"
   },
   {
    "duration": 24,
    "start_time": "2023-10-13T20:05:40.289Z"
   },
   {
    "duration": 15,
    "start_time": "2023-10-13T20:05:40.315Z"
   },
   {
    "duration": 29,
    "start_time": "2023-10-13T20:05:40.332Z"
   },
   {
    "duration": 103,
    "start_time": "2023-10-13T20:05:40.363Z"
   },
   {
    "duration": 407,
    "start_time": "2023-10-13T20:05:40.468Z"
   },
   {
    "duration": 351,
    "start_time": "2023-10-13T20:05:40.877Z"
   },
   {
    "duration": 36,
    "start_time": "2023-10-13T20:05:41.230Z"
   },
   {
    "duration": 386,
    "start_time": "2023-10-13T20:05:41.268Z"
   },
   {
    "duration": 10,
    "start_time": "2023-10-13T20:05:41.656Z"
   },
   {
    "duration": 42,
    "start_time": "2023-10-13T20:05:41.668Z"
   },
   {
    "duration": 120,
    "start_time": "2023-10-13T20:05:41.712Z"
   },
   {
    "duration": 24,
    "start_time": "2023-10-13T20:05:41.834Z"
   },
   {
    "duration": 81,
    "start_time": "2023-10-13T20:05:41.860Z"
   },
   {
    "duration": 6,
    "start_time": "2023-10-13T20:05:41.942Z"
   },
   {
    "duration": 25,
    "start_time": "2023-10-13T20:05:41.949Z"
   },
   {
    "duration": 9,
    "start_time": "2023-10-13T20:05:41.976Z"
   },
   {
    "duration": 172,
    "start_time": "2023-10-13T20:05:41.987Z"
   },
   {
    "duration": 0,
    "start_time": "2023-10-13T20:05:42.160Z"
   },
   {
    "duration": 0,
    "start_time": "2023-10-13T20:05:42.161Z"
   },
   {
    "duration": 0,
    "start_time": "2023-10-13T20:05:42.163Z"
   },
   {
    "duration": 0,
    "start_time": "2023-10-13T20:05:42.164Z"
   },
   {
    "duration": 0,
    "start_time": "2023-10-13T20:05:42.165Z"
   },
   {
    "duration": 0,
    "start_time": "2023-10-13T20:05:42.166Z"
   },
   {
    "duration": 0,
    "start_time": "2023-10-13T20:05:42.167Z"
   },
   {
    "duration": 1369,
    "start_time": "2023-10-13T20:06:03.504Z"
   },
   {
    "duration": 39,
    "start_time": "2023-10-13T20:06:04.875Z"
   },
   {
    "duration": 81,
    "start_time": "2023-10-13T20:06:04.916Z"
   },
   {
    "duration": 534,
    "start_time": "2023-10-13T20:06:04.999Z"
   },
   {
    "duration": 71,
    "start_time": "2023-10-13T20:06:05.534Z"
   },
   {
    "duration": 5,
    "start_time": "2023-10-13T20:06:05.607Z"
   },
   {
    "duration": 25,
    "start_time": "2023-10-13T20:06:05.613Z"
   },
   {
    "duration": 65,
    "start_time": "2023-10-13T20:06:05.640Z"
   },
   {
    "duration": 128,
    "start_time": "2023-10-13T20:06:05.707Z"
   },
   {
    "duration": 87,
    "start_time": "2023-10-13T20:06:05.838Z"
   },
   {
    "duration": 9,
    "start_time": "2023-10-13T20:06:05.927Z"
   },
   {
    "duration": 66,
    "start_time": "2023-10-13T20:06:05.938Z"
   },
   {
    "duration": 20,
    "start_time": "2023-10-13T20:06:06.005Z"
   },
   {
    "duration": 911,
    "start_time": "2023-10-13T20:06:06.026Z"
   },
   {
    "duration": 3,
    "start_time": "2023-10-13T20:06:06.939Z"
   },
   {
    "duration": 262,
    "start_time": "2023-10-13T20:06:06.943Z"
   },
   {
    "duration": 27,
    "start_time": "2023-10-13T20:06:07.207Z"
   },
   {
    "duration": 6,
    "start_time": "2023-10-13T20:06:07.236Z"
   },
   {
    "duration": 81,
    "start_time": "2023-10-13T20:06:07.243Z"
   },
   {
    "duration": 14,
    "start_time": "2023-10-13T20:06:07.325Z"
   },
   {
    "duration": 70,
    "start_time": "2023-10-13T20:06:07.341Z"
   },
   {
    "duration": 19,
    "start_time": "2023-10-13T20:06:07.413Z"
   },
   {
    "duration": 24,
    "start_time": "2023-10-13T20:06:07.434Z"
   },
   {
    "duration": 15,
    "start_time": "2023-10-13T20:06:07.459Z"
   },
   {
    "duration": 61,
    "start_time": "2023-10-13T20:06:07.475Z"
   },
   {
    "duration": 4,
    "start_time": "2023-10-13T20:06:07.538Z"
   },
   {
    "duration": 25,
    "start_time": "2023-10-13T20:06:07.544Z"
   },
   {
    "duration": 31,
    "start_time": "2023-10-13T20:06:07.573Z"
   },
   {
    "duration": 25,
    "start_time": "2023-10-13T20:06:07.606Z"
   },
   {
    "duration": 23,
    "start_time": "2023-10-13T20:06:07.633Z"
   },
   {
    "duration": 60,
    "start_time": "2023-10-13T20:06:07.658Z"
   },
   {
    "duration": 13,
    "start_time": "2023-10-13T20:06:07.720Z"
   },
   {
    "duration": 26,
    "start_time": "2023-10-13T20:06:07.735Z"
   },
   {
    "duration": 12,
    "start_time": "2023-10-13T20:06:07.762Z"
   },
   {
    "duration": 29,
    "start_time": "2023-10-13T20:06:07.776Z"
   },
   {
    "duration": 8,
    "start_time": "2023-10-13T20:06:07.807Z"
   },
   {
    "duration": 18,
    "start_time": "2023-10-13T20:06:07.816Z"
   },
   {
    "duration": 173,
    "start_time": "2023-10-13T20:06:07.836Z"
   },
   {
    "duration": 364,
    "start_time": "2023-10-13T20:06:08.011Z"
   },
   {
    "duration": 24,
    "start_time": "2023-10-13T20:06:08.377Z"
   },
   {
    "duration": 24,
    "start_time": "2023-10-13T20:06:08.403Z"
   },
   {
    "duration": 39,
    "start_time": "2023-10-13T20:06:08.428Z"
   },
   {
    "duration": 14,
    "start_time": "2023-10-13T20:06:08.469Z"
   },
   {
    "duration": 24,
    "start_time": "2023-10-13T20:06:08.485Z"
   },
   {
    "duration": 22,
    "start_time": "2023-10-13T20:06:08.511Z"
   },
   {
    "duration": 9,
    "start_time": "2023-10-13T20:06:08.534Z"
   },
   {
    "duration": 27,
    "start_time": "2023-10-13T20:06:08.545Z"
   },
   {
    "duration": 21,
    "start_time": "2023-10-13T20:06:08.574Z"
   },
   {
    "duration": 32,
    "start_time": "2023-10-13T20:06:08.597Z"
   },
   {
    "duration": 4,
    "start_time": "2023-10-13T20:06:08.632Z"
   },
   {
    "duration": 49,
    "start_time": "2023-10-13T20:06:08.637Z"
   },
   {
    "duration": 49,
    "start_time": "2023-10-13T20:06:08.688Z"
   },
   {
    "duration": 378,
    "start_time": "2023-10-13T20:06:08.739Z"
   },
   {
    "duration": 14,
    "start_time": "2023-10-13T20:06:09.119Z"
   },
   {
    "duration": 21,
    "start_time": "2023-10-13T20:06:09.135Z"
   },
   {
    "duration": 157,
    "start_time": "2023-10-13T20:06:09.158Z"
   },
   {
    "duration": 23,
    "start_time": "2023-10-13T20:06:09.317Z"
   },
   {
    "duration": 152,
    "start_time": "2023-10-13T20:06:09.341Z"
   },
   {
    "duration": 14,
    "start_time": "2023-10-13T20:06:09.495Z"
   },
   {
    "duration": 24,
    "start_time": "2023-10-13T20:06:09.511Z"
   },
   {
    "duration": 45,
    "start_time": "2023-10-13T20:06:09.537Z"
   },
   {
    "duration": 41,
    "start_time": "2023-10-13T20:06:09.583Z"
   },
   {
    "duration": 198,
    "start_time": "2023-10-13T20:06:09.626Z"
   },
   {
    "duration": 0,
    "start_time": "2023-10-13T20:06:09.826Z"
   },
   {
    "duration": 0,
    "start_time": "2023-10-13T20:06:09.827Z"
   },
   {
    "duration": 0,
    "start_time": "2023-10-13T20:06:09.828Z"
   },
   {
    "duration": 0,
    "start_time": "2023-10-13T20:06:09.830Z"
   },
   {
    "duration": 0,
    "start_time": "2023-10-13T20:06:09.831Z"
   },
   {
    "duration": 1342,
    "start_time": "2023-10-13T20:10:17.788Z"
   },
   {
    "duration": 37,
    "start_time": "2023-10-13T20:10:19.132Z"
   },
   {
    "duration": 77,
    "start_time": "2023-10-13T20:10:19.172Z"
   },
   {
    "duration": 524,
    "start_time": "2023-10-13T20:10:19.251Z"
   },
   {
    "duration": 31,
    "start_time": "2023-10-13T20:10:19.777Z"
   },
   {
    "duration": 5,
    "start_time": "2023-10-13T20:10:19.809Z"
   },
   {
    "duration": 23,
    "start_time": "2023-10-13T20:10:19.816Z"
   },
   {
    "duration": 12,
    "start_time": "2023-10-13T20:10:19.841Z"
   },
   {
    "duration": 100,
    "start_time": "2023-10-13T20:10:19.855Z"
   },
   {
    "duration": 27,
    "start_time": "2023-10-13T20:10:19.957Z"
   },
   {
    "duration": 7,
    "start_time": "2023-10-13T20:10:20.001Z"
   },
   {
    "duration": 54,
    "start_time": "2023-10-13T20:10:20.010Z"
   },
   {
    "duration": 48,
    "start_time": "2023-10-13T20:10:20.067Z"
   },
   {
    "duration": 478,
    "start_time": "2023-10-13T20:10:20.117Z"
   },
   {
    "duration": 3,
    "start_time": "2023-10-13T20:10:20.601Z"
   },
   {
    "duration": 143,
    "start_time": "2023-10-13T20:10:20.605Z"
   },
   {
    "duration": 30,
    "start_time": "2023-10-13T20:10:20.750Z"
   },
   {
    "duration": 5,
    "start_time": "2023-10-13T20:10:20.801Z"
   },
   {
    "duration": 40,
    "start_time": "2023-10-13T20:10:20.807Z"
   },
   {
    "duration": 24,
    "start_time": "2023-10-13T20:10:20.849Z"
   },
   {
    "duration": 29,
    "start_time": "2023-10-13T20:10:20.875Z"
   },
   {
    "duration": 12,
    "start_time": "2023-10-13T20:10:20.906Z"
   },
   {
    "duration": 52,
    "start_time": "2023-10-13T20:10:20.919Z"
   },
   {
    "duration": 25,
    "start_time": "2023-10-13T20:10:20.973Z"
   },
   {
    "duration": 41,
    "start_time": "2023-10-13T20:10:20.999Z"
   },
   {
    "duration": 5,
    "start_time": "2023-10-13T20:10:21.042Z"
   },
   {
    "duration": 21,
    "start_time": "2023-10-13T20:10:21.049Z"
   },
   {
    "duration": 13,
    "start_time": "2023-10-13T20:10:21.071Z"
   },
   {
    "duration": 38,
    "start_time": "2023-10-13T20:10:21.085Z"
   },
   {
    "duration": 18,
    "start_time": "2023-10-13T20:10:21.126Z"
   },
   {
    "duration": 50,
    "start_time": "2023-10-13T20:10:21.146Z"
   },
   {
    "duration": 25,
    "start_time": "2023-10-13T20:10:21.198Z"
   },
   {
    "duration": 36,
    "start_time": "2023-10-13T20:10:21.225Z"
   },
   {
    "duration": 14,
    "start_time": "2023-10-13T20:10:21.262Z"
   },
   {
    "duration": 23,
    "start_time": "2023-10-13T20:10:21.278Z"
   },
   {
    "duration": 37,
    "start_time": "2023-10-13T20:10:21.303Z"
   },
   {
    "duration": 33,
    "start_time": "2023-10-13T20:10:21.342Z"
   },
   {
    "duration": 161,
    "start_time": "2023-10-13T20:10:21.377Z"
   },
   {
    "duration": 354,
    "start_time": "2023-10-13T20:10:21.541Z"
   },
   {
    "duration": 20,
    "start_time": "2023-10-13T20:10:21.901Z"
   },
   {
    "duration": 18,
    "start_time": "2023-10-13T20:10:21.923Z"
   },
   {
    "duration": 40,
    "start_time": "2023-10-13T20:10:21.943Z"
   },
   {
    "duration": 16,
    "start_time": "2023-10-13T20:10:21.985Z"
   },
   {
    "duration": 11,
    "start_time": "2023-10-13T20:10:22.003Z"
   },
   {
    "duration": 10,
    "start_time": "2023-10-13T20:10:22.016Z"
   },
   {
    "duration": 41,
    "start_time": "2023-10-13T20:10:22.028Z"
   },
   {
    "duration": 42,
    "start_time": "2023-10-13T20:10:22.071Z"
   },
   {
    "duration": 40,
    "start_time": "2023-10-13T20:10:22.115Z"
   },
   {
    "duration": 23,
    "start_time": "2023-10-13T20:10:22.157Z"
   },
   {
    "duration": 4,
    "start_time": "2023-10-13T20:10:22.182Z"
   },
   {
    "duration": 22,
    "start_time": "2023-10-13T20:10:22.188Z"
   },
   {
    "duration": 46,
    "start_time": "2023-10-13T20:10:22.211Z"
   },
   {
    "duration": 394,
    "start_time": "2023-10-13T20:10:22.259Z"
   },
   {
    "duration": 10,
    "start_time": "2023-10-13T20:10:22.655Z"
   },
   {
    "duration": 42,
    "start_time": "2023-10-13T20:10:22.667Z"
   },
   {
    "duration": 422,
    "start_time": "2023-10-13T20:10:22.711Z"
   },
   {
    "duration": 24,
    "start_time": "2023-10-13T20:10:23.135Z"
   },
   {
    "duration": 65,
    "start_time": "2023-10-13T20:10:23.161Z"
   },
   {
    "duration": 4,
    "start_time": "2023-10-13T20:10:23.228Z"
   },
   {
    "duration": 14,
    "start_time": "2023-10-13T20:10:23.234Z"
   },
   {
    "duration": 15,
    "start_time": "2023-10-13T20:10:23.250Z"
   },
   {
    "duration": 16,
    "start_time": "2023-10-13T20:10:23.267Z"
   },
   {
    "duration": 178,
    "start_time": "2023-10-13T20:10:23.285Z"
   },
   {
    "duration": 0,
    "start_time": "2023-10-13T20:10:23.465Z"
   },
   {
    "duration": 0,
    "start_time": "2023-10-13T20:10:23.466Z"
   },
   {
    "duration": 0,
    "start_time": "2023-10-13T20:10:23.467Z"
   },
   {
    "duration": 0,
    "start_time": "2023-10-13T20:10:23.469Z"
   },
   {
    "duration": 0,
    "start_time": "2023-10-13T20:10:23.470Z"
   },
   {
    "duration": 7,
    "start_time": "2023-10-13T20:13:24.211Z"
   },
   {
    "duration": 106,
    "start_time": "2023-10-13T20:15:59.796Z"
   },
   {
    "duration": 5,
    "start_time": "2023-10-13T20:16:32.631Z"
   },
   {
    "duration": 17,
    "start_time": "2023-10-13T20:16:33.930Z"
   },
   {
    "duration": 1291,
    "start_time": "2023-10-13T20:18:18.348Z"
   },
   {
    "duration": 36,
    "start_time": "2023-10-13T20:18:19.642Z"
   },
   {
    "duration": 79,
    "start_time": "2023-10-13T20:18:19.680Z"
   },
   {
    "duration": 534,
    "start_time": "2023-10-13T20:18:19.761Z"
   },
   {
    "duration": 33,
    "start_time": "2023-10-13T20:18:20.300Z"
   },
   {
    "duration": 5,
    "start_time": "2023-10-13T20:18:20.335Z"
   },
   {
    "duration": 36,
    "start_time": "2023-10-13T20:18:20.341Z"
   },
   {
    "duration": 27,
    "start_time": "2023-10-13T20:18:20.378Z"
   },
   {
    "duration": 117,
    "start_time": "2023-10-13T20:18:20.407Z"
   },
   {
    "duration": 31,
    "start_time": "2023-10-13T20:18:20.526Z"
   },
   {
    "duration": 8,
    "start_time": "2023-10-13T20:18:20.560Z"
   },
   {
    "duration": 29,
    "start_time": "2023-10-13T20:18:20.569Z"
   },
   {
    "duration": 37,
    "start_time": "2023-10-13T20:18:20.600Z"
   },
   {
    "duration": 460,
    "start_time": "2023-10-13T20:18:20.640Z"
   },
   {
    "duration": 3,
    "start_time": "2023-10-13T20:18:21.101Z"
   },
   {
    "duration": 170,
    "start_time": "2023-10-13T20:18:21.106Z"
   },
   {
    "duration": 37,
    "start_time": "2023-10-13T20:18:21.277Z"
   },
   {
    "duration": 5,
    "start_time": "2023-10-13T20:18:21.315Z"
   },
   {
    "duration": 17,
    "start_time": "2023-10-13T20:18:21.322Z"
   },
   {
    "duration": 19,
    "start_time": "2023-10-13T20:18:21.341Z"
   },
   {
    "duration": 31,
    "start_time": "2023-10-13T20:18:21.361Z"
   },
   {
    "duration": 27,
    "start_time": "2023-10-13T20:18:21.394Z"
   },
   {
    "duration": 22,
    "start_time": "2023-10-13T20:18:21.422Z"
   },
   {
    "duration": 14,
    "start_time": "2023-10-13T20:18:21.446Z"
   },
   {
    "duration": 39,
    "start_time": "2023-10-13T20:18:21.462Z"
   },
   {
    "duration": 4,
    "start_time": "2023-10-13T20:18:21.503Z"
   },
   {
    "duration": 8,
    "start_time": "2023-10-13T20:18:21.509Z"
   },
   {
    "duration": 5,
    "start_time": "2023-10-13T20:18:21.519Z"
   },
   {
    "duration": 13,
    "start_time": "2023-10-13T20:18:21.526Z"
   },
   {
    "duration": 12,
    "start_time": "2023-10-13T20:18:21.540Z"
   },
   {
    "duration": 57,
    "start_time": "2023-10-13T20:18:21.553Z"
   },
   {
    "duration": 37,
    "start_time": "2023-10-13T20:18:21.612Z"
   },
   {
    "duration": 30,
    "start_time": "2023-10-13T20:18:21.650Z"
   },
   {
    "duration": 13,
    "start_time": "2023-10-13T20:18:21.681Z"
   },
   {
    "duration": 11,
    "start_time": "2023-10-13T20:18:21.696Z"
   },
   {
    "duration": 16,
    "start_time": "2023-10-13T20:18:21.710Z"
   },
   {
    "duration": 30,
    "start_time": "2023-10-13T20:18:21.728Z"
   },
   {
    "duration": 160,
    "start_time": "2023-10-13T20:18:21.759Z"
   },
   {
    "duration": 360,
    "start_time": "2023-10-13T20:18:21.921Z"
   },
   {
    "duration": 21,
    "start_time": "2023-10-13T20:18:22.283Z"
   },
   {
    "duration": 8,
    "start_time": "2023-10-13T20:18:22.308Z"
   },
   {
    "duration": 25,
    "start_time": "2023-10-13T20:18:22.318Z"
   },
   {
    "duration": 12,
    "start_time": "2023-10-13T20:18:22.345Z"
   },
   {
    "duration": 10,
    "start_time": "2023-10-13T20:18:22.358Z"
   },
   {
    "duration": 38,
    "start_time": "2023-10-13T20:18:22.370Z"
   },
   {
    "duration": 5,
    "start_time": "2023-10-13T20:18:22.411Z"
   },
   {
    "duration": 30,
    "start_time": "2023-10-13T20:18:22.417Z"
   },
   {
    "duration": 12,
    "start_time": "2023-10-13T20:18:22.448Z"
   },
   {
    "duration": 28,
    "start_time": "2023-10-13T20:18:22.461Z"
   },
   {
    "duration": 11,
    "start_time": "2023-10-13T20:18:22.491Z"
   },
   {
    "duration": 53,
    "start_time": "2023-10-13T20:18:22.503Z"
   },
   {
    "duration": 36,
    "start_time": "2023-10-13T20:18:22.558Z"
   },
   {
    "duration": 607,
    "start_time": "2023-10-13T20:18:22.597Z"
   },
   {
    "duration": 11,
    "start_time": "2023-10-13T20:18:23.206Z"
   },
   {
    "duration": 24,
    "start_time": "2023-10-13T20:18:23.218Z"
   },
   {
    "duration": 162,
    "start_time": "2023-10-13T20:18:23.244Z"
   },
   {
    "duration": 23,
    "start_time": "2023-10-13T20:18:23.408Z"
   },
   {
    "duration": 106,
    "start_time": "2023-10-13T20:18:23.433Z"
   },
   {
    "duration": 5,
    "start_time": "2023-10-13T20:18:23.541Z"
   },
   {
    "duration": 4,
    "start_time": "2023-10-13T20:18:23.602Z"
   },
   {
    "duration": 12,
    "start_time": "2023-10-13T20:18:23.608Z"
   },
   {
    "duration": 27,
    "start_time": "2023-10-13T20:18:23.622Z"
   },
   {
    "duration": 378,
    "start_time": "2023-10-13T20:18:23.651Z"
   },
   {
    "duration": 7,
    "start_time": "2023-10-13T20:18:56.925Z"
   },
   {
    "duration": 6,
    "start_time": "2023-10-13T20:20:33.387Z"
   },
   {
    "duration": 17,
    "start_time": "2023-10-13T20:20:34.411Z"
   },
   {
    "duration": 7,
    "start_time": "2023-10-13T20:20:48.275Z"
   },
   {
    "duration": 5,
    "start_time": "2023-10-13T20:21:11.602Z"
   },
   {
    "duration": 7,
    "start_time": "2023-10-13T20:21:13.013Z"
   },
   {
    "duration": 5,
    "start_time": "2023-10-13T20:25:50.362Z"
   },
   {
    "duration": 6,
    "start_time": "2023-10-13T20:25:50.922Z"
   },
   {
    "duration": 1572,
    "start_time": "2023-10-14T12:22:14.870Z"
   },
   {
    "duration": 88,
    "start_time": "2023-10-14T12:22:16.445Z"
   },
   {
    "duration": 223,
    "start_time": "2023-10-14T12:22:16.535Z"
   },
   {
    "duration": 1517,
    "start_time": "2023-10-14T12:22:16.760Z"
   },
   {
    "duration": 115,
    "start_time": "2023-10-14T12:22:18.279Z"
   },
   {
    "duration": 4,
    "start_time": "2023-10-14T12:22:18.395Z"
   },
   {
    "duration": 47,
    "start_time": "2023-10-14T12:22:18.401Z"
   },
   {
    "duration": 30,
    "start_time": "2023-10-14T12:22:18.450Z"
   },
   {
    "duration": 94,
    "start_time": "2023-10-14T12:22:18.482Z"
   },
   {
    "duration": 23,
    "start_time": "2023-10-14T12:22:18.579Z"
   },
   {
    "duration": 25,
    "start_time": "2023-10-14T12:22:18.604Z"
   },
   {
    "duration": 20,
    "start_time": "2023-10-14T12:22:18.631Z"
   },
   {
    "duration": 33,
    "start_time": "2023-10-14T12:22:18.653Z"
   },
   {
    "duration": 409,
    "start_time": "2023-10-14T12:22:18.687Z"
   },
   {
    "duration": 2,
    "start_time": "2023-10-14T12:22:19.098Z"
   },
   {
    "duration": 118,
    "start_time": "2023-10-14T12:22:19.102Z"
   },
   {
    "duration": 33,
    "start_time": "2023-10-14T12:22:19.222Z"
   },
   {
    "duration": 5,
    "start_time": "2023-10-14T12:22:19.257Z"
   },
   {
    "duration": 41,
    "start_time": "2023-10-14T12:22:19.264Z"
   },
   {
    "duration": 24,
    "start_time": "2023-10-14T12:22:19.307Z"
   },
   {
    "duration": 39,
    "start_time": "2023-10-14T12:22:19.332Z"
   },
   {
    "duration": 45,
    "start_time": "2023-10-14T12:22:19.373Z"
   },
   {
    "duration": 39,
    "start_time": "2023-10-14T12:22:19.419Z"
   },
   {
    "duration": 21,
    "start_time": "2023-10-14T12:22:19.460Z"
   },
   {
    "duration": 49,
    "start_time": "2023-10-14T12:22:19.483Z"
   },
   {
    "duration": 5,
    "start_time": "2023-10-14T12:22:19.534Z"
   },
   {
    "duration": 44,
    "start_time": "2023-10-14T12:22:19.541Z"
   },
   {
    "duration": 20,
    "start_time": "2023-10-14T12:22:19.590Z"
   },
   {
    "duration": 25,
    "start_time": "2023-10-14T12:22:19.612Z"
   },
   {
    "duration": 30,
    "start_time": "2023-10-14T12:22:19.638Z"
   },
   {
    "duration": 50,
    "start_time": "2023-10-14T12:22:19.669Z"
   },
   {
    "duration": 34,
    "start_time": "2023-10-14T12:22:19.721Z"
   },
   {
    "duration": 82,
    "start_time": "2023-10-14T12:22:19.757Z"
   },
   {
    "duration": 41,
    "start_time": "2023-10-14T12:22:19.840Z"
   },
   {
    "duration": 28,
    "start_time": "2023-10-14T12:22:19.883Z"
   },
   {
    "duration": 92,
    "start_time": "2023-10-14T12:22:19.912Z"
   },
   {
    "duration": 122,
    "start_time": "2023-10-14T12:22:20.006Z"
   },
   {
    "duration": 192,
    "start_time": "2023-10-14T12:22:20.130Z"
   },
   {
    "duration": 298,
    "start_time": "2023-10-14T12:22:20.323Z"
   },
   {
    "duration": 24,
    "start_time": "2023-10-14T12:22:20.622Z"
   },
   {
    "duration": 6,
    "start_time": "2023-10-14T12:22:20.648Z"
   },
   {
    "duration": 23,
    "start_time": "2023-10-14T12:22:20.655Z"
   },
   {
    "duration": 19,
    "start_time": "2023-10-14T12:22:20.680Z"
   },
   {
    "duration": 18,
    "start_time": "2023-10-14T12:22:20.700Z"
   },
   {
    "duration": 27,
    "start_time": "2023-10-14T12:22:20.720Z"
   },
   {
    "duration": 19,
    "start_time": "2023-10-14T12:22:20.749Z"
   },
   {
    "duration": 24,
    "start_time": "2023-10-14T12:22:20.770Z"
   },
   {
    "duration": 25,
    "start_time": "2023-10-14T12:22:20.796Z"
   },
   {
    "duration": 29,
    "start_time": "2023-10-14T12:22:20.823Z"
   },
   {
    "duration": 14,
    "start_time": "2023-10-14T12:22:20.853Z"
   },
   {
    "duration": 38,
    "start_time": "2023-10-14T12:22:20.869Z"
   },
   {
    "duration": 45,
    "start_time": "2023-10-14T12:22:20.909Z"
   },
   {
    "duration": 403,
    "start_time": "2023-10-14T12:22:20.955Z"
   },
   {
    "duration": 9,
    "start_time": "2023-10-14T12:22:21.360Z"
   },
   {
    "duration": 83,
    "start_time": "2023-10-14T12:22:21.371Z"
   },
   {
    "duration": 167,
    "start_time": "2023-10-14T12:22:21.456Z"
   },
   {
    "duration": 31,
    "start_time": "2023-10-14T12:22:21.625Z"
   },
   {
    "duration": 46,
    "start_time": "2023-10-14T12:22:21.658Z"
   },
   {
    "duration": 29,
    "start_time": "2023-10-14T12:22:21.705Z"
   },
   {
    "duration": 35,
    "start_time": "2023-10-14T12:22:21.736Z"
   },
   {
    "duration": 26,
    "start_time": "2023-10-14T12:22:21.773Z"
   },
   {
    "duration": 18,
    "start_time": "2023-10-14T12:22:21.801Z"
   },
   {
    "duration": 34,
    "start_time": "2023-10-14T12:22:21.821Z"
   },
   {
    "duration": 7,
    "start_time": "2023-10-14T12:23:45.218Z"
   },
   {
    "duration": 7,
    "start_time": "2023-10-14T12:23:47.827Z"
   },
   {
    "duration": 7,
    "start_time": "2023-10-14T12:23:55.332Z"
   },
   {
    "duration": 7,
    "start_time": "2023-10-14T12:24:34.070Z"
   },
   {
    "duration": 5,
    "start_time": "2023-10-14T12:24:35.241Z"
   },
   {
    "duration": 4,
    "start_time": "2023-10-14T12:24:39.614Z"
   },
   {
    "duration": 5,
    "start_time": "2023-10-14T12:24:41.143Z"
   },
   {
    "duration": 5,
    "start_time": "2023-10-14T13:11:16.834Z"
   },
   {
    "duration": 5,
    "start_time": "2023-10-14T13:11:17.363Z"
   },
   {
    "duration": 9,
    "start_time": "2023-10-14T13:25:32.450Z"
   },
   {
    "duration": 10,
    "start_time": "2023-10-14T13:26:05.996Z"
   },
   {
    "duration": 8,
    "start_time": "2023-10-14T13:26:12.722Z"
   },
   {
    "duration": 11,
    "start_time": "2023-10-14T13:26:52.832Z"
   },
   {
    "duration": 1264,
    "start_time": "2023-10-14T13:56:05.684Z"
   },
   {
    "duration": 35,
    "start_time": "2023-10-14T13:56:06.950Z"
   },
   {
    "duration": 69,
    "start_time": "2023-10-14T13:56:06.987Z"
   },
   {
    "duration": 467,
    "start_time": "2023-10-14T13:56:07.059Z"
   },
   {
    "duration": 30,
    "start_time": "2023-10-14T13:56:07.528Z"
   },
   {
    "duration": 4,
    "start_time": "2023-10-14T13:56:07.560Z"
   },
   {
    "duration": 31,
    "start_time": "2023-10-14T13:56:07.566Z"
   },
   {
    "duration": 18,
    "start_time": "2023-10-14T13:56:07.599Z"
   },
   {
    "duration": 87,
    "start_time": "2023-10-14T13:56:07.619Z"
   },
   {
    "duration": 36,
    "start_time": "2023-10-14T13:56:07.708Z"
   },
   {
    "duration": 6,
    "start_time": "2023-10-14T13:56:07.746Z"
   },
   {
    "duration": 29,
    "start_time": "2023-10-14T13:56:07.753Z"
   },
   {
    "duration": 20,
    "start_time": "2023-10-14T13:56:07.784Z"
   },
   {
    "duration": 413,
    "start_time": "2023-10-14T13:56:07.806Z"
   },
   {
    "duration": 2,
    "start_time": "2023-10-14T13:56:08.221Z"
   },
   {
    "duration": 105,
    "start_time": "2023-10-14T13:56:08.224Z"
   },
   {
    "duration": 34,
    "start_time": "2023-10-14T13:56:08.331Z"
   },
   {
    "duration": 5,
    "start_time": "2023-10-14T13:56:08.367Z"
   },
   {
    "duration": 16,
    "start_time": "2023-10-14T13:56:08.374Z"
   },
   {
    "duration": 13,
    "start_time": "2023-10-14T13:56:08.392Z"
   },
   {
    "duration": 13,
    "start_time": "2023-10-14T13:56:08.406Z"
   },
   {
    "duration": 6,
    "start_time": "2023-10-14T13:56:08.420Z"
   },
   {
    "duration": 12,
    "start_time": "2023-10-14T13:56:08.445Z"
   },
   {
    "duration": 4,
    "start_time": "2023-10-14T13:56:08.458Z"
   },
   {
    "duration": 35,
    "start_time": "2023-10-14T13:56:08.463Z"
   },
   {
    "duration": 4,
    "start_time": "2023-10-14T13:56:08.499Z"
   },
   {
    "duration": 11,
    "start_time": "2023-10-14T13:56:08.505Z"
   },
   {
    "duration": 4,
    "start_time": "2023-10-14T13:56:08.544Z"
   },
   {
    "duration": 12,
    "start_time": "2023-10-14T13:56:08.549Z"
   },
   {
    "duration": 9,
    "start_time": "2023-10-14T13:56:08.562Z"
   },
   {
    "duration": 25,
    "start_time": "2023-10-14T13:56:08.573Z"
   },
   {
    "duration": 12,
    "start_time": "2023-10-14T13:56:08.599Z"
   },
   {
    "duration": 45,
    "start_time": "2023-10-14T13:56:08.612Z"
   },
   {
    "duration": 16,
    "start_time": "2023-10-14T13:56:08.658Z"
   },
   {
    "duration": 28,
    "start_time": "2023-10-14T13:56:08.675Z"
   },
   {
    "duration": 10,
    "start_time": "2023-10-14T13:56:08.705Z"
   },
   {
    "duration": 13,
    "start_time": "2023-10-14T13:56:08.717Z"
   },
   {
    "duration": 139,
    "start_time": "2023-10-14T13:56:08.731Z"
   },
   {
    "duration": 295,
    "start_time": "2023-10-14T13:56:08.871Z"
   },
   {
    "duration": 15,
    "start_time": "2023-10-14T13:56:09.167Z"
   },
   {
    "duration": 9,
    "start_time": "2023-10-14T13:56:09.185Z"
   },
   {
    "duration": 23,
    "start_time": "2023-10-14T13:56:09.196Z"
   },
   {
    "duration": 26,
    "start_time": "2023-10-14T13:56:09.221Z"
   },
   {
    "duration": 9,
    "start_time": "2023-10-14T13:56:09.249Z"
   },
   {
    "duration": 25,
    "start_time": "2023-10-14T13:56:09.259Z"
   },
   {
    "duration": 20,
    "start_time": "2023-10-14T13:56:09.286Z"
   },
   {
    "duration": 20,
    "start_time": "2023-10-14T13:56:09.308Z"
   },
   {
    "duration": 19,
    "start_time": "2023-10-14T13:56:09.330Z"
   },
   {
    "duration": 12,
    "start_time": "2023-10-14T13:56:09.351Z"
   },
   {
    "duration": 19,
    "start_time": "2023-10-14T13:56:09.365Z"
   },
   {
    "duration": 11,
    "start_time": "2023-10-14T13:56:09.385Z"
   },
   {
    "duration": 49,
    "start_time": "2023-10-14T13:56:09.398Z"
   },
   {
    "duration": 57,
    "start_time": "2023-10-14T13:56:09.448Z"
   },
   {
    "duration": 358,
    "start_time": "2023-10-14T13:56:09.507Z"
   },
   {
    "duration": 9,
    "start_time": "2023-10-14T13:56:09.867Z"
   },
   {
    "duration": 22,
    "start_time": "2023-10-14T13:56:09.877Z"
   },
   {
    "duration": 146,
    "start_time": "2023-10-14T13:56:09.901Z"
   },
   {
    "duration": 20,
    "start_time": "2023-10-14T13:56:10.049Z"
   },
   {
    "duration": 63,
    "start_time": "2023-10-14T13:56:10.071Z"
   },
   {
    "duration": 0,
    "start_time": "2023-10-14T13:56:10.136Z"
   },
   {
    "duration": 0,
    "start_time": "2023-10-14T13:56:10.137Z"
   },
   {
    "duration": 0,
    "start_time": "2023-10-14T13:56:10.138Z"
   },
   {
    "duration": 0,
    "start_time": "2023-10-14T13:56:10.139Z"
   },
   {
    "duration": 0,
    "start_time": "2023-10-14T13:56:10.140Z"
   },
   {
    "duration": 0,
    "start_time": "2023-10-14T13:56:10.141Z"
   },
   {
    "duration": 0,
    "start_time": "2023-10-14T13:56:10.142Z"
   },
   {
    "duration": 41,
    "start_time": "2023-10-14T13:58:59.246Z"
   },
   {
    "duration": 116,
    "start_time": "2023-10-14T14:00:20.805Z"
   },
   {
    "duration": 494,
    "start_time": "2023-10-14T14:06:31.986Z"
   },
   {
    "duration": 22,
    "start_time": "2023-10-14T14:06:58.139Z"
   },
   {
    "duration": 18,
    "start_time": "2023-10-14T14:07:13.136Z"
   },
   {
    "duration": 1247,
    "start_time": "2023-10-14T14:07:51.125Z"
   },
   {
    "duration": 36,
    "start_time": "2023-10-14T14:07:52.374Z"
   },
   {
    "duration": 72,
    "start_time": "2023-10-14T14:07:52.411Z"
   },
   {
    "duration": 495,
    "start_time": "2023-10-14T14:07:52.485Z"
   },
   {
    "duration": 33,
    "start_time": "2023-10-14T14:07:52.982Z"
   },
   {
    "duration": 5,
    "start_time": "2023-10-14T14:07:53.017Z"
   },
   {
    "duration": 35,
    "start_time": "2023-10-14T14:07:53.024Z"
   },
   {
    "duration": 14,
    "start_time": "2023-10-14T14:07:53.060Z"
   },
   {
    "duration": 85,
    "start_time": "2023-10-14T14:07:53.075Z"
   },
   {
    "duration": 25,
    "start_time": "2023-10-14T14:07:53.163Z"
   },
   {
    "duration": 6,
    "start_time": "2023-10-14T14:07:53.190Z"
   },
   {
    "duration": 5,
    "start_time": "2023-10-14T14:07:53.197Z"
   },
   {
    "duration": 19,
    "start_time": "2023-10-14T14:07:53.204Z"
   },
   {
    "duration": 401,
    "start_time": "2023-10-14T14:07:53.225Z"
   },
   {
    "duration": 3,
    "start_time": "2023-10-14T14:07:53.628Z"
   },
   {
    "duration": 104,
    "start_time": "2023-10-14T14:07:53.632Z"
   },
   {
    "duration": 24,
    "start_time": "2023-10-14T14:07:53.745Z"
   },
   {
    "duration": 4,
    "start_time": "2023-10-14T14:07:53.771Z"
   },
   {
    "duration": 24,
    "start_time": "2023-10-14T14:07:53.776Z"
   },
   {
    "duration": 29,
    "start_time": "2023-10-14T14:07:53.802Z"
   },
   {
    "duration": 23,
    "start_time": "2023-10-14T14:07:53.832Z"
   },
   {
    "duration": 10,
    "start_time": "2023-10-14T14:07:53.856Z"
   },
   {
    "duration": 24,
    "start_time": "2023-10-14T14:07:53.868Z"
   },
   {
    "duration": 13,
    "start_time": "2023-10-14T14:07:53.894Z"
   },
   {
    "duration": 47,
    "start_time": "2023-10-14T14:07:53.909Z"
   },
   {
    "duration": 4,
    "start_time": "2023-10-14T14:07:53.958Z"
   },
   {
    "duration": 14,
    "start_time": "2023-10-14T14:07:53.963Z"
   },
   {
    "duration": 15,
    "start_time": "2023-10-14T14:07:53.980Z"
   },
   {
    "duration": 10,
    "start_time": "2023-10-14T14:07:53.996Z"
   },
   {
    "duration": 26,
    "start_time": "2023-10-14T14:07:54.007Z"
   },
   {
    "duration": 36,
    "start_time": "2023-10-14T14:07:54.035Z"
   },
   {
    "duration": 20,
    "start_time": "2023-10-14T14:07:54.072Z"
   },
   {
    "duration": 46,
    "start_time": "2023-10-14T14:07:54.094Z"
   },
   {
    "duration": 16,
    "start_time": "2023-10-14T14:07:54.142Z"
   },
   {
    "duration": 7,
    "start_time": "2023-10-14T14:07:54.160Z"
   },
   {
    "duration": 17,
    "start_time": "2023-10-14T14:07:54.169Z"
   },
   {
    "duration": 25,
    "start_time": "2023-10-14T14:07:54.188Z"
   },
   {
    "duration": 187,
    "start_time": "2023-10-14T14:07:54.215Z"
   },
   {
    "duration": 311,
    "start_time": "2023-10-14T14:07:54.403Z"
   },
   {
    "duration": 15,
    "start_time": "2023-10-14T14:07:54.716Z"
   },
   {
    "duration": 14,
    "start_time": "2023-10-14T14:07:54.732Z"
   },
   {
    "duration": 39,
    "start_time": "2023-10-14T14:07:54.747Z"
   },
   {
    "duration": 12,
    "start_time": "2023-10-14T14:07:54.788Z"
   },
   {
    "duration": 15,
    "start_time": "2023-10-14T14:07:54.802Z"
   },
   {
    "duration": 11,
    "start_time": "2023-10-14T14:07:54.819Z"
   },
   {
    "duration": 15,
    "start_time": "2023-10-14T14:07:54.831Z"
   },
   {
    "duration": 17,
    "start_time": "2023-10-14T14:07:54.847Z"
   },
   {
    "duration": 23,
    "start_time": "2023-10-14T14:07:54.866Z"
   },
   {
    "duration": 21,
    "start_time": "2023-10-14T14:07:54.891Z"
   },
   {
    "duration": 25,
    "start_time": "2023-10-14T14:07:54.913Z"
   },
   {
    "duration": 3,
    "start_time": "2023-10-14T14:07:54.940Z"
   },
   {
    "duration": 17,
    "start_time": "2023-10-14T14:07:54.945Z"
   },
   {
    "duration": 30,
    "start_time": "2023-10-14T14:07:54.964Z"
   },
   {
    "duration": 360,
    "start_time": "2023-10-14T14:07:54.996Z"
   },
   {
    "duration": 10,
    "start_time": "2023-10-14T14:07:55.358Z"
   },
   {
    "duration": 35,
    "start_time": "2023-10-14T14:07:55.369Z"
   },
   {
    "duration": 58,
    "start_time": "2023-10-14T14:07:55.444Z"
   },
   {
    "duration": 52,
    "start_time": "2023-10-14T14:07:55.503Z"
   },
   {
    "duration": 128,
    "start_time": "2023-10-14T14:07:55.557Z"
   },
   {
    "duration": 4,
    "start_time": "2023-10-14T14:07:55.687Z"
   },
   {
    "duration": 20,
    "start_time": "2023-10-14T14:07:55.692Z"
   },
   {
    "duration": 16,
    "start_time": "2023-10-14T14:07:55.713Z"
   },
   {
    "duration": 12,
    "start_time": "2023-10-14T14:07:55.730Z"
   },
   {
    "duration": 144,
    "start_time": "2023-10-14T14:07:55.744Z"
   },
   {
    "duration": 0,
    "start_time": "2023-10-14T14:07:55.890Z"
   },
   {
    "duration": 0,
    "start_time": "2023-10-14T14:07:55.891Z"
   },
   {
    "duration": 6,
    "start_time": "2023-10-14T14:08:27.340Z"
   },
   {
    "duration": 1165,
    "start_time": "2023-10-14T14:08:36.179Z"
   },
   {
    "duration": 36,
    "start_time": "2023-10-14T14:08:37.346Z"
   },
   {
    "duration": 68,
    "start_time": "2023-10-14T14:08:37.384Z"
   },
   {
    "duration": 474,
    "start_time": "2023-10-14T14:08:37.454Z"
   },
   {
    "duration": 30,
    "start_time": "2023-10-14T14:08:37.930Z"
   },
   {
    "duration": 4,
    "start_time": "2023-10-14T14:08:37.961Z"
   },
   {
    "duration": 24,
    "start_time": "2023-10-14T14:08:37.967Z"
   },
   {
    "duration": 15,
    "start_time": "2023-10-14T14:08:37.993Z"
   },
   {
    "duration": 92,
    "start_time": "2023-10-14T14:08:38.010Z"
   },
   {
    "duration": 43,
    "start_time": "2023-10-14T14:08:38.105Z"
   },
   {
    "duration": 7,
    "start_time": "2023-10-14T14:08:38.150Z"
   },
   {
    "duration": 6,
    "start_time": "2023-10-14T14:08:38.160Z"
   },
   {
    "duration": 12,
    "start_time": "2023-10-14T14:08:38.168Z"
   },
   {
    "duration": 425,
    "start_time": "2023-10-14T14:08:38.181Z"
   },
   {
    "duration": 3,
    "start_time": "2023-10-14T14:08:38.607Z"
   },
   {
    "duration": 108,
    "start_time": "2023-10-14T14:08:38.611Z"
   },
   {
    "duration": 38,
    "start_time": "2023-10-14T14:08:38.721Z"
   },
   {
    "duration": 4,
    "start_time": "2023-10-14T14:08:38.761Z"
   },
   {
    "duration": 45,
    "start_time": "2023-10-14T14:08:38.767Z"
   },
   {
    "duration": 27,
    "start_time": "2023-10-14T14:08:38.813Z"
   },
   {
    "duration": 34,
    "start_time": "2023-10-14T14:08:38.841Z"
   },
   {
    "duration": 17,
    "start_time": "2023-10-14T14:08:38.877Z"
   },
   {
    "duration": 49,
    "start_time": "2023-10-14T14:08:38.895Z"
   },
   {
    "duration": 192,
    "start_time": "2023-10-14T14:08:38.945Z"
   },
   {
    "duration": 36,
    "start_time": "2023-10-14T14:08:39.139Z"
   },
   {
    "duration": 5,
    "start_time": "2023-10-14T14:08:39.176Z"
   },
   {
    "duration": 33,
    "start_time": "2023-10-14T14:08:39.182Z"
   },
   {
    "duration": 8,
    "start_time": "2023-10-14T14:08:39.219Z"
   },
   {
    "duration": 26,
    "start_time": "2023-10-14T14:08:39.229Z"
   },
   {
    "duration": 15,
    "start_time": "2023-10-14T14:08:39.256Z"
   },
   {
    "duration": 26,
    "start_time": "2023-10-14T14:08:39.273Z"
   },
   {
    "duration": 33,
    "start_time": "2023-10-14T14:08:39.300Z"
   },
   {
    "duration": 37,
    "start_time": "2023-10-14T14:08:39.335Z"
   },
   {
    "duration": 14,
    "start_time": "2023-10-14T14:08:39.373Z"
   },
   {
    "duration": 11,
    "start_time": "2023-10-14T14:08:39.389Z"
   },
   {
    "duration": 11,
    "start_time": "2023-10-14T14:08:39.402Z"
   },
   {
    "duration": 11,
    "start_time": "2023-10-14T14:08:39.415Z"
   },
   {
    "duration": 139,
    "start_time": "2023-10-14T14:08:39.428Z"
   },
   {
    "duration": 299,
    "start_time": "2023-10-14T14:08:39.569Z"
   },
   {
    "duration": 15,
    "start_time": "2023-10-14T14:08:39.869Z"
   },
   {
    "duration": 5,
    "start_time": "2023-10-14T14:08:39.886Z"
   },
   {
    "duration": 28,
    "start_time": "2023-10-14T14:08:39.892Z"
   },
   {
    "duration": 28,
    "start_time": "2023-10-14T14:08:39.922Z"
   },
   {
    "duration": 9,
    "start_time": "2023-10-14T14:08:39.952Z"
   },
   {
    "duration": 31,
    "start_time": "2023-10-14T14:08:39.963Z"
   },
   {
    "duration": 17,
    "start_time": "2023-10-14T14:08:39.996Z"
   },
   {
    "duration": 35,
    "start_time": "2023-10-14T14:08:40.014Z"
   },
   {
    "duration": 81,
    "start_time": "2023-10-14T14:08:40.051Z"
   },
   {
    "duration": 19,
    "start_time": "2023-10-14T14:08:40.134Z"
   },
   {
    "duration": 32,
    "start_time": "2023-10-14T14:08:40.154Z"
   },
   {
    "duration": 3,
    "start_time": "2023-10-14T14:08:40.188Z"
   },
   {
    "duration": 24,
    "start_time": "2023-10-14T14:08:40.193Z"
   },
   {
    "duration": 35,
    "start_time": "2023-10-14T14:08:40.218Z"
   },
   {
    "duration": 351,
    "start_time": "2023-10-14T14:08:40.254Z"
   },
   {
    "duration": 10,
    "start_time": "2023-10-14T14:08:40.607Z"
   },
   {
    "duration": 33,
    "start_time": "2023-10-14T14:08:40.618Z"
   },
   {
    "duration": 109,
    "start_time": "2023-10-14T14:08:40.652Z"
   },
   {
    "duration": 22,
    "start_time": "2023-10-14T14:08:40.762Z"
   },
   {
    "duration": 133,
    "start_time": "2023-10-14T14:08:40.785Z"
   },
   {
    "duration": 5,
    "start_time": "2023-10-14T14:08:40.919Z"
   },
   {
    "duration": 20,
    "start_time": "2023-10-14T14:08:40.925Z"
   },
   {
    "duration": 13,
    "start_time": "2023-10-14T14:08:40.946Z"
   },
   {
    "duration": 34,
    "start_time": "2023-10-14T14:08:40.961Z"
   },
   {
    "duration": 9,
    "start_time": "2023-10-14T14:08:40.996Z"
   },
   {
    "duration": 5,
    "start_time": "2023-10-14T14:08:41.007Z"
   },
   {
    "duration": 8,
    "start_time": "2023-10-14T14:08:41.014Z"
   },
   {
    "duration": 6,
    "start_time": "2023-10-14T14:09:40.207Z"
   },
   {
    "duration": 5,
    "start_time": "2023-10-14T14:09:41.009Z"
   },
   {
    "duration": 5,
    "start_time": "2023-10-14T14:09:42.273Z"
   },
   {
    "duration": 5,
    "start_time": "2023-10-14T14:09:45.089Z"
   },
   {
    "duration": 4,
    "start_time": "2023-10-14T14:09:58.075Z"
   },
   {
    "duration": 6,
    "start_time": "2023-10-14T14:09:59.306Z"
   },
   {
    "duration": 5,
    "start_time": "2023-10-14T14:10:02.670Z"
   },
   {
    "duration": 1191,
    "start_time": "2023-10-14T14:10:14.751Z"
   },
   {
    "duration": 35,
    "start_time": "2023-10-14T14:10:15.945Z"
   },
   {
    "duration": 73,
    "start_time": "2023-10-14T14:10:15.982Z"
   },
   {
    "duration": 502,
    "start_time": "2023-10-14T14:10:16.056Z"
   },
   {
    "duration": 31,
    "start_time": "2023-10-14T14:10:16.561Z"
   },
   {
    "duration": 5,
    "start_time": "2023-10-14T14:10:16.594Z"
   },
   {
    "duration": 41,
    "start_time": "2023-10-14T14:10:16.601Z"
   },
   {
    "duration": 23,
    "start_time": "2023-10-14T14:10:16.644Z"
   },
   {
    "duration": 69,
    "start_time": "2023-10-14T14:10:16.669Z"
   },
   {
    "duration": 24,
    "start_time": "2023-10-14T14:10:16.740Z"
   },
   {
    "duration": 6,
    "start_time": "2023-10-14T14:10:16.765Z"
   },
   {
    "duration": 28,
    "start_time": "2023-10-14T14:10:16.773Z"
   },
   {
    "duration": 23,
    "start_time": "2023-10-14T14:10:16.802Z"
   },
   {
    "duration": 418,
    "start_time": "2023-10-14T14:10:16.828Z"
   },
   {
    "duration": 3,
    "start_time": "2023-10-14T14:10:17.247Z"
   },
   {
    "duration": 118,
    "start_time": "2023-10-14T14:10:17.251Z"
   },
   {
    "duration": 27,
    "start_time": "2023-10-14T14:10:17.371Z"
   },
   {
    "duration": 5,
    "start_time": "2023-10-14T14:10:17.400Z"
   },
   {
    "duration": 38,
    "start_time": "2023-10-14T14:10:17.407Z"
   },
   {
    "duration": 10,
    "start_time": "2023-10-14T14:10:17.446Z"
   },
   {
    "duration": 21,
    "start_time": "2023-10-14T14:10:17.458Z"
   },
   {
    "duration": 8,
    "start_time": "2023-10-14T14:10:17.480Z"
   },
   {
    "duration": 23,
    "start_time": "2023-10-14T14:10:17.489Z"
   },
   {
    "duration": 10,
    "start_time": "2023-10-14T14:10:17.514Z"
   },
   {
    "duration": 45,
    "start_time": "2023-10-14T14:10:17.525Z"
   },
   {
    "duration": 5,
    "start_time": "2023-10-14T14:10:17.572Z"
   },
   {
    "duration": 25,
    "start_time": "2023-10-14T14:10:17.578Z"
   },
   {
    "duration": 7,
    "start_time": "2023-10-14T14:10:17.605Z"
   },
   {
    "duration": 23,
    "start_time": "2023-10-14T14:10:17.614Z"
   },
   {
    "duration": 41,
    "start_time": "2023-10-14T14:10:17.638Z"
   },
   {
    "duration": 41,
    "start_time": "2023-10-14T14:10:17.681Z"
   },
   {
    "duration": 10,
    "start_time": "2023-10-14T14:10:17.724Z"
   },
   {
    "duration": 34,
    "start_time": "2023-10-14T14:10:17.735Z"
   },
   {
    "duration": 17,
    "start_time": "2023-10-14T14:10:17.770Z"
   },
   {
    "duration": 18,
    "start_time": "2023-10-14T14:10:17.789Z"
   },
   {
    "duration": 12,
    "start_time": "2023-10-14T14:10:17.808Z"
   },
   {
    "duration": 12,
    "start_time": "2023-10-14T14:10:17.822Z"
   },
   {
    "duration": 149,
    "start_time": "2023-10-14T14:10:17.836Z"
   },
   {
    "duration": 327,
    "start_time": "2023-10-14T14:10:17.987Z"
   },
   {
    "duration": 16,
    "start_time": "2023-10-14T14:10:18.317Z"
   },
   {
    "duration": 6,
    "start_time": "2023-10-14T14:10:18.344Z"
   },
   {
    "duration": 41,
    "start_time": "2023-10-14T14:10:18.351Z"
   },
   {
    "duration": 35,
    "start_time": "2023-10-14T14:10:18.393Z"
   },
   {
    "duration": 16,
    "start_time": "2023-10-14T14:10:18.430Z"
   },
   {
    "duration": 49,
    "start_time": "2023-10-14T14:10:18.448Z"
   },
   {
    "duration": 17,
    "start_time": "2023-10-14T14:10:18.499Z"
   },
   {
    "duration": 28,
    "start_time": "2023-10-14T14:10:18.518Z"
   },
   {
    "duration": 43,
    "start_time": "2023-10-14T14:10:18.548Z"
   },
   {
    "duration": 22,
    "start_time": "2023-10-14T14:10:18.593Z"
   },
   {
    "duration": 41,
    "start_time": "2023-10-14T14:10:18.617Z"
   },
   {
    "duration": 14,
    "start_time": "2023-10-14T14:10:18.660Z"
   },
   {
    "duration": 43,
    "start_time": "2023-10-14T14:10:18.676Z"
   },
   {
    "duration": 54,
    "start_time": "2023-10-14T14:10:18.721Z"
   },
   {
    "duration": 349,
    "start_time": "2023-10-14T14:10:18.777Z"
   },
   {
    "duration": 9,
    "start_time": "2023-10-14T14:10:19.127Z"
   },
   {
    "duration": 51,
    "start_time": "2023-10-14T14:10:19.138Z"
   },
   {
    "duration": 92,
    "start_time": "2023-10-14T14:10:19.191Z"
   },
   {
    "duration": 20,
    "start_time": "2023-10-14T14:10:19.285Z"
   },
   {
    "duration": 61,
    "start_time": "2023-10-14T14:10:19.307Z"
   },
   {
    "duration": 6,
    "start_time": "2023-10-14T14:10:19.370Z"
   },
   {
    "duration": 38,
    "start_time": "2023-10-14T14:10:19.377Z"
   },
   {
    "duration": 29,
    "start_time": "2023-10-14T14:10:19.417Z"
   },
   {
    "duration": 67,
    "start_time": "2023-10-14T14:10:19.448Z"
   },
   {
    "duration": 83,
    "start_time": "2023-10-14T14:10:19.517Z"
   },
   {
    "duration": 31,
    "start_time": "2023-10-14T14:10:19.601Z"
   },
   {
    "duration": 28,
    "start_time": "2023-10-14T14:10:19.633Z"
   },
   {
    "duration": 1451,
    "start_time": "2023-10-15T13:23:52.913Z"
   },
   {
    "duration": 75,
    "start_time": "2023-10-15T13:23:54.366Z"
   },
   {
    "duration": 197,
    "start_time": "2023-10-15T13:23:54.443Z"
   },
   {
    "duration": 673,
    "start_time": "2023-10-15T13:23:54.642Z"
   },
   {
    "duration": 68,
    "start_time": "2023-10-15T13:23:55.317Z"
   },
   {
    "duration": 4,
    "start_time": "2023-10-15T13:23:55.387Z"
   },
   {
    "duration": 34,
    "start_time": "2023-10-15T13:23:55.392Z"
   },
   {
    "duration": 13,
    "start_time": "2023-10-15T13:23:55.428Z"
   },
   {
    "duration": 84,
    "start_time": "2023-10-15T13:23:55.443Z"
   },
   {
    "duration": 26,
    "start_time": "2023-10-15T13:23:55.530Z"
   },
   {
    "duration": 7,
    "start_time": "2023-10-15T13:23:55.558Z"
   },
   {
    "duration": 8,
    "start_time": "2023-10-15T13:23:55.567Z"
   },
   {
    "duration": 15,
    "start_time": "2023-10-15T13:23:55.577Z"
   },
   {
    "duration": 424,
    "start_time": "2023-10-15T13:23:55.593Z"
   },
   {
    "duration": 3,
    "start_time": "2023-10-15T13:23:56.019Z"
   },
   {
    "duration": 133,
    "start_time": "2023-10-15T13:23:56.023Z"
   },
   {
    "duration": 28,
    "start_time": "2023-10-15T13:23:56.157Z"
   },
   {
    "duration": 5,
    "start_time": "2023-10-15T13:23:56.187Z"
   },
   {
    "duration": 17,
    "start_time": "2023-10-15T13:23:56.193Z"
   },
   {
    "duration": 34,
    "start_time": "2023-10-15T13:23:56.212Z"
   },
   {
    "duration": 16,
    "start_time": "2023-10-15T13:23:56.248Z"
   },
   {
    "duration": 22,
    "start_time": "2023-10-15T13:23:56.265Z"
   },
   {
    "duration": 37,
    "start_time": "2023-10-15T13:23:56.288Z"
   },
   {
    "duration": 18,
    "start_time": "2023-10-15T13:23:56.329Z"
   },
   {
    "duration": 47,
    "start_time": "2023-10-15T13:23:56.348Z"
   },
   {
    "duration": 4,
    "start_time": "2023-10-15T13:23:56.397Z"
   },
   {
    "duration": 32,
    "start_time": "2023-10-15T13:23:56.403Z"
   },
   {
    "duration": 11,
    "start_time": "2023-10-15T13:23:56.437Z"
   },
   {
    "duration": 27,
    "start_time": "2023-10-15T13:23:56.450Z"
   },
   {
    "duration": 24,
    "start_time": "2023-10-15T13:23:56.478Z"
   },
   {
    "duration": 40,
    "start_time": "2023-10-15T13:23:56.503Z"
   },
   {
    "duration": 16,
    "start_time": "2023-10-15T13:23:56.545Z"
   },
   {
    "duration": 33,
    "start_time": "2023-10-15T13:23:56.563Z"
   },
   {
    "duration": 17,
    "start_time": "2023-10-15T13:23:56.597Z"
   },
   {
    "duration": 6,
    "start_time": "2023-10-15T13:23:56.616Z"
   },
   {
    "duration": 8,
    "start_time": "2023-10-15T13:23:56.624Z"
   },
   {
    "duration": 19,
    "start_time": "2023-10-15T13:23:56.633Z"
   },
   {
    "duration": 158,
    "start_time": "2023-10-15T13:23:56.654Z"
   },
   {
    "duration": 301,
    "start_time": "2023-10-15T13:23:56.814Z"
   },
   {
    "duration": 15,
    "start_time": "2023-10-15T13:23:57.117Z"
   },
   {
    "duration": 10,
    "start_time": "2023-10-15T13:23:57.134Z"
   },
   {
    "duration": 32,
    "start_time": "2023-10-15T13:23:57.146Z"
   },
   {
    "duration": 12,
    "start_time": "2023-10-15T13:23:57.180Z"
   },
   {
    "duration": 9,
    "start_time": "2023-10-15T13:23:57.193Z"
   },
   {
    "duration": 13,
    "start_time": "2023-10-15T13:23:57.204Z"
   },
   {
    "duration": 20,
    "start_time": "2023-10-15T13:23:57.219Z"
   },
   {
    "duration": 22,
    "start_time": "2023-10-15T13:23:57.244Z"
   },
   {
    "duration": 23,
    "start_time": "2023-10-15T13:23:57.267Z"
   },
   {
    "duration": 12,
    "start_time": "2023-10-15T13:23:57.291Z"
   },
   {
    "duration": 17,
    "start_time": "2023-10-15T13:23:57.304Z"
   },
   {
    "duration": 4,
    "start_time": "2023-10-15T13:23:57.323Z"
   },
   {
    "duration": 22,
    "start_time": "2023-10-15T13:23:57.328Z"
   },
   {
    "duration": 38,
    "start_time": "2023-10-15T13:23:57.352Z"
   },
   {
    "duration": 716,
    "start_time": "2023-10-15T13:23:57.392Z"
   },
   {
    "duration": 11,
    "start_time": "2023-10-15T13:23:58.109Z"
   },
   {
    "duration": 38,
    "start_time": "2023-10-15T13:23:58.122Z"
   },
   {
    "duration": 117,
    "start_time": "2023-10-15T13:23:58.162Z"
   },
   {
    "duration": 20,
    "start_time": "2023-10-15T13:23:58.281Z"
   },
   {
    "duration": 151,
    "start_time": "2023-10-15T13:23:58.303Z"
   },
   {
    "duration": 4,
    "start_time": "2023-10-15T13:23:58.456Z"
   },
   {
    "duration": 24,
    "start_time": "2023-10-15T13:23:58.464Z"
   },
   {
    "duration": 13,
    "start_time": "2023-10-15T13:23:58.490Z"
   },
   {
    "duration": 7,
    "start_time": "2023-10-15T13:23:58.504Z"
   },
   {
    "duration": 15,
    "start_time": "2023-10-15T13:23:58.512Z"
   },
   {
    "duration": 33,
    "start_time": "2023-10-15T13:23:58.529Z"
   },
   {
    "duration": 25,
    "start_time": "2023-10-15T13:23:58.563Z"
   },
   {
    "duration": 4,
    "start_time": "2023-10-15T15:23:01.823Z"
   },
   {
    "duration": 2,
    "start_time": "2023-10-15T15:23:03.602Z"
   },
   {
    "duration": 52,
    "start_time": "2023-10-15T15:27:36.736Z"
   },
   {
    "duration": 1507,
    "start_time": "2023-10-15T15:27:59.563Z"
   },
   {
    "duration": 77,
    "start_time": "2023-10-15T15:28:01.073Z"
   },
   {
    "duration": 237,
    "start_time": "2023-10-15T15:28:01.154Z"
   },
   {
    "duration": 717,
    "start_time": "2023-10-15T15:28:01.393Z"
   },
   {
    "duration": 85,
    "start_time": "2023-10-15T15:28:02.113Z"
   },
   {
    "duration": 5,
    "start_time": "2023-10-15T15:28:02.199Z"
   },
   {
    "duration": 66,
    "start_time": "2023-10-15T15:28:02.205Z"
   },
   {
    "duration": 57,
    "start_time": "2023-10-15T15:28:02.273Z"
   },
   {
    "duration": 146,
    "start_time": "2023-10-15T15:28:02.332Z"
   },
   {
    "duration": 28,
    "start_time": "2023-10-15T15:28:02.481Z"
   },
   {
    "duration": 118,
    "start_time": "2023-10-15T15:28:02.511Z"
   },
   {
    "duration": 20,
    "start_time": "2023-10-15T15:28:02.631Z"
   },
   {
    "duration": 20,
    "start_time": "2023-10-15T15:28:02.653Z"
   },
   {
    "duration": 19,
    "start_time": "2023-10-15T15:28:02.675Z"
   },
   {
    "duration": 792,
    "start_time": "2023-10-15T15:28:02.695Z"
   },
   {
    "duration": 2,
    "start_time": "2023-10-15T15:28:03.489Z"
   },
   {
    "duration": 285,
    "start_time": "2023-10-15T15:28:03.493Z"
   },
   {
    "duration": 93,
    "start_time": "2023-10-15T15:28:03.780Z"
   },
   {
    "duration": 9,
    "start_time": "2023-10-15T15:28:03.876Z"
   },
   {
    "duration": 68,
    "start_time": "2023-10-15T15:28:03.887Z"
   },
   {
    "duration": 23,
    "start_time": "2023-10-15T15:28:03.956Z"
   },
   {
    "duration": 22,
    "start_time": "2023-10-15T15:28:03.981Z"
   },
   {
    "duration": 20,
    "start_time": "2023-10-15T15:28:04.046Z"
   },
   {
    "duration": 40,
    "start_time": "2023-10-15T15:28:04.068Z"
   },
   {
    "duration": 16,
    "start_time": "2023-10-15T15:28:04.147Z"
   },
   {
    "duration": 110,
    "start_time": "2023-10-15T15:28:04.165Z"
   },
   {
    "duration": 4,
    "start_time": "2023-10-15T15:28:04.277Z"
   },
   {
    "duration": 76,
    "start_time": "2023-10-15T15:28:04.285Z"
   },
   {
    "duration": 47,
    "start_time": "2023-10-15T15:28:04.363Z"
   },
   {
    "duration": 45,
    "start_time": "2023-10-15T15:28:04.412Z"
   },
   {
    "duration": 13,
    "start_time": "2023-10-15T15:28:04.458Z"
   },
   {
    "duration": 100,
    "start_time": "2023-10-15T15:28:04.473Z"
   },
   {
    "duration": 89,
    "start_time": "2023-10-15T15:28:04.575Z"
   },
   {
    "duration": 90,
    "start_time": "2023-10-15T15:28:04.668Z"
   },
   {
    "duration": 18,
    "start_time": "2023-10-15T15:28:04.765Z"
   },
   {
    "duration": 74,
    "start_time": "2023-10-15T15:28:04.785Z"
   },
   {
    "duration": 6,
    "start_time": "2023-10-15T15:28:04.863Z"
   },
   {
    "duration": 82,
    "start_time": "2023-10-15T15:28:04.871Z"
   },
   {
    "duration": 159,
    "start_time": "2023-10-15T15:28:04.955Z"
   },
   {
    "duration": 317,
    "start_time": "2023-10-15T15:28:05.115Z"
   },
   {
    "duration": 22,
    "start_time": "2023-10-15T15:28:05.434Z"
   },
   {
    "duration": 29,
    "start_time": "2023-10-15T15:28:05.458Z"
   },
   {
    "duration": 49,
    "start_time": "2023-10-15T15:28:05.488Z"
   },
   {
    "duration": 39,
    "start_time": "2023-10-15T15:28:05.539Z"
   },
   {
    "duration": 17,
    "start_time": "2023-10-15T15:28:05.580Z"
   },
   {
    "duration": 18,
    "start_time": "2023-10-15T15:28:05.599Z"
   },
   {
    "duration": 17,
    "start_time": "2023-10-15T15:28:05.619Z"
   },
   {
    "duration": 90,
    "start_time": "2023-10-15T15:28:05.638Z"
   },
   {
    "duration": 30,
    "start_time": "2023-10-15T15:28:05.729Z"
   },
   {
    "duration": 62,
    "start_time": "2023-10-15T15:28:05.761Z"
   },
   {
    "duration": 22,
    "start_time": "2023-10-15T15:28:05.825Z"
   },
   {
    "duration": 6,
    "start_time": "2023-10-15T15:28:05.853Z"
   },
   {
    "duration": 70,
    "start_time": "2023-10-15T15:28:05.862Z"
   },
   {
    "duration": 48,
    "start_time": "2023-10-15T15:28:05.934Z"
   },
   {
    "duration": 378,
    "start_time": "2023-10-15T15:28:05.983Z"
   },
   {
    "duration": 10,
    "start_time": "2023-10-15T15:28:06.363Z"
   },
   {
    "duration": 28,
    "start_time": "2023-10-15T15:28:06.375Z"
   },
   {
    "duration": 166,
    "start_time": "2023-10-15T15:28:06.405Z"
   },
   {
    "duration": 22,
    "start_time": "2023-10-15T15:28:06.573Z"
   },
   {
    "duration": 164,
    "start_time": "2023-10-15T15:28:06.597Z"
   },
   {
    "duration": 5,
    "start_time": "2023-10-15T15:28:06.763Z"
   },
   {
    "duration": 41,
    "start_time": "2023-10-15T15:28:06.769Z"
   },
   {
    "duration": 57,
    "start_time": "2023-10-15T15:28:06.811Z"
   },
   {
    "duration": 26,
    "start_time": "2023-10-15T15:28:06.870Z"
   },
   {
    "duration": 63,
    "start_time": "2023-10-15T15:28:06.897Z"
   },
   {
    "duration": 33,
    "start_time": "2023-10-15T15:28:06.962Z"
   },
   {
    "duration": 25,
    "start_time": "2023-10-15T15:28:06.997Z"
   },
   {
    "duration": 13,
    "start_time": "2023-10-15T15:28:51.595Z"
   },
   {
    "duration": 532,
    "start_time": "2023-10-15T15:35:11.743Z"
   },
   {
    "duration": 51,
    "start_time": "2023-10-15T15:36:14.903Z"
   },
   {
    "duration": 5,
    "start_time": "2023-10-15T15:36:53.735Z"
   },
   {
    "duration": 1989,
    "start_time": "2023-10-15T16:04:14.054Z"
   },
   {
    "duration": 28,
    "start_time": "2023-10-15T16:04:23.571Z"
   },
   {
    "duration": 84,
    "start_time": "2023-10-15T16:04:37.487Z"
   },
   {
    "duration": 105,
    "start_time": "2023-10-15T16:06:02.093Z"
   },
   {
    "duration": 100,
    "start_time": "2023-10-15T16:12:36.818Z"
   },
   {
    "duration": 65,
    "start_time": "2023-10-16T11:23:50.038Z"
   },
   {
    "duration": 1718,
    "start_time": "2023-10-16T11:23:59.830Z"
   },
   {
    "duration": 83,
    "start_time": "2023-10-16T11:24:01.551Z"
   },
   {
    "duration": 243,
    "start_time": "2023-10-16T11:24:01.636Z"
   },
   {
    "duration": 1785,
    "start_time": "2023-10-16T11:24:01.882Z"
   },
   {
    "duration": 128,
    "start_time": "2023-10-16T11:24:03.669Z"
   },
   {
    "duration": 4,
    "start_time": "2023-10-16T11:24:03.799Z"
   },
   {
    "duration": 70,
    "start_time": "2023-10-16T11:24:03.805Z"
   },
   {
    "duration": 54,
    "start_time": "2023-10-16T11:24:03.877Z"
   },
   {
    "duration": 91,
    "start_time": "2023-10-16T11:24:03.933Z"
   },
   {
    "duration": 43,
    "start_time": "2023-10-16T11:24:04.026Z"
   },
   {
    "duration": 20,
    "start_time": "2023-10-16T11:24:04.071Z"
   },
   {
    "duration": 14,
    "start_time": "2023-10-16T11:24:04.093Z"
   },
   {
    "duration": 38,
    "start_time": "2023-10-16T11:24:04.109Z"
   },
   {
    "duration": 93,
    "start_time": "2023-10-16T11:24:04.149Z"
   },
   {
    "duration": 6,
    "start_time": "2023-10-16T11:24:04.244Z"
   },
   {
    "duration": 535,
    "start_time": "2023-10-16T11:24:04.252Z"
   },
   {
    "duration": 2,
    "start_time": "2023-10-16T11:24:04.789Z"
   },
   {
    "duration": 143,
    "start_time": "2023-10-16T11:24:04.793Z"
   },
   {
    "duration": 102,
    "start_time": "2023-10-16T11:24:04.938Z"
   },
   {
    "duration": 44,
    "start_time": "2023-10-16T11:24:05.042Z"
   },
   {
    "duration": 38,
    "start_time": "2023-10-16T11:24:05.088Z"
   },
   {
    "duration": 43,
    "start_time": "2023-10-16T11:24:05.128Z"
   },
   {
    "duration": 29,
    "start_time": "2023-10-16T11:24:05.173Z"
   },
   {
    "duration": 41,
    "start_time": "2023-10-16T11:24:05.204Z"
   },
   {
    "duration": 13,
    "start_time": "2023-10-16T11:24:05.248Z"
   },
   {
    "duration": 43,
    "start_time": "2023-10-16T11:24:05.263Z"
   },
   {
    "duration": 15,
    "start_time": "2023-10-16T11:24:05.308Z"
   },
   {
    "duration": 63,
    "start_time": "2023-10-16T11:24:05.328Z"
   },
   {
    "duration": 15,
    "start_time": "2023-10-16T11:24:05.394Z"
   },
   {
    "duration": 57,
    "start_time": "2023-10-16T11:24:05.411Z"
   },
   {
    "duration": 10,
    "start_time": "2023-10-16T11:24:05.470Z"
   },
   {
    "duration": 17,
    "start_time": "2023-10-16T11:24:05.482Z"
   },
   {
    "duration": 21,
    "start_time": "2023-10-16T11:24:05.500Z"
   },
   {
    "duration": 15,
    "start_time": "2023-10-16T11:24:05.522Z"
   },
   {
    "duration": 126,
    "start_time": "2023-10-16T11:24:05.539Z"
   },
   {
    "duration": 0,
    "start_time": "2023-10-16T11:24:05.666Z"
   },
   {
    "duration": 0,
    "start_time": "2023-10-16T11:24:05.669Z"
   },
   {
    "duration": 0,
    "start_time": "2023-10-16T11:24:05.670Z"
   },
   {
    "duration": 0,
    "start_time": "2023-10-16T11:24:05.672Z"
   },
   {
    "duration": 0,
    "start_time": "2023-10-16T11:24:05.674Z"
   },
   {
    "duration": 0,
    "start_time": "2023-10-16T11:24:05.675Z"
   },
   {
    "duration": 0,
    "start_time": "2023-10-16T11:24:05.676Z"
   },
   {
    "duration": 0,
    "start_time": "2023-10-16T11:24:05.678Z"
   },
   {
    "duration": 0,
    "start_time": "2023-10-16T11:24:05.680Z"
   },
   {
    "duration": 0,
    "start_time": "2023-10-16T11:24:05.682Z"
   },
   {
    "duration": 0,
    "start_time": "2023-10-16T11:24:05.683Z"
   },
   {
    "duration": 0,
    "start_time": "2023-10-16T11:24:05.685Z"
   },
   {
    "duration": 0,
    "start_time": "2023-10-16T11:24:05.686Z"
   },
   {
    "duration": 0,
    "start_time": "2023-10-16T11:24:05.688Z"
   },
   {
    "duration": 0,
    "start_time": "2023-10-16T11:24:05.690Z"
   },
   {
    "duration": 0,
    "start_time": "2023-10-16T11:24:05.691Z"
   },
   {
    "duration": 0,
    "start_time": "2023-10-16T11:24:05.692Z"
   },
   {
    "duration": 0,
    "start_time": "2023-10-16T11:24:05.693Z"
   },
   {
    "duration": 0,
    "start_time": "2023-10-16T11:24:05.694Z"
   },
   {
    "duration": 0,
    "start_time": "2023-10-16T11:24:05.695Z"
   },
   {
    "duration": 0,
    "start_time": "2023-10-16T11:24:05.696Z"
   },
   {
    "duration": 0,
    "start_time": "2023-10-16T11:24:05.697Z"
   },
   {
    "duration": 0,
    "start_time": "2023-10-16T11:24:05.698Z"
   },
   {
    "duration": 0,
    "start_time": "2023-10-16T11:24:05.700Z"
   },
   {
    "duration": 0,
    "start_time": "2023-10-16T11:24:05.701Z"
   },
   {
    "duration": 0,
    "start_time": "2023-10-16T11:24:05.702Z"
   },
   {
    "duration": 1,
    "start_time": "2023-10-16T11:24:05.756Z"
   },
   {
    "duration": 0,
    "start_time": "2023-10-16T11:24:05.758Z"
   },
   {
    "duration": 0,
    "start_time": "2023-10-16T11:24:05.759Z"
   },
   {
    "duration": 0,
    "start_time": "2023-10-16T11:24:05.760Z"
   },
   {
    "duration": 0,
    "start_time": "2023-10-16T11:24:05.761Z"
   },
   {
    "duration": 0,
    "start_time": "2023-10-16T11:24:05.762Z"
   },
   {
    "duration": 0,
    "start_time": "2023-10-16T11:24:05.763Z"
   },
   {
    "duration": 0,
    "start_time": "2023-10-16T11:24:05.764Z"
   },
   {
    "duration": 0,
    "start_time": "2023-10-16T11:24:05.765Z"
   },
   {
    "duration": 0,
    "start_time": "2023-10-16T11:24:05.766Z"
   },
   {
    "duration": 2320,
    "start_time": "2023-10-16T11:26:42.581Z"
   },
   {
    "duration": 20,
    "start_time": "2023-10-16T11:28:06.880Z"
   },
   {
    "duration": 34,
    "start_time": "2023-10-16T11:29:37.774Z"
   },
   {
    "duration": 454,
    "start_time": "2023-10-16T11:30:07.715Z"
   },
   {
    "duration": 166,
    "start_time": "2023-10-16T11:30:30.090Z"
   },
   {
    "duration": 21,
    "start_time": "2023-10-16T11:30:52.981Z"
   },
   {
    "duration": 19,
    "start_time": "2023-10-16T11:32:49.142Z"
   },
   {
    "duration": 56,
    "start_time": "2023-10-16T11:32:54.966Z"
   },
   {
    "duration": 55,
    "start_time": "2023-10-16T11:33:54.490Z"
   },
   {
    "duration": 1462,
    "start_time": "2023-10-16T11:48:22.255Z"
   },
   {
    "duration": 40,
    "start_time": "2023-10-16T11:48:23.719Z"
   },
   {
    "duration": 126,
    "start_time": "2023-10-16T11:48:23.760Z"
   },
   {
    "duration": 787,
    "start_time": "2023-10-16T11:48:23.890Z"
   },
   {
    "duration": 35,
    "start_time": "2023-10-16T11:48:24.679Z"
   },
   {
    "duration": 43,
    "start_time": "2023-10-16T11:48:24.715Z"
   },
   {
    "duration": 120,
    "start_time": "2023-10-16T11:48:24.759Z"
   },
   {
    "duration": 31,
    "start_time": "2023-10-16T11:48:24.882Z"
   },
   {
    "duration": 134,
    "start_time": "2023-10-16T11:48:24.915Z"
   },
   {
    "duration": 29,
    "start_time": "2023-10-16T11:48:25.052Z"
   },
   {
    "duration": 14,
    "start_time": "2023-10-16T11:48:25.082Z"
   },
   {
    "duration": 30,
    "start_time": "2023-10-16T11:48:25.097Z"
   },
   {
    "duration": 41,
    "start_time": "2023-10-16T11:48:25.129Z"
   },
   {
    "duration": 78,
    "start_time": "2023-10-16T11:48:25.172Z"
   },
   {
    "duration": 5,
    "start_time": "2023-10-16T11:48:25.252Z"
   },
   {
    "duration": 519,
    "start_time": "2023-10-16T11:48:25.258Z"
   },
   {
    "duration": 3,
    "start_time": "2023-10-16T11:48:25.779Z"
   },
   {
    "duration": 174,
    "start_time": "2023-10-16T11:48:25.783Z"
   },
   {
    "duration": 110,
    "start_time": "2023-10-16T11:48:25.960Z"
   },
   {
    "duration": 34,
    "start_time": "2023-10-16T11:48:26.072Z"
   },
   {
    "duration": 14,
    "start_time": "2023-10-16T11:48:26.108Z"
   },
   {
    "duration": 68,
    "start_time": "2023-10-16T11:48:26.124Z"
   },
   {
    "duration": 39,
    "start_time": "2023-10-16T11:48:26.194Z"
   },
   {
    "duration": 61,
    "start_time": "2023-10-16T11:48:26.235Z"
   },
   {
    "duration": 48,
    "start_time": "2023-10-16T11:48:26.299Z"
   },
   {
    "duration": 41,
    "start_time": "2023-10-16T11:48:26.349Z"
   },
   {
    "duration": 56,
    "start_time": "2023-10-16T11:48:26.392Z"
   },
   {
    "duration": 65,
    "start_time": "2023-10-16T11:48:26.452Z"
   },
   {
    "duration": 5,
    "start_time": "2023-10-16T11:48:26.519Z"
   },
   {
    "duration": 46,
    "start_time": "2023-10-16T11:48:26.526Z"
   },
   {
    "duration": 27,
    "start_time": "2023-10-16T11:48:26.573Z"
   },
   {
    "duration": 44,
    "start_time": "2023-10-16T11:48:26.602Z"
   },
   {
    "duration": 46,
    "start_time": "2023-10-16T11:48:26.648Z"
   },
   {
    "duration": 31,
    "start_time": "2023-10-16T11:48:26.696Z"
   },
   {
    "duration": 441,
    "start_time": "2023-10-16T11:48:26.729Z"
   },
   {
    "duration": 30,
    "start_time": "2023-10-16T11:48:27.172Z"
   },
   {
    "duration": 62,
    "start_time": "2023-10-16T11:48:27.204Z"
   },
   {
    "duration": 91,
    "start_time": "2023-10-16T11:48:27.268Z"
   },
   {
    "duration": 28,
    "start_time": "2023-10-16T11:48:27.361Z"
   },
   {
    "duration": 38,
    "start_time": "2023-10-16T11:48:27.391Z"
   },
   {
    "duration": 52,
    "start_time": "2023-10-16T11:48:27.431Z"
   },
   {
    "duration": 45,
    "start_time": "2023-10-16T11:48:27.484Z"
   },
   {
    "duration": 230,
    "start_time": "2023-10-16T11:48:27.530Z"
   },
   {
    "duration": 383,
    "start_time": "2023-10-16T11:48:27.762Z"
   },
   {
    "duration": 23,
    "start_time": "2023-10-16T11:48:28.147Z"
   },
   {
    "duration": 58,
    "start_time": "2023-10-16T11:48:28.172Z"
   },
   {
    "duration": 38,
    "start_time": "2023-10-16T11:48:28.232Z"
   },
   {
    "duration": 34,
    "start_time": "2023-10-16T11:48:28.272Z"
   },
   {
    "duration": 59,
    "start_time": "2023-10-16T11:48:28.308Z"
   },
   {
    "duration": 43,
    "start_time": "2023-10-16T11:48:28.369Z"
   },
   {
    "duration": 63,
    "start_time": "2023-10-16T11:48:28.414Z"
   },
   {
    "duration": 55,
    "start_time": "2023-10-16T11:48:28.479Z"
   },
   {
    "duration": 46,
    "start_time": "2023-10-16T11:48:28.536Z"
   },
   {
    "duration": 23,
    "start_time": "2023-10-16T11:48:28.584Z"
   },
   {
    "duration": 62,
    "start_time": "2023-10-16T11:48:28.609Z"
   },
   {
    "duration": 13,
    "start_time": "2023-10-16T11:48:28.673Z"
   },
   {
    "duration": 31,
    "start_time": "2023-10-16T11:48:28.688Z"
   },
   {
    "duration": 46,
    "start_time": "2023-10-16T11:48:28.722Z"
   },
   {
    "duration": 92,
    "start_time": "2023-10-16T11:48:28.771Z"
   },
   {
    "duration": 14,
    "start_time": "2023-10-16T11:48:28.865Z"
   },
   {
    "duration": 50,
    "start_time": "2023-10-16T11:48:28.882Z"
   },
   {
    "duration": 240,
    "start_time": "2023-10-16T11:48:28.935Z"
   },
   {
    "duration": 81,
    "start_time": "2023-10-16T11:48:29.177Z"
   },
   {
    "duration": 138,
    "start_time": "2023-10-16T11:48:29.260Z"
   },
   {
    "duration": 57,
    "start_time": "2023-10-16T11:48:29.400Z"
   },
   {
    "duration": 33,
    "start_time": "2023-10-16T11:48:29.460Z"
   },
   {
    "duration": 62,
    "start_time": "2023-10-16T11:48:29.495Z"
   },
   {
    "duration": 6,
    "start_time": "2023-10-16T11:48:29.559Z"
   },
   {
    "duration": 27,
    "start_time": "2023-10-16T11:48:29.566Z"
   },
   {
    "duration": 8,
    "start_time": "2023-10-16T11:48:29.595Z"
   },
   {
    "duration": 52,
    "start_time": "2023-10-16T11:48:29.605Z"
   },
   {
    "duration": 12,
    "start_time": "2023-10-16T11:52:42.938Z"
   },
   {
    "duration": 6,
    "start_time": "2023-10-16T11:52:47.676Z"
   },
   {
    "duration": 18,
    "start_time": "2023-10-16T11:52:56.281Z"
   },
   {
    "duration": 16,
    "start_time": "2023-10-16T11:52:58.134Z"
   },
   {
    "duration": 1372,
    "start_time": "2023-10-16T11:53:09.640Z"
   },
   {
    "duration": 39,
    "start_time": "2023-10-16T11:53:11.014Z"
   },
   {
    "duration": 119,
    "start_time": "2023-10-16T11:53:11.055Z"
   },
   {
    "duration": 609,
    "start_time": "2023-10-16T11:53:11.176Z"
   },
   {
    "duration": 35,
    "start_time": "2023-10-16T11:53:11.788Z"
   },
   {
    "duration": 59,
    "start_time": "2023-10-16T11:53:11.825Z"
   },
   {
    "duration": 44,
    "start_time": "2023-10-16T11:53:11.886Z"
   },
   {
    "duration": 26,
    "start_time": "2023-10-16T11:53:11.933Z"
   },
   {
    "duration": 100,
    "start_time": "2023-10-16T11:53:11.961Z"
   },
   {
    "duration": 31,
    "start_time": "2023-10-16T11:53:12.064Z"
   },
   {
    "duration": 38,
    "start_time": "2023-10-16T11:53:12.097Z"
   },
   {
    "duration": 33,
    "start_time": "2023-10-16T11:53:12.137Z"
   },
   {
    "duration": 48,
    "start_time": "2023-10-16T11:53:12.172Z"
   },
   {
    "duration": 59,
    "start_time": "2023-10-16T11:53:12.224Z"
   },
   {
    "duration": 5,
    "start_time": "2023-10-16T11:53:12.285Z"
   },
   {
    "duration": 533,
    "start_time": "2023-10-16T11:53:12.292Z"
   },
   {
    "duration": 4,
    "start_time": "2023-10-16T11:53:12.827Z"
   },
   {
    "duration": 165,
    "start_time": "2023-10-16T11:53:12.833Z"
   },
   {
    "duration": 113,
    "start_time": "2023-10-16T11:53:13.000Z"
   },
   {
    "duration": 43,
    "start_time": "2023-10-16T11:53:13.115Z"
   },
   {
    "duration": 7,
    "start_time": "2023-10-16T11:53:13.160Z"
   },
   {
    "duration": 18,
    "start_time": "2023-10-16T11:53:13.169Z"
   },
   {
    "duration": 9,
    "start_time": "2023-10-16T11:53:13.189Z"
   },
   {
    "duration": 16,
    "start_time": "2023-10-16T11:53:13.201Z"
   },
   {
    "duration": 44,
    "start_time": "2023-10-16T11:53:13.219Z"
   },
   {
    "duration": 30,
    "start_time": "2023-10-16T11:53:13.264Z"
   },
   {
    "duration": 6,
    "start_time": "2023-10-16T11:53:13.297Z"
   },
   {
    "duration": 81,
    "start_time": "2023-10-16T11:53:13.305Z"
   },
   {
    "duration": 6,
    "start_time": "2023-10-16T11:53:13.387Z"
   },
   {
    "duration": 36,
    "start_time": "2023-10-16T11:53:13.395Z"
   },
   {
    "duration": 9,
    "start_time": "2023-10-16T11:53:13.433Z"
   },
   {
    "duration": 19,
    "start_time": "2023-10-16T11:53:13.444Z"
   },
   {
    "duration": 29,
    "start_time": "2023-10-16T11:53:13.465Z"
   },
   {
    "duration": 31,
    "start_time": "2023-10-16T11:53:13.497Z"
   },
   {
    "duration": 767,
    "start_time": "2023-10-16T11:53:13.530Z"
   },
   {
    "duration": 80,
    "start_time": "2023-10-16T11:53:14.299Z"
   },
   {
    "duration": 28,
    "start_time": "2023-10-16T11:53:14.381Z"
   },
   {
    "duration": 29,
    "start_time": "2023-10-16T11:53:14.457Z"
   },
   {
    "duration": 69,
    "start_time": "2023-10-16T11:53:14.488Z"
   },
   {
    "duration": 7,
    "start_time": "2023-10-16T11:53:14.559Z"
   },
   {
    "duration": 16,
    "start_time": "2023-10-16T11:53:14.571Z"
   },
   {
    "duration": 70,
    "start_time": "2023-10-16T11:53:14.589Z"
   },
   {
    "duration": 411,
    "start_time": "2023-10-16T11:53:14.662Z"
   },
   {
    "duration": 804,
    "start_time": "2023-10-16T11:53:15.075Z"
   },
   {
    "duration": 19,
    "start_time": "2023-10-16T11:53:15.881Z"
   },
   {
    "duration": 23,
    "start_time": "2023-10-16T11:53:15.902Z"
   },
   {
    "duration": 30,
    "start_time": "2023-10-16T11:53:15.927Z"
   },
   {
    "duration": 14,
    "start_time": "2023-10-16T11:53:15.959Z"
   },
   {
    "duration": 54,
    "start_time": "2023-10-16T11:53:15.975Z"
   },
   {
    "duration": 42,
    "start_time": "2023-10-16T11:53:16.031Z"
   },
   {
    "duration": 5,
    "start_time": "2023-10-16T11:53:16.075Z"
   },
   {
    "duration": 20,
    "start_time": "2023-10-16T11:53:16.082Z"
   },
   {
    "duration": 18,
    "start_time": "2023-10-16T11:53:16.104Z"
   },
   {
    "duration": 35,
    "start_time": "2023-10-16T11:53:16.124Z"
   },
   {
    "duration": 29,
    "start_time": "2023-10-16T11:53:16.161Z"
   },
   {
    "duration": 21,
    "start_time": "2023-10-16T11:53:16.192Z"
   },
   {
    "duration": 24,
    "start_time": "2023-10-16T11:53:16.215Z"
   },
   {
    "duration": 45,
    "start_time": "2023-10-16T11:53:16.241Z"
   },
   {
    "duration": 75,
    "start_time": "2023-10-16T11:53:16.287Z"
   },
   {
    "duration": 12,
    "start_time": "2023-10-16T11:53:16.364Z"
   },
   {
    "duration": 28,
    "start_time": "2023-10-16T11:53:16.378Z"
   },
   {
    "duration": 200,
    "start_time": "2023-10-16T11:53:16.408Z"
   },
   {
    "duration": 28,
    "start_time": "2023-10-16T11:53:16.610Z"
   },
   {
    "duration": 115,
    "start_time": "2023-10-16T11:53:16.656Z"
   },
   {
    "duration": 5,
    "start_time": "2023-10-16T11:53:16.773Z"
   },
   {
    "duration": 36,
    "start_time": "2023-10-16T11:53:16.780Z"
   },
   {
    "duration": 16,
    "start_time": "2023-10-16T11:53:16.818Z"
   },
   {
    "duration": 10,
    "start_time": "2023-10-16T11:53:16.837Z"
   },
   {
    "duration": 13,
    "start_time": "2023-10-16T11:53:16.849Z"
   },
   {
    "duration": 11,
    "start_time": "2023-10-16T11:53:16.864Z"
   },
   {
    "duration": 40,
    "start_time": "2023-10-16T11:53:16.877Z"
   },
   {
    "duration": 10,
    "start_time": "2023-10-16T11:54:19.487Z"
   },
   {
    "duration": 12,
    "start_time": "2023-10-16T11:54:25.191Z"
   },
   {
    "duration": 11,
    "start_time": "2023-10-16T11:54:27.115Z"
   },
   {
    "duration": 10,
    "start_time": "2023-10-16T11:54:35.281Z"
   },
   {
    "duration": 11,
    "start_time": "2023-10-16T11:54:37.397Z"
   },
   {
    "duration": 1489,
    "start_time": "2023-10-16T11:54:58.695Z"
   },
   {
    "duration": 41,
    "start_time": "2023-10-16T11:55:00.188Z"
   },
   {
    "duration": 193,
    "start_time": "2023-10-16T11:55:00.231Z"
   },
   {
    "duration": 612,
    "start_time": "2023-10-16T11:55:00.426Z"
   },
   {
    "duration": 43,
    "start_time": "2023-10-16T11:55:01.041Z"
   },
   {
    "duration": 234,
    "start_time": "2023-10-16T11:55:01.086Z"
   },
   {
    "duration": 65,
    "start_time": "2023-10-16T11:55:01.322Z"
   },
   {
    "duration": 47,
    "start_time": "2023-10-16T11:55:01.389Z"
   },
   {
    "duration": 151,
    "start_time": "2023-10-16T11:55:01.438Z"
   },
   {
    "duration": 85,
    "start_time": "2023-10-16T11:55:01.592Z"
   },
   {
    "duration": 25,
    "start_time": "2023-10-16T11:55:01.679Z"
   },
   {
    "duration": 51,
    "start_time": "2023-10-16T11:55:01.706Z"
   },
   {
    "duration": 97,
    "start_time": "2023-10-16T11:55:01.759Z"
   },
   {
    "duration": 126,
    "start_time": "2023-10-16T11:55:01.859Z"
   },
   {
    "duration": 70,
    "start_time": "2023-10-16T11:55:01.988Z"
   },
   {
    "duration": 1214,
    "start_time": "2023-10-16T11:55:02.060Z"
   },
   {
    "duration": 3,
    "start_time": "2023-10-16T11:55:03.276Z"
   },
   {
    "duration": 220,
    "start_time": "2023-10-16T11:55:03.281Z"
   },
   {
    "duration": 109,
    "start_time": "2023-10-16T11:55:03.504Z"
   },
   {
    "duration": 52,
    "start_time": "2023-10-16T11:55:03.615Z"
   },
   {
    "duration": 5,
    "start_time": "2023-10-16T11:55:03.670Z"
   },
   {
    "duration": 16,
    "start_time": "2023-10-16T11:55:03.677Z"
   },
   {
    "duration": 8,
    "start_time": "2023-10-16T11:55:03.695Z"
   },
   {
    "duration": 44,
    "start_time": "2023-10-16T11:55:03.705Z"
   },
   {
    "duration": 16,
    "start_time": "2023-10-16T11:55:03.751Z"
   },
   {
    "duration": 37,
    "start_time": "2023-10-16T11:55:03.770Z"
   },
   {
    "duration": 5,
    "start_time": "2023-10-16T11:55:03.808Z"
   },
   {
    "duration": 139,
    "start_time": "2023-10-16T11:55:03.818Z"
   },
   {
    "duration": 5,
    "start_time": "2023-10-16T11:55:03.959Z"
   },
   {
    "duration": 19,
    "start_time": "2023-10-16T11:55:03.966Z"
   },
   {
    "duration": 8,
    "start_time": "2023-10-16T11:55:03.987Z"
   },
   {
    "duration": 63,
    "start_time": "2023-10-16T11:55:03.997Z"
   },
   {
    "duration": 13,
    "start_time": "2023-10-16T11:55:04.062Z"
   },
   {
    "duration": 21,
    "start_time": "2023-10-16T11:55:04.077Z"
   },
   {
    "duration": 790,
    "start_time": "2023-10-16T11:55:04.100Z"
   },
   {
    "duration": 77,
    "start_time": "2023-10-16T11:55:04.892Z"
   },
   {
    "duration": 95,
    "start_time": "2023-10-16T11:55:04.971Z"
   },
   {
    "duration": 106,
    "start_time": "2023-10-16T11:55:05.068Z"
   },
   {
    "duration": 18,
    "start_time": "2023-10-16T11:55:05.176Z"
   },
   {
    "duration": 64,
    "start_time": "2023-10-16T11:55:05.196Z"
   },
   {
    "duration": 43,
    "start_time": "2023-10-16T11:55:05.262Z"
   },
   {
    "duration": 62,
    "start_time": "2023-10-16T11:55:05.307Z"
   },
   {
    "duration": 406,
    "start_time": "2023-10-16T11:55:05.371Z"
   },
   {
    "duration": 390,
    "start_time": "2023-10-16T11:55:05.779Z"
   },
   {
    "duration": 19,
    "start_time": "2023-10-16T11:55:06.171Z"
   },
   {
    "duration": 7,
    "start_time": "2023-10-16T11:55:06.191Z"
   },
   {
    "duration": 30,
    "start_time": "2023-10-16T11:55:06.200Z"
   },
   {
    "duration": 72,
    "start_time": "2023-10-16T11:55:06.233Z"
   },
   {
    "duration": 12,
    "start_time": "2023-10-16T11:55:06.307Z"
   },
   {
    "duration": 23,
    "start_time": "2023-10-16T11:55:06.321Z"
   },
   {
    "duration": 5,
    "start_time": "2023-10-16T11:55:06.346Z"
   },
   {
    "duration": 14,
    "start_time": "2023-10-16T11:55:06.353Z"
   },
   {
    "duration": 13,
    "start_time": "2023-10-16T11:55:06.369Z"
   },
   {
    "duration": 16,
    "start_time": "2023-10-16T11:55:06.384Z"
   },
   {
    "duration": 23,
    "start_time": "2023-10-16T11:55:06.401Z"
   },
   {
    "duration": 30,
    "start_time": "2023-10-16T11:55:06.426Z"
   },
   {
    "duration": 19,
    "start_time": "2023-10-16T11:55:06.458Z"
   },
   {
    "duration": 90,
    "start_time": "2023-10-16T11:55:06.479Z"
   },
   {
    "duration": 113,
    "start_time": "2023-10-16T11:55:06.571Z"
   },
   {
    "duration": 11,
    "start_time": "2023-10-16T11:55:06.686Z"
   },
   {
    "duration": 75,
    "start_time": "2023-10-16T11:55:06.698Z"
   },
   {
    "duration": 404,
    "start_time": "2023-10-16T11:55:06.775Z"
   },
   {
    "duration": 85,
    "start_time": "2023-10-16T11:55:07.180Z"
   },
   {
    "duration": 114,
    "start_time": "2023-10-16T11:55:07.267Z"
   },
   {
    "duration": 15,
    "start_time": "2023-10-16T11:55:07.383Z"
   },
   {
    "duration": 68,
    "start_time": "2023-10-16T11:55:07.400Z"
   },
   {
    "duration": 42,
    "start_time": "2023-10-16T11:55:07.471Z"
   },
   {
    "duration": 56,
    "start_time": "2023-10-16T11:55:07.515Z"
   },
   {
    "duration": 23,
    "start_time": "2023-10-16T11:55:07.573Z"
   },
   {
    "duration": 27,
    "start_time": "2023-10-16T11:55:07.598Z"
   },
   {
    "duration": 6,
    "start_time": "2023-10-16T11:55:07.656Z"
   },
   {
    "duration": 47,
    "start_time": "2023-10-16T17:30:57.872Z"
   },
   {
    "duration": 1535,
    "start_time": "2023-10-16T17:31:04.689Z"
   },
   {
    "duration": 74,
    "start_time": "2023-10-16T17:31:06.226Z"
   },
   {
    "duration": 185,
    "start_time": "2023-10-16T17:31:06.302Z"
   },
   {
    "duration": 706,
    "start_time": "2023-10-16T17:31:06.490Z"
   },
   {
    "duration": 68,
    "start_time": "2023-10-16T17:31:07.198Z"
   },
   {
    "duration": 4,
    "start_time": "2023-10-16T17:31:07.268Z"
   },
   {
    "duration": 56,
    "start_time": "2023-10-16T17:31:07.273Z"
   },
   {
    "duration": 19,
    "start_time": "2023-10-16T17:31:07.330Z"
   },
   {
    "duration": 99,
    "start_time": "2023-10-16T17:31:07.351Z"
   },
   {
    "duration": 29,
    "start_time": "2023-10-16T17:31:07.453Z"
   },
   {
    "duration": 19,
    "start_time": "2023-10-16T17:31:07.485Z"
   },
   {
    "duration": 15,
    "start_time": "2023-10-16T17:31:07.506Z"
   },
   {
    "duration": 19,
    "start_time": "2023-10-16T17:31:07.523Z"
   },
   {
    "duration": 61,
    "start_time": "2023-10-16T17:31:07.544Z"
   },
   {
    "duration": 5,
    "start_time": "2023-10-16T17:31:07.606Z"
   },
   {
    "duration": 483,
    "start_time": "2023-10-16T17:31:07.613Z"
   },
   {
    "duration": 3,
    "start_time": "2023-10-16T17:31:08.100Z"
   },
   {
    "duration": 137,
    "start_time": "2023-10-16T17:31:08.105Z"
   },
   {
    "duration": 101,
    "start_time": "2023-10-16T17:31:08.243Z"
   },
   {
    "duration": 31,
    "start_time": "2023-10-16T17:31:08.345Z"
   },
   {
    "duration": 24,
    "start_time": "2023-10-16T17:31:08.378Z"
   },
   {
    "duration": 24,
    "start_time": "2023-10-16T17:31:08.404Z"
   },
   {
    "duration": 14,
    "start_time": "2023-10-16T17:31:08.429Z"
   },
   {
    "duration": 27,
    "start_time": "2023-10-16T17:31:08.445Z"
   },
   {
    "duration": 29,
    "start_time": "2023-10-16T17:31:08.474Z"
   },
   {
    "duration": 42,
    "start_time": "2023-10-16T17:31:08.504Z"
   },
   {
    "duration": 60,
    "start_time": "2023-10-16T17:31:08.547Z"
   },
   {
    "duration": 102,
    "start_time": "2023-10-16T17:31:08.611Z"
   },
   {
    "duration": 5,
    "start_time": "2023-10-16T17:31:08.714Z"
   },
   {
    "duration": 33,
    "start_time": "2023-10-16T17:31:08.720Z"
   },
   {
    "duration": 62,
    "start_time": "2023-10-16T17:31:08.755Z"
   },
   {
    "duration": 61,
    "start_time": "2023-10-16T17:31:08.819Z"
   },
   {
    "duration": 11,
    "start_time": "2023-10-16T17:31:08.901Z"
   },
   {
    "duration": 35,
    "start_time": "2023-10-16T17:31:08.914Z"
   },
   {
    "duration": 798,
    "start_time": "2023-10-16T17:31:08.950Z"
   },
   {
    "duration": 78,
    "start_time": "2023-10-16T17:31:09.750Z"
   },
   {
    "duration": 78,
    "start_time": "2023-10-16T17:31:09.831Z"
   },
   {
    "duration": 90,
    "start_time": "2023-10-16T17:31:09.911Z"
   },
   {
    "duration": 13,
    "start_time": "2023-10-16T17:31:10.004Z"
   },
   {
    "duration": 82,
    "start_time": "2023-10-16T17:31:10.019Z"
   },
   {
    "duration": 8,
    "start_time": "2023-10-16T17:31:10.103Z"
   },
   {
    "duration": 25,
    "start_time": "2023-10-16T17:31:10.113Z"
   },
   {
    "duration": 242,
    "start_time": "2023-10-16T17:31:10.140Z"
   },
   {
    "duration": 355,
    "start_time": "2023-10-16T17:31:10.383Z"
   },
   {
    "duration": 16,
    "start_time": "2023-10-16T17:31:10.739Z"
   },
   {
    "duration": 34,
    "start_time": "2023-10-16T17:31:10.757Z"
   },
   {
    "duration": 39,
    "start_time": "2023-10-16T17:31:10.792Z"
   },
   {
    "duration": 12,
    "start_time": "2023-10-16T17:31:10.833Z"
   },
   {
    "duration": 28,
    "start_time": "2023-10-16T17:31:10.847Z"
   },
   {
    "duration": 25,
    "start_time": "2023-10-16T17:31:10.877Z"
   },
   {
    "duration": 37,
    "start_time": "2023-10-16T17:31:10.904Z"
   },
   {
    "duration": 15,
    "start_time": "2023-10-16T17:31:10.942Z"
   },
   {
    "duration": 21,
    "start_time": "2023-10-16T17:31:10.959Z"
   },
   {
    "duration": 30,
    "start_time": "2023-10-16T17:31:10.982Z"
   },
   {
    "duration": 24,
    "start_time": "2023-10-16T17:31:11.014Z"
   },
   {
    "duration": 3,
    "start_time": "2023-10-16T17:31:11.040Z"
   },
   {
    "duration": 69,
    "start_time": "2023-10-16T17:31:11.045Z"
   },
   {
    "duration": 43,
    "start_time": "2023-10-16T17:31:11.117Z"
   },
   {
    "duration": 63,
    "start_time": "2023-10-16T17:31:11.162Z"
   },
   {
    "duration": 10,
    "start_time": "2023-10-16T17:31:11.227Z"
   },
   {
    "duration": 40,
    "start_time": "2023-10-16T17:31:11.238Z"
   },
   {
    "duration": 143,
    "start_time": "2023-10-16T17:31:11.279Z"
   },
   {
    "duration": 24,
    "start_time": "2023-10-16T17:31:11.424Z"
   },
   {
    "duration": 71,
    "start_time": "2023-10-16T17:31:11.450Z"
   },
   {
    "duration": 6,
    "start_time": "2023-10-16T17:31:11.522Z"
   },
   {
    "duration": 96,
    "start_time": "2023-10-16T17:31:11.529Z"
   },
   {
    "duration": 177,
    "start_time": "2023-10-16T17:31:11.626Z"
   },
   {
    "duration": 167,
    "start_time": "2023-10-16T17:31:11.805Z"
   },
   {
    "duration": 45,
    "start_time": "2023-10-16T17:31:11.974Z"
   },
   {
    "duration": 19,
    "start_time": "2023-10-16T17:31:12.021Z"
   },
   {
    "duration": 19,
    "start_time": "2023-10-16T17:31:12.042Z"
   },
   {
    "duration": 5,
    "start_time": "2023-10-16T17:31:42.288Z"
   },
   {
    "duration": 5,
    "start_time": "2023-10-16T17:33:22.188Z"
   },
   {
    "duration": 6,
    "start_time": "2023-10-16T17:33:38.925Z"
   },
   {
    "duration": 311,
    "start_time": "2023-10-16T20:01:54.663Z"
   },
   {
    "duration": 8,
    "start_time": "2023-10-16T20:02:00.471Z"
   },
   {
    "duration": 8,
    "start_time": "2023-10-16T20:02:22.453Z"
   },
   {
    "duration": 7,
    "start_time": "2023-10-16T20:02:32.663Z"
   },
   {
    "duration": 1377,
    "start_time": "2023-10-16T20:02:39.332Z"
   },
   {
    "duration": 41,
    "start_time": "2023-10-16T20:02:40.711Z"
   },
   {
    "duration": 96,
    "start_time": "2023-10-16T20:02:40.754Z"
   },
   {
    "duration": 591,
    "start_time": "2023-10-16T20:02:40.852Z"
   },
   {
    "duration": 32,
    "start_time": "2023-10-16T20:02:41.445Z"
   },
   {
    "duration": 49,
    "start_time": "2023-10-16T20:02:41.479Z"
   },
   {
    "duration": 31,
    "start_time": "2023-10-16T20:02:41.530Z"
   },
   {
    "duration": 51,
    "start_time": "2023-10-16T20:02:41.562Z"
   },
   {
    "duration": 84,
    "start_time": "2023-10-16T20:02:41.614Z"
   },
   {
    "duration": 25,
    "start_time": "2023-10-16T20:02:41.701Z"
   },
   {
    "duration": 7,
    "start_time": "2023-10-16T20:02:41.728Z"
   },
   {
    "duration": 36,
    "start_time": "2023-10-16T20:02:41.736Z"
   },
   {
    "duration": 51,
    "start_time": "2023-10-16T20:02:41.774Z"
   },
   {
    "duration": 89,
    "start_time": "2023-10-16T20:02:41.827Z"
   },
   {
    "duration": 18,
    "start_time": "2023-10-16T20:02:41.918Z"
   },
   {
    "duration": 450,
    "start_time": "2023-10-16T20:02:41.937Z"
   },
   {
    "duration": 5,
    "start_time": "2023-10-16T20:02:42.388Z"
   },
   {
    "duration": 132,
    "start_time": "2023-10-16T20:02:42.401Z"
   },
   {
    "duration": 331,
    "start_time": "2023-10-16T20:02:42.535Z"
   },
   {
    "duration": 173,
    "start_time": "2023-10-16T20:02:42.867Z"
   },
   {
    "duration": 7,
    "start_time": "2023-10-16T20:02:43.041Z"
   },
   {
    "duration": 14,
    "start_time": "2023-10-16T20:02:43.049Z"
   },
   {
    "duration": 35,
    "start_time": "2023-10-16T20:02:43.064Z"
   },
   {
    "duration": 21,
    "start_time": "2023-10-16T20:02:43.101Z"
   },
   {
    "duration": 8,
    "start_time": "2023-10-16T20:02:43.124Z"
   },
   {
    "duration": 19,
    "start_time": "2023-10-16T20:02:43.134Z"
   },
   {
    "duration": 26,
    "start_time": "2023-10-16T20:02:43.155Z"
   },
   {
    "duration": 79,
    "start_time": "2023-10-16T20:02:43.185Z"
   },
   {
    "duration": 51,
    "start_time": "2023-10-16T20:02:43.266Z"
   },
   {
    "duration": 38,
    "start_time": "2023-10-16T20:02:43.319Z"
   },
   {
    "duration": 64,
    "start_time": "2023-10-16T20:02:43.358Z"
   },
   {
    "duration": 21,
    "start_time": "2023-10-16T20:02:43.424Z"
   },
   {
    "duration": 36,
    "start_time": "2023-10-16T20:02:43.447Z"
   },
   {
    "duration": 26,
    "start_time": "2023-10-16T20:02:43.485Z"
   },
   {
    "duration": 376,
    "start_time": "2023-10-16T20:02:43.513Z"
   },
   {
    "duration": 27,
    "start_time": "2023-10-16T20:02:43.891Z"
   },
   {
    "duration": 25,
    "start_time": "2023-10-16T20:02:43.920Z"
   },
   {
    "duration": 77,
    "start_time": "2023-10-16T20:02:43.946Z"
   },
   {
    "duration": 111,
    "start_time": "2023-10-16T20:02:44.024Z"
   },
   {
    "duration": 18,
    "start_time": "2023-10-16T20:02:44.137Z"
   },
   {
    "duration": 23,
    "start_time": "2023-10-16T20:02:44.157Z"
   },
   {
    "duration": 20,
    "start_time": "2023-10-16T20:02:44.182Z"
   },
   {
    "duration": 244,
    "start_time": "2023-10-16T20:02:44.204Z"
   },
   {
    "duration": 520,
    "start_time": "2023-10-16T20:02:44.450Z"
   },
   {
    "duration": 29,
    "start_time": "2023-10-16T20:02:44.972Z"
   },
   {
    "duration": 129,
    "start_time": "2023-10-16T20:02:45.004Z"
   },
   {
    "duration": 62,
    "start_time": "2023-10-16T20:02:45.135Z"
   },
   {
    "duration": 45,
    "start_time": "2023-10-16T20:02:45.199Z"
   },
   {
    "duration": 56,
    "start_time": "2023-10-16T20:02:45.246Z"
   },
   {
    "duration": 130,
    "start_time": "2023-10-16T20:02:45.304Z"
   },
   {
    "duration": 202,
    "start_time": "2023-10-16T20:02:45.436Z"
   },
   {
    "duration": 27,
    "start_time": "2023-10-16T20:02:45.640Z"
   },
   {
    "duration": 43,
    "start_time": "2023-10-16T20:02:45.669Z"
   },
   {
    "duration": 30,
    "start_time": "2023-10-16T20:02:45.714Z"
   },
   {
    "duration": 44,
    "start_time": "2023-10-16T20:02:45.746Z"
   },
   {
    "duration": 52,
    "start_time": "2023-10-16T20:02:45.791Z"
   },
   {
    "duration": 22,
    "start_time": "2023-10-16T20:02:45.845Z"
   },
   {
    "duration": 35,
    "start_time": "2023-10-16T20:02:45.869Z"
   },
   {
    "duration": 65,
    "start_time": "2023-10-16T20:02:45.907Z"
   },
   {
    "duration": 10,
    "start_time": "2023-10-16T20:02:45.973Z"
   },
   {
    "duration": 15,
    "start_time": "2023-10-16T20:02:46.001Z"
   },
   {
    "duration": 156,
    "start_time": "2023-10-16T20:02:46.018Z"
   },
   {
    "duration": 29,
    "start_time": "2023-10-16T20:02:46.176Z"
   },
   {
    "duration": 48,
    "start_time": "2023-10-16T20:02:46.207Z"
   },
   {
    "duration": 5,
    "start_time": "2023-10-16T20:02:46.257Z"
   },
   {
    "duration": 18,
    "start_time": "2023-10-16T20:02:46.264Z"
   },
   {
    "duration": 21,
    "start_time": "2023-10-16T20:02:46.284Z"
   },
   {
    "duration": 17,
    "start_time": "2023-10-16T20:02:46.307Z"
   },
   {
    "duration": 11,
    "start_time": "2023-10-16T20:02:46.325Z"
   },
   {
    "duration": 9,
    "start_time": "2023-10-16T20:02:46.337Z"
   },
   {
    "duration": 6,
    "start_time": "2023-10-16T20:02:46.348Z"
   },
   {
    "duration": 7,
    "start_time": "2023-10-16T20:04:46.815Z"
   },
   {
    "duration": 1309,
    "start_time": "2023-10-16T20:04:59.422Z"
   },
   {
    "duration": 36,
    "start_time": "2023-10-16T20:05:00.733Z"
   },
   {
    "duration": 101,
    "start_time": "2023-10-16T20:05:00.770Z"
   },
   {
    "duration": 505,
    "start_time": "2023-10-16T20:05:00.874Z"
   },
   {
    "duration": 31,
    "start_time": "2023-10-16T20:05:01.381Z"
   },
   {
    "duration": 161,
    "start_time": "2023-10-16T20:05:01.413Z"
   },
   {
    "duration": 67,
    "start_time": "2023-10-16T20:05:01.576Z"
   },
   {
    "duration": 50,
    "start_time": "2023-10-16T20:05:01.644Z"
   },
   {
    "duration": 201,
    "start_time": "2023-10-16T20:05:01.696Z"
   },
   {
    "duration": 90,
    "start_time": "2023-10-16T20:05:01.900Z"
   },
   {
    "duration": 181,
    "start_time": "2023-10-16T20:05:01.992Z"
   },
   {
    "duration": 69,
    "start_time": "2023-10-16T20:05:02.175Z"
   },
   {
    "duration": 45,
    "start_time": "2023-10-16T20:05:02.246Z"
   },
   {
    "duration": 66,
    "start_time": "2023-10-16T20:05:02.292Z"
   },
   {
    "duration": 18,
    "start_time": "2023-10-16T20:05:02.360Z"
   },
   {
    "duration": 448,
    "start_time": "2023-10-16T20:05:02.380Z"
   },
   {
    "duration": 3,
    "start_time": "2023-10-16T20:05:02.830Z"
   },
   {
    "duration": 155,
    "start_time": "2023-10-16T20:05:02.834Z"
   },
   {
    "duration": 95,
    "start_time": "2023-10-16T20:05:02.991Z"
   },
   {
    "duration": 35,
    "start_time": "2023-10-16T20:05:03.088Z"
   },
   {
    "duration": 5,
    "start_time": "2023-10-16T20:05:03.125Z"
   },
   {
    "duration": 149,
    "start_time": "2023-10-16T20:05:03.131Z"
   },
   {
    "duration": 49,
    "start_time": "2023-10-16T20:05:03.282Z"
   },
   {
    "duration": 19,
    "start_time": "2023-10-16T20:05:03.333Z"
   },
   {
    "duration": 9,
    "start_time": "2023-10-16T20:05:03.354Z"
   },
   {
    "duration": 24,
    "start_time": "2023-10-16T20:05:03.364Z"
   },
   {
    "duration": 20,
    "start_time": "2023-10-16T20:05:03.389Z"
   },
   {
    "duration": 56,
    "start_time": "2023-10-16T20:05:03.413Z"
   },
   {
    "duration": 5,
    "start_time": "2023-10-16T20:05:03.470Z"
   },
   {
    "duration": 34,
    "start_time": "2023-10-16T20:05:03.477Z"
   },
   {
    "duration": 11,
    "start_time": "2023-10-16T20:05:03.513Z"
   },
   {
    "duration": 8,
    "start_time": "2023-10-16T20:05:03.526Z"
   },
   {
    "duration": 25,
    "start_time": "2023-10-16T20:05:03.535Z"
   },
   {
    "duration": 20,
    "start_time": "2023-10-16T20:05:03.562Z"
   },
   {
    "duration": 343,
    "start_time": "2023-10-16T20:05:03.583Z"
   },
   {
    "duration": 27,
    "start_time": "2023-10-16T20:05:03.927Z"
   },
   {
    "duration": 54,
    "start_time": "2023-10-16T20:05:03.956Z"
   },
   {
    "duration": 25,
    "start_time": "2023-10-16T20:05:04.011Z"
   },
   {
    "duration": 46,
    "start_time": "2023-10-16T20:05:04.038Z"
   },
   {
    "duration": 20,
    "start_time": "2023-10-16T20:05:04.085Z"
   },
   {
    "duration": 17,
    "start_time": "2023-10-16T20:05:04.107Z"
   },
   {
    "duration": 19,
    "start_time": "2023-10-16T20:05:04.126Z"
   },
   {
    "duration": 146,
    "start_time": "2023-10-16T20:05:04.147Z"
   },
   {
    "duration": 317,
    "start_time": "2023-10-16T20:05:04.301Z"
   },
   {
    "duration": 20,
    "start_time": "2023-10-16T20:05:04.620Z"
   },
   {
    "duration": 14,
    "start_time": "2023-10-16T20:05:04.642Z"
   },
   {
    "duration": 41,
    "start_time": "2023-10-16T20:05:04.659Z"
   },
   {
    "duration": 33,
    "start_time": "2023-10-16T20:05:04.702Z"
   },
   {
    "duration": 33,
    "start_time": "2023-10-16T20:05:04.737Z"
   },
   {
    "duration": 35,
    "start_time": "2023-10-16T20:05:04.772Z"
   },
   {
    "duration": 6,
    "start_time": "2023-10-16T20:05:04.809Z"
   },
   {
    "duration": 206,
    "start_time": "2023-10-16T20:05:04.816Z"
   },
   {
    "duration": 144,
    "start_time": "2023-10-16T20:05:05.024Z"
   },
   {
    "duration": 20,
    "start_time": "2023-10-16T20:05:05.170Z"
   },
   {
    "duration": 28,
    "start_time": "2023-10-16T20:05:05.192Z"
   },
   {
    "duration": 10,
    "start_time": "2023-10-16T20:05:05.221Z"
   },
   {
    "duration": 43,
    "start_time": "2023-10-16T20:05:05.233Z"
   },
   {
    "duration": 45,
    "start_time": "2023-10-16T20:05:05.278Z"
   },
   {
    "duration": 51,
    "start_time": "2023-10-16T20:05:05.325Z"
   },
   {
    "duration": 9,
    "start_time": "2023-10-16T20:05:05.378Z"
   },
   {
    "duration": 77,
    "start_time": "2023-10-16T20:05:05.388Z"
   },
   {
    "duration": 150,
    "start_time": "2023-10-16T20:05:05.466Z"
   },
   {
    "duration": 22,
    "start_time": "2023-10-16T20:05:05.618Z"
   },
   {
    "duration": 59,
    "start_time": "2023-10-16T20:05:05.642Z"
   },
   {
    "duration": 4,
    "start_time": "2023-10-16T20:05:05.703Z"
   },
   {
    "duration": 12,
    "start_time": "2023-10-16T20:05:05.709Z"
   },
   {
    "duration": 22,
    "start_time": "2023-10-16T20:05:05.722Z"
   },
   {
    "duration": 32,
    "start_time": "2023-10-16T20:05:05.745Z"
   },
   {
    "duration": 20,
    "start_time": "2023-10-16T20:05:05.779Z"
   },
   {
    "duration": 37,
    "start_time": "2023-10-16T20:05:05.801Z"
   },
   {
    "duration": 13,
    "start_time": "2023-10-16T20:05:05.840Z"
   },
   {
    "duration": 20,
    "start_time": "2023-10-16T20:08:18.918Z"
   },
   {
    "duration": 86,
    "start_time": "2023-10-16T20:08:35.057Z"
   },
   {
    "duration": 5,
    "start_time": "2023-10-16T20:08:39.446Z"
   },
   {
    "duration": 108,
    "start_time": "2023-10-16T20:21:03.343Z"
   },
   {
    "duration": 68,
    "start_time": "2023-10-16T20:21:25.354Z"
   },
   {
    "duration": 75,
    "start_time": "2023-10-16T20:21:33.507Z"
   },
   {
    "duration": 1322,
    "start_time": "2023-10-16T20:22:05.610Z"
   },
   {
    "duration": 35,
    "start_time": "2023-10-16T20:22:06.934Z"
   },
   {
    "duration": 79,
    "start_time": "2023-10-16T20:22:06.971Z"
   },
   {
    "duration": 541,
    "start_time": "2023-10-16T20:22:07.052Z"
   },
   {
    "duration": 31,
    "start_time": "2023-10-16T20:22:07.595Z"
   },
   {
    "duration": 5,
    "start_time": "2023-10-16T20:22:07.628Z"
   },
   {
    "duration": 36,
    "start_time": "2023-10-16T20:22:07.634Z"
   },
   {
    "duration": 28,
    "start_time": "2023-10-16T20:22:07.672Z"
   },
   {
    "duration": 87,
    "start_time": "2023-10-16T20:22:07.702Z"
   },
   {
    "duration": 31,
    "start_time": "2023-10-16T20:22:07.791Z"
   },
   {
    "duration": 7,
    "start_time": "2023-10-16T20:22:07.824Z"
   },
   {
    "duration": 6,
    "start_time": "2023-10-16T20:22:07.833Z"
   },
   {
    "duration": 13,
    "start_time": "2023-10-16T20:22:07.841Z"
   },
   {
    "duration": 63,
    "start_time": "2023-10-16T20:22:07.856Z"
   },
   {
    "duration": 6,
    "start_time": "2023-10-16T20:22:07.921Z"
   },
   {
    "duration": 477,
    "start_time": "2023-10-16T20:22:07.928Z"
   },
   {
    "duration": 3,
    "start_time": "2023-10-16T20:22:08.407Z"
   },
   {
    "duration": 125,
    "start_time": "2023-10-16T20:22:08.411Z"
   },
   {
    "duration": 109,
    "start_time": "2023-10-16T20:22:08.538Z"
   },
   {
    "duration": 30,
    "start_time": "2023-10-16T20:22:08.648Z"
   },
   {
    "duration": 26,
    "start_time": "2023-10-16T20:22:08.680Z"
   },
   {
    "duration": 23,
    "start_time": "2023-10-16T20:22:08.708Z"
   },
   {
    "duration": 18,
    "start_time": "2023-10-16T20:22:08.733Z"
   },
   {
    "duration": 22,
    "start_time": "2023-10-16T20:22:08.752Z"
   },
   {
    "duration": 8,
    "start_time": "2023-10-16T20:22:08.776Z"
   },
   {
    "duration": 22,
    "start_time": "2023-10-16T20:22:08.785Z"
   },
   {
    "duration": 4,
    "start_time": "2023-10-16T20:22:08.809Z"
   },
   {
    "duration": 39,
    "start_time": "2023-10-16T20:22:08.816Z"
   },
   {
    "duration": 4,
    "start_time": "2023-10-16T20:22:08.857Z"
   },
   {
    "duration": 18,
    "start_time": "2023-10-16T20:22:08.863Z"
   },
   {
    "duration": 5,
    "start_time": "2023-10-16T20:22:08.901Z"
   },
   {
    "duration": 21,
    "start_time": "2023-10-16T20:22:08.908Z"
   },
   {
    "duration": 14,
    "start_time": "2023-10-16T20:22:08.931Z"
   },
   {
    "duration": 24,
    "start_time": "2023-10-16T20:22:08.947Z"
   },
   {
    "duration": 412,
    "start_time": "2023-10-16T20:22:08.974Z"
   },
   {
    "duration": 29,
    "start_time": "2023-10-16T20:22:09.388Z"
   },
   {
    "duration": 8,
    "start_time": "2023-10-16T20:22:09.419Z"
   },
   {
    "duration": 83,
    "start_time": "2023-10-16T20:22:09.429Z"
   },
   {
    "duration": 12,
    "start_time": "2023-10-16T20:22:09.514Z"
   },
   {
    "duration": 31,
    "start_time": "2023-10-16T20:22:09.528Z"
   },
   {
    "duration": 89,
    "start_time": "2023-10-16T20:22:09.561Z"
   },
   {
    "duration": 33,
    "start_time": "2023-10-16T20:22:09.652Z"
   },
   {
    "duration": 249,
    "start_time": "2023-10-16T20:22:09.687Z"
   },
   {
    "duration": 694,
    "start_time": "2023-10-16T20:22:09.938Z"
   },
   {
    "duration": 71,
    "start_time": "2023-10-16T20:22:10.634Z"
   },
   {
    "duration": 5,
    "start_time": "2023-10-16T20:22:10.707Z"
   },
   {
    "duration": 39,
    "start_time": "2023-10-16T20:22:10.714Z"
   },
   {
    "duration": 58,
    "start_time": "2023-10-16T20:22:10.755Z"
   },
   {
    "duration": 30,
    "start_time": "2023-10-16T20:22:10.815Z"
   },
   {
    "duration": 76,
    "start_time": "2023-10-16T20:22:10.847Z"
   },
   {
    "duration": 30,
    "start_time": "2023-10-16T20:22:10.925Z"
   },
   {
    "duration": 53,
    "start_time": "2023-10-16T20:22:10.957Z"
   },
   {
    "duration": 27,
    "start_time": "2023-10-16T20:22:11.012Z"
   },
   {
    "duration": 79,
    "start_time": "2023-10-16T20:22:11.040Z"
   },
   {
    "duration": 0,
    "start_time": "2023-10-16T20:22:11.121Z"
   },
   {
    "duration": 0,
    "start_time": "2023-10-16T20:22:11.122Z"
   },
   {
    "duration": 0,
    "start_time": "2023-10-16T20:22:11.123Z"
   },
   {
    "duration": 0,
    "start_time": "2023-10-16T20:22:11.124Z"
   },
   {
    "duration": 0,
    "start_time": "2023-10-16T20:22:11.125Z"
   },
   {
    "duration": 0,
    "start_time": "2023-10-16T20:22:11.127Z"
   },
   {
    "duration": 0,
    "start_time": "2023-10-16T20:22:11.127Z"
   },
   {
    "duration": 0,
    "start_time": "2023-10-16T20:22:11.129Z"
   },
   {
    "duration": 0,
    "start_time": "2023-10-16T20:22:11.130Z"
   },
   {
    "duration": 0,
    "start_time": "2023-10-16T20:22:11.132Z"
   },
   {
    "duration": 0,
    "start_time": "2023-10-16T20:22:11.133Z"
   },
   {
    "duration": 0,
    "start_time": "2023-10-16T20:22:11.135Z"
   },
   {
    "duration": 0,
    "start_time": "2023-10-16T20:22:11.135Z"
   },
   {
    "duration": 0,
    "start_time": "2023-10-16T20:22:11.137Z"
   },
   {
    "duration": 0,
    "start_time": "2023-10-16T20:22:11.138Z"
   },
   {
    "duration": 0,
    "start_time": "2023-10-16T20:22:11.139Z"
   },
   {
    "duration": 0,
    "start_time": "2023-10-16T20:22:11.140Z"
   },
   {
    "duration": 0,
    "start_time": "2023-10-16T20:22:11.141Z"
   },
   {
    "duration": 0,
    "start_time": "2023-10-16T20:22:11.142Z"
   },
   {
    "duration": 85,
    "start_time": "2023-10-16T20:22:20.258Z"
   },
   {
    "duration": 145,
    "start_time": "2023-10-16T20:22:29.291Z"
   },
   {
    "duration": 1335,
    "start_time": "2023-10-16T20:22:40.487Z"
   },
   {
    "duration": 35,
    "start_time": "2023-10-16T20:22:41.824Z"
   },
   {
    "duration": 73,
    "start_time": "2023-10-16T20:22:41.861Z"
   },
   {
    "duration": 527,
    "start_time": "2023-10-16T20:22:41.936Z"
   },
   {
    "duration": 32,
    "start_time": "2023-10-16T20:22:42.465Z"
   },
   {
    "duration": 5,
    "start_time": "2023-10-16T20:22:42.499Z"
   },
   {
    "duration": 36,
    "start_time": "2023-10-16T20:22:42.505Z"
   },
   {
    "duration": 30,
    "start_time": "2023-10-16T20:22:42.542Z"
   },
   {
    "duration": 87,
    "start_time": "2023-10-16T20:22:42.574Z"
   },
   {
    "duration": 39,
    "start_time": "2023-10-16T20:22:42.664Z"
   },
   {
    "duration": 6,
    "start_time": "2023-10-16T20:22:42.705Z"
   },
   {
    "duration": 6,
    "start_time": "2023-10-16T20:22:42.713Z"
   },
   {
    "duration": 13,
    "start_time": "2023-10-16T20:22:42.721Z"
   },
   {
    "duration": 56,
    "start_time": "2023-10-16T20:22:42.736Z"
   },
   {
    "duration": 10,
    "start_time": "2023-10-16T20:22:42.793Z"
   },
   {
    "duration": 461,
    "start_time": "2023-10-16T20:22:42.804Z"
   },
   {
    "duration": 3,
    "start_time": "2023-10-16T20:22:43.266Z"
   },
   {
    "duration": 118,
    "start_time": "2023-10-16T20:22:43.271Z"
   },
   {
    "duration": 155,
    "start_time": "2023-10-16T20:22:43.391Z"
   },
   {
    "duration": 42,
    "start_time": "2023-10-16T20:22:43.602Z"
   },
   {
    "duration": 6,
    "start_time": "2023-10-16T20:22:43.701Z"
   },
   {
    "duration": 22,
    "start_time": "2023-10-16T20:22:43.709Z"
   },
   {
    "duration": 9,
    "start_time": "2023-10-16T20:22:43.733Z"
   },
   {
    "duration": 67,
    "start_time": "2023-10-16T20:22:43.744Z"
   },
   {
    "duration": 15,
    "start_time": "2023-10-16T20:22:43.813Z"
   },
   {
    "duration": 15,
    "start_time": "2023-10-16T20:22:43.829Z"
   },
   {
    "duration": 55,
    "start_time": "2023-10-16T20:22:43.846Z"
   },
   {
    "duration": 39,
    "start_time": "2023-10-16T20:22:43.905Z"
   },
   {
    "duration": 57,
    "start_time": "2023-10-16T20:22:43.946Z"
   },
   {
    "duration": 20,
    "start_time": "2023-10-16T20:22:44.005Z"
   },
   {
    "duration": 9,
    "start_time": "2023-10-16T20:22:44.026Z"
   },
   {
    "duration": 10,
    "start_time": "2023-10-16T20:22:44.037Z"
   },
   {
    "duration": 55,
    "start_time": "2023-10-16T20:22:44.049Z"
   },
   {
    "duration": 18,
    "start_time": "2023-10-16T20:22:44.106Z"
   },
   {
    "duration": 812,
    "start_time": "2023-10-16T20:22:44.126Z"
   },
   {
    "duration": 76,
    "start_time": "2023-10-16T20:22:44.940Z"
   },
   {
    "duration": 40,
    "start_time": "2023-10-16T20:22:45.018Z"
   },
   {
    "duration": 62,
    "start_time": "2023-10-16T20:22:45.060Z"
   },
   {
    "duration": 32,
    "start_time": "2023-10-16T20:22:45.124Z"
   },
   {
    "duration": 7,
    "start_time": "2023-10-16T20:22:45.202Z"
   },
   {
    "duration": 8,
    "start_time": "2023-10-16T20:22:45.210Z"
   },
   {
    "duration": 32,
    "start_time": "2023-10-16T20:22:45.220Z"
   },
   {
    "duration": 357,
    "start_time": "2023-10-16T20:22:45.255Z"
   },
   {
    "duration": 355,
    "start_time": "2023-10-16T20:22:45.614Z"
   },
   {
    "duration": 17,
    "start_time": "2023-10-16T20:22:45.971Z"
   },
   {
    "duration": 14,
    "start_time": "2023-10-16T20:22:45.989Z"
   },
   {
    "duration": 39,
    "start_time": "2023-10-16T20:22:46.005Z"
   },
   {
    "duration": 18,
    "start_time": "2023-10-16T20:22:46.046Z"
   },
   {
    "duration": 14,
    "start_time": "2023-10-16T20:22:46.066Z"
   },
   {
    "duration": 10,
    "start_time": "2023-10-16T20:22:46.100Z"
   },
   {
    "duration": 6,
    "start_time": "2023-10-16T20:22:46.111Z"
   },
   {
    "duration": 13,
    "start_time": "2023-10-16T20:22:46.118Z"
   },
   {
    "duration": 19,
    "start_time": "2023-10-16T20:22:46.132Z"
   },
   {
    "duration": 183,
    "start_time": "2023-10-16T20:22:46.153Z"
   },
   {
    "duration": 0,
    "start_time": "2023-10-16T20:22:46.338Z"
   },
   {
    "duration": 0,
    "start_time": "2023-10-16T20:22:46.339Z"
   },
   {
    "duration": 0,
    "start_time": "2023-10-16T20:22:46.341Z"
   },
   {
    "duration": 0,
    "start_time": "2023-10-16T20:22:46.342Z"
   },
   {
    "duration": 0,
    "start_time": "2023-10-16T20:22:46.343Z"
   },
   {
    "duration": 0,
    "start_time": "2023-10-16T20:22:46.344Z"
   },
   {
    "duration": 0,
    "start_time": "2023-10-16T20:22:46.346Z"
   },
   {
    "duration": 0,
    "start_time": "2023-10-16T20:22:46.347Z"
   },
   {
    "duration": 0,
    "start_time": "2023-10-16T20:22:46.348Z"
   },
   {
    "duration": 0,
    "start_time": "2023-10-16T20:22:46.349Z"
   },
   {
    "duration": 0,
    "start_time": "2023-10-16T20:22:46.350Z"
   },
   {
    "duration": 0,
    "start_time": "2023-10-16T20:22:46.351Z"
   },
   {
    "duration": 0,
    "start_time": "2023-10-16T20:22:46.352Z"
   },
   {
    "duration": 0,
    "start_time": "2023-10-16T20:22:46.353Z"
   },
   {
    "duration": 0,
    "start_time": "2023-10-16T20:22:46.354Z"
   },
   {
    "duration": 0,
    "start_time": "2023-10-16T20:22:46.355Z"
   },
   {
    "duration": 0,
    "start_time": "2023-10-16T20:22:46.356Z"
   },
   {
    "duration": 0,
    "start_time": "2023-10-16T20:22:46.357Z"
   },
   {
    "duration": 0,
    "start_time": "2023-10-16T20:22:46.358Z"
   },
   {
    "duration": 1326,
    "start_time": "2023-10-16T20:24:15.410Z"
   },
   {
    "duration": 36,
    "start_time": "2023-10-16T20:24:16.738Z"
   },
   {
    "duration": 91,
    "start_time": "2023-10-16T20:24:16.775Z"
   },
   {
    "duration": 937,
    "start_time": "2023-10-16T20:24:16.868Z"
   },
   {
    "duration": 41,
    "start_time": "2023-10-16T20:24:17.806Z"
   },
   {
    "duration": 53,
    "start_time": "2023-10-16T20:24:17.849Z"
   },
   {
    "duration": 98,
    "start_time": "2023-10-16T20:24:17.903Z"
   },
   {
    "duration": 21,
    "start_time": "2023-10-16T20:24:18.003Z"
   },
   {
    "duration": 182,
    "start_time": "2023-10-16T20:24:18.025Z"
   },
   {
    "duration": 27,
    "start_time": "2023-10-16T20:24:18.210Z"
   },
   {
    "duration": 62,
    "start_time": "2023-10-16T20:24:18.239Z"
   },
   {
    "duration": 2,
    "start_time": "2023-10-16T20:24:18.303Z"
   },
   {
    "duration": 7,
    "start_time": "2023-10-16T20:24:18.307Z"
   },
   {
    "duration": 114,
    "start_time": "2023-10-16T20:24:18.316Z"
   },
   {
    "duration": 5,
    "start_time": "2023-10-16T20:24:18.433Z"
   },
   {
    "duration": 722,
    "start_time": "2023-10-16T20:24:18.439Z"
   },
   {
    "duration": 3,
    "start_time": "2023-10-16T20:24:19.163Z"
   },
   {
    "duration": 119,
    "start_time": "2023-10-16T20:24:19.167Z"
   },
   {
    "duration": 92,
    "start_time": "2023-10-16T20:24:19.287Z"
   },
   {
    "duration": 43,
    "start_time": "2023-10-16T20:24:19.381Z"
   },
   {
    "duration": 5,
    "start_time": "2023-10-16T20:24:19.426Z"
   },
   {
    "duration": 13,
    "start_time": "2023-10-16T20:24:19.433Z"
   },
   {
    "duration": 8,
    "start_time": "2023-10-16T20:24:19.448Z"
   },
   {
    "duration": 43,
    "start_time": "2023-10-16T20:24:19.458Z"
   },
   {
    "duration": 8,
    "start_time": "2023-10-16T20:24:19.503Z"
   },
   {
    "duration": 23,
    "start_time": "2023-10-16T20:24:19.513Z"
   },
   {
    "duration": 5,
    "start_time": "2023-10-16T20:24:19.537Z"
   },
   {
    "duration": 56,
    "start_time": "2023-10-16T20:24:19.546Z"
   },
   {
    "duration": 6,
    "start_time": "2023-10-16T20:24:19.604Z"
   },
   {
    "duration": 30,
    "start_time": "2023-10-16T20:24:19.611Z"
   },
   {
    "duration": 9,
    "start_time": "2023-10-16T20:24:19.643Z"
   },
   {
    "duration": 10,
    "start_time": "2023-10-16T20:24:19.653Z"
   },
   {
    "duration": 11,
    "start_time": "2023-10-16T20:24:19.665Z"
   },
   {
    "duration": 30,
    "start_time": "2023-10-16T20:24:19.678Z"
   },
   {
    "duration": 374,
    "start_time": "2023-10-16T20:24:19.709Z"
   },
   {
    "duration": 36,
    "start_time": "2023-10-16T20:24:20.084Z"
   },
   {
    "duration": 79,
    "start_time": "2023-10-16T20:24:20.123Z"
   },
   {
    "duration": 48,
    "start_time": "2023-10-16T20:24:20.204Z"
   },
   {
    "duration": 12,
    "start_time": "2023-10-16T20:24:20.254Z"
   },
   {
    "duration": 30,
    "start_time": "2023-10-16T20:24:20.267Z"
   },
   {
    "duration": 35,
    "start_time": "2023-10-16T20:24:20.298Z"
   },
   {
    "duration": 28,
    "start_time": "2023-10-16T20:24:20.335Z"
   },
   {
    "duration": 160,
    "start_time": "2023-10-16T20:24:20.365Z"
   },
   {
    "duration": 354,
    "start_time": "2023-10-16T20:24:20.527Z"
   },
   {
    "duration": 21,
    "start_time": "2023-10-16T20:24:20.883Z"
   },
   {
    "duration": 23,
    "start_time": "2023-10-16T20:24:20.906Z"
   },
   {
    "duration": 33,
    "start_time": "2023-10-16T20:24:20.931Z"
   },
   {
    "duration": 42,
    "start_time": "2023-10-16T20:24:20.965Z"
   },
   {
    "duration": 42,
    "start_time": "2023-10-16T20:24:21.009Z"
   },
   {
    "duration": 44,
    "start_time": "2023-10-16T20:24:21.053Z"
   },
   {
    "duration": 24,
    "start_time": "2023-10-16T20:24:21.098Z"
   },
   {
    "duration": 66,
    "start_time": "2023-10-16T20:24:21.123Z"
   },
   {
    "duration": 101,
    "start_time": "2023-10-16T20:24:21.191Z"
   },
   {
    "duration": 214,
    "start_time": "2023-10-16T20:24:21.293Z"
   },
   {
    "duration": 0,
    "start_time": "2023-10-16T20:24:21.508Z"
   },
   {
    "duration": 0,
    "start_time": "2023-10-16T20:24:21.509Z"
   },
   {
    "duration": 0,
    "start_time": "2023-10-16T20:24:21.510Z"
   },
   {
    "duration": 0,
    "start_time": "2023-10-16T20:24:21.511Z"
   },
   {
    "duration": 0,
    "start_time": "2023-10-16T20:24:21.513Z"
   },
   {
    "duration": 0,
    "start_time": "2023-10-16T20:24:21.514Z"
   },
   {
    "duration": 0,
    "start_time": "2023-10-16T20:24:21.515Z"
   },
   {
    "duration": 0,
    "start_time": "2023-10-16T20:24:21.517Z"
   },
   {
    "duration": 0,
    "start_time": "2023-10-16T20:24:21.518Z"
   },
   {
    "duration": 0,
    "start_time": "2023-10-16T20:24:21.519Z"
   },
   {
    "duration": 0,
    "start_time": "2023-10-16T20:24:21.520Z"
   },
   {
    "duration": 0,
    "start_time": "2023-10-16T20:24:21.521Z"
   },
   {
    "duration": 0,
    "start_time": "2023-10-16T20:24:21.522Z"
   },
   {
    "duration": 0,
    "start_time": "2023-10-16T20:24:21.523Z"
   },
   {
    "duration": 0,
    "start_time": "2023-10-16T20:24:21.525Z"
   },
   {
    "duration": 0,
    "start_time": "2023-10-16T20:24:21.526Z"
   },
   {
    "duration": 0,
    "start_time": "2023-10-16T20:24:21.527Z"
   },
   {
    "duration": 0,
    "start_time": "2023-10-16T20:24:21.528Z"
   },
   {
    "duration": 0,
    "start_time": "2023-10-16T20:24:21.529Z"
   },
   {
    "duration": 3829,
    "start_time": "2023-10-16T20:25:18.911Z"
   },
   {
    "duration": 77,
    "start_time": "2023-10-16T20:25:53.748Z"
   },
   {
    "duration": 25,
    "start_time": "2023-10-16T20:26:01.417Z"
   },
   {
    "duration": 85,
    "start_time": "2023-10-16T20:28:18.972Z"
   },
   {
    "duration": 102,
    "start_time": "2023-10-16T20:28:25.665Z"
   },
   {
    "duration": 15,
    "start_time": "2023-10-16T20:28:29.951Z"
   },
   {
    "duration": 18,
    "start_time": "2023-10-16T20:28:41.511Z"
   },
   {
    "duration": 16,
    "start_time": "2023-10-16T20:28:53.654Z"
   },
   {
    "duration": 16,
    "start_time": "2023-10-16T20:30:57.405Z"
   },
   {
    "duration": 19,
    "start_time": "2023-10-16T20:31:04.274Z"
   },
   {
    "duration": 8,
    "start_time": "2023-10-16T20:31:19.388Z"
   },
   {
    "duration": 4,
    "start_time": "2023-10-16T20:31:34.350Z"
   },
   {
    "duration": 4,
    "start_time": "2023-10-16T20:32:13.586Z"
   },
   {
    "duration": 19,
    "start_time": "2023-10-16T20:32:16.481Z"
   },
   {
    "duration": 8,
    "start_time": "2023-10-16T20:32:26.548Z"
   },
   {
    "duration": 8,
    "start_time": "2023-10-16T20:32:29.510Z"
   },
   {
    "duration": 11,
    "start_time": "2023-10-16T20:33:50.514Z"
   },
   {
    "duration": 3600,
    "start_time": "2023-10-16T20:34:10.862Z"
   },
   {
    "duration": 3,
    "start_time": "2023-10-16T20:35:43.068Z"
   },
   {
    "duration": 11,
    "start_time": "2023-10-16T20:35:49.201Z"
   },
   {
    "duration": 11,
    "start_time": "2023-10-16T20:36:03.193Z"
   },
   {
    "duration": 7,
    "start_time": "2023-10-16T20:36:25.932Z"
   },
   {
    "duration": 15,
    "start_time": "2023-10-16T20:36:56.797Z"
   },
   {
    "duration": 16,
    "start_time": "2023-10-16T20:37:10.635Z"
   },
   {
    "duration": 8,
    "start_time": "2023-10-16T20:40:25.912Z"
   },
   {
    "duration": 84,
    "start_time": "2023-10-16T20:42:18.966Z"
   },
   {
    "duration": 8,
    "start_time": "2023-10-16T20:42:38.236Z"
   },
   {
    "duration": 11,
    "start_time": "2023-10-16T20:42:50.851Z"
   },
   {
    "duration": 5,
    "start_time": "2023-10-16T20:43:28.501Z"
   },
   {
    "duration": 1360,
    "start_time": "2023-10-16T20:45:37.954Z"
   },
   {
    "duration": 37,
    "start_time": "2023-10-16T20:45:39.316Z"
   },
   {
    "duration": 76,
    "start_time": "2023-10-16T20:45:39.355Z"
   },
   {
    "duration": 525,
    "start_time": "2023-10-16T20:45:39.434Z"
   },
   {
    "duration": 32,
    "start_time": "2023-10-16T20:45:39.961Z"
   },
   {
    "duration": 6,
    "start_time": "2023-10-16T20:45:39.995Z"
   },
   {
    "duration": 45,
    "start_time": "2023-10-16T20:45:40.003Z"
   },
   {
    "duration": 15,
    "start_time": "2023-10-16T20:45:40.050Z"
   },
   {
    "duration": 74,
    "start_time": "2023-10-16T20:45:40.067Z"
   },
   {
    "duration": 28,
    "start_time": "2023-10-16T20:45:40.144Z"
   },
   {
    "duration": 6,
    "start_time": "2023-10-16T20:45:40.174Z"
   },
   {
    "duration": 3,
    "start_time": "2023-10-16T20:45:40.202Z"
   },
   {
    "duration": 9,
    "start_time": "2023-10-16T20:45:40.207Z"
   },
   {
    "duration": 46,
    "start_time": "2023-10-16T20:45:40.218Z"
   },
   {
    "duration": 6,
    "start_time": "2023-10-16T20:45:40.266Z"
   },
   {
    "duration": 469,
    "start_time": "2023-10-16T20:45:40.274Z"
   },
   {
    "duration": 3,
    "start_time": "2023-10-16T20:45:40.745Z"
   },
   {
    "duration": 127,
    "start_time": "2023-10-16T20:45:40.750Z"
   },
   {
    "duration": 93,
    "start_time": "2023-10-16T20:45:40.879Z"
   },
   {
    "duration": 46,
    "start_time": "2023-10-16T20:45:40.974Z"
   },
   {
    "duration": 6,
    "start_time": "2023-10-16T20:45:41.022Z"
   },
   {
    "duration": 14,
    "start_time": "2023-10-16T20:45:41.030Z"
   },
   {
    "duration": 10,
    "start_time": "2023-10-16T20:45:41.046Z"
   },
   {
    "duration": 43,
    "start_time": "2023-10-16T20:45:41.058Z"
   },
   {
    "duration": 8,
    "start_time": "2023-10-16T20:45:41.103Z"
   },
   {
    "duration": 21,
    "start_time": "2023-10-16T20:45:41.113Z"
   },
   {
    "duration": 5,
    "start_time": "2023-10-16T20:45:41.136Z"
   },
   {
    "duration": 71,
    "start_time": "2023-10-16T20:45:41.145Z"
   },
   {
    "duration": 5,
    "start_time": "2023-10-16T20:45:41.218Z"
   },
   {
    "duration": 9,
    "start_time": "2023-10-16T20:45:41.225Z"
   },
   {
    "duration": 5,
    "start_time": "2023-10-16T20:45:41.236Z"
   },
   {
    "duration": 12,
    "start_time": "2023-10-16T20:45:41.243Z"
   },
   {
    "duration": 44,
    "start_time": "2023-10-16T20:45:41.257Z"
   },
   {
    "duration": 18,
    "start_time": "2023-10-16T20:45:41.303Z"
   },
   {
    "duration": 409,
    "start_time": "2023-10-16T20:45:41.323Z"
   },
   {
    "duration": 32,
    "start_time": "2023-10-16T20:45:41.734Z"
   },
   {
    "duration": 37,
    "start_time": "2023-10-16T20:45:41.768Z"
   },
   {
    "duration": 26,
    "start_time": "2023-10-16T20:45:41.806Z"
   },
   {
    "duration": 70,
    "start_time": "2023-10-16T20:45:41.834Z"
   },
   {
    "duration": 9,
    "start_time": "2023-10-16T20:45:41.906Z"
   },
   {
    "duration": 9,
    "start_time": "2023-10-16T20:45:41.918Z"
   },
   {
    "duration": 11,
    "start_time": "2023-10-16T20:45:41.929Z"
   },
   {
    "duration": 201,
    "start_time": "2023-10-16T20:45:41.942Z"
   },
   {
    "duration": 351,
    "start_time": "2023-10-16T20:45:42.145Z"
   },
   {
    "duration": 18,
    "start_time": "2023-10-16T20:45:42.498Z"
   },
   {
    "duration": 6,
    "start_time": "2023-10-16T20:45:42.517Z"
   },
   {
    "duration": 26,
    "start_time": "2023-10-16T20:45:42.525Z"
   },
   {
    "duration": 14,
    "start_time": "2023-10-16T20:45:42.553Z"
   },
   {
    "duration": 46,
    "start_time": "2023-10-16T20:45:42.569Z"
   },
   {
    "duration": 21,
    "start_time": "2023-10-16T20:45:42.617Z"
   },
   {
    "duration": 6,
    "start_time": "2023-10-16T20:45:42.640Z"
   },
   {
    "duration": 17,
    "start_time": "2023-10-16T20:45:42.647Z"
   },
   {
    "duration": 21,
    "start_time": "2023-10-16T20:45:42.665Z"
   },
   {
    "duration": 21,
    "start_time": "2023-10-16T20:45:42.687Z"
   },
   {
    "duration": 7,
    "start_time": "2023-10-16T20:45:42.710Z"
   },
   {
    "duration": 29,
    "start_time": "2023-10-16T20:45:42.719Z"
   },
   {
    "duration": 21,
    "start_time": "2023-10-16T20:45:42.749Z"
   },
   {
    "duration": 4,
    "start_time": "2023-10-16T20:45:42.771Z"
   },
   {
    "duration": 37,
    "start_time": "2023-10-16T20:45:42.777Z"
   },
   {
    "duration": 35,
    "start_time": "2023-10-16T20:45:42.815Z"
   },
   {
    "duration": 76,
    "start_time": "2023-10-16T20:45:42.852Z"
   },
   {
    "duration": 11,
    "start_time": "2023-10-16T20:45:42.930Z"
   },
   {
    "duration": 35,
    "start_time": "2023-10-16T20:45:42.943Z"
   },
   {
    "duration": 172,
    "start_time": "2023-10-16T20:45:42.981Z"
   },
   {
    "duration": 25,
    "start_time": "2023-10-16T20:45:43.155Z"
   },
   {
    "duration": 76,
    "start_time": "2023-10-16T20:45:43.182Z"
   },
   {
    "duration": 10,
    "start_time": "2023-10-16T20:45:43.259Z"
   },
   {
    "duration": 7,
    "start_time": "2023-10-16T20:45:43.270Z"
   },
   {
    "duration": 25,
    "start_time": "2023-10-16T20:45:43.278Z"
   },
   {
    "duration": 36,
    "start_time": "2023-10-16T20:45:43.305Z"
   },
   {
    "duration": 9,
    "start_time": "2023-10-16T20:45:43.343Z"
   },
   {
    "duration": 19,
    "start_time": "2023-10-16T20:45:43.354Z"
   },
   {
    "duration": 8,
    "start_time": "2023-10-16T20:45:43.375Z"
   },
   {
    "duration": 95,
    "start_time": "2023-10-16T22:12:12.707Z"
   },
   {
    "duration": 18,
    "start_time": "2023-10-16T22:12:25.946Z"
   },
   {
    "duration": 187,
    "start_time": "2023-10-16T22:12:45.232Z"
   },
   {
    "duration": 4,
    "start_time": "2023-10-16T22:12:54.072Z"
   },
   {
    "duration": 14,
    "start_time": "2023-10-16T22:12:59.938Z"
   },
   {
    "duration": 14,
    "start_time": "2023-10-16T22:18:26.130Z"
   },
   {
    "duration": 23,
    "start_time": "2023-10-16T22:18:26.995Z"
   },
   {
    "duration": 4,
    "start_time": "2023-10-16T22:18:28.048Z"
   },
   {
    "duration": 99,
    "start_time": "2023-10-17T17:26:05.838Z"
   },
   {
    "duration": 44,
    "start_time": "2023-10-17T17:26:12.250Z"
   },
   {
    "duration": 1566,
    "start_time": "2023-10-17T17:26:30.045Z"
   },
   {
    "duration": 80,
    "start_time": "2023-10-17T17:26:31.613Z"
   },
   {
    "duration": 205,
    "start_time": "2023-10-17T17:26:31.699Z"
   },
   {
    "duration": 775,
    "start_time": "2023-10-17T17:26:31.906Z"
   },
   {
    "duration": 95,
    "start_time": "2023-10-17T17:26:32.683Z"
   },
   {
    "duration": 3,
    "start_time": "2023-10-17T17:26:32.780Z"
   },
   {
    "duration": 68,
    "start_time": "2023-10-17T17:26:32.785Z"
   },
   {
    "duration": 15,
    "start_time": "2023-10-17T17:26:32.855Z"
   },
   {
    "duration": 185,
    "start_time": "2023-10-17T17:26:32.872Z"
   },
   {
    "duration": 47,
    "start_time": "2023-10-17T17:26:33.059Z"
   },
   {
    "duration": 100,
    "start_time": "2023-10-17T17:26:33.108Z"
   },
   {
    "duration": 126,
    "start_time": "2023-10-17T17:26:33.210Z"
   },
   {
    "duration": 68,
    "start_time": "2023-10-17T17:26:33.343Z"
   },
   {
    "duration": 75,
    "start_time": "2023-10-17T17:26:33.414Z"
   },
   {
    "duration": 37,
    "start_time": "2023-10-17T17:26:33.490Z"
   },
   {
    "duration": 562,
    "start_time": "2023-10-17T17:26:33.533Z"
   },
   {
    "duration": 2,
    "start_time": "2023-10-17T17:26:34.097Z"
   },
   {
    "duration": 127,
    "start_time": "2023-10-17T17:26:34.100Z"
   },
   {
    "duration": 106,
    "start_time": "2023-10-17T17:26:34.230Z"
   },
   {
    "duration": 30,
    "start_time": "2023-10-17T17:26:34.338Z"
   },
   {
    "duration": 6,
    "start_time": "2023-10-17T17:26:34.370Z"
   },
   {
    "duration": 20,
    "start_time": "2023-10-17T17:26:34.378Z"
   },
   {
    "duration": 10,
    "start_time": "2023-10-17T17:26:34.436Z"
   },
   {
    "duration": 15,
    "start_time": "2023-10-17T17:26:34.448Z"
   },
   {
    "duration": 8,
    "start_time": "2023-10-17T17:26:34.465Z"
   },
   {
    "duration": 18,
    "start_time": "2023-10-17T17:26:34.475Z"
   },
   {
    "duration": 4,
    "start_time": "2023-10-17T17:26:34.497Z"
   },
   {
    "duration": 55,
    "start_time": "2023-10-17T17:26:34.503Z"
   },
   {
    "duration": 4,
    "start_time": "2023-10-17T17:26:34.560Z"
   },
   {
    "duration": 9,
    "start_time": "2023-10-17T17:26:34.565Z"
   },
   {
    "duration": 5,
    "start_time": "2023-10-17T17:26:34.575Z"
   },
   {
    "duration": 15,
    "start_time": "2023-10-17T17:26:34.582Z"
   },
   {
    "duration": 32,
    "start_time": "2023-10-17T17:26:34.598Z"
   },
   {
    "duration": 19,
    "start_time": "2023-10-17T17:26:34.632Z"
   },
   {
    "duration": 424,
    "start_time": "2023-10-17T17:26:34.653Z"
   },
   {
    "duration": 50,
    "start_time": "2023-10-17T17:26:35.079Z"
   },
   {
    "duration": 16,
    "start_time": "2023-10-17T17:26:35.131Z"
   },
   {
    "duration": 87,
    "start_time": "2023-10-17T17:26:35.149Z"
   },
   {
    "duration": 13,
    "start_time": "2023-10-17T17:26:35.238Z"
   },
   {
    "duration": 19,
    "start_time": "2023-10-17T17:26:35.253Z"
   },
   {
    "duration": 32,
    "start_time": "2023-10-17T17:26:35.273Z"
   },
   {
    "duration": 11,
    "start_time": "2023-10-17T17:26:35.307Z"
   },
   {
    "duration": 167,
    "start_time": "2023-10-17T17:26:35.320Z"
   },
   {
    "duration": 330,
    "start_time": "2023-10-17T17:26:35.489Z"
   },
   {
    "duration": 31,
    "start_time": "2023-10-17T17:26:35.821Z"
   },
   {
    "duration": 7,
    "start_time": "2023-10-17T17:26:35.855Z"
   },
   {
    "duration": 31,
    "start_time": "2023-10-17T17:26:35.864Z"
   },
   {
    "duration": 33,
    "start_time": "2023-10-17T17:26:35.898Z"
   },
   {
    "duration": 19,
    "start_time": "2023-10-17T17:26:35.933Z"
   },
   {
    "duration": 18,
    "start_time": "2023-10-17T17:26:35.955Z"
   },
   {
    "duration": 8,
    "start_time": "2023-10-17T17:26:35.975Z"
   },
   {
    "duration": 83,
    "start_time": "2023-10-17T17:26:35.985Z"
   },
   {
    "duration": 40,
    "start_time": "2023-10-17T17:26:36.070Z"
   },
   {
    "duration": 37,
    "start_time": "2023-10-17T17:26:36.112Z"
   },
   {
    "duration": 57,
    "start_time": "2023-10-17T17:26:36.151Z"
   },
   {
    "duration": 103,
    "start_time": "2023-10-17T17:26:36.209Z"
   },
   {
    "duration": 62,
    "start_time": "2023-10-17T17:26:36.314Z"
   },
   {
    "duration": 81,
    "start_time": "2023-10-17T17:26:36.378Z"
   },
   {
    "duration": 179,
    "start_time": "2023-10-17T17:26:36.461Z"
   },
   {
    "duration": 661,
    "start_time": "2023-10-17T17:26:36.643Z"
   },
   {
    "duration": 45,
    "start_time": "2023-10-17T17:26:37.306Z"
   },
   {
    "duration": 208,
    "start_time": "2023-10-17T17:26:37.353Z"
   },
   {
    "duration": 352,
    "start_time": "2023-10-17T17:26:37.563Z"
   },
   {
    "duration": 21,
    "start_time": "2023-10-17T17:26:37.917Z"
   },
   {
    "duration": 18,
    "start_time": "2023-10-17T17:26:37.940Z"
   },
   {
    "duration": 123,
    "start_time": "2023-10-17T17:26:37.960Z"
   },
   {
    "duration": 23,
    "start_time": "2023-10-17T17:26:38.085Z"
   },
   {
    "duration": 56,
    "start_time": "2023-10-17T17:26:38.110Z"
   },
   {
    "duration": 5,
    "start_time": "2023-10-17T17:26:38.168Z"
   },
   {
    "duration": 7,
    "start_time": "2023-10-17T17:26:38.174Z"
   },
   {
    "duration": 14,
    "start_time": "2023-10-17T17:26:38.182Z"
   },
   {
    "duration": 5,
    "start_time": "2023-10-17T17:26:38.197Z"
   },
   {
    "duration": 20,
    "start_time": "2023-10-17T17:26:38.204Z"
   },
   {
    "duration": 5,
    "start_time": "2023-10-17T17:26:38.234Z"
   },
   {
    "duration": 10,
    "start_time": "2023-10-17T17:26:38.241Z"
   },
   {
    "duration": 5,
    "start_time": "2023-10-17T17:30:51.666Z"
   },
   {
    "duration": 20,
    "start_time": "2023-10-17T17:31:00.297Z"
   },
   {
    "duration": 165,
    "start_time": "2023-10-17T17:31:05.776Z"
   },
   {
    "duration": 28,
    "start_time": "2023-10-17T17:31:19.112Z"
   },
   {
    "duration": 155,
    "start_time": "2023-10-17T17:33:50.057Z"
   },
   {
    "duration": 89,
    "start_time": "2023-10-17T17:33:55.870Z"
   },
   {
    "duration": 48,
    "start_time": "2023-10-17T17:35:35.451Z"
   },
   {
    "duration": 30,
    "start_time": "2023-10-17T17:36:38.221Z"
   },
   {
    "duration": 152,
    "start_time": "2023-10-17T17:36:53.845Z"
   },
   {
    "duration": 160,
    "start_time": "2023-10-17T17:37:09.347Z"
   },
   {
    "duration": 75,
    "start_time": "2023-10-17T17:37:13.772Z"
   },
   {
    "duration": 17,
    "start_time": "2023-10-17T17:37:24.177Z"
   },
   {
    "duration": 75,
    "start_time": "2023-10-17T17:37:26.295Z"
   },
   {
    "duration": 173,
    "start_time": "2023-10-17T17:37:41.781Z"
   },
   {
    "duration": 189,
    "start_time": "2023-10-17T17:37:49.347Z"
   },
   {
    "duration": 63,
    "start_time": "2023-10-17T17:37:54.147Z"
   },
   {
    "duration": 28,
    "start_time": "2023-10-17T17:51:01.939Z"
   },
   {
    "duration": 19,
    "start_time": "2023-10-17T17:51:09.565Z"
   },
   {
    "duration": 22,
    "start_time": "2023-10-17T17:51:13.855Z"
   },
   {
    "duration": 20,
    "start_time": "2023-10-17T17:58:15.158Z"
   },
   {
    "duration": 22,
    "start_time": "2023-10-17T17:58:27.650Z"
   },
   {
    "duration": 25,
    "start_time": "2023-10-17T17:58:34.611Z"
   },
   {
    "duration": 22,
    "start_time": "2023-10-17T17:59:07.162Z"
   },
   {
    "duration": 26,
    "start_time": "2023-10-17T17:59:14.619Z"
   },
   {
    "duration": 33,
    "start_time": "2023-10-17T17:59:29.017Z"
   },
   {
    "duration": 23,
    "start_time": "2023-10-17T17:59:49.640Z"
   },
   {
    "duration": 23,
    "start_time": "2023-10-17T18:00:28.855Z"
   },
   {
    "duration": 20,
    "start_time": "2023-10-17T18:00:33.535Z"
   },
   {
    "duration": 15,
    "start_time": "2023-10-17T18:00:51.306Z"
   },
   {
    "duration": 17,
    "start_time": "2023-10-17T18:02:28.339Z"
   },
   {
    "duration": 8,
    "start_time": "2023-10-17T18:02:47.035Z"
   },
   {
    "duration": 19,
    "start_time": "2023-10-17T18:02:57.145Z"
   },
   {
    "duration": 8,
    "start_time": "2023-10-17T18:03:00.335Z"
   },
   {
    "duration": 23,
    "start_time": "2023-10-17T18:03:05.426Z"
   },
   {
    "duration": 69,
    "start_time": "2023-10-17T18:03:22.988Z"
   },
   {
    "duration": 24,
    "start_time": "2023-10-17T18:04:06.635Z"
   },
   {
    "duration": 61,
    "start_time": "2023-10-17T18:05:27.883Z"
   },
   {
    "duration": 59,
    "start_time": "2023-10-17T18:05:46.151Z"
   },
   {
    "duration": 51,
    "start_time": "2023-10-17T18:06:21.665Z"
   },
   {
    "duration": 52,
    "start_time": "2023-10-17T18:06:43.264Z"
   },
   {
    "duration": 55,
    "start_time": "2023-10-17T18:08:11.323Z"
   },
   {
    "duration": 63,
    "start_time": "2023-10-17T18:08:40.341Z"
   },
   {
    "duration": 50,
    "start_time": "2023-10-17T18:08:45.935Z"
   },
   {
    "duration": 117,
    "start_time": "2023-10-17T18:13:19.349Z"
   },
   {
    "duration": 37,
    "start_time": "2023-10-17T18:13:23.901Z"
   },
   {
    "duration": 207,
    "start_time": "2023-10-17T18:13:38.347Z"
   },
   {
    "duration": 126,
    "start_time": "2023-10-17T18:15:00.114Z"
   },
   {
    "duration": 37,
    "start_time": "2023-10-17T18:15:05.751Z"
   },
   {
    "duration": 25,
    "start_time": "2023-10-17T18:15:29.360Z"
   },
   {
    "duration": 50,
    "start_time": "2023-10-17T18:15:35.921Z"
   },
   {
    "duration": 14,
    "start_time": "2023-10-17T18:16:20.401Z"
   },
   {
    "duration": 43,
    "start_time": "2023-10-17T18:16:23.816Z"
   },
   {
    "duration": 6,
    "start_time": "2023-10-17T18:16:27.511Z"
   },
   {
    "duration": 30,
    "start_time": "2023-10-17T18:17:02.052Z"
   },
   {
    "duration": 11,
    "start_time": "2023-10-17T18:17:04.691Z"
   },
   {
    "duration": 1417,
    "start_time": "2023-10-17T18:17:12.235Z"
   },
   {
    "duration": 38,
    "start_time": "2023-10-17T18:17:13.654Z"
   },
   {
    "duration": 82,
    "start_time": "2023-10-17T18:17:13.694Z"
   },
   {
    "duration": 539,
    "start_time": "2023-10-17T18:17:13.778Z"
   },
   {
    "duration": 49,
    "start_time": "2023-10-17T18:17:14.319Z"
   },
   {
    "duration": 5,
    "start_time": "2023-10-17T18:17:14.370Z"
   },
   {
    "duration": 73,
    "start_time": "2023-10-17T18:17:14.376Z"
   },
   {
    "duration": 17,
    "start_time": "2023-10-17T18:17:14.451Z"
   },
   {
    "duration": 91,
    "start_time": "2023-10-17T18:17:14.469Z"
   },
   {
    "duration": 25,
    "start_time": "2023-10-17T18:17:14.562Z"
   },
   {
    "duration": 14,
    "start_time": "2023-10-17T18:17:14.589Z"
   },
   {
    "duration": 32,
    "start_time": "2023-10-17T18:17:14.605Z"
   },
   {
    "duration": 23,
    "start_time": "2023-10-17T18:17:14.639Z"
   },
   {
    "duration": 98,
    "start_time": "2023-10-17T18:17:14.664Z"
   },
   {
    "duration": 5,
    "start_time": "2023-10-17T18:17:14.764Z"
   },
   {
    "duration": 559,
    "start_time": "2023-10-17T18:17:14.771Z"
   },
   {
    "duration": 7,
    "start_time": "2023-10-17T18:17:15.331Z"
   },
   {
    "duration": 305,
    "start_time": "2023-10-17T18:17:15.339Z"
   },
   {
    "duration": 383,
    "start_time": "2023-10-17T18:17:15.646Z"
   },
   {
    "duration": 36,
    "start_time": "2023-10-17T18:17:16.032Z"
   },
   {
    "duration": 66,
    "start_time": "2023-10-17T18:17:16.070Z"
   },
   {
    "duration": 12,
    "start_time": "2023-10-17T18:17:16.142Z"
   },
   {
    "duration": 14,
    "start_time": "2023-10-17T18:17:16.156Z"
   },
   {
    "duration": 21,
    "start_time": "2023-10-17T18:17:16.172Z"
   },
   {
    "duration": 7,
    "start_time": "2023-10-17T18:17:16.194Z"
   },
   {
    "duration": 23,
    "start_time": "2023-10-17T18:17:16.202Z"
   },
   {
    "duration": 6,
    "start_time": "2023-10-17T18:17:16.230Z"
   },
   {
    "duration": 53,
    "start_time": "2023-10-17T18:17:16.244Z"
   },
   {
    "duration": 5,
    "start_time": "2023-10-17T18:17:16.299Z"
   },
   {
    "duration": 32,
    "start_time": "2023-10-17T18:17:16.305Z"
   },
   {
    "duration": 36,
    "start_time": "2023-10-17T18:17:16.338Z"
   },
   {
    "duration": 24,
    "start_time": "2023-10-17T18:17:16.376Z"
   },
   {
    "duration": 314,
    "start_time": "2023-10-17T18:17:16.402Z"
   },
   {
    "duration": 254,
    "start_time": "2023-10-17T18:17:16.719Z"
   },
   {
    "duration": 550,
    "start_time": "2023-10-17T18:17:16.975Z"
   },
   {
    "duration": 103,
    "start_time": "2023-10-17T18:17:17.537Z"
   },
   {
    "duration": 52,
    "start_time": "2023-10-17T18:17:17.643Z"
   },
   {
    "duration": 155,
    "start_time": "2023-10-17T18:17:17.697Z"
   },
   {
    "duration": 88,
    "start_time": "2023-10-17T18:17:17.853Z"
   },
   {
    "duration": 38,
    "start_time": "2023-10-17T18:17:17.943Z"
   },
   {
    "duration": 54,
    "start_time": "2023-10-17T18:17:17.982Z"
   },
   {
    "duration": 98,
    "start_time": "2023-10-17T18:17:18.038Z"
   },
   {
    "duration": 372,
    "start_time": "2023-10-17T18:17:18.138Z"
   },
   {
    "duration": 397,
    "start_time": "2023-10-17T18:17:18.511Z"
   },
   {
    "duration": 28,
    "start_time": "2023-10-17T18:17:18.910Z"
   },
   {
    "duration": 29,
    "start_time": "2023-10-17T18:17:18.940Z"
   },
   {
    "duration": 36,
    "start_time": "2023-10-17T18:17:18.971Z"
   },
   {
    "duration": 48,
    "start_time": "2023-10-17T18:17:19.009Z"
   },
   {
    "duration": 36,
    "start_time": "2023-10-17T18:17:19.059Z"
   },
   {
    "duration": 87,
    "start_time": "2023-10-17T18:17:19.097Z"
   },
   {
    "duration": 63,
    "start_time": "2023-10-17T18:17:19.187Z"
   },
   {
    "duration": 36,
    "start_time": "2023-10-17T18:17:19.252Z"
   },
   {
    "duration": 22,
    "start_time": "2023-10-17T18:17:19.290Z"
   },
   {
    "duration": 14,
    "start_time": "2023-10-17T18:17:19.314Z"
   },
   {
    "duration": 12,
    "start_time": "2023-10-17T18:17:19.332Z"
   },
   {
    "duration": 16,
    "start_time": "2023-10-17T18:17:19.346Z"
   },
   {
    "duration": 119,
    "start_time": "2023-10-17T18:17:19.364Z"
   },
   {
    "duration": 193,
    "start_time": "2023-10-17T18:17:19.485Z"
   },
   {
    "duration": 110,
    "start_time": "2023-10-17T18:17:19.679Z"
   },
   {
    "duration": 39,
    "start_time": "2023-10-17T18:17:19.791Z"
   },
   {
    "duration": 19,
    "start_time": "2023-10-17T18:17:19.833Z"
   },
   {
    "duration": 39,
    "start_time": "2023-10-17T18:17:19.854Z"
   },
   {
    "duration": 172,
    "start_time": "2023-10-17T18:17:19.895Z"
   },
   {
    "duration": 0,
    "start_time": "2023-10-17T18:17:20.069Z"
   },
   {
    "duration": 0,
    "start_time": "2023-10-17T18:17:20.070Z"
   },
   {
    "duration": 0,
    "start_time": "2023-10-17T18:17:20.071Z"
   },
   {
    "duration": 0,
    "start_time": "2023-10-17T18:17:20.072Z"
   },
   {
    "duration": 0,
    "start_time": "2023-10-17T18:17:20.074Z"
   },
   {
    "duration": 0,
    "start_time": "2023-10-17T18:17:20.075Z"
   },
   {
    "duration": 0,
    "start_time": "2023-10-17T18:17:20.076Z"
   },
   {
    "duration": 0,
    "start_time": "2023-10-17T18:17:20.129Z"
   },
   {
    "duration": 0,
    "start_time": "2023-10-17T18:17:20.130Z"
   },
   {
    "duration": 0,
    "start_time": "2023-10-17T18:17:20.131Z"
   },
   {
    "duration": 0,
    "start_time": "2023-10-17T18:17:20.131Z"
   },
   {
    "duration": 0,
    "start_time": "2023-10-17T18:17:20.136Z"
   },
   {
    "duration": 0,
    "start_time": "2023-10-17T18:17:20.138Z"
   },
   {
    "duration": 0,
    "start_time": "2023-10-17T18:17:20.139Z"
   },
   {
    "duration": 0,
    "start_time": "2023-10-17T18:17:20.140Z"
   },
   {
    "duration": 0,
    "start_time": "2023-10-17T18:17:20.142Z"
   },
   {
    "duration": 35,
    "start_time": "2023-10-17T18:18:06.406Z"
   },
   {
    "duration": 31,
    "start_time": "2023-10-17T18:19:00.783Z"
   },
   {
    "duration": 40,
    "start_time": "2023-10-17T18:35:45.497Z"
   },
   {
    "duration": 33,
    "start_time": "2023-10-17T18:36:04.769Z"
   },
   {
    "duration": 44,
    "start_time": "2023-10-17T18:36:27.417Z"
   },
   {
    "duration": 33,
    "start_time": "2023-10-17T18:36:34.860Z"
   },
   {
    "duration": 31,
    "start_time": "2023-10-17T18:36:51.958Z"
   },
   {
    "duration": 39,
    "start_time": "2023-10-17T18:36:56.101Z"
   },
   {
    "duration": 30,
    "start_time": "2023-10-17T18:37:01.380Z"
   },
   {
    "duration": 33,
    "start_time": "2023-10-17T18:37:12.221Z"
   },
   {
    "duration": 52,
    "start_time": "2023-10-17T18:37:15.659Z"
   },
   {
    "duration": 38,
    "start_time": "2023-10-17T18:38:23.508Z"
   },
   {
    "duration": 49,
    "start_time": "2023-10-17T18:38:42.796Z"
   },
   {
    "duration": 156,
    "start_time": "2023-10-17T18:38:50.235Z"
   },
   {
    "duration": 16,
    "start_time": "2023-10-17T18:39:24.060Z"
   },
   {
    "duration": 16,
    "start_time": "2023-10-17T18:39:33.714Z"
   },
   {
    "duration": 20,
    "start_time": "2023-10-17T18:39:56.961Z"
   },
   {
    "duration": 1358,
    "start_time": "2023-10-17T18:40:09.419Z"
   },
   {
    "duration": 36,
    "start_time": "2023-10-17T18:40:10.779Z"
   },
   {
    "duration": 98,
    "start_time": "2023-10-17T18:40:10.816Z"
   },
   {
    "duration": 584,
    "start_time": "2023-10-17T18:40:10.918Z"
   },
   {
    "duration": 38,
    "start_time": "2023-10-17T18:40:11.504Z"
   },
   {
    "duration": 5,
    "start_time": "2023-10-17T18:40:11.544Z"
   },
   {
    "duration": 26,
    "start_time": "2023-10-17T18:40:11.551Z"
   },
   {
    "duration": 28,
    "start_time": "2023-10-17T18:40:11.579Z"
   },
   {
    "duration": 80,
    "start_time": "2023-10-17T18:40:11.609Z"
   },
   {
    "duration": 48,
    "start_time": "2023-10-17T18:40:11.692Z"
   },
   {
    "duration": 8,
    "start_time": "2023-10-17T18:40:11.742Z"
   },
   {
    "duration": 21,
    "start_time": "2023-10-17T18:40:11.751Z"
   },
   {
    "duration": 15,
    "start_time": "2023-10-17T18:40:11.774Z"
   },
   {
    "duration": 88,
    "start_time": "2023-10-17T18:40:11.790Z"
   },
   {
    "duration": 4,
    "start_time": "2023-10-17T18:40:11.880Z"
   },
   {
    "duration": 479,
    "start_time": "2023-10-17T18:40:11.886Z"
   },
   {
    "duration": 3,
    "start_time": "2023-10-17T18:40:12.367Z"
   },
   {
    "duration": 149,
    "start_time": "2023-10-17T18:40:12.371Z"
   },
   {
    "duration": 103,
    "start_time": "2023-10-17T18:40:12.530Z"
   },
   {
    "duration": 27,
    "start_time": "2023-10-17T18:40:12.635Z"
   },
   {
    "duration": 21,
    "start_time": "2023-10-17T18:40:12.664Z"
   },
   {
    "duration": 40,
    "start_time": "2023-10-17T18:40:12.687Z"
   },
   {
    "duration": 28,
    "start_time": "2023-10-17T18:40:12.737Z"
   },
   {
    "duration": 31,
    "start_time": "2023-10-17T18:40:12.767Z"
   },
   {
    "duration": 18,
    "start_time": "2023-10-17T18:40:12.801Z"
   },
   {
    "duration": 26,
    "start_time": "2023-10-17T18:40:12.821Z"
   },
   {
    "duration": 5,
    "start_time": "2023-10-17T18:40:12.849Z"
   },
   {
    "duration": 65,
    "start_time": "2023-10-17T18:40:12.858Z"
   },
   {
    "duration": 14,
    "start_time": "2023-10-17T18:40:12.926Z"
   },
   {
    "duration": 20,
    "start_time": "2023-10-17T18:40:12.942Z"
   },
   {
    "duration": 38,
    "start_time": "2023-10-17T18:40:12.963Z"
   },
   {
    "duration": 35,
    "start_time": "2023-10-17T18:40:13.003Z"
   },
   {
    "duration": 13,
    "start_time": "2023-10-17T18:40:13.040Z"
   },
   {
    "duration": 28,
    "start_time": "2023-10-17T18:40:13.055Z"
   },
   {
    "duration": 416,
    "start_time": "2023-10-17T18:40:13.085Z"
   },
   {
    "duration": 37,
    "start_time": "2023-10-17T18:40:13.503Z"
   },
   {
    "duration": 16,
    "start_time": "2023-10-17T18:40:13.542Z"
   },
   {
    "duration": 98,
    "start_time": "2023-10-17T18:40:13.560Z"
   },
   {
    "duration": 13,
    "start_time": "2023-10-17T18:40:13.659Z"
   },
   {
    "duration": 7,
    "start_time": "2023-10-17T18:40:13.673Z"
   },
   {
    "duration": 56,
    "start_time": "2023-10-17T18:40:13.681Z"
   },
   {
    "duration": 23,
    "start_time": "2023-10-17T18:40:13.740Z"
   },
   {
    "duration": 177,
    "start_time": "2023-10-17T18:40:13.765Z"
   },
   {
    "duration": 359,
    "start_time": "2023-10-17T18:40:13.943Z"
   },
   {
    "duration": 30,
    "start_time": "2023-10-17T18:40:14.303Z"
   },
   {
    "duration": 6,
    "start_time": "2023-10-17T18:40:14.341Z"
   },
   {
    "duration": 44,
    "start_time": "2023-10-17T18:40:14.349Z"
   },
   {
    "duration": 15,
    "start_time": "2023-10-17T18:40:14.395Z"
   },
   {
    "duration": 34,
    "start_time": "2023-10-17T18:40:14.412Z"
   },
   {
    "duration": 37,
    "start_time": "2023-10-17T18:40:14.448Z"
   },
   {
    "duration": 22,
    "start_time": "2023-10-17T18:40:14.487Z"
   },
   {
    "duration": 37,
    "start_time": "2023-10-17T18:40:14.511Z"
   },
   {
    "duration": 31,
    "start_time": "2023-10-17T18:40:14.549Z"
   },
   {
    "duration": 20,
    "start_time": "2023-10-17T18:40:14.582Z"
   },
   {
    "duration": 12,
    "start_time": "2023-10-17T18:40:14.603Z"
   },
   {
    "duration": 36,
    "start_time": "2023-10-17T18:40:14.617Z"
   },
   {
    "duration": 23,
    "start_time": "2023-10-17T18:40:14.654Z"
   },
   {
    "duration": 35,
    "start_time": "2023-10-17T18:40:14.678Z"
   },
   {
    "duration": 4,
    "start_time": "2023-10-17T18:40:14.714Z"
   },
   {
    "duration": 61,
    "start_time": "2023-10-17T18:40:14.719Z"
   },
   {
    "duration": 166,
    "start_time": "2023-10-17T18:40:14.782Z"
   },
   {
    "duration": 0,
    "start_time": "2023-10-17T18:40:14.949Z"
   },
   {
    "duration": 0,
    "start_time": "2023-10-17T18:40:14.950Z"
   },
   {
    "duration": 0,
    "start_time": "2023-10-17T18:40:14.951Z"
   },
   {
    "duration": 0,
    "start_time": "2023-10-17T18:40:14.953Z"
   },
   {
    "duration": 0,
    "start_time": "2023-10-17T18:40:14.953Z"
   },
   {
    "duration": 0,
    "start_time": "2023-10-17T18:40:14.954Z"
   },
   {
    "duration": 0,
    "start_time": "2023-10-17T18:40:14.955Z"
   },
   {
    "duration": 0,
    "start_time": "2023-10-17T18:40:14.956Z"
   },
   {
    "duration": 0,
    "start_time": "2023-10-17T18:40:14.957Z"
   },
   {
    "duration": 0,
    "start_time": "2023-10-17T18:40:14.958Z"
   },
   {
    "duration": 0,
    "start_time": "2023-10-17T18:40:14.959Z"
   },
   {
    "duration": 0,
    "start_time": "2023-10-17T18:40:14.961Z"
   },
   {
    "duration": 0,
    "start_time": "2023-10-17T18:40:14.962Z"
   },
   {
    "duration": 0,
    "start_time": "2023-10-17T18:40:14.962Z"
   },
   {
    "duration": 0,
    "start_time": "2023-10-17T18:40:14.964Z"
   },
   {
    "duration": 0,
    "start_time": "2023-10-17T18:40:14.965Z"
   },
   {
    "duration": 0,
    "start_time": "2023-10-17T18:40:14.966Z"
   },
   {
    "duration": 15,
    "start_time": "2023-10-17T18:40:41.990Z"
   },
   {
    "duration": 53,
    "start_time": "2023-10-17T18:41:15.461Z"
   },
   {
    "duration": 150,
    "start_time": "2023-10-17T18:41:18.641Z"
   },
   {
    "duration": 1366,
    "start_time": "2023-10-17T18:41:52.717Z"
   },
   {
    "duration": 49,
    "start_time": "2023-10-17T18:41:54.086Z"
   },
   {
    "duration": 77,
    "start_time": "2023-10-17T18:41:54.138Z"
   },
   {
    "duration": 558,
    "start_time": "2023-10-17T18:41:54.217Z"
   },
   {
    "duration": 32,
    "start_time": "2023-10-17T18:41:54.777Z"
   },
   {
    "duration": 4,
    "start_time": "2023-10-17T18:41:54.812Z"
   },
   {
    "duration": 34,
    "start_time": "2023-10-17T18:41:54.818Z"
   },
   {
    "duration": 13,
    "start_time": "2023-10-17T18:41:54.854Z"
   },
   {
    "duration": 112,
    "start_time": "2023-10-17T18:41:54.869Z"
   },
   {
    "duration": 28,
    "start_time": "2023-10-17T18:41:54.985Z"
   },
   {
    "duration": 15,
    "start_time": "2023-10-17T18:41:55.027Z"
   },
   {
    "duration": 3,
    "start_time": "2023-10-17T18:41:55.044Z"
   },
   {
    "duration": 7,
    "start_time": "2023-10-17T18:41:55.049Z"
   },
   {
    "duration": 85,
    "start_time": "2023-10-17T18:41:55.058Z"
   },
   {
    "duration": 5,
    "start_time": "2023-10-17T18:41:55.146Z"
   },
   {
    "duration": 502,
    "start_time": "2023-10-17T18:41:55.153Z"
   },
   {
    "duration": 2,
    "start_time": "2023-10-17T18:41:55.657Z"
   },
   {
    "duration": 135,
    "start_time": "2023-10-17T18:41:55.661Z"
   },
   {
    "duration": 143,
    "start_time": "2023-10-17T18:41:55.798Z"
   },
   {
    "duration": 37,
    "start_time": "2023-10-17T18:41:55.944Z"
   },
   {
    "duration": 6,
    "start_time": "2023-10-17T18:41:55.983Z"
   },
   {
    "duration": 51,
    "start_time": "2023-10-17T18:41:55.991Z"
   },
   {
    "duration": 9,
    "start_time": "2023-10-17T18:41:56.045Z"
   },
   {
    "duration": 19,
    "start_time": "2023-10-17T18:41:56.056Z"
   },
   {
    "duration": 7,
    "start_time": "2023-10-17T18:41:56.078Z"
   },
   {
    "duration": 13,
    "start_time": "2023-10-17T18:41:56.087Z"
   },
   {
    "duration": 30,
    "start_time": "2023-10-17T18:41:56.101Z"
   },
   {
    "duration": 45,
    "start_time": "2023-10-17T18:41:56.137Z"
   },
   {
    "duration": 4,
    "start_time": "2023-10-17T18:41:56.184Z"
   },
   {
    "duration": 20,
    "start_time": "2023-10-17T18:41:56.190Z"
   },
   {
    "duration": 10,
    "start_time": "2023-10-17T18:41:56.225Z"
   },
   {
    "duration": 8,
    "start_time": "2023-10-17T18:41:56.237Z"
   },
   {
    "duration": 10,
    "start_time": "2023-10-17T18:41:56.247Z"
   },
   {
    "duration": 29,
    "start_time": "2023-10-17T18:41:56.259Z"
   },
   {
    "duration": 417,
    "start_time": "2023-10-17T18:41:56.290Z"
   },
   {
    "duration": 51,
    "start_time": "2023-10-17T18:41:56.708Z"
   },
   {
    "duration": 11,
    "start_time": "2023-10-17T18:41:56.761Z"
   },
   {
    "duration": 32,
    "start_time": "2023-10-17T18:41:56.828Z"
   },
   {
    "duration": 19,
    "start_time": "2023-10-17T18:41:56.862Z"
   },
   {
    "duration": 13,
    "start_time": "2023-10-17T18:41:56.925Z"
   },
   {
    "duration": 10,
    "start_time": "2023-10-17T18:41:56.941Z"
   },
   {
    "duration": 7,
    "start_time": "2023-10-17T18:41:56.952Z"
   },
   {
    "duration": 181,
    "start_time": "2023-10-17T18:41:56.960Z"
   },
   {
    "duration": 337,
    "start_time": "2023-10-17T18:41:57.143Z"
   },
   {
    "duration": 16,
    "start_time": "2023-10-17T18:41:57.482Z"
   },
   {
    "duration": 4,
    "start_time": "2023-10-17T18:41:57.500Z"
   },
   {
    "duration": 39,
    "start_time": "2023-10-17T18:41:57.506Z"
   },
   {
    "duration": 14,
    "start_time": "2023-10-17T18:41:57.547Z"
   },
   {
    "duration": 15,
    "start_time": "2023-10-17T18:41:57.563Z"
   },
   {
    "duration": 15,
    "start_time": "2023-10-17T18:41:57.580Z"
   },
   {
    "duration": 30,
    "start_time": "2023-10-17T18:41:57.597Z"
   },
   {
    "duration": 19,
    "start_time": "2023-10-17T18:41:57.629Z"
   },
   {
    "duration": 12,
    "start_time": "2023-10-17T18:41:57.650Z"
   },
   {
    "duration": 12,
    "start_time": "2023-10-17T18:41:57.664Z"
   },
   {
    "duration": 7,
    "start_time": "2023-10-17T18:41:57.678Z"
   },
   {
    "duration": 61,
    "start_time": "2023-10-17T18:41:57.687Z"
   },
   {
    "duration": 16,
    "start_time": "2023-10-17T18:41:57.749Z"
   },
   {
    "duration": 22,
    "start_time": "2023-10-17T18:41:57.767Z"
   },
   {
    "duration": 5,
    "start_time": "2023-10-17T18:41:57.790Z"
   },
   {
    "duration": 59,
    "start_time": "2023-10-17T18:41:57.796Z"
   },
   {
    "duration": 15,
    "start_time": "2023-10-17T18:41:57.856Z"
   },
   {
    "duration": 75,
    "start_time": "2023-10-17T18:41:57.873Z"
   },
   {
    "duration": 141,
    "start_time": "2023-10-17T18:41:57.950Z"
   },
   {
    "duration": 16,
    "start_time": "2023-10-17T18:41:58.093Z"
   },
   {
    "duration": 52,
    "start_time": "2023-10-17T18:41:58.110Z"
   },
   {
    "duration": 69,
    "start_time": "2023-10-17T18:41:58.164Z"
   },
   {
    "duration": 10,
    "start_time": "2023-10-17T18:41:58.242Z"
   },
   {
    "duration": 41,
    "start_time": "2023-10-17T18:41:58.254Z"
   },
   {
    "duration": 63,
    "start_time": "2023-10-17T18:41:58.297Z"
   },
   {
    "duration": 24,
    "start_time": "2023-10-17T18:41:58.361Z"
   },
   {
    "duration": 68,
    "start_time": "2023-10-17T18:41:58.387Z"
   },
   {
    "duration": 5,
    "start_time": "2023-10-17T18:41:58.457Z"
   },
   {
    "duration": 33,
    "start_time": "2023-10-17T18:41:58.464Z"
   },
   {
    "duration": 11,
    "start_time": "2023-10-17T18:41:58.499Z"
   },
   {
    "duration": 30,
    "start_time": "2023-10-17T18:41:58.512Z"
   },
   {
    "duration": 22,
    "start_time": "2023-10-17T18:41:58.544Z"
   },
   {
    "duration": 15,
    "start_time": "2023-10-17T18:41:58.568Z"
   },
   {
    "duration": 20,
    "start_time": "2023-10-17T18:41:58.585Z"
   },
   {
    "duration": 1719,
    "start_time": "2023-10-19T13:52:59.939Z"
   },
   {
    "duration": 85,
    "start_time": "2023-10-19T13:53:01.661Z"
   },
   {
    "duration": 278,
    "start_time": "2023-10-19T13:53:01.748Z"
   },
   {
    "duration": 1752,
    "start_time": "2023-10-19T13:53:02.029Z"
   },
   {
    "duration": 127,
    "start_time": "2023-10-19T13:53:03.783Z"
   },
   {
    "duration": 5,
    "start_time": "2023-10-19T13:53:03.912Z"
   },
   {
    "duration": 66,
    "start_time": "2023-10-19T13:53:03.919Z"
   },
   {
    "duration": 25,
    "start_time": "2023-10-19T13:53:03.987Z"
   },
   {
    "duration": 94,
    "start_time": "2023-10-19T13:53:04.015Z"
   },
   {
    "duration": 48,
    "start_time": "2023-10-19T13:53:04.113Z"
   },
   {
    "duration": 8,
    "start_time": "2023-10-19T13:53:04.163Z"
   },
   {
    "duration": 15,
    "start_time": "2023-10-19T13:53:04.173Z"
   },
   {
    "duration": 22,
    "start_time": "2023-10-19T13:53:04.190Z"
   },
   {
    "duration": 71,
    "start_time": "2023-10-19T13:53:04.214Z"
   },
   {
    "duration": 5,
    "start_time": "2023-10-19T13:53:04.287Z"
   },
   {
    "duration": 509,
    "start_time": "2023-10-19T13:53:04.294Z"
   },
   {
    "duration": 3,
    "start_time": "2023-10-19T13:53:04.805Z"
   },
   {
    "duration": 135,
    "start_time": "2023-10-19T13:53:04.810Z"
   },
   {
    "duration": 117,
    "start_time": "2023-10-19T13:53:04.947Z"
   },
   {
    "duration": 31,
    "start_time": "2023-10-19T13:53:05.066Z"
   },
   {
    "duration": 5,
    "start_time": "2023-10-19T13:53:05.099Z"
   },
   {
    "duration": 30,
    "start_time": "2023-10-19T13:53:05.105Z"
   },
   {
    "duration": 27,
    "start_time": "2023-10-19T13:53:05.137Z"
   },
   {
    "duration": 41,
    "start_time": "2023-10-19T13:53:05.166Z"
   },
   {
    "duration": 25,
    "start_time": "2023-10-19T13:53:05.210Z"
   },
   {
    "duration": 39,
    "start_time": "2023-10-19T13:53:05.237Z"
   },
   {
    "duration": 11,
    "start_time": "2023-10-19T13:53:05.278Z"
   },
   {
    "duration": 67,
    "start_time": "2023-10-19T13:53:05.294Z"
   },
   {
    "duration": 5,
    "start_time": "2023-10-19T13:53:05.364Z"
   },
   {
    "duration": 33,
    "start_time": "2023-10-19T13:53:05.371Z"
   },
   {
    "duration": 15,
    "start_time": "2023-10-19T13:53:05.405Z"
   },
   {
    "duration": 36,
    "start_time": "2023-10-19T13:53:05.422Z"
   },
   {
    "duration": 30,
    "start_time": "2023-10-19T13:53:05.460Z"
   },
   {
    "duration": 39,
    "start_time": "2023-10-19T13:53:05.492Z"
   },
   {
    "duration": 417,
    "start_time": "2023-10-19T13:53:05.533Z"
   },
   {
    "duration": 31,
    "start_time": "2023-10-19T13:53:05.952Z"
   },
   {
    "duration": 78,
    "start_time": "2023-10-19T13:53:05.985Z"
   },
   {
    "duration": 48,
    "start_time": "2023-10-19T13:53:06.065Z"
   },
   {
    "duration": 47,
    "start_time": "2023-10-19T13:53:06.115Z"
   },
   {
    "duration": 30,
    "start_time": "2023-10-19T13:53:06.164Z"
   },
   {
    "duration": 45,
    "start_time": "2023-10-19T13:53:06.196Z"
   },
   {
    "duration": 42,
    "start_time": "2023-10-19T13:53:06.242Z"
   },
   {
    "duration": 192,
    "start_time": "2023-10-19T13:53:06.286Z"
   },
   {
    "duration": 380,
    "start_time": "2023-10-19T13:53:06.480Z"
   },
   {
    "duration": 19,
    "start_time": "2023-10-19T13:53:06.862Z"
   },
   {
    "duration": 50,
    "start_time": "2023-10-19T13:53:06.883Z"
   },
   {
    "duration": 47,
    "start_time": "2023-10-19T13:53:06.936Z"
   },
   {
    "duration": 37,
    "start_time": "2023-10-19T13:53:06.984Z"
   },
   {
    "duration": 21,
    "start_time": "2023-10-19T13:53:07.024Z"
   },
   {
    "duration": 22,
    "start_time": "2023-10-19T13:53:07.047Z"
   },
   {
    "duration": 14,
    "start_time": "2023-10-19T13:53:07.071Z"
   },
   {
    "duration": 30,
    "start_time": "2023-10-19T13:53:07.087Z"
   },
   {
    "duration": 22,
    "start_time": "2023-10-19T13:53:07.119Z"
   },
   {
    "duration": 13,
    "start_time": "2023-10-19T13:53:07.143Z"
   },
   {
    "duration": 23,
    "start_time": "2023-10-19T13:53:07.158Z"
   },
   {
    "duration": 37,
    "start_time": "2023-10-19T13:53:07.183Z"
   },
   {
    "duration": 23,
    "start_time": "2023-10-19T13:53:07.223Z"
   },
   {
    "duration": 27,
    "start_time": "2023-10-19T13:53:07.248Z"
   },
   {
    "duration": 11,
    "start_time": "2023-10-19T13:53:07.277Z"
   },
   {
    "duration": 69,
    "start_time": "2023-10-19T13:53:07.290Z"
   },
   {
    "duration": 18,
    "start_time": "2023-10-19T13:53:07.361Z"
   },
   {
    "duration": 90,
    "start_time": "2023-10-19T13:53:07.382Z"
   },
   {
    "duration": 178,
    "start_time": "2023-10-19T13:53:07.474Z"
   },
   {
    "duration": 179,
    "start_time": "2023-10-19T13:53:07.654Z"
   },
   {
    "duration": 0,
    "start_time": "2023-10-19T13:53:07.835Z"
   },
   {
    "duration": 0,
    "start_time": "2023-10-19T13:53:07.837Z"
   },
   {
    "duration": 0,
    "start_time": "2023-10-19T13:53:07.838Z"
   },
   {
    "duration": 0,
    "start_time": "2023-10-19T13:53:07.839Z"
   },
   {
    "duration": 0,
    "start_time": "2023-10-19T13:53:07.841Z"
   },
   {
    "duration": 0,
    "start_time": "2023-10-19T13:53:07.857Z"
   },
   {
    "duration": 0,
    "start_time": "2023-10-19T13:53:07.858Z"
   },
   {
    "duration": 0,
    "start_time": "2023-10-19T13:53:07.859Z"
   },
   {
    "duration": 0,
    "start_time": "2023-10-19T13:53:07.861Z"
   },
   {
    "duration": 0,
    "start_time": "2023-10-19T13:53:07.862Z"
   },
   {
    "duration": 0,
    "start_time": "2023-10-19T13:53:07.863Z"
   },
   {
    "duration": 0,
    "start_time": "2023-10-19T13:53:07.865Z"
   },
   {
    "duration": 0,
    "start_time": "2023-10-19T13:53:07.866Z"
   },
   {
    "duration": 0,
    "start_time": "2023-10-19T13:53:07.867Z"
   },
   {
    "duration": 0,
    "start_time": "2023-10-19T13:53:07.868Z"
   },
   {
    "duration": 26,
    "start_time": "2023-10-19T13:59:33.942Z"
   },
   {
    "duration": 13,
    "start_time": "2023-10-19T13:59:41.827Z"
   },
   {
    "duration": 14,
    "start_time": "2023-10-19T14:00:12.586Z"
   },
   {
    "duration": 16,
    "start_time": "2023-10-19T14:03:42.397Z"
   },
   {
    "duration": 1410,
    "start_time": "2023-10-19T14:06:13.830Z"
   },
   {
    "duration": 39,
    "start_time": "2023-10-19T14:06:15.243Z"
   },
   {
    "duration": 88,
    "start_time": "2023-10-19T14:06:15.283Z"
   },
   {
    "duration": 616,
    "start_time": "2023-10-19T14:06:15.374Z"
   },
   {
    "duration": 35,
    "start_time": "2023-10-19T14:06:15.992Z"
   },
   {
    "duration": 14,
    "start_time": "2023-10-19T14:06:16.029Z"
   },
   {
    "duration": 36,
    "start_time": "2023-10-19T14:06:16.044Z"
   },
   {
    "duration": 16,
    "start_time": "2023-10-19T14:06:16.083Z"
   },
   {
    "duration": 126,
    "start_time": "2023-10-19T14:06:16.101Z"
   },
   {
    "duration": 49,
    "start_time": "2023-10-19T14:06:16.231Z"
   },
   {
    "duration": 8,
    "start_time": "2023-10-19T14:06:16.283Z"
   },
   {
    "duration": 17,
    "start_time": "2023-10-19T14:06:16.294Z"
   },
   {
    "duration": 73,
    "start_time": "2023-10-19T14:06:16.313Z"
   },
   {
    "duration": 70,
    "start_time": "2023-10-19T14:06:16.388Z"
   },
   {
    "duration": 5,
    "start_time": "2023-10-19T14:06:16.460Z"
   },
   {
    "duration": 593,
    "start_time": "2023-10-19T14:06:16.467Z"
   },
   {
    "duration": 3,
    "start_time": "2023-10-19T14:06:17.062Z"
   },
   {
    "duration": 159,
    "start_time": "2023-10-19T14:06:17.067Z"
   },
   {
    "duration": 104,
    "start_time": "2023-10-19T14:06:17.228Z"
   },
   {
    "duration": 43,
    "start_time": "2023-10-19T14:06:17.334Z"
   },
   {
    "duration": 5,
    "start_time": "2023-10-19T14:06:17.379Z"
   },
   {
    "duration": 25,
    "start_time": "2023-10-19T14:06:17.386Z"
   },
   {
    "duration": 10,
    "start_time": "2023-10-19T14:06:17.413Z"
   },
   {
    "duration": 40,
    "start_time": "2023-10-19T14:06:17.425Z"
   },
   {
    "duration": 11,
    "start_time": "2023-10-19T14:06:17.466Z"
   },
   {
    "duration": 19,
    "start_time": "2023-10-19T14:06:17.479Z"
   },
   {
    "duration": 17,
    "start_time": "2023-10-19T14:06:17.500Z"
   },
   {
    "duration": 66,
    "start_time": "2023-10-19T14:06:17.522Z"
   },
   {
    "duration": 6,
    "start_time": "2023-10-19T14:06:17.590Z"
   },
   {
    "duration": 24,
    "start_time": "2023-10-19T14:06:17.598Z"
   },
   {
    "duration": 15,
    "start_time": "2023-10-19T14:06:17.624Z"
   },
   {
    "duration": 19,
    "start_time": "2023-10-19T14:06:17.641Z"
   },
   {
    "duration": 15,
    "start_time": "2023-10-19T14:06:17.663Z"
   },
   {
    "duration": 25,
    "start_time": "2023-10-19T14:06:17.680Z"
   },
   {
    "duration": 804,
    "start_time": "2023-10-19T14:06:17.707Z"
   },
   {
    "duration": 32,
    "start_time": "2023-10-19T14:06:18.557Z"
   },
   {
    "duration": 16,
    "start_time": "2023-10-19T14:06:18.591Z"
   },
   {
    "duration": 30,
    "start_time": "2023-10-19T14:06:18.658Z"
   },
   {
    "duration": 67,
    "start_time": "2023-10-19T14:06:18.690Z"
   },
   {
    "duration": 8,
    "start_time": "2023-10-19T14:06:18.759Z"
   },
   {
    "duration": 21,
    "start_time": "2023-10-19T14:06:18.769Z"
   },
   {
    "duration": 69,
    "start_time": "2023-10-19T14:06:18.793Z"
   },
   {
    "duration": 413,
    "start_time": "2023-10-19T14:06:18.865Z"
   },
   {
    "duration": 795,
    "start_time": "2023-10-19T14:06:19.280Z"
   },
   {
    "duration": 20,
    "start_time": "2023-10-19T14:06:20.077Z"
   },
   {
    "duration": 61,
    "start_time": "2023-10-19T14:06:20.099Z"
   },
   {
    "duration": 39,
    "start_time": "2023-10-19T14:06:20.162Z"
   },
   {
    "duration": 53,
    "start_time": "2023-10-19T14:06:20.203Z"
   },
   {
    "duration": 11,
    "start_time": "2023-10-19T14:06:20.259Z"
   },
   {
    "duration": 41,
    "start_time": "2023-10-19T14:06:20.272Z"
   },
   {
    "duration": 6,
    "start_time": "2023-10-19T14:06:20.315Z"
   },
   {
    "duration": 15,
    "start_time": "2023-10-19T14:06:20.323Z"
   },
   {
    "duration": 29,
    "start_time": "2023-10-19T14:06:20.340Z"
   },
   {
    "duration": 16,
    "start_time": "2023-10-19T14:06:20.371Z"
   },
   {
    "duration": 8,
    "start_time": "2023-10-19T14:06:20.388Z"
   },
   {
    "duration": 34,
    "start_time": "2023-10-19T14:06:20.398Z"
   },
   {
    "duration": 31,
    "start_time": "2023-10-19T14:06:20.434Z"
   },
   {
    "duration": 23,
    "start_time": "2023-10-19T14:06:20.466Z"
   },
   {
    "duration": 4,
    "start_time": "2023-10-19T14:06:20.490Z"
   },
   {
    "duration": 61,
    "start_time": "2023-10-19T14:06:20.495Z"
   },
   {
    "duration": 18,
    "start_time": "2023-10-19T14:06:20.557Z"
   },
   {
    "duration": 239,
    "start_time": "2023-10-19T14:06:20.577Z"
   },
   {
    "duration": 79,
    "start_time": "2023-10-19T14:06:20.819Z"
   },
   {
    "duration": 15,
    "start_time": "2023-10-19T14:06:20.900Z"
   },
   {
    "duration": 43,
    "start_time": "2023-10-19T14:06:20.918Z"
   },
   {
    "duration": 39,
    "start_time": "2023-10-19T14:06:20.964Z"
   },
   {
    "duration": 94,
    "start_time": "2023-10-19T14:06:21.006Z"
   },
   {
    "duration": 13,
    "start_time": "2023-10-19T14:06:21.102Z"
   },
   {
    "duration": 95,
    "start_time": "2023-10-19T14:06:21.117Z"
   },
   {
    "duration": 154,
    "start_time": "2023-10-19T14:06:21.215Z"
   },
   {
    "duration": 26,
    "start_time": "2023-10-19T14:06:21.371Z"
   },
   {
    "duration": 160,
    "start_time": "2023-10-19T14:06:21.399Z"
   },
   {
    "duration": 5,
    "start_time": "2023-10-19T14:06:21.561Z"
   },
   {
    "duration": 20,
    "start_time": "2023-10-19T14:06:21.567Z"
   },
   {
    "duration": 69,
    "start_time": "2023-10-19T14:06:21.589Z"
   },
   {
    "duration": 40,
    "start_time": "2023-10-19T14:06:21.660Z"
   },
   {
    "duration": 33,
    "start_time": "2023-10-19T14:06:21.702Z"
   },
   {
    "duration": 6,
    "start_time": "2023-10-19T14:06:21.757Z"
   },
   {
    "duration": 8,
    "start_time": "2023-10-19T14:06:21.765Z"
   },
   {
    "duration": 29,
    "start_time": "2023-10-19T14:30:28.523Z"
   },
   {
    "duration": 30,
    "start_time": "2023-10-19T14:31:22.378Z"
   },
   {
    "duration": 29,
    "start_time": "2023-10-19T14:31:55.218Z"
   },
   {
    "duration": 30,
    "start_time": "2023-10-19T14:32:14.531Z"
   },
   {
    "duration": 30,
    "start_time": "2023-10-19T14:32:36.895Z"
   },
   {
    "duration": 29,
    "start_time": "2023-10-19T14:32:55.012Z"
   },
   {
    "duration": 200,
    "start_time": "2023-10-19T14:33:29.500Z"
   },
   {
    "duration": 37,
    "start_time": "2023-10-19T14:33:43.694Z"
   },
   {
    "duration": 36,
    "start_time": "2023-10-19T14:34:06.637Z"
   },
   {
    "duration": 31,
    "start_time": "2023-10-19T14:34:11.477Z"
   },
   {
    "duration": 28,
    "start_time": "2023-10-19T14:34:27.277Z"
   },
   {
    "duration": 29,
    "start_time": "2023-10-19T14:34:32.579Z"
   },
   {
    "duration": 45,
    "start_time": "2023-10-19T14:35:38.977Z"
   },
   {
    "duration": 30,
    "start_time": "2023-10-19T14:35:47.953Z"
   },
   {
    "duration": 29,
    "start_time": "2023-10-19T14:38:28.268Z"
   },
   {
    "duration": 41,
    "start_time": "2023-10-19T14:40:23.919Z"
   },
   {
    "duration": 45,
    "start_time": "2023-10-19T14:40:39.281Z"
   },
   {
    "duration": 45,
    "start_time": "2023-10-19T14:41:53.195Z"
   },
   {
    "duration": 28,
    "start_time": "2023-10-19T14:42:11.172Z"
   },
   {
    "duration": 29,
    "start_time": "2023-10-19T14:42:24.379Z"
   },
   {
    "duration": 60,
    "start_time": "2023-10-19T14:43:36.598Z"
   },
   {
    "duration": 34,
    "start_time": "2023-10-19T14:43:48.749Z"
   },
   {
    "duration": 33,
    "start_time": "2023-10-19T14:43:54.952Z"
   },
   {
    "duration": 28,
    "start_time": "2023-10-19T14:44:10.973Z"
   },
   {
    "duration": 37,
    "start_time": "2023-10-19T14:44:18.833Z"
   },
   {
    "duration": 28,
    "start_time": "2023-10-19T14:44:24.888Z"
   },
   {
    "duration": 36,
    "start_time": "2023-10-19T14:46:23.495Z"
   },
   {
    "duration": 40,
    "start_time": "2023-10-19T14:46:56.940Z"
   },
   {
    "duration": 30,
    "start_time": "2023-10-19T14:47:17.662Z"
   },
   {
    "duration": 30,
    "start_time": "2023-10-19T14:47:22.134Z"
   },
   {
    "duration": 36,
    "start_time": "2023-10-19T14:47:28.876Z"
   },
   {
    "duration": 30,
    "start_time": "2023-10-19T14:47:47.064Z"
   },
   {
    "duration": 30,
    "start_time": "2023-10-19T14:47:53.764Z"
   },
   {
    "duration": 28,
    "start_time": "2023-10-19T14:48:06.101Z"
   },
   {
    "duration": 30,
    "start_time": "2023-10-19T14:48:19.286Z"
   },
   {
    "duration": 31,
    "start_time": "2023-10-19T14:48:31.643Z"
   },
   {
    "duration": 32,
    "start_time": "2023-10-19T14:49:39.693Z"
   },
   {
    "duration": 33,
    "start_time": "2023-10-19T14:50:48.530Z"
   },
   {
    "duration": 29,
    "start_time": "2023-10-19T14:52:49.659Z"
   },
   {
    "duration": 29,
    "start_time": "2023-10-19T14:53:38.585Z"
   },
   {
    "duration": 22,
    "start_time": "2023-10-19T14:58:38.351Z"
   },
   {
    "duration": 12,
    "start_time": "2023-10-19T14:59:14.714Z"
   },
   {
    "duration": 1518,
    "start_time": "2023-10-19T15:08:29.642Z"
   },
   {
    "duration": 39,
    "start_time": "2023-10-19T15:08:31.162Z"
   },
   {
    "duration": 97,
    "start_time": "2023-10-19T15:08:31.203Z"
   },
   {
    "duration": 583,
    "start_time": "2023-10-19T15:08:31.302Z"
   },
   {
    "duration": 35,
    "start_time": "2023-10-19T15:08:31.887Z"
   },
   {
    "duration": 18,
    "start_time": "2023-10-19T15:08:31.924Z"
   },
   {
    "duration": 82,
    "start_time": "2023-10-19T15:08:31.944Z"
   },
   {
    "duration": 27,
    "start_time": "2023-10-19T15:08:32.029Z"
   },
   {
    "duration": 124,
    "start_time": "2023-10-19T15:08:32.058Z"
   },
   {
    "duration": 29,
    "start_time": "2023-10-19T15:08:32.185Z"
   },
   {
    "duration": 7,
    "start_time": "2023-10-19T15:08:32.216Z"
   },
   {
    "duration": 34,
    "start_time": "2023-10-19T15:08:32.225Z"
   },
   {
    "duration": 28,
    "start_time": "2023-10-19T15:08:32.261Z"
   },
   {
    "duration": 79,
    "start_time": "2023-10-19T15:08:32.291Z"
   },
   {
    "duration": 28,
    "start_time": "2023-10-19T15:08:32.372Z"
   },
   {
    "duration": 524,
    "start_time": "2023-10-19T15:08:32.401Z"
   },
   {
    "duration": 3,
    "start_time": "2023-10-19T15:08:32.927Z"
   },
   {
    "duration": 143,
    "start_time": "2023-10-19T15:08:32.932Z"
   },
   {
    "duration": 123,
    "start_time": "2023-10-19T15:08:33.077Z"
   },
   {
    "duration": 49,
    "start_time": "2023-10-19T15:08:33.202Z"
   },
   {
    "duration": 97,
    "start_time": "2023-10-19T15:08:33.257Z"
   },
   {
    "duration": 57,
    "start_time": "2023-10-19T15:08:33.357Z"
   },
   {
    "duration": 38,
    "start_time": "2023-10-19T15:08:33.416Z"
   },
   {
    "duration": 46,
    "start_time": "2023-10-19T15:08:33.457Z"
   },
   {
    "duration": 22,
    "start_time": "2023-10-19T15:08:33.505Z"
   },
   {
    "duration": 44,
    "start_time": "2023-10-19T15:08:33.529Z"
   },
   {
    "duration": 36,
    "start_time": "2023-10-19T15:08:33.575Z"
   },
   {
    "duration": 73,
    "start_time": "2023-10-19T15:08:33.615Z"
   },
   {
    "duration": 5,
    "start_time": "2023-10-19T15:08:33.690Z"
   },
   {
    "duration": 20,
    "start_time": "2023-10-19T15:08:33.697Z"
   },
   {
    "duration": 5,
    "start_time": "2023-10-19T15:08:33.719Z"
   },
   {
    "duration": 12,
    "start_time": "2023-10-19T15:08:33.725Z"
   },
   {
    "duration": 29,
    "start_time": "2023-10-19T15:08:33.739Z"
   },
   {
    "duration": 32,
    "start_time": "2023-10-19T15:08:33.770Z"
   },
   {
    "duration": 431,
    "start_time": "2023-10-19T15:08:33.804Z"
   },
   {
    "duration": 32,
    "start_time": "2023-10-19T15:08:34.237Z"
   },
   {
    "duration": 30,
    "start_time": "2023-10-19T15:08:34.271Z"
   },
   {
    "duration": 77,
    "start_time": "2023-10-19T15:08:34.303Z"
   },
   {
    "duration": 32,
    "start_time": "2023-10-19T15:08:34.381Z"
   },
   {
    "duration": 10,
    "start_time": "2023-10-19T15:08:34.415Z"
   },
   {
    "duration": 20,
    "start_time": "2023-10-19T15:08:34.427Z"
   },
   {
    "duration": 7,
    "start_time": "2023-10-19T15:08:34.456Z"
   },
   {
    "duration": 192,
    "start_time": "2023-10-19T15:08:34.465Z"
   },
   {
    "duration": 396,
    "start_time": "2023-10-19T15:08:34.660Z"
   },
   {
    "duration": 18,
    "start_time": "2023-10-19T15:08:35.058Z"
   },
   {
    "duration": 7,
    "start_time": "2023-10-19T15:08:35.078Z"
   },
   {
    "duration": 40,
    "start_time": "2023-10-19T15:08:35.087Z"
   },
   {
    "duration": 31,
    "start_time": "2023-10-19T15:08:35.129Z"
   },
   {
    "duration": 66,
    "start_time": "2023-10-19T15:08:35.163Z"
   },
   {
    "duration": 29,
    "start_time": "2023-10-19T15:08:35.230Z"
   },
   {
    "duration": 43,
    "start_time": "2023-10-19T15:08:35.261Z"
   },
   {
    "duration": 34,
    "start_time": "2023-10-19T15:08:35.306Z"
   },
   {
    "duration": 25,
    "start_time": "2023-10-19T15:08:35.342Z"
   },
   {
    "duration": 22,
    "start_time": "2023-10-19T15:08:35.369Z"
   },
   {
    "duration": 9,
    "start_time": "2023-10-19T15:08:35.393Z"
   },
   {
    "duration": 29,
    "start_time": "2023-10-19T15:08:35.404Z"
   },
   {
    "duration": 23,
    "start_time": "2023-10-19T15:08:35.434Z"
   },
   {
    "duration": 24,
    "start_time": "2023-10-19T15:08:35.459Z"
   },
   {
    "duration": 6,
    "start_time": "2023-10-19T15:08:35.485Z"
   },
   {
    "duration": 40,
    "start_time": "2023-10-19T15:08:35.493Z"
   },
   {
    "duration": 38,
    "start_time": "2023-10-19T15:08:35.535Z"
   },
   {
    "duration": 84,
    "start_time": "2023-10-19T15:08:35.575Z"
   },
   {
    "duration": 30,
    "start_time": "2023-10-19T15:08:35.661Z"
   },
   {
    "duration": 43,
    "start_time": "2023-10-19T15:08:35.693Z"
   },
   {
    "duration": 168,
    "start_time": "2023-10-19T15:08:35.737Z"
   },
   {
    "duration": 0,
    "start_time": "2023-10-19T15:08:35.907Z"
   },
   {
    "duration": 0,
    "start_time": "2023-10-19T15:08:35.908Z"
   },
   {
    "duration": 0,
    "start_time": "2023-10-19T15:08:35.909Z"
   },
   {
    "duration": 0,
    "start_time": "2023-10-19T15:08:35.910Z"
   },
   {
    "duration": 0,
    "start_time": "2023-10-19T15:08:35.911Z"
   },
   {
    "duration": 0,
    "start_time": "2023-10-19T15:08:35.912Z"
   },
   {
    "duration": 0,
    "start_time": "2023-10-19T15:08:35.913Z"
   },
   {
    "duration": 0,
    "start_time": "2023-10-19T15:08:35.914Z"
   },
   {
    "duration": 0,
    "start_time": "2023-10-19T15:08:35.915Z"
   },
   {
    "duration": 0,
    "start_time": "2023-10-19T15:08:35.916Z"
   },
   {
    "duration": 0,
    "start_time": "2023-10-19T15:08:35.917Z"
   },
   {
    "duration": 0,
    "start_time": "2023-10-19T15:08:35.918Z"
   },
   {
    "duration": 0,
    "start_time": "2023-10-19T15:08:35.919Z"
   },
   {
    "duration": 0,
    "start_time": "2023-10-19T15:08:35.920Z"
   },
   {
    "duration": 0,
    "start_time": "2023-10-19T15:08:35.922Z"
   },
   {
    "duration": 33,
    "start_time": "2023-10-19T15:29:25.400Z"
   },
   {
    "duration": 446,
    "start_time": "2023-10-19T15:29:41.540Z"
   },
   {
    "duration": 30,
    "start_time": "2023-10-19T15:30:48.062Z"
   },
   {
    "duration": 4123,
    "start_time": "2023-10-19T15:31:40.457Z"
   },
   {
    "duration": 31,
    "start_time": "2023-10-19T15:33:16.110Z"
   },
   {
    "duration": 465,
    "start_time": "2023-10-19T15:33:35.834Z"
   },
   {
    "duration": 17,
    "start_time": "2023-10-19T15:34:03.789Z"
   },
   {
    "duration": 14,
    "start_time": "2023-10-19T15:49:17.584Z"
   },
   {
    "duration": 27,
    "start_time": "2023-10-19T15:49:26.072Z"
   },
   {
    "duration": 40,
    "start_time": "2023-10-19T15:49:33.096Z"
   },
   {
    "duration": 651,
    "start_time": "2023-10-19T15:49:45.305Z"
   },
   {
    "duration": 224,
    "start_time": "2023-10-19T15:51:37.896Z"
   },
   {
    "duration": 90,
    "start_time": "2023-10-19T15:52:14.675Z"
   },
   {
    "duration": 99,
    "start_time": "2023-10-19T15:52:42.846Z"
   },
   {
    "duration": 90,
    "start_time": "2023-10-19T15:53:10.405Z"
   },
   {
    "duration": 94,
    "start_time": "2023-10-19T15:53:18.327Z"
   },
   {
    "duration": 110,
    "start_time": "2023-10-19T15:53:22.591Z"
   },
   {
    "duration": 144,
    "start_time": "2023-10-19T15:54:56.879Z"
   },
   {
    "duration": 27,
    "start_time": "2023-10-19T15:56:08.605Z"
   },
   {
    "duration": 497,
    "start_time": "2023-10-19T15:56:14.674Z"
   },
   {
    "duration": 53,
    "start_time": "2023-10-19T15:56:32.223Z"
   },
   {
    "duration": 119,
    "start_time": "2023-10-19T15:56:32.534Z"
   },
   {
    "duration": 42,
    "start_time": "2023-10-19T15:57:34.279Z"
   },
   {
    "duration": 95,
    "start_time": "2023-10-19T15:57:57.608Z"
   },
   {
    "duration": 75,
    "start_time": "2023-10-19T15:58:01.159Z"
   },
   {
    "duration": 78,
    "start_time": "2023-10-19T15:58:06.949Z"
   },
   {
    "duration": 27,
    "start_time": "2023-10-19T15:58:19.979Z"
   },
   {
    "duration": 267,
    "start_time": "2023-10-19T15:58:33.142Z"
   },
   {
    "duration": 63,
    "start_time": "2023-10-19T16:02:48.775Z"
   },
   {
    "duration": 61,
    "start_time": "2023-10-19T16:06:02.382Z"
   },
   {
    "duration": 96,
    "start_time": "2023-10-19T16:06:28.795Z"
   },
   {
    "duration": 24,
    "start_time": "2023-10-19T16:07:13.349Z"
   },
   {
    "duration": 24,
    "start_time": "2023-10-19T16:07:42.168Z"
   },
   {
    "duration": 24,
    "start_time": "2023-10-19T16:07:49.567Z"
   },
   {
    "duration": 18,
    "start_time": "2023-10-19T16:07:52.070Z"
   },
   {
    "duration": 1472,
    "start_time": "2023-10-19T16:08:04.790Z"
   },
   {
    "duration": 42,
    "start_time": "2023-10-19T16:08:06.264Z"
   },
   {
    "duration": 136,
    "start_time": "2023-10-19T16:08:06.308Z"
   },
   {
    "duration": 750,
    "start_time": "2023-10-19T16:08:06.446Z"
   },
   {
    "duration": 37,
    "start_time": "2023-10-19T16:08:07.198Z"
   },
   {
    "duration": 5,
    "start_time": "2023-10-19T16:08:07.237Z"
   },
   {
    "duration": 37,
    "start_time": "2023-10-19T16:08:07.244Z"
   },
   {
    "duration": 35,
    "start_time": "2023-10-19T16:08:07.286Z"
   },
   {
    "duration": 118,
    "start_time": "2023-10-19T16:08:07.323Z"
   },
   {
    "duration": 40,
    "start_time": "2023-10-19T16:08:07.444Z"
   },
   {
    "duration": 21,
    "start_time": "2023-10-19T16:08:07.487Z"
   },
   {
    "duration": 28,
    "start_time": "2023-10-19T16:08:07.509Z"
   },
   {
    "duration": 39,
    "start_time": "2023-10-19T16:08:07.539Z"
   },
   {
    "duration": 83,
    "start_time": "2023-10-19T16:08:07.580Z"
   },
   {
    "duration": 5,
    "start_time": "2023-10-19T16:08:07.665Z"
   },
   {
    "duration": 566,
    "start_time": "2023-10-19T16:08:07.672Z"
   },
   {
    "duration": 3,
    "start_time": "2023-10-19T16:08:08.241Z"
   },
   {
    "duration": 150,
    "start_time": "2023-10-19T16:08:08.246Z"
   },
   {
    "duration": 124,
    "start_time": "2023-10-19T16:08:08.398Z"
   },
   {
    "duration": 46,
    "start_time": "2023-10-19T16:08:08.524Z"
   },
   {
    "duration": 7,
    "start_time": "2023-10-19T16:08:08.572Z"
   },
   {
    "duration": 53,
    "start_time": "2023-10-19T16:08:08.581Z"
   },
   {
    "duration": 73,
    "start_time": "2023-10-19T16:08:08.635Z"
   },
   {
    "duration": 30,
    "start_time": "2023-10-19T16:08:08.710Z"
   },
   {
    "duration": 37,
    "start_time": "2023-10-19T16:08:08.742Z"
   },
   {
    "duration": 38,
    "start_time": "2023-10-19T16:08:08.781Z"
   },
   {
    "duration": 17,
    "start_time": "2023-10-19T16:08:08.822Z"
   },
   {
    "duration": 83,
    "start_time": "2023-10-19T16:08:08.846Z"
   },
   {
    "duration": 6,
    "start_time": "2023-10-19T16:08:08.931Z"
   },
   {
    "duration": 49,
    "start_time": "2023-10-19T16:08:08.940Z"
   },
   {
    "duration": 30,
    "start_time": "2023-10-19T16:08:08.991Z"
   },
   {
    "duration": 30,
    "start_time": "2023-10-19T16:08:09.024Z"
   },
   {
    "duration": 51,
    "start_time": "2023-10-19T16:08:09.056Z"
   },
   {
    "duration": 48,
    "start_time": "2023-10-19T16:08:09.110Z"
   },
   {
    "duration": 735,
    "start_time": "2023-10-19T16:08:09.169Z"
   },
   {
    "duration": 77,
    "start_time": "2023-10-19T16:08:09.906Z"
   },
   {
    "duration": 11,
    "start_time": "2023-10-19T16:08:09.985Z"
   },
   {
    "duration": 93,
    "start_time": "2023-10-19T16:08:09.997Z"
   },
   {
    "duration": 65,
    "start_time": "2023-10-19T16:08:10.092Z"
   },
   {
    "duration": 11,
    "start_time": "2023-10-19T16:08:10.160Z"
   },
   {
    "duration": 11,
    "start_time": "2023-10-19T16:08:10.173Z"
   },
   {
    "duration": 30,
    "start_time": "2023-10-19T16:08:10.186Z"
   },
   {
    "duration": 410,
    "start_time": "2023-10-19T16:08:10.256Z"
   },
   {
    "duration": 815,
    "start_time": "2023-10-19T16:08:10.668Z"
   },
   {
    "duration": 71,
    "start_time": "2023-10-19T16:08:11.486Z"
   },
   {
    "duration": 32,
    "start_time": "2023-10-19T16:08:11.560Z"
   },
   {
    "duration": 81,
    "start_time": "2023-10-19T16:08:11.594Z"
   },
   {
    "duration": 14,
    "start_time": "2023-10-19T16:08:11.677Z"
   },
   {
    "duration": 14,
    "start_time": "2023-10-19T16:08:11.693Z"
   },
   {
    "duration": 15,
    "start_time": "2023-10-19T16:08:11.757Z"
   },
   {
    "duration": 17,
    "start_time": "2023-10-19T16:08:11.774Z"
   },
   {
    "duration": 27,
    "start_time": "2023-10-19T16:08:11.793Z"
   },
   {
    "duration": 17,
    "start_time": "2023-10-19T16:08:11.822Z"
   },
   {
    "duration": 28,
    "start_time": "2023-10-19T16:08:11.841Z"
   },
   {
    "duration": 14,
    "start_time": "2023-10-19T16:08:11.879Z"
   },
   {
    "duration": 22,
    "start_time": "2023-10-19T16:08:11.894Z"
   },
   {
    "duration": 18,
    "start_time": "2023-10-19T16:08:11.917Z"
   },
   {
    "duration": 30,
    "start_time": "2023-10-19T16:08:11.957Z"
   },
   {
    "duration": 3,
    "start_time": "2023-10-19T16:08:11.989Z"
   },
   {
    "duration": 42,
    "start_time": "2023-10-19T16:08:11.994Z"
   },
   {
    "duration": 36,
    "start_time": "2023-10-19T16:08:12.038Z"
   },
   {
    "duration": 43,
    "start_time": "2023-10-19T16:08:12.076Z"
   },
   {
    "duration": 4901,
    "start_time": "2023-10-19T16:08:12.121Z"
   },
   {
    "duration": 75,
    "start_time": "2023-10-19T16:08:17.024Z"
   },
   {
    "duration": 411,
    "start_time": "2023-10-19T16:08:17.101Z"
   },
   {
    "duration": 274,
    "start_time": "2023-10-19T16:08:17.513Z"
   },
   {
    "duration": 87,
    "start_time": "2023-10-19T16:08:17.789Z"
   },
   {
    "duration": 18,
    "start_time": "2023-10-19T16:08:17.878Z"
   },
   {
    "duration": 60,
    "start_time": "2023-10-19T16:08:17.897Z"
   },
   {
    "duration": 76,
    "start_time": "2023-10-19T16:08:17.960Z"
   },
   {
    "duration": 30,
    "start_time": "2023-10-19T16:08:18.039Z"
   },
   {
    "duration": 27,
    "start_time": "2023-10-19T16:08:18.071Z"
   },
   {
    "duration": 97,
    "start_time": "2023-10-19T16:08:18.100Z"
   },
   {
    "duration": 31,
    "start_time": "2023-10-19T16:08:18.199Z"
   },
   {
    "duration": 95,
    "start_time": "2023-10-19T16:08:18.232Z"
   },
   {
    "duration": 6,
    "start_time": "2023-10-19T16:08:18.329Z"
   },
   {
    "duration": 6,
    "start_time": "2023-10-19T16:08:18.357Z"
   },
   {
    "duration": 8,
    "start_time": "2023-10-19T16:08:18.366Z"
   },
   {
    "duration": 7,
    "start_time": "2023-10-19T16:08:18.376Z"
   },
   {
    "duration": 12,
    "start_time": "2023-10-19T16:08:18.385Z"
   },
   {
    "duration": 37,
    "start_time": "2023-10-19T16:08:18.400Z"
   },
   {
    "duration": 26,
    "start_time": "2023-10-19T16:08:18.444Z"
   },
   {
    "duration": 97,
    "start_time": "2023-10-19T16:09:35.484Z"
   },
   {
    "duration": 97,
    "start_time": "2023-10-19T16:09:57.208Z"
   },
   {
    "duration": 4034,
    "start_time": "2023-10-19T16:18:50.100Z"
   },
   {
    "duration": 196,
    "start_time": "2023-10-19T16:34:49.720Z"
   },
   {
    "duration": 41,
    "start_time": "2023-10-19T16:35:17.309Z"
   },
   {
    "duration": 35,
    "start_time": "2023-10-19T16:35:29.556Z"
   },
   {
    "duration": 42,
    "start_time": "2023-10-19T16:35:45.790Z"
   },
   {
    "duration": 36,
    "start_time": "2023-10-19T16:35:54.951Z"
   },
   {
    "duration": 37,
    "start_time": "2023-10-19T16:36:02.167Z"
   },
   {
    "duration": 83,
    "start_time": "2023-10-19T16:36:18.840Z"
   },
   {
    "duration": 36,
    "start_time": "2023-10-19T16:37:02.117Z"
   },
   {
    "duration": 45,
    "start_time": "2023-10-19T16:37:46.890Z"
   },
   {
    "duration": 84,
    "start_time": "2023-10-19T16:40:06.611Z"
   },
   {
    "duration": 18,
    "start_time": "2023-10-19T16:40:11.953Z"
   },
   {
    "duration": 19,
    "start_time": "2023-10-19T16:40:26.646Z"
   },
   {
    "duration": 7,
    "start_time": "2023-10-19T16:40:37.275Z"
   },
   {
    "duration": 1721,
    "start_time": "2023-10-19T16:40:43.254Z"
   },
   {
    "duration": 308,
    "start_time": "2023-10-19T16:41:23.930Z"
   },
   {
    "duration": 13,
    "start_time": "2023-10-19T16:42:46.670Z"
   },
   {
    "duration": 386,
    "start_time": "2023-10-19T16:42:50.335Z"
   },
   {
    "duration": 1186,
    "start_time": "2023-10-19T16:43:23.164Z"
   },
   {
    "duration": 1123,
    "start_time": "2023-10-19T16:45:26.651Z"
   },
   {
    "duration": 357,
    "start_time": "2023-10-19T16:45:38.121Z"
   },
   {
    "duration": 25,
    "start_time": "2023-10-19T16:46:03.615Z"
   },
   {
    "duration": 28,
    "start_time": "2023-10-19T16:46:16.294Z"
   },
   {
    "duration": 53,
    "start_time": "2023-10-19T16:46:23.438Z"
   },
   {
    "duration": 17,
    "start_time": "2023-10-19T16:53:59.299Z"
   },
   {
    "duration": 16,
    "start_time": "2023-10-19T16:55:31.169Z"
   },
   {
    "duration": 4125,
    "start_time": "2023-10-19T16:58:34.143Z"
   },
   {
    "duration": 385,
    "start_time": "2023-10-19T16:59:19.042Z"
   },
   {
    "duration": 438,
    "start_time": "2023-10-19T17:00:05.699Z"
   },
   {
    "duration": 461,
    "start_time": "2023-10-19T17:00:12.660Z"
   },
   {
    "duration": 25,
    "start_time": "2023-10-19T17:01:19.191Z"
   },
   {
    "duration": 21,
    "start_time": "2023-10-19T17:01:45.407Z"
   },
   {
    "duration": 10,
    "start_time": "2023-10-19T17:02:17.538Z"
   },
   {
    "duration": 23,
    "start_time": "2023-10-19T17:02:20.695Z"
   },
   {
    "duration": 20,
    "start_time": "2023-10-19T17:02:27.512Z"
   },
   {
    "duration": 73,
    "start_time": "2023-10-19T17:02:34.746Z"
   },
   {
    "duration": 48,
    "start_time": "2023-10-19T17:20:48.248Z"
   },
   {
    "duration": 38,
    "start_time": "2023-10-19T17:21:31.128Z"
   },
   {
    "duration": 30,
    "start_time": "2023-10-19T17:22:12.490Z"
   },
   {
    "duration": 1937,
    "start_time": "2023-10-19T17:36:32.238Z"
   },
   {
    "duration": 26,
    "start_time": "2023-10-19T17:38:08.714Z"
   },
   {
    "duration": 30,
    "start_time": "2023-10-19T17:38:34.252Z"
   },
   {
    "duration": 43,
    "start_time": "2023-10-19T17:38:49.106Z"
   },
   {
    "duration": 74,
    "start_time": "2023-10-19T17:38:53.404Z"
   },
   {
    "duration": 26,
    "start_time": "2023-10-19T17:39:02.202Z"
   },
   {
    "duration": 25,
    "start_time": "2023-10-19T17:39:10.129Z"
   },
   {
    "duration": 25,
    "start_time": "2023-10-19T17:39:18.301Z"
   },
   {
    "duration": 24,
    "start_time": "2023-10-19T17:39:25.342Z"
   },
   {
    "duration": 26,
    "start_time": "2023-10-19T17:39:35.782Z"
   },
   {
    "duration": 60,
    "start_time": "2023-10-19T17:39:48.399Z"
   },
   {
    "duration": 35,
    "start_time": "2023-10-19T17:39:55.646Z"
   },
   {
    "duration": 27,
    "start_time": "2023-10-19T17:40:17.409Z"
   },
   {
    "duration": 1383,
    "start_time": "2023-10-19T17:41:14.172Z"
   },
   {
    "duration": 28,
    "start_time": "2023-10-19T17:41:26.909Z"
   },
   {
    "duration": 28,
    "start_time": "2023-10-19T17:42:01.948Z"
   },
   {
    "duration": 45,
    "start_time": "2023-10-19T17:45:30.226Z"
   },
   {
    "duration": 23,
    "start_time": "2023-10-19T18:05:16.773Z"
   },
   {
    "duration": 1329,
    "start_time": "2023-10-19T18:05:52.805Z"
   },
   {
    "duration": 31,
    "start_time": "2023-10-19T18:06:51.949Z"
   },
   {
    "duration": 53,
    "start_time": "2023-10-19T18:06:59.808Z"
   },
   {
    "duration": 1492,
    "start_time": "2023-10-19T18:08:03.772Z"
   },
   {
    "duration": 40,
    "start_time": "2023-10-19T18:08:05.266Z"
   },
   {
    "duration": 190,
    "start_time": "2023-10-19T18:08:05.308Z"
   },
   {
    "duration": 714,
    "start_time": "2023-10-19T18:08:05.501Z"
   },
   {
    "duration": 35,
    "start_time": "2023-10-19T18:08:06.217Z"
   },
   {
    "duration": 5,
    "start_time": "2023-10-19T18:08:06.255Z"
   },
   {
    "duration": 62,
    "start_time": "2023-10-19T18:08:06.262Z"
   },
   {
    "duration": 16,
    "start_time": "2023-10-19T18:08:06.326Z"
   },
   {
    "duration": 108,
    "start_time": "2023-10-19T18:08:06.344Z"
   },
   {
    "duration": 29,
    "start_time": "2023-10-19T18:08:06.457Z"
   },
   {
    "duration": 17,
    "start_time": "2023-10-19T18:08:06.488Z"
   },
   {
    "duration": 20,
    "start_time": "2023-10-19T18:08:06.507Z"
   },
   {
    "duration": 43,
    "start_time": "2023-10-19T18:08:06.530Z"
   },
   {
    "duration": 55,
    "start_time": "2023-10-19T18:08:06.575Z"
   },
   {
    "duration": 23,
    "start_time": "2023-10-19T18:08:06.632Z"
   },
   {
    "duration": 549,
    "start_time": "2023-10-19T18:08:06.657Z"
   },
   {
    "duration": 3,
    "start_time": "2023-10-19T18:08:07.207Z"
   },
   {
    "duration": 144,
    "start_time": "2023-10-19T18:08:07.212Z"
   },
   {
    "duration": 111,
    "start_time": "2023-10-19T18:08:07.358Z"
   },
   {
    "duration": 34,
    "start_time": "2023-10-19T18:08:07.471Z"
   },
   {
    "duration": 6,
    "start_time": "2023-10-19T18:08:07.507Z"
   },
   {
    "duration": 47,
    "start_time": "2023-10-19T18:08:07.515Z"
   },
   {
    "duration": 30,
    "start_time": "2023-10-19T18:08:07.564Z"
   },
   {
    "duration": 52,
    "start_time": "2023-10-19T18:08:07.596Z"
   },
   {
    "duration": 44,
    "start_time": "2023-10-19T18:08:07.651Z"
   },
   {
    "duration": 30,
    "start_time": "2023-10-19T18:08:07.697Z"
   },
   {
    "duration": 21,
    "start_time": "2023-10-19T18:08:07.729Z"
   },
   {
    "duration": 42,
    "start_time": "2023-10-19T18:08:07.755Z"
   },
   {
    "duration": 5,
    "start_time": "2023-10-19T18:08:07.799Z"
   },
   {
    "duration": 18,
    "start_time": "2023-10-19T18:08:07.806Z"
   },
   {
    "duration": 23,
    "start_time": "2023-10-19T18:08:07.826Z"
   },
   {
    "duration": 19,
    "start_time": "2023-10-19T18:08:07.850Z"
   },
   {
    "duration": 35,
    "start_time": "2023-10-19T18:08:07.871Z"
   },
   {
    "duration": 22,
    "start_time": "2023-10-19T18:08:07.908Z"
   },
   {
    "duration": 409,
    "start_time": "2023-10-19T18:08:07.932Z"
   },
   {
    "duration": 31,
    "start_time": "2023-10-19T18:08:08.343Z"
   },
   {
    "duration": 29,
    "start_time": "2023-10-19T18:08:08.376Z"
   },
   {
    "duration": 73,
    "start_time": "2023-10-19T18:08:08.406Z"
   },
   {
    "duration": 14,
    "start_time": "2023-10-19T18:08:08.481Z"
   },
   {
    "duration": 12,
    "start_time": "2023-10-19T18:08:08.497Z"
   },
   {
    "duration": 10,
    "start_time": "2023-10-19T18:08:08.511Z"
   },
   {
    "duration": 40,
    "start_time": "2023-10-19T18:08:08.522Z"
   },
   {
    "duration": 174,
    "start_time": "2023-10-19T18:08:08.564Z"
   },
   {
    "duration": 431,
    "start_time": "2023-10-19T18:08:08.740Z"
   },
   {
    "duration": 28,
    "start_time": "2023-10-19T18:08:09.173Z"
   },
   {
    "duration": 33,
    "start_time": "2023-10-19T18:08:09.203Z"
   },
   {
    "duration": 51,
    "start_time": "2023-10-19T18:08:09.238Z"
   },
   {
    "duration": 14,
    "start_time": "2023-10-19T18:08:09.291Z"
   },
   {
    "duration": 23,
    "start_time": "2023-10-19T18:08:09.306Z"
   },
   {
    "duration": 29,
    "start_time": "2023-10-19T18:08:09.331Z"
   },
   {
    "duration": 25,
    "start_time": "2023-10-19T18:08:09.362Z"
   },
   {
    "duration": 25,
    "start_time": "2023-10-19T18:08:09.389Z"
   },
   {
    "duration": 23,
    "start_time": "2023-10-19T18:08:09.416Z"
   },
   {
    "duration": 21,
    "start_time": "2023-10-19T18:08:09.440Z"
   },
   {
    "duration": 9,
    "start_time": "2023-10-19T18:08:09.463Z"
   },
   {
    "duration": 20,
    "start_time": "2023-10-19T18:08:09.473Z"
   },
   {
    "duration": 26,
    "start_time": "2023-10-19T18:08:09.495Z"
   },
   {
    "duration": 43,
    "start_time": "2023-10-19T18:08:09.523Z"
   },
   {
    "duration": 4,
    "start_time": "2023-10-19T18:08:09.568Z"
   },
   {
    "duration": 57,
    "start_time": "2023-10-19T18:08:09.574Z"
   },
   {
    "duration": 17,
    "start_time": "2023-10-19T18:08:09.633Z"
   },
   {
    "duration": 32,
    "start_time": "2023-10-19T18:08:09.655Z"
   },
   {
    "duration": 71,
    "start_time": "2023-10-19T18:08:09.689Z"
   },
   {
    "duration": 204,
    "start_time": "2023-10-19T18:08:09.762Z"
   },
   {
    "duration": 266,
    "start_time": "2023-10-19T18:08:09.967Z"
   },
   {
    "duration": 75,
    "start_time": "2023-10-19T18:08:10.235Z"
   },
   {
    "duration": 19,
    "start_time": "2023-10-19T18:08:10.312Z"
   },
   {
    "duration": 37,
    "start_time": "2023-10-19T18:08:10.357Z"
   },
   {
    "duration": 75,
    "start_time": "2023-10-19T18:08:10.396Z"
   },
   {
    "duration": 11,
    "start_time": "2023-10-19T18:08:10.473Z"
   },
   {
    "duration": 32,
    "start_time": "2023-10-19T18:08:10.486Z"
   },
   {
    "duration": 181,
    "start_time": "2023-10-19T18:08:10.520Z"
   },
   {
    "duration": 0,
    "start_time": "2023-10-19T18:08:10.703Z"
   },
   {
    "duration": 0,
    "start_time": "2023-10-19T18:08:10.704Z"
   },
   {
    "duration": 0,
    "start_time": "2023-10-19T18:08:10.705Z"
   },
   {
    "duration": 0,
    "start_time": "2023-10-19T18:08:10.706Z"
   },
   {
    "duration": 0,
    "start_time": "2023-10-19T18:08:10.708Z"
   },
   {
    "duration": 0,
    "start_time": "2023-10-19T18:08:10.709Z"
   },
   {
    "duration": 0,
    "start_time": "2023-10-19T18:08:10.710Z"
   },
   {
    "duration": 0,
    "start_time": "2023-10-19T18:08:10.711Z"
   },
   {
    "duration": 0,
    "start_time": "2023-10-19T18:08:10.712Z"
   },
   {
    "duration": 0,
    "start_time": "2023-10-19T18:08:10.713Z"
   },
   {
    "duration": 1476,
    "start_time": "2023-10-19T18:08:44.350Z"
   },
   {
    "duration": 40,
    "start_time": "2023-10-19T18:08:45.828Z"
   },
   {
    "duration": 84,
    "start_time": "2023-10-19T18:08:45.870Z"
   },
   {
    "duration": 586,
    "start_time": "2023-10-19T18:08:45.957Z"
   },
   {
    "duration": 35,
    "start_time": "2023-10-19T18:08:46.545Z"
   },
   {
    "duration": 6,
    "start_time": "2023-10-19T18:08:46.582Z"
   },
   {
    "duration": 45,
    "start_time": "2023-10-19T18:08:46.590Z"
   },
   {
    "duration": 22,
    "start_time": "2023-10-19T18:08:46.637Z"
   },
   {
    "duration": 101,
    "start_time": "2023-10-19T18:08:46.661Z"
   },
   {
    "duration": 31,
    "start_time": "2023-10-19T18:08:46.766Z"
   },
   {
    "duration": 8,
    "start_time": "2023-10-19T18:08:46.799Z"
   },
   {
    "duration": 14,
    "start_time": "2023-10-19T18:08:46.810Z"
   },
   {
    "duration": 29,
    "start_time": "2023-10-19T18:08:46.826Z"
   },
   {
    "duration": 72,
    "start_time": "2023-10-19T18:08:46.858Z"
   },
   {
    "duration": 7,
    "start_time": "2023-10-19T18:08:46.932Z"
   },
   {
    "duration": 531,
    "start_time": "2023-10-19T18:08:46.941Z"
   },
   {
    "duration": 3,
    "start_time": "2023-10-19T18:08:47.474Z"
   },
   {
    "duration": 145,
    "start_time": "2023-10-19T18:08:47.479Z"
   },
   {
    "duration": 103,
    "start_time": "2023-10-19T18:08:47.626Z"
   },
   {
    "duration": 45,
    "start_time": "2023-10-19T18:08:47.731Z"
   },
   {
    "duration": 10,
    "start_time": "2023-10-19T18:08:47.778Z"
   },
   {
    "duration": 31,
    "start_time": "2023-10-19T18:08:47.790Z"
   },
   {
    "duration": 35,
    "start_time": "2023-10-19T18:08:47.823Z"
   },
   {
    "duration": 29,
    "start_time": "2023-10-19T18:08:47.861Z"
   },
   {
    "duration": 13,
    "start_time": "2023-10-19T18:08:47.892Z"
   },
   {
    "duration": 27,
    "start_time": "2023-10-19T18:08:47.907Z"
   },
   {
    "duration": 22,
    "start_time": "2023-10-19T18:08:47.936Z"
   },
   {
    "duration": 56,
    "start_time": "2023-10-19T18:08:47.963Z"
   },
   {
    "duration": 6,
    "start_time": "2023-10-19T18:08:48.021Z"
   },
   {
    "duration": 37,
    "start_time": "2023-10-19T18:08:48.029Z"
   },
   {
    "duration": 7,
    "start_time": "2023-10-19T18:08:48.068Z"
   },
   {
    "duration": 12,
    "start_time": "2023-10-19T18:08:48.077Z"
   },
   {
    "duration": 17,
    "start_time": "2023-10-19T18:08:48.092Z"
   },
   {
    "duration": 59,
    "start_time": "2023-10-19T18:08:48.111Z"
   },
   {
    "duration": 410,
    "start_time": "2023-10-19T18:08:48.172Z"
   },
   {
    "duration": 32,
    "start_time": "2023-10-19T18:08:48.584Z"
   },
   {
    "duration": 10,
    "start_time": "2023-10-19T18:08:48.658Z"
   },
   {
    "duration": 88,
    "start_time": "2023-10-19T18:08:48.669Z"
   },
   {
    "duration": 17,
    "start_time": "2023-10-19T18:08:48.759Z"
   },
   {
    "duration": 14,
    "start_time": "2023-10-19T18:08:48.779Z"
   },
   {
    "duration": 40,
    "start_time": "2023-10-19T18:08:48.795Z"
   },
   {
    "duration": 18,
    "start_time": "2023-10-19T18:08:48.837Z"
   },
   {
    "duration": 215,
    "start_time": "2023-10-19T18:08:48.858Z"
   },
   {
    "duration": 402,
    "start_time": "2023-10-19T18:08:49.075Z"
   },
   {
    "duration": 17,
    "start_time": "2023-10-19T18:08:49.479Z"
   },
   {
    "duration": 6,
    "start_time": "2023-10-19T18:08:49.498Z"
   },
   {
    "duration": 26,
    "start_time": "2023-10-19T18:08:49.506Z"
   },
   {
    "duration": 33,
    "start_time": "2023-10-19T18:08:49.534Z"
   },
   {
    "duration": 12,
    "start_time": "2023-10-19T18:08:49.569Z"
   },
   {
    "duration": 44,
    "start_time": "2023-10-19T18:08:49.583Z"
   },
   {
    "duration": 16,
    "start_time": "2023-10-19T18:08:49.629Z"
   },
   {
    "duration": 23,
    "start_time": "2023-10-19T18:08:49.647Z"
   },
   {
    "duration": 51,
    "start_time": "2023-10-19T18:08:49.672Z"
   },
   {
    "duration": 18,
    "start_time": "2023-10-19T18:08:49.725Z"
   },
   {
    "duration": 10,
    "start_time": "2023-10-19T18:08:49.745Z"
   },
   {
    "duration": 19,
    "start_time": "2023-10-19T18:08:49.757Z"
   },
   {
    "duration": 17,
    "start_time": "2023-10-19T18:08:49.780Z"
   },
   {
    "duration": 23,
    "start_time": "2023-10-19T18:08:49.799Z"
   },
   {
    "duration": 4,
    "start_time": "2023-10-19T18:08:49.824Z"
   },
   {
    "duration": 37,
    "start_time": "2023-10-19T18:08:49.856Z"
   },
   {
    "duration": 17,
    "start_time": "2023-10-19T18:08:49.895Z"
   },
   {
    "duration": 54,
    "start_time": "2023-10-19T18:08:49.913Z"
   },
   {
    "duration": 42,
    "start_time": "2023-10-19T18:08:49.969Z"
   },
   {
    "duration": 232,
    "start_time": "2023-10-19T18:08:50.013Z"
   },
   {
    "duration": 243,
    "start_time": "2023-10-19T18:08:50.247Z"
   },
   {
    "duration": 80,
    "start_time": "2023-10-19T18:08:50.492Z"
   },
   {
    "duration": 18,
    "start_time": "2023-10-19T18:08:50.574Z"
   },
   {
    "duration": 38,
    "start_time": "2023-10-19T18:08:50.594Z"
   },
   {
    "duration": 80,
    "start_time": "2023-10-19T18:08:50.634Z"
   },
   {
    "duration": 10,
    "start_time": "2023-10-19T18:08:50.715Z"
   },
   {
    "duration": 48,
    "start_time": "2023-10-19T18:08:50.727Z"
   },
   {
    "duration": 81,
    "start_time": "2023-10-19T18:08:50.778Z"
   },
   {
    "duration": 29,
    "start_time": "2023-10-19T18:08:50.861Z"
   },
   {
    "duration": 76,
    "start_time": "2023-10-19T18:08:50.891Z"
   },
   {
    "duration": 6,
    "start_time": "2023-10-19T18:08:50.969Z"
   },
   {
    "duration": 14,
    "start_time": "2023-10-19T18:08:50.977Z"
   },
   {
    "duration": 18,
    "start_time": "2023-10-19T18:08:50.992Z"
   },
   {
    "duration": 13,
    "start_time": "2023-10-19T18:08:51.012Z"
   },
   {
    "duration": 30,
    "start_time": "2023-10-19T18:08:51.027Z"
   },
   {
    "duration": 12,
    "start_time": "2023-10-19T18:08:51.059Z"
   },
   {
    "duration": 7,
    "start_time": "2023-10-19T18:08:51.073Z"
   },
   {
    "duration": 1581,
    "start_time": "2023-10-20T17:41:49.904Z"
   },
   {
    "duration": 81,
    "start_time": "2023-10-20T17:41:51.488Z"
   },
   {
    "duration": 237,
    "start_time": "2023-10-20T17:41:51.570Z"
   },
   {
    "duration": 1673,
    "start_time": "2023-10-20T17:41:51.809Z"
   },
   {
    "duration": 126,
    "start_time": "2023-10-20T17:41:53.485Z"
   },
   {
    "duration": 7,
    "start_time": "2023-10-20T17:41:53.613Z"
   },
   {
    "duration": 35,
    "start_time": "2023-10-20T17:41:53.621Z"
   },
   {
    "duration": 14,
    "start_time": "2023-10-20T17:41:53.658Z"
   },
   {
    "duration": 64,
    "start_time": "2023-10-20T17:41:53.674Z"
   },
   {
    "duration": 24,
    "start_time": "2023-10-20T17:41:53.758Z"
   },
   {
    "duration": 19,
    "start_time": "2023-10-20T17:41:53.784Z"
   },
   {
    "duration": 43,
    "start_time": "2023-10-20T17:41:53.805Z"
   },
   {
    "duration": 26,
    "start_time": "2023-10-20T17:41:53.851Z"
   },
   {
    "duration": 40,
    "start_time": "2023-10-20T17:41:53.880Z"
   },
   {
    "duration": 5,
    "start_time": "2023-10-20T17:41:53.922Z"
   },
   {
    "duration": 438,
    "start_time": "2023-10-20T17:41:53.928Z"
   },
   {
    "duration": 3,
    "start_time": "2023-10-20T17:41:54.368Z"
   },
   {
    "duration": 157,
    "start_time": "2023-10-20T17:41:54.373Z"
   },
   {
    "duration": 89,
    "start_time": "2023-10-20T17:41:54.532Z"
   },
   {
    "duration": 42,
    "start_time": "2023-10-20T17:41:54.622Z"
   },
   {
    "duration": 5,
    "start_time": "2023-10-20T17:41:54.666Z"
   },
   {
    "duration": 14,
    "start_time": "2023-10-20T17:41:54.673Z"
   },
   {
    "duration": 10,
    "start_time": "2023-10-20T17:41:54.689Z"
   },
   {
    "duration": 18,
    "start_time": "2023-10-20T17:41:54.701Z"
   },
   {
    "duration": 9,
    "start_time": "2023-10-20T17:41:54.721Z"
   },
   {
    "duration": 15,
    "start_time": "2023-10-20T17:41:54.758Z"
   },
   {
    "duration": 6,
    "start_time": "2023-10-20T17:41:54.775Z"
   },
   {
    "duration": 55,
    "start_time": "2023-10-20T17:41:54.783Z"
   },
   {
    "duration": 7,
    "start_time": "2023-10-20T17:41:54.855Z"
   },
   {
    "duration": 14,
    "start_time": "2023-10-20T17:41:54.865Z"
   },
   {
    "duration": 7,
    "start_time": "2023-10-20T17:41:54.881Z"
   },
   {
    "duration": 9,
    "start_time": "2023-10-20T17:41:54.890Z"
   },
   {
    "duration": 23,
    "start_time": "2023-10-20T17:41:54.901Z"
   },
   {
    "duration": 42,
    "start_time": "2023-10-20T17:41:54.927Z"
   },
   {
    "duration": 4873,
    "start_time": "2023-10-20T17:41:54.971Z"
   },
   {
    "duration": 39,
    "start_time": "2023-10-20T17:41:59.846Z"
   },
   {
    "duration": 74,
    "start_time": "2023-10-20T17:41:59.886Z"
   },
   {
    "duration": 27,
    "start_time": "2023-10-20T17:41:59.962Z"
   },
   {
    "duration": 59,
    "start_time": "2023-10-20T17:41:59.991Z"
   },
   {
    "duration": 144,
    "start_time": "2023-10-20T17:42:00.052Z"
   },
   {
    "duration": 174,
    "start_time": "2023-10-20T17:42:00.201Z"
   },
   {
    "duration": 47,
    "start_time": "2023-10-20T17:42:00.377Z"
   },
   {
    "duration": 232,
    "start_time": "2023-10-20T17:42:00.426Z"
   },
   {
    "duration": 357,
    "start_time": "2023-10-20T17:42:00.660Z"
   },
   {
    "duration": 16,
    "start_time": "2023-10-20T17:42:01.019Z"
   },
   {
    "duration": 37,
    "start_time": "2023-10-20T17:42:01.037Z"
   },
   {
    "duration": 77,
    "start_time": "2023-10-20T17:42:01.076Z"
   },
   {
    "duration": 64,
    "start_time": "2023-10-20T17:42:01.155Z"
   },
   {
    "duration": 104,
    "start_time": "2023-10-20T17:42:01.221Z"
   },
   {
    "duration": 93,
    "start_time": "2023-10-20T17:42:01.327Z"
   },
   {
    "duration": 89,
    "start_time": "2023-10-20T17:42:01.422Z"
   },
   {
    "duration": 277,
    "start_time": "2023-10-20T17:42:01.513Z"
   },
   {
    "duration": 40,
    "start_time": "2023-10-20T17:42:01.792Z"
   },
   {
    "duration": 33,
    "start_time": "2023-10-20T17:42:01.833Z"
   },
   {
    "duration": 105,
    "start_time": "2023-10-20T17:42:01.868Z"
   },
   {
    "duration": 46,
    "start_time": "2023-10-20T17:42:01.975Z"
   },
   {
    "duration": 134,
    "start_time": "2023-10-20T17:42:02.023Z"
   },
   {
    "duration": 54,
    "start_time": "2023-10-20T17:42:02.159Z"
   },
   {
    "duration": 18,
    "start_time": "2023-10-20T17:42:02.215Z"
   },
   {
    "duration": 69,
    "start_time": "2023-10-20T17:42:02.235Z"
   },
   {
    "duration": 120,
    "start_time": "2023-10-20T17:42:02.306Z"
   },
   {
    "duration": 75,
    "start_time": "2023-10-20T17:42:02.429Z"
   },
   {
    "duration": 194,
    "start_time": "2023-10-20T17:42:02.506Z"
   },
   {
    "duration": 97,
    "start_time": "2023-10-20T17:42:02.703Z"
   },
   {
    "duration": 181,
    "start_time": "2023-10-20T17:42:02.802Z"
   },
   {
    "duration": 79,
    "start_time": "2023-10-20T17:42:02.986Z"
   },
   {
    "duration": 42,
    "start_time": "2023-10-20T17:42:03.068Z"
   },
   {
    "duration": 64,
    "start_time": "2023-10-20T17:42:03.112Z"
   },
   {
    "duration": 108,
    "start_time": "2023-10-20T17:42:03.177Z"
   },
   {
    "duration": 29,
    "start_time": "2023-10-20T17:42:03.287Z"
   },
   {
    "duration": 101,
    "start_time": "2023-10-20T17:42:03.318Z"
   },
   {
    "duration": 10,
    "start_time": "2023-10-20T17:42:36.774Z"
   },
   {
    "duration": 5,
    "start_time": "2023-10-20T17:42:42.210Z"
   },
   {
    "duration": 166,
    "start_time": "2023-10-20T17:42:45.360Z"
   },
   {
    "duration": 14,
    "start_time": "2023-10-20T17:42:50.595Z"
   },
   {
    "duration": 48,
    "start_time": "2023-10-22T11:57:57.452Z"
   },
   {
    "duration": 1621,
    "start_time": "2023-10-22T11:58:10.280Z"
   },
   {
    "duration": 99,
    "start_time": "2023-10-22T11:58:11.904Z"
   },
   {
    "duration": 225,
    "start_time": "2023-10-22T11:58:12.004Z"
   },
   {
    "duration": 809,
    "start_time": "2023-10-22T11:58:12.231Z"
   },
   {
    "duration": 85,
    "start_time": "2023-10-22T11:58:13.042Z"
   },
   {
    "duration": 9,
    "start_time": "2023-10-22T11:58:13.130Z"
   },
   {
    "duration": 56,
    "start_time": "2023-10-22T11:58:13.142Z"
   },
   {
    "duration": 52,
    "start_time": "2023-10-22T11:58:13.200Z"
   },
   {
    "duration": 124,
    "start_time": "2023-10-22T11:58:13.255Z"
   },
   {
    "duration": 64,
    "start_time": "2023-10-22T11:58:13.380Z"
   },
   {
    "duration": 10,
    "start_time": "2023-10-22T11:58:13.446Z"
   },
   {
    "duration": 12,
    "start_time": "2023-10-22T11:58:13.458Z"
   },
   {
    "duration": 18,
    "start_time": "2023-10-22T11:58:13.471Z"
   },
   {
    "duration": 51,
    "start_time": "2023-10-22T11:58:13.493Z"
   },
   {
    "duration": 5,
    "start_time": "2023-10-22T11:58:13.547Z"
   },
   {
    "duration": 531,
    "start_time": "2023-10-22T11:58:13.553Z"
   },
   {
    "duration": 3,
    "start_time": "2023-10-22T11:58:14.086Z"
   },
   {
    "duration": 218,
    "start_time": "2023-10-22T11:58:14.091Z"
   },
   {
    "duration": 103,
    "start_time": "2023-10-22T11:58:14.311Z"
   },
   {
    "duration": 32,
    "start_time": "2023-10-22T11:58:14.430Z"
   },
   {
    "duration": 4,
    "start_time": "2023-10-22T11:58:14.464Z"
   },
   {
    "duration": 23,
    "start_time": "2023-10-22T11:58:14.469Z"
   },
   {
    "duration": 8,
    "start_time": "2023-10-22T11:58:14.494Z"
   },
   {
    "duration": 44,
    "start_time": "2023-10-22T11:58:14.503Z"
   },
   {
    "duration": 8,
    "start_time": "2023-10-22T11:58:14.549Z"
   },
   {
    "duration": 13,
    "start_time": "2023-10-22T11:58:14.559Z"
   },
   {
    "duration": 5,
    "start_time": "2023-10-22T11:58:14.574Z"
   },
   {
    "duration": 77,
    "start_time": "2023-10-22T11:58:14.581Z"
   },
   {
    "duration": 4,
    "start_time": "2023-10-22T11:58:14.660Z"
   },
   {
    "duration": 23,
    "start_time": "2023-10-22T11:58:14.666Z"
   },
   {
    "duration": 4,
    "start_time": "2023-10-22T11:58:14.691Z"
   },
   {
    "duration": 7,
    "start_time": "2023-10-22T11:58:14.697Z"
   },
   {
    "duration": 26,
    "start_time": "2023-10-22T11:58:14.706Z"
   },
   {
    "duration": 31,
    "start_time": "2023-10-22T11:58:14.733Z"
   },
   {
    "duration": 439,
    "start_time": "2023-10-22T11:58:14.766Z"
   },
   {
    "duration": 37,
    "start_time": "2023-10-22T11:58:15.207Z"
   },
   {
    "duration": 22,
    "start_time": "2023-10-22T11:58:15.246Z"
   },
   {
    "duration": 96,
    "start_time": "2023-10-22T11:58:15.270Z"
   },
   {
    "duration": 14,
    "start_time": "2023-10-22T11:58:15.369Z"
   },
   {
    "duration": 6,
    "start_time": "2023-10-22T11:58:15.385Z"
   },
   {
    "duration": 12,
    "start_time": "2023-10-22T11:58:15.429Z"
   },
   {
    "duration": 13,
    "start_time": "2023-10-22T11:58:15.444Z"
   },
   {
    "duration": 150,
    "start_time": "2023-10-22T11:58:15.459Z"
   },
   {
    "duration": 336,
    "start_time": "2023-10-22T11:58:15.611Z"
   },
   {
    "duration": 21,
    "start_time": "2023-10-22T11:58:15.949Z"
   },
   {
    "duration": 7,
    "start_time": "2023-10-22T11:58:15.973Z"
   },
   {
    "duration": 55,
    "start_time": "2023-10-22T11:58:15.982Z"
   },
   {
    "duration": 13,
    "start_time": "2023-10-22T11:58:16.039Z"
   },
   {
    "duration": 22,
    "start_time": "2023-10-22T11:58:16.055Z"
   },
   {
    "duration": 12,
    "start_time": "2023-10-22T11:58:16.079Z"
   },
   {
    "duration": 7,
    "start_time": "2023-10-22T11:58:16.093Z"
   },
   {
    "duration": 21,
    "start_time": "2023-10-22T11:58:16.127Z"
   },
   {
    "duration": 12,
    "start_time": "2023-10-22T11:58:16.149Z"
   },
   {
    "duration": 12,
    "start_time": "2023-10-22T11:58:16.163Z"
   },
   {
    "duration": 7,
    "start_time": "2023-10-22T11:58:16.177Z"
   },
   {
    "duration": 50,
    "start_time": "2023-10-22T11:58:16.185Z"
   },
   {
    "duration": 15,
    "start_time": "2023-10-22T11:58:16.240Z"
   },
   {
    "duration": 20,
    "start_time": "2023-10-22T11:58:16.257Z"
   },
   {
    "duration": 3,
    "start_time": "2023-10-22T11:58:16.279Z"
   },
   {
    "duration": 56,
    "start_time": "2023-10-22T11:58:16.283Z"
   },
   {
    "duration": 16,
    "start_time": "2023-10-22T11:58:16.342Z"
   },
   {
    "duration": 29,
    "start_time": "2023-10-22T11:58:16.359Z"
   },
   {
    "duration": 64,
    "start_time": "2023-10-22T11:58:16.389Z"
   },
   {
    "duration": 165,
    "start_time": "2023-10-22T11:58:16.455Z"
   },
   {
    "duration": 247,
    "start_time": "2023-10-22T11:58:16.626Z"
   },
   {
    "duration": 124,
    "start_time": "2023-10-22T11:58:16.875Z"
   },
   {
    "duration": 42,
    "start_time": "2023-10-22T11:58:17.002Z"
   },
   {
    "duration": 34,
    "start_time": "2023-10-22T11:58:17.046Z"
   },
   {
    "duration": 76,
    "start_time": "2023-10-22T11:58:17.082Z"
   },
   {
    "duration": 11,
    "start_time": "2023-10-22T11:58:17.160Z"
   },
   {
    "duration": 38,
    "start_time": "2023-10-22T11:58:17.173Z"
   },
   {
    "duration": 337,
    "start_time": "2023-10-22T11:58:17.212Z"
   },
   {
    "duration": 24,
    "start_time": "2023-10-22T11:58:17.550Z"
   },
   {
    "duration": 73,
    "start_time": "2023-10-22T11:58:17.575Z"
   },
   {
    "duration": 5,
    "start_time": "2023-10-22T11:58:17.650Z"
   },
   {
    "duration": 85,
    "start_time": "2023-10-22T11:58:17.656Z"
   },
   {
    "duration": 17,
    "start_time": "2023-10-22T11:58:17.742Z"
   },
   {
    "duration": 26,
    "start_time": "2023-10-22T11:58:17.760Z"
   },
   {
    "duration": 54,
    "start_time": "2023-10-22T11:58:17.788Z"
   },
   {
    "duration": 17,
    "start_time": "2023-10-22T11:58:17.844Z"
   },
   {
    "duration": 8,
    "start_time": "2023-10-22T11:58:17.863Z"
   },
   {
    "duration": 48,
    "start_time": "2023-10-22T12:01:08.768Z"
   },
   {
    "duration": 62,
    "start_time": "2023-10-22T12:01:16.619Z"
   },
   {
    "duration": 169,
    "start_time": "2023-10-22T12:10:07.443Z"
   },
   {
    "duration": 188,
    "start_time": "2023-10-22T12:10:14.052Z"
   },
   {
    "duration": 27,
    "start_time": "2023-10-22T12:10:23.179Z"
   },
   {
    "duration": 126,
    "start_time": "2023-10-22T12:13:31.336Z"
   },
   {
    "duration": 28,
    "start_time": "2023-10-22T12:14:48.259Z"
   },
   {
    "duration": 27,
    "start_time": "2023-10-22T12:15:24.447Z"
   },
   {
    "duration": 30,
    "start_time": "2023-10-22T12:15:42.599Z"
   },
   {
    "duration": 47,
    "start_time": "2023-10-22T12:18:34.537Z"
   },
   {
    "duration": 53,
    "start_time": "2023-10-22T12:19:12.365Z"
   },
   {
    "duration": 48,
    "start_time": "2023-10-22T12:19:39.150Z"
   },
   {
    "duration": 36,
    "start_time": "2023-10-22T12:20:19.779Z"
   },
   {
    "duration": 56,
    "start_time": "2023-10-22T12:20:30.020Z"
   },
   {
    "duration": 40,
    "start_time": "2023-10-22T12:20:37.118Z"
   },
   {
    "duration": 48,
    "start_time": "2023-10-22T12:21:01.795Z"
   },
   {
    "duration": 44,
    "start_time": "2023-10-22T12:21:18.699Z"
   },
   {
    "duration": 1407,
    "start_time": "2023-10-22T12:21:32.546Z"
   },
   {
    "duration": 37,
    "start_time": "2023-10-22T12:21:33.955Z"
   },
   {
    "duration": 77,
    "start_time": "2023-10-22T12:21:33.994Z"
   },
   {
    "duration": 513,
    "start_time": "2023-10-22T12:21:34.073Z"
   },
   {
    "duration": 31,
    "start_time": "2023-10-22T12:21:34.588Z"
   },
   {
    "duration": 11,
    "start_time": "2023-10-22T12:21:34.620Z"
   },
   {
    "duration": 28,
    "start_time": "2023-10-22T12:21:34.633Z"
   },
   {
    "duration": 12,
    "start_time": "2023-10-22T12:21:34.663Z"
   },
   {
    "duration": 101,
    "start_time": "2023-10-22T12:21:34.677Z"
   },
   {
    "duration": 27,
    "start_time": "2023-10-22T12:21:34.779Z"
   },
   {
    "duration": 20,
    "start_time": "2023-10-22T12:21:34.808Z"
   },
   {
    "duration": 16,
    "start_time": "2023-10-22T12:21:34.830Z"
   },
   {
    "duration": 21,
    "start_time": "2023-10-22T12:21:34.848Z"
   },
   {
    "duration": 65,
    "start_time": "2023-10-22T12:21:34.873Z"
   },
   {
    "duration": 6,
    "start_time": "2023-10-22T12:21:34.941Z"
   },
   {
    "duration": 432,
    "start_time": "2023-10-22T12:21:34.949Z"
   },
   {
    "duration": 3,
    "start_time": "2023-10-22T12:21:35.383Z"
   },
   {
    "duration": 136,
    "start_time": "2023-10-22T12:21:35.387Z"
   },
   {
    "duration": 126,
    "start_time": "2023-10-22T12:21:35.525Z"
   },
   {
    "duration": 37,
    "start_time": "2023-10-22T12:21:35.652Z"
   },
   {
    "duration": 6,
    "start_time": "2023-10-22T12:21:35.691Z"
   },
   {
    "duration": 18,
    "start_time": "2023-10-22T12:21:35.723Z"
   },
   {
    "duration": 34,
    "start_time": "2023-10-22T12:21:35.743Z"
   },
   {
    "duration": 15,
    "start_time": "2023-10-22T12:21:35.780Z"
   },
   {
    "duration": 9,
    "start_time": "2023-10-22T12:21:35.797Z"
   },
   {
    "duration": 30,
    "start_time": "2023-10-22T12:21:35.808Z"
   },
   {
    "duration": 7,
    "start_time": "2023-10-22T12:21:35.840Z"
   },
   {
    "duration": 57,
    "start_time": "2023-10-22T12:21:35.849Z"
   },
   {
    "duration": 7,
    "start_time": "2023-10-22T12:21:35.908Z"
   },
   {
    "duration": 12,
    "start_time": "2023-10-22T12:21:35.927Z"
   },
   {
    "duration": 9,
    "start_time": "2023-10-22T12:21:35.944Z"
   },
   {
    "duration": 39,
    "start_time": "2023-10-22T12:21:35.955Z"
   },
   {
    "duration": 19,
    "start_time": "2023-10-22T12:21:35.996Z"
   },
   {
    "duration": 24,
    "start_time": "2023-10-22T12:21:36.017Z"
   },
   {
    "duration": 436,
    "start_time": "2023-10-22T12:21:36.046Z"
   },
   {
    "duration": 55,
    "start_time": "2023-10-22T12:21:36.484Z"
   },
   {
    "duration": 21,
    "start_time": "2023-10-22T12:21:36.542Z"
   },
   {
    "duration": 84,
    "start_time": "2023-10-22T12:21:36.565Z"
   },
   {
    "duration": 13,
    "start_time": "2023-10-22T12:21:36.651Z"
   },
   {
    "duration": 14,
    "start_time": "2023-10-22T12:21:36.666Z"
   },
   {
    "duration": 6,
    "start_time": "2023-10-22T12:21:36.686Z"
   },
   {
    "duration": 48,
    "start_time": "2023-10-22T12:21:36.694Z"
   },
   {
    "duration": 153,
    "start_time": "2023-10-22T12:21:36.744Z"
   },
   {
    "duration": 348,
    "start_time": "2023-10-22T12:21:36.898Z"
   },
   {
    "duration": 19,
    "start_time": "2023-10-22T12:21:37.247Z"
   },
   {
    "duration": 6,
    "start_time": "2023-10-22T12:21:37.268Z"
   },
   {
    "duration": 23,
    "start_time": "2023-10-22T12:21:37.276Z"
   },
   {
    "duration": 18,
    "start_time": "2023-10-22T12:21:37.324Z"
   },
   {
    "duration": 10,
    "start_time": "2023-10-22T12:21:37.344Z"
   },
   {
    "duration": 9,
    "start_time": "2023-10-22T12:21:37.356Z"
   },
   {
    "duration": 6,
    "start_time": "2023-10-22T12:21:37.367Z"
   },
   {
    "duration": 12,
    "start_time": "2023-10-22T12:21:37.375Z"
   },
   {
    "duration": 51,
    "start_time": "2023-10-22T12:21:37.389Z"
   },
   {
    "duration": 17,
    "start_time": "2023-10-22T12:21:37.443Z"
   },
   {
    "duration": 8,
    "start_time": "2023-10-22T12:21:37.462Z"
   },
   {
    "duration": 16,
    "start_time": "2023-10-22T12:21:37.471Z"
   },
   {
    "duration": 44,
    "start_time": "2023-10-22T12:21:37.489Z"
   },
   {
    "duration": 20,
    "start_time": "2023-10-22T12:21:37.541Z"
   },
   {
    "duration": 4,
    "start_time": "2023-10-22T12:21:37.562Z"
   },
   {
    "duration": 28,
    "start_time": "2023-10-22T12:21:37.568Z"
   },
   {
    "duration": 30,
    "start_time": "2023-10-22T12:21:37.598Z"
   },
   {
    "duration": 43,
    "start_time": "2023-10-22T12:21:37.630Z"
   },
   {
    "duration": 35,
    "start_time": "2023-10-22T12:21:37.674Z"
   },
   {
    "duration": 213,
    "start_time": "2023-10-22T12:21:37.711Z"
   },
   {
    "duration": 235,
    "start_time": "2023-10-22T12:21:37.929Z"
   },
   {
    "duration": 80,
    "start_time": "2023-10-22T12:21:38.166Z"
   },
   {
    "duration": 17,
    "start_time": "2023-10-22T12:21:38.248Z"
   },
   {
    "duration": 33,
    "start_time": "2023-10-22T12:21:38.267Z"
   },
   {
    "duration": 78,
    "start_time": "2023-10-22T12:21:38.302Z"
   },
   {
    "duration": 9,
    "start_time": "2023-10-22T12:21:38.382Z"
   },
   {
    "duration": 52,
    "start_time": "2023-10-22T12:21:38.393Z"
   },
   {
    "duration": 60,
    "start_time": "2023-10-22T12:21:38.447Z"
   },
   {
    "duration": 44,
    "start_time": "2023-10-22T12:21:38.509Z"
   },
   {
    "duration": 47,
    "start_time": "2023-10-22T12:21:38.555Z"
   },
   {
    "duration": 23,
    "start_time": "2023-10-22T12:21:38.604Z"
   },
   {
    "duration": 13,
    "start_time": "2023-10-22T12:21:38.629Z"
   },
   {
    "duration": 11,
    "start_time": "2023-10-22T12:21:38.644Z"
   },
   {
    "duration": 12,
    "start_time": "2023-10-22T12:21:38.657Z"
   },
   {
    "duration": 24,
    "start_time": "2023-10-22T12:21:38.671Z"
   },
   {
    "duration": 16,
    "start_time": "2023-10-22T12:21:38.696Z"
   },
   {
    "duration": 21,
    "start_time": "2023-10-22T12:21:38.714Z"
   },
   {
    "duration": 46,
    "start_time": "2023-10-22T12:34:09.702Z"
   },
   {
    "duration": 39,
    "start_time": "2023-10-22T12:34:38.669Z"
   },
   {
    "duration": 38,
    "start_time": "2023-10-22T12:35:47.469Z"
   },
   {
    "duration": 64,
    "start_time": "2023-10-22T12:36:30.730Z"
   },
   {
    "duration": 42,
    "start_time": "2023-10-22T12:37:10.444Z"
   },
   {
    "duration": 36,
    "start_time": "2023-10-22T12:37:51.880Z"
   },
   {
    "duration": 33,
    "start_time": "2023-10-22T12:38:14.461Z"
   },
   {
    "duration": 35,
    "start_time": "2023-10-22T12:38:27.586Z"
   },
   {
    "duration": 37,
    "start_time": "2023-10-22T12:38:33.381Z"
   },
   {
    "duration": 95,
    "start_time": "2023-10-22T12:39:28.341Z"
   },
   {
    "duration": 34,
    "start_time": "2023-10-22T12:39:34.243Z"
   },
   {
    "duration": 89,
    "start_time": "2023-10-22T12:40:11.039Z"
   },
   {
    "duration": 16,
    "start_time": "2023-10-22T12:46:40.825Z"
   },
   {
    "duration": 15,
    "start_time": "2023-10-22T12:50:59.286Z"
   },
   {
    "duration": 3,
    "start_time": "2023-10-22T12:51:06.895Z"
   },
   {
    "duration": 12,
    "start_time": "2023-10-22T12:51:15.883Z"
   },
   {
    "duration": 2395,
    "start_time": "2023-10-22T12:51:23.962Z"
   },
   {
    "duration": 38,
    "start_time": "2023-10-22T12:51:26.360Z"
   },
   {
    "duration": 99,
    "start_time": "2023-10-22T12:51:26.401Z"
   },
   {
    "duration": 639,
    "start_time": "2023-10-22T12:51:26.502Z"
   },
   {
    "duration": 35,
    "start_time": "2023-10-22T12:51:27.144Z"
   },
   {
    "duration": 5,
    "start_time": "2023-10-22T12:51:27.181Z"
   },
   {
    "duration": 39,
    "start_time": "2023-10-22T12:51:27.188Z"
   },
   {
    "duration": 16,
    "start_time": "2023-10-22T12:51:27.231Z"
   },
   {
    "duration": 105,
    "start_time": "2023-10-22T12:51:27.250Z"
   },
   {
    "duration": 27,
    "start_time": "2023-10-22T12:51:27.357Z"
   },
   {
    "duration": 7,
    "start_time": "2023-10-22T12:51:27.386Z"
   },
   {
    "duration": 8,
    "start_time": "2023-10-22T12:51:27.395Z"
   },
   {
    "duration": 23,
    "start_time": "2023-10-22T12:51:27.404Z"
   },
   {
    "duration": 69,
    "start_time": "2023-10-22T12:51:27.438Z"
   },
   {
    "duration": 4,
    "start_time": "2023-10-22T12:51:27.509Z"
   },
   {
    "duration": 508,
    "start_time": "2023-10-22T12:51:27.514Z"
   },
   {
    "duration": 6,
    "start_time": "2023-10-22T12:51:28.024Z"
   },
   {
    "duration": 175,
    "start_time": "2023-10-22T12:51:28.037Z"
   },
   {
    "duration": 138,
    "start_time": "2023-10-22T12:51:28.214Z"
   },
   {
    "duration": 37,
    "start_time": "2023-10-22T12:51:28.354Z"
   },
   {
    "duration": 5,
    "start_time": "2023-10-22T12:51:28.393Z"
   },
   {
    "duration": 42,
    "start_time": "2023-10-22T12:51:28.423Z"
   },
   {
    "duration": 48,
    "start_time": "2023-10-22T12:51:28.466Z"
   },
   {
    "duration": 116,
    "start_time": "2023-10-22T12:51:28.516Z"
   },
   {
    "duration": 21,
    "start_time": "2023-10-22T12:51:28.639Z"
   },
   {
    "duration": 46,
    "start_time": "2023-10-22T12:51:28.662Z"
   },
   {
    "duration": 43,
    "start_time": "2023-10-22T12:51:28.710Z"
   },
   {
    "duration": 54,
    "start_time": "2023-10-22T12:51:28.755Z"
   },
   {
    "duration": 6,
    "start_time": "2023-10-22T12:51:28.811Z"
   },
   {
    "duration": 26,
    "start_time": "2023-10-22T12:51:28.819Z"
   },
   {
    "duration": 91,
    "start_time": "2023-10-22T12:51:28.847Z"
   },
   {
    "duration": 36,
    "start_time": "2023-10-22T12:51:28.940Z"
   },
   {
    "duration": 66,
    "start_time": "2023-10-22T12:51:28.978Z"
   },
   {
    "duration": 59,
    "start_time": "2023-10-22T12:51:29.046Z"
   },
   {
    "duration": 478,
    "start_time": "2023-10-22T12:51:29.107Z"
   },
   {
    "duration": 43,
    "start_time": "2023-10-22T12:51:29.587Z"
   },
   {
    "duration": 19,
    "start_time": "2023-10-22T12:51:29.634Z"
   },
   {
    "duration": 130,
    "start_time": "2023-10-22T12:51:29.655Z"
   },
   {
    "duration": 17,
    "start_time": "2023-10-22T12:51:29.786Z"
   },
   {
    "duration": 24,
    "start_time": "2023-10-22T12:51:29.805Z"
   },
   {
    "duration": 47,
    "start_time": "2023-10-22T12:51:29.836Z"
   },
   {
    "duration": 89,
    "start_time": "2023-10-22T12:51:29.885Z"
   },
   {
    "duration": 267,
    "start_time": "2023-10-22T12:51:29.976Z"
   },
   {
    "duration": 363,
    "start_time": "2023-10-22T12:51:30.245Z"
   },
   {
    "duration": 29,
    "start_time": "2023-10-22T12:51:30.610Z"
   },
   {
    "duration": 32,
    "start_time": "2023-10-22T12:51:30.641Z"
   },
   {
    "duration": 69,
    "start_time": "2023-10-22T12:51:30.675Z"
   },
   {
    "duration": 65,
    "start_time": "2023-10-22T12:51:30.747Z"
   },
   {
    "duration": 54,
    "start_time": "2023-10-22T12:51:30.814Z"
   },
   {
    "duration": 76,
    "start_time": "2023-10-22T12:51:30.871Z"
   },
   {
    "duration": 53,
    "start_time": "2023-10-22T12:51:30.949Z"
   },
   {
    "duration": 101,
    "start_time": "2023-10-22T12:51:31.003Z"
   },
   {
    "duration": 41,
    "start_time": "2023-10-22T12:51:31.106Z"
   },
   {
    "duration": 26,
    "start_time": "2023-10-22T12:51:31.149Z"
   },
   {
    "duration": 78,
    "start_time": "2023-10-22T12:51:31.177Z"
   },
   {
    "duration": 26,
    "start_time": "2023-10-22T12:51:31.257Z"
   },
   {
    "duration": 56,
    "start_time": "2023-10-22T12:51:31.286Z"
   },
   {
    "duration": 38,
    "start_time": "2023-10-22T12:51:31.344Z"
   },
   {
    "duration": 51,
    "start_time": "2023-10-22T12:51:31.384Z"
   },
   {
    "duration": 36,
    "start_time": "2023-10-22T12:51:31.440Z"
   },
   {
    "duration": 77,
    "start_time": "2023-10-22T12:51:31.478Z"
   },
   {
    "duration": 18,
    "start_time": "2023-10-22T12:51:31.557Z"
   },
   {
    "duration": 61,
    "start_time": "2023-10-22T12:51:31.577Z"
   },
   {
    "duration": 40,
    "start_time": "2023-10-22T12:51:31.642Z"
   },
   {
    "duration": 208,
    "start_time": "2023-10-22T12:51:31.684Z"
   },
   {
    "duration": 236,
    "start_time": "2023-10-22T12:51:31.894Z"
   },
   {
    "duration": 60,
    "start_time": "2023-10-22T12:51:32.134Z"
   },
   {
    "duration": 45,
    "start_time": "2023-10-22T12:51:32.196Z"
   },
   {
    "duration": 38,
    "start_time": "2023-10-22T12:51:32.243Z"
   },
   {
    "duration": 84,
    "start_time": "2023-10-22T12:51:32.283Z"
   },
   {
    "duration": 11,
    "start_time": "2023-10-22T12:51:32.369Z"
   },
   {
    "duration": 77,
    "start_time": "2023-10-22T12:51:32.381Z"
   },
   {
    "duration": 184,
    "start_time": "2023-10-22T12:51:32.460Z"
   },
   {
    "duration": 93,
    "start_time": "2023-10-22T12:51:32.647Z"
   },
   {
    "duration": 125,
    "start_time": "2023-10-22T12:51:32.742Z"
   },
   {
    "duration": 64,
    "start_time": "2023-10-22T12:51:32.870Z"
   },
   {
    "duration": 25,
    "start_time": "2023-10-22T12:51:32.944Z"
   },
   {
    "duration": 55,
    "start_time": "2023-10-22T12:51:32.972Z"
   },
   {
    "duration": 51,
    "start_time": "2023-10-22T12:51:33.034Z"
   },
   {
    "duration": 40,
    "start_time": "2023-10-22T12:51:33.088Z"
   },
   {
    "duration": 15,
    "start_time": "2023-10-22T12:51:33.130Z"
   },
   {
    "duration": 33,
    "start_time": "2023-10-22T12:51:33.146Z"
   },
   {
    "duration": 9,
    "start_time": "2023-10-22T12:52:23.815Z"
   }
  ],
  "kernelspec": {
   "display_name": "Python 3 (ipykernel)",
   "language": "python",
   "name": "python3"
  },
  "language_info": {
   "codemirror_mode": {
    "name": "ipython",
    "version": 3
   },
   "file_extension": ".py",
   "mimetype": "text/x-python",
   "name": "python",
   "nbconvert_exporter": "python",
   "pygments_lexer": "ipython3",
   "version": "3.11.5"
  },
  "toc": {
   "base_numbering": 1,
   "nav_menu": {},
   "number_sections": true,
   "sideBar": true,
   "skip_h1_title": true,
   "title_cell": "Table of Contents",
   "title_sidebar": "Contents",
   "toc_cell": false,
   "toc_position": {
    "height": "calc(100% - 180px)",
    "left": "10px",
    "top": "150px",
    "width": "165px"
   },
   "toc_section_display": true,
   "toc_window_display": true
  }
 },
 "nbformat": 4,
 "nbformat_minor": 2
}

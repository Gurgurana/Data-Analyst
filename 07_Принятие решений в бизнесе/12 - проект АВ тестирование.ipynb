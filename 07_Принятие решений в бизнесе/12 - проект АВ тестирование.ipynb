{
 "cells": [
  {
   "cell_type": "markdown",
   "metadata": {},
   "source": [
    "# Проект: Принятие решений в бизнесе"
   ]
  },
  {
   "cell_type": "markdown",
   "metadata": {},
   "source": [
    "# Цель исследования:\n",
    "Аналитик крупного интернет-магазина вместе с отделом маркетинга подготовили список гипотез для увеличения выручки.\\\n",
    "Необходимо приоритизировать гипотезы, запустить A/B-тест и проанализировать результаты работы. "
   ]
  },
  {
   "cell_type": "markdown",
   "metadata": {},
   "source": [
    "# Описание данных:"
   ]
  },
  {
   "cell_type": "markdown",
   "metadata": {},
   "source": [
    "**Данные для первой части:**\n",
    "Файл /datasets/hypothesis.csv содержит 9 гипотез по увеличению выручки интернет-магазина с указанными параметрами Reach, Impact, Confidence, Effort.\\\n",
    "-Hypothesis — краткое описание гипотезы;\\\n",
    "-Reach — охват пользователей по 10-балльной шкале;\\\n",
    "-Impact — влияние на пользователей по 10-балльной шкале;\\\n",
    "-Confidence — уверенность в гипотезе по 10-балльной шкале;\\\n",
    "-Efforts — затраты ресурсов на проверку гипотезы по 10-балльной шкале. Чем больше значение Efforts, тем дороже проверка гипотезы.\\\n",
    "\n",
    "**Данные для второй части:**\n",
    "Вы провели A/B-тест и получили результаты, которые описаны в файлах /datasets/orders.csv и /datasets/visitors.csv.\n",
    "Файл /datasets/orders.csv и файл /datasets/visitors.csv содержат описание результатов А/В-теста.\\\n",
    "\n",
    "    *Файл /datasets/orders.csv\n",
    "-transactionId — идентификатор заказа;\\\n",
    "-visitorId — идентификатор пользователя, совершившего заказ;\\\n",
    "-date — дата, когда был совершён заказ;\\\n",
    "-revenue — выручка заказа;\\\n",
    "-group — группа A/B-теста, в которую попал заказ.\\\n",
    "\n",
    "    *Файл /datasets/visitors.csv\n",
    "-date — дата;\\\n",
    "-group — группа A/B-теста;\\\n",
    "-visitors — количество пользователей в указанную дату в указанной группе A/B-теста"
   ]
  },
  {
   "cell_type": "markdown",
   "metadata": {},
   "source": [
    "# План работы:"
   ]
  },
  {
   "cell_type": "markdown",
   "metadata": {},
   "source": [
    "## Загрузка данных:"
   ]
  },
  {
   "cell_type": "code",
   "execution_count": 1,
   "metadata": {},
   "outputs": [],
   "source": [
    "## Загрузим все необходимые библиотеки:\n",
    "import pandas as pd\n",
    "import scipy.stats as stats\n",
    "import numpy as np\n",
    "import seaborn as sns\n",
    "from matplotlib import pyplot as plt\n",
    "from IPython.display import display\n",
    "import datetime as dt\n",
    "import math as mth\n"
   ]
  },
  {
   "cell_type": "code",
   "execution_count": 2,
   "metadata": {},
   "outputs": [],
   "source": [
    "hypothesis = pd.read_csv('https://code.s3.yandex.net/datasets/hypothesis.csv')\n",
    "orders = pd.read_csv('https://code.s3.yandex.net/datasets/orders.csv')\n",
    "visitors = pd.read_csv('https://code.s3.yandex.net/datasets/visitors.csv')"
   ]
  },
  {
   "cell_type": "code",
   "execution_count": 3,
   "metadata": {},
   "outputs": [],
   "source": [
    "# Чтобы увидеть полное название гипотез:\n",
    "pd.set_option('max_colwidth', 800)"
   ]
  },
  {
   "cell_type": "code",
   "execution_count": 4,
   "metadata": {
    "scrolled": true
   },
   "outputs": [
    {
     "data": {
      "text/html": [
       "<div>\n",
       "<style scoped>\n",
       "    .dataframe tbody tr th:only-of-type {\n",
       "        vertical-align: middle;\n",
       "    }\n",
       "\n",
       "    .dataframe tbody tr th {\n",
       "        vertical-align: top;\n",
       "    }\n",
       "\n",
       "    .dataframe thead th {\n",
       "        text-align: right;\n",
       "    }\n",
       "</style>\n",
       "<table border=\"1\" class=\"dataframe\">\n",
       "  <thead>\n",
       "    <tr style=\"text-align: right;\">\n",
       "      <th></th>\n",
       "      <th>Hypothesis</th>\n",
       "      <th>Reach</th>\n",
       "      <th>Impact</th>\n",
       "      <th>Confidence</th>\n",
       "      <th>Efforts</th>\n",
       "    </tr>\n",
       "  </thead>\n",
       "  <tbody>\n",
       "    <tr>\n",
       "      <th>0</th>\n",
       "      <td>Добавить два новых канала привлечения трафика, что позволит привлекать на 30% больше пользователей</td>\n",
       "      <td>3</td>\n",
       "      <td>10</td>\n",
       "      <td>8</td>\n",
       "      <td>6</td>\n",
       "    </tr>\n",
       "    <tr>\n",
       "      <th>1</th>\n",
       "      <td>Запустить собственную службу доставки, что сократит срок доставки заказов</td>\n",
       "      <td>2</td>\n",
       "      <td>5</td>\n",
       "      <td>4</td>\n",
       "      <td>10</td>\n",
       "    </tr>\n",
       "    <tr>\n",
       "      <th>2</th>\n",
       "      <td>Добавить блоки рекомендаций товаров на сайт интернет магазина, чтобы повысить конверсию и средний чек заказа</td>\n",
       "      <td>8</td>\n",
       "      <td>3</td>\n",
       "      <td>7</td>\n",
       "      <td>3</td>\n",
       "    </tr>\n",
       "    <tr>\n",
       "      <th>3</th>\n",
       "      <td>Изменить структура категорий, что увеличит конверсию, т.к. пользователи быстрее найдут нужный товар</td>\n",
       "      <td>8</td>\n",
       "      <td>3</td>\n",
       "      <td>3</td>\n",
       "      <td>8</td>\n",
       "    </tr>\n",
       "    <tr>\n",
       "      <th>4</th>\n",
       "      <td>Изменить цвет фона главной страницы, чтобы увеличить вовлеченность пользователей</td>\n",
       "      <td>3</td>\n",
       "      <td>1</td>\n",
       "      <td>1</td>\n",
       "      <td>1</td>\n",
       "    </tr>\n",
       "  </tbody>\n",
       "</table>\n",
       "</div>"
      ],
      "text/plain": [
       "                                                                                                     Hypothesis  \\\n",
       "0            Добавить два новых канала привлечения трафика, что позволит привлекать на 30% больше пользователей   \n",
       "1                                     Запустить собственную службу доставки, что сократит срок доставки заказов   \n",
       "2  Добавить блоки рекомендаций товаров на сайт интернет магазина, чтобы повысить конверсию и средний чек заказа   \n",
       "3           Изменить структура категорий, что увеличит конверсию, т.к. пользователи быстрее найдут нужный товар   \n",
       "4                              Изменить цвет фона главной страницы, чтобы увеличить вовлеченность пользователей   \n",
       "\n",
       "   Reach  Impact  Confidence  Efforts  \n",
       "0      3      10           8        6  \n",
       "1      2       5           4       10  \n",
       "2      8       3           7        3  \n",
       "3      8       3           3        8  \n",
       "4      3       1           1        1  "
      ]
     },
     "execution_count": 4,
     "metadata": {},
     "output_type": "execute_result"
    }
   ],
   "source": [
    "hypothesis.head(5)"
   ]
  },
  {
   "cell_type": "code",
   "execution_count": 5,
   "metadata": {},
   "outputs": [
    {
     "name": "stdout",
     "output_type": "stream",
     "text": [
      "<class 'pandas.core.frame.DataFrame'>\n",
      "RangeIndex: 9 entries, 0 to 8\n",
      "Data columns (total 5 columns):\n",
      " #   Column      Non-Null Count  Dtype \n",
      "---  ------      --------------  ----- \n",
      " 0   Hypothesis  9 non-null      object\n",
      " 1   Reach       9 non-null      int64 \n",
      " 2   Impact      9 non-null      int64 \n",
      " 3   Confidence  9 non-null      int64 \n",
      " 4   Efforts     9 non-null      int64 \n",
      "dtypes: int64(4), object(1)\n",
      "memory usage: 488.0+ bytes\n"
     ]
    }
   ],
   "source": [
    "hypothesis.info()"
   ]
  },
  {
   "cell_type": "code",
   "execution_count": 6,
   "metadata": {},
   "outputs": [
    {
     "data": {
      "text/plain": [
       "0"
      ]
     },
     "execution_count": 6,
     "metadata": {},
     "output_type": "execute_result"
    }
   ],
   "source": [
    "hypothesis.duplicated().sum()"
   ]
  },
  {
   "cell_type": "markdown",
   "metadata": {},
   "source": [
    "В таблице hypothesis типы данных соответствуют содержимому столбцов. Пропуски и дубликаты отсутствуют."
   ]
  },
  {
   "cell_type": "code",
   "execution_count": 7,
   "metadata": {},
   "outputs": [
    {
     "data": {
      "text/html": [
       "<div>\n",
       "<style scoped>\n",
       "    .dataframe tbody tr th:only-of-type {\n",
       "        vertical-align: middle;\n",
       "    }\n",
       "\n",
       "    .dataframe tbody tr th {\n",
       "        vertical-align: top;\n",
       "    }\n",
       "\n",
       "    .dataframe thead th {\n",
       "        text-align: right;\n",
       "    }\n",
       "</style>\n",
       "<table border=\"1\" class=\"dataframe\">\n",
       "  <thead>\n",
       "    <tr style=\"text-align: right;\">\n",
       "      <th></th>\n",
       "      <th>transactionId</th>\n",
       "      <th>visitorId</th>\n",
       "      <th>date</th>\n",
       "      <th>revenue</th>\n",
       "      <th>group</th>\n",
       "    </tr>\n",
       "  </thead>\n",
       "  <tbody>\n",
       "    <tr>\n",
       "      <th>0</th>\n",
       "      <td>3667963787</td>\n",
       "      <td>3312258926</td>\n",
       "      <td>2019-08-15</td>\n",
       "      <td>1650</td>\n",
       "      <td>B</td>\n",
       "    </tr>\n",
       "    <tr>\n",
       "      <th>1</th>\n",
       "      <td>2804400009</td>\n",
       "      <td>3642806036</td>\n",
       "      <td>2019-08-15</td>\n",
       "      <td>730</td>\n",
       "      <td>B</td>\n",
       "    </tr>\n",
       "    <tr>\n",
       "      <th>2</th>\n",
       "      <td>2961555356</td>\n",
       "      <td>4069496402</td>\n",
       "      <td>2019-08-15</td>\n",
       "      <td>400</td>\n",
       "      <td>A</td>\n",
       "    </tr>\n",
       "    <tr>\n",
       "      <th>3</th>\n",
       "      <td>3797467345</td>\n",
       "      <td>1196621759</td>\n",
       "      <td>2019-08-15</td>\n",
       "      <td>9759</td>\n",
       "      <td>B</td>\n",
       "    </tr>\n",
       "    <tr>\n",
       "      <th>4</th>\n",
       "      <td>2282983706</td>\n",
       "      <td>2322279887</td>\n",
       "      <td>2019-08-15</td>\n",
       "      <td>2308</td>\n",
       "      <td>B</td>\n",
       "    </tr>\n",
       "  </tbody>\n",
       "</table>\n",
       "</div>"
      ],
      "text/plain": [
       "   transactionId   visitorId        date  revenue group\n",
       "0     3667963787  3312258926  2019-08-15     1650     B\n",
       "1     2804400009  3642806036  2019-08-15      730     B\n",
       "2     2961555356  4069496402  2019-08-15      400     A\n",
       "3     3797467345  1196621759  2019-08-15     9759     B\n",
       "4     2282983706  2322279887  2019-08-15     2308     B"
      ]
     },
     "execution_count": 7,
     "metadata": {},
     "output_type": "execute_result"
    }
   ],
   "source": [
    "orders.head(5)"
   ]
  },
  {
   "cell_type": "code",
   "execution_count": 8,
   "metadata": {},
   "outputs": [
    {
     "name": "stdout",
     "output_type": "stream",
     "text": [
      "<class 'pandas.core.frame.DataFrame'>\n",
      "RangeIndex: 1197 entries, 0 to 1196\n",
      "Data columns (total 5 columns):\n",
      " #   Column         Non-Null Count  Dtype \n",
      "---  ------         --------------  ----- \n",
      " 0   transactionId  1197 non-null   int64 \n",
      " 1   visitorId      1197 non-null   int64 \n",
      " 2   date           1197 non-null   object\n",
      " 3   revenue        1197 non-null   int64 \n",
      " 4   group          1197 non-null   object\n",
      "dtypes: int64(3), object(2)\n",
      "memory usage: 46.9+ KB\n"
     ]
    }
   ],
   "source": [
    "orders.info()"
   ]
  },
  {
   "cell_type": "code",
   "execution_count": 9,
   "metadata": {},
   "outputs": [
    {
     "data": {
      "text/plain": [
       "0"
      ]
     },
     "execution_count": 9,
     "metadata": {},
     "output_type": "execute_result"
    }
   ],
   "source": [
    "orders.duplicated().sum()"
   ]
  },
  {
   "cell_type": "code",
   "execution_count": 10,
   "metadata": {},
   "outputs": [],
   "source": [
    "orders[\"date\"] = orders[\"date\"].map(lambda x: dt.datetime.strptime(x, '%Y-%m-%d'))"
   ]
  },
  {
   "cell_type": "markdown",
   "metadata": {},
   "source": [
    "В таблице orders не все типы данных соответствуют содержимому. Заменили тип данных в столбце ['date'] object  на datetime. Пропуски и дубликаты отсутствуют."
   ]
  },
  {
   "cell_type": "code",
   "execution_count": 11,
   "metadata": {},
   "outputs": [
    {
     "data": {
      "text/plain": [
       "58"
      ]
     },
     "execution_count": 11,
     "metadata": {},
     "output_type": "execute_result"
    }
   ],
   "source": [
    "group_a=orders.query('group == \"A\"') \n",
    "group_b=orders.query('group == \"B\"') \n",
    "  \n",
    "# получаем id пользователей, попавших в обе группы \n",
    "ab_group=list(np.intersect1d(group_a['visitorId'], group_b['visitorId']))\n",
    "len(ab_group)"
   ]
  },
  {
   "cell_type": "code",
   "execution_count": 12,
   "metadata": {},
   "outputs": [
    {
     "name": "stdout",
     "output_type": "stream",
     "text": [
      "<class 'pandas.core.frame.DataFrame'>\n",
      "RangeIndex: 1197 entries, 0 to 1196\n",
      "Data columns (total 5 columns):\n",
      " #   Column         Non-Null Count  Dtype         \n",
      "---  ------         --------------  -----         \n",
      " 0   transactionId  1197 non-null   int64         \n",
      " 1   visitorId      1197 non-null   int64         \n",
      " 2   date           1197 non-null   datetime64[ns]\n",
      " 3   revenue        1197 non-null   int64         \n",
      " 4   group          1197 non-null   object        \n",
      "dtypes: datetime64[ns](1), int64(3), object(1)\n",
      "memory usage: 46.9+ KB\n"
     ]
    }
   ],
   "source": [
    "orders.info()"
   ]
  },
  {
   "cell_type": "markdown",
   "metadata": {},
   "source": [
    "В таблице оказалось 58 пользователей, которые попали в группы А и В одновременно. Это 4.8% от общих данных - это достаточно много. Мы не имеем возможности уточнить, к какой конкретно группе относятся пользователи, которые попали в обе группы. Скорее всего, та же ситуация произошла с таблицей visitors, но данные в ней агрегированные и мы не можем это проверить. Такие данные можно удалить только из таблицы orders, из таблицы visitors удалить не можем. Поэтому оставляем всё так, как есть."
   ]
  },
  {
   "cell_type": "code",
   "execution_count": 13,
   "metadata": {},
   "outputs": [
    {
     "data": {
      "text/plain": [
       "58"
      ]
     },
     "execution_count": 13,
     "metadata": {},
     "output_type": "execute_result"
    }
   ],
   "source": [
    "group_a=orders.query('group == \"A\"') \n",
    "group_b=orders.query('group == \"B\"') \n",
    "  \n",
    "# получаем id пользователей, попавших в обе группы \n",
    "ab_group=list(np.intersect1d(group_a['visitorId'], group_b['visitorId']))\n",
    "len(ab_group)"
   ]
  },
  {
   "cell_type": "code",
   "execution_count": 14,
   "metadata": {},
   "outputs": [
    {
     "data": {
      "text/html": [
       "<div>\n",
       "<style scoped>\n",
       "    .dataframe tbody tr th:only-of-type {\n",
       "        vertical-align: middle;\n",
       "    }\n",
       "\n",
       "    .dataframe tbody tr th {\n",
       "        vertical-align: top;\n",
       "    }\n",
       "\n",
       "    .dataframe thead th {\n",
       "        text-align: right;\n",
       "    }\n",
       "</style>\n",
       "<table border=\"1\" class=\"dataframe\">\n",
       "  <thead>\n",
       "    <tr style=\"text-align: right;\">\n",
       "      <th></th>\n",
       "      <th>date</th>\n",
       "      <th>group</th>\n",
       "      <th>visitors</th>\n",
       "    </tr>\n",
       "  </thead>\n",
       "  <tbody>\n",
       "    <tr>\n",
       "      <th>0</th>\n",
       "      <td>2019-08-01</td>\n",
       "      <td>A</td>\n",
       "      <td>719</td>\n",
       "    </tr>\n",
       "    <tr>\n",
       "      <th>1</th>\n",
       "      <td>2019-08-02</td>\n",
       "      <td>A</td>\n",
       "      <td>619</td>\n",
       "    </tr>\n",
       "    <tr>\n",
       "      <th>2</th>\n",
       "      <td>2019-08-03</td>\n",
       "      <td>A</td>\n",
       "      <td>507</td>\n",
       "    </tr>\n",
       "    <tr>\n",
       "      <th>3</th>\n",
       "      <td>2019-08-04</td>\n",
       "      <td>A</td>\n",
       "      <td>717</td>\n",
       "    </tr>\n",
       "    <tr>\n",
       "      <th>4</th>\n",
       "      <td>2019-08-05</td>\n",
       "      <td>A</td>\n",
       "      <td>756</td>\n",
       "    </tr>\n",
       "  </tbody>\n",
       "</table>\n",
       "</div>"
      ],
      "text/plain": [
       "         date group  visitors\n",
       "0  2019-08-01     A       719\n",
       "1  2019-08-02     A       619\n",
       "2  2019-08-03     A       507\n",
       "3  2019-08-04     A       717\n",
       "4  2019-08-05     A       756"
      ]
     },
     "execution_count": 14,
     "metadata": {},
     "output_type": "execute_result"
    }
   ],
   "source": [
    "visitors.head(5)"
   ]
  },
  {
   "cell_type": "code",
   "execution_count": 15,
   "metadata": {},
   "outputs": [
    {
     "name": "stdout",
     "output_type": "stream",
     "text": [
      "<class 'pandas.core.frame.DataFrame'>\n",
      "RangeIndex: 62 entries, 0 to 61\n",
      "Data columns (total 3 columns):\n",
      " #   Column    Non-Null Count  Dtype \n",
      "---  ------    --------------  ----- \n",
      " 0   date      62 non-null     object\n",
      " 1   group     62 non-null     object\n",
      " 2   visitors  62 non-null     int64 \n",
      "dtypes: int64(1), object(2)\n",
      "memory usage: 1.6+ KB\n"
     ]
    }
   ],
   "source": [
    "visitors.info()"
   ]
  },
  {
   "cell_type": "code",
   "execution_count": 16,
   "metadata": {},
   "outputs": [
    {
     "data": {
      "text/plain": [
       "0"
      ]
     },
     "execution_count": 16,
     "metadata": {},
     "output_type": "execute_result"
    }
   ],
   "source": [
    "visitors.duplicated().sum()"
   ]
  },
  {
   "cell_type": "code",
   "execution_count": 17,
   "metadata": {},
   "outputs": [],
   "source": [
    "# заменим тип данных visitors['date'] object->datetime\n",
    "visitors[\"date\"] = visitors[\"date\"].map(lambda x: dt.datetime.strptime(x, '%Y-%m-%d'))"
   ]
  },
  {
   "cell_type": "markdown",
   "metadata": {},
   "source": [
    "В таблице visitors не все типы данных соответствуют содержимому. Заменили тип данных в столбце ['date'] object  на datetime. Пропуски и дубликаты отсутствуют."
   ]
  },
  {
   "cell_type": "markdown",
   "metadata": {},
   "source": [
    "**Выводы:**\n",
    "Мы успешно импортировали необходимые библиотеки для дальнейшей работы над проектом, произвели загрузку данных,ознакомились с содержимым каждого из файлов, привели типы данных столбцов в соответствии с их содержимым. Пропусков в данных не обнаружено.\n",
    "Данные из всех трех таблиц готовы для дальнейшей работы. "
   ]
  },
  {
   "cell_type": "markdown",
   "metadata": {},
   "source": [
    "## Приоритизация гипотез.\n",
    "В файле /datasets/hypothesis.csv 9 гипотез по увеличению выручки интернет-магазина с указанными параметрами Reach, Impact, Confidence, Effort."
   ]
  },
  {
   "cell_type": "markdown",
   "metadata": {},
   "source": [
    "### Необходимо применить фреймворк ICE для приоритизации гипотез и отсортировать их по убыванию приоритета. "
   ]
  },
  {
   "cell_type": "markdown",
   "metadata": {},
   "source": [
    "**ICE Score = Impact * Confidence / Efforts**\n"
   ]
  },
  {
   "cell_type": "code",
   "execution_count": 18,
   "metadata": {},
   "outputs": [],
   "source": [
    "hypothesis['ICE'] = hypothesis['Impact']*hypothesis['Confidence']/hypothesis['Efforts']"
   ]
  },
  {
   "cell_type": "markdown",
   "metadata": {},
   "source": [
    "-Hypothesis — краткое описание гипотезы;\\\n",
    "-Reach — охват пользователей по 10-балльной шкале;\\\n",
    "-Impact — влияние на пользователей по 10-балльной шкале;\\\n",
    "-Confidence — уверенность в гипотезе по 10-балльной шкале;\\\n",
    "-Efforts — затраты ресурсов на проверку гипотезы по 10-балльной шкале. "
   ]
  },
  {
   "cell_type": "code",
   "execution_count": 19,
   "metadata": {},
   "outputs": [
    {
     "data": {
      "text/html": [
       "<div>\n",
       "<style scoped>\n",
       "    .dataframe tbody tr th:only-of-type {\n",
       "        vertical-align: middle;\n",
       "    }\n",
       "\n",
       "    .dataframe tbody tr th {\n",
       "        vertical-align: top;\n",
       "    }\n",
       "\n",
       "    .dataframe thead th {\n",
       "        text-align: right;\n",
       "    }\n",
       "</style>\n",
       "<table border=\"1\" class=\"dataframe\">\n",
       "  <thead>\n",
       "    <tr style=\"text-align: right;\">\n",
       "      <th></th>\n",
       "      <th>Hypothesis</th>\n",
       "      <th>ICE</th>\n",
       "    </tr>\n",
       "  </thead>\n",
       "  <tbody>\n",
       "    <tr>\n",
       "      <th>8</th>\n",
       "      <td>Запустить акцию, дающую скидку на товар в день рождения</td>\n",
       "      <td>16.200000</td>\n",
       "    </tr>\n",
       "    <tr>\n",
       "      <th>0</th>\n",
       "      <td>Добавить два новых канала привлечения трафика, что позволит привлекать на 30% больше пользователей</td>\n",
       "      <td>13.333333</td>\n",
       "    </tr>\n",
       "    <tr>\n",
       "      <th>7</th>\n",
       "      <td>Добавить форму подписки на все основные страницы, чтобы собрать базу клиентов для email-рассылок</td>\n",
       "      <td>11.200000</td>\n",
       "    </tr>\n",
       "    <tr>\n",
       "      <th>6</th>\n",
       "      <td>Показать на главной странице баннеры с актуальными акциями и распродажами, чтобы увеличить конверсию</td>\n",
       "      <td>8.000000</td>\n",
       "    </tr>\n",
       "    <tr>\n",
       "      <th>2</th>\n",
       "      <td>Добавить блоки рекомендаций товаров на сайт интернет магазина, чтобы повысить конверсию и средний чек заказа</td>\n",
       "      <td>7.000000</td>\n",
       "    </tr>\n",
       "    <tr>\n",
       "      <th>1</th>\n",
       "      <td>Запустить собственную службу доставки, что сократит срок доставки заказов</td>\n",
       "      <td>2.000000</td>\n",
       "    </tr>\n",
       "    <tr>\n",
       "      <th>5</th>\n",
       "      <td>Добавить страницу отзывов клиентов о магазине, что позволит увеличить количество заказов</td>\n",
       "      <td>1.333333</td>\n",
       "    </tr>\n",
       "    <tr>\n",
       "      <th>3</th>\n",
       "      <td>Изменить структура категорий, что увеличит конверсию, т.к. пользователи быстрее найдут нужный товар</td>\n",
       "      <td>1.125000</td>\n",
       "    </tr>\n",
       "    <tr>\n",
       "      <th>4</th>\n",
       "      <td>Изменить цвет фона главной страницы, чтобы увеличить вовлеченность пользователей</td>\n",
       "      <td>1.000000</td>\n",
       "    </tr>\n",
       "  </tbody>\n",
       "</table>\n",
       "</div>"
      ],
      "text/plain": [
       "                                                                                                     Hypothesis  \\\n",
       "8                                                       Запустить акцию, дающую скидку на товар в день рождения   \n",
       "0            Добавить два новых канала привлечения трафика, что позволит привлекать на 30% больше пользователей   \n",
       "7              Добавить форму подписки на все основные страницы, чтобы собрать базу клиентов для email-рассылок   \n",
       "6          Показать на главной странице баннеры с актуальными акциями и распродажами, чтобы увеличить конверсию   \n",
       "2  Добавить блоки рекомендаций товаров на сайт интернет магазина, чтобы повысить конверсию и средний чек заказа   \n",
       "1                                     Запустить собственную службу доставки, что сократит срок доставки заказов   \n",
       "5                      Добавить страницу отзывов клиентов о магазине, что позволит увеличить количество заказов   \n",
       "3           Изменить структура категорий, что увеличит конверсию, т.к. пользователи быстрее найдут нужный товар   \n",
       "4                              Изменить цвет фона главной страницы, чтобы увеличить вовлеченность пользователей   \n",
       "\n",
       "         ICE  \n",
       "8  16.200000  \n",
       "0  13.333333  \n",
       "7  11.200000  \n",
       "6   8.000000  \n",
       "2   7.000000  \n",
       "1   2.000000  \n",
       "5   1.333333  \n",
       "3   1.125000  \n",
       "4   1.000000  "
      ]
     },
     "metadata": {},
     "output_type": "display_data"
    }
   ],
   "source": [
    "display(hypothesis[['Hypothesis','ICE']].sort_values(by = 'ICE', ascending = False))"
   ]
  },
  {
   "cell_type": "markdown",
   "metadata": {},
   "source": [
    "Наиболее перспективные гипотезы по ICE: \n",
    "\n",
    "8 - Запустить акцию, дающую скидку на товар в день рождения\\\n",
    "0 - Добавить два новых канала привлечения трафика, что позволит привлекать на 30% больше пользователей\\\n",
    "7 - Добавить форму подписки на все основные страницы, чтобы собрать базу клиентов для email-рассылок "
   ]
  },
  {
   "cell_type": "markdown",
   "metadata": {},
   "source": [
    "### Необходимо применить фреймворк RICE для приоритизации гипотез и отсортировать их по убыванию приоритета. Укажите, как изменилась приоритизация гипотез при применении RICE вместо ICE. Объясните, почему так произошло."
   ]
  },
  {
   "cell_type": "markdown",
   "metadata": {},
   "source": [
    "**RICE Score = Reach * Impact * Confidence / Efforts**"
   ]
  },
  {
   "cell_type": "code",
   "execution_count": 20,
   "metadata": {},
   "outputs": [],
   "source": [
    "hypothesis['RICE'] = hypothesis['Reach'] * hypothesis['Impact'] * hypothesis['Confidence'] / hypothesis['Efforts']"
   ]
  },
  {
   "cell_type": "code",
   "execution_count": 21,
   "metadata": {},
   "outputs": [
    {
     "data": {
      "text/html": [
       "<div>\n",
       "<style scoped>\n",
       "    .dataframe tbody tr th:only-of-type {\n",
       "        vertical-align: middle;\n",
       "    }\n",
       "\n",
       "    .dataframe tbody tr th {\n",
       "        vertical-align: top;\n",
       "    }\n",
       "\n",
       "    .dataframe thead th {\n",
       "        text-align: right;\n",
       "    }\n",
       "</style>\n",
       "<table border=\"1\" class=\"dataframe\">\n",
       "  <thead>\n",
       "    <tr style=\"text-align: right;\">\n",
       "      <th></th>\n",
       "      <th>Hypothesis</th>\n",
       "      <th>RICE</th>\n",
       "    </tr>\n",
       "  </thead>\n",
       "  <tbody>\n",
       "    <tr>\n",
       "      <th>7</th>\n",
       "      <td>Добавить форму подписки на все основные страницы, чтобы собрать базу клиентов для email-рассылок</td>\n",
       "      <td>112.0</td>\n",
       "    </tr>\n",
       "    <tr>\n",
       "      <th>2</th>\n",
       "      <td>Добавить блоки рекомендаций товаров на сайт интернет магазина, чтобы повысить конверсию и средний чек заказа</td>\n",
       "      <td>56.0</td>\n",
       "    </tr>\n",
       "    <tr>\n",
       "      <th>0</th>\n",
       "      <td>Добавить два новых канала привлечения трафика, что позволит привлекать на 30% больше пользователей</td>\n",
       "      <td>40.0</td>\n",
       "    </tr>\n",
       "    <tr>\n",
       "      <th>6</th>\n",
       "      <td>Показать на главной странице баннеры с актуальными акциями и распродажами, чтобы увеличить конверсию</td>\n",
       "      <td>40.0</td>\n",
       "    </tr>\n",
       "    <tr>\n",
       "      <th>8</th>\n",
       "      <td>Запустить акцию, дающую скидку на товар в день рождения</td>\n",
       "      <td>16.2</td>\n",
       "    </tr>\n",
       "    <tr>\n",
       "      <th>3</th>\n",
       "      <td>Изменить структура категорий, что увеличит конверсию, т.к. пользователи быстрее найдут нужный товар</td>\n",
       "      <td>9.0</td>\n",
       "    </tr>\n",
       "    <tr>\n",
       "      <th>1</th>\n",
       "      <td>Запустить собственную службу доставки, что сократит срок доставки заказов</td>\n",
       "      <td>4.0</td>\n",
       "    </tr>\n",
       "    <tr>\n",
       "      <th>5</th>\n",
       "      <td>Добавить страницу отзывов клиентов о магазине, что позволит увеличить количество заказов</td>\n",
       "      <td>4.0</td>\n",
       "    </tr>\n",
       "    <tr>\n",
       "      <th>4</th>\n",
       "      <td>Изменить цвет фона главной страницы, чтобы увеличить вовлеченность пользователей</td>\n",
       "      <td>3.0</td>\n",
       "    </tr>\n",
       "  </tbody>\n",
       "</table>\n",
       "</div>"
      ],
      "text/plain": [
       "                                                                                                     Hypothesis  \\\n",
       "7              Добавить форму подписки на все основные страницы, чтобы собрать базу клиентов для email-рассылок   \n",
       "2  Добавить блоки рекомендаций товаров на сайт интернет магазина, чтобы повысить конверсию и средний чек заказа   \n",
       "0            Добавить два новых канала привлечения трафика, что позволит привлекать на 30% больше пользователей   \n",
       "6          Показать на главной странице баннеры с актуальными акциями и распродажами, чтобы увеличить конверсию   \n",
       "8                                                       Запустить акцию, дающую скидку на товар в день рождения   \n",
       "3           Изменить структура категорий, что увеличит конверсию, т.к. пользователи быстрее найдут нужный товар   \n",
       "1                                     Запустить собственную службу доставки, что сократит срок доставки заказов   \n",
       "5                      Добавить страницу отзывов клиентов о магазине, что позволит увеличить количество заказов   \n",
       "4                              Изменить цвет фона главной страницы, чтобы увеличить вовлеченность пользователей   \n",
       "\n",
       "    RICE  \n",
       "7  112.0  \n",
       "2   56.0  \n",
       "0   40.0  \n",
       "6   40.0  \n",
       "8   16.2  \n",
       "3    9.0  \n",
       "1    4.0  \n",
       "5    4.0  \n",
       "4    3.0  "
      ]
     },
     "metadata": {},
     "output_type": "display_data"
    }
   ],
   "source": [
    "display(hypothesis[['Hypothesis', 'RICE']].sort_values(by = 'RICE', ascending = False))"
   ]
  },
  {
   "cell_type": "markdown",
   "metadata": {},
   "source": [
    "Сравнивая результаты, полученные в ходе подсчетов ICE и RICE, мы можем заметить, что рейтинг перспективности гипотез изменился:\n",
    "Как и в случае с ICE, в число наиболее перспективных гипотез вошли:\\\n",
    "7 - Добавить форму подписки на все основные страницы, чтобы собрать базу клиентов для email-рассылок\\\n",
    "0 - Добавить два новых канала привлечения трафика, что позволит привлекать на 30% больше пользователей\\\n",
    "Однако, к ним добавилась гипотеза:\\\n",
    "2 - Добавить блоки рекомендаций товаров на сайт интернет магазина, чтобы повысить конверсию и средний чек заказа\n",
    "Это произошло из-за того, что RICE при подсчете перспективности, в отличие от ICE учитвает параметр \"Reach\"(охват пользователей по 10-балльной шкале)\n",
    "Гипотеза №7 стала наиболее приоритетной благодаря максимальному охвату пользователей\n",
    "Гипотеза №8 (скидка на товар в день рождения) вышла из  тройки лидеров, т.к. предположительно, не все пользователи указывают дату своего рождения при использовании сервиса."
   ]
  },
  {
   "cell_type": "markdown",
   "metadata": {},
   "source": [
    "## Анализ A/B-теста\n",
    "Вы провели A/B-тест и получили результаты, которые описаны в файлах /datasets/orders.csv и /datasets/visitors.csv.\n",
    "Постройте график кумулятивной выручки по группам. Сделайте выводы и предположения.\n",
    "Постройте график кумулятивного среднего чека по группам. Сделайте выводы и предположения.\n",
    "Постройте график относительного изменения кумулятивного среднего чека группы B к группе A. Сделайте выводы и предположения.\n",
    "Постройте график кумулятивного среднего количества заказов на посетителя по группам. Сделайте выводы и предположения.\n",
    "Постройте график относительного изменения кумулятивного среднего количества заказов на посетителя группы B к группе A. Сделайте выводы и предположения.\n",
    "Постройте точечный график количества заказов по пользователям. Сделайте выводы и предположения.\n",
    "Посчитайте 95-й и 99-й перцентили количества заказов на пользователя. Выберите границу для определения аномальных пользователей.\n",
    "Постройте точечный график стоимостей заказов. Сделайте выводы и предположения.\n",
    "Посчитайте 95-й и 99-й перцентили стоимости заказов. Выберите границу для определения аномальных заказов.\n",
    "Посчитайте статистическую значимость различий в среднем количестве заказов на посетителя между группами по «сырым» данным. Сделайте выводы и предположения.\n",
    "Посчитайте статистическую значимость различий в среднем чеке заказа между группами по «сырым» данным. Сделайте выводы и предположения.\n",
    "Посчитайте статистическую значимость различий в среднем количестве заказов на посетителя между группами по «очищенным» данным. Сделайте выводы и предположения.\n",
    "Посчитайте статистическую значимость различий в среднем чеке заказа между группами по «очищенным» данным. Сделайте выводы и предположения.\n",
    "Примите решение по результатам теста и объясните его. Варианты решений:\n",
    "1. Остановить тест, зафиксировать победу одной из групп.\n",
    "2. Остановить тест, зафиксировать отсутствие различий между группами.\n",
    "3. Продолжить тест."
   ]
  },
  {
   "cell_type": "markdown",
   "metadata": {},
   "source": [
    "### Постройте график кумулятивной выручки по группам. Сделайте выводы и предположения."
   ]
  },
  {
   "cell_type": "code",
   "execution_count": 22,
   "metadata": {},
   "outputs": [
    {
     "data": {
      "text/html": [
       "<div>\n",
       "<style scoped>\n",
       "    .dataframe tbody tr th:only-of-type {\n",
       "        vertical-align: middle;\n",
       "    }\n",
       "\n",
       "    .dataframe tbody tr th {\n",
       "        vertical-align: top;\n",
       "    }\n",
       "\n",
       "    .dataframe thead th {\n",
       "        text-align: right;\n",
       "    }\n",
       "</style>\n",
       "<table border=\"1\" class=\"dataframe\">\n",
       "  <thead>\n",
       "    <tr style=\"text-align: right;\">\n",
       "      <th></th>\n",
       "      <th>transactionId</th>\n",
       "      <th>visitorId</th>\n",
       "      <th>date</th>\n",
       "      <th>revenue</th>\n",
       "      <th>group</th>\n",
       "    </tr>\n",
       "  </thead>\n",
       "  <tbody>\n",
       "    <tr>\n",
       "      <th>0</th>\n",
       "      <td>3667963787</td>\n",
       "      <td>3312258926</td>\n",
       "      <td>2019-08-15</td>\n",
       "      <td>1650</td>\n",
       "      <td>B</td>\n",
       "    </tr>\n",
       "    <tr>\n",
       "      <th>1</th>\n",
       "      <td>2804400009</td>\n",
       "      <td>3642806036</td>\n",
       "      <td>2019-08-15</td>\n",
       "      <td>730</td>\n",
       "      <td>B</td>\n",
       "    </tr>\n",
       "    <tr>\n",
       "      <th>2</th>\n",
       "      <td>2961555356</td>\n",
       "      <td>4069496402</td>\n",
       "      <td>2019-08-15</td>\n",
       "      <td>400</td>\n",
       "      <td>A</td>\n",
       "    </tr>\n",
       "    <tr>\n",
       "      <th>3</th>\n",
       "      <td>3797467345</td>\n",
       "      <td>1196621759</td>\n",
       "      <td>2019-08-15</td>\n",
       "      <td>9759</td>\n",
       "      <td>B</td>\n",
       "    </tr>\n",
       "    <tr>\n",
       "      <th>4</th>\n",
       "      <td>2282983706</td>\n",
       "      <td>2322279887</td>\n",
       "      <td>2019-08-15</td>\n",
       "      <td>2308</td>\n",
       "      <td>B</td>\n",
       "    </tr>\n",
       "  </tbody>\n",
       "</table>\n",
       "</div>"
      ],
      "text/plain": [
       "   transactionId   visitorId       date  revenue group\n",
       "0     3667963787  3312258926 2019-08-15     1650     B\n",
       "1     2804400009  3642806036 2019-08-15      730     B\n",
       "2     2961555356  4069496402 2019-08-15      400     A\n",
       "3     3797467345  1196621759 2019-08-15     9759     B\n",
       "4     2282983706  2322279887 2019-08-15     2308     B"
      ]
     },
     "execution_count": 22,
     "metadata": {},
     "output_type": "execute_result"
    }
   ],
   "source": [
    "orders.head(5)"
   ]
  },
  {
   "cell_type": "code",
   "execution_count": 23,
   "metadata": {},
   "outputs": [
    {
     "data": {
      "text/html": [
       "<div>\n",
       "<style scoped>\n",
       "    .dataframe tbody tr th:only-of-type {\n",
       "        vertical-align: middle;\n",
       "    }\n",
       "\n",
       "    .dataframe tbody tr th {\n",
       "        vertical-align: top;\n",
       "    }\n",
       "\n",
       "    .dataframe thead th {\n",
       "        text-align: right;\n",
       "    }\n",
       "</style>\n",
       "<table border=\"1\" class=\"dataframe\">\n",
       "  <thead>\n",
       "    <tr style=\"text-align: right;\">\n",
       "      <th></th>\n",
       "      <th>date</th>\n",
       "      <th>group</th>\n",
       "      <th>visitors</th>\n",
       "    </tr>\n",
       "  </thead>\n",
       "  <tbody>\n",
       "    <tr>\n",
       "      <th>0</th>\n",
       "      <td>2019-08-01</td>\n",
       "      <td>A</td>\n",
       "      <td>719</td>\n",
       "    </tr>\n",
       "    <tr>\n",
       "      <th>1</th>\n",
       "      <td>2019-08-02</td>\n",
       "      <td>A</td>\n",
       "      <td>619</td>\n",
       "    </tr>\n",
       "    <tr>\n",
       "      <th>2</th>\n",
       "      <td>2019-08-03</td>\n",
       "      <td>A</td>\n",
       "      <td>507</td>\n",
       "    </tr>\n",
       "    <tr>\n",
       "      <th>3</th>\n",
       "      <td>2019-08-04</td>\n",
       "      <td>A</td>\n",
       "      <td>717</td>\n",
       "    </tr>\n",
       "    <tr>\n",
       "      <th>4</th>\n",
       "      <td>2019-08-05</td>\n",
       "      <td>A</td>\n",
       "      <td>756</td>\n",
       "    </tr>\n",
       "  </tbody>\n",
       "</table>\n",
       "</div>"
      ],
      "text/plain": [
       "        date group  visitors\n",
       "0 2019-08-01     A       719\n",
       "1 2019-08-02     A       619\n",
       "2 2019-08-03     A       507\n",
       "3 2019-08-04     A       717\n",
       "4 2019-08-05     A       756"
      ]
     },
     "execution_count": 23,
     "metadata": {},
     "output_type": "execute_result"
    }
   ],
   "source": [
    "visitors.head(5)"
   ]
  },
  {
   "cell_type": "markdown",
   "metadata": {},
   "source": [
    "Соберём агрегированные кумулятивные по дням данные о заказах:"
   ]
  },
  {
   "cell_type": "code",
   "execution_count": 24,
   "metadata": {},
   "outputs": [],
   "source": [
    "# создаем массив уникальных пар значений дат и групп теста:\n",
    "datesGroups = orders[['date', 'group']].drop_duplicates()\n",
    "# получаем агрегированные кумулятивные по дням данные о заказах:\n",
    "ordersAggregated = datesGroups.apply(lambda x: orders[np.logical_and(orders['date'] <= x['date'], orders['group'] == x['group'])]\\\n",
    ".agg({'date' : 'max',\n",
    "      'group' : 'max', \n",
    "      'visitorId' : 'nunique', \n",
    "      'transactionId' : 'nunique', \n",
    "      'revenue' : 'sum'}), axis=1).sort_values(by=['date','group'])"
   ]
  },
  {
   "cell_type": "code",
   "execution_count": 25,
   "metadata": {},
   "outputs": [],
   "source": [
    "# получаем агрегированные кумулятивные по дням данные о посетителях интернет-магазина \n",
    "visitorsAggregated = datesGroups.apply(lambda x: visitors[np.logical_and(visitors['date'] <= x['date'], visitors['group'] == x['group'])]\n",
    "                                       .agg({'date' : 'max', \n",
    "                                             'group' : 'max', \n",
    "                                             'visitors' : 'sum'}), axis=1).sort_values(by=['date','group'])"
   ]
  },
  {
   "cell_type": "code",
   "execution_count": 26,
   "metadata": {},
   "outputs": [],
   "source": [
    "# объединяем кумулятивные данные в одной таблице и присваиваем ее столбцам понятные названия\n",
    "cumulativeData = ordersAggregated.merge(visitorsAggregated, left_on=['date', 'group'], right_on=['date', 'group'])\n",
    "cumulativeData.columns = ['date', 'group', 'buyers', 'orders',  'revenue', 'visitors']"
   ]
  },
  {
   "cell_type": "code",
   "execution_count": 27,
   "metadata": {},
   "outputs": [
    {
     "data": {
      "text/html": [
       "<div>\n",
       "<style scoped>\n",
       "    .dataframe tbody tr th:only-of-type {\n",
       "        vertical-align: middle;\n",
       "    }\n",
       "\n",
       "    .dataframe tbody tr th {\n",
       "        vertical-align: top;\n",
       "    }\n",
       "\n",
       "    .dataframe thead th {\n",
       "        text-align: right;\n",
       "    }\n",
       "</style>\n",
       "<table border=\"1\" class=\"dataframe\">\n",
       "  <thead>\n",
       "    <tr style=\"text-align: right;\">\n",
       "      <th></th>\n",
       "      <th>date</th>\n",
       "      <th>group</th>\n",
       "      <th>buyers</th>\n",
       "      <th>orders</th>\n",
       "      <th>revenue</th>\n",
       "      <th>visitors</th>\n",
       "    </tr>\n",
       "  </thead>\n",
       "  <tbody>\n",
       "    <tr>\n",
       "      <th>0</th>\n",
       "      <td>2019-08-01</td>\n",
       "      <td>A</td>\n",
       "      <td>20</td>\n",
       "      <td>24</td>\n",
       "      <td>148579</td>\n",
       "      <td>719</td>\n",
       "    </tr>\n",
       "    <tr>\n",
       "      <th>1</th>\n",
       "      <td>2019-08-01</td>\n",
       "      <td>B</td>\n",
       "      <td>20</td>\n",
       "      <td>21</td>\n",
       "      <td>101217</td>\n",
       "      <td>713</td>\n",
       "    </tr>\n",
       "    <tr>\n",
       "      <th>2</th>\n",
       "      <td>2019-08-02</td>\n",
       "      <td>A</td>\n",
       "      <td>38</td>\n",
       "      <td>44</td>\n",
       "      <td>242401</td>\n",
       "      <td>1338</td>\n",
       "    </tr>\n",
       "    <tr>\n",
       "      <th>3</th>\n",
       "      <td>2019-08-02</td>\n",
       "      <td>B</td>\n",
       "      <td>43</td>\n",
       "      <td>45</td>\n",
       "      <td>266748</td>\n",
       "      <td>1294</td>\n",
       "    </tr>\n",
       "    <tr>\n",
       "      <th>4</th>\n",
       "      <td>2019-08-03</td>\n",
       "      <td>A</td>\n",
       "      <td>62</td>\n",
       "      <td>68</td>\n",
       "      <td>354874</td>\n",
       "      <td>1845</td>\n",
       "    </tr>\n",
       "  </tbody>\n",
       "</table>\n",
       "</div>"
      ],
      "text/plain": [
       "        date group  buyers  orders  revenue  visitors\n",
       "0 2019-08-01     A      20      24   148579       719\n",
       "1 2019-08-01     B      20      21   101217       713\n",
       "2 2019-08-02     A      38      44   242401      1338\n",
       "3 2019-08-02     B      43      45   266748      1294\n",
       "4 2019-08-03     A      62      68   354874      1845"
      ]
     },
     "execution_count": 27,
     "metadata": {},
     "output_type": "execute_result"
    }
   ],
   "source": [
    "cumulativeData.head(5)"
   ]
  },
  {
   "cell_type": "code",
   "execution_count": 28,
   "metadata": {},
   "outputs": [
    {
     "data": {
      "image/png": "[encoded data removed]",
      "text/plain": [
       "<Figure size 1080x360 with 1 Axes>"
      ]
     },
     "metadata": {
      "needs_background": "light"
     },
     "output_type": "display_data"
    }
   ],
   "source": [
    "#Построим графики кумулятивной выручки по дням и группам A/B-тестирования: \n",
    "\n",
    "# датафрейм с кумулятивным количеством заказов и кумулятивной выручкой по дням в группе А\n",
    "cumulativeRevenueA = cumulativeData[cumulativeData['group']=='A'][['date','revenue', 'orders']]\n",
    "\n",
    "# датафрейм с кумулятивным количеством заказов и кумулятивной выручкой по дням в группе B\n",
    "cumulativeRevenueB = cumulativeData[cumulativeData['group']=='B'][['date','revenue', 'orders']]\n",
    "\n",
    "plt.figure(figsize=(15, 5))\n",
    "plt.grid()\n",
    "# Строим график выручки группы А\n",
    "plt.plot(cumulativeRevenueA['date'], cumulativeRevenueA['revenue'], label='кумулятивная выручка группы A')\n",
    "\n",
    "# Строим график выручки группы B\n",
    "plt.plot(cumulativeRevenueB['date'], cumulativeRevenueB['revenue'], label='кумулятивная выручка группы B')\n",
    "plt.title('График кумулятивной выручки по группам')\n",
    "plt.xlabel('Дата')\n",
    "plt.ylabel('Выручка')\n",
    "plt.legend();\n"
   ]
  },
  {
   "cell_type": "markdown",
   "metadata": {},
   "source": [
    "Выручка увеличивается равномерно на протяжении всего теста, за исключением резкого скачка за период между 2019-08-17 и 2019-08-21 в группе В. Этом может сигнализировать о наличии выбросов (всплеск числа заказов, либо аномально дорогие заказы в выборке) "
   ]
  },
  {
   "cell_type": "code",
   "execution_count": 29,
   "metadata": {},
   "outputs": [
    {
     "data": {
      "text/html": [
       "<div>\n",
       "<style scoped>\n",
       "    .dataframe tbody tr th:only-of-type {\n",
       "        vertical-align: middle;\n",
       "    }\n",
       "\n",
       "    .dataframe tbody tr th {\n",
       "        vertical-align: top;\n",
       "    }\n",
       "\n",
       "    .dataframe thead th {\n",
       "        text-align: right;\n",
       "    }\n",
       "</style>\n",
       "<table border=\"1\" class=\"dataframe\">\n",
       "  <thead>\n",
       "    <tr style=\"text-align: right;\">\n",
       "      <th></th>\n",
       "      <th>date</th>\n",
       "      <th>revenue</th>\n",
       "      <th>orders</th>\n",
       "    </tr>\n",
       "  </thead>\n",
       "  <tbody>\n",
       "    <tr>\n",
       "      <th>33</th>\n",
       "      <td>2019-08-17</td>\n",
       "      <td>2620790</td>\n",
       "      <td>373</td>\n",
       "    </tr>\n",
       "    <tr>\n",
       "      <th>35</th>\n",
       "      <td>2019-08-18</td>\n",
       "      <td>2686621</td>\n",
       "      <td>382</td>\n",
       "    </tr>\n",
       "    <tr>\n",
       "      <th>37</th>\n",
       "      <td>2019-08-19</td>\n",
       "      <td>4116541</td>\n",
       "      <td>403</td>\n",
       "    </tr>\n",
       "    <tr>\n",
       "      <th>39</th>\n",
       "      <td>2019-08-20</td>\n",
       "      <td>4263815</td>\n",
       "      <td>423</td>\n",
       "    </tr>\n",
       "    <tr>\n",
       "      <th>41</th>\n",
       "      <td>2019-08-21</td>\n",
       "      <td>4426892</td>\n",
       "      <td>437</td>\n",
       "    </tr>\n",
       "  </tbody>\n",
       "</table>\n",
       "</div>"
      ],
      "text/plain": [
       "         date  revenue  orders\n",
       "33 2019-08-17  2620790     373\n",
       "35 2019-08-18  2686621     382\n",
       "37 2019-08-19  4116541     403\n",
       "39 2019-08-20  4263815     423\n",
       "41 2019-08-21  4426892     437"
      ]
     },
     "execution_count": 29,
     "metadata": {},
     "output_type": "execute_result"
    }
   ],
   "source": [
    "# изучим выручки в группе В за период между 2019-08-17 и 2019-08-21.\n",
    "cumulativeRevenueB.query(' \"2019-08-17\" <= date <= \"2019-08-21\" ')"
   ]
  },
  {
   "cell_type": "markdown",
   "metadata": {},
   "source": [
    "Видим, что скачок выручки произошел 19 августа. Далее, посмотрим на заказы в этот день:"
   ]
  },
  {
   "cell_type": "code",
   "execution_count": 30,
   "metadata": {},
   "outputs": [
    {
     "data": {
      "text/html": [
       "<div>\n",
       "<style scoped>\n",
       "    .dataframe tbody tr th:only-of-type {\n",
       "        vertical-align: middle;\n",
       "    }\n",
       "\n",
       "    .dataframe tbody tr th {\n",
       "        vertical-align: top;\n",
       "    }\n",
       "\n",
       "    .dataframe thead th {\n",
       "        text-align: right;\n",
       "    }\n",
       "</style>\n",
       "<table border=\"1\" class=\"dataframe\">\n",
       "  <thead>\n",
       "    <tr style=\"text-align: right;\">\n",
       "      <th></th>\n",
       "      <th>transactionId</th>\n",
       "      <th>visitorId</th>\n",
       "      <th>date</th>\n",
       "      <th>revenue</th>\n",
       "      <th>group</th>\n",
       "    </tr>\n",
       "  </thead>\n",
       "  <tbody>\n",
       "    <tr>\n",
       "      <th>425</th>\n",
       "      <td>590470918</td>\n",
       "      <td>1920142716</td>\n",
       "      <td>2019-08-19</td>\n",
       "      <td>1294500</td>\n",
       "      <td>B</td>\n",
       "    </tr>\n",
       "    <tr>\n",
       "      <th>530</th>\n",
       "      <td>3970235543</td>\n",
       "      <td>2912540959</td>\n",
       "      <td>2019-08-19</td>\n",
       "      <td>43990</td>\n",
       "      <td>A</td>\n",
       "    </tr>\n",
       "    <tr>\n",
       "      <th>527</th>\n",
       "      <td>1570513684</td>\n",
       "      <td>2837914161</td>\n",
       "      <td>2019-08-19</td>\n",
       "      <td>33405</td>\n",
       "      <td>B</td>\n",
       "    </tr>\n",
       "    <tr>\n",
       "      <th>421</th>\n",
       "      <td>3765974140</td>\n",
       "      <td>1357170471</td>\n",
       "      <td>2019-08-19</td>\n",
       "      <td>31680</td>\n",
       "      <td>A</td>\n",
       "    </tr>\n",
       "    <tr>\n",
       "      <th>461</th>\n",
       "      <td>2683113224</td>\n",
       "      <td>154576532</td>\n",
       "      <td>2019-08-19</td>\n",
       "      <td>26550</td>\n",
       "      <td>B</td>\n",
       "    </tr>\n",
       "    <tr>\n",
       "      <th>525</th>\n",
       "      <td>3031564664</td>\n",
       "      <td>393266494</td>\n",
       "      <td>2019-08-19</td>\n",
       "      <td>21550</td>\n",
       "      <td>A</td>\n",
       "    </tr>\n",
       "    <tr>\n",
       "      <th>368</th>\n",
       "      <td>3268879337</td>\n",
       "      <td>2536252163</td>\n",
       "      <td>2019-08-19</td>\n",
       "      <td>20026</td>\n",
       "      <td>B</td>\n",
       "    </tr>\n",
       "    <tr>\n",
       "      <th>366</th>\n",
       "      <td>2037051350</td>\n",
       "      <td>1957949546</td>\n",
       "      <td>2019-08-19</td>\n",
       "      <td>16770</td>\n",
       "      <td>A</td>\n",
       "    </tr>\n",
       "  </tbody>\n",
       "</table>\n",
       "</div>"
      ],
      "text/plain": [
       "     transactionId   visitorId       date  revenue group\n",
       "425      590470918  1920142716 2019-08-19  1294500     B\n",
       "530     3970235543  2912540959 2019-08-19    43990     A\n",
       "527     1570513684  2837914161 2019-08-19    33405     B\n",
       "421     3765974140  1357170471 2019-08-19    31680     A\n",
       "461     2683113224   154576532 2019-08-19    26550     B\n",
       "525     3031564664   393266494 2019-08-19    21550     A\n",
       "368     3268879337  2536252163 2019-08-19    20026     B\n",
       "366     2037051350  1957949546 2019-08-19    16770     A"
      ]
     },
     "execution_count": 30,
     "metadata": {},
     "output_type": "execute_result"
    }
   ],
   "source": [
    "orders.query(' date == \"2019-08-19\" ').sort_values(by='revenue', ascending=False).head(8)"
   ]
  },
  {
   "cell_type": "markdown",
   "metadata": {},
   "source": [
    "Нашли огромный аномальный заказ на 1 294 500 - почти 1,3 млн!\n",
    "Далее от него нужно будет избавиться."
   ]
  },
  {
   "cell_type": "markdown",
   "metadata": {},
   "source": [
    "### Постройте график кумулятивного среднего чека по группам. Сделайте выводы и предположения."
   ]
  },
  {
   "cell_type": "code",
   "execution_count": 31,
   "metadata": {},
   "outputs": [
    {
     "data": {
      "image/png": "[encoded data removed]",
      "text/plain": [
       "<Figure size 1080x360 with 1 Axes>"
      ]
     },
     "metadata": {
      "needs_background": "light"
     },
     "output_type": "display_data"
    }
   ],
   "source": [
    "#Построим графики среднего чека по группам — разделим кумулятивную выручку на кумулятивное число заказов:\n",
    "plt.figure(figsize=(15, 5))\n",
    "plt.grid()\n",
    "plt.plot(cumulativeRevenueA['date'], cumulativeRevenueA['revenue']/cumulativeRevenueA['orders'], label = 'A')\n",
    "plt.plot(cumulativeRevenueB['date'], cumulativeRevenueB['revenue']/cumulativeRevenueB['orders'], label = 'B')\n",
    "plt.title('График кумулятивного среднего чека по группам')\n",
    "plt.xlabel('Дата')\n",
    "plt.ylabel('Кумулятвный средний чек')\n",
    "plt.legend();"
   ]
  },
  {
   "cell_type": "markdown",
   "metadata": {},
   "source": [
    "Возможно, в группу B во второй половине теста попали крупные заказы (наблюдаем резкий всплеск значений на графике во второй половине теста). \n",
    "В группе А наблюдаем падение среднего чека после начала теста, затем рост. Во второй половине теста значения среднего чека для группы А стабилизируются, а в группе В постепенно падают."
   ]
  },
  {
   "cell_type": "markdown",
   "metadata": {},
   "source": [
    "### Постройте график относительного изменения кумулятивного среднего чека группы B к группе A. Сделайте выводы и предположения."
   ]
  },
  {
   "cell_type": "code",
   "execution_count": 32,
   "metadata": {},
   "outputs": [
    {
     "data": {
      "image/png": "[encoded data removed]",
      "text/plain": [
       "<Figure size 1080x360 with 1 Axes>"
      ]
     },
     "metadata": {
      "needs_background": "light"
     },
     "output_type": "display_data"
    }
   ],
   "source": [
    "#Построим график относительного различия для среднего чека. \n",
    "mergedCumulativeRevenue = cumulativeRevenueA.merge(cumulativeRevenueB, left_on='date', right_on='date', how='left', suffixes=['A', 'B'])\n",
    "plt.figure(figsize=(15, 5))\n",
    "plt.grid()\n",
    "plt.plot(mergedCumulativeRevenue['date'], (mergedCumulativeRevenue['revenueB']/mergedCumulativeRevenue['ordersB'])/(mergedCumulativeRevenue['revenueA']/mergedCumulativeRevenue['ordersA'])-1)\n",
    "plt.axhline(y=0, color='black', linestyle='--')\n",
    "plt.title('График относительного изменения кумулятивного среднего чека группы B к группе A')\n",
    "plt.xlabel('Дата')\n",
    "plt.ylabel('Отношение кумулятивного среднего чека В к А');"
   ]
  },
  {
   "cell_type": "markdown",
   "metadata": {},
   "source": [
    "Средний чек группы В непрерывно рос до 4 августа, затем 5 августа мы наблюдаем краткосрочное падение показателей, за которым, далее следует рост вплоть до 8 августа.\n",
    "13 августа средний чек группы В достиг минимума и опустился ниже значений группы А.\n",
    "Первый пик графика  связан с флуктуацией данных.\n",
    "19 августа был совершен крупный заказ, который вывел группу В в лидеры. Далее, мы наблюдаем как средний чек группы В постепенно снижается со временем.\n",
    "Второй пик графика связан с аномальным всплеском группы В."
   ]
  },
  {
   "cell_type": "markdown",
   "metadata": {},
   "source": [
    "### Постройте график кумулятивного среднего количества заказов на посетителя по группам. Сделайте выводы и предположения."
   ]
  },
  {
   "cell_type": "code",
   "execution_count": 33,
   "metadata": {},
   "outputs": [
    {
     "data": {
      "image/png": "[encoded data removed]",
      "text/plain": [
       "<Figure size 1080x360 with 1 Axes>"
      ]
     },
     "metadata": {
      "needs_background": "light"
     },
     "output_type": "display_data"
    }
   ],
   "source": [
    "# считаем кумулятивную конверсию\n",
    "cumulativeData['conversion'] = cumulativeData['orders']/cumulativeData['visitors']\n",
    "\n",
    "# отделяем данные по группе A\n",
    "cumulativeDataA = cumulativeData[cumulativeData['group']=='A']\n",
    "\n",
    "# отделяем данные по группе B\n",
    "cumulativeDataB = cumulativeData[cumulativeData['group']=='B']\n",
    "\n",
    "# строим графики\n",
    "plt.figure(figsize=(15, 5))\n",
    "plt.grid()\n",
    "plt.plot(cumulativeDataA['date'], cumulativeDataA['conversion'], label='A')\n",
    "plt.plot(cumulativeDataB['date'], cumulativeDataB['conversion'], label='B')\n",
    "plt.title('График кумулятивного среднего количества заказов на посетителя по группам')\n",
    "plt.legend()\n",
    "plt.xlabel('Дата')\n",
    "plt.ylabel('Среднее количество заказов на посетителя');\n",
    "\n",
    "# задаем масштаб осей\n",
    "#plt.axis([\"2019-04-01\", '2019-04-23', 0, 0.015]) "
   ]
  },
  {
   "cell_type": "markdown",
   "metadata": {},
   "source": [
    "Первую неделю теста значения конверсии по группам значительно колеблются. Показатели группы В выше, чем группы А. Затем данные меняются и группа В значительно лидирует по среднему количеству заказов на посетителя, по сравнению с группой А.\n",
    "Во второй половине проведения теста показатели обеих групп значительно стабилизировались."
   ]
  },
  {
   "cell_type": "markdown",
   "metadata": {},
   "source": [
    "### Постройте график относительного изменения кумулятивного среднего количества заказов на посетителя группы B к группе A. Сделайте выводы и предположения.\n"
   ]
  },
  {
   "cell_type": "code",
   "execution_count": 34,
   "metadata": {},
   "outputs": [
    {
     "data": {
      "image/png": "[encoded data removed]",
      "text/plain": [
       "<Figure size 1080x360 with 1 Axes>"
      ]
     },
     "metadata": {
      "needs_background": "light"
     },
     "output_type": "display_data"
    }
   ],
   "source": [
    "mergedCumulativeConversions = cumulativeDataA[['date','conversion']].merge(cumulativeDataB[['date','conversion']], left_on='date', right_on='date', how='left', suffixes=['A', 'B'])\n",
    "plt.figure(figsize=(15, 5))\n",
    "plt.grid()\n",
    "plt.plot(mergedCumulativeConversions['date'], mergedCumulativeConversions['conversionB']/mergedCumulativeConversions['conversionA']-1, label=\"Относительный прирост конверсии группы B относительно группы A\")\n",
    "\n",
    "plt.title('График относительного изменения кумулятивного среднего количества заказов на посетителя группы B к группе A')\n",
    "plt.axhline(y=0, color='black', linestyle='--')\n",
    "plt.xlabel('Дата')\n",
    "plt.ylabel('Отношение кумулятивного среднего количества заказов В к А');"
   ]
  },
  {
   "cell_type": "markdown",
   "metadata": {},
   "source": [
    "Относительное изменение кумулятивного среднего количества заказов на посетителя группы В к группе А растет неравномерно. В первую неделю проведения теста мы наблюдаем особенно резкие скачки показателя. В начале теста группа B значительно проигрывала группе A, затем вырвалась вперёд с устойчивым результатом, начиная с 6 августа. \n",
    "К середине периода (17 августа) заметно снижение роста и выход на плато."
   ]
  },
  {
   "cell_type": "markdown",
   "metadata": {},
   "source": [
    "### Постройте точечный график количества заказов по пользователям. Сделайте выводы и предположения.\n"
   ]
  },
  {
   "cell_type": "code",
   "execution_count": 35,
   "metadata": {},
   "outputs": [
    {
     "data": {
      "text/html": [
       "<div>\n",
       "<style scoped>\n",
       "    .dataframe tbody tr th:only-of-type {\n",
       "        vertical-align: middle;\n",
       "    }\n",
       "\n",
       "    .dataframe tbody tr th {\n",
       "        vertical-align: top;\n",
       "    }\n",
       "\n",
       "    .dataframe thead th {\n",
       "        text-align: right;\n",
       "    }\n",
       "</style>\n",
       "<table border=\"1\" class=\"dataframe\">\n",
       "  <thead>\n",
       "    <tr style=\"text-align: right;\">\n",
       "      <th></th>\n",
       "      <th>transactionId</th>\n",
       "      <th>visitorId</th>\n",
       "      <th>date</th>\n",
       "      <th>revenue</th>\n",
       "      <th>group</th>\n",
       "    </tr>\n",
       "  </thead>\n",
       "  <tbody>\n",
       "    <tr>\n",
       "      <th>0</th>\n",
       "      <td>3667963787</td>\n",
       "      <td>3312258926</td>\n",
       "      <td>2019-08-15</td>\n",
       "      <td>1650</td>\n",
       "      <td>B</td>\n",
       "    </tr>\n",
       "    <tr>\n",
       "      <th>1</th>\n",
       "      <td>2804400009</td>\n",
       "      <td>3642806036</td>\n",
       "      <td>2019-08-15</td>\n",
       "      <td>730</td>\n",
       "      <td>B</td>\n",
       "    </tr>\n",
       "    <tr>\n",
       "      <th>2</th>\n",
       "      <td>2961555356</td>\n",
       "      <td>4069496402</td>\n",
       "      <td>2019-08-15</td>\n",
       "      <td>400</td>\n",
       "      <td>A</td>\n",
       "    </tr>\n",
       "    <tr>\n",
       "      <th>3</th>\n",
       "      <td>3797467345</td>\n",
       "      <td>1196621759</td>\n",
       "      <td>2019-08-15</td>\n",
       "      <td>9759</td>\n",
       "      <td>B</td>\n",
       "    </tr>\n",
       "    <tr>\n",
       "      <th>4</th>\n",
       "      <td>2282983706</td>\n",
       "      <td>2322279887</td>\n",
       "      <td>2019-08-15</td>\n",
       "      <td>2308</td>\n",
       "      <td>B</td>\n",
       "    </tr>\n",
       "  </tbody>\n",
       "</table>\n",
       "</div>"
      ],
      "text/plain": [
       "   transactionId   visitorId       date  revenue group\n",
       "0     3667963787  3312258926 2019-08-15     1650     B\n",
       "1     2804400009  3642806036 2019-08-15      730     B\n",
       "2     2961555356  4069496402 2019-08-15      400     A\n",
       "3     3797467345  1196621759 2019-08-15     9759     B\n",
       "4     2282983706  2322279887 2019-08-15     2308     B"
      ]
     },
     "execution_count": 35,
     "metadata": {},
     "output_type": "execute_result"
    }
   ],
   "source": [
    "orders.head(5)"
   ]
  },
  {
   "cell_type": "code",
   "execution_count": 36,
   "metadata": {},
   "outputs": [
    {
     "data": {
      "image/png": "[encoded data removed]",
      "text/plain": [
       "<Figure size 1080x360 with 1 Axes>"
      ]
     },
     "metadata": {
      "needs_background": "light"
     },
     "output_type": "display_data"
    }
   ],
   "source": [
    "orders_agg = (\n",
    "    orders\n",
    "    .groupby(by=['visitorId'])\n",
    "    .agg({'transactionId': 'count'})\n",
    "    .rename(columns={'transactionId': 'orders_cnt'})\n",
    "    .reset_index()\n",
    ")\n",
    "plt.figure(figsize=(15, 5))\n",
    "\n",
    "x_values = pd.Series(range(0, len(orders_agg['orders_cnt'])))\n",
    "plt.scatter(x_values, orders_agg['orders_cnt'], alpha = 0.5)\n",
    "\n",
    "plt.title(' График количества заказов по пользователям')\n",
    "plt.ylabel('Количество заказов')\n",
    "plt.xlabel('Индекс пользователя')\n",
    "plt.grid()\n"
   ]
  },
  {
   "cell_type": "markdown",
   "metadata": {},
   "source": [
    "Как мы и предполагали ранее, в данных имеются аномалии - несколько пользователей с большим количеством заказов. Некоторые из них совершили 8, 9 и даже 11 заказов. \n",
    "По графику можем определить границу аномально большого количества заказов: между 3 и 4. Однако, принято отсеивать  от 1% до 5% наблюдений с крайними значениями, поэтому произведем дальнейшие расчеты:"
   ]
  },
  {
   "cell_type": "markdown",
   "metadata": {},
   "source": [
    "### Посчитайте 95-й и 99-й перцентили количества заказов на пользователя. Выберите границу для определения аномальных пользователей.\n"
   ]
  },
  {
   "cell_type": "code",
   "execution_count": 37,
   "metadata": {},
   "outputs": [
    {
     "name": "stdout",
     "output_type": "stream",
     "text": [
      "[2. 2. 2. 3. 4.]\n"
     ]
    }
   ],
   "source": [
    "print(np.percentile(orders_agg['orders_cnt'], [95, 96, 97, 98, 99]))"
   ]
  },
  {
   "cell_type": "markdown",
   "metadata": {},
   "source": [
    "Назначим границу для определения аномальных пользователей:\n",
    "Если пользователь совершил более двух заказов, то будем считать такой случай за аномальный. \n",
    "Так мы отсечем не более 5% от всех данных."
   ]
  },
  {
   "cell_type": "markdown",
   "metadata": {},
   "source": [
    "### Постройте точечный график стоимостей заказов. Сделайте выводы и предположения.\n"
   ]
  },
  {
   "cell_type": "code",
   "execution_count": 38,
   "metadata": {},
   "outputs": [
    {
     "data": {
      "image/png": "[encoded data removed]",
      "text/plain": [
       "<Figure size 1080x360 with 1 Axes>"
      ]
     },
     "metadata": {
      "needs_background": "light"
     },
     "output_type": "display_data"
    }
   ],
   "source": [
    "x1_values = pd.Series(range(0, len(orders['revenue'])))\n",
    "plt.figure(figsize=(15, 5))\n",
    "plt.grid()\n",
    "plt.scatter(x1_values, orders['revenue'], alpha = 0.5)\n",
    "plt.title('Точечный график стоимостей заказов с аномалиями(1)')\n",
    "plt.ylabel('Количество заказов')\n",
    "plt.xlabel('Индекс пользователя');"
   ]
  },
  {
   "cell_type": "markdown",
   "metadata": {},
   "source": [
    "На графике заметно экстремальное значение стоимости заказа, превышающее 1,2 млн и еще одно, на 200 тыс., в то время как основная масса стоимости заказов не превышает 100 тыс. Этот выброс мог оказаться решающим в успешности показателей группы В. Для того, чтобы изучить более реальные данные, необходимо избавиться от выбросов. в качестве границы отсечения экстремальных данных стоимости заказа возьмем значение 100 тыс."
   ]
  },
  {
   "cell_type": "code",
   "execution_count": 39,
   "metadata": {},
   "outputs": [
    {
     "data": {
      "image/png": "[encoded data removed]",
      "text/plain": [
       "<Figure size 1080x504 with 1 Axes>"
      ]
     },
     "metadata": {
      "needs_background": "light"
     },
     "output_type": "display_data"
    }
   ],
   "source": [
    "new_orders = orders[orders['revenue']<=100000]['revenue']\n",
    "x2_values = pd.Series(range(0, len(new_orders)))\n",
    "plt.figure(figsize=(15, 7))\n",
    "plt.grid()\n",
    "plt.scatter(x2_values, new_orders, alpha = 0.5)\n",
    "plt.title('Точечный график стоимостей заказов с аномалиями(2)')\n",
    "plt.ylabel('Количество заказов')\n",
    "plt.xlabel('Индекс пользователя');"
   ]
  },
  {
   "cell_type": "markdown",
   "metadata": {},
   "source": [
    "Теперь, в отсутствии выбросов, график выглядит совершенно иначе. Больше всего заказов  до 20 тыс. Стоимость выше 60 тысяч мы наблюдаем только у одиночных редких заказов.\n",
    "Можем отбросить суммарно до 5% аномальных данных, для этого необходимо  расчитать перцентили стоимости заказов"
   ]
  },
  {
   "cell_type": "markdown",
   "metadata": {},
   "source": [
    "### Посчитайте 95-й и 99-й перцентили стоимости заказов. Выберите границу для определения аномальных заказов.\n"
   ]
  },
  {
   "cell_type": "code",
   "execution_count": 40,
   "metadata": {},
   "outputs": [
    {
     "name": "stdout",
     "output_type": "stream",
     "text": [
      "[28000.  31382.  35485.  44133.2 58233.2]\n"
     ]
    }
   ],
   "source": [
    "print(np.percentile(orders['revenue'], [95, 96, 97, 98, 99]))"
   ]
  },
  {
   "cell_type": "markdown",
   "metadata": {},
   "source": [
    "Возьмем за границу для определения стоимости аномальных заказов значение 50 тыс - так мы избавимся приблизительно % данных."
   ]
  },
  {
   "cell_type": "markdown",
   "metadata": {},
   "source": [
    "### Посчитайте статистическую значимость различий в среднем количестве заказов на посетителя между группами по «сырым» данным. Сделайте выводы и предположения.\n"
   ]
  },
  {
   "cell_type": "code",
   "execution_count": 41,
   "metadata": {},
   "outputs": [
    {
     "data": {
      "text/html": [
       "<div>\n",
       "<style scoped>\n",
       "    .dataframe tbody tr th:only-of-type {\n",
       "        vertical-align: middle;\n",
       "    }\n",
       "\n",
       "    .dataframe tbody tr th {\n",
       "        vertical-align: top;\n",
       "    }\n",
       "\n",
       "    .dataframe thead th {\n",
       "        text-align: right;\n",
       "    }\n",
       "</style>\n",
       "<table border=\"1\" class=\"dataframe\">\n",
       "  <thead>\n",
       "    <tr style=\"text-align: right;\">\n",
       "      <th></th>\n",
       "      <th>transactionId</th>\n",
       "      <th>visitorId</th>\n",
       "      <th>date</th>\n",
       "      <th>revenue</th>\n",
       "      <th>group</th>\n",
       "    </tr>\n",
       "  </thead>\n",
       "  <tbody>\n",
       "    <tr>\n",
       "      <th>0</th>\n",
       "      <td>3667963787</td>\n",
       "      <td>3312258926</td>\n",
       "      <td>2019-08-15</td>\n",
       "      <td>1650</td>\n",
       "      <td>B</td>\n",
       "    </tr>\n",
       "    <tr>\n",
       "      <th>1</th>\n",
       "      <td>2804400009</td>\n",
       "      <td>3642806036</td>\n",
       "      <td>2019-08-15</td>\n",
       "      <td>730</td>\n",
       "      <td>B</td>\n",
       "    </tr>\n",
       "    <tr>\n",
       "      <th>2</th>\n",
       "      <td>2961555356</td>\n",
       "      <td>4069496402</td>\n",
       "      <td>2019-08-15</td>\n",
       "      <td>400</td>\n",
       "      <td>A</td>\n",
       "    </tr>\n",
       "    <tr>\n",
       "      <th>3</th>\n",
       "      <td>3797467345</td>\n",
       "      <td>1196621759</td>\n",
       "      <td>2019-08-15</td>\n",
       "      <td>9759</td>\n",
       "      <td>B</td>\n",
       "    </tr>\n",
       "    <tr>\n",
       "      <th>4</th>\n",
       "      <td>2282983706</td>\n",
       "      <td>2322279887</td>\n",
       "      <td>2019-08-15</td>\n",
       "      <td>2308</td>\n",
       "      <td>B</td>\n",
       "    </tr>\n",
       "  </tbody>\n",
       "</table>\n",
       "</div>"
      ],
      "text/plain": [
       "   transactionId   visitorId       date  revenue group\n",
       "0     3667963787  3312258926 2019-08-15     1650     B\n",
       "1     2804400009  3642806036 2019-08-15      730     B\n",
       "2     2961555356  4069496402 2019-08-15      400     A\n",
       "3     3797467345  1196621759 2019-08-15     9759     B\n",
       "4     2282983706  2322279887 2019-08-15     2308     B"
      ]
     },
     "execution_count": 41,
     "metadata": {},
     "output_type": "execute_result"
    }
   ],
   "source": [
    "orders.head(5)"
   ]
  },
  {
   "cell_type": "code",
   "execution_count": 42,
   "metadata": {},
   "outputs": [
    {
     "data": {
      "text/html": [
       "<div>\n",
       "<style scoped>\n",
       "    .dataframe tbody tr th:only-of-type {\n",
       "        vertical-align: middle;\n",
       "    }\n",
       "\n",
       "    .dataframe tbody tr th {\n",
       "        vertical-align: top;\n",
       "    }\n",
       "\n",
       "    .dataframe thead th {\n",
       "        text-align: right;\n",
       "    }\n",
       "</style>\n",
       "<table border=\"1\" class=\"dataframe\">\n",
       "  <thead>\n",
       "    <tr style=\"text-align: right;\">\n",
       "      <th></th>\n",
       "      <th>date</th>\n",
       "      <th>group</th>\n",
       "      <th>visitors</th>\n",
       "    </tr>\n",
       "  </thead>\n",
       "  <tbody>\n",
       "    <tr>\n",
       "      <th>0</th>\n",
       "      <td>2019-08-01</td>\n",
       "      <td>A</td>\n",
       "      <td>719</td>\n",
       "    </tr>\n",
       "    <tr>\n",
       "      <th>1</th>\n",
       "      <td>2019-08-02</td>\n",
       "      <td>A</td>\n",
       "      <td>619</td>\n",
       "    </tr>\n",
       "    <tr>\n",
       "      <th>2</th>\n",
       "      <td>2019-08-03</td>\n",
       "      <td>A</td>\n",
       "      <td>507</td>\n",
       "    </tr>\n",
       "    <tr>\n",
       "      <th>3</th>\n",
       "      <td>2019-08-04</td>\n",
       "      <td>A</td>\n",
       "      <td>717</td>\n",
       "    </tr>\n",
       "    <tr>\n",
       "      <th>4</th>\n",
       "      <td>2019-08-05</td>\n",
       "      <td>A</td>\n",
       "      <td>756</td>\n",
       "    </tr>\n",
       "  </tbody>\n",
       "</table>\n",
       "</div>"
      ],
      "text/plain": [
       "        date group  visitors\n",
       "0 2019-08-01     A       719\n",
       "1 2019-08-02     A       619\n",
       "2 2019-08-03     A       507\n",
       "3 2019-08-04     A       717\n",
       "4 2019-08-05     A       756"
      ]
     },
     "execution_count": 42,
     "metadata": {},
     "output_type": "execute_result"
    }
   ],
   "source": [
    "visitors.head(5)"
   ]
  },
  {
   "cell_type": "code",
   "execution_count": 43,
   "metadata": {},
   "outputs": [
    {
     "name": "stdout",
     "output_type": "stream",
     "text": [
      "        date  ordersPerDateA  revenuePerDateA  ordersPerDateB  \\\n",
      "0 2019-08-01              24           148579              21   \n",
      "1 2019-08-02              20            93822              24   \n",
      "2 2019-08-03              24           112473              16   \n",
      "3 2019-08-04              16            70825              17   \n",
      "4 2019-08-05              25           124218              23   \n",
      "\n",
      "   revenuePerDateB  ordersCummulativeA  revenueCummulativeA  \\\n",
      "0           101217                  24               148579   \n",
      "1           165531                  44               242401   \n",
      "2           114248                  68               354874   \n",
      "3           108571                  84               425699   \n",
      "4            92428                 109               549917   \n",
      "\n",
      "   ordersCummulativeB  revenueCummulativeB  visitorsPerDateA  \\\n",
      "0                  21               101217               719   \n",
      "1                  45               266748               619   \n",
      "2                  61               380996               507   \n",
      "3                  78               489567               717   \n",
      "4                 101               581995               756   \n",
      "\n",
      "   visitorsPerDateB  visitorsCummulativeA  visitorsCummulativeB  \n",
      "0               713                   719                   713  \n",
      "1               581                  1338                  1294  \n",
      "2               509                  1845                  1803  \n",
      "3               770                  2562                  2573  \n",
      "4               707                  3318                  3280  \n"
     ]
    }
   ],
   "source": [
    "#visitorsA\n",
    "visitorsADaily = visitors[visitors['group'] == 'A'][['date', 'visitors']]\n",
    "visitorsADaily.columns = ['date', 'visitorsPerDateA']\n",
    "\n",
    "visitorsACummulative = visitorsADaily.apply(\n",
    "    lambda x: visitorsADaily[visitorsADaily['date'] <= x['date']].agg(\n",
    "        {'date': 'max', 'visitorsPerDateA': 'sum'}\n",
    "    ),\n",
    "    axis=1,\n",
    ")\n",
    "visitorsACummulative.columns = ['date', 'visitorsCummulativeA']\n",
    "#visitorsB\n",
    "visitorsBDaily = visitors[visitors['group'] == 'B'][['date', 'visitors']]\n",
    "visitorsBDaily.columns = ['date', 'visitorsPerDateB']\n",
    "\n",
    "visitorsBCummulative = visitorsBDaily.apply(\n",
    "    lambda x: visitorsBDaily[visitorsBDaily['date'] <= x['date']].agg(\n",
    "        {'date': 'max', 'visitorsPerDateB': 'sum'}\n",
    "    ),\n",
    "    axis=1,\n",
    ")\n",
    "visitorsBCummulative.columns = ['date', 'visitorsCummulativeB']\n",
    "#OrdersA\n",
    "ordersADaily = (\n",
    "    orders[orders['group'] == 'A'][['date', 'transactionId', 'visitorId', 'revenue']]\n",
    "    .groupby('date', as_index=False)\n",
    "    .agg({'transactionId': pd.Series.nunique, 'revenue': 'sum'})\n",
    ")\n",
    "ordersADaily.columns = ['date', 'ordersPerDateA', 'revenuePerDateA']\n",
    "\n",
    "ordersACummulative = ordersADaily.apply(\n",
    "    lambda x: ordersADaily[ordersADaily['date'] <= x['date']].agg(\n",
    "        {'date': 'max', 'ordersPerDateA': 'sum', 'revenuePerDateA': 'sum'}\n",
    "    ),\n",
    "    axis=1,\n",
    ").sort_values(by=['date'])\n",
    "ordersACummulative.columns = [\n",
    "    'date',\n",
    "    'ordersCummulativeA',\n",
    "    'revenueCummulativeA',\n",
    "]\n",
    "#OrdersB\n",
    "ordersBDaily = (\n",
    "    orders[orders['group'] == 'B'][['date', 'transactionId', 'visitorId', 'revenue']]\n",
    "    .groupby('date', as_index=False)\n",
    "    .agg({'transactionId': pd.Series.nunique, 'revenue': 'sum'})\n",
    ")\n",
    "ordersBDaily.columns = ['date', 'ordersPerDateB', 'revenuePerDateB']\n",
    "\n",
    "ordersBCummulative = ordersBDaily.apply(\n",
    "    lambda x: ordersBDaily[ordersBDaily['date'] <= x['date']].agg(\n",
    "        {'date': 'max', 'ordersPerDateB': 'sum', 'revenuePerDateB': 'sum'}\n",
    "    ),\n",
    "    axis=1,\n",
    ").sort_values(by=['date'])\n",
    "ordersBCummulative.columns = [\n",
    "    'date',\n",
    "    'ordersCummulativeB',\n",
    "    'revenueCummulativeB',\n",
    "]\n",
    "\n",
    "data = (\n",
    "    ordersADaily.merge(\n",
    "        ordersBDaily, left_on='date', right_on='date', how='left'\n",
    "    )\n",
    "    .merge(ordersACummulative, left_on='date', right_on='date', how='left')\n",
    "    .merge(ordersBCummulative, left_on='date', right_on='date', how='left')\n",
    "    .merge(visitorsADaily, left_on='date', right_on='date', how='left')\n",
    "    .merge(visitorsBDaily, left_on='date', right_on='date', how='left')\n",
    "    .merge(visitorsACummulative, left_on='date', right_on='date', how='left')\n",
    "    .merge(visitorsBCummulative, left_on='date', right_on='date', how='left')\n",
    ")\n",
    "\n",
    "print(data.head(5)) "
   ]
  },
  {
   "cell_type": "markdown",
   "metadata": {},
   "source": [
    "Названия столбцов данных:\n",
    "\n",
    "date — дата;\\\n",
    "ordersPerDateA — количество заказов в выбранную дату в группе A;\\\n",
    "revenuePerDateA — суммарная выручка в выбранную дату в группе A;\\\n",
    "ordersPerDateB — количество заказов в выбранную дату в группе B;\\\n",
    "revenuePerDateB — суммарная выручка в выбранную дату в группе B;\\\n",
    "ordersCummulativeA — суммарное число заказов до выбранной даты включительно в группе A;\\\n",
    "revenueCummulativeA — суммарная выручка до выбранной даты включительно в группе A;\\\n",
    "ordersCummulativeB — суммарное количество заказов до выбранной даты включительно в группе B;\\\n",
    "revenueCummulativeB — суммарная выручка до выбранной даты включительно в группе B;\\\n",
    "visitorsPerDateA — количество пользователей в выбранную дату в группе A;\\\n",
    "visitorsPerDateB — количество пользователей в выбранную дату в группе B;\\\n",
    "visitorsCummulativeA — количество пользователей до выбранной даты включительно в группе A;\\\n",
    "visitorsCummulativeB — количество пользователей до выбранной даты включительно в группе B.\\\n",
    "Посчитаем статистическую значимость различия в среднем количестве заказов между группами."
   ]
  },
  {
   "cell_type": "code",
   "execution_count": 44,
   "metadata": {},
   "outputs": [],
   "source": [
    "#Создадим переменные ordersByUsersA и ordersByUsersB со столбцами ['userId', 'orders']. \n",
    "#В них для пользователей, которые заказывали хотя бы 1 раз, укажем число совершённых заказов. \n",
    "ordersByUsersA = (\n",
    "    orders[orders['group'] == 'A']\n",
    "    .groupby('visitorId', as_index=False)\n",
    "    .agg({'transactionId': pd.Series.nunique})\n",
    ")\n",
    "ordersByUsersA.columns = ['visitorId', 'orders']\n",
    "\n",
    "ordersByUsersB = (\n",
    "    orders[orders['group'] == 'B']\n",
    "    .groupby('visitorId', as_index=False)\n",
    "    .agg({'transactionId': pd.Series.nunique})\n",
    ")\n",
    "ordersByUsersB.columns =  ['visitorId', 'orders']\n"
   ]
  },
  {
   "cell_type": "code",
   "execution_count": 45,
   "metadata": {},
   "outputs": [],
   "source": [
    "sampleA = pd.concat([ordersByUsersA['orders'],pd.Series(0, index=np.arange(data['visitorsPerDateA'].sum() - len(ordersByUsersA['orders'])), name='orders')],axis=0)\n",
    "\n",
    "sampleB = pd.concat([ordersByUsersB['orders'],pd.Series(0, index=np.arange(data['visitorsPerDateB'].sum() - len(ordersByUsersB['orders'])), name='orders')],axis=0)"
   ]
  },
  {
   "cell_type": "code",
   "execution_count": 46,
   "metadata": {},
   "outputs": [],
   "source": [
    "ordersByUsersA = (\n",
    "    orders[orders['group'] == 'A']\n",
    "    .groupby('visitorId', as_index=False)\n",
    "    .agg({'transactionId': pd.Series.nunique})\n",
    ")\n",
    "ordersByUsersA.columns = ['userId', 'orders']\n",
    "\n",
    "ordersByUsersB = (\n",
    "    orders[orders['group'] == 'B']\n",
    "    .groupby('visitorId', as_index=False)\n",
    "    .agg({'transactionId': pd.Series.nunique})\n",
    ")\n",
    "ordersByUsersB.columns = ['userId', 'orders']\n",
    "\n",
    "sampleA = pd.concat(\n",
    "    [\n",
    "        ordersByUsersA['orders'],\n",
    "        pd.Series(\n",
    "            0,\n",
    "            index=np.arange(\n",
    "                data['visitorsPerDateA'].sum() - len(ordersByUsersA['orders'])\n",
    "            ),\n",
    "            name='orders',\n",
    "        ),\n",
    "    ],\n",
    "    axis=0,\n",
    ")\n",
    "\n",
    "sampleB = pd.concat(\n",
    "    [\n",
    "        ordersByUsersB['orders'],\n",
    "        pd.Series(\n",
    "            0,\n",
    "            index=np.arange(\n",
    "                data['visitorsPerDateB'].sum() - len(ordersByUsersB['orders'])\n",
    "            ),\n",
    "            name='orders',\n",
    "        ),\n",
    "    ],\n",
    "    axis=0,\n",
    ")\n"
   ]
  },
  {
   "cell_type": "markdown",
   "metadata": {},
   "source": [
    "Сформулируем нулевую и альтернативную гипотезы о различии в среднем количестве заказов на посетителя между группами по «сырым» данным:\n",
    "\n",
    "Н0: Среднее количество заказов на посетителя между группами (по \"сырым\" данным) не имеет статистически значимых  различий.\n",
    "Н1: Среднее количество заказов на посетителя между группами (по \"сырым\" данным) имеет статистически значимое различия.\n",
    "\n",
    "Уровень значимости α=0.05"
   ]
  },
  {
   "cell_type": "markdown",
   "metadata": {},
   "source": [
    "Посчитаем статистическую значимость различия среднего количества заказов по результатам теста.\\\n",
    "Применим тест Манна-Уитни. "
   ]
  },
  {
   "cell_type": "code",
   "execution_count": 47,
   "metadata": {},
   "outputs": [
    {
     "name": "stdout",
     "output_type": "stream",
     "text": [
      "p-value = 0.017\n",
      "Относительный прирост В = 0.138\n"
     ]
    }
   ],
   "source": [
    "# p-value для сравнения среднего между группами\n",
    "print(\"p-value = {0:.3f}\".format(stats.mannwhitneyu(sampleA, sampleB)[1]))\n",
    "# относительное различие в среднем между группами\n",
    "print(\"Относительный прирост В = {0:.3f}\".format(sampleB.mean() / sampleA.mean() - 1))\n",
    " "
   ]
  },
  {
   "cell_type": "markdown",
   "metadata": {},
   "source": [
    "p_value=0.017, или 1.7%\\\n",
    "Заданный уровень статистической значимости α=0.05 или 5%\\\n",
    "Следовательно, p_value < α.\\\n",
    "На имеющихся данных, на уровне значимости 5% (уровне доверия 95%) есть основания отвергнуть нулевую гипотезу в пользу альтернативной.\n",
    "Соответственно, можно утверждать, что:\\\n",
    "\"Среднее количество заказов на посетителя между группами (по \"сырым\" данным) имеет статистически значимое различия\".\\\n",
    "Относительный прирост группы В по среднему количеству заказов на посетителя составил 13.8%"
   ]
  },
  {
   "cell_type": "markdown",
   "metadata": {},
   "source": [
    "### Посчитайте статистическую значимость различий в среднем чеке заказа между группами по «сырым» данным. Сделайте выводы и предположения.\n"
   ]
  },
  {
   "cell_type": "markdown",
   "metadata": {},
   "source": [
    "Сформулируем нулевую и альтернативную гипотезы о различии в среднем чеке заказа между группами по «сырым» данным.\\\n",
    "Н0:Статистически значимых различий в средних чеках между группами нет.\\\n",
    "Н1:Есть статистически значимые различия в средних чеках между группами.\n",
    "\n",
    "Уровень значимости альфа α=0.05"
   ]
  },
  {
   "cell_type": "code",
   "execution_count": 48,
   "metadata": {},
   "outputs": [
    {
     "name": "stdout",
     "output_type": "stream",
     "text": [
      "p-value = 0.729\n",
      "Относительный прирост В = 0.259\n"
     ]
    }
   ],
   "source": [
    "#p-value для сравнения средних чеков между группами:\n",
    "print('p-value = {0:.3f}'.format(stats.mannwhitneyu(orders[orders['group']=='A']['revenue'], orders[orders['group']=='B']['revenue'])[1]))\n",
    "# относительный прирост среднего чека группы B\n",
    "print('Относительный прирост В = {0:.3f}'.format(orders[orders['group']=='B']['revenue'].mean()/orders[orders['group']=='A']['revenue'].mean()-1)) "
   ]
  },
  {
   "cell_type": "markdown",
   "metadata": {},
   "source": [
    "p_value=0.729, или 72.9%\n",
    "Заданный уровень статистической значимости α=0.05 или 5%\\\n",
    "Следовательно, p_value > α.\\\n",
    "На имеющихся данных, на уровне значимости 5% (уровне доверия 95%) нет оснований для отвержения нулевой гипотезы в пользу альтернативной.\\\n",
    "Соответственно, не получилось отвергнуть нулевую гипотезу об отсутствии статистически значимых различий в средних чеках между группами. Разница между выборками имеет случайный характер.\n",
    "\n",
    "Относительное различие среднего чека меду сегментами 25.9%\n"
   ]
  },
  {
   "cell_type": "markdown",
   "metadata": {},
   "source": [
    "### Посчитайте статистическую значимость различий в среднем количестве заказов на посетителя между группами по «очищенным» данным. Сделайте выводы и предположения.\n"
   ]
  },
  {
   "cell_type": "markdown",
   "metadata": {},
   "source": [
    "В таблице abnormalUsers объединим пользователей с числом заказов больше 3 — usersWithManyOrders и пользователей, совершивших заказы дороже 40 000 — usersWithExpensiveOrders."
   ]
  },
  {
   "cell_type": "code",
   "execution_count": 49,
   "metadata": {},
   "outputs": [
    {
     "name": "stdout",
     "output_type": "stream",
     "text": [
      "1099    148427295\n",
      "18      199603092\n",
      "23      237748145\n",
      "37      249864742\n",
      "68      457167155\n",
      "dtype: int64\n"
     ]
    },
    {
     "data": {
      "text/plain": [
       "37"
      ]
     },
     "execution_count": 49,
     "metadata": {},
     "output_type": "execute_result"
    }
   ],
   "source": [
    "usersWithManyOrders = pd.concat(\n",
    "    [\n",
    "        ordersByUsersA[ordersByUsersA['orders'] > 2]['userId'],\n",
    "        ordersByUsersB[ordersByUsersB['orders'] > 2]['userId'],\n",
    "    ],\n",
    "    axis=0,\n",
    ")\n",
    "usersWithExpensiveOrders = orders[orders['revenue'] > 50000]['visitorId']\n",
    "abnormalUsers = (\n",
    "    pd.concat([usersWithManyOrders, usersWithExpensiveOrders], axis=0)\n",
    "    .drop_duplicates()\n",
    "    .sort_values()\n",
    ")\n",
    "print(abnormalUsers.head(5))\n",
    "abnormalUsers.shape[0]"
   ]
  },
  {
   "cell_type": "markdown",
   "metadata": {},
   "source": [
    "Всего 37 аномальных значений."
   ]
  },
  {
   "cell_type": "markdown",
   "metadata": {},
   "source": [
    "Сформулируем нулевую и альтернативную гипотезы о наличии статистически значимых различий в среднем количестве заказов на посетителя между группами по «очищенным» данным.\n",
    "Н0:Статистически значимых различий в среднем количестве заказов на посетителя между группами нет.\n",
    "Н1:Есть статистически значимые различия в среднем количестве заказов на посетителя между группами.\n",
    "\n",
    "Уровень значимости альфа α=0.05"
   ]
  },
  {
   "cell_type": "code",
   "execution_count": 50,
   "metadata": {},
   "outputs": [],
   "source": [
    "sampleAFiltered = pd.concat(\n",
    "    [\n",
    "        ordersByUsersA[\n",
    "            np.logical_not(ordersByUsersA['userId'].isin(abnormalUsers))\n",
    "        ]['orders'],\n",
    "        pd.Series(\n",
    "            0,\n",
    "            index=np.arange(\n",
    "                data['visitorsPerDateA'].sum() - len(ordersByUsersA['orders'])\n",
    "            ),\n",
    "            name='orders',\n",
    "        ),\n",
    "    ],\n",
    "    axis=0,\n",
    ")\n",
    "\n",
    "sampleBFiltered = pd.concat(\n",
    "    [\n",
    "        ordersByUsersB[\n",
    "            np.logical_not(ordersByUsersB['userId'].isin(abnormalUsers))\n",
    "        ]['orders'],\n",
    "        pd.Series(\n",
    "            0,\n",
    "            index=np.arange(\n",
    "                data['visitorsPerDateB'].sum() - len(ordersByUsersB['orders'])\n",
    "            ),\n",
    "            name='orders',\n",
    "        ),\n",
    "    ],\n",
    "    axis=0,\n",
    ") "
   ]
  },
  {
   "cell_type": "code",
   "execution_count": 51,
   "metadata": {},
   "outputs": [
    {
     "name": "stdout",
     "output_type": "stream",
     "text": [
      "p-value = 0.00821\n",
      "Относительный прирост В = 0.182\n"
     ]
    }
   ],
   "source": [
    "#p-value для сравнения среднего между очищенными группами.\n",
    "print('p-value = {0:.5f}'.format(stats.mannwhitneyu(sampleAFiltered, sampleBFiltered)[1]))\n",
    "\n",
    "#относительный прирост среднего очищенной группы B\n",
    "print('Относительный прирост В = {0:.3f}'.format(sampleBFiltered.mean()/sampleAFiltered.mean()-1)) "
   ]
  },
  {
   "cell_type": "markdown",
   "metadata": {},
   "source": [
    "p_value=0.008, или 0.8%\\\n",
    "Заданный уровень статистической значимости α=0.05 или 5%\\\n",
    "Следовательно, p_value < α.\\\n",
    "На имеющихся данных, на уровне значимости 5% (уровне доверия 95%) есть основания отвергнуть нулевую гипотезу в пользу альтернативной.\n",
    "Соответственно, можно утверждать, что:\\\n",
    "\"Среднее количество заказов на посетителя между группами (по \"очищенным\" данным) имеет статистически значимое различие\".\\\n",
    "Относительный прирост группы В по среднему количеству заказов на посетителя составил 18.2%\n",
    "Результаты по сравнению среднего (на сырых данных по сравнению с очищенными) значимо не изменились, выводы остаются те же.\\\n",
    "На очищенных данных, по сравнению с сырыми, p_value уменьшился с 1.7% до 0.8% \n",
    "Проигрыш группы A на очищенных данных немного увеличился 18.2% против 13.8% на сырых"
   ]
  },
  {
   "cell_type": "markdown",
   "metadata": {},
   "source": [
    "### Посчитайте статистическую значимость различий в среднем чеке заказа между группами по «очищенным» данным. Сделайте выводы и предположения.\n"
   ]
  },
  {
   "cell_type": "markdown",
   "metadata": {},
   "source": [
    "Сформулируем нулевую и альтернативную гипотезы о различии в среднем чеке заказа между группами по «очищенным» данным.\n",
    "Н0:Статистически значимых различий в средних чеках между группами нет.\n",
    "Н1:Есть статистически значимые различия в средних чеках между группами.\n",
    "\n",
    "Уровень значимости альфа α=0.05"
   ]
  },
  {
   "cell_type": "code",
   "execution_count": 52,
   "metadata": {},
   "outputs": [
    {
     "name": "stdout",
     "output_type": "stream",
     "text": [
      "p-value = 0.940\n",
      "Относительный прирост В = 0.019\n"
     ]
    }
   ],
   "source": [
    "# p-value для сравнения средних чеков между очищенными группами. \n",
    "print(\n",
    "    'p-value = {0:.3f}'.format(\n",
    "        stats.mannwhitneyu(\n",
    "            orders[\n",
    "                np.logical_and(\n",
    "                    orders['group'] == 'A',\n",
    "                    np.logical_not(orders['visitorId'].isin(abnormalUsers)),\n",
    "                )\n",
    "            ]['revenue'],\n",
    "            orders[\n",
    "                np.logical_and(\n",
    "                    orders['group'] == 'B',\n",
    "                    np.logical_not(orders['visitorId'].isin(abnormalUsers)),\n",
    "                )\n",
    "            ]['revenue'],\n",
    "        )[1]\n",
    "    )\n",
    ")\n",
    "\n",
    "#относительный прирост среднего чека очищенной группы B\n",
    "\n",
    "print(\n",
    "    \"Относительный прирост В = {0:.3f}\".format(\n",
    "        orders[\n",
    "            np.logical_and(\n",
    "                orders['group'] == 'B',\n",
    "                np.logical_not(orders['visitorId'].isin(abnormalUsers)),\n",
    "            )\n",
    "        ]['revenue'].mean()\n",
    "        / orders[\n",
    "            np.logical_and(\n",
    "                orders['group'] == 'A',\n",
    "                np.logical_not(orders['visitorId'].isin(abnormalUsers)),\n",
    "            )\n",
    "        ]['revenue'].mean()\n",
    "        - 1\n",
    "    )\n",
    ") "
   ]
  },
  {
   "cell_type": "markdown",
   "metadata": {},
   "source": [
    "p_value=0.94, или 94.0% Заданный уровень статистической значимости α=0.05 или 5%\n",
    "Следовательно, p_value > α.\n",
    "На имеющихся данных, на уровне значимости 5% (уровне доверия 95%) нет оснований для отвержения нулевой гипотезы в пользу альтернативной.\n",
    "Соответственно, не получилось отвергнуть нулевую гипотезу об отсутствии статистически значимых различий в средних чеках между группами. Разница между выборками имеет случайный характер.\n",
    "\n",
    "На очищенных данных, по сравнению с сырыми, p_value увеличился с 72.9% до 94.0% Проигрыш группы A на очищенных данных уменьшился 1.9% против 25.9% на сырых"
   ]
  },
  {
   "cell_type": "markdown",
   "metadata": {},
   "source": [
    "### Примите решение по результатам теста и объясните его. Варианты решений:\n",
    "1. Остановить тест, зафиксировать победу одной из групп.\n",
    "2. Остановить тест, зафиксировать отсутствие различий между группами.\n",
    "3. Продолжить тест."
   ]
  },
  {
   "cell_type": "markdown",
   "metadata": {},
   "source": [
    "По графикам:\\\n",
    "Кумулятивная выручка росла равномерно в течение всего рассматриваемого периода в группе А, в группе В наблюдали скачок за период между 2019-08-17 и 2019-08-21.\\\n",
    "График кумулятивного среднего чека по группам и  точечный график стоимостей заказов позволил нам обнаружить аномалии в данных. Позже, при помощи точечного графика стоимостей заказов мы окончательно убедились в их наличии.\n",
    "график кумулятивного среднего количества заказов на посетителя по группам сообщает, что результаты группы B лучше группы A после первой недели теста."
   ]
  },
  {
   "cell_type": "markdown",
   "metadata": {},
   "source": [
    "**Посчитали статистическую значимость различий в среднем количестве заказов на посетителя между группами по «сырым» и «очищенным» данным:**\n",
    "\n",
    "Аномалии особо не повлияли на статистическую значимость. \n",
    "Есть статистически значимое различие по среднему количеству заказов между группами и по «сырым» и по \"обработанным\" даннымю По очищенным данным p_value уменьшился с 1.7% до 0.8%\n",
    "Относительный прирост группы В к группе А увеличился с 13.8% до 18.2%\n",
    "\n",
    "**Посчитали статистическую значимость различий в среднем чеке заказа между группами по  «сырым» и «очищенным» данным:**\n",
    "\n",
    "Статистической разницы по среднему чеку между группами ни по \"очищенным\" ни по \"сырым\" данным нет. p_value увеличился с 72.9% до 94.0%\n",
    "Относительный прирост группы В к группе А уменьшился с 25.9% до 1.9% - на данном показателе больше всего сказалось влияние аномальных данных."
   ]
  },
  {
   "cell_type": "markdown",
   "metadata": {},
   "source": [
    "Исходя из вышеперечисленных причин, тест следует остановить и признать успешным.\n",
    "Признаем победу группы В по среднему количеству заказов на посетителя, при том, что по среднему чеку группы А И В не имеют различий."
   ]
  }
 ],
 "metadata": {
  "ExecuteTimeLog": [
   {
    "duration": 46,
    "start_time": "2023-07-09T22:37:47.726Z"
   },
   {
    "duration": 1346,
    "start_time": "2023-07-09T22:40:27.837Z"
   },
   {
    "duration": 74,
    "start_time": "2023-07-09T22:40:30.076Z"
   },
   {
    "duration": 64,
    "start_time": "2023-07-09T22:40:45.466Z"
   },
   {
    "duration": 9,
    "start_time": "2023-07-09T22:40:56.734Z"
   },
   {
    "duration": 12,
    "start_time": "2023-07-09T22:41:00.827Z"
   },
   {
    "duration": 200,
    "start_time": "2023-07-09T22:41:51.489Z"
   },
   {
    "duration": 12,
    "start_time": "2023-07-09T22:42:13.574Z"
   },
   {
    "duration": 10,
    "start_time": "2023-07-09T22:42:18.135Z"
   },
   {
    "duration": 16,
    "start_time": "2023-07-09T22:42:50.619Z"
   },
   {
    "duration": 12,
    "start_time": "2023-07-09T22:43:22.942Z"
   },
   {
    "duration": 16,
    "start_time": "2023-07-09T22:43:23.885Z"
   },
   {
    "duration": 13,
    "start_time": "2023-07-09T22:43:57.631Z"
   },
   {
    "duration": 12,
    "start_time": "2023-07-09T22:44:54.086Z"
   },
   {
    "duration": 46,
    "start_time": "2023-07-10T20:33:15.123Z"
   },
   {
    "duration": 1278,
    "start_time": "2023-07-10T20:33:19.992Z"
   },
   {
    "duration": 190,
    "start_time": "2023-07-10T20:33:21.272Z"
   },
   {
    "duration": 12,
    "start_time": "2023-07-10T20:33:21.464Z"
   },
   {
    "duration": 13,
    "start_time": "2023-07-10T20:33:21.479Z"
   },
   {
    "duration": 69,
    "start_time": "2023-07-10T20:33:21.494Z"
   },
   {
    "duration": 1,
    "start_time": "2023-07-10T20:33:21.564Z"
   },
   {
    "duration": 0,
    "start_time": "2023-07-10T20:33:21.566Z"
   },
   {
    "duration": 0,
    "start_time": "2023-07-10T20:33:21.568Z"
   },
   {
    "duration": 0,
    "start_time": "2023-07-10T20:33:21.569Z"
   },
   {
    "duration": 8,
    "start_time": "2023-07-10T20:34:08.242Z"
   },
   {
    "duration": 5,
    "start_time": "2023-07-10T20:34:58.541Z"
   },
   {
    "duration": 76,
    "start_time": "2023-07-10T20:34:58.601Z"
   },
   {
    "duration": 8,
    "start_time": "2023-07-10T20:34:58.680Z"
   },
   {
    "duration": 19,
    "start_time": "2023-07-10T20:34:58.690Z"
   },
   {
    "duration": 12,
    "start_time": "2023-07-10T20:34:58.714Z"
   },
   {
    "duration": 16,
    "start_time": "2023-07-10T20:34:58.729Z"
   },
   {
    "duration": 22,
    "start_time": "2023-07-10T20:34:58.747Z"
   },
   {
    "duration": 18,
    "start_time": "2023-07-10T20:34:58.771Z"
   },
   {
    "duration": 19,
    "start_time": "2023-07-10T20:34:58.791Z"
   },
   {
    "duration": 5,
    "start_time": "2023-07-10T20:35:13.422Z"
   },
   {
    "duration": 7,
    "start_time": "2023-07-10T20:35:29.088Z"
   },
   {
    "duration": 76,
    "start_time": "2023-07-10T20:41:51.668Z"
   },
   {
    "duration": 417,
    "start_time": "2023-07-10T20:42:21.031Z"
   },
   {
    "duration": 82,
    "start_time": "2023-07-10T20:42:43.854Z"
   },
   {
    "duration": 338,
    "start_time": "2023-07-10T20:43:08.351Z"
   },
   {
    "duration": 7,
    "start_time": "2023-07-10T20:43:35.934Z"
   },
   {
    "duration": 10,
    "start_time": "2023-07-10T20:43:46.246Z"
   },
   {
    "duration": 325,
    "start_time": "2023-07-10T20:44:06.186Z"
   },
   {
    "duration": 370,
    "start_time": "2023-07-10T20:44:18.801Z"
   },
   {
    "duration": 326,
    "start_time": "2023-07-10T20:44:26.802Z"
   },
   {
    "duration": 400,
    "start_time": "2023-07-10T20:44:40.415Z"
   },
   {
    "duration": 5,
    "start_time": "2023-07-10T20:44:43.605Z"
   },
   {
    "duration": 79,
    "start_time": "2023-07-10T20:44:43.612Z"
   },
   {
    "duration": 9,
    "start_time": "2023-07-10T20:44:43.692Z"
   },
   {
    "duration": 20,
    "start_time": "2023-07-10T20:44:43.704Z"
   },
   {
    "duration": 11,
    "start_time": "2023-07-10T20:44:43.725Z"
   },
   {
    "duration": 10,
    "start_time": "2023-07-10T20:44:43.737Z"
   },
   {
    "duration": 12,
    "start_time": "2023-07-10T20:44:43.748Z"
   },
   {
    "duration": 19,
    "start_time": "2023-07-10T20:44:43.761Z"
   },
   {
    "duration": 9,
    "start_time": "2023-07-10T20:44:43.783Z"
   },
   {
    "duration": 14,
    "start_time": "2023-07-10T20:44:43.794Z"
   },
   {
    "duration": 10,
    "start_time": "2023-07-10T20:44:43.810Z"
   },
   {
    "duration": 7,
    "start_time": "2023-07-10T20:44:43.822Z"
   },
   {
    "duration": 25,
    "start_time": "2023-07-10T20:44:43.831Z"
   },
   {
    "duration": 12,
    "start_time": "2023-07-10T20:46:15.606Z"
   },
   {
    "duration": 11,
    "start_time": "2023-07-10T20:46:23.104Z"
   },
   {
    "duration": 6,
    "start_time": "2023-07-10T20:58:33.436Z"
   },
   {
    "duration": 89,
    "start_time": "2023-07-10T20:59:35.800Z"
   },
   {
    "duration": 9872,
    "start_time": "2023-07-10T21:00:09.729Z"
   },
   {
    "duration": 93,
    "start_time": "2023-07-10T21:00:59.245Z"
   },
   {
    "duration": 123,
    "start_time": "2023-07-10T21:01:04.166Z"
   },
   {
    "duration": 4,
    "start_time": "2023-07-10T21:01:10.368Z"
   },
   {
    "duration": 7,
    "start_time": "2023-07-10T21:01:27.456Z"
   },
   {
    "duration": 22,
    "start_time": "2023-07-10T21:02:00.923Z"
   },
   {
    "duration": 10,
    "start_time": "2023-07-10T21:02:31.692Z"
   },
   {
    "duration": 9,
    "start_time": "2023-07-10T21:02:44.748Z"
   },
   {
    "duration": 7,
    "start_time": "2023-07-10T21:02:49.541Z"
   },
   {
    "duration": 8,
    "start_time": "2023-07-10T21:02:53.496Z"
   },
   {
    "duration": 3,
    "start_time": "2023-07-10T21:05:26.595Z"
   },
   {
    "duration": 10,
    "start_time": "2023-07-10T21:05:29.199Z"
   },
   {
    "duration": 3,
    "start_time": "2023-07-10T21:15:26.243Z"
   },
   {
    "duration": 90,
    "start_time": "2023-07-10T21:15:26.251Z"
   },
   {
    "duration": 2,
    "start_time": "2023-07-10T21:15:26.343Z"
   },
   {
    "duration": 14,
    "start_time": "2023-07-10T21:15:26.346Z"
   },
   {
    "duration": 13,
    "start_time": "2023-07-10T21:15:26.361Z"
   },
   {
    "duration": 12,
    "start_time": "2023-07-10T21:15:26.377Z"
   },
   {
    "duration": 11,
    "start_time": "2023-07-10T21:15:26.391Z"
   },
   {
    "duration": 20,
    "start_time": "2023-07-10T21:15:26.403Z"
   },
   {
    "duration": 7,
    "start_time": "2023-07-10T21:15:26.425Z"
   },
   {
    "duration": 21,
    "start_time": "2023-07-10T21:15:26.434Z"
   },
   {
    "duration": 8,
    "start_time": "2023-07-10T21:15:26.456Z"
   },
   {
    "duration": 13,
    "start_time": "2023-07-10T21:15:26.465Z"
   },
   {
    "duration": 8,
    "start_time": "2023-07-10T21:15:26.480Z"
   },
   {
    "duration": 9,
    "start_time": "2023-07-10T21:15:26.489Z"
   },
   {
    "duration": 19,
    "start_time": "2023-07-10T21:15:26.500Z"
   },
   {
    "duration": 19,
    "start_time": "2023-07-10T21:15:26.521Z"
   },
   {
    "duration": 3,
    "start_time": "2023-07-10T21:21:45.306Z"
   },
   {
    "duration": 79,
    "start_time": "2023-07-10T21:22:51.956Z"
   },
   {
    "duration": 4,
    "start_time": "2023-07-10T21:24:56.096Z"
   },
   {
    "duration": 8,
    "start_time": "2023-07-10T21:25:02.813Z"
   },
   {
    "duration": 5,
    "start_time": "2023-07-10T21:26:01.823Z"
   },
   {
    "duration": 13,
    "start_time": "2023-07-10T21:27:34.299Z"
   },
   {
    "duration": 4,
    "start_time": "2023-07-10T21:28:09.611Z"
   },
   {
    "duration": 7,
    "start_time": "2023-07-10T21:28:14.177Z"
   },
   {
    "duration": 4,
    "start_time": "2023-07-10T21:47:02.282Z"
   },
   {
    "duration": 89,
    "start_time": "2023-07-10T21:47:02.288Z"
   },
   {
    "duration": 3,
    "start_time": "2023-07-10T21:47:02.379Z"
   },
   {
    "duration": 20,
    "start_time": "2023-07-10T21:47:02.384Z"
   },
   {
    "duration": 20,
    "start_time": "2023-07-10T21:47:02.407Z"
   },
   {
    "duration": 33,
    "start_time": "2023-07-10T21:47:02.429Z"
   },
   {
    "duration": 22,
    "start_time": "2023-07-10T21:47:02.463Z"
   },
   {
    "duration": 15,
    "start_time": "2023-07-10T21:47:02.487Z"
   },
   {
    "duration": 12,
    "start_time": "2023-07-10T21:47:02.504Z"
   },
   {
    "duration": 14,
    "start_time": "2023-07-10T21:47:02.517Z"
   },
   {
    "duration": 17,
    "start_time": "2023-07-10T21:47:02.534Z"
   },
   {
    "duration": 24,
    "start_time": "2023-07-10T21:47:02.553Z"
   },
   {
    "duration": 17,
    "start_time": "2023-07-10T21:47:02.578Z"
   },
   {
    "duration": 9,
    "start_time": "2023-07-10T21:47:02.597Z"
   },
   {
    "duration": 7,
    "start_time": "2023-07-10T21:47:02.607Z"
   },
   {
    "duration": 9,
    "start_time": "2023-07-10T21:47:02.615Z"
   },
   {
    "duration": 12,
    "start_time": "2023-07-10T21:47:02.626Z"
   },
   {
    "duration": 28,
    "start_time": "2023-07-10T21:47:02.639Z"
   },
   {
    "duration": 1365,
    "start_time": "2023-07-13T17:27:13.116Z"
   },
   {
    "duration": 123,
    "start_time": "2023-07-13T17:28:25.176Z"
   },
   {
    "duration": 4,
    "start_time": "2023-07-13T17:28:29.775Z"
   },
   {
    "duration": 209,
    "start_time": "2023-07-13T17:28:29.784Z"
   },
   {
    "duration": 3,
    "start_time": "2023-07-13T17:28:29.995Z"
   },
   {
    "duration": 72,
    "start_time": "2023-07-13T17:28:30.000Z"
   },
   {
    "duration": 68,
    "start_time": "2023-07-13T17:28:30.074Z"
   },
   {
    "duration": 66,
    "start_time": "2023-07-13T17:28:30.145Z"
   },
   {
    "duration": 23,
    "start_time": "2023-07-13T17:28:30.213Z"
   },
   {
    "duration": 53,
    "start_time": "2023-07-13T17:28:30.238Z"
   },
   {
    "duration": 133,
    "start_time": "2023-07-13T17:28:30.293Z"
   },
   {
    "duration": 65,
    "start_time": "2023-07-13T17:28:30.428Z"
   },
   {
    "duration": 75,
    "start_time": "2023-07-13T17:28:30.495Z"
   },
   {
    "duration": 77,
    "start_time": "2023-07-13T17:28:30.573Z"
   },
   {
    "duration": 74,
    "start_time": "2023-07-13T17:28:30.652Z"
   },
   {
    "duration": 41,
    "start_time": "2023-07-13T17:28:30.727Z"
   },
   {
    "duration": 40,
    "start_time": "2023-07-13T17:28:30.771Z"
   },
   {
    "duration": 40,
    "start_time": "2023-07-13T17:28:30.813Z"
   },
   {
    "duration": 71,
    "start_time": "2023-07-13T17:28:30.855Z"
   },
   {
    "duration": 44,
    "start_time": "2023-07-13T17:28:30.928Z"
   },
   {
    "duration": 69,
    "start_time": "2023-07-13T17:28:30.973Z"
   },
   {
    "duration": 12,
    "start_time": "2023-07-13T17:28:49.608Z"
   },
   {
    "duration": 9,
    "start_time": "2023-07-13T17:28:54.670Z"
   },
   {
    "duration": 1351,
    "start_time": "2023-07-14T16:41:57.503Z"
   },
   {
    "duration": 198,
    "start_time": "2023-07-14T16:41:58.856Z"
   },
   {
    "duration": 4,
    "start_time": "2023-07-14T16:41:59.056Z"
   },
   {
    "duration": 12,
    "start_time": "2023-07-14T16:41:59.062Z"
   },
   {
    "duration": 17,
    "start_time": "2023-07-14T16:41:59.076Z"
   },
   {
    "duration": 17,
    "start_time": "2023-07-14T16:41:59.094Z"
   },
   {
    "duration": 11,
    "start_time": "2023-07-14T16:41:59.113Z"
   },
   {
    "duration": 31,
    "start_time": "2023-07-14T16:41:59.125Z"
   },
   {
    "duration": 16,
    "start_time": "2023-07-14T16:41:59.158Z"
   },
   {
    "duration": 24,
    "start_time": "2023-07-14T16:41:59.176Z"
   },
   {
    "duration": 15,
    "start_time": "2023-07-14T16:41:59.201Z"
   },
   {
    "duration": 24,
    "start_time": "2023-07-14T16:41:59.218Z"
   },
   {
    "duration": 7,
    "start_time": "2023-07-14T16:41:59.244Z"
   },
   {
    "duration": 15,
    "start_time": "2023-07-14T16:41:59.253Z"
   },
   {
    "duration": 15,
    "start_time": "2023-07-14T16:41:59.270Z"
   },
   {
    "duration": 12,
    "start_time": "2023-07-14T16:41:59.286Z"
   },
   {
    "duration": 19,
    "start_time": "2023-07-14T16:41:59.299Z"
   },
   {
    "duration": 40,
    "start_time": "2023-07-14T16:41:59.320Z"
   },
   {
    "duration": 25,
    "start_time": "2023-07-14T16:41:59.361Z"
   },
   {
    "duration": 28,
    "start_time": "2023-07-14T16:41:59.387Z"
   },
   {
    "duration": 126,
    "start_time": "2023-07-14T16:41:59.416Z"
   },
   {
    "duration": 174,
    "start_time": "2023-07-14T16:43:23.881Z"
   },
   {
    "duration": 122,
    "start_time": "2023-07-14T16:45:55.833Z"
   },
   {
    "duration": 8,
    "start_time": "2023-07-14T17:12:44.192Z"
   },
   {
    "duration": 9,
    "start_time": "2023-07-14T17:12:56.552Z"
   },
   {
    "duration": 6,
    "start_time": "2023-07-14T17:13:13.279Z"
   },
   {
    "duration": 9,
    "start_time": "2023-07-14T17:13:14.152Z"
   },
   {
    "duration": 7,
    "start_time": "2023-07-14T17:14:33.291Z"
   },
   {
    "duration": 9,
    "start_time": "2023-07-14T17:14:35.545Z"
   },
   {
    "duration": 6,
    "start_time": "2023-07-14T17:14:46.661Z"
   },
   {
    "duration": 10,
    "start_time": "2023-07-14T17:14:47.304Z"
   },
   {
    "duration": 7,
    "start_time": "2023-07-14T17:14:57.517Z"
   },
   {
    "duration": 9,
    "start_time": "2023-07-14T17:14:58.048Z"
   },
   {
    "duration": 256,
    "start_time": "2023-07-14T17:19:16.392Z"
   },
   {
    "duration": 182,
    "start_time": "2023-07-14T17:33:30.388Z"
   },
   {
    "duration": 172,
    "start_time": "2023-07-14T17:35:38.381Z"
   },
   {
    "duration": 181,
    "start_time": "2023-07-14T17:35:47.112Z"
   },
   {
    "duration": 271,
    "start_time": "2023-07-14T17:41:34.568Z"
   },
   {
    "duration": 174,
    "start_time": "2023-07-14T17:41:54.721Z"
   },
   {
    "duration": 176,
    "start_time": "2023-07-14T17:42:00.865Z"
   },
   {
    "duration": 175,
    "start_time": "2023-07-14T17:42:05.774Z"
   },
   {
    "duration": 243,
    "start_time": "2023-07-14T17:42:13.952Z"
   },
   {
    "duration": 184,
    "start_time": "2023-07-14T17:47:09.393Z"
   },
   {
    "duration": 184,
    "start_time": "2023-07-14T17:47:16.613Z"
   },
   {
    "duration": 177,
    "start_time": "2023-07-14T17:47:29.005Z"
   },
   {
    "duration": 195,
    "start_time": "2023-07-14T17:50:40.992Z"
   },
   {
    "duration": 175,
    "start_time": "2023-07-14T17:50:52.569Z"
   },
   {
    "duration": 190,
    "start_time": "2023-07-14T17:50:57.657Z"
   },
   {
    "duration": 194,
    "start_time": "2023-07-14T17:51:05.541Z"
   },
   {
    "duration": 104,
    "start_time": "2023-07-14T17:55:46.161Z"
   },
   {
    "duration": 193,
    "start_time": "2023-07-14T17:55:50.949Z"
   },
   {
    "duration": 18,
    "start_time": "2023-07-14T17:56:09.631Z"
   },
   {
    "duration": 194,
    "start_time": "2023-07-14T17:56:14.947Z"
   },
   {
    "duration": 53,
    "start_time": "2023-07-14T19:38:12.373Z"
   },
   {
    "duration": 8,
    "start_time": "2023-07-14T19:40:21.795Z"
   },
   {
    "duration": 7,
    "start_time": "2023-07-14T19:40:51.275Z"
   },
   {
    "duration": 1326,
    "start_time": "2023-07-14T19:40:55.835Z"
   },
   {
    "duration": 194,
    "start_time": "2023-07-14T19:40:57.164Z"
   },
   {
    "duration": 3,
    "start_time": "2023-07-14T19:40:57.360Z"
   },
   {
    "duration": 18,
    "start_time": "2023-07-14T19:40:57.364Z"
   },
   {
    "duration": 17,
    "start_time": "2023-07-14T19:40:57.384Z"
   },
   {
    "duration": 7,
    "start_time": "2023-07-14T19:40:57.403Z"
   },
   {
    "duration": 12,
    "start_time": "2023-07-14T19:40:57.412Z"
   },
   {
    "duration": 13,
    "start_time": "2023-07-14T19:40:57.425Z"
   },
   {
    "duration": 13,
    "start_time": "2023-07-14T19:40:57.439Z"
   },
   {
    "duration": 16,
    "start_time": "2023-07-14T19:40:57.454Z"
   },
   {
    "duration": 11,
    "start_time": "2023-07-14T19:40:57.471Z"
   },
   {
    "duration": 25,
    "start_time": "2023-07-14T19:40:57.484Z"
   },
   {
    "duration": 9,
    "start_time": "2023-07-14T19:40:57.511Z"
   },
   {
    "duration": 12,
    "start_time": "2023-07-14T19:40:57.522Z"
   },
   {
    "duration": 12,
    "start_time": "2023-07-14T19:40:57.535Z"
   },
   {
    "duration": 20,
    "start_time": "2023-07-14T19:40:57.549Z"
   },
   {
    "duration": 10,
    "start_time": "2023-07-14T19:40:57.571Z"
   },
   {
    "duration": 13,
    "start_time": "2023-07-14T19:40:57.582Z"
   },
   {
    "duration": 17,
    "start_time": "2023-07-14T19:40:57.597Z"
   },
   {
    "duration": 21,
    "start_time": "2023-07-14T19:40:57.616Z"
   },
   {
    "duration": 170,
    "start_time": "2023-07-14T19:40:57.639Z"
   },
   {
    "duration": 141,
    "start_time": "2023-07-14T19:40:57.811Z"
   },
   {
    "duration": 7,
    "start_time": "2023-07-14T19:40:57.954Z"
   },
   {
    "duration": 34,
    "start_time": "2023-07-14T19:40:57.963Z"
   },
   {
    "duration": 284,
    "start_time": "2023-07-14T19:40:57.999Z"
   },
   {
    "duration": 181,
    "start_time": "2023-07-14T19:40:58.284Z"
   },
   {
    "duration": 161,
    "start_time": "2023-07-14T19:41:23.274Z"
   },
   {
    "duration": 212,
    "start_time": "2023-07-14T19:42:09.814Z"
   },
   {
    "duration": 183,
    "start_time": "2023-07-14T19:43:36.194Z"
   },
   {
    "duration": 201,
    "start_time": "2023-07-14T19:43:41.055Z"
   },
   {
    "duration": 7,
    "start_time": "2023-07-14T19:45:17.714Z"
   },
   {
    "duration": 81,
    "start_time": "2023-07-14T19:51:26.714Z"
   },
   {
    "duration": 92,
    "start_time": "2023-07-14T19:51:34.493Z"
   },
   {
    "duration": 170,
    "start_time": "2023-07-14T19:51:44.086Z"
   },
   {
    "duration": 7,
    "start_time": "2023-07-14T19:52:17.013Z"
   },
   {
    "duration": 174,
    "start_time": "2023-07-14T19:54:01.286Z"
   },
   {
    "duration": 347,
    "start_time": "2023-07-14T19:54:59.193Z"
   },
   {
    "duration": 399,
    "start_time": "2023-07-14T19:55:14.814Z"
   },
   {
    "duration": 288,
    "start_time": "2023-07-14T19:55:20.123Z"
   },
   {
    "duration": 47,
    "start_time": "2023-07-16T18:58:57.811Z"
   },
   {
    "duration": 1279,
    "start_time": "2023-07-16T19:00:31.010Z"
   },
   {
    "duration": 203,
    "start_time": "2023-07-16T19:00:32.291Z"
   },
   {
    "duration": 3,
    "start_time": "2023-07-16T19:00:32.496Z"
   },
   {
    "duration": 35,
    "start_time": "2023-07-16T19:00:32.500Z"
   },
   {
    "duration": 12,
    "start_time": "2023-07-16T19:00:32.538Z"
   },
   {
    "duration": 35,
    "start_time": "2023-07-16T19:00:32.552Z"
   },
   {
    "duration": 18,
    "start_time": "2023-07-16T19:00:32.589Z"
   },
   {
    "duration": 18,
    "start_time": "2023-07-16T19:00:32.608Z"
   },
   {
    "duration": 7,
    "start_time": "2023-07-16T19:00:32.627Z"
   },
   {
    "duration": 16,
    "start_time": "2023-07-16T19:00:32.636Z"
   },
   {
    "duration": 23,
    "start_time": "2023-07-16T19:00:32.653Z"
   },
   {
    "duration": 15,
    "start_time": "2023-07-16T19:00:32.678Z"
   },
   {
    "duration": 14,
    "start_time": "2023-07-16T19:00:32.694Z"
   },
   {
    "duration": 13,
    "start_time": "2023-07-16T19:00:32.711Z"
   },
   {
    "duration": 8,
    "start_time": "2023-07-16T19:00:32.726Z"
   },
   {
    "duration": 16,
    "start_time": "2023-07-16T19:00:32.736Z"
   },
   {
    "duration": 27,
    "start_time": "2023-07-16T19:00:32.753Z"
   },
   {
    "duration": 14,
    "start_time": "2023-07-16T19:00:32.781Z"
   },
   {
    "duration": 22,
    "start_time": "2023-07-16T19:00:32.797Z"
   },
   {
    "duration": 12,
    "start_time": "2023-07-16T19:00:32.820Z"
   },
   {
    "duration": 161,
    "start_time": "2023-07-16T19:00:32.834Z"
   },
   {
    "duration": 123,
    "start_time": "2023-07-16T19:00:32.997Z"
   },
   {
    "duration": 7,
    "start_time": "2023-07-16T19:00:33.122Z"
   },
   {
    "duration": 9,
    "start_time": "2023-07-16T19:00:33.131Z"
   },
   {
    "duration": 285,
    "start_time": "2023-07-16T19:00:33.142Z"
   },
   {
    "duration": 212,
    "start_time": "2023-07-16T19:00:33.429Z"
   },
   {
    "duration": 402,
    "start_time": "2023-07-16T19:00:33.643Z"
   },
   {
    "duration": 323,
    "start_time": "2023-07-16T19:00:34.047Z"
   },
   {
    "duration": 172,
    "start_time": "2023-07-16T19:00:57.491Z"
   },
   {
    "duration": 206,
    "start_time": "2023-07-16T19:01:14.899Z"
   },
   {
    "duration": 189,
    "start_time": "2023-07-16T19:01:19.260Z"
   },
   {
    "duration": 199,
    "start_time": "2023-07-16T19:04:56.452Z"
   },
   {
    "duration": 313,
    "start_time": "2023-07-16T19:05:34.856Z"
   },
   {
    "duration": 287,
    "start_time": "2023-07-16T19:07:09.302Z"
   },
   {
    "duration": 184,
    "start_time": "2023-07-16T19:07:50.025Z"
   },
   {
    "duration": 197,
    "start_time": "2023-07-16T19:08:53.290Z"
   },
   {
    "duration": 271,
    "start_time": "2023-07-16T19:09:13.922Z"
   },
   {
    "duration": 201,
    "start_time": "2023-07-16T19:09:36.044Z"
   },
   {
    "duration": 200,
    "start_time": "2023-07-16T19:09:46.940Z"
   },
   {
    "duration": 191,
    "start_time": "2023-07-16T19:09:57.592Z"
   },
   {
    "duration": 286,
    "start_time": "2023-07-16T19:16:29.352Z"
   },
   {
    "duration": 255,
    "start_time": "2023-07-16T19:16:50.907Z"
   },
   {
    "duration": 320,
    "start_time": "2023-07-16T19:16:59.462Z"
   },
   {
    "duration": 330,
    "start_time": "2023-07-16T19:17:41.702Z"
   },
   {
    "duration": 387,
    "start_time": "2023-07-16T19:37:52.935Z"
   },
   {
    "duration": 316,
    "start_time": "2023-07-16T19:39:44.570Z"
   },
   {
    "duration": 349,
    "start_time": "2023-07-16T19:40:18.946Z"
   },
   {
    "duration": 307,
    "start_time": "2023-07-16T19:40:26.691Z"
   },
   {
    "duration": 312,
    "start_time": "2023-07-16T19:40:36.259Z"
   },
   {
    "duration": 225,
    "start_time": "2023-07-16T19:41:00.350Z"
   },
   {
    "duration": 324,
    "start_time": "2023-07-16T19:41:07.855Z"
   },
   {
    "duration": 181,
    "start_time": "2023-07-16T19:41:14.779Z"
   },
   {
    "duration": 197,
    "start_time": "2023-07-16T19:41:19.335Z"
   },
   {
    "duration": 324,
    "start_time": "2023-07-16T19:49:19.617Z"
   },
   {
    "duration": 9,
    "start_time": "2023-07-16T19:57:00.393Z"
   },
   {
    "duration": 9,
    "start_time": "2023-07-16T20:24:56.553Z"
   },
   {
    "duration": 245,
    "start_time": "2023-07-16T20:25:31.190Z"
   },
   {
    "duration": 15,
    "start_time": "2023-07-16T20:26:14.773Z"
   },
   {
    "duration": 6,
    "start_time": "2023-07-16T20:36:56.018Z"
   },
   {
    "duration": 4,
    "start_time": "2023-07-16T20:37:16.219Z"
   },
   {
    "duration": 5,
    "start_time": "2023-07-16T20:37:31.938Z"
   },
   {
    "duration": 4,
    "start_time": "2023-07-16T20:37:50.138Z"
   },
   {
    "duration": 4,
    "start_time": "2023-07-16T20:39:53.589Z"
   },
   {
    "duration": 52,
    "start_time": "2023-07-17T13:46:49.556Z"
   },
   {
    "duration": 1715,
    "start_time": "2023-07-17T13:47:07.461Z"
   },
   {
    "duration": 238,
    "start_time": "2023-07-17T13:47:09.178Z"
   },
   {
    "duration": 4,
    "start_time": "2023-07-17T13:47:09.418Z"
   },
   {
    "duration": 17,
    "start_time": "2023-07-17T13:47:09.423Z"
   },
   {
    "duration": 15,
    "start_time": "2023-07-17T13:47:09.443Z"
   },
   {
    "duration": 7,
    "start_time": "2023-07-17T13:47:09.460Z"
   },
   {
    "duration": 30,
    "start_time": "2023-07-17T13:47:09.469Z"
   },
   {
    "duration": 21,
    "start_time": "2023-07-17T13:47:09.501Z"
   },
   {
    "duration": 11,
    "start_time": "2023-07-17T13:47:09.524Z"
   },
   {
    "duration": 22,
    "start_time": "2023-07-17T13:47:09.537Z"
   },
   {
    "duration": 15,
    "start_time": "2023-07-17T13:47:09.561Z"
   },
   {
    "duration": 12,
    "start_time": "2023-07-17T13:47:09.649Z"
   },
   {
    "duration": 11,
    "start_time": "2023-07-17T13:47:09.663Z"
   },
   {
    "duration": 18,
    "start_time": "2023-07-17T13:47:09.676Z"
   },
   {
    "duration": 28,
    "start_time": "2023-07-17T13:47:09.696Z"
   },
   {
    "duration": 11,
    "start_time": "2023-07-17T13:47:09.726Z"
   },
   {
    "duration": 11,
    "start_time": "2023-07-17T13:47:09.739Z"
   },
   {
    "duration": 16,
    "start_time": "2023-07-17T13:47:09.751Z"
   },
   {
    "duration": 26,
    "start_time": "2023-07-17T13:47:09.769Z"
   },
   {
    "duration": 16,
    "start_time": "2023-07-17T13:47:09.797Z"
   },
   {
    "duration": 178,
    "start_time": "2023-07-17T13:47:09.815Z"
   },
   {
    "duration": 135,
    "start_time": "2023-07-17T13:47:09.995Z"
   },
   {
    "duration": 24,
    "start_time": "2023-07-17T13:47:10.131Z"
   },
   {
    "duration": 10,
    "start_time": "2023-07-17T13:47:10.157Z"
   },
   {
    "duration": 384,
    "start_time": "2023-07-17T13:47:10.170Z"
   },
   {
    "duration": 235,
    "start_time": "2023-07-17T13:47:10.557Z"
   },
   {
    "duration": 397,
    "start_time": "2023-07-17T13:47:10.794Z"
   },
   {
    "duration": 261,
    "start_time": "2023-07-17T13:47:11.193Z"
   },
   {
    "duration": 353,
    "start_time": "2023-07-17T13:47:11.457Z"
   },
   {
    "duration": 9,
    "start_time": "2023-07-17T13:47:11.812Z"
   },
   {
    "duration": 261,
    "start_time": "2023-07-17T13:47:11.823Z"
   },
   {
    "duration": 7,
    "start_time": "2023-07-17T13:47:12.087Z"
   },
   {
    "duration": 18,
    "start_time": "2023-07-17T13:47:12.095Z"
   },
   {
    "duration": 199,
    "start_time": "2023-07-17T13:47:12.116Z"
   },
   {
    "duration": 154,
    "start_time": "2023-07-17T13:47:43.965Z"
   },
   {
    "duration": 254,
    "start_time": "2023-07-17T13:49:10.256Z"
   },
   {
    "duration": 231,
    "start_time": "2023-07-17T13:50:01.506Z"
   },
   {
    "duration": 285,
    "start_time": "2023-07-17T13:51:59.264Z"
   },
   {
    "duration": 238,
    "start_time": "2023-07-17T13:52:09.148Z"
   },
   {
    "duration": 224,
    "start_time": "2023-07-17T13:52:16.745Z"
   },
   {
    "duration": 178,
    "start_time": "2023-07-17T13:52:31.416Z"
   },
   {
    "duration": 166,
    "start_time": "2023-07-17T13:52:59.064Z"
   },
   {
    "duration": 156,
    "start_time": "2023-07-17T13:53:37.852Z"
   },
   {
    "duration": 159,
    "start_time": "2023-07-17T13:53:47.496Z"
   },
   {
    "duration": 175,
    "start_time": "2023-07-17T13:54:18.256Z"
   },
   {
    "duration": 303,
    "start_time": "2023-07-17T13:54:28.906Z"
   },
   {
    "duration": 275,
    "start_time": "2023-07-17T13:54:42.084Z"
   },
   {
    "duration": 173,
    "start_time": "2023-07-17T13:54:52.464Z"
   },
   {
    "duration": 271,
    "start_time": "2023-07-17T13:57:40.884Z"
   },
   {
    "duration": 164,
    "start_time": "2023-07-17T14:00:05.373Z"
   },
   {
    "duration": 168,
    "start_time": "2023-07-17T14:06:32.552Z"
   },
   {
    "duration": 178,
    "start_time": "2023-07-17T14:07:37.956Z"
   },
   {
    "duration": 169,
    "start_time": "2023-07-17T14:10:10.867Z"
   },
   {
    "duration": 157,
    "start_time": "2023-07-17T14:11:16.225Z"
   },
   {
    "duration": 160,
    "start_time": "2023-07-17T14:11:21.356Z"
   },
   {
    "duration": 159,
    "start_time": "2023-07-17T14:11:28.585Z"
   },
   {
    "duration": 150,
    "start_time": "2023-07-17T14:11:34.405Z"
   },
   {
    "duration": 168,
    "start_time": "2023-07-17T14:13:18.584Z"
   },
   {
    "duration": 165,
    "start_time": "2023-07-17T14:13:33.184Z"
   },
   {
    "duration": 163,
    "start_time": "2023-07-17T14:13:39.964Z"
   },
   {
    "duration": 268,
    "start_time": "2023-07-17T14:19:57.884Z"
   },
   {
    "duration": 215,
    "start_time": "2023-07-17T14:20:15.940Z"
   },
   {
    "duration": 5,
    "start_time": "2023-07-17T14:21:26.797Z"
   },
   {
    "duration": 145,
    "start_time": "2023-07-17T15:26:10.319Z"
   },
   {
    "duration": 12,
    "start_time": "2023-07-17T15:38:21.851Z"
   },
   {
    "duration": 8,
    "start_time": "2023-07-17T15:38:43.244Z"
   },
   {
    "duration": 17,
    "start_time": "2023-07-17T15:39:34.499Z"
   },
   {
    "duration": 9,
    "start_time": "2023-07-17T15:40:00.291Z"
   },
   {
    "duration": 9,
    "start_time": "2023-07-17T15:40:14.379Z"
   },
   {
    "duration": 82,
    "start_time": "2023-07-17T15:40:39.219Z"
   },
   {
    "duration": 145,
    "start_time": "2023-07-17T15:42:39.556Z"
   },
   {
    "duration": 10,
    "start_time": "2023-07-17T16:02:20.012Z"
   },
   {
    "duration": 11,
    "start_time": "2023-07-17T16:02:37.962Z"
   },
   {
    "duration": 124,
    "start_time": "2023-07-17T16:11:01.249Z"
   },
   {
    "duration": 216,
    "start_time": "2023-07-17T16:12:20.852Z"
   },
   {
    "duration": 137,
    "start_time": "2023-07-17T16:16:50.801Z"
   },
   {
    "duration": 0,
    "start_time": "2023-07-17T16:17:37.511Z"
   },
   {
    "duration": 2421,
    "start_time": "2023-07-17T16:23:01.177Z"
   },
   {
    "duration": 121,
    "start_time": "2023-07-17T16:24:02.873Z"
   },
   {
    "duration": 7,
    "start_time": "2023-07-17T16:24:05.621Z"
   },
   {
    "duration": 15,
    "start_time": "2023-07-17T16:24:49.653Z"
   },
   {
    "duration": 175,
    "start_time": "2023-07-17T16:26:49.689Z"
   },
   {
    "duration": 3,
    "start_time": "2023-07-17T16:27:34.912Z"
   },
   {
    "duration": 100,
    "start_time": "2023-07-17T16:27:34.917Z"
   },
   {
    "duration": 3,
    "start_time": "2023-07-17T16:27:35.018Z"
   },
   {
    "duration": 17,
    "start_time": "2023-07-17T16:27:35.022Z"
   },
   {
    "duration": 34,
    "start_time": "2023-07-17T16:27:35.042Z"
   },
   {
    "duration": 19,
    "start_time": "2023-07-17T16:27:35.077Z"
   },
   {
    "duration": 23,
    "start_time": "2023-07-17T16:27:35.098Z"
   },
   {
    "duration": 31,
    "start_time": "2023-07-17T16:27:35.123Z"
   },
   {
    "duration": 17,
    "start_time": "2023-07-17T16:27:35.156Z"
   },
   {
    "duration": 42,
    "start_time": "2023-07-17T16:27:35.175Z"
   },
   {
    "duration": 25,
    "start_time": "2023-07-17T16:27:35.219Z"
   },
   {
    "duration": 17,
    "start_time": "2023-07-17T16:27:35.245Z"
   },
   {
    "duration": 11,
    "start_time": "2023-07-17T16:27:35.264Z"
   },
   {
    "duration": 6,
    "start_time": "2023-07-17T16:27:35.278Z"
   },
   {
    "duration": 12,
    "start_time": "2023-07-17T16:27:35.286Z"
   },
   {
    "duration": 39,
    "start_time": "2023-07-17T16:27:35.299Z"
   },
   {
    "duration": 15,
    "start_time": "2023-07-17T16:27:35.341Z"
   },
   {
    "duration": 29,
    "start_time": "2023-07-17T16:27:35.358Z"
   },
   {
    "duration": 21,
    "start_time": "2023-07-17T16:27:35.389Z"
   },
   {
    "duration": 11,
    "start_time": "2023-07-17T16:27:35.412Z"
   },
   {
    "duration": 181,
    "start_time": "2023-07-17T16:27:35.425Z"
   },
   {
    "duration": 124,
    "start_time": "2023-07-17T16:27:35.607Z"
   },
   {
    "duration": 6,
    "start_time": "2023-07-17T16:27:35.732Z"
   },
   {
    "duration": 24,
    "start_time": "2023-07-17T16:27:35.740Z"
   },
   {
    "duration": 241,
    "start_time": "2023-07-17T16:27:35.766Z"
   },
   {
    "duration": 243,
    "start_time": "2023-07-17T16:27:36.009Z"
   },
   {
    "duration": 348,
    "start_time": "2023-07-17T16:27:36.254Z"
   },
   {
    "duration": 232,
    "start_time": "2023-07-17T16:27:36.604Z"
   },
   {
    "duration": 358,
    "start_time": "2023-07-17T16:27:36.838Z"
   },
   {
    "duration": 8,
    "start_time": "2023-07-17T16:27:37.197Z"
   },
   {
    "duration": 195,
    "start_time": "2023-07-17T16:27:37.207Z"
   },
   {
    "duration": 5,
    "start_time": "2023-07-17T16:27:37.404Z"
   },
   {
    "duration": 170,
    "start_time": "2023-07-17T16:27:37.410Z"
   },
   {
    "duration": 184,
    "start_time": "2023-07-17T16:27:37.582Z"
   },
   {
    "duration": 5,
    "start_time": "2023-07-17T16:27:37.768Z"
   },
   {
    "duration": 22,
    "start_time": "2023-07-17T16:27:37.775Z"
   },
   {
    "duration": 15,
    "start_time": "2023-07-17T16:27:37.798Z"
   },
   {
    "duration": 17,
    "start_time": "2023-07-17T16:27:37.814Z"
   },
   {
    "duration": 239,
    "start_time": "2023-07-17T16:27:37.834Z"
   },
   {
    "duration": 202,
    "start_time": "2023-07-17T16:27:38.075Z"
   },
   {
    "duration": 9,
    "start_time": "2023-07-17T16:27:38.281Z"
   },
   {
    "duration": 244,
    "start_time": "2023-07-17T16:27:38.292Z"
   },
   {
    "duration": 191,
    "start_time": "2023-07-17T16:29:49.385Z"
   },
   {
    "duration": 59,
    "start_time": "2023-07-18T10:10:53.275Z"
   },
   {
    "duration": 4,
    "start_time": "2023-07-18T10:47:21.553Z"
   },
   {
    "duration": 103,
    "start_time": "2023-07-18T10:47:21.559Z"
   },
   {
    "duration": 3,
    "start_time": "2023-07-18T10:47:21.664Z"
   },
   {
    "duration": 35,
    "start_time": "2023-07-18T10:47:21.669Z"
   },
   {
    "duration": 12,
    "start_time": "2023-07-18T10:47:21.752Z"
   },
   {
    "duration": 20,
    "start_time": "2023-07-18T10:47:21.766Z"
   },
   {
    "duration": 20,
    "start_time": "2023-07-18T10:47:21.788Z"
   },
   {
    "duration": 35,
    "start_time": "2023-07-18T10:47:21.810Z"
   },
   {
    "duration": 23,
    "start_time": "2023-07-18T10:47:21.848Z"
   },
   {
    "duration": 32,
    "start_time": "2023-07-18T10:47:21.873Z"
   },
   {
    "duration": 39,
    "start_time": "2023-07-18T10:47:21.907Z"
   },
   {
    "duration": 21,
    "start_time": "2023-07-18T10:47:21.948Z"
   },
   {
    "duration": 38,
    "start_time": "2023-07-18T10:47:21.971Z"
   },
   {
    "duration": 60,
    "start_time": "2023-07-18T10:47:22.011Z"
   },
   {
    "duration": 44,
    "start_time": "2023-07-18T10:47:22.073Z"
   },
   {
    "duration": 82,
    "start_time": "2023-07-18T10:47:22.119Z"
   },
   {
    "duration": 91,
    "start_time": "2023-07-18T10:47:22.203Z"
   },
   {
    "duration": 60,
    "start_time": "2023-07-18T10:47:22.297Z"
   },
   {
    "duration": 73,
    "start_time": "2023-07-18T10:47:22.359Z"
   },
   {
    "duration": 93,
    "start_time": "2023-07-18T10:47:22.434Z"
   },
   {
    "duration": 231,
    "start_time": "2023-07-18T10:47:22.529Z"
   },
   {
    "duration": 127,
    "start_time": "2023-07-18T10:47:22.762Z"
   },
   {
    "duration": 7,
    "start_time": "2023-07-18T10:47:22.891Z"
   },
   {
    "duration": 38,
    "start_time": "2023-07-18T10:47:22.908Z"
   },
   {
    "duration": 290,
    "start_time": "2023-07-18T10:47:22.948Z"
   },
   {
    "duration": 237,
    "start_time": "2023-07-18T10:47:23.240Z"
   },
   {
    "duration": 354,
    "start_time": "2023-07-18T10:47:23.479Z"
   },
   {
    "duration": 281,
    "start_time": "2023-07-18T10:47:23.835Z"
   },
   {
    "duration": 353,
    "start_time": "2023-07-18T10:47:24.118Z"
   },
   {
    "duration": 13,
    "start_time": "2023-07-18T10:47:24.473Z"
   },
   {
    "duration": 329,
    "start_time": "2023-07-18T10:47:24.488Z"
   },
   {
    "duration": 46,
    "start_time": "2023-07-18T10:47:24.819Z"
   },
   {
    "duration": 271,
    "start_time": "2023-07-18T10:47:24.868Z"
   },
   {
    "duration": 218,
    "start_time": "2023-07-18T10:47:25.141Z"
   },
   {
    "duration": 5,
    "start_time": "2023-07-18T10:47:25.361Z"
   },
   {
    "duration": 92,
    "start_time": "2023-07-18T10:47:25.368Z"
   },
   {
    "duration": 53,
    "start_time": "2023-07-18T10:47:25.461Z"
   },
   {
    "duration": 47,
    "start_time": "2023-07-18T10:47:25.516Z"
   },
   {
    "duration": 237,
    "start_time": "2023-07-18T10:47:25.566Z"
   },
   {
    "duration": 135,
    "start_time": "2023-07-18T10:47:25.808Z"
   },
   {
    "duration": 47,
    "start_time": "2023-07-18T10:47:25.945Z"
   },
   {
    "duration": 282,
    "start_time": "2023-07-18T10:47:25.994Z"
   },
   {
    "duration": 34,
    "start_time": "2023-07-18T10:47:26.278Z"
   },
   {
    "duration": 13,
    "start_time": "2023-07-18T11:21:38.885Z"
   },
   {
    "duration": 3804,
    "start_time": "2023-07-18T12:03:01.341Z"
   },
   {
    "duration": 8,
    "start_time": "2023-07-18T12:03:37.769Z"
   },
   {
    "duration": 23,
    "start_time": "2023-07-18T12:04:03.898Z"
   },
   {
    "duration": 15,
    "start_time": "2023-07-18T12:04:15.514Z"
   },
   {
    "duration": 15,
    "start_time": "2023-07-18T12:04:27.217Z"
   },
   {
    "duration": 21,
    "start_time": "2023-07-18T12:07:27.036Z"
   },
   {
    "duration": 16,
    "start_time": "2023-07-18T12:07:43.991Z"
   },
   {
    "duration": 16,
    "start_time": "2023-07-18T12:08:00.080Z"
   },
   {
    "duration": 13,
    "start_time": "2023-07-18T12:13:04.370Z"
   },
   {
    "duration": 10,
    "start_time": "2023-07-18T12:13:48.459Z"
   },
   {
    "duration": 24,
    "start_time": "2023-07-18T12:13:52.644Z"
   },
   {
    "duration": 2289,
    "start_time": "2023-07-18T13:06:21.452Z"
   },
   {
    "duration": 9,
    "start_time": "2023-07-18T13:06:52.388Z"
   },
   {
    "duration": 17,
    "start_time": "2023-07-18T13:07:12.957Z"
   },
   {
    "duration": 16,
    "start_time": "2023-07-18T13:10:11.807Z"
   },
   {
    "duration": 3,
    "start_time": "2023-07-18T14:07:54.662Z"
   },
   {
    "duration": 94,
    "start_time": "2023-07-18T14:07:54.667Z"
   },
   {
    "duration": 2,
    "start_time": "2023-07-18T14:07:54.763Z"
   },
   {
    "duration": 35,
    "start_time": "2023-07-18T14:07:54.767Z"
   },
   {
    "duration": 27,
    "start_time": "2023-07-18T14:07:54.805Z"
   },
   {
    "duration": 17,
    "start_time": "2023-07-18T14:07:54.834Z"
   },
   {
    "duration": 19,
    "start_time": "2023-07-18T14:07:54.852Z"
   },
   {
    "duration": 24,
    "start_time": "2023-07-18T14:07:54.873Z"
   },
   {
    "duration": 15,
    "start_time": "2023-07-18T14:07:54.899Z"
   },
   {
    "duration": 14,
    "start_time": "2023-07-18T14:07:54.916Z"
   },
   {
    "duration": 24,
    "start_time": "2023-07-18T14:07:54.931Z"
   },
   {
    "duration": 49,
    "start_time": "2023-07-18T14:07:54.957Z"
   },
   {
    "duration": 24,
    "start_time": "2023-07-18T14:07:55.008Z"
   },
   {
    "duration": 35,
    "start_time": "2023-07-18T14:07:55.035Z"
   },
   {
    "duration": 30,
    "start_time": "2023-07-18T14:07:55.072Z"
   },
   {
    "duration": 10,
    "start_time": "2023-07-18T14:07:55.104Z"
   },
   {
    "duration": 24,
    "start_time": "2023-07-18T14:07:55.115Z"
   },
   {
    "duration": 25,
    "start_time": "2023-07-18T14:07:55.141Z"
   },
   {
    "duration": 19,
    "start_time": "2023-07-18T14:07:55.168Z"
   },
   {
    "duration": 14,
    "start_time": "2023-07-18T14:07:55.189Z"
   },
   {
    "duration": 186,
    "start_time": "2023-07-18T14:07:55.205Z"
   },
   {
    "duration": 158,
    "start_time": "2023-07-18T14:07:55.394Z"
   },
   {
    "duration": 30,
    "start_time": "2023-07-18T14:07:55.555Z"
   },
   {
    "duration": 13,
    "start_time": "2023-07-18T14:07:55.587Z"
   },
   {
    "duration": 251,
    "start_time": "2023-07-18T14:07:55.602Z"
   },
   {
    "duration": 279,
    "start_time": "2023-07-18T14:07:55.855Z"
   },
   {
    "duration": 430,
    "start_time": "2023-07-18T14:07:56.136Z"
   },
   {
    "duration": 252,
    "start_time": "2023-07-18T14:07:56.568Z"
   },
   {
    "duration": 347,
    "start_time": "2023-07-18T14:07:56.821Z"
   },
   {
    "duration": 9,
    "start_time": "2023-07-18T14:07:57.172Z"
   },
   {
    "duration": 195,
    "start_time": "2023-07-18T14:07:57.183Z"
   },
   {
    "duration": 5,
    "start_time": "2023-07-18T14:07:57.380Z"
   },
   {
    "duration": 217,
    "start_time": "2023-07-18T14:07:57.387Z"
   },
   {
    "duration": 197,
    "start_time": "2023-07-18T14:07:57.609Z"
   },
   {
    "duration": 4,
    "start_time": "2023-07-18T14:07:57.809Z"
   },
   {
    "duration": 38,
    "start_time": "2023-07-18T14:07:57.815Z"
   },
   {
    "duration": 44,
    "start_time": "2023-07-18T14:07:57.855Z"
   },
   {
    "duration": 243,
    "start_time": "2023-07-18T14:07:57.900Z"
   },
   {
    "duration": 144,
    "start_time": "2023-07-18T14:07:58.145Z"
   },
   {
    "duration": 7,
    "start_time": "2023-07-18T14:07:58.291Z"
   },
   {
    "duration": 152,
    "start_time": "2023-07-18T14:07:58.308Z"
   },
   {
    "duration": 21,
    "start_time": "2023-07-18T14:07:58.462Z"
   },
   {
    "duration": 30,
    "start_time": "2023-07-18T14:07:58.486Z"
   },
   {
    "duration": 11,
    "start_time": "2023-07-18T14:07:58.518Z"
   },
   {
    "duration": 27,
    "start_time": "2023-07-18T14:07:58.531Z"
   },
   {
    "duration": 26,
    "start_time": "2023-07-18T14:07:58.560Z"
   },
   {
    "duration": 22,
    "start_time": "2023-07-18T14:07:58.588Z"
   },
   {
    "duration": 1347,
    "start_time": "2023-07-19T08:02:54.804Z"
   },
   {
    "duration": 212,
    "start_time": "2023-07-19T08:02:56.153Z"
   },
   {
    "duration": 4,
    "start_time": "2023-07-19T08:02:56.367Z"
   },
   {
    "duration": 23,
    "start_time": "2023-07-19T08:02:56.373Z"
   },
   {
    "duration": 13,
    "start_time": "2023-07-19T08:02:56.398Z"
   },
   {
    "duration": 8,
    "start_time": "2023-07-19T08:02:56.413Z"
   },
   {
    "duration": 14,
    "start_time": "2023-07-19T08:02:56.423Z"
   },
   {
    "duration": 41,
    "start_time": "2023-07-19T08:02:56.439Z"
   },
   {
    "duration": 14,
    "start_time": "2023-07-19T08:02:56.485Z"
   },
   {
    "duration": 14,
    "start_time": "2023-07-19T08:02:56.503Z"
   },
   {
    "duration": 12,
    "start_time": "2023-07-19T08:02:56.519Z"
   },
   {
    "duration": 37,
    "start_time": "2023-07-19T08:02:56.533Z"
   },
   {
    "duration": 18,
    "start_time": "2023-07-19T08:02:56.572Z"
   },
   {
    "duration": 11,
    "start_time": "2023-07-19T08:02:56.591Z"
   },
   {
    "duration": 21,
    "start_time": "2023-07-19T08:02:56.604Z"
   },
   {
    "duration": 24,
    "start_time": "2023-07-19T08:02:56.627Z"
   },
   {
    "duration": 19,
    "start_time": "2023-07-19T08:02:56.653Z"
   },
   {
    "duration": 10,
    "start_time": "2023-07-19T08:02:56.676Z"
   },
   {
    "duration": 15,
    "start_time": "2023-07-19T08:02:56.688Z"
   },
   {
    "duration": 10,
    "start_time": "2023-07-19T08:02:56.705Z"
   },
   {
    "duration": 226,
    "start_time": "2023-07-19T08:02:56.717Z"
   },
   {
    "duration": 165,
    "start_time": "2023-07-19T08:02:56.945Z"
   },
   {
    "duration": 10,
    "start_time": "2023-07-19T08:02:57.112Z"
   },
   {
    "duration": 19,
    "start_time": "2023-07-19T08:02:57.125Z"
   },
   {
    "duration": 411,
    "start_time": "2023-07-19T08:02:57.146Z"
   },
   {
    "duration": 259,
    "start_time": "2023-07-19T08:02:57.559Z"
   },
   {
    "duration": 402,
    "start_time": "2023-07-19T08:02:57.821Z"
   },
   {
    "duration": 283,
    "start_time": "2023-07-19T08:02:58.227Z"
   },
   {
    "duration": 365,
    "start_time": "2023-07-19T08:02:58.512Z"
   },
   {
    "duration": 14,
    "start_time": "2023-07-19T08:02:58.879Z"
   },
   {
    "duration": 206,
    "start_time": "2023-07-19T08:02:58.895Z"
   },
   {
    "duration": 6,
    "start_time": "2023-07-19T08:02:59.104Z"
   },
   {
    "duration": 199,
    "start_time": "2023-07-19T08:02:59.112Z"
   },
   {
    "duration": 236,
    "start_time": "2023-07-19T08:02:59.313Z"
   },
   {
    "duration": 5,
    "start_time": "2023-07-19T08:02:59.551Z"
   },
   {
    "duration": 12,
    "start_time": "2023-07-19T08:02:59.557Z"
   },
   {
    "duration": 19,
    "start_time": "2023-07-19T08:02:59.571Z"
   },
   {
    "duration": 367,
    "start_time": "2023-07-19T08:02:59.592Z"
   },
   {
    "duration": 174,
    "start_time": "2023-07-19T08:02:59.967Z"
   },
   {
    "duration": 8,
    "start_time": "2023-07-19T08:03:00.143Z"
   },
   {
    "duration": 187,
    "start_time": "2023-07-19T08:03:00.153Z"
   },
   {
    "duration": 42,
    "start_time": "2023-07-19T08:03:00.342Z"
   },
   {
    "duration": 12,
    "start_time": "2023-07-19T08:03:00.386Z"
   },
   {
    "duration": 30,
    "start_time": "2023-07-19T08:03:00.401Z"
   },
   {
    "duration": 18,
    "start_time": "2023-07-19T08:03:00.433Z"
   },
   {
    "duration": 58,
    "start_time": "2023-07-19T08:03:00.453Z"
   },
   {
    "duration": 26,
    "start_time": "2023-07-19T08:03:00.513Z"
   },
   {
    "duration": 1329,
    "start_time": "2023-07-19T08:48:52.204Z"
   },
   {
    "duration": 81,
    "start_time": "2023-07-19T08:48:53.535Z"
   },
   {
    "duration": 3,
    "start_time": "2023-07-19T08:48:53.618Z"
   },
   {
    "duration": 22,
    "start_time": "2023-07-19T08:48:53.623Z"
   },
   {
    "duration": 11,
    "start_time": "2023-07-19T08:48:53.648Z"
   },
   {
    "duration": 18,
    "start_time": "2023-07-19T08:48:53.661Z"
   },
   {
    "duration": 28,
    "start_time": "2023-07-19T08:48:53.681Z"
   },
   {
    "duration": 32,
    "start_time": "2023-07-19T08:48:53.711Z"
   },
   {
    "duration": 24,
    "start_time": "2023-07-19T08:48:53.745Z"
   },
   {
    "duration": 22,
    "start_time": "2023-07-19T08:48:53.770Z"
   },
   {
    "duration": 31,
    "start_time": "2023-07-19T08:48:53.793Z"
   },
   {
    "duration": 25,
    "start_time": "2023-07-19T08:48:53.826Z"
   },
   {
    "duration": 11,
    "start_time": "2023-07-19T08:48:53.853Z"
   },
   {
    "duration": 6,
    "start_time": "2023-07-19T08:48:53.868Z"
   },
   {
    "duration": 64,
    "start_time": "2023-07-19T08:48:53.875Z"
   },
   {
    "duration": 22,
    "start_time": "2023-07-19T08:48:53.941Z"
   },
   {
    "duration": 9,
    "start_time": "2023-07-19T08:48:53.965Z"
   },
   {
    "duration": 14,
    "start_time": "2023-07-19T08:48:53.976Z"
   },
   {
    "duration": 29,
    "start_time": "2023-07-19T08:48:53.992Z"
   },
   {
    "duration": 15,
    "start_time": "2023-07-19T08:48:54.023Z"
   },
   {
    "duration": 229,
    "start_time": "2023-07-19T08:48:54.041Z"
   },
   {
    "duration": 150,
    "start_time": "2023-07-19T08:48:54.272Z"
   },
   {
    "duration": 7,
    "start_time": "2023-07-19T08:48:54.425Z"
   },
   {
    "duration": 17,
    "start_time": "2023-07-19T08:48:54.434Z"
   },
   {
    "duration": 376,
    "start_time": "2023-07-19T08:48:54.453Z"
   },
   {
    "duration": 257,
    "start_time": "2023-07-19T08:48:54.831Z"
   },
   {
    "duration": 327,
    "start_time": "2023-07-19T08:48:55.091Z"
   },
   {
    "duration": 275,
    "start_time": "2023-07-19T08:48:55.420Z"
   },
   {
    "duration": 356,
    "start_time": "2023-07-19T08:48:55.697Z"
   },
   {
    "duration": 18,
    "start_time": "2023-07-19T08:48:56.055Z"
   },
   {
    "duration": 192,
    "start_time": "2023-07-19T08:48:56.075Z"
   },
   {
    "duration": 5,
    "start_time": "2023-07-19T08:48:56.269Z"
   },
   {
    "duration": 185,
    "start_time": "2023-07-19T08:48:56.277Z"
   },
   {
    "duration": 253,
    "start_time": "2023-07-19T08:48:56.464Z"
   },
   {
    "duration": 5,
    "start_time": "2023-07-19T08:48:56.719Z"
   },
   {
    "duration": 15,
    "start_time": "2023-07-19T08:48:56.726Z"
   },
   {
    "duration": 18,
    "start_time": "2023-07-19T08:48:56.743Z"
   },
   {
    "duration": 377,
    "start_time": "2023-07-19T08:48:56.763Z"
   },
   {
    "duration": 174,
    "start_time": "2023-07-19T08:48:57.142Z"
   },
   {
    "duration": 8,
    "start_time": "2023-07-19T08:48:57.318Z"
   },
   {
    "duration": 203,
    "start_time": "2023-07-19T08:48:57.333Z"
   },
   {
    "duration": 43,
    "start_time": "2023-07-19T08:48:57.538Z"
   },
   {
    "duration": 15,
    "start_time": "2023-07-19T08:48:57.584Z"
   },
   {
    "duration": 12,
    "start_time": "2023-07-19T08:48:57.601Z"
   },
   {
    "duration": 23,
    "start_time": "2023-07-19T08:48:57.615Z"
   },
   {
    "duration": 54,
    "start_time": "2023-07-19T08:48:57.640Z"
   },
   {
    "duration": 18,
    "start_time": "2023-07-19T08:48:57.696Z"
   },
   {
    "duration": 49,
    "start_time": "2023-07-19T12:12:32.751Z"
   },
   {
    "duration": 1514,
    "start_time": "2023-07-19T12:12:38.472Z"
   },
   {
    "duration": 205,
    "start_time": "2023-07-19T12:12:39.988Z"
   },
   {
    "duration": 3,
    "start_time": "2023-07-19T12:12:40.195Z"
   },
   {
    "duration": 24,
    "start_time": "2023-07-19T12:12:40.199Z"
   },
   {
    "duration": 21,
    "start_time": "2023-07-19T12:12:40.224Z"
   },
   {
    "duration": 24,
    "start_time": "2023-07-19T12:12:40.246Z"
   },
   {
    "duration": 17,
    "start_time": "2023-07-19T12:12:40.272Z"
   },
   {
    "duration": 13,
    "start_time": "2023-07-19T12:12:40.290Z"
   },
   {
    "duration": 8,
    "start_time": "2023-07-19T12:12:40.305Z"
   },
   {
    "duration": 18,
    "start_time": "2023-07-19T12:12:40.314Z"
   },
   {
    "duration": 24,
    "start_time": "2023-07-19T12:12:40.333Z"
   },
   {
    "duration": 27,
    "start_time": "2023-07-19T12:12:40.358Z"
   },
   {
    "duration": 30,
    "start_time": "2023-07-19T12:12:40.386Z"
   },
   {
    "duration": 7,
    "start_time": "2023-07-19T12:12:40.419Z"
   },
   {
    "duration": 14,
    "start_time": "2023-07-19T12:12:40.428Z"
   },
   {
    "duration": 24,
    "start_time": "2023-07-19T12:12:40.443Z"
   },
   {
    "duration": 15,
    "start_time": "2023-07-19T12:12:40.469Z"
   },
   {
    "duration": 16,
    "start_time": "2023-07-19T12:12:40.485Z"
   },
   {
    "duration": 11,
    "start_time": "2023-07-19T12:12:40.502Z"
   },
   {
    "duration": 15,
    "start_time": "2023-07-19T12:12:40.515Z"
   },
   {
    "duration": 25,
    "start_time": "2023-07-19T12:12:40.532Z"
   },
   {
    "duration": 192,
    "start_time": "2023-07-19T12:12:40.559Z"
   },
   {
    "duration": 156,
    "start_time": "2023-07-19T12:12:40.753Z"
   },
   {
    "duration": 18,
    "start_time": "2023-07-19T12:12:40.912Z"
   },
   {
    "duration": 16,
    "start_time": "2023-07-19T12:12:40.932Z"
   },
   {
    "duration": 349,
    "start_time": "2023-07-19T12:12:40.950Z"
   },
   {
    "duration": 231,
    "start_time": "2023-07-19T12:12:41.300Z"
   },
   {
    "duration": 397,
    "start_time": "2023-07-19T12:12:41.532Z"
   },
   {
    "duration": 256,
    "start_time": "2023-07-19T12:12:41.931Z"
   },
   {
    "duration": 342,
    "start_time": "2023-07-19T12:12:42.188Z"
   },
   {
    "duration": 9,
    "start_time": "2023-07-19T12:12:42.532Z"
   },
   {
    "duration": 180,
    "start_time": "2023-07-19T12:12:42.542Z"
   },
   {
    "duration": 5,
    "start_time": "2023-07-19T12:12:42.724Z"
   },
   {
    "duration": 199,
    "start_time": "2023-07-19T12:12:42.731Z"
   },
   {
    "duration": 249,
    "start_time": "2023-07-19T12:12:42.932Z"
   },
   {
    "duration": 5,
    "start_time": "2023-07-19T12:12:43.184Z"
   },
   {
    "duration": 18,
    "start_time": "2023-07-19T12:12:43.190Z"
   },
   {
    "duration": 17,
    "start_time": "2023-07-19T12:12:43.209Z"
   },
   {
    "duration": 364,
    "start_time": "2023-07-19T12:12:43.228Z"
   },
   {
    "duration": 155,
    "start_time": "2023-07-19T12:12:43.594Z"
   },
   {
    "duration": 12,
    "start_time": "2023-07-19T12:12:43.752Z"
   },
   {
    "duration": 161,
    "start_time": "2023-07-19T12:12:43.766Z"
   },
   {
    "duration": 36,
    "start_time": "2023-07-19T12:12:43.929Z"
   },
   {
    "duration": 17,
    "start_time": "2023-07-19T12:12:43.967Z"
   },
   {
    "duration": 11,
    "start_time": "2023-07-19T12:12:43.986Z"
   },
   {
    "duration": 14,
    "start_time": "2023-07-19T12:12:43.998Z"
   },
   {
    "duration": 52,
    "start_time": "2023-07-19T12:12:44.014Z"
   },
   {
    "duration": 20,
    "start_time": "2023-07-19T12:12:44.069Z"
   },
   {
    "duration": 15,
    "start_time": "2023-07-19T12:16:34.120Z"
   },
   {
    "duration": 13,
    "start_time": "2023-07-19T12:47:12.274Z"
   },
   {
    "duration": 10,
    "start_time": "2023-07-19T12:47:14.893Z"
   },
   {
    "duration": 11,
    "start_time": "2023-07-19T12:47:28.255Z"
   },
   {
    "duration": 10,
    "start_time": "2023-07-19T12:49:56.940Z"
   },
   {
    "duration": 9,
    "start_time": "2023-07-19T12:50:14.994Z"
   },
   {
    "duration": 228,
    "start_time": "2023-07-19T13:00:50.394Z"
   },
   {
    "duration": 177,
    "start_time": "2023-07-19T13:02:19.075Z"
   },
   {
    "duration": 209,
    "start_time": "2023-07-19T13:02:30.094Z"
   },
   {
    "duration": 74,
    "start_time": "2023-07-19T13:04:06.634Z"
   },
   {
    "duration": 236,
    "start_time": "2023-07-19T13:04:52.394Z"
   },
   {
    "duration": 13,
    "start_time": "2023-07-19T13:07:08.454Z"
   },
   {
    "duration": 11,
    "start_time": "2023-07-19T13:07:57.155Z"
   },
   {
    "duration": 11,
    "start_time": "2023-07-19T13:08:05.453Z"
   },
   {
    "duration": 20,
    "start_time": "2023-07-19T13:09:29.953Z"
   },
   {
    "duration": 12,
    "start_time": "2023-07-19T13:11:38.493Z"
   },
   {
    "duration": 243,
    "start_time": "2023-07-19T13:16:28.374Z"
   },
   {
    "duration": 261,
    "start_time": "2023-07-19T13:19:03.453Z"
   },
   {
    "duration": 247,
    "start_time": "2023-07-19T13:19:20.912Z"
   },
   {
    "duration": 353,
    "start_time": "2023-07-19T13:22:00.512Z"
   },
   {
    "duration": 395,
    "start_time": "2023-07-19T13:22:30.252Z"
   },
   {
    "duration": 364,
    "start_time": "2023-07-19T13:22:37.752Z"
   },
   {
    "duration": 445,
    "start_time": "2023-07-19T13:22:51.872Z"
   },
   {
    "duration": 3,
    "start_time": "2023-07-19T13:24:04.492Z"
   },
   {
    "duration": 105,
    "start_time": "2023-07-19T13:24:04.497Z"
   },
   {
    "duration": 3,
    "start_time": "2023-07-19T13:24:04.604Z"
   },
   {
    "duration": 9,
    "start_time": "2023-07-19T13:24:04.994Z"
   },
   {
    "duration": 54,
    "start_time": "2023-07-19T13:24:05.006Z"
   },
   {
    "duration": 61,
    "start_time": "2023-07-19T13:24:05.063Z"
   },
   {
    "duration": 37,
    "start_time": "2023-07-19T13:24:05.126Z"
   },
   {
    "duration": 29,
    "start_time": "2023-07-19T13:24:05.167Z"
   },
   {
    "duration": 22,
    "start_time": "2023-07-19T13:24:05.198Z"
   },
   {
    "duration": 34,
    "start_time": "2023-07-19T13:24:05.221Z"
   },
   {
    "duration": 36,
    "start_time": "2023-07-19T13:24:05.257Z"
   },
   {
    "duration": 63,
    "start_time": "2023-07-19T13:24:05.295Z"
   },
   {
    "duration": 1212,
    "start_time": "2023-07-19T13:24:05.360Z"
   },
   {
    "duration": 0,
    "start_time": "2023-07-19T13:24:06.575Z"
   },
   {
    "duration": 0,
    "start_time": "2023-07-19T13:24:06.577Z"
   },
   {
    "duration": 0,
    "start_time": "2023-07-19T13:24:06.578Z"
   },
   {
    "duration": 0,
    "start_time": "2023-07-19T13:24:06.579Z"
   },
   {
    "duration": 0,
    "start_time": "2023-07-19T13:24:06.581Z"
   },
   {
    "duration": 0,
    "start_time": "2023-07-19T13:24:06.582Z"
   },
   {
    "duration": 0,
    "start_time": "2023-07-19T13:24:06.583Z"
   },
   {
    "duration": 0,
    "start_time": "2023-07-19T13:24:06.584Z"
   },
   {
    "duration": 0,
    "start_time": "2023-07-19T13:24:06.585Z"
   },
   {
    "duration": 0,
    "start_time": "2023-07-19T13:24:06.586Z"
   },
   {
    "duration": 0,
    "start_time": "2023-07-19T13:24:06.587Z"
   },
   {
    "duration": 0,
    "start_time": "2023-07-19T13:24:06.588Z"
   },
   {
    "duration": 0,
    "start_time": "2023-07-19T13:24:06.589Z"
   },
   {
    "duration": 0,
    "start_time": "2023-07-19T13:24:06.590Z"
   },
   {
    "duration": 0,
    "start_time": "2023-07-19T13:24:06.591Z"
   },
   {
    "duration": 0,
    "start_time": "2023-07-19T13:24:06.592Z"
   },
   {
    "duration": 0,
    "start_time": "2023-07-19T13:24:06.593Z"
   },
   {
    "duration": 0,
    "start_time": "2023-07-19T13:24:06.594Z"
   },
   {
    "duration": 0,
    "start_time": "2023-07-19T13:24:06.595Z"
   },
   {
    "duration": 0,
    "start_time": "2023-07-19T13:24:06.596Z"
   },
   {
    "duration": 0,
    "start_time": "2023-07-19T13:24:06.597Z"
   },
   {
    "duration": 0,
    "start_time": "2023-07-19T13:24:06.598Z"
   },
   {
    "duration": 0,
    "start_time": "2023-07-19T13:24:06.600Z"
   },
   {
    "duration": 0,
    "start_time": "2023-07-19T13:24:06.601Z"
   },
   {
    "duration": 0,
    "start_time": "2023-07-19T13:24:06.602Z"
   },
   {
    "duration": 0,
    "start_time": "2023-07-19T13:24:06.603Z"
   },
   {
    "duration": 0,
    "start_time": "2023-07-19T13:24:06.604Z"
   },
   {
    "duration": 0,
    "start_time": "2023-07-19T13:24:06.605Z"
   },
   {
    "duration": 0,
    "start_time": "2023-07-19T13:24:06.606Z"
   },
   {
    "duration": 0,
    "start_time": "2023-07-19T13:24:06.608Z"
   },
   {
    "duration": 0,
    "start_time": "2023-07-19T13:24:06.609Z"
   },
   {
    "duration": 0,
    "start_time": "2023-07-19T13:24:06.610Z"
   },
   {
    "duration": 0,
    "start_time": "2023-07-19T13:24:06.611Z"
   },
   {
    "duration": 0,
    "start_time": "2023-07-19T13:24:06.662Z"
   },
   {
    "duration": 0,
    "start_time": "2023-07-19T13:24:06.664Z"
   },
   {
    "duration": 0,
    "start_time": "2023-07-19T13:24:06.665Z"
   },
   {
    "duration": 0,
    "start_time": "2023-07-19T13:24:06.666Z"
   },
   {
    "duration": 0,
    "start_time": "2023-07-19T13:24:06.667Z"
   },
   {
    "duration": 3,
    "start_time": "2023-07-19T13:24:37.112Z"
   },
   {
    "duration": 73,
    "start_time": "2023-07-19T13:24:37.130Z"
   },
   {
    "duration": 3,
    "start_time": "2023-07-19T13:24:37.205Z"
   },
   {
    "duration": 8,
    "start_time": "2023-07-19T13:24:37.534Z"
   },
   {
    "duration": 22,
    "start_time": "2023-07-19T13:24:37.543Z"
   },
   {
    "duration": 35,
    "start_time": "2023-07-19T13:24:37.567Z"
   },
   {
    "duration": 15,
    "start_time": "2023-07-19T13:24:37.603Z"
   },
   {
    "duration": 46,
    "start_time": "2023-07-19T13:24:37.620Z"
   },
   {
    "duration": 16,
    "start_time": "2023-07-19T13:24:37.669Z"
   },
   {
    "duration": 27,
    "start_time": "2023-07-19T13:24:37.686Z"
   },
   {
    "duration": 34,
    "start_time": "2023-07-19T13:24:37.714Z"
   },
   {
    "duration": 50,
    "start_time": "2023-07-19T13:24:37.750Z"
   },
   {
    "duration": 1057,
    "start_time": "2023-07-19T13:24:37.801Z"
   },
   {
    "duration": 0,
    "start_time": "2023-07-19T13:24:38.861Z"
   },
   {
    "duration": 0,
    "start_time": "2023-07-19T13:24:38.863Z"
   },
   {
    "duration": 0,
    "start_time": "2023-07-19T13:24:38.864Z"
   },
   {
    "duration": 0,
    "start_time": "2023-07-19T13:24:38.865Z"
   },
   {
    "duration": 0,
    "start_time": "2023-07-19T13:24:38.866Z"
   },
   {
    "duration": 0,
    "start_time": "2023-07-19T13:24:38.867Z"
   },
   {
    "duration": 0,
    "start_time": "2023-07-19T13:24:38.869Z"
   },
   {
    "duration": 0,
    "start_time": "2023-07-19T13:24:38.870Z"
   },
   {
    "duration": 0,
    "start_time": "2023-07-19T13:24:38.871Z"
   },
   {
    "duration": 1,
    "start_time": "2023-07-19T13:24:38.872Z"
   },
   {
    "duration": 0,
    "start_time": "2023-07-19T13:24:38.873Z"
   },
   {
    "duration": 0,
    "start_time": "2023-07-19T13:24:38.875Z"
   },
   {
    "duration": 0,
    "start_time": "2023-07-19T13:24:38.876Z"
   },
   {
    "duration": 0,
    "start_time": "2023-07-19T13:24:38.877Z"
   },
   {
    "duration": 0,
    "start_time": "2023-07-19T13:24:38.878Z"
   },
   {
    "duration": 0,
    "start_time": "2023-07-19T13:24:38.880Z"
   },
   {
    "duration": 0,
    "start_time": "2023-07-19T13:24:38.881Z"
   },
   {
    "duration": 0,
    "start_time": "2023-07-19T13:24:38.882Z"
   },
   {
    "duration": 0,
    "start_time": "2023-07-19T13:24:38.883Z"
   },
   {
    "duration": 0,
    "start_time": "2023-07-19T13:24:38.884Z"
   },
   {
    "duration": 0,
    "start_time": "2023-07-19T13:24:38.885Z"
   },
   {
    "duration": 1,
    "start_time": "2023-07-19T13:24:38.886Z"
   },
   {
    "duration": 0,
    "start_time": "2023-07-19T13:24:38.887Z"
   },
   {
    "duration": 0,
    "start_time": "2023-07-19T13:24:38.889Z"
   },
   {
    "duration": 0,
    "start_time": "2023-07-19T13:24:38.890Z"
   },
   {
    "duration": 0,
    "start_time": "2023-07-19T13:24:38.891Z"
   },
   {
    "duration": 0,
    "start_time": "2023-07-19T13:24:38.892Z"
   },
   {
    "duration": 0,
    "start_time": "2023-07-19T13:24:38.893Z"
   },
   {
    "duration": 0,
    "start_time": "2023-07-19T13:24:38.894Z"
   },
   {
    "duration": 0,
    "start_time": "2023-07-19T13:24:38.895Z"
   },
   {
    "duration": 0,
    "start_time": "2023-07-19T13:24:38.896Z"
   },
   {
    "duration": 0,
    "start_time": "2023-07-19T13:24:38.897Z"
   },
   {
    "duration": 0,
    "start_time": "2023-07-19T13:24:38.898Z"
   },
   {
    "duration": 0,
    "start_time": "2023-07-19T13:24:38.899Z"
   },
   {
    "duration": 0,
    "start_time": "2023-07-19T13:24:38.900Z"
   },
   {
    "duration": 0,
    "start_time": "2023-07-19T13:24:38.901Z"
   },
   {
    "duration": 0,
    "start_time": "2023-07-19T13:24:38.960Z"
   },
   {
    "duration": 1,
    "start_time": "2023-07-19T13:24:38.963Z"
   },
   {
    "duration": 10,
    "start_time": "2023-07-19T13:25:36.512Z"
   },
   {
    "duration": 10,
    "start_time": "2023-07-19T13:25:39.032Z"
   },
   {
    "duration": 10,
    "start_time": "2023-07-19T13:26:07.492Z"
   },
   {
    "duration": 9,
    "start_time": "2023-07-19T13:26:18.592Z"
   },
   {
    "duration": 4,
    "start_time": "2023-07-19T13:26:34.332Z"
   },
   {
    "duration": 75,
    "start_time": "2023-07-19T13:26:34.821Z"
   },
   {
    "duration": 3,
    "start_time": "2023-07-19T13:26:34.898Z"
   },
   {
    "duration": 29,
    "start_time": "2023-07-19T13:26:34.902Z"
   },
   {
    "duration": 35,
    "start_time": "2023-07-19T13:26:34.932Z"
   },
   {
    "duration": 27,
    "start_time": "2023-07-19T13:26:34.970Z"
   },
   {
    "duration": 58,
    "start_time": "2023-07-19T13:26:34.999Z"
   },
   {
    "duration": 42,
    "start_time": "2023-07-19T13:26:35.060Z"
   },
   {
    "duration": 29,
    "start_time": "2023-07-19T13:26:35.104Z"
   },
   {
    "duration": 36,
    "start_time": "2023-07-19T13:26:35.135Z"
   },
   {
    "duration": 23,
    "start_time": "2023-07-19T13:26:35.173Z"
   },
   {
    "duration": 53,
    "start_time": "2023-07-19T13:26:35.197Z"
   },
   {
    "duration": 22,
    "start_time": "2023-07-19T13:26:35.251Z"
   },
   {
    "duration": 31,
    "start_time": "2023-07-19T13:26:35.275Z"
   },
   {
    "duration": 20,
    "start_time": "2023-07-19T13:26:35.309Z"
   },
   {
    "duration": 21,
    "start_time": "2023-07-19T13:26:35.331Z"
   },
   {
    "duration": 26,
    "start_time": "2023-07-19T13:26:35.354Z"
   },
   {
    "duration": 24,
    "start_time": "2023-07-19T13:26:35.382Z"
   },
   {
    "duration": 19,
    "start_time": "2023-07-19T13:26:35.408Z"
   },
   {
    "duration": 10,
    "start_time": "2023-07-19T13:26:35.429Z"
   },
   {
    "duration": 33,
    "start_time": "2023-07-19T13:26:35.441Z"
   },
   {
    "duration": 25,
    "start_time": "2023-07-19T13:26:35.476Z"
   },
   {
    "duration": 52,
    "start_time": "2023-07-19T13:26:35.503Z"
   },
   {
    "duration": 189,
    "start_time": "2023-07-19T13:26:35.557Z"
   },
   {
    "duration": 126,
    "start_time": "2023-07-19T13:26:35.748Z"
   },
   {
    "duration": 7,
    "start_time": "2023-07-19T13:26:35.877Z"
   },
   {
    "duration": 39,
    "start_time": "2023-07-19T13:26:35.886Z"
   },
   {
    "duration": 245,
    "start_time": "2023-07-19T13:26:35.928Z"
   },
   {
    "duration": 13,
    "start_time": "2023-07-19T13:26:36.175Z"
   },
   {
    "duration": 38,
    "start_time": "2023-07-19T13:26:36.189Z"
   },
   {
    "duration": 217,
    "start_time": "2023-07-19T13:26:36.228Z"
   },
   {
    "duration": 342,
    "start_time": "2023-07-19T13:26:36.447Z"
   },
   {
    "duration": 258,
    "start_time": "2023-07-19T13:26:36.791Z"
   },
   {
    "duration": 353,
    "start_time": "2023-07-19T13:26:37.051Z"
   },
   {
    "duration": 10,
    "start_time": "2023-07-19T13:26:37.405Z"
   },
   {
    "duration": 183,
    "start_time": "2023-07-19T13:26:37.416Z"
   },
   {
    "duration": 4,
    "start_time": "2023-07-19T13:26:37.601Z"
   },
   {
    "duration": 189,
    "start_time": "2023-07-19T13:26:37.607Z"
   },
   {
    "duration": 202,
    "start_time": "2023-07-19T13:26:37.798Z"
   },
   {
    "duration": 6,
    "start_time": "2023-07-19T13:26:38.002Z"
   },
   {
    "duration": 21,
    "start_time": "2023-07-19T13:26:38.009Z"
   },
   {
    "duration": 10,
    "start_time": "2023-07-19T13:26:38.035Z"
   },
   {
    "duration": 177,
    "start_time": "2023-07-19T13:26:38.058Z"
   },
   {
    "duration": 5,
    "start_time": "2023-07-19T13:26:38.237Z"
   },
   {
    "duration": 158,
    "start_time": "2023-07-19T13:26:38.244Z"
   },
   {
    "duration": 21,
    "start_time": "2023-07-19T13:26:38.404Z"
   },
   {
    "duration": 11,
    "start_time": "2023-07-19T13:26:38.427Z"
   },
   {
    "duration": 16,
    "start_time": "2023-07-19T13:26:38.459Z"
   },
   {
    "duration": 14,
    "start_time": "2023-07-19T13:26:38.477Z"
   },
   {
    "duration": 26,
    "start_time": "2023-07-19T13:26:38.493Z"
   },
   {
    "duration": 39,
    "start_time": "2023-07-19T13:26:38.521Z"
   },
   {
    "duration": 120,
    "start_time": "2023-07-19T13:37:34.013Z"
   },
   {
    "duration": 24,
    "start_time": "2023-07-19T13:37:41.692Z"
   },
   {
    "duration": 29,
    "start_time": "2023-07-19T13:37:47.352Z"
   },
   {
    "duration": 12,
    "start_time": "2023-07-19T13:40:03.820Z"
   },
   {
    "duration": 29,
    "start_time": "2023-07-19T13:40:22.952Z"
   },
   {
    "duration": 16,
    "start_time": "2023-07-19T13:40:30.052Z"
   },
   {
    "duration": 1199,
    "start_time": "2023-07-19T13:42:38.573Z"
   },
   {
    "duration": 76,
    "start_time": "2023-07-19T13:42:39.774Z"
   },
   {
    "duration": 3,
    "start_time": "2023-07-19T13:42:39.851Z"
   },
   {
    "duration": 21,
    "start_time": "2023-07-19T13:42:39.856Z"
   },
   {
    "duration": 22,
    "start_time": "2023-07-19T13:42:39.879Z"
   },
   {
    "duration": 16,
    "start_time": "2023-07-19T13:42:39.903Z"
   },
   {
    "duration": 11,
    "start_time": "2023-07-19T13:42:39.921Z"
   },
   {
    "duration": 34,
    "start_time": "2023-07-19T13:42:39.933Z"
   },
   {
    "duration": 7,
    "start_time": "2023-07-19T13:42:39.969Z"
   },
   {
    "duration": 20,
    "start_time": "2023-07-19T13:42:39.978Z"
   },
   {
    "duration": 126,
    "start_time": "2023-07-19T13:42:39.999Z"
   },
   {
    "duration": 0,
    "start_time": "2023-07-19T13:42:40.128Z"
   },
   {
    "duration": 0,
    "start_time": "2023-07-19T13:42:40.129Z"
   },
   {
    "duration": 0,
    "start_time": "2023-07-19T13:42:40.130Z"
   },
   {
    "duration": 0,
    "start_time": "2023-07-19T13:42:40.131Z"
   },
   {
    "duration": 0,
    "start_time": "2023-07-19T13:42:40.132Z"
   },
   {
    "duration": 0,
    "start_time": "2023-07-19T13:42:40.133Z"
   },
   {
    "duration": 0,
    "start_time": "2023-07-19T13:42:40.134Z"
   },
   {
    "duration": 0,
    "start_time": "2023-07-19T13:42:40.135Z"
   },
   {
    "duration": 0,
    "start_time": "2023-07-19T13:42:40.137Z"
   },
   {
    "duration": 0,
    "start_time": "2023-07-19T13:42:40.138Z"
   },
   {
    "duration": 0,
    "start_time": "2023-07-19T13:42:40.138Z"
   },
   {
    "duration": 0,
    "start_time": "2023-07-19T13:42:40.159Z"
   },
   {
    "duration": 0,
    "start_time": "2023-07-19T13:42:40.161Z"
   },
   {
    "duration": 0,
    "start_time": "2023-07-19T13:42:40.163Z"
   },
   {
    "duration": 0,
    "start_time": "2023-07-19T13:42:40.164Z"
   },
   {
    "duration": 0,
    "start_time": "2023-07-19T13:42:40.165Z"
   },
   {
    "duration": 0,
    "start_time": "2023-07-19T13:42:40.167Z"
   },
   {
    "duration": 0,
    "start_time": "2023-07-19T13:42:40.168Z"
   },
   {
    "duration": 0,
    "start_time": "2023-07-19T13:42:40.170Z"
   },
   {
    "duration": 0,
    "start_time": "2023-07-19T13:42:40.171Z"
   },
   {
    "duration": 0,
    "start_time": "2023-07-19T13:42:40.172Z"
   },
   {
    "duration": 0,
    "start_time": "2023-07-19T13:42:40.173Z"
   },
   {
    "duration": 0,
    "start_time": "2023-07-19T13:42:40.174Z"
   },
   {
    "duration": 0,
    "start_time": "2023-07-19T13:42:40.176Z"
   },
   {
    "duration": 0,
    "start_time": "2023-07-19T13:42:40.177Z"
   },
   {
    "duration": 0,
    "start_time": "2023-07-19T13:42:40.178Z"
   },
   {
    "duration": 0,
    "start_time": "2023-07-19T13:42:40.179Z"
   },
   {
    "duration": 0,
    "start_time": "2023-07-19T13:42:40.180Z"
   },
   {
    "duration": 0,
    "start_time": "2023-07-19T13:42:40.181Z"
   },
   {
    "duration": 0,
    "start_time": "2023-07-19T13:42:40.182Z"
   },
   {
    "duration": 0,
    "start_time": "2023-07-19T13:42:40.183Z"
   },
   {
    "duration": 0,
    "start_time": "2023-07-19T13:42:40.185Z"
   },
   {
    "duration": 0,
    "start_time": "2023-07-19T13:42:40.186Z"
   },
   {
    "duration": 0,
    "start_time": "2023-07-19T13:42:40.187Z"
   },
   {
    "duration": 0,
    "start_time": "2023-07-19T13:42:40.188Z"
   },
   {
    "duration": 0,
    "start_time": "2023-07-19T13:42:40.189Z"
   },
   {
    "duration": 0,
    "start_time": "2023-07-19T13:42:40.190Z"
   },
   {
    "duration": 0,
    "start_time": "2023-07-19T13:42:40.191Z"
   },
   {
    "duration": 0,
    "start_time": "2023-07-19T13:42:40.192Z"
   },
   {
    "duration": 0,
    "start_time": "2023-07-19T13:42:40.193Z"
   },
   {
    "duration": 10,
    "start_time": "2023-07-19T13:43:33.594Z"
   },
   {
    "duration": 4,
    "start_time": "2023-07-19T13:43:39.134Z"
   },
   {
    "duration": 91,
    "start_time": "2023-07-19T13:43:39.140Z"
   },
   {
    "duration": 3,
    "start_time": "2023-07-19T13:43:39.233Z"
   },
   {
    "duration": 27,
    "start_time": "2023-07-19T13:43:39.237Z"
   },
   {
    "duration": 14,
    "start_time": "2023-07-19T13:43:39.267Z"
   },
   {
    "duration": 5,
    "start_time": "2023-07-19T13:43:39.436Z"
   },
   {
    "duration": 29,
    "start_time": "2023-07-19T13:43:39.443Z"
   },
   {
    "duration": 20,
    "start_time": "2023-07-19T13:43:39.474Z"
   },
   {
    "duration": 24,
    "start_time": "2023-07-19T13:43:39.495Z"
   },
   {
    "duration": 16,
    "start_time": "2023-07-19T13:43:39.521Z"
   },
   {
    "duration": 25,
    "start_time": "2023-07-19T13:43:39.539Z"
   },
   {
    "duration": 26,
    "start_time": "2023-07-19T13:43:39.566Z"
   },
   {
    "duration": 35,
    "start_time": "2023-07-19T13:43:39.594Z"
   },
   {
    "duration": 0,
    "start_time": "2023-07-19T13:43:39.632Z"
   },
   {
    "duration": 0,
    "start_time": "2023-07-19T13:43:39.633Z"
   },
   {
    "duration": 0,
    "start_time": "2023-07-19T13:43:39.634Z"
   },
   {
    "duration": 0,
    "start_time": "2023-07-19T13:43:39.635Z"
   },
   {
    "duration": 0,
    "start_time": "2023-07-19T13:43:39.636Z"
   },
   {
    "duration": 0,
    "start_time": "2023-07-19T13:43:39.638Z"
   },
   {
    "duration": 0,
    "start_time": "2023-07-19T13:43:39.639Z"
   },
   {
    "duration": 0,
    "start_time": "2023-07-19T13:43:39.640Z"
   },
   {
    "duration": 0,
    "start_time": "2023-07-19T13:43:39.641Z"
   },
   {
    "duration": 0,
    "start_time": "2023-07-19T13:43:39.642Z"
   },
   {
    "duration": 0,
    "start_time": "2023-07-19T13:43:39.644Z"
   },
   {
    "duration": 0,
    "start_time": "2023-07-19T13:43:39.645Z"
   },
   {
    "duration": 0,
    "start_time": "2023-07-19T13:43:39.659Z"
   },
   {
    "duration": 0,
    "start_time": "2023-07-19T13:43:39.660Z"
   },
   {
    "duration": 0,
    "start_time": "2023-07-19T13:43:39.662Z"
   },
   {
    "duration": 0,
    "start_time": "2023-07-19T13:43:39.663Z"
   },
   {
    "duration": 0,
    "start_time": "2023-07-19T13:43:39.664Z"
   },
   {
    "duration": 0,
    "start_time": "2023-07-19T13:43:39.666Z"
   },
   {
    "duration": 0,
    "start_time": "2023-07-19T13:43:39.667Z"
   },
   {
    "duration": 0,
    "start_time": "2023-07-19T13:43:39.668Z"
   },
   {
    "duration": 0,
    "start_time": "2023-07-19T13:43:39.668Z"
   },
   {
    "duration": 1,
    "start_time": "2023-07-19T13:43:39.669Z"
   },
   {
    "duration": 0,
    "start_time": "2023-07-19T13:43:39.670Z"
   },
   {
    "duration": 0,
    "start_time": "2023-07-19T13:43:39.674Z"
   },
   {
    "duration": 0,
    "start_time": "2023-07-19T13:43:39.675Z"
   },
   {
    "duration": 0,
    "start_time": "2023-07-19T13:43:39.676Z"
   },
   {
    "duration": 0,
    "start_time": "2023-07-19T13:43:39.678Z"
   },
   {
    "duration": 0,
    "start_time": "2023-07-19T13:43:39.679Z"
   },
   {
    "duration": 0,
    "start_time": "2023-07-19T13:43:39.681Z"
   },
   {
    "duration": 0,
    "start_time": "2023-07-19T13:43:39.682Z"
   },
   {
    "duration": 0,
    "start_time": "2023-07-19T13:43:39.683Z"
   },
   {
    "duration": 0,
    "start_time": "2023-07-19T13:43:39.684Z"
   },
   {
    "duration": 0,
    "start_time": "2023-07-19T13:43:39.685Z"
   },
   {
    "duration": 0,
    "start_time": "2023-07-19T13:43:39.686Z"
   },
   {
    "duration": 0,
    "start_time": "2023-07-19T13:43:39.687Z"
   },
   {
    "duration": 0,
    "start_time": "2023-07-19T13:43:39.688Z"
   },
   {
    "duration": 0,
    "start_time": "2023-07-19T13:43:39.689Z"
   },
   {
    "duration": 0,
    "start_time": "2023-07-19T13:43:39.690Z"
   },
   {
    "duration": 3,
    "start_time": "2023-07-19T13:45:26.514Z"
   },
   {
    "duration": 86,
    "start_time": "2023-07-19T13:45:26.520Z"
   },
   {
    "duration": 3,
    "start_time": "2023-07-19T13:45:26.608Z"
   },
   {
    "duration": 19,
    "start_time": "2023-07-19T13:45:26.612Z"
   },
   {
    "duration": 15,
    "start_time": "2023-07-19T13:45:26.633Z"
   },
   {
    "duration": 8,
    "start_time": "2023-07-19T13:45:26.649Z"
   },
   {
    "duration": 16,
    "start_time": "2023-07-19T13:45:26.658Z"
   },
   {
    "duration": 10,
    "start_time": "2023-07-19T13:45:26.676Z"
   },
   {
    "duration": 11,
    "start_time": "2023-07-19T13:45:26.688Z"
   },
   {
    "duration": 19,
    "start_time": "2023-07-19T13:45:26.700Z"
   },
   {
    "duration": 16,
    "start_time": "2023-07-19T13:45:27.257Z"
   },
   {
    "duration": 12,
    "start_time": "2023-07-19T13:45:27.276Z"
   },
   {
    "duration": 44,
    "start_time": "2023-07-19T13:45:27.290Z"
   },
   {
    "duration": 10,
    "start_time": "2023-07-19T13:45:27.337Z"
   },
   {
    "duration": 15,
    "start_time": "2023-07-19T13:45:27.349Z"
   },
   {
    "duration": 13,
    "start_time": "2023-07-19T13:45:27.365Z"
   },
   {
    "duration": 22,
    "start_time": "2023-07-19T13:45:27.380Z"
   },
   {
    "duration": 17,
    "start_time": "2023-07-19T13:45:27.403Z"
   },
   {
    "duration": 29,
    "start_time": "2023-07-19T13:45:27.422Z"
   },
   {
    "duration": 25,
    "start_time": "2023-07-19T13:45:27.453Z"
   },
   {
    "duration": 18,
    "start_time": "2023-07-19T13:45:27.480Z"
   },
   {
    "duration": 27,
    "start_time": "2023-07-19T13:45:27.500Z"
   },
   {
    "duration": 33,
    "start_time": "2023-07-19T13:45:27.529Z"
   },
   {
    "duration": 173,
    "start_time": "2023-07-19T13:45:27.566Z"
   },
   {
    "duration": 146,
    "start_time": "2023-07-19T13:45:27.741Z"
   },
   {
    "duration": 7,
    "start_time": "2023-07-19T13:45:27.888Z"
   },
   {
    "duration": 40,
    "start_time": "2023-07-19T13:45:27.897Z"
   },
   {
    "duration": 341,
    "start_time": "2023-07-19T13:45:27.939Z"
   },
   {
    "duration": 11,
    "start_time": "2023-07-19T13:45:28.281Z"
   },
   {
    "duration": 30,
    "start_time": "2023-07-19T13:45:28.293Z"
   },
   {
    "duration": 221,
    "start_time": "2023-07-19T13:45:28.325Z"
   },
   {
    "duration": 338,
    "start_time": "2023-07-19T13:45:28.548Z"
   },
   {
    "duration": 261,
    "start_time": "2023-07-19T13:45:28.888Z"
   },
   {
    "duration": 347,
    "start_time": "2023-07-19T13:45:29.150Z"
   },
   {
    "duration": 8,
    "start_time": "2023-07-19T13:45:29.499Z"
   },
   {
    "duration": 170,
    "start_time": "2023-07-19T13:45:29.509Z"
   },
   {
    "duration": 4,
    "start_time": "2023-07-19T13:45:29.681Z"
   },
   {
    "duration": 199,
    "start_time": "2023-07-19T13:45:29.687Z"
   },
   {
    "duration": 241,
    "start_time": "2023-07-19T13:45:29.888Z"
   },
   {
    "duration": 5,
    "start_time": "2023-07-19T13:45:30.131Z"
   },
   {
    "duration": 95,
    "start_time": "2023-07-19T13:45:30.137Z"
   },
   {
    "duration": 63,
    "start_time": "2023-07-19T13:45:30.234Z"
   },
   {
    "duration": 189,
    "start_time": "2023-07-19T13:45:30.299Z"
   },
   {
    "duration": 136,
    "start_time": "2023-07-19T13:45:30.490Z"
   },
   {
    "duration": 0,
    "start_time": "2023-07-19T13:45:30.628Z"
   },
   {
    "duration": 0,
    "start_time": "2023-07-19T13:45:30.629Z"
   },
   {
    "duration": 0,
    "start_time": "2023-07-19T13:45:30.630Z"
   },
   {
    "duration": 0,
    "start_time": "2023-07-19T13:45:30.632Z"
   },
   {
    "duration": 0,
    "start_time": "2023-07-19T13:45:30.633Z"
   },
   {
    "duration": 0,
    "start_time": "2023-07-19T13:45:30.634Z"
   },
   {
    "duration": 0,
    "start_time": "2023-07-19T13:45:30.635Z"
   },
   {
    "duration": 345,
    "start_time": "2023-07-19T13:46:48.254Z"
   },
   {
    "duration": 335,
    "start_time": "2023-07-19T13:47:39.312Z"
   },
   {
    "duration": 3,
    "start_time": "2023-07-19T13:49:12.210Z"
   },
   {
    "duration": 93,
    "start_time": "2023-07-19T13:49:12.215Z"
   },
   {
    "duration": 4,
    "start_time": "2023-07-19T13:49:12.309Z"
   },
   {
    "duration": 11,
    "start_time": "2023-07-19T13:49:12.314Z"
   },
   {
    "duration": 15,
    "start_time": "2023-07-19T13:49:12.327Z"
   },
   {
    "duration": 30,
    "start_time": "2023-07-19T13:49:12.343Z"
   },
   {
    "duration": 33,
    "start_time": "2023-07-19T13:49:12.375Z"
   },
   {
    "duration": 26,
    "start_time": "2023-07-19T13:49:12.409Z"
   },
   {
    "duration": 23,
    "start_time": "2023-07-19T13:49:12.438Z"
   },
   {
    "duration": 29,
    "start_time": "2023-07-19T13:49:12.463Z"
   },
   {
    "duration": 23,
    "start_time": "2023-07-19T13:49:12.494Z"
   },
   {
    "duration": 32,
    "start_time": "2023-07-19T13:49:12.519Z"
   },
   {
    "duration": 13,
    "start_time": "2023-07-19T13:49:12.552Z"
   },
   {
    "duration": 22,
    "start_time": "2023-07-19T13:49:12.567Z"
   },
   {
    "duration": 12,
    "start_time": "2023-07-19T13:49:12.591Z"
   },
   {
    "duration": 7,
    "start_time": "2023-07-19T13:49:12.605Z"
   },
   {
    "duration": 5,
    "start_time": "2023-07-19T13:49:12.613Z"
   },
   {
    "duration": 6,
    "start_time": "2023-07-19T13:49:12.620Z"
   },
   {
    "duration": 11,
    "start_time": "2023-07-19T13:49:12.627Z"
   },
   {
    "duration": 8,
    "start_time": "2023-07-19T13:49:12.640Z"
   },
   {
    "duration": 30,
    "start_time": "2023-07-19T13:49:12.650Z"
   },
   {
    "duration": 24,
    "start_time": "2023-07-19T13:49:12.681Z"
   },
   {
    "duration": 11,
    "start_time": "2023-07-19T13:49:12.707Z"
   },
   {
    "duration": 175,
    "start_time": "2023-07-19T13:49:12.721Z"
   },
   {
    "duration": 226,
    "start_time": "2023-07-19T13:49:12.898Z"
   },
   {
    "duration": 8,
    "start_time": "2023-07-19T13:49:13.159Z"
   },
   {
    "duration": 51,
    "start_time": "2023-07-19T13:49:13.169Z"
   },
   {
    "duration": 285,
    "start_time": "2023-07-19T13:49:13.222Z"
   },
   {
    "duration": 10,
    "start_time": "2023-07-19T13:49:13.509Z"
   },
   {
    "duration": 32,
    "start_time": "2023-07-19T13:49:13.521Z"
   },
   {
    "duration": 248,
    "start_time": "2023-07-19T13:49:13.555Z"
   },
   {
    "duration": 336,
    "start_time": "2023-07-19T13:49:13.805Z"
   },
   {
    "duration": 322,
    "start_time": "2023-07-19T13:49:14.143Z"
   },
   {
    "duration": 338,
    "start_time": "2023-07-19T13:49:14.467Z"
   },
   {
    "duration": 9,
    "start_time": "2023-07-19T13:49:14.808Z"
   },
   {
    "duration": 176,
    "start_time": "2023-07-19T13:49:14.819Z"
   },
   {
    "duration": 4,
    "start_time": "2023-07-19T13:49:14.997Z"
   },
   {
    "duration": 236,
    "start_time": "2023-07-19T13:49:15.003Z"
   },
   {
    "duration": 239,
    "start_time": "2023-07-19T13:49:15.241Z"
   },
   {
    "duration": 5,
    "start_time": "2023-07-19T13:49:15.482Z"
   },
   {
    "duration": 22,
    "start_time": "2023-07-19T13:49:15.488Z"
   },
   {
    "duration": 17,
    "start_time": "2023-07-19T13:49:15.512Z"
   },
   {
    "duration": 250,
    "start_time": "2023-07-19T13:49:15.530Z"
   },
   {
    "duration": 157,
    "start_time": "2023-07-19T13:49:15.782Z"
   },
   {
    "duration": 18,
    "start_time": "2023-07-19T13:49:15.941Z"
   },
   {
    "duration": 175,
    "start_time": "2023-07-19T13:49:15.962Z"
   },
   {
    "duration": 31,
    "start_time": "2023-07-19T13:49:16.139Z"
   },
   {
    "duration": 13,
    "start_time": "2023-07-19T13:49:16.172Z"
   },
   {
    "duration": 11,
    "start_time": "2023-07-19T13:49:16.188Z"
   },
   {
    "duration": 20,
    "start_time": "2023-07-19T13:49:16.201Z"
   },
   {
    "duration": 38,
    "start_time": "2023-07-19T13:49:16.223Z"
   },
   {
    "duration": 20,
    "start_time": "2023-07-19T13:49:16.263Z"
   },
   {
    "duration": 1193,
    "start_time": "2023-07-19T15:06:12.946Z"
   },
   {
    "duration": 212,
    "start_time": "2023-07-19T15:06:14.140Z"
   },
   {
    "duration": 3,
    "start_time": "2023-07-19T15:06:14.353Z"
   },
   {
    "duration": 13,
    "start_time": "2023-07-19T15:06:14.358Z"
   },
   {
    "duration": 11,
    "start_time": "2023-07-19T15:06:14.374Z"
   },
   {
    "duration": 8,
    "start_time": "2023-07-19T15:06:14.386Z"
   },
   {
    "duration": 8,
    "start_time": "2023-07-19T15:06:14.396Z"
   },
   {
    "duration": 10,
    "start_time": "2023-07-19T15:06:14.406Z"
   },
   {
    "duration": 39,
    "start_time": "2023-07-19T15:06:14.418Z"
   },
   {
    "duration": 13,
    "start_time": "2023-07-19T15:06:14.459Z"
   },
   {
    "duration": 16,
    "start_time": "2023-07-19T15:06:14.473Z"
   },
   {
    "duration": 9,
    "start_time": "2023-07-19T15:06:14.490Z"
   },
   {
    "duration": 10,
    "start_time": "2023-07-19T15:06:14.500Z"
   },
   {
    "duration": 41,
    "start_time": "2023-07-19T15:06:14.512Z"
   },
   {
    "duration": 10,
    "start_time": "2023-07-19T15:06:14.555Z"
   },
   {
    "duration": 10,
    "start_time": "2023-07-19T15:06:14.567Z"
   },
   {
    "duration": 15,
    "start_time": "2023-07-19T15:06:14.578Z"
   },
   {
    "duration": 13,
    "start_time": "2023-07-19T15:06:14.594Z"
   },
   {
    "duration": 47,
    "start_time": "2023-07-19T15:06:14.608Z"
   },
   {
    "duration": 17,
    "start_time": "2023-07-19T15:06:14.657Z"
   },
   {
    "duration": 12,
    "start_time": "2023-07-19T15:06:14.675Z"
   },
   {
    "duration": 13,
    "start_time": "2023-07-19T15:06:14.688Z"
   },
   {
    "duration": 10,
    "start_time": "2023-07-19T15:06:14.702Z"
   },
   {
    "duration": 163,
    "start_time": "2023-07-19T15:06:14.714Z"
   },
   {
    "duration": 114,
    "start_time": "2023-07-19T15:06:14.879Z"
   },
   {
    "duration": 5,
    "start_time": "2023-07-19T15:06:14.994Z"
   },
   {
    "duration": 83,
    "start_time": "2023-07-19T15:06:15.001Z"
   },
   {
    "duration": 351,
    "start_time": "2023-07-19T15:06:15.085Z"
   },
   {
    "duration": 13,
    "start_time": "2023-07-19T15:06:15.448Z"
   },
   {
    "duration": 29,
    "start_time": "2023-07-19T15:06:15.462Z"
   },
   {
    "duration": 280,
    "start_time": "2023-07-19T15:06:15.493Z"
   },
   {
    "duration": 305,
    "start_time": "2023-07-19T15:06:15.775Z"
   },
   {
    "duration": 251,
    "start_time": "2023-07-19T15:06:16.081Z"
   },
   {
    "duration": 326,
    "start_time": "2023-07-19T15:06:16.337Z"
   },
   {
    "duration": 9,
    "start_time": "2023-07-19T15:06:16.665Z"
   },
   {
    "duration": 170,
    "start_time": "2023-07-19T15:06:16.676Z"
   },
   {
    "duration": 4,
    "start_time": "2023-07-19T15:06:16.849Z"
   },
   {
    "duration": 179,
    "start_time": "2023-07-19T15:06:16.855Z"
   },
   {
    "duration": 240,
    "start_time": "2023-07-19T15:06:17.035Z"
   },
   {
    "duration": 4,
    "start_time": "2023-07-19T15:06:17.276Z"
   },
   {
    "duration": 11,
    "start_time": "2023-07-19T15:06:17.284Z"
   },
   {
    "duration": 11,
    "start_time": "2023-07-19T15:06:17.296Z"
   },
   {
    "duration": 302,
    "start_time": "2023-07-19T15:06:17.309Z"
   },
   {
    "duration": 151,
    "start_time": "2023-07-19T15:06:17.613Z"
   },
   {
    "duration": 5,
    "start_time": "2023-07-19T15:06:17.766Z"
   },
   {
    "duration": 157,
    "start_time": "2023-07-19T15:06:17.772Z"
   },
   {
    "duration": 32,
    "start_time": "2023-07-19T15:06:17.930Z"
   },
   {
    "duration": 10,
    "start_time": "2023-07-19T15:06:17.964Z"
   },
   {
    "duration": 10,
    "start_time": "2023-07-19T15:06:17.975Z"
   },
   {
    "duration": 36,
    "start_time": "2023-07-19T15:06:17.986Z"
   },
   {
    "duration": 67,
    "start_time": "2023-07-19T15:06:18.024Z"
   },
   {
    "duration": 16,
    "start_time": "2023-07-19T15:06:18.093Z"
   },
   {
    "duration": 1190,
    "start_time": "2023-07-19T15:12:34.520Z"
   },
   {
    "duration": 72,
    "start_time": "2023-07-19T15:12:35.711Z"
   },
   {
    "duration": 3,
    "start_time": "2023-07-19T15:12:35.784Z"
   },
   {
    "duration": 35,
    "start_time": "2023-07-19T15:12:35.788Z"
   },
   {
    "duration": 28,
    "start_time": "2023-07-19T15:12:35.826Z"
   },
   {
    "duration": 25,
    "start_time": "2023-07-19T15:12:35.856Z"
   },
   {
    "duration": 31,
    "start_time": "2023-07-19T15:12:35.883Z"
   },
   {
    "duration": 38,
    "start_time": "2023-07-19T15:12:35.915Z"
   },
   {
    "duration": 25,
    "start_time": "2023-07-19T15:12:35.955Z"
   },
   {
    "duration": 40,
    "start_time": "2023-07-19T15:12:35.982Z"
   },
   {
    "duration": 41,
    "start_time": "2023-07-19T15:12:36.024Z"
   },
   {
    "duration": 27,
    "start_time": "2023-07-19T15:12:36.066Z"
   },
   {
    "duration": 32,
    "start_time": "2023-07-19T15:12:36.095Z"
   },
   {
    "duration": 32,
    "start_time": "2023-07-19T15:12:36.130Z"
   },
   {
    "duration": 36,
    "start_time": "2023-07-19T15:12:36.164Z"
   },
   {
    "duration": 21,
    "start_time": "2023-07-19T15:12:36.202Z"
   },
   {
    "duration": 31,
    "start_time": "2023-07-19T15:12:36.225Z"
   },
   {
    "duration": 31,
    "start_time": "2023-07-19T15:12:36.257Z"
   },
   {
    "duration": 45,
    "start_time": "2023-07-19T15:12:36.289Z"
   },
   {
    "duration": 138,
    "start_time": "2023-07-19T15:12:36.336Z"
   },
   {
    "duration": 42,
    "start_time": "2023-07-19T15:12:36.476Z"
   },
   {
    "duration": 40,
    "start_time": "2023-07-19T15:12:36.521Z"
   },
   {
    "duration": 20,
    "start_time": "2023-07-19T15:12:36.563Z"
   },
   {
    "duration": 190,
    "start_time": "2023-07-19T15:12:36.585Z"
   },
   {
    "duration": 119,
    "start_time": "2023-07-19T15:12:36.776Z"
   },
   {
    "duration": 46,
    "start_time": "2023-07-19T15:12:36.896Z"
   },
   {
    "duration": 26,
    "start_time": "2023-07-19T15:12:36.944Z"
   },
   {
    "duration": 290,
    "start_time": "2023-07-19T15:12:36.971Z"
   },
   {
    "duration": 9,
    "start_time": "2023-07-19T15:12:37.263Z"
   },
   {
    "duration": 24,
    "start_time": "2023-07-19T15:12:37.274Z"
   },
   {
    "duration": 197,
    "start_time": "2023-07-19T15:12:37.300Z"
   },
   {
    "duration": 350,
    "start_time": "2023-07-19T15:12:37.498Z"
   },
   {
    "duration": 237,
    "start_time": "2023-07-19T15:12:37.849Z"
   },
   {
    "duration": 328,
    "start_time": "2023-07-19T15:12:38.088Z"
   },
   {
    "duration": 11,
    "start_time": "2023-07-19T15:12:38.420Z"
   },
   {
    "duration": 157,
    "start_time": "2023-07-19T15:12:38.433Z"
   },
   {
    "duration": 4,
    "start_time": "2023-07-19T15:12:38.591Z"
   },
   {
    "duration": 170,
    "start_time": "2023-07-19T15:12:38.597Z"
   },
   {
    "duration": 206,
    "start_time": "2023-07-19T15:12:38.769Z"
   },
   {
    "duration": 4,
    "start_time": "2023-07-19T15:12:38.976Z"
   },
   {
    "duration": 12,
    "start_time": "2023-07-19T15:12:38.983Z"
   },
   {
    "duration": 20,
    "start_time": "2023-07-19T15:12:38.997Z"
   },
   {
    "duration": 266,
    "start_time": "2023-07-19T15:12:39.019Z"
   },
   {
    "duration": 142,
    "start_time": "2023-07-19T15:12:39.287Z"
   },
   {
    "duration": 8,
    "start_time": "2023-07-19T15:12:39.431Z"
   },
   {
    "duration": 264,
    "start_time": "2023-07-19T15:12:39.440Z"
   },
   {
    "duration": 29,
    "start_time": "2023-07-19T15:12:39.705Z"
   },
   {
    "duration": 13,
    "start_time": "2023-07-19T15:12:39.736Z"
   },
   {
    "duration": 33,
    "start_time": "2023-07-19T15:12:39.750Z"
   },
   {
    "duration": 25,
    "start_time": "2023-07-19T15:12:39.785Z"
   },
   {
    "duration": 43,
    "start_time": "2023-07-19T15:12:39.811Z"
   },
   {
    "duration": 11,
    "start_time": "2023-07-19T15:12:39.855Z"
   }
  ],
  "kernelspec": {
   "display_name": "Python 3 (ipykernel)",
   "language": "python",
   "name": "python3"
  },
  "language_info": {
   "codemirror_mode": {
    "name": "ipython",
    "version": 3
   },
   "file_extension": ".py",
   "mimetype": "text/x-python",
   "name": "python",
   "nbconvert_exporter": "python",
   "pygments_lexer": "ipython3",
   "version": "3.11.5"
  },
  "toc": {
   "base_numbering": 1,
   "nav_menu": {},
   "number_sections": true,
   "sideBar": true,
   "skip_h1_title": true,
   "title_cell": "Table of Contents",
   "title_sidebar": "Contents",
   "toc_cell": false,
   "toc_position": {
    "height": "calc(100% - 180px)",
    "left": "10px",
    "top": "150px",
    "width": "342.431px"
   },
   "toc_section_display": true,
   "toc_window_display": false
  }
 },
 "nbformat": 4,
 "nbformat_minor": 2
}

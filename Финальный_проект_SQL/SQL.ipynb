{
 "cells": [
  {
   "cell_type": "markdown",
   "metadata": {},
   "source": [
    "# Проект по SQL"
   ]
  },
  {
   "cell_type": "markdown",
   "metadata": {},
   "source": [
    "# Описание проекта:\n",
    "\n",
    "Коронавирус застал мир врасплох, изменив привычный порядок вещей. В свободное время жители городов больше не выходят на улицу, не посещают кафе и торговые центры. Зато стало больше времени для книг. Это заметили стартаперы — и бросились создавать приложения для тех, кто любит читать.\n",
    "Ваша компания решила быть на волне и купила крупный сервис для чтения книг по подписке. Ваша первая задача как аналитика — проанализировать базу данных.\n",
    "В ней — информация о книгах, издательствах, авторах, а также пользовательские обзоры книг. Эти данные помогут сформулировать ценностное предложение для нового продукта."
   ]
  },
  {
   "cell_type": "markdown",
   "metadata": {},
   "source": [
    "# Цель исследования:\n",
    "Сформулировать ценностное предложение для нового продукта."
   ]
  },
  {
   "cell_type": "markdown",
   "metadata": {},
   "source": [
    "# Описание данных: \n",
    "\n",
    "Таблица **books** содержит данные о книгах:\n",
    "\n",
    "- book_id — идентификатор книги;\n",
    "- author_id — идентификатор автора;\n",
    "- title — название книги;\n",
    "- num_pages — количество страниц;\n",
    "- publication_date — дата публикации книги;\n",
    "- publisher_id — идентификатор издателя.\n",
    "\n",
    "Таблица **authors** содержит данные об авторах:\n",
    "\n",
    "- author_id — идентификатор автора;\n",
    "- author — имя автора.\n",
    "\n",
    "Таблица **publishers** содержит данные об издательствах:\n",
    "\n",
    "- publisher_id — идентификатор издательства;\n",
    "- publisher — название издательства;\n",
    "- Таблица ratings\n",
    "- Содержит данные о пользовательских оценках книг:\n",
    "- rating_id — идентификатор оценки;\n",
    "- book_id — идентификатор книги;\n",
    "- username — имя пользователя, оставившего оценку;\n",
    "- rating — оценка книги.\n",
    "\n",
    "Таблица **reviews** содержит данные о пользовательских обзорах:\n",
    "\n",
    "- review_id — идентификатор обзора;\n",
    "- book_id — идентификатор книги;\n",
    "- username — имя автора обзора;\n",
    "- text — текст обзора."
   ]
  },
  {
   "cell_type": "markdown",
   "metadata": {},
   "source": [
    "# Схема данных"
   ]
  },
  {
   "cell_type": "code",
   "execution_count": 1,
   "metadata": {},
   "outputs": [
    {
     "data": {
      "text/html": [
       "<img src=\"https://pictures.s3.yandex.net/resources/scheme_1589269096.png\"/>"
      ],
      "text/plain": [
       "<IPython.core.display.Image object>"
      ]
     },
     "execution_count": 1,
     "metadata": {},
     "output_type": "execute_result"
    }
   ],
   "source": [
    "from IPython.display import Image\n",
    "Image(url = 'https://pictures.s3.yandex.net/resources/scheme_1589269096.png')"
   ]
  },
  {
   "cell_type": "markdown",
   "metadata": {},
   "source": [
    "# План работы:"
   ]
  },
  {
   "cell_type": "markdown",
   "metadata": {},
   "source": [
    "\n",
    "- Подготовить данные для составления SQL-запросов\n",
    "- Ознакомиться с данными и схеммой данных\n",
    "- Выполнить задания \n",
    "- Подвести итоги"
   ]
  },
  {
   "cell_type": "markdown",
   "metadata": {},
   "source": [
    "# Задания:\n",
    "\n",
    "- Посчитайте, сколько книг вышло после 1 января 2000 года;\n",
    "- Для каждой книги посчитайте количество обзоров и среднюю оценку;\n",
    "- Определите издательство, которое выпустило наибольшее число книг толще 50 страниц — так вы исключите из анализа брошюры;\n",
    "- Определите автора с самой высокой средней оценкой книг — учитывайте только книги с 50 и более оценками;\n",
    "- Посчитайте среднее количество обзоров от пользователей, которые поставили больше 48 оценок."
   ]
  },
  {
   "cell_type": "markdown",
   "metadata": {},
   "source": [
    "# Подготовка данных:"
   ]
  },
  {
   "cell_type": "code",
   "execution_count": 2,
   "metadata": {},
   "outputs": [
    {
     "data": {
      "text/html": [
       "<div>\n",
       "<style scoped>\n",
       "    .dataframe tbody tr th:only-of-type {\n",
       "        vertical-align: middle;\n",
       "    }\n",
       "\n",
       "    .dataframe tbody tr th {\n",
       "        vertical-align: top;\n",
       "    }\n",
       "\n",
       "    .dataframe thead th {\n",
       "        text-align: right;\n",
       "    }\n",
       "</style>\n",
       "<table border=\"1\" class=\"dataframe\">\n",
       "  <thead>\n",
       "    <tr style=\"text-align: right;\">\n",
       "      <th></th>\n",
       "      <th>book_id</th>\n",
       "      <th>author_id</th>\n",
       "      <th>title</th>\n",
       "      <th>num_pages</th>\n",
       "      <th>publication_date</th>\n",
       "      <th>publisher_id</th>\n",
       "    </tr>\n",
       "  </thead>\n",
       "  <tbody>\n",
       "    <tr>\n",
       "      <th>0</th>\n",
       "      <td>1</td>\n",
       "      <td>546</td>\n",
       "      <td>'Salem's Lot</td>\n",
       "      <td>594</td>\n",
       "      <td>2005-11-01</td>\n",
       "      <td>93</td>\n",
       "    </tr>\n",
       "    <tr>\n",
       "      <th>1</th>\n",
       "      <td>2</td>\n",
       "      <td>465</td>\n",
       "      <td>1 000 Places to See Before You Die</td>\n",
       "      <td>992</td>\n",
       "      <td>2003-05-22</td>\n",
       "      <td>336</td>\n",
       "    </tr>\n",
       "    <tr>\n",
       "      <th>2</th>\n",
       "      <td>3</td>\n",
       "      <td>407</td>\n",
       "      <td>13 Little Blue Envelopes (Little Blue Envelope...</td>\n",
       "      <td>322</td>\n",
       "      <td>2010-12-21</td>\n",
       "      <td>135</td>\n",
       "    </tr>\n",
       "    <tr>\n",
       "      <th>3</th>\n",
       "      <td>4</td>\n",
       "      <td>82</td>\n",
       "      <td>1491: New Revelations of the Americas Before C...</td>\n",
       "      <td>541</td>\n",
       "      <td>2006-10-10</td>\n",
       "      <td>309</td>\n",
       "    </tr>\n",
       "    <tr>\n",
       "      <th>4</th>\n",
       "      <td>5</td>\n",
       "      <td>125</td>\n",
       "      <td>1776</td>\n",
       "      <td>386</td>\n",
       "      <td>2006-07-04</td>\n",
       "      <td>268</td>\n",
       "    </tr>\n",
       "  </tbody>\n",
       "</table>\n",
       "</div>"
      ],
      "text/plain": [
       "   book_id  author_id                                              title  \\\n",
       "0        1        546                                       'Salem's Lot   \n",
       "1        2        465                 1 000 Places to See Before You Die   \n",
       "2        3        407  13 Little Blue Envelopes (Little Blue Envelope...   \n",
       "3        4         82  1491: New Revelations of the Americas Before C...   \n",
       "4        5        125                                               1776   \n",
       "\n",
       "   num_pages publication_date  publisher_id  \n",
       "0        594       2005-11-01            93  \n",
       "1        992       2003-05-22           336  \n",
       "2        322       2010-12-21           135  \n",
       "3        541       2006-10-10           309  \n",
       "4        386       2006-07-04           268  "
      ]
     },
     "execution_count": 2,
     "metadata": {},
     "output_type": "execute_result"
    }
   ],
   "source": [
    "# импортируем библиотеки\n",
    "import pandas as pd\n",
    "from sqlalchemy import text, create_engine\n",
    "# устанавливаем параметры\n",
    "db_config = {'user': 'praktikum_student', # имя пользователя\n",
    "'pwd': 'Sdf4$2;d-d30pp', # пароль\n",
    "'host': 'rc1b-wcoijxj3yxfsf3fs.mdb.yandexcloud.net',\n",
    "'port': 6432, # порт подключения\n",
    "'db': 'data-analyst-final-project-db'} # название базы данных\n",
    "connection_string = 'postgresql://{user}:{pwd}@{host}:{port}/{db}'.format(**db_config)\n",
    "# сохраняем коннектор\n",
    "engine = create_engine(connection_string, connect_args={'sslmode':'require'})\n",
    "# чтобы выполнить SQL-запрос, используем Pandas\n",
    "query = '''SELECT * FROM books LIMIT 5'''\n",
    "con=engine.connect()\n",
    "pd.io.sql.read_sql(sql=text(query), con = con)"
   ]
  },
  {
   "cell_type": "code",
   "execution_count": 3,
   "metadata": {},
   "outputs": [],
   "source": [
    "# Функция выполнения sql запроса\n",
    "\n",
    "def func(sql):\n",
    "    return pd.read_sql(sql,con=engine)"
   ]
  },
  {
   "cell_type": "markdown",
   "metadata": {},
   "source": [
    "Далее подготовим все, необходимые нам в работе, таблицы:"
   ]
  },
  {
   "cell_type": "code",
   "execution_count": 4,
   "metadata": {},
   "outputs": [
    {
     "data": {
      "text/html": [
       "<div>\n",
       "<style scoped>\n",
       "    .dataframe tbody tr th:only-of-type {\n",
       "        vertical-align: middle;\n",
       "    }\n",
       "\n",
       "    .dataframe tbody tr th {\n",
       "        vertical-align: top;\n",
       "    }\n",
       "\n",
       "    .dataframe thead th {\n",
       "        text-align: right;\n",
       "    }\n",
       "</style>\n",
       "<table border=\"1\" class=\"dataframe\">\n",
       "  <thead>\n",
       "    <tr style=\"text-align: right;\">\n",
       "      <th></th>\n",
       "      <th>book_id</th>\n",
       "      <th>author_id</th>\n",
       "      <th>title</th>\n",
       "      <th>num_pages</th>\n",
       "      <th>publication_date</th>\n",
       "      <th>publisher_id</th>\n",
       "    </tr>\n",
       "  </thead>\n",
       "  <tbody>\n",
       "    <tr>\n",
       "      <th>0</th>\n",
       "      <td>1</td>\n",
       "      <td>546</td>\n",
       "      <td>'Salem's Lot</td>\n",
       "      <td>594</td>\n",
       "      <td>2005-11-01</td>\n",
       "      <td>93</td>\n",
       "    </tr>\n",
       "    <tr>\n",
       "      <th>1</th>\n",
       "      <td>2</td>\n",
       "      <td>465</td>\n",
       "      <td>1 000 Places to See Before You Die</td>\n",
       "      <td>992</td>\n",
       "      <td>2003-05-22</td>\n",
       "      <td>336</td>\n",
       "    </tr>\n",
       "    <tr>\n",
       "      <th>2</th>\n",
       "      <td>3</td>\n",
       "      <td>407</td>\n",
       "      <td>13 Little Blue Envelopes (Little Blue Envelope...</td>\n",
       "      <td>322</td>\n",
       "      <td>2010-12-21</td>\n",
       "      <td>135</td>\n",
       "    </tr>\n",
       "    <tr>\n",
       "      <th>3</th>\n",
       "      <td>4</td>\n",
       "      <td>82</td>\n",
       "      <td>1491: New Revelations of the Americas Before C...</td>\n",
       "      <td>541</td>\n",
       "      <td>2006-10-10</td>\n",
       "      <td>309</td>\n",
       "    </tr>\n",
       "    <tr>\n",
       "      <th>4</th>\n",
       "      <td>5</td>\n",
       "      <td>125</td>\n",
       "      <td>1776</td>\n",
       "      <td>386</td>\n",
       "      <td>2006-07-04</td>\n",
       "      <td>268</td>\n",
       "    </tr>\n",
       "    <tr>\n",
       "      <th>5</th>\n",
       "      <td>6</td>\n",
       "      <td>257</td>\n",
       "      <td>1st to Die (Women's Murder Club  #1)</td>\n",
       "      <td>424</td>\n",
       "      <td>2005-05-20</td>\n",
       "      <td>116</td>\n",
       "    </tr>\n",
       "    <tr>\n",
       "      <th>6</th>\n",
       "      <td>7</td>\n",
       "      <td>258</td>\n",
       "      <td>2nd Chance (Women's Murder Club  #2)</td>\n",
       "      <td>400</td>\n",
       "      <td>2005-05-20</td>\n",
       "      <td>116</td>\n",
       "    </tr>\n",
       "    <tr>\n",
       "      <th>7</th>\n",
       "      <td>8</td>\n",
       "      <td>260</td>\n",
       "      <td>4th of July (Women's Murder Club  #4)</td>\n",
       "      <td>448</td>\n",
       "      <td>2006-06-01</td>\n",
       "      <td>318</td>\n",
       "    </tr>\n",
       "    <tr>\n",
       "      <th>8</th>\n",
       "      <td>9</td>\n",
       "      <td>563</td>\n",
       "      <td>A Beautiful Mind</td>\n",
       "      <td>461</td>\n",
       "      <td>2002-02-04</td>\n",
       "      <td>104</td>\n",
       "    </tr>\n",
       "    <tr>\n",
       "      <th>9</th>\n",
       "      <td>10</td>\n",
       "      <td>445</td>\n",
       "      <td>A Bend in the Road</td>\n",
       "      <td>341</td>\n",
       "      <td>2005-04-01</td>\n",
       "      <td>116</td>\n",
       "    </tr>\n",
       "  </tbody>\n",
       "</table>\n",
       "</div>"
      ],
      "text/plain": [
       "   book_id  author_id                                              title  \\\n",
       "0        1        546                                       'Salem's Lot   \n",
       "1        2        465                 1 000 Places to See Before You Die   \n",
       "2        3        407  13 Little Blue Envelopes (Little Blue Envelope...   \n",
       "3        4         82  1491: New Revelations of the Americas Before C...   \n",
       "4        5        125                                               1776   \n",
       "5        6        257               1st to Die (Women's Murder Club  #1)   \n",
       "6        7        258               2nd Chance (Women's Murder Club  #2)   \n",
       "7        8        260              4th of July (Women's Murder Club  #4)   \n",
       "8        9        563                                   A Beautiful Mind   \n",
       "9       10        445                                 A Bend in the Road   \n",
       "\n",
       "   num_pages publication_date  publisher_id  \n",
       "0        594       2005-11-01            93  \n",
       "1        992       2003-05-22           336  \n",
       "2        322       2010-12-21           135  \n",
       "3        541       2006-10-10           309  \n",
       "4        386       2006-07-04           268  \n",
       "5        424       2005-05-20           116  \n",
       "6        400       2005-05-20           116  \n",
       "7        448       2006-06-01           318  \n",
       "8        461       2002-02-04           104  \n",
       "9        341       2005-04-01           116  "
      ]
     },
     "execution_count": 4,
     "metadata": {},
     "output_type": "execute_result"
    }
   ],
   "source": [
    "sql_books = '''\n",
    "SELECT *\n",
    "FROM books\n",
    "LIMIT 10\n",
    "'''\n",
    "books = func(sql_books)\n",
    "books"
   ]
  },
  {
   "cell_type": "code",
   "execution_count": 5,
   "metadata": {},
   "outputs": [
    {
     "data": {
      "text/html": [
       "<div>\n",
       "<style scoped>\n",
       "    .dataframe tbody tr th:only-of-type {\n",
       "        vertical-align: middle;\n",
       "    }\n",
       "\n",
       "    .dataframe tbody tr th {\n",
       "        vertical-align: top;\n",
       "    }\n",
       "\n",
       "    .dataframe thead th {\n",
       "        text-align: right;\n",
       "    }\n",
       "</style>\n",
       "<table border=\"1\" class=\"dataframe\">\n",
       "  <thead>\n",
       "    <tr style=\"text-align: right;\">\n",
       "      <th></th>\n",
       "      <th>rating_id</th>\n",
       "      <th>book_id</th>\n",
       "      <th>username</th>\n",
       "      <th>rating</th>\n",
       "    </tr>\n",
       "  </thead>\n",
       "  <tbody>\n",
       "    <tr>\n",
       "      <th>0</th>\n",
       "      <td>1</td>\n",
       "      <td>1</td>\n",
       "      <td>ryanfranco</td>\n",
       "      <td>4</td>\n",
       "    </tr>\n",
       "    <tr>\n",
       "      <th>1</th>\n",
       "      <td>2</td>\n",
       "      <td>1</td>\n",
       "      <td>grantpatricia</td>\n",
       "      <td>2</td>\n",
       "    </tr>\n",
       "    <tr>\n",
       "      <th>2</th>\n",
       "      <td>3</td>\n",
       "      <td>1</td>\n",
       "      <td>brandtandrea</td>\n",
       "      <td>5</td>\n",
       "    </tr>\n",
       "    <tr>\n",
       "      <th>3</th>\n",
       "      <td>4</td>\n",
       "      <td>2</td>\n",
       "      <td>lorichen</td>\n",
       "      <td>3</td>\n",
       "    </tr>\n",
       "    <tr>\n",
       "      <th>4</th>\n",
       "      <td>5</td>\n",
       "      <td>2</td>\n",
       "      <td>mariokeller</td>\n",
       "      <td>2</td>\n",
       "    </tr>\n",
       "    <tr>\n",
       "      <th>5</th>\n",
       "      <td>6</td>\n",
       "      <td>3</td>\n",
       "      <td>johnsonamanda</td>\n",
       "      <td>4</td>\n",
       "    </tr>\n",
       "    <tr>\n",
       "      <th>6</th>\n",
       "      <td>7</td>\n",
       "      <td>3</td>\n",
       "      <td>scotttamara</td>\n",
       "      <td>5</td>\n",
       "    </tr>\n",
       "    <tr>\n",
       "      <th>7</th>\n",
       "      <td>8</td>\n",
       "      <td>3</td>\n",
       "      <td>lesliegibbs</td>\n",
       "      <td>5</td>\n",
       "    </tr>\n",
       "    <tr>\n",
       "      <th>8</th>\n",
       "      <td>9</td>\n",
       "      <td>4</td>\n",
       "      <td>abbottjames</td>\n",
       "      <td>5</td>\n",
       "    </tr>\n",
       "    <tr>\n",
       "      <th>9</th>\n",
       "      <td>10</td>\n",
       "      <td>4</td>\n",
       "      <td>valenciaanne</td>\n",
       "      <td>4</td>\n",
       "    </tr>\n",
       "  </tbody>\n",
       "</table>\n",
       "</div>"
      ],
      "text/plain": [
       "   rating_id  book_id       username  rating\n",
       "0          1        1     ryanfranco       4\n",
       "1          2        1  grantpatricia       2\n",
       "2          3        1   brandtandrea       5\n",
       "3          4        2       lorichen       3\n",
       "4          5        2    mariokeller       2\n",
       "5          6        3  johnsonamanda       4\n",
       "6          7        3    scotttamara       5\n",
       "7          8        3    lesliegibbs       5\n",
       "8          9        4    abbottjames       5\n",
       "9         10        4   valenciaanne       4"
      ]
     },
     "execution_count": 5,
     "metadata": {},
     "output_type": "execute_result"
    }
   ],
   "source": [
    "sql_ratings = '''\n",
    "SELECT *\n",
    "FROM ratings\n",
    "LIMIT 10\n",
    "'''\n",
    "ratings = func(sql_ratings)\n",
    "ratings"
   ]
  },
  {
   "cell_type": "code",
   "execution_count": 6,
   "metadata": {},
   "outputs": [
    {
     "data": {
      "text/html": [
       "<div>\n",
       "<style scoped>\n",
       "    .dataframe tbody tr th:only-of-type {\n",
       "        vertical-align: middle;\n",
       "    }\n",
       "\n",
       "    .dataframe tbody tr th {\n",
       "        vertical-align: top;\n",
       "    }\n",
       "\n",
       "    .dataframe thead th {\n",
       "        text-align: right;\n",
       "    }\n",
       "</style>\n",
       "<table border=\"1\" class=\"dataframe\">\n",
       "  <thead>\n",
       "    <tr style=\"text-align: right;\">\n",
       "      <th></th>\n",
       "      <th>author_id</th>\n",
       "      <th>author</th>\n",
       "    </tr>\n",
       "  </thead>\n",
       "  <tbody>\n",
       "    <tr>\n",
       "      <th>0</th>\n",
       "      <td>1</td>\n",
       "      <td>A.S. Byatt</td>\n",
       "    </tr>\n",
       "    <tr>\n",
       "      <th>1</th>\n",
       "      <td>2</td>\n",
       "      <td>Aesop/Laura Harris/Laura Gibbs</td>\n",
       "    </tr>\n",
       "    <tr>\n",
       "      <th>2</th>\n",
       "      <td>3</td>\n",
       "      <td>Agatha Christie</td>\n",
       "    </tr>\n",
       "    <tr>\n",
       "      <th>3</th>\n",
       "      <td>4</td>\n",
       "      <td>Alan Brennert</td>\n",
       "    </tr>\n",
       "    <tr>\n",
       "      <th>4</th>\n",
       "      <td>5</td>\n",
       "      <td>Alan Moore/David   Lloyd</td>\n",
       "    </tr>\n",
       "    <tr>\n",
       "      <th>5</th>\n",
       "      <td>6</td>\n",
       "      <td>Alan Paton</td>\n",
       "    </tr>\n",
       "    <tr>\n",
       "      <th>6</th>\n",
       "      <td>7</td>\n",
       "      <td>Albert Camus/Justin O'Brien</td>\n",
       "    </tr>\n",
       "    <tr>\n",
       "      <th>7</th>\n",
       "      <td>8</td>\n",
       "      <td>Aldous Huxley</td>\n",
       "    </tr>\n",
       "    <tr>\n",
       "      <th>8</th>\n",
       "      <td>9</td>\n",
       "      <td>Aldous Huxley/Christopher Hitchens</td>\n",
       "    </tr>\n",
       "    <tr>\n",
       "      <th>9</th>\n",
       "      <td>10</td>\n",
       "      <td>Aleksandr Solzhenitsyn/H.T. Willetts</td>\n",
       "    </tr>\n",
       "  </tbody>\n",
       "</table>\n",
       "</div>"
      ],
      "text/plain": [
       "   author_id                                author\n",
       "0          1                            A.S. Byatt\n",
       "1          2        Aesop/Laura Harris/Laura Gibbs\n",
       "2          3                       Agatha Christie\n",
       "3          4                         Alan Brennert\n",
       "4          5              Alan Moore/David   Lloyd\n",
       "5          6                            Alan Paton\n",
       "6          7           Albert Camus/Justin O'Brien\n",
       "7          8                         Aldous Huxley\n",
       "8          9    Aldous Huxley/Christopher Hitchens\n",
       "9         10  Aleksandr Solzhenitsyn/H.T. Willetts"
      ]
     },
     "execution_count": 6,
     "metadata": {},
     "output_type": "execute_result"
    }
   ],
   "source": [
    "sql_authors = '''\n",
    "SELECT *\n",
    "FROM authors\n",
    "LIMIT 10\n",
    "'''\n",
    "authors = func(sql_authors)\n",
    "authors"
   ]
  },
  {
   "cell_type": "code",
   "execution_count": 7,
   "metadata": {},
   "outputs": [
    {
     "data": {
      "text/html": [
       "<div>\n",
       "<style scoped>\n",
       "    .dataframe tbody tr th:only-of-type {\n",
       "        vertical-align: middle;\n",
       "    }\n",
       "\n",
       "    .dataframe tbody tr th {\n",
       "        vertical-align: top;\n",
       "    }\n",
       "\n",
       "    .dataframe thead th {\n",
       "        text-align: right;\n",
       "    }\n",
       "</style>\n",
       "<table border=\"1\" class=\"dataframe\">\n",
       "  <thead>\n",
       "    <tr style=\"text-align: right;\">\n",
       "      <th></th>\n",
       "      <th>publisher_id</th>\n",
       "      <th>publisher</th>\n",
       "    </tr>\n",
       "  </thead>\n",
       "  <tbody>\n",
       "    <tr>\n",
       "      <th>0</th>\n",
       "      <td>1</td>\n",
       "      <td>Ace</td>\n",
       "    </tr>\n",
       "    <tr>\n",
       "      <th>1</th>\n",
       "      <td>2</td>\n",
       "      <td>Ace Book</td>\n",
       "    </tr>\n",
       "    <tr>\n",
       "      <th>2</th>\n",
       "      <td>3</td>\n",
       "      <td>Ace Books</td>\n",
       "    </tr>\n",
       "    <tr>\n",
       "      <th>3</th>\n",
       "      <td>4</td>\n",
       "      <td>Ace Hardcover</td>\n",
       "    </tr>\n",
       "    <tr>\n",
       "      <th>4</th>\n",
       "      <td>5</td>\n",
       "      <td>Addison Wesley Publishing Company</td>\n",
       "    </tr>\n",
       "    <tr>\n",
       "      <th>5</th>\n",
       "      <td>6</td>\n",
       "      <td>Aladdin</td>\n",
       "    </tr>\n",
       "    <tr>\n",
       "      <th>6</th>\n",
       "      <td>7</td>\n",
       "      <td>Aladdin Paperbacks</td>\n",
       "    </tr>\n",
       "    <tr>\n",
       "      <th>7</th>\n",
       "      <td>8</td>\n",
       "      <td>Albin Michel</td>\n",
       "    </tr>\n",
       "    <tr>\n",
       "      <th>8</th>\n",
       "      <td>9</td>\n",
       "      <td>Alfred A. Knopf</td>\n",
       "    </tr>\n",
       "    <tr>\n",
       "      <th>9</th>\n",
       "      <td>10</td>\n",
       "      <td>Alfred A. Knopf Books for Young Readers</td>\n",
       "    </tr>\n",
       "  </tbody>\n",
       "</table>\n",
       "</div>"
      ],
      "text/plain": [
       "   publisher_id                                publisher\n",
       "0             1                                      Ace\n",
       "1             2                                 Ace Book\n",
       "2             3                                Ace Books\n",
       "3             4                            Ace Hardcover\n",
       "4             5        Addison Wesley Publishing Company\n",
       "5             6                                  Aladdin\n",
       "6             7                       Aladdin Paperbacks\n",
       "7             8                             Albin Michel\n",
       "8             9                          Alfred A. Knopf\n",
       "9            10  Alfred A. Knopf Books for Young Readers"
      ]
     },
     "execution_count": 7,
     "metadata": {},
     "output_type": "execute_result"
    }
   ],
   "source": [
    "sql_publishers = '''\n",
    "SELECT *\n",
    "FROM publishers\n",
    "LIMIT 10\n",
    "'''\n",
    "publishers = func(sql_publishers)\n",
    "publishers"
   ]
  },
  {
   "cell_type": "code",
   "execution_count": 8,
   "metadata": {},
   "outputs": [
    {
     "data": {
      "text/html": [
       "<div>\n",
       "<style scoped>\n",
       "    .dataframe tbody tr th:only-of-type {\n",
       "        vertical-align: middle;\n",
       "    }\n",
       "\n",
       "    .dataframe tbody tr th {\n",
       "        vertical-align: top;\n",
       "    }\n",
       "\n",
       "    .dataframe thead th {\n",
       "        text-align: right;\n",
       "    }\n",
       "</style>\n",
       "<table border=\"1\" class=\"dataframe\">\n",
       "  <thead>\n",
       "    <tr style=\"text-align: right;\">\n",
       "      <th></th>\n",
       "      <th>review_id</th>\n",
       "      <th>book_id</th>\n",
       "      <th>username</th>\n",
       "      <th>text</th>\n",
       "    </tr>\n",
       "  </thead>\n",
       "  <tbody>\n",
       "    <tr>\n",
       "      <th>0</th>\n",
       "      <td>1</td>\n",
       "      <td>1</td>\n",
       "      <td>brandtandrea</td>\n",
       "      <td>Mention society tell send professor analysis. ...</td>\n",
       "    </tr>\n",
       "    <tr>\n",
       "      <th>1</th>\n",
       "      <td>2</td>\n",
       "      <td>1</td>\n",
       "      <td>ryanfranco</td>\n",
       "      <td>Foot glass pretty audience hit themselves. Amo...</td>\n",
       "    </tr>\n",
       "    <tr>\n",
       "      <th>2</th>\n",
       "      <td>3</td>\n",
       "      <td>2</td>\n",
       "      <td>lorichen</td>\n",
       "      <td>Listen treat keep worry. Miss husband tax but ...</td>\n",
       "    </tr>\n",
       "    <tr>\n",
       "      <th>3</th>\n",
       "      <td>4</td>\n",
       "      <td>3</td>\n",
       "      <td>johnsonamanda</td>\n",
       "      <td>Finally month interesting blue could nature cu...</td>\n",
       "    </tr>\n",
       "    <tr>\n",
       "      <th>4</th>\n",
       "      <td>5</td>\n",
       "      <td>3</td>\n",
       "      <td>scotttamara</td>\n",
       "      <td>Nation purpose heavy give wait song will. List...</td>\n",
       "    </tr>\n",
       "    <tr>\n",
       "      <th>5</th>\n",
       "      <td>6</td>\n",
       "      <td>3</td>\n",
       "      <td>lesliegibbs</td>\n",
       "      <td>Analysis no several cause international.</td>\n",
       "    </tr>\n",
       "    <tr>\n",
       "      <th>6</th>\n",
       "      <td>7</td>\n",
       "      <td>4</td>\n",
       "      <td>valenciaanne</td>\n",
       "      <td>One there cost another. Say type save. With pe...</td>\n",
       "    </tr>\n",
       "    <tr>\n",
       "      <th>7</th>\n",
       "      <td>8</td>\n",
       "      <td>4</td>\n",
       "      <td>abbottjames</td>\n",
       "      <td>Within enough mother. There at system full rec...</td>\n",
       "    </tr>\n",
       "    <tr>\n",
       "      <th>8</th>\n",
       "      <td>9</td>\n",
       "      <td>5</td>\n",
       "      <td>npowers</td>\n",
       "      <td>Thank now focus realize economy focus fly. Ite...</td>\n",
       "    </tr>\n",
       "    <tr>\n",
       "      <th>9</th>\n",
       "      <td>10</td>\n",
       "      <td>5</td>\n",
       "      <td>staylor</td>\n",
       "      <td>Game push lot reduce where remember. Including...</td>\n",
       "    </tr>\n",
       "  </tbody>\n",
       "</table>\n",
       "</div>"
      ],
      "text/plain": [
       "   review_id  book_id       username  \\\n",
       "0          1        1   brandtandrea   \n",
       "1          2        1     ryanfranco   \n",
       "2          3        2       lorichen   \n",
       "3          4        3  johnsonamanda   \n",
       "4          5        3    scotttamara   \n",
       "5          6        3    lesliegibbs   \n",
       "6          7        4   valenciaanne   \n",
       "7          8        4    abbottjames   \n",
       "8          9        5        npowers   \n",
       "9         10        5        staylor   \n",
       "\n",
       "                                                text  \n",
       "0  Mention society tell send professor analysis. ...  \n",
       "1  Foot glass pretty audience hit themselves. Amo...  \n",
       "2  Listen treat keep worry. Miss husband tax but ...  \n",
       "3  Finally month interesting blue could nature cu...  \n",
       "4  Nation purpose heavy give wait song will. List...  \n",
       "5           Analysis no several cause international.  \n",
       "6  One there cost another. Say type save. With pe...  \n",
       "7  Within enough mother. There at system full rec...  \n",
       "8  Thank now focus realize economy focus fly. Ite...  \n",
       "9  Game push lot reduce where remember. Including...  "
      ]
     },
     "execution_count": 8,
     "metadata": {},
     "output_type": "execute_result"
    }
   ],
   "source": [
    "sql_reviews = '''\n",
    "SELECT *\n",
    "FROM reviews\n",
    "LIMIT 10\n",
    "'''\n",
    "reviews = func(sql_reviews)\n",
    "reviews"
   ]
  },
  {
   "cell_type": "markdown",
   "metadata": {},
   "source": [
    "## Cколько книг вышло после 1 января 2000 года;"
   ]
  },
  {
   "cell_type": "code",
   "execution_count": 9,
   "metadata": {},
   "outputs": [
    {
     "data": {
      "text/html": [
       "<div>\n",
       "<style scoped>\n",
       "    .dataframe tbody tr th:only-of-type {\n",
       "        vertical-align: middle;\n",
       "    }\n",
       "\n",
       "    .dataframe tbody tr th {\n",
       "        vertical-align: top;\n",
       "    }\n",
       "\n",
       "    .dataframe thead th {\n",
       "        text-align: right;\n",
       "    }\n",
       "</style>\n",
       "<table border=\"1\" class=\"dataframe\">\n",
       "  <thead>\n",
       "    <tr style=\"text-align: right;\">\n",
       "      <th></th>\n",
       "      <th>count</th>\n",
       "    </tr>\n",
       "  </thead>\n",
       "  <tbody>\n",
       "    <tr>\n",
       "      <th>0</th>\n",
       "      <td>819</td>\n",
       "    </tr>\n",
       "  </tbody>\n",
       "</table>\n",
       "</div>"
      ],
      "text/plain": [
       "   count\n",
       "0    819"
      ]
     },
     "execution_count": 9,
     "metadata": {},
     "output_type": "execute_result"
    }
   ],
   "source": [
    "first_exercise = '''\n",
    "SELECT COUNT(book_id)\n",
    "FROM books\n",
    "WHERE publication_date > '2000-01-01'\n",
    "\n",
    "'''\n",
    "func(first_exercise)\n"
   ]
  },
  {
   "cell_type": "markdown",
   "metadata": {},
   "source": [
    "**Выводы:**\n",
    "После 1 января 2000 года вышло 819 новых книг"
   ]
  },
  {
   "cell_type": "markdown",
   "metadata": {},
   "source": [
    "## Количество обзоров и средняя оценка для каждой книги\n",
    "\n",
    "- Для каждой книги посчитайте количество обзоров и среднюю оценку;"
   ]
  },
  {
   "cell_type": "code",
   "execution_count": 14,
   "metadata": {},
   "outputs": [
    {
     "data": {
      "text/html": [
       "<div>\n",
       "<style scoped>\n",
       "    .dataframe tbody tr th:only-of-type {\n",
       "        vertical-align: middle;\n",
       "    }\n",
       "\n",
       "    .dataframe tbody tr th {\n",
       "        vertical-align: top;\n",
       "    }\n",
       "\n",
       "    .dataframe thead th {\n",
       "        text-align: right;\n",
       "    }\n",
       "</style>\n",
       "<table border=\"1\" class=\"dataframe\">\n",
       "  <thead>\n",
       "    <tr style=\"text-align: right;\">\n",
       "      <th></th>\n",
       "      <th>book_id</th>\n",
       "      <th>title</th>\n",
       "      <th>count</th>\n",
       "      <th>avg</th>\n",
       "    </tr>\n",
       "  </thead>\n",
       "  <tbody>\n",
       "    <tr>\n",
       "      <th>0</th>\n",
       "      <td>1</td>\n",
       "      <td>'Salem's Lot</td>\n",
       "      <td>2</td>\n",
       "      <td>3.666667</td>\n",
       "    </tr>\n",
       "    <tr>\n",
       "      <th>1</th>\n",
       "      <td>2</td>\n",
       "      <td>1 000 Places to See Before You Die</td>\n",
       "      <td>1</td>\n",
       "      <td>2.500000</td>\n",
       "    </tr>\n",
       "    <tr>\n",
       "      <th>2</th>\n",
       "      <td>3</td>\n",
       "      <td>13 Little Blue Envelopes (Little Blue Envelope...</td>\n",
       "      <td>3</td>\n",
       "      <td>4.666667</td>\n",
       "    </tr>\n",
       "    <tr>\n",
       "      <th>3</th>\n",
       "      <td>4</td>\n",
       "      <td>1491: New Revelations of the Americas Before C...</td>\n",
       "      <td>2</td>\n",
       "      <td>4.500000</td>\n",
       "    </tr>\n",
       "    <tr>\n",
       "      <th>4</th>\n",
       "      <td>5</td>\n",
       "      <td>1776</td>\n",
       "      <td>4</td>\n",
       "      <td>4.000000</td>\n",
       "    </tr>\n",
       "    <tr>\n",
       "      <th>...</th>\n",
       "      <td>...</td>\n",
       "      <td>...</td>\n",
       "      <td>...</td>\n",
       "      <td>...</td>\n",
       "    </tr>\n",
       "    <tr>\n",
       "      <th>995</th>\n",
       "      <td>996</td>\n",
       "      <td>Wyrd Sisters (Discworld  #6; Witches #2)</td>\n",
       "      <td>3</td>\n",
       "      <td>3.666667</td>\n",
       "    </tr>\n",
       "    <tr>\n",
       "      <th>996</th>\n",
       "      <td>997</td>\n",
       "      <td>Xenocide (Ender's Saga  #3)</td>\n",
       "      <td>3</td>\n",
       "      <td>3.400000</td>\n",
       "    </tr>\n",
       "    <tr>\n",
       "      <th>997</th>\n",
       "      <td>998</td>\n",
       "      <td>Year of Wonders</td>\n",
       "      <td>4</td>\n",
       "      <td>3.200000</td>\n",
       "    </tr>\n",
       "    <tr>\n",
       "      <th>998</th>\n",
       "      <td>999</td>\n",
       "      <td>You Suck (A Love Story  #2)</td>\n",
       "      <td>2</td>\n",
       "      <td>4.500000</td>\n",
       "    </tr>\n",
       "    <tr>\n",
       "      <th>999</th>\n",
       "      <td>1000</td>\n",
       "      <td>Zen and the Art of Motorcycle Maintenance: An ...</td>\n",
       "      <td>4</td>\n",
       "      <td>3.833333</td>\n",
       "    </tr>\n",
       "  </tbody>\n",
       "</table>\n",
       "<p>1000 rows × 4 columns</p>\n",
       "</div>"
      ],
      "text/plain": [
       "     book_id                                              title  count  \\\n",
       "0          1                                       'Salem's Lot      2   \n",
       "1          2                 1 000 Places to See Before You Die      1   \n",
       "2          3  13 Little Blue Envelopes (Little Blue Envelope...      3   \n",
       "3          4  1491: New Revelations of the Americas Before C...      2   \n",
       "4          5                                               1776      4   \n",
       "..       ...                                                ...    ...   \n",
       "995      996           Wyrd Sisters (Discworld  #6; Witches #2)      3   \n",
       "996      997                        Xenocide (Ender's Saga  #3)      3   \n",
       "997      998                                    Year of Wonders      4   \n",
       "998      999                        You Suck (A Love Story  #2)      2   \n",
       "999     1000  Zen and the Art of Motorcycle Maintenance: An ...      4   \n",
       "\n",
       "          avg  \n",
       "0    3.666667  \n",
       "1    2.500000  \n",
       "2    4.666667  \n",
       "3    4.500000  \n",
       "4    4.000000  \n",
       "..        ...  \n",
       "995  3.666667  \n",
       "996  3.400000  \n",
       "997  3.200000  \n",
       "998  4.500000  \n",
       "999  3.833333  \n",
       "\n",
       "[1000 rows x 4 columns]"
      ]
     },
     "execution_count": 14,
     "metadata": {},
     "output_type": "execute_result"
    }
   ],
   "source": [
    "second_exercise = '''\n",
    "SELECT  b.book_id,\n",
    "        b.title,\n",
    "        COUNT(DISTINCT(rev.review_id)),\n",
    "        AVG(rating)\n",
    "FROM books AS b\n",
    "LEFT OUTER JOIN reviews AS rev ON b.book_id = rev.book_id\n",
    "LEFT OUTER JOIN ratings AS r ON b.book_id = r.book_id\n",
    "GROUP BY b.book_id\n",
    "\n",
    "'''\n",
    "func(second_exercise)\n"
   ]
  },
  {
   "cell_type": "markdown",
   "metadata": {},
   "source": []
  },
  {
   "cell_type": "markdown",
   "metadata": {},
   "source": [
    "**Выводы:**\n",
    "\n",
    "Сформировали таблицу, в которой содержатся:\n",
    "- Количество обзоров\n",
    "- Средний рейтинг\n",
    "Для каждой книги.\n",
    "Анализ информации из данной таблицы может содержать множество идей для формирования ценностного предложения.\n",
    "Для нашего сервиса было бы полезно изучить его более подробно."
   ]
  },
  {
   "cell_type": "markdown",
   "metadata": {},
   "source": [
    "## Издательство, которое выпустило наибольшее число книг толще 50 страниц \n",
    "— так вы исключите из анализа брошюры;"
   ]
  },
  {
   "cell_type": "code",
   "execution_count": 11,
   "metadata": {},
   "outputs": [
    {
     "data": {
      "text/html": [
       "<div>\n",
       "<style scoped>\n",
       "    .dataframe tbody tr th:only-of-type {\n",
       "        vertical-align: middle;\n",
       "    }\n",
       "\n",
       "    .dataframe tbody tr th {\n",
       "        vertical-align: top;\n",
       "    }\n",
       "\n",
       "    .dataframe thead th {\n",
       "        text-align: right;\n",
       "    }\n",
       "</style>\n",
       "<table border=\"1\" class=\"dataframe\">\n",
       "  <thead>\n",
       "    <tr style=\"text-align: right;\">\n",
       "      <th></th>\n",
       "      <th>publisher</th>\n",
       "      <th>cnt</th>\n",
       "    </tr>\n",
       "  </thead>\n",
       "  <tbody>\n",
       "    <tr>\n",
       "      <th>0</th>\n",
       "      <td>Penguin Books</td>\n",
       "      <td>42</td>\n",
       "    </tr>\n",
       "  </tbody>\n",
       "</table>\n",
       "</div>"
      ],
      "text/plain": [
       "       publisher  cnt\n",
       "0  Penguin Books   42"
      ]
     },
     "execution_count": 11,
     "metadata": {},
     "output_type": "execute_result"
    }
   ],
   "source": [
    "third_exercise = '''\n",
    "SELECT \n",
    "        p.publisher,\n",
    "        COUNT((p.publisher_id)) AS cnt\n",
    "FROM books AS b\n",
    "LEFT OUTER JOIN publishers AS p ON b.publisher_id = p.publisher_id\n",
    "WHERE b.num_pages > 50\n",
    "GROUP BY b.publisher_id, p.publisher\n",
    "ORDER BY cnt DESC\n",
    "LIMIT 1\n",
    "'''\n",
    "func(third_exercise)\n"
   ]
  },
  {
   "cell_type": "markdown",
   "metadata": {},
   "source": [
    "**Вывод:**\n",
    " - Издательство, которое выпустило наибольшее число книг, которые толще 50 страниц - \"Penguin Books\""
   ]
  },
  {
   "cell_type": "markdown",
   "metadata": {},
   "source": [
    "## Автор с самой высокой средней оценкой книг\n",
    "— учитывайте только книги с 50 и более оценками;"
   ]
  },
  {
   "cell_type": "code",
   "execution_count": 12,
   "metadata": {},
   "outputs": [
    {
     "data": {
      "text/html": [
       "<div>\n",
       "<style scoped>\n",
       "    .dataframe tbody tr th:only-of-type {\n",
       "        vertical-align: middle;\n",
       "    }\n",
       "\n",
       "    .dataframe tbody tr th {\n",
       "        vertical-align: top;\n",
       "    }\n",
       "\n",
       "    .dataframe thead th {\n",
       "        text-align: right;\n",
       "    }\n",
       "</style>\n",
       "<table border=\"1\" class=\"dataframe\">\n",
       "  <thead>\n",
       "    <tr style=\"text-align: right;\">\n",
       "      <th></th>\n",
       "      <th>author</th>\n",
       "      <th>round</th>\n",
       "    </tr>\n",
       "  </thead>\n",
       "  <tbody>\n",
       "    <tr>\n",
       "      <th>0</th>\n",
       "      <td>J.K. Rowling/Mary GrandPré</td>\n",
       "      <td>4.28</td>\n",
       "    </tr>\n",
       "  </tbody>\n",
       "</table>\n",
       "</div>"
      ],
      "text/plain": [
       "                       author  round\n",
       "0  J.K. Rowling/Mary GrandPré   4.28"
      ]
     },
     "execution_count": 12,
     "metadata": {},
     "output_type": "execute_result"
    }
   ],
   "source": [
    "fourth_exercise = '''\n",
    "\n",
    "WITH books_avg_rat AS (SELECT books.book_id,\n",
    "                              AVG(ratings.rating) AS rat\n",
    "                       FROM books\n",
    "                       LEFT OUTER JOIN ratings ON books.book_id = ratings.book_id\n",
    "                       GROUP BY books.book_id\n",
    "                       HAVING COUNT(ratings.book_id) >= 50)\n",
    "\n",
    "SELECT  authors.author,\n",
    "        ROUND(AVG(books_avg_rat.rat),2)\n",
    "FROM books_avg_rat \n",
    "LEFT OUTER JOIN books ON books_avg_rat.book_id = books.book_id\n",
    "LEFT OUTER JOIN authors ON books.author_id = authors.author_id\n",
    "GROUP BY authors.author\n",
    "LIMIT 1\n",
    "'''\n",
    "func(fourth_exercise)"
   ]
  },
  {
   "cell_type": "markdown",
   "metadata": {},
   "source": [
    "**Вывод:**\n",
    "\n",
    "- Автор с самой высокой средней оценкой книг: 'J.K. Rowling/Mary GrandPré\t'\\\n",
    "- Средняя оценка книг этого автора составила: '4.28'"
   ]
  },
  {
   "cell_type": "markdown",
   "metadata": {},
   "source": [
    "## Среднее количество обзоров от пользователей, которые поставили больше 48 оценок."
   ]
  },
  {
   "cell_type": "code",
   "execution_count": 13,
   "metadata": {
    "scrolled": false
   },
   "outputs": [
    {
     "data": {
      "text/html": [
       "<div>\n",
       "<style scoped>\n",
       "    .dataframe tbody tr th:only-of-type {\n",
       "        vertical-align: middle;\n",
       "    }\n",
       "\n",
       "    .dataframe tbody tr th {\n",
       "        vertical-align: top;\n",
       "    }\n",
       "\n",
       "    .dataframe thead th {\n",
       "        text-align: right;\n",
       "    }\n",
       "</style>\n",
       "<table border=\"1\" class=\"dataframe\">\n",
       "  <thead>\n",
       "    <tr style=\"text-align: right;\">\n",
       "      <th></th>\n",
       "      <th>avg</th>\n",
       "    </tr>\n",
       "  </thead>\n",
       "  <tbody>\n",
       "    <tr>\n",
       "      <th>0</th>\n",
       "      <td>24.0</td>\n",
       "    </tr>\n",
       "  </tbody>\n",
       "</table>\n",
       "</div>"
      ],
      "text/plain": [
       "    avg\n",
       "0  24.0"
      ]
     },
     "execution_count": 13,
     "metadata": {},
     "output_type": "execute_result"
    }
   ],
   "source": [
    "fifth_exercise = '''\n",
    "\n",
    "WITH pop_users AS (SELECT username,\n",
    "                          COUNT(ratings.rating)\n",
    "                              \n",
    "                   FROM ratings\n",
    "                   GROUP BY username\n",
    "                   HAVING COUNT(ratings.rating) > 48)\n",
    "                   \n",
    "SELECT AVG(t.cnt)\n",
    "FROM (SELECT  pop_users.username, \n",
    "      COUNT(review_id) AS cnt\n",
    "FROM reviews\n",
    "INNER JOIN pop_users ON reviews.username = pop_users.username\n",
    "GROUP BY pop_users.username) AS t\n",
    "'''\n",
    "func(fifth_exercise)"
   ]
  },
  {
   "cell_type": "markdown",
   "metadata": {},
   "source": [
    "**Вывод:**\n",
    "В среднем, на одного заинтересованного пользователя (который поставил более 48 оценок), приходится по 24 обзора. "
   ]
  },
  {
   "cell_type": "markdown",
   "metadata": {},
   "source": [
    "## Итоги"
   ]
  },
  {
   "cell_type": "markdown",
   "metadata": {},
   "source": [
    "- После 1 января 2000 года вышло 819 новых книг.\n",
    "\n",
    "- Сформировали таблицу, в которой содержатся:\n",
    "\n",
    "Количество обзоров и средний рейтинг Для каждой книги.\\\n",
    "Анализ информации из данной таблицы может содержать множество идей для формирования ценностного предложения. Для нашего сервиса было бы полезно изучить его более подробно.\n",
    "\n",
    "- Издательство, которое выпустило наибольшее число книг, которые толще 50 страниц - \"Penguin Books\"\n",
    "\n",
    "- Автор с самой высокой средней оценкой книг: 'J.K. Rowling/Mary GrandPré\t'\n",
    "- Средняя оценка книг этого автора составила: '4.28'\n",
    "-  В среднем, на одного заинтересованного пользователя (который поставил более 48 оценок), приходится по 24 обзора."
   ]
  }
 ],
 "metadata": {
  "ExecuteTimeLog": [
   {
    "duration": 119,
    "start_time": "2023-10-23T13:04:41.186Z"
   },
   {
    "duration": 48,
    "start_time": "2023-10-23T13:05:08.577Z"
   },
   {
    "duration": 9,
    "start_time": "2023-10-23T13:05:42.550Z"
   },
   {
    "duration": 4,
    "start_time": "2023-10-23T13:06:29.037Z"
   },
   {
    "duration": 11177,
    "start_time": "2023-10-23T13:09:41.699Z"
   },
   {
    "duration": 3,
    "start_time": "2023-10-23T13:15:46.778Z"
   },
   {
    "duration": 181,
    "start_time": "2023-10-23T13:18:04.779Z"
   },
   {
    "duration": 70,
    "start_time": "2023-10-23T13:18:42.678Z"
   },
   {
    "duration": 75,
    "start_time": "2023-10-23T13:18:53.526Z"
   },
   {
    "duration": 76,
    "start_time": "2023-10-23T13:24:44.418Z"
   },
   {
    "duration": 194,
    "start_time": "2023-10-23T13:24:51.358Z"
   },
   {
    "duration": 101,
    "start_time": "2023-10-23T13:25:34.069Z"
   },
   {
    "duration": 72,
    "start_time": "2023-10-23T13:26:29.197Z"
   },
   {
    "duration": 73,
    "start_time": "2023-10-23T13:26:49.808Z"
   },
   {
    "duration": 72,
    "start_time": "2023-10-23T13:27:36.117Z"
   },
   {
    "duration": 75,
    "start_time": "2023-10-23T13:54:31.945Z"
   },
   {
    "duration": 75,
    "start_time": "2023-10-23T13:55:06.940Z"
   },
   {
    "duration": 73,
    "start_time": "2023-10-23T13:55:09.511Z"
   },
   {
    "duration": 74,
    "start_time": "2023-10-23T14:15:42.217Z"
   },
   {
    "duration": 90,
    "start_time": "2023-10-23T14:22:58.600Z"
   },
   {
    "duration": 89,
    "start_time": "2023-10-23T14:23:54.580Z"
   },
   {
    "duration": 50,
    "start_time": "2023-10-24T08:49:51.232Z"
   },
   {
    "duration": 14,
    "start_time": "2023-10-24T08:49:59.752Z"
   },
   {
    "duration": 12961,
    "start_time": "2023-10-24T08:49:59.768Z"
   },
   {
    "duration": 3,
    "start_time": "2023-10-24T08:50:12.730Z"
   },
   {
    "duration": 69,
    "start_time": "2023-10-24T08:50:12.735Z"
   },
   {
    "duration": 15,
    "start_time": "2023-10-24T08:50:12.806Z"
   },
   {
    "duration": 16,
    "start_time": "2023-10-24T08:50:12.823Z"
   },
   {
    "duration": 36,
    "start_time": "2023-10-24T08:50:12.841Z"
   },
   {
    "duration": 201,
    "start_time": "2023-10-24T08:50:12.879Z"
   },
   {
    "duration": 0,
    "start_time": "2023-10-24T08:50:13.082Z"
   },
   {
    "duration": 227,
    "start_time": "2023-10-24T09:02:59.272Z"
   },
   {
    "duration": 14,
    "start_time": "2023-10-24T09:06:18.772Z"
   },
   {
    "duration": 11555,
    "start_time": "2023-10-24T09:06:18.788Z"
   },
   {
    "duration": 4,
    "start_time": "2023-10-24T09:06:30.345Z"
   },
   {
    "duration": 71,
    "start_time": "2023-10-24T09:06:30.350Z"
   },
   {
    "duration": 67,
    "start_time": "2023-10-24T09:06:30.425Z"
   },
   {
    "duration": 14,
    "start_time": "2023-10-24T09:06:30.495Z"
   },
   {
    "duration": 74,
    "start_time": "2023-10-24T09:06:30.511Z"
   },
   {
    "duration": 839,
    "start_time": "2023-10-24T09:06:30.588Z"
   },
   {
    "duration": 0,
    "start_time": "2023-10-24T09:06:31.429Z"
   },
   {
    "duration": 15,
    "start_time": "2023-10-24T09:07:44.192Z"
   },
   {
    "duration": 19,
    "start_time": "2023-10-24T09:42:24.322Z"
   },
   {
    "duration": 146,
    "start_time": "2023-10-24T09:44:46.342Z"
   },
   {
    "duration": 14,
    "start_time": "2023-10-24T09:44:55.262Z"
   },
   {
    "duration": 145,
    "start_time": "2023-10-24T09:57:14.188Z"
   },
   {
    "duration": 286,
    "start_time": "2023-10-24T10:01:36.200Z"
   },
   {
    "duration": 32,
    "start_time": "2023-10-24T10:01:45.043Z"
   },
   {
    "duration": 1154,
    "start_time": "2023-10-24T10:03:00.849Z"
   },
   {
    "duration": 177,
    "start_time": "2023-10-24T10:03:21.678Z"
   },
   {
    "duration": 32,
    "start_time": "2023-10-24T10:03:35.069Z"
   },
   {
    "duration": 33,
    "start_time": "2023-10-24T10:05:20.322Z"
   },
   {
    "duration": 34,
    "start_time": "2023-10-24T10:06:20.549Z"
   },
   {
    "duration": 34,
    "start_time": "2023-10-24T10:14:33.169Z"
   },
   {
    "duration": 16,
    "start_time": "2023-10-24T10:16:23.030Z"
   },
   {
    "duration": 409,
    "start_time": "2023-10-24T10:19:10.420Z"
   },
   {
    "duration": 124,
    "start_time": "2023-10-24T10:19:48.010Z"
   },
   {
    "duration": 114,
    "start_time": "2023-10-24T10:20:16.519Z"
   },
   {
    "duration": 20,
    "start_time": "2023-10-24T10:20:32.177Z"
   },
   {
    "duration": 33,
    "start_time": "2023-10-24T10:21:01.509Z"
   },
   {
    "duration": 21,
    "start_time": "2023-10-24T10:21:09.217Z"
   },
   {
    "duration": 18,
    "start_time": "2023-10-24T10:22:13.251Z"
   },
   {
    "duration": 18,
    "start_time": "2023-10-24T10:22:18.438Z"
   },
   {
    "duration": 18,
    "start_time": "2023-10-24T10:22:24.098Z"
   },
   {
    "duration": 23,
    "start_time": "2023-10-24T10:22:38.972Z"
   },
   {
    "duration": 19,
    "start_time": "2023-10-24T10:23:27.889Z"
   },
   {
    "duration": 19,
    "start_time": "2023-10-24T10:30:02.278Z"
   },
   {
    "duration": 17,
    "start_time": "2023-10-24T10:30:13.189Z"
   },
   {
    "duration": 232,
    "start_time": "2023-10-24T10:30:22.492Z"
   },
   {
    "duration": 18,
    "start_time": "2023-10-24T10:30:30.050Z"
   },
   {
    "duration": 17,
    "start_time": "2023-10-24T10:30:44.430Z"
   },
   {
    "duration": 18,
    "start_time": "2023-10-24T10:30:54.375Z"
   },
   {
    "duration": 17,
    "start_time": "2023-10-24T10:31:16.982Z"
   },
   {
    "duration": 15,
    "start_time": "2023-10-24T10:31:27.331Z"
   },
   {
    "duration": 14,
    "start_time": "2023-10-24T10:38:29.590Z"
   },
   {
    "duration": 231,
    "start_time": "2023-10-24T10:42:58.142Z"
   },
   {
    "duration": 113,
    "start_time": "2023-10-24T10:43:19.063Z"
   },
   {
    "duration": 111,
    "start_time": "2023-10-24T10:43:32.204Z"
   },
   {
    "duration": 23,
    "start_time": "2023-10-24T10:43:49.931Z"
   },
   {
    "duration": 26,
    "start_time": "2023-10-24T10:44:33.383Z"
   },
   {
    "duration": 25,
    "start_time": "2023-10-24T10:45:20.011Z"
   },
   {
    "duration": 27,
    "start_time": "2023-10-24T10:45:52.970Z"
   },
   {
    "duration": 35,
    "start_time": "2023-10-24T10:46:06.750Z"
   },
   {
    "duration": 27,
    "start_time": "2023-10-24T10:46:12.891Z"
   },
   {
    "duration": 26,
    "start_time": "2023-10-24T10:47:00.711Z"
   },
   {
    "duration": 77,
    "start_time": "2023-10-24T10:47:26.590Z"
   },
   {
    "duration": 27,
    "start_time": "2023-10-24T10:47:37.762Z"
   },
   {
    "duration": 51,
    "start_time": "2023-10-24T13:48:07.654Z"
   },
   {
    "duration": 12,
    "start_time": "2023-10-24T13:48:17.382Z"
   },
   {
    "duration": 9974,
    "start_time": "2023-10-24T13:48:17.396Z"
   },
   {
    "duration": 3,
    "start_time": "2023-10-24T13:48:27.371Z"
   },
   {
    "duration": 187,
    "start_time": "2023-10-24T13:48:27.375Z"
   },
   {
    "duration": 75,
    "start_time": "2023-10-24T13:48:27.564Z"
   },
   {
    "duration": 73,
    "start_time": "2023-10-24T13:48:27.640Z"
   },
   {
    "duration": 73,
    "start_time": "2023-10-24T13:48:27.715Z"
   },
   {
    "duration": 73,
    "start_time": "2023-10-24T13:48:27.790Z"
   },
   {
    "duration": 72,
    "start_time": "2023-10-24T13:48:27.865Z"
   },
   {
    "duration": 105,
    "start_time": "2023-10-24T13:48:27.939Z"
   },
   {
    "duration": 73,
    "start_time": "2023-10-24T13:48:28.046Z"
   },
   {
    "duration": 249,
    "start_time": "2023-10-24T13:48:28.121Z"
   },
   {
    "duration": 166,
    "start_time": "2023-10-24T13:53:48.892Z"
   },
   {
    "duration": 167,
    "start_time": "2023-10-24T13:54:09.451Z"
   },
   {
    "duration": 97,
    "start_time": "2023-10-24T13:54:23.321Z"
   },
   {
    "duration": 168,
    "start_time": "2023-10-24T14:08:25.856Z"
   },
   {
    "duration": 81,
    "start_time": "2023-10-24T14:29:28.781Z"
   },
   {
    "duration": 386,
    "start_time": "2023-10-24T14:30:01.381Z"
   },
   {
    "duration": 206,
    "start_time": "2023-10-24T14:31:52.391Z"
   },
   {
    "duration": 184,
    "start_time": "2023-10-24T14:32:13.968Z"
   },
   {
    "duration": 203,
    "start_time": "2023-10-24T14:33:11.471Z"
   },
   {
    "duration": 78,
    "start_time": "2023-10-24T14:33:42.848Z"
   },
   {
    "duration": 160,
    "start_time": "2023-10-24T14:36:38.943Z"
   },
   {
    "duration": 162,
    "start_time": "2023-10-24T14:38:58.472Z"
   },
   {
    "duration": 167,
    "start_time": "2023-10-24T14:39:20.121Z"
   },
   {
    "duration": 161,
    "start_time": "2023-10-24T14:39:41.252Z"
   },
   {
    "duration": 162,
    "start_time": "2023-10-24T14:39:59.268Z"
   },
   {
    "duration": 192,
    "start_time": "2023-10-24T14:40:11.911Z"
   },
   {
    "duration": 153,
    "start_time": "2023-10-24T14:40:31.079Z"
   },
   {
    "duration": 157,
    "start_time": "2023-10-24T14:40:40.751Z"
   },
   {
    "duration": 172,
    "start_time": "2023-10-24T14:40:57.832Z"
   },
   {
    "duration": 172,
    "start_time": "2023-10-24T14:41:04.673Z"
   },
   {
    "duration": 165,
    "start_time": "2023-10-24T14:41:23.012Z"
   },
   {
    "duration": 160,
    "start_time": "2023-10-24T14:52:43.233Z"
   },
   {
    "duration": 159,
    "start_time": "2023-10-24T14:52:46.340Z"
   },
   {
    "duration": 157,
    "start_time": "2023-10-24T14:52:55.589Z"
   },
   {
    "duration": 160,
    "start_time": "2023-10-24T14:53:21.991Z"
   },
   {
    "duration": 165,
    "start_time": "2023-10-24T14:53:37.632Z"
   },
   {
    "duration": 172,
    "start_time": "2023-10-24T14:53:56.851Z"
   },
   {
    "duration": 91,
    "start_time": "2023-10-24T14:54:24.732Z"
   },
   {
    "duration": 180,
    "start_time": "2023-10-24T14:55:44.872Z"
   },
   {
    "duration": 159,
    "start_time": "2023-10-24T14:55:57.333Z"
   },
   {
    "duration": 226,
    "start_time": "2023-10-24T15:03:47.091Z"
   },
   {
    "duration": 78,
    "start_time": "2023-10-24T15:06:50.899Z"
   },
   {
    "duration": 179,
    "start_time": "2023-10-24T15:12:31.639Z"
   },
   {
    "duration": 171,
    "start_time": "2023-10-24T15:13:36.811Z"
   },
   {
    "duration": 173,
    "start_time": "2023-10-24T15:15:38.751Z"
   },
   {
    "duration": 227,
    "start_time": "2023-10-24T15:15:48.252Z"
   },
   {
    "duration": 173,
    "start_time": "2023-10-24T15:18:11.400Z"
   },
   {
    "duration": 209,
    "start_time": "2023-10-24T15:25:11.230Z"
   },
   {
    "duration": 77,
    "start_time": "2023-10-24T15:25:29.673Z"
   },
   {
    "duration": 77,
    "start_time": "2023-10-24T15:27:47.172Z"
   },
   {
    "duration": 77,
    "start_time": "2023-10-24T15:28:24.132Z"
   },
   {
    "duration": 76,
    "start_time": "2023-10-24T15:28:43.951Z"
   },
   {
    "duration": 76,
    "start_time": "2023-10-24T15:28:52.971Z"
   },
   {
    "duration": 106,
    "start_time": "2023-10-24T15:29:01.752Z"
   },
   {
    "duration": 73,
    "start_time": "2023-10-24T15:29:09.851Z"
   },
   {
    "duration": 79,
    "start_time": "2023-10-24T15:35:07.169Z"
   },
   {
    "duration": 163,
    "start_time": "2023-10-24T15:35:20.449Z"
   },
   {
    "duration": 212,
    "start_time": "2023-10-24T15:36:11.509Z"
   },
   {
    "duration": 178,
    "start_time": "2023-10-24T15:36:54.710Z"
   },
   {
    "duration": 75,
    "start_time": "2023-10-24T15:37:04.066Z"
   },
   {
    "duration": 75,
    "start_time": "2023-10-24T15:37:17.789Z"
   },
   {
    "duration": 159,
    "start_time": "2023-10-24T15:49:05.510Z"
   },
   {
    "duration": 164,
    "start_time": "2023-10-24T15:49:15.288Z"
   },
   {
    "duration": 77,
    "start_time": "2023-10-24T15:50:27.253Z"
   },
   {
    "duration": 158,
    "start_time": "2023-10-24T15:52:48.416Z"
   },
   {
    "duration": 164,
    "start_time": "2023-10-24T15:53:32.536Z"
   },
   {
    "duration": 170,
    "start_time": "2023-10-24T15:53:38.450Z"
   },
   {
    "duration": 81,
    "start_time": "2023-10-24T15:53:58.508Z"
   },
   {
    "duration": 164,
    "start_time": "2023-10-24T15:55:25.416Z"
   },
   {
    "duration": 166,
    "start_time": "2023-10-24T15:55:32.768Z"
   },
   {
    "duration": 186,
    "start_time": "2023-10-24T15:56:51.714Z"
   },
   {
    "duration": 228,
    "start_time": "2023-10-24T15:57:07.067Z"
   },
   {
    "duration": 174,
    "start_time": "2023-10-24T15:57:27.848Z"
   },
   {
    "duration": 290,
    "start_time": "2023-10-24T16:15:11.011Z"
   },
   {
    "duration": 254,
    "start_time": "2023-10-24T16:15:24.700Z"
   },
   {
    "duration": 76,
    "start_time": "2023-10-24T16:16:09.719Z"
   },
   {
    "duration": 77,
    "start_time": "2023-10-24T16:16:25.723Z"
   },
   {
    "duration": 76,
    "start_time": "2023-10-24T16:16:38.991Z"
   },
   {
    "duration": 76,
    "start_time": "2023-10-24T16:17:03.340Z"
   },
   {
    "duration": 15,
    "start_time": "2023-10-24T16:17:10.736Z"
   },
   {
    "duration": 10191,
    "start_time": "2023-10-24T16:17:10.753Z"
   },
   {
    "duration": 3,
    "start_time": "2023-10-24T16:17:20.945Z"
   },
   {
    "duration": 176,
    "start_time": "2023-10-24T16:17:20.949Z"
   },
   {
    "duration": 74,
    "start_time": "2023-10-24T16:17:21.128Z"
   },
   {
    "duration": 72,
    "start_time": "2023-10-24T16:17:21.204Z"
   },
   {
    "duration": 72,
    "start_time": "2023-10-24T16:17:21.278Z"
   },
   {
    "duration": 73,
    "start_time": "2023-10-24T16:17:21.351Z"
   },
   {
    "duration": 70,
    "start_time": "2023-10-24T16:17:21.427Z"
   },
   {
    "duration": 104,
    "start_time": "2023-10-24T16:17:21.499Z"
   },
   {
    "duration": 73,
    "start_time": "2023-10-24T16:17:21.605Z"
   },
   {
    "duration": 77,
    "start_time": "2023-10-24T16:17:21.679Z"
   },
   {
    "duration": 76,
    "start_time": "2023-10-24T16:17:21.758Z"
   },
   {
    "duration": 12,
    "start_time": "2023-10-24T16:32:35.149Z"
   },
   {
    "duration": 13264,
    "start_time": "2023-10-24T16:32:35.163Z"
   },
   {
    "duration": 3,
    "start_time": "2023-10-24T16:32:48.428Z"
   },
   {
    "duration": 152,
    "start_time": "2023-10-24T16:32:48.432Z"
   },
   {
    "duration": 72,
    "start_time": "2023-10-24T16:32:48.586Z"
   },
   {
    "duration": 71,
    "start_time": "2023-10-24T16:32:48.660Z"
   },
   {
    "duration": 71,
    "start_time": "2023-10-24T16:32:48.733Z"
   },
   {
    "duration": 74,
    "start_time": "2023-10-24T16:32:48.806Z"
   },
   {
    "duration": 71,
    "start_time": "2023-10-24T16:32:48.882Z"
   },
   {
    "duration": 105,
    "start_time": "2023-10-24T16:32:48.954Z"
   },
   {
    "duration": 73,
    "start_time": "2023-10-24T16:32:49.061Z"
   },
   {
    "duration": 77,
    "start_time": "2023-10-24T16:32:49.136Z"
   },
   {
    "duration": 75,
    "start_time": "2023-10-24T16:32:49.217Z"
   },
   {
    "duration": 81,
    "start_time": "2023-10-24T16:36:38.151Z"
   },
   {
    "duration": 15,
    "start_time": "2023-10-24T20:05:53.476Z"
   },
   {
    "duration": 10000,
    "start_time": "2023-10-24T20:05:53.494Z"
   },
   {
    "duration": 3,
    "start_time": "2023-10-24T20:06:03.496Z"
   },
   {
    "duration": 196,
    "start_time": "2023-10-24T20:06:03.501Z"
   },
   {
    "duration": 84,
    "start_time": "2023-10-24T20:06:03.699Z"
   },
   {
    "duration": 81,
    "start_time": "2023-10-24T20:06:03.786Z"
   },
   {
    "duration": 87,
    "start_time": "2023-10-24T20:06:03.869Z"
   },
   {
    "duration": 89,
    "start_time": "2023-10-24T20:06:03.958Z"
   },
   {
    "duration": 87,
    "start_time": "2023-10-24T20:06:04.049Z"
   },
   {
    "duration": 89,
    "start_time": "2023-10-24T20:06:04.143Z"
   },
   {
    "duration": 83,
    "start_time": "2023-10-24T20:06:04.237Z"
   },
   {
    "duration": 335,
    "start_time": "2023-10-24T20:06:04.323Z"
   },
   {
    "duration": 348,
    "start_time": "2023-10-24T20:06:04.659Z"
   },
   {
    "duration": 124,
    "start_time": "2023-10-24T20:08:00.413Z"
   }
  ],
  "kernelspec": {
   "display_name": "Python 3 (ipykernel)",
   "language": "python",
   "name": "python3"
  },
  "language_info": {
   "codemirror_mode": {
    "name": "ipython",
    "version": 3
   },
   "file_extension": ".py",
   "mimetype": "text/x-python",
   "name": "python",
   "nbconvert_exporter": "python",
   "pygments_lexer": "ipython3",
   "version": "3.11.5"
  },
  "toc": {
   "base_numbering": 1,
   "nav_menu": {},
   "number_sections": true,
   "sideBar": true,
   "skip_h1_title": true,
   "title_cell": "Table of Contents",
   "title_sidebar": "Contents",
   "toc_cell": false,
   "toc_position": {
    "height": "calc(100% - 180px)",
    "left": "10px",
    "top": "150px",
    "width": "361.391px"
   },
   "toc_section_display": true,
   "toc_window_display": true
  }
 },
 "nbformat": 4,
 "nbformat_minor": 2
}
